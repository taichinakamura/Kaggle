{
 "cells": [
  {
   "cell_type": "markdown",
   "metadata": {
    "papermill": {
     "duration": 0.019986,
     "end_time": "2020-10-14T12:01:22.415737",
     "exception": false,
     "start_time": "2020-10-14T12:01:22.395751",
     "status": "completed"
    },
    "tags": []
   },
   "source": [
    "- modify lstm structure (try g+c_feats)"
   ]
  },
  {
   "cell_type": "code",
   "execution_count": 1,
   "metadata": {
    "_cell_guid": "b1076dfc-b9ad-4769-8c92-a6c4dae69d19",
    "_uuid": "8f2839f25d086af736a60e9eeb907d3b93b6e0e5",
    "execution": {
     "iopub.execute_input": "2020-10-14T12:01:22.460820Z",
     "iopub.status.busy": "2020-10-14T12:01:22.459901Z",
     "iopub.status.idle": "2020-10-14T12:01:29.496062Z",
     "shell.execute_reply": "2020-10-14T12:01:29.495461Z"
    },
    "papermill": {
     "duration": 7.064138,
     "end_time": "2020-10-14T12:01:29.496187",
     "exception": false,
     "start_time": "2020-10-14T12:01:22.432049",
     "status": "completed"
    },
    "tags": []
   },
   "outputs": [],
   "source": [
    "import os\n",
    "import sys\n",
    "import random\n",
    "import warnings\n",
    "import numpy as np\n",
    "import pandas as pd \n",
    "from sklearn import preprocessing\n",
    "from sklearn.metrics import log_loss, mean_squared_error\n",
    "from sklearn.decomposition import PCA\n",
    "from tqdm import tqdm_notebook as tqdm\n",
    "from sklearn.multioutput import MultiOutputClassifier\n",
    "from sklearn.feature_selection import VarianceThreshold\n",
    "\n",
    "sys.path.append('../input/multilabelstraifier/')\n",
    "sys.path.append('../input/lookahead/')\n",
    "from ml_stratifiers import MultilabelStratifiedKFold\n",
    "from lookahead import Lookahead\n",
    "warnings.filterwarnings('ignore')\n",
    "\n",
    "import time\n",
    "import torch\n",
    "import torch.nn as nn\n",
    "import torch.optim as optim\n",
    "import torch.nn.functional as F\n",
    "import tensorflow as tf"
   ]
  },
  {
   "cell_type": "code",
   "execution_count": 2,
   "metadata": {
    "_cell_guid": "79c7e3d0-c299-4dcb-8224-4455121ee9b0",
    "_uuid": "d629ff2d2480ee46fbb7e2d37f6b5fab8052498a",
    "execution": {
     "iopub.execute_input": "2020-10-14T12:01:29.524497Z",
     "iopub.status.busy": "2020-10-14T12:01:29.523620Z",
     "iopub.status.idle": "2020-10-14T12:01:35.480460Z",
     "shell.execute_reply": "2020-10-14T12:01:35.479697Z"
    },
    "papermill": {
     "duration": 5.973431,
     "end_time": "2020-10-14T12:01:35.480603",
     "exception": false,
     "start_time": "2020-10-14T12:01:29.507172",
     "status": "completed"
    },
    "tags": []
   },
   "outputs": [],
   "source": [
    "DATA_DIR = '/kaggle/input/lish-moa/'\n",
    "train = pd.read_csv(DATA_DIR + 'train_features.csv')\n",
    "targets = pd.read_csv(DATA_DIR + 'train_targets_scored.csv')\n",
    "non_targets = pd.read_csv(DATA_DIR + 'train_targets_nonscored.csv')\n",
    "test = pd.read_csv(DATA_DIR + 'test_features.csv')\n",
    "sub = pd.read_csv(DATA_DIR + 'sample_submission.csv')"
   ]
  },
  {
   "cell_type": "code",
   "execution_count": 3,
   "metadata": {
    "execution": {
     "iopub.execute_input": "2020-10-14T12:01:35.507900Z",
     "iopub.status.busy": "2020-10-14T12:01:35.507241Z",
     "iopub.status.idle": "2020-10-14T12:01:35.510807Z",
     "shell.execute_reply": "2020-10-14T12:01:35.510243Z"
    },
    "papermill": {
     "duration": 0.019545,
     "end_time": "2020-10-14T12:01:35.510958",
     "exception": false,
     "start_time": "2020-10-14T12:01:35.491413",
     "status": "completed"
    },
    "tags": []
   },
   "outputs": [],
   "source": [
    "target_feats = [ i for i in targets.columns if i != \"sig_id\"]\n",
    "g_feats = [i for i in train.columns if \"g-\" in i]\n",
    "c_feats = [i for i in train.columns if \"c-\" in i]"
   ]
  },
  {
   "cell_type": "code",
   "execution_count": 4,
   "metadata": {
    "execution": {
     "iopub.execute_input": "2020-10-14T12:01:35.543241Z",
     "iopub.status.busy": "2020-10-14T12:01:35.542491Z",
     "iopub.status.idle": "2020-10-14T12:01:35.635170Z",
     "shell.execute_reply": "2020-10-14T12:01:35.634624Z"
    },
    "papermill": {
     "duration": 0.112409,
     "end_time": "2020-10-14T12:01:35.635285",
     "exception": false,
     "start_time": "2020-10-14T12:01:35.522876",
     "status": "completed"
    },
    "tags": []
   },
   "outputs": [],
   "source": [
    "noncons_train_index = train[train.cp_type==\"ctl_vehicle\"].index\n",
    "cons_train_index = train[train.cp_type!=\"ctl_vehicle\"].index\n",
    "noncons_test_index = test[test.cp_type==\"ctl_vehicle\"].index\n",
    "cons_test_index = test[test.cp_type!=\"ctl_vehicle\"].index"
   ]
  },
  {
   "cell_type": "markdown",
   "metadata": {
    "papermill": {
     "duration": 0.01052,
     "end_time": "2020-10-14T12:01:35.656883",
     "exception": false,
     "start_time": "2020-10-14T12:01:35.646363",
     "status": "completed"
    },
    "tags": []
   },
   "source": [
    "# preprocess"
   ]
  },
  {
   "cell_type": "code",
   "execution_count": 5,
   "metadata": {
    "execution": {
     "iopub.execute_input": "2020-10-14T12:01:35.692562Z",
     "iopub.status.busy": "2020-10-14T12:01:35.691578Z",
     "iopub.status.idle": "2020-10-14T12:01:36.012075Z",
     "shell.execute_reply": "2020-10-14T12:01:36.011434Z"
    },
    "papermill": {
     "duration": 0.344594,
     "end_time": "2020-10-14T12:01:36.012199",
     "exception": false,
     "start_time": "2020-10-14T12:01:35.667605",
     "status": "completed"
    },
    "tags": []
   },
   "outputs": [],
   "source": [
    "train = train[train.index.isin(cons_train_index)].copy().reset_index(drop=True)\n",
    "targets = targets[targets.index.isin(cons_train_index)].copy().reset_index(drop=True)\n",
    "non_targets = non_targets[non_targets.index.isin(cons_train_index)].copy().reset_index(drop=True)"
   ]
  },
  {
   "cell_type": "markdown",
   "metadata": {
    "papermill": {
     "duration": 0.010621,
     "end_time": "2020-10-14T12:01:36.033966",
     "exception": false,
     "start_time": "2020-10-14T12:01:36.023345",
     "status": "completed"
    },
    "tags": []
   },
   "source": [
    "# feature engineering"
   ]
  },
  {
   "cell_type": "code",
   "execution_count": 6,
   "metadata": {
    "execution": {
     "iopub.execute_input": "2020-10-14T12:01:36.064352Z",
     "iopub.status.busy": "2020-10-14T12:01:36.063103Z",
     "iopub.status.idle": "2020-10-14T12:01:36.194060Z",
     "shell.execute_reply": "2020-10-14T12:01:36.194537Z"
    },
    "papermill": {
     "duration": 0.14989,
     "end_time": "2020-10-14T12:01:36.194666",
     "exception": false,
     "start_time": "2020-10-14T12:01:36.044776",
     "status": "completed"
    },
    "tags": []
   },
   "outputs": [
    {
     "name": "stdout",
     "output_type": "stream",
     "text": [
      "(21948, 872) (3982, 872)\n"
     ]
    }
   ],
   "source": [
    "def fe(df):\n",
    "    tmp = df.copy()\n",
    "    #tmp['g_sum'] = tmp[g_feats].sum(axis = 1)\n",
    "    #tmp['g_mean'] = tmp[g_feats].mean(axis = 1)\n",
    "    #tmp['g_std'] = tmp[g_feats].std(axis = 1)\n",
    "    #tmp['g_kurt'] = tmp[g_feats].kurtosis(axis = 1)\n",
    "    #tmp['g_skew'] = tmp[g_feats].skew(axis = 1)\n",
    "    #tmp['c_sum'] = tmp[c_feats].sum(axis = 1)\n",
    "    #tmp['c_mean'] = tmp[c_feats].mean(axis = 1)\n",
    "    #tmp['c_std'] = tmp[c_feats].std(axis = 1)\n",
    "    #tmp['c_kurt'] = tmp[c_feats].kurtosis(axis = 1)\n",
    "    #tmp['c_skew'] = tmp[c_feats].skew(axis = 1)\n",
    "    #tmp['gc_sum'] = tmp[c_feats + g_feats].sum(axis = 1)\n",
    "    #tmp['gc_mean'] = tmp[c_feats + g_feats].mean(axis = 1)\n",
    "    #tmp['gc_std'] = tmp[c_feats + g_feats].std(axis = 1)\n",
    "    #tmp['gc_kurt'] = tmp[c_feats + g_feats].kurtosis(axis = 1)\n",
    "    #tmp['gc_skew'] = tmp[c_feats + g_feats].skew(axis = 1)\n",
    "    tmp.loc[:, 'cp_dose'] = tmp.loc[:, 'cp_dose'].map({'D1': 0, 'D2': 1})\n",
    "        \n",
    "    tmp.drop([\"cp_type\", \"sig_id\", \"cp_time\", \"cp_dose\"], axis=1, inplace=True)\n",
    "    return tmp\n",
    "\n",
    "f_train = fe(train)\n",
    "f_test = fe(test)\n",
    "\n",
    "print(f_train.shape, f_test.shape)"
   ]
  },
  {
   "cell_type": "code",
   "execution_count": 7,
   "metadata": {
    "execution": {
     "iopub.execute_input": "2020-10-14T12:01:36.226251Z",
     "iopub.status.busy": "2020-10-14T12:01:36.225010Z",
     "iopub.status.idle": "2020-10-14T12:01:37.288893Z",
     "shell.execute_reply": "2020-10-14T12:01:37.288338Z"
    },
    "papermill": {
     "duration": 1.08245,
     "end_time": "2020-10-14T12:01:37.289016",
     "exception": false,
     "start_time": "2020-10-14T12:01:36.206566",
     "status": "completed"
    },
    "tags": []
   },
   "outputs": [],
   "source": [
    "fn_train = f_train.copy().to_numpy()\n",
    "fn_test = f_test.copy().to_numpy()\n",
    "\n",
    "ss = preprocessing.RobustScaler()\n",
    "fn_train= ss.fit_transform(fn_train)\n",
    "fn_test = ss.transform(fn_test)\n",
    "\n",
    "fn_nontargets = non_targets.drop(\"sig_id\", axis=1).copy().to_numpy()\n",
    "fn_targets = targets.drop(\"sig_id\", axis=1).copy().to_numpy()"
   ]
  },
  {
   "cell_type": "code",
   "execution_count": 8,
   "metadata": {
    "execution": {
     "iopub.execute_input": "2020-10-14T12:01:37.332315Z",
     "iopub.status.busy": "2020-10-14T12:01:37.330487Z",
     "iopub.status.idle": "2020-10-14T12:01:37.333035Z",
     "shell.execute_reply": "2020-10-14T12:01:37.333496Z"
    },
    "papermill": {
     "duration": 0.032779,
     "end_time": "2020-10-14T12:01:37.333611",
     "exception": false,
     "start_time": "2020-10-14T12:01:37.300832",
     "status": "completed"
    },
    "tags": []
   },
   "outputs": [],
   "source": [
    "class myLSTM(nn.Module):\n",
    "    def __init__(self):\n",
    "        super().__init__()\n",
    "\n",
    "        self.lstm_hidden_size = 772\n",
    "        self.c_lstm_hidden_size = 100\n",
    "        self.g_layer_num = 1\n",
    "        self.c_layer_num = 1\n",
    "        self.gc_layer_num = 1\n",
    "        \n",
    "        self.hidden_dim = 512\n",
    "        self.hidden_dim_c = 10\n",
    "        self.hidden_dim_gc = 512\n",
    "\n",
    "        self.target_length = 206\n",
    "        \n",
    "        self.lstm = nn.LSTM(self.lstm_hidden_size, self.hidden_dim, batch_first=True, bidirectional=True, num_layers=self.g_layer_num)\n",
    "        self.c_lstm = nn.LSTM(self.c_lstm_hidden_size, self.hidden_dim_c, batch_first=True, bidirectional=True, num_layers=self.c_layer_num)\n",
    "        self.gc_lstm = nn.LSTM(self.lstm_hidden_size + self.c_lstm_hidden_size, self.hidden_dim_gc, batch_first=True,\n",
    "                              bidirectional=True, num_layers=self.gc_layer_num)\n",
    "\n",
    "        self.dropout = nn.Dropout(0.1)\n",
    "        self.out = nn.utils.weight_norm(nn.Linear((self.hidden_dim + self.hidden_dim_c + self.hidden_dim_gc) * 2 , self.target_length))\n",
    "        self.batch_norm = nn.BatchNorm1d((self.hidden_dim + self.hidden_dim_c + self.hidden_dim_gc) * 2) \n",
    "\n",
    "    def forward(self, cont_g, cont_c, cont_gc): \n",
    "        cont_g = torch.unsqueeze(cont_g, 1)\n",
    "        h_lstm, lstm_out = self.lstm(cont_g) # h_lstm: 256 * 1 * (2 * 512)\n",
    "        conc_g = h_lstm.view(-1, self.hidden_dim * 2)\n",
    "        \n",
    "        cont_c = torch.unsqueeze(cont_c, 1)\n",
    "        h_lstm_c, lstm_out_c = self.c_lstm(cont_c) # h_lstm: 256 * 1 * (2 * 5)\n",
    "        conc_c = h_lstm_c.view(-1, self.hidden_dim_c * 2)\n",
    "        \n",
    "        cont_gc = torch.unsqueeze(cont_gc, 1)\n",
    "        h_lstm_gc, lstm_out_gc = self.gc_lstm(cont_gc) # h_lstm: 256 * 1 * (2 * 5)\n",
    "        conc_gc = h_lstm_gc.view(-1, self.hidden_dim_gc * 2)\n",
    "        \n",
    "        conc = torch.cat((conc_g, conc_c, conc_gc),1)\n",
    "        conc = self.batch_norm(conc)\n",
    "        \n",
    "        dropped = self.dropout(conc)\n",
    "        out = self.out(dropped)\n",
    "        return out"
   ]
  },
  {
   "cell_type": "code",
   "execution_count": 9,
   "metadata": {
    "execution": {
     "iopub.execute_input": "2020-10-14T12:01:37.382045Z",
     "iopub.status.busy": "2020-10-14T12:01:37.364858Z",
     "iopub.status.idle": "2020-10-14T12:01:37.791179Z",
     "shell.execute_reply": "2020-10-14T12:01:37.790430Z"
    },
    "papermill": {
     "duration": 0.445898,
     "end_time": "2020-10-14T12:01:37.791323",
     "exception": false,
     "start_time": "2020-10-14T12:01:37.345425",
     "status": "completed"
    },
    "tags": []
   },
   "outputs": [
    {
     "name": "stdout",
     "output_type": "stream",
     "text": [
      "cuda\n"
     ]
    }
   ],
   "source": [
    "batch_size = 256\n",
    "train_epochs = 25\n",
    "n_folds=5\n",
    "EARLY_STOPPING_STEPS = 10\n",
    "\n",
    "device = \"cuda\" if torch.cuda.is_available() else \"cpu\"\n",
    "print(device)\n",
    "def mean_log_loss(y_true, y_pred):\n",
    "    metrics = []\n",
    "    for i, target in enumerate(target_feats):\n",
    "        metrics.append(log_loss(y_true[:, i], y_pred[:, i].astype(float), labels=[0,1]))\n",
    "    return np.mean(metrics)\n",
    "\n",
    "def seed_everything(seed=1234): \n",
    "    random.seed(seed)\n",
    "    os.environ['PYTHONHASHSEED'] = str(seed)\n",
    "    tf.random.set_seed(seed)\n",
    "    np.random.seed(seed)\n",
    "    torch.manual_seed(seed)\n",
    "    torch.cuda.manual_seed(seed)\n",
    "    torch.backends.cudnn.deterministic = True\n",
    "\n",
    "def modelling_lstm(tr, target, te, sample_seed, init_num, last_num, files):\n",
    "    seed_everything(seed=sample_seed) \n",
    "    X_train = tr.copy()\n",
    "    y_train = target.copy()\n",
    "    X_test = te.copy()\n",
    "    test_len = X_test.shape[0]\n",
    "\n",
    "    mskf=MultilabelStratifiedKFold(n_splits = n_folds, shuffle=True, random_state=2)\n",
    "    models = []\n",
    "    \n",
    "    X_test_g = torch.tensor(X_test[:,:772], dtype=torch.float32)\n",
    "    X_test_c = torch.tensor(X_test[:,772:872], dtype=torch.float32)\n",
    "    X_test_num = torch.tensor(X_test[:,:872], dtype=torch.float32)\n",
    "\n",
    "    X_test = torch.utils.data.TensorDataset(X_test_g, X_test_c, X_test_num) \n",
    "    test_loader = torch.utils.data.DataLoader(X_test, batch_size=batch_size, shuffle=False)\n",
    "    \n",
    "    oof = np.zeros([len(X_train),y_train.shape[1]])\n",
    "    oof_targets = np.zeros([len(X_train),y_train.shape[1]])\n",
    "    pred_value = np.zeros([test_len, y_train.shape[1]])\n",
    "    scores = []\n",
    "    \n",
    "    for fold, (train_index, valid_index) in enumerate(mskf.split(X_train, y_train)):\n",
    "        print(\"Fold \"+str(fold+1))\n",
    "        X_train2_g = torch.tensor(X_train[train_index,:772], dtype=torch.float32)\n",
    "        X_valid2_g = torch.tensor(X_train[valid_index,:772], dtype=torch.float32)\n",
    "        X_train2_c = torch.tensor(X_train[train_index,772:872], dtype=torch.float32)\n",
    "        X_valid2_c = torch.tensor(X_train[valid_index,772:872], dtype=torch.float32)\n",
    "        X_train2 = torch.tensor(X_train[train_index,:872], dtype=torch.float32)\n",
    "        X_valid2 = torch.tensor(X_train[valid_index,:872], dtype=torch.float32)\n",
    "        \n",
    "        y_train2 = torch.tensor(y_train[train_index], dtype=torch.float32)\n",
    "        y_valid2 = torch.tensor(y_train[valid_index], dtype=torch.float32)\n",
    "            \n",
    "        clf = myLSTM()\n",
    "        if files != []:\n",
    "            clf.load_state_dict(torch.load(files[fold]))\n",
    "        loss_fn = torch.nn.BCEWithLogitsLoss() \n",
    "        optimizer = optim.Adam(clf.parameters(), lr = 0.01, weight_decay=1e-5) \n",
    "        #lookahead = Lookahead(optimizer, k=10, alpha=0.6) #lookahead\n",
    "        scheduler = optim.lr_scheduler.ReduceLROnPlateau(optimizer, mode='min', factor=0.1, patience=3, eps=1e-4, verbose=True)\n",
    "        \n",
    "        train = torch.utils.data.TensorDataset(X_train2_g, X_train2_c, X_train2, y_train2)\n",
    "        valid = torch.utils.data.TensorDataset(X_valid2_g, X_valid2_c, X_valid2, y_valid2)\n",
    "        \n",
    "        clf.to(device)\n",
    "        \n",
    "        train_loader = torch.utils.data.DataLoader(train, batch_size=batch_size, shuffle=True) \n",
    "        valid_loader = torch.utils.data.DataLoader(valid, batch_size=batch_size, shuffle=False)\n",
    "        \n",
    "        best_val_loss = np.inf\n",
    "        stop_counts = 0\n",
    "        for epoch in range(train_epochs):\n",
    "            start_time = time.time()\n",
    "            clf.train()\n",
    "            avg_loss = 0.\n",
    "            for x_batch_g, x_batch_c, x_batch, y_batch in tqdm(train_loader, disable=True):\n",
    "                x_batch_g = x_batch_g.to(device)\n",
    "                x_batch_c = x_batch_c.to(device)\n",
    "                x_batch = x_batch.to(device)\n",
    "                y_batch = y_batch.to(device)\n",
    "                y_pred = clf(x_batch_g, x_batch_c, x_batch) \n",
    "                loss = loss_fn(y_pred, y_batch)\n",
    "                optimizer.zero_grad()\n",
    "                loss.backward()\n",
    "                optimizer.step()\n",
    "                avg_loss += loss.item() / len(train_loader)        \n",
    "            \n",
    "            clf.eval()\n",
    "            avg_val_loss = 0.\n",
    "            for i, (x_batch_g, x_batch_c, x_batch, y_batch) in enumerate(valid_loader): \n",
    "                x_batch_g = x_batch_g.to(device)\n",
    "                x_batch_c = x_batch_c.to(device)\n",
    "                x_batch = x_batch.to(device)\n",
    "                y_batch = y_batch.to(device)\n",
    "                y_pred = clf(x_batch_g, x_batch_c, x_batch).detach()\n",
    "                avg_val_loss += loss_fn(y_pred, y_batch).item() / len(valid_loader)\n",
    "                \n",
    "            elapsed_time = time.time() - start_time \n",
    "            scheduler.step(avg_val_loss)\n",
    "                    \n",
    "            if avg_val_loss < best_val_loss:\n",
    "                stop_counts = 0\n",
    "                best_val_loss = avg_val_loss\n",
    "                print('Best model: Epoch {} \\t loss={:.6f} \\t val_loss={:.6f} \\t time={:.2f}s'.format(\n",
    "                    epoch + 1, avg_loss, avg_val_loss, elapsed_time))\n",
    "                torch.save(clf.state_dict(), 'best-model-parameters.pt')\n",
    "            else:\n",
    "                stop_counts += 1\n",
    "        \n",
    "            #if stop_counts >= EARLY_STOPPING_STEPS: \n",
    "            #    break\n",
    "         \n",
    "        pred_model = myLSTM()\n",
    "        pred_model.load_state_dict(torch.load('best-model-parameters.pt'))\n",
    "        pred_model.eval()\n",
    "        \n",
    "        # validation check ----------------\n",
    "        oof_epoch = np.zeros([X_valid2_g.size(0), y_train.shape[1]])\n",
    "        target_epoch = np.zeros([X_valid2_g.size(0), y_train.shape[1]])\n",
    "        for i, (x_batch_g, x_batch_c, x_batch, y_batch) in enumerate(valid_loader): \n",
    "                y_pred = pred_model(x_batch_g, x_batch_c, x_batch).sigmoid().detach()\n",
    "                oof_epoch[i * batch_size:(i+1) * batch_size,:] = y_pred.cpu().numpy()\n",
    "                target_epoch[i * batch_size:(i+1) * batch_size,:] = y_batch.cpu().numpy()\n",
    "        print(\"Fold {} log loss: {}\".format(fold+1, mean_log_loss(target_epoch, oof_epoch)))\n",
    "        scores.append(mean_log_loss(target_epoch, oof_epoch))\n",
    "        oof[valid_index,:] = oof_epoch\n",
    "        oof_targets[valid_index,:] = target_epoch\n",
    "        #-----------------------------------\n",
    "        \n",
    "        # test predcition --------------\n",
    "        test_preds = np.zeros([test_len, y_train.shape[1]])\n",
    "        for i, (x_batch_g, x_batch_c, x_batch, ) in enumerate(test_loader): \n",
    "            y_pred = pred_model(x_batch_g, x_batch_c, x_batch).sigmoid().detach()\n",
    "            test_preds[i * batch_size:(i+1) * batch_size, :] = y_pred.cpu().numpy()\n",
    "        pred_value += test_preds / n_folds\n",
    "        # ------------------------------\n",
    "        \n",
    "    print(\"Seed {}\".format(seed_))\n",
    "    for i, ele in enumerate(scores):\n",
    "        print(\"Fold {} log loss: {}\".format(i+1, scores[i]))\n",
    "    print(\"Std of log loss: {}\".format(np.std(scores)))\n",
    "    print(\"Total log loss: {}\".format(mean_log_loss(oof_targets, oof)))\n",
    "\n",
    "    return oof, oof_targets, pred_value"
   ]
  },
  {
   "cell_type": "code",
   "execution_count": 10,
   "metadata": {
    "execution": {
     "iopub.execute_input": "2020-10-14T12:01:37.828229Z",
     "iopub.status.busy": "2020-10-14T12:01:37.826853Z",
     "iopub.status.idle": "2020-10-14T12:09:29.692423Z",
     "shell.execute_reply": "2020-10-14T12:09:29.691255Z"
    },
    "papermill": {
     "duration": 471.887952,
     "end_time": "2020-10-14T12:09:29.692570",
     "exception": false,
     "start_time": "2020-10-14T12:01:37.804618",
     "status": "completed"
    },
    "tags": []
   },
   "outputs": [
    {
     "name": "stdout",
     "output_type": "stream",
     "text": [
      "Fold 1\n",
      "Best model: Epoch 1 \t loss=0.156181 \t val_loss=0.019868 \t time=1.06s\n",
      "Best model: Epoch 2 \t loss=0.018448 \t val_loss=0.018368 \t time=0.94s\n",
      "Best model: Epoch 3 \t loss=0.017432 \t val_loss=0.017944 \t time=1.04s\n",
      "Best model: Epoch 4 \t loss=0.016983 \t val_loss=0.017630 \t time=1.19s\n",
      "Best model: Epoch 6 \t loss=0.016302 \t val_loss=0.017225 \t time=0.96s\n",
      "Epoch    10: reducing learning rate of group 0 to 1.0000e-03.\n",
      "Best model: Epoch 11 \t loss=0.014253 \t val_loss=0.016288 \t time=0.95s\n",
      "Best model: Epoch 12 \t loss=0.012933 \t val_loss=0.016170 \t time=0.96s\n",
      "Epoch    16: reducing learning rate of group 0 to 1.0000e-04.\n",
      "Fold 1 log loss: 0.01638664966640692\n",
      "Fold 2\n",
      "Best model: Epoch 1 \t loss=0.153852 \t val_loss=0.019790 \t time=1.06s\n",
      "Best model: Epoch 2 \t loss=0.018575 \t val_loss=0.018483 \t time=0.94s\n",
      "Best model: Epoch 3 \t loss=0.017724 \t val_loss=0.017863 \t time=0.93s\n",
      "Best model: Epoch 4 \t loss=0.017073 \t val_loss=0.017581 \t time=0.92s\n",
      "Best model: Epoch 5 \t loss=0.016666 \t val_loss=0.017355 \t time=0.92s\n",
      "Best model: Epoch 6 \t loss=0.016493 \t val_loss=0.017301 \t time=1.27s\n",
      "Best model: Epoch 10 \t loss=0.016293 \t val_loss=0.017297 \t time=0.92s\n",
      "Best model: Epoch 11 \t loss=0.016313 \t val_loss=0.017191 \t time=1.04s\n",
      "Epoch    15: reducing learning rate of group 0 to 1.0000e-03.\n",
      "Best model: Epoch 16 \t loss=0.014708 \t val_loss=0.016248 \t time=1.15s\n",
      "Best model: Epoch 17 \t loss=0.013387 \t val_loss=0.016164 \t time=1.07s\n",
      "Epoch    21: reducing learning rate of group 0 to 1.0000e-04.\n",
      "Fold 2 log loss: 0.016303371916398315\n",
      "Fold 3\n",
      "Best model: Epoch 1 \t loss=0.155716 \t val_loss=0.019882 \t time=0.93s\n",
      "Best model: Epoch 2 \t loss=0.018525 \t val_loss=0.018344 \t time=0.95s\n",
      "Best model: Epoch 3 \t loss=0.017433 \t val_loss=0.017722 \t time=1.11s\n",
      "Best model: Epoch 5 \t loss=0.016635 \t val_loss=0.017368 \t time=0.95s\n",
      "Best model: Epoch 6 \t loss=0.016364 \t val_loss=0.017313 \t time=0.97s\n",
      "Best model: Epoch 7 \t loss=0.016231 \t val_loss=0.017209 \t time=0.94s\n",
      "Epoch    11: reducing learning rate of group 0 to 1.0000e-03.\n",
      "Best model: Epoch 12 \t loss=0.014478 \t val_loss=0.016232 \t time=0.92s\n",
      "Best model: Epoch 13 \t loss=0.013127 \t val_loss=0.016176 \t time=0.94s\n",
      "Epoch    17: reducing learning rate of group 0 to 1.0000e-04.\n",
      "Fold 3 log loss: 0.016180834096722486\n",
      "Fold 4\n",
      "Best model: Epoch 1 \t loss=0.153026 \t val_loss=0.019508 \t time=1.33s\n",
      "Best model: Epoch 2 \t loss=0.018418 \t val_loss=0.018035 \t time=0.93s\n",
      "Best model: Epoch 3 \t loss=0.017331 \t val_loss=0.017874 \t time=0.92s\n",
      "Best model: Epoch 4 \t loss=0.016906 \t val_loss=0.017795 \t time=0.92s\n",
      "Best model: Epoch 5 \t loss=0.016686 \t val_loss=0.017531 \t time=0.92s\n",
      "Best model: Epoch 6 \t loss=0.016448 \t val_loss=0.017245 \t time=0.93s\n",
      "Best model: Epoch 7 \t loss=0.016258 \t val_loss=0.017180 \t time=1.07s\n",
      "Epoch    11: reducing learning rate of group 0 to 1.0000e-03.\n",
      "Best model: Epoch 12 \t loss=0.014518 \t val_loss=0.016155 \t time=0.92s\n",
      "Best model: Epoch 13 \t loss=0.013242 \t val_loss=0.016151 \t time=1.05s\n",
      "Epoch    17: reducing learning rate of group 0 to 1.0000e-04.\n",
      "Fold 4 log loss: 0.01632408805033429\n",
      "Fold 5\n",
      "Best model: Epoch 1 \t loss=0.149114 \t val_loss=0.019810 \t time=0.94s\n",
      "Best model: Epoch 2 \t loss=0.018354 \t val_loss=0.018498 \t time=0.93s\n",
      "Best model: Epoch 3 \t loss=0.017461 \t val_loss=0.017881 \t time=1.07s\n",
      "Best model: Epoch 4 \t loss=0.016906 \t val_loss=0.017674 \t time=1.26s\n",
      "Best model: Epoch 5 \t loss=0.016601 \t val_loss=0.017576 \t time=0.90s\n",
      "Best model: Epoch 7 \t loss=0.016298 \t val_loss=0.017417 \t time=0.90s\n",
      "Best model: Epoch 8 \t loss=0.016300 \t val_loss=0.017386 \t time=1.00s\n",
      "Epoch    12: reducing learning rate of group 0 to 1.0000e-03.\n",
      "Best model: Epoch 13 \t loss=0.014689 \t val_loss=0.016454 \t time=1.24s\n",
      "Best model: Epoch 14 \t loss=0.013446 \t val_loss=0.016330 \t time=1.24s\n",
      "Epoch    18: reducing learning rate of group 0 to 1.0000e-04.\n",
      "Fold 5 log loss: 0.016356677469083\n",
      "Seed 0\n",
      "Fold 1 log loss: 0.01638664966640692\n",
      "Fold 2 log loss: 0.016303371916398315\n",
      "Fold 3 log loss: 0.016180834096722486\n",
      "Fold 4 log loss: 0.01632408805033429\n",
      "Fold 5 log loss: 0.016356677469083\n",
      "Std of log loss: 7.068191713165569e-05\n",
      "Total log loss: 0.016310322444595547\n",
      "Fold 1\n",
      "Best model: Epoch 1 \t loss=0.155924 \t val_loss=0.019798 \t time=0.92s\n",
      "Best model: Epoch 2 \t loss=0.018460 \t val_loss=0.018291 \t time=1.06s\n",
      "Best model: Epoch 3 \t loss=0.017382 \t val_loss=0.017827 \t time=0.95s\n",
      "Best model: Epoch 4 \t loss=0.016849 \t val_loss=0.017592 \t time=1.09s\n",
      "Best model: Epoch 5 \t loss=0.016599 \t val_loss=0.017466 \t time=0.92s\n",
      "Best model: Epoch 6 \t loss=0.016358 \t val_loss=0.017335 \t time=0.92s\n",
      "Best model: Epoch 7 \t loss=0.016169 \t val_loss=0.017269 \t time=0.98s\n",
      "Epoch    11: reducing learning rate of group 0 to 1.0000e-03.\n",
      "Best model: Epoch 12 \t loss=0.014415 \t val_loss=0.016310 \t time=0.92s\n",
      "Best model: Epoch 13 \t loss=0.013087 \t val_loss=0.016165 \t time=1.45s\n",
      "Epoch    17: reducing learning rate of group 0 to 1.0000e-04.\n",
      "Fold 1 log loss: 0.01639067839704945\n",
      "Fold 2\n",
      "Best model: Epoch 1 \t loss=0.151633 \t val_loss=0.019719 \t time=0.96s\n",
      "Best model: Epoch 2 \t loss=0.018411 \t val_loss=0.018185 \t time=1.03s\n",
      "Best model: Epoch 3 \t loss=0.017540 \t val_loss=0.017836 \t time=0.95s\n",
      "Best model: Epoch 4 \t loss=0.016904 \t val_loss=0.017631 \t time=0.91s\n",
      "Best model: Epoch 5 \t loss=0.016592 \t val_loss=0.017393 \t time=0.96s\n",
      "Best model: Epoch 7 \t loss=0.016273 \t val_loss=0.017383 \t time=1.09s\n",
      "Best model: Epoch 8 \t loss=0.016360 \t val_loss=0.017026 \t time=0.95s\n",
      "Epoch    12: reducing learning rate of group 0 to 1.0000e-03.\n",
      "Best model: Epoch 13 \t loss=0.014628 \t val_loss=0.016329 \t time=0.92s\n",
      "Best model: Epoch 14 \t loss=0.013321 \t val_loss=0.016198 \t time=0.91s\n",
      "Epoch    18: reducing learning rate of group 0 to 1.0000e-04.\n",
      "Fold 2 log loss: 0.01632517229047829\n",
      "Fold 3\n",
      "Best model: Epoch 1 \t loss=0.163622 \t val_loss=0.019900 \t time=1.06s\n",
      "Best model: Epoch 2 \t loss=0.018535 \t val_loss=0.018311 \t time=0.94s\n",
      "Best model: Epoch 3 \t loss=0.017422 \t val_loss=0.017881 \t time=1.03s\n",
      "Best model: Epoch 4 \t loss=0.016969 \t val_loss=0.017620 \t time=0.91s\n",
      "Best model: Epoch 5 \t loss=0.016554 \t val_loss=0.017488 \t time=0.90s\n",
      "Best model: Epoch 6 \t loss=0.016315 \t val_loss=0.017284 \t time=0.91s\n",
      "Best model: Epoch 8 \t loss=0.016215 \t val_loss=0.017196 \t time=0.92s\n",
      "Best model: Epoch 11 \t loss=0.016249 \t val_loss=0.017045 \t time=1.05s\n",
      "Epoch    15: reducing learning rate of group 0 to 1.0000e-03.\n",
      "Best model: Epoch 16 \t loss=0.014707 \t val_loss=0.016364 \t time=0.93s\n",
      "Best model: Epoch 17 \t loss=0.013428 \t val_loss=0.016196 \t time=1.30s\n",
      "Epoch    21: reducing learning rate of group 0 to 1.0000e-04.\n",
      "Fold 3 log loss: 0.016199128735490443\n",
      "Fold 4\n",
      "Best model: Epoch 1 \t loss=0.156987 \t val_loss=0.019743 \t time=1.03s\n",
      "Best model: Epoch 2 \t loss=0.018581 \t val_loss=0.018213 \t time=1.10s\n",
      "Best model: Epoch 3 \t loss=0.017391 \t val_loss=0.017791 \t time=1.08s\n",
      "Best model: Epoch 4 \t loss=0.016896 \t val_loss=0.017631 \t time=1.02s\n",
      "Best model: Epoch 5 \t loss=0.016591 \t val_loss=0.017267 \t time=0.95s\n",
      "Best model: Epoch 7 \t loss=0.016215 \t val_loss=0.017219 \t time=1.03s\n",
      "Best model: Epoch 9 \t loss=0.016228 \t val_loss=0.017052 \t time=0.90s\n",
      "Epoch    13: reducing learning rate of group 0 to 1.0000e-03.\n",
      "Best model: Epoch 14 \t loss=0.014690 \t val_loss=0.016270 \t time=1.03s\n",
      "Best model: Epoch 15 \t loss=0.013341 \t val_loss=0.016126 \t time=0.92s\n",
      "Epoch    19: reducing learning rate of group 0 to 1.0000e-04.\n",
      "Fold 4 log loss: 0.016270676198343968\n",
      "Fold 5\n",
      "Best model: Epoch 1 \t loss=0.150310 \t val_loss=0.019983 \t time=0.92s\n",
      "Best model: Epoch 2 \t loss=0.018463 \t val_loss=0.018550 \t time=0.98s\n",
      "Best model: Epoch 3 \t loss=0.017581 \t val_loss=0.017994 \t time=0.94s\n",
      "Best model: Epoch 5 \t loss=0.016675 \t val_loss=0.017942 \t time=0.89s\n",
      "Best model: Epoch 6 \t loss=0.016476 \t val_loss=0.017527 \t time=1.12s\n",
      "Best model: Epoch 7 \t loss=0.016351 \t val_loss=0.017427 \t time=0.94s\n",
      "Epoch    11: reducing learning rate of group 0 to 1.0000e-03.\n",
      "Best model: Epoch 12 \t loss=0.014704 \t val_loss=0.016520 \t time=0.90s\n",
      "Best model: Epoch 13 \t loss=0.013494 \t val_loss=0.016473 \t time=0.90s\n",
      "Best model: Epoch 14 \t loss=0.012833 \t val_loss=0.016472 \t time=0.91s\n",
      "Epoch    17: reducing learning rate of group 0 to 1.0000e-04.\n",
      "Best model: Epoch 18 \t loss=0.010254 \t val_loss=0.016419 \t time=0.90s\n",
      "Fold 5 log loss: 0.01642954591654932\n",
      "Seed 10\n",
      "Fold 1 log loss: 0.01639067839704945\n",
      "Fold 2 log loss: 0.01632517229047829\n",
      "Fold 3 log loss: 0.016199128735490443\n",
      "Fold 4 log loss: 0.016270676198343968\n",
      "Fold 5 log loss: 0.01642954591654932\n",
      "Std of log loss: 8.248512456663959e-05\n",
      "Total log loss: 0.016323035357810472\n",
      "Fold 1\n",
      "Best model: Epoch 1 \t loss=0.160194 \t val_loss=0.019873 \t time=0.92s\n",
      "Best model: Epoch 2 \t loss=0.018451 \t val_loss=0.018226 \t time=1.08s\n",
      "Best model: Epoch 3 \t loss=0.017293 \t val_loss=0.017878 \t time=0.92s\n",
      "Best model: Epoch 4 \t loss=0.016784 \t val_loss=0.017597 \t time=0.92s\n",
      "Best model: Epoch 5 \t loss=0.016441 \t val_loss=0.017362 \t time=0.91s\n",
      "Best model: Epoch 6 \t loss=0.016295 \t val_loss=0.017268 \t time=0.91s\n",
      "Best model: Epoch 9 \t loss=0.016172 \t val_loss=0.017212 \t time=0.92s\n",
      "Best model: Epoch 10 \t loss=0.016190 \t val_loss=0.017209 \t time=0.91s\n",
      "Epoch    14: reducing learning rate of group 0 to 1.0000e-03.\n",
      "Best model: Epoch 15 \t loss=0.014606 \t val_loss=0.016311 \t time=0.91s\n",
      "Best model: Epoch 16 \t loss=0.013255 \t val_loss=0.016187 \t time=0.95s\n",
      "Best model: Epoch 17 \t loss=0.012525 \t val_loss=0.016183 \t time=1.17s\n",
      "Epoch    21: reducing learning rate of group 0 to 1.0000e-04.\n",
      "Fold 1 log loss: 0.01641999108029472\n",
      "Fold 2\n",
      "Best model: Epoch 1 \t loss=0.150544 \t val_loss=0.019677 \t time=0.96s\n",
      "Best model: Epoch 2 \t loss=0.018473 \t val_loss=0.018257 \t time=0.99s\n",
      "Best model: Epoch 3 \t loss=0.017391 \t val_loss=0.017975 \t time=0.99s\n",
      "Best model: Epoch 4 \t loss=0.017042 \t val_loss=0.017664 \t time=1.01s\n",
      "Best model: Epoch 6 \t loss=0.016420 \t val_loss=0.017417 \t time=1.11s\n",
      "Best model: Epoch 7 \t loss=0.016295 \t val_loss=0.017175 \t time=1.00s\n",
      "Epoch    11: reducing learning rate of group 0 to 1.0000e-03.\n",
      "Best model: Epoch 12 \t loss=0.014540 \t val_loss=0.016223 \t time=0.93s\n",
      "Best model: Epoch 13 \t loss=0.013273 \t val_loss=0.016143 \t time=0.97s\n",
      "Epoch    17: reducing learning rate of group 0 to 1.0000e-04.\n",
      "Fold 2 log loss: 0.016285010943404177\n",
      "Fold 3\n",
      "Best model: Epoch 1 \t loss=0.156914 \t val_loss=0.019850 \t time=1.11s\n",
      "Best model: Epoch 2 \t loss=0.018596 \t val_loss=0.018497 \t time=1.01s\n",
      "Best model: Epoch 3 \t loss=0.017478 \t val_loss=0.017955 \t time=1.21s\n",
      "Best model: Epoch 5 \t loss=0.016777 \t val_loss=0.017470 \t time=0.99s\n",
      "Best model: Epoch 6 \t loss=0.016434 \t val_loss=0.017431 \t time=0.99s\n",
      "Best model: Epoch 7 \t loss=0.016317 \t val_loss=0.017293 \t time=1.02s\n",
      "Best model: Epoch 8 \t loss=0.016212 \t val_loss=0.017194 \t time=0.98s\n",
      "Epoch    12: reducing learning rate of group 0 to 1.0000e-03.\n",
      "Best model: Epoch 13 \t loss=0.014516 \t val_loss=0.016308 \t time=1.04s\n",
      "Best model: Epoch 14 \t loss=0.013250 \t val_loss=0.016232 \t time=0.98s\n",
      "Epoch    18: reducing learning rate of group 0 to 1.0000e-04.\n",
      "Fold 3 log loss: 0.01621849391323091\n",
      "Fold 4\n",
      "Best model: Epoch 1 \t loss=0.154524 \t val_loss=0.019682 \t time=1.34s\n",
      "Best model: Epoch 2 \t loss=0.018564 \t val_loss=0.018176 \t time=0.97s\n",
      "Best model: Epoch 3 \t loss=0.017307 \t val_loss=0.017695 \t time=0.97s\n",
      "Best model: Epoch 4 \t loss=0.016983 \t val_loss=0.017490 \t time=0.98s\n",
      "Best model: Epoch 5 \t loss=0.016575 \t val_loss=0.017445 \t time=0.99s\n",
      "Best model: Epoch 6 \t loss=0.016390 \t val_loss=0.017146 \t time=0.95s\n",
      "Best model: Epoch 7 \t loss=0.016193 \t val_loss=0.017068 \t time=1.19s\n",
      "Epoch    11: reducing learning rate of group 0 to 1.0000e-03.\n",
      "Best model: Epoch 12 \t loss=0.014402 \t val_loss=0.016181 \t time=0.95s\n",
      "Best model: Epoch 13 \t loss=0.013109 \t val_loss=0.016098 \t time=1.09s\n",
      "Epoch    17: reducing learning rate of group 0 to 1.0000e-04.\n",
      "Fold 4 log loss: 0.016256408433378694\n",
      "Fold 5\n",
      "Best model: Epoch 1 \t loss=0.152160 \t val_loss=0.019964 \t time=0.93s\n",
      "Best model: Epoch 2 \t loss=0.018512 \t val_loss=0.018460 \t time=1.12s\n",
      "Best model: Epoch 3 \t loss=0.017372 \t val_loss=0.018125 \t time=0.95s\n",
      "Best model: Epoch 4 \t loss=0.016913 \t val_loss=0.017891 \t time=1.07s\n",
      "Best model: Epoch 5 \t loss=0.016586 \t val_loss=0.017579 \t time=0.99s\n",
      "Best model: Epoch 7 \t loss=0.016240 \t val_loss=0.017481 \t time=1.03s\n",
      "Best model: Epoch 9 \t loss=0.016171 \t val_loss=0.017440 \t time=0.95s\n",
      "Best model: Epoch 10 \t loss=0.016176 \t val_loss=0.017364 \t time=1.15s\n",
      "Epoch    14: reducing learning rate of group 0 to 1.0000e-03.\n",
      "Best model: Epoch 15 \t loss=0.014665 \t val_loss=0.016521 \t time=1.07s\n",
      "Best model: Epoch 16 \t loss=0.013373 \t val_loss=0.016348 \t time=1.10s\n",
      "Epoch    20: reducing learning rate of group 0 to 1.0000e-04.\n",
      "Fold 5 log loss: 0.016358764907654835\n",
      "Seed 40\n",
      "Fold 1 log loss: 0.01641999108029472\n",
      "Fold 2 log loss: 0.016285010943404177\n",
      "Fold 3 log loss: 0.01621849391323091\n",
      "Fold 4 log loss: 0.016256408433378694\n",
      "Fold 5 log loss: 0.016358764907654835\n",
      "Std of log loss: 7.255377287071553e-05\n",
      "Total log loss: 0.01630773256581046\n",
      "Total log loss in targets: 0.016189140125469723\n"
     ]
    }
   ],
   "source": [
    "seeds = [0,10,40]\n",
    "#seeds = [0,1,2,3]\n",
    "\n",
    "target_oof = np.zeros([len(fn_train),fn_targets.shape[1]])\n",
    "target_pred = np.zeros([len(fn_test),fn_targets.shape[1]])\n",
    "\n",
    "nontarget_oof = np.zeros([len(fn_train),fn_nontargets.shape[1]])\n",
    "nontarget_pred = np.zeros([len(fn_test),fn_nontargets.shape[1]])\n",
    "\n",
    "for seed_ in seeds:\n",
    "    oof, oof_targets, pytorch_pred = modelling_lstm(fn_train, fn_targets, fn_test, seed_, fn_train.shape[1], fn_targets.shape[1],[])\n",
    "    target_oof += oof / len(seeds)\n",
    "    target_pred += pytorch_pred / len(seeds)\n",
    "print(\"Total log loss in targets: {}\".format(mean_log_loss(oof_targets, target_oof)))\n",
    "\n",
    "#for seed_ in seeds:\n",
    "#    oof, oof_targets, pytorch_pred = modelling_lstm(fn_train, fn_nontargets, fn_test, seed_, fn_train.shape[1], fn_nontargets.shape[1],[])\n",
    "#    nontarget_oof += oof / len(seeds)\n",
    "#    nontarget_pred += pytorch_pred / len(seeds)\n",
    "#print(\"Total log loss in Non targets: {}\".format(mean_log_loss(oof_targets, nontarget_oof)))"
   ]
  },
  {
   "cell_type": "code",
   "execution_count": 11,
   "metadata": {
    "execution": {
     "iopub.execute_input": "2020-10-14T12:09:29.867816Z",
     "iopub.status.busy": "2020-10-14T12:09:29.866941Z",
     "iopub.status.idle": "2020-10-14T12:09:35.842596Z",
     "shell.execute_reply": "2020-10-14T12:09:35.841492Z"
    },
    "papermill": {
     "duration": 6.067545,
     "end_time": "2020-10-14T12:09:35.842753",
     "exception": false,
     "start_time": "2020-10-14T12:09:29.775208",
     "status": "completed"
    },
    "tags": []
   },
   "outputs": [
    {
     "name": "stdout",
     "output_type": "stream",
     "text": [
      "OOF log loss:  0.014920603320475831\n"
     ]
    }
   ],
   "source": [
    "t = pd.read_csv(DATA_DIR + 'train_targets_scored.csv')\n",
    "train_checkscore = t.copy()\n",
    "train_checkscore.loc[train_checkscore.index.isin(cons_train_index),target_feats] = target_oof\n",
    "train_checkscore.loc[train_checkscore.index.isin(noncons_train_index),target_feats] = 0\n",
    "t.drop(\"sig_id\", axis=1, inplace=True)\n",
    "print('OOF log loss: ', log_loss(np.ravel(t), np.ravel(np.array(train_checkscore.iloc[:,1:]))))"
   ]
  },
  {
   "cell_type": "code",
   "execution_count": 12,
   "metadata": {
    "execution": {
     "iopub.execute_input": "2020-10-14T12:09:36.017161Z",
     "iopub.status.busy": "2020-10-14T12:09:36.016231Z",
     "iopub.status.idle": "2020-10-14T12:09:38.452497Z",
     "shell.execute_reply": "2020-10-14T12:09:38.451824Z"
    },
    "papermill": {
     "duration": 2.526257,
     "end_time": "2020-10-14T12:09:38.452648",
     "exception": false,
     "start_time": "2020-10-14T12:09:35.926391",
     "status": "completed"
    },
    "tags": []
   },
   "outputs": [],
   "source": [
    "sub[target_feats] = target_pred\n",
    "sub.loc[noncons_test_index,target_feats] = 0\n",
    "sub.to_csv('submission.csv', index=False)"
   ]
  }
 ],
 "metadata": {
  "kernelspec": {
   "display_name": "Python 3",
   "language": "python",
   "name": "python3"
  },
  "language_info": {
   "codemirror_mode": {
    "name": "ipython",
    "version": 3
   },
   "file_extension": ".py",
   "mimetype": "text/x-python",
   "name": "python",
   "nbconvert_exporter": "python",
   "pygments_lexer": "ipython3",
   "version": "3.7.6"
  },
  "papermill": {
   "duration": 500.593882,
   "end_time": "2020-10-14T12:09:39.149965",
   "environment_variables": {},
   "exception": null,
   "input_path": "__notebook__.ipynb",
   "output_path": "__notebook__.ipynb",
   "parameters": {},
   "start_time": "2020-10-14T12:01:18.556083",
   "version": "2.1.0"
  }
 },
 "nbformat": 4,
 "nbformat_minor": 4
}
