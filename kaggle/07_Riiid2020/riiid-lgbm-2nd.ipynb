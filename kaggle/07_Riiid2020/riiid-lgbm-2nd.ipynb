{
 "cells": [
  {
   "cell_type": "markdown",
   "metadata": {
    "papermill": {
     "duration": 0.018993,
     "end_time": "2021-01-10T01:56:05.795218",
     "exception": false,
     "start_time": "2021-01-10T01:56:05.776225",
     "status": "completed"
    },
    "tags": []
   },
   "source": [
    "**late submission**\n",
    "- go back to ver 68 (66)\n",
    "- cut timedd, continuous correct, incorrect"
   ]
  },
  {
   "cell_type": "code",
   "execution_count": 1,
   "metadata": {
    "_cell_guid": "b1076dfc-b9ad-4769-8c92-a6c4dae69d19",
    "_uuid": "8f2839f25d086af736a60e9eeb907d3b93b6e0e5",
    "execution": {
     "iopub.execute_input": "2021-01-10T01:56:05.834483Z",
     "iopub.status.busy": "2021-01-10T01:56:05.833823Z",
     "iopub.status.idle": "2021-01-10T01:56:34.910129Z",
     "shell.execute_reply": "2021-01-10T01:56:34.909552Z"
    },
    "papermill": {
     "duration": 29.096916,
     "end_time": "2021-01-10T01:56:34.910264",
     "exception": false,
     "start_time": "2021-01-10T01:56:05.813348",
     "status": "completed"
    },
    "tags": []
   },
   "outputs": [],
   "source": [
    "!pip install ../input/python-datatable/datatable-0.11.0-cp37-cp37m-manylinux2010_x86_64.whl > /dev/null 2>&1"
   ]
  },
  {
   "cell_type": "code",
   "execution_count": 2,
   "metadata": {
    "_cell_guid": "79c7e3d0-c299-4dcb-8224-4455121ee9b0",
    "_uuid": "d629ff2d2480ee46fbb7e2d37f6b5fab8052498a",
    "execution": {
     "iopub.execute_input": "2021-01-10T01:56:34.950335Z",
     "iopub.status.busy": "2021-01-10T01:56:34.949656Z",
     "iopub.status.idle": "2021-01-10T01:56:36.996985Z",
     "shell.execute_reply": "2021-01-10T01:56:36.996450Z"
    },
    "papermill": {
     "duration": 2.0683,
     "end_time": "2021-01-10T01:56:36.997118",
     "exception": false,
     "start_time": "2021-01-10T01:56:34.928818",
     "status": "completed"
    },
    "tags": []
   },
   "outputs": [
    {
     "data": {
      "text/html": [
       "<style type='text/css'>\n",
       ".datatable table.frame { margin-bottom: 0; }\n",
       ".datatable table.frame thead { border-bottom: none; }\n",
       ".datatable table.frame tr.coltypes td {  color: #FFFFFF;  line-height: 6px;  padding: 0 0.5em;}\n",
       ".datatable .bool    { background: #DDDD99; }\n",
       ".datatable .object  { background: #565656; }\n",
       ".datatable .int     { background: #5D9E5D; }\n",
       ".datatable .float   { background: #4040CC; }\n",
       ".datatable .str     { background: #CC4040; }\n",
       ".datatable .row_index {  background: var(--jp-border-color3);  border-right: 1px solid var(--jp-border-color0);  color: var(--jp-ui-font-color3);  font-size: 9px;}\n",
       ".datatable .frame tr.coltypes .row_index {  background: var(--jp-border-color0);}\n",
       ".datatable th:nth-child(2) { padding-left: 12px; }\n",
       ".datatable .hellipsis {  color: var(--jp-cell-editor-border-color);}\n",
       ".datatable .vellipsis {  background: var(--jp-layout-color0);  color: var(--jp-cell-editor-border-color);}\n",
       ".datatable .na {  color: var(--jp-cell-editor-border-color);  font-size: 80%;}\n",
       ".datatable .footer { font-size: 9px; }\n",
       ".datatable .frame_dimensions {  background: var(--jp-border-color3);  border-top: 1px solid var(--jp-border-color0);  color: var(--jp-ui-font-color3);  display: inline-block;  opacity: 0.6;  padding: 1px 10px 1px 5px;}\n",
       "</style>\n"
      ],
      "text/plain": [
       "<IPython.core.display.HTML object>"
      ]
     },
     "metadata": {},
     "output_type": "display_data"
    }
   ],
   "source": [
    "import gc\n",
    "import random\n",
    "import pickle\n",
    "import numpy as np\n",
    "import pandas as pd\n",
    "from numba import jit\n",
    "import riiideducation\n",
    "import datatable as dt\n",
    "import lightgbm as lgb\n",
    "from bitarray import bitarray\n",
    "from functools import partial\n",
    "from collections import defaultdict\n",
    "\n",
    "_ = np.seterr(divide='ignore', invalid='ignore')\n",
    "pd.set_option(\"max_rows\", 100)\n",
    "pd.set_option(\"max_columns\", 100)\n",
    "\n",
    "random.seed(1)"
   ]
  },
  {
   "cell_type": "code",
   "execution_count": 3,
   "metadata": {
    "execution": {
     "iopub.execute_input": "2021-01-10T01:56:37.045581Z",
     "iopub.status.busy": "2021-01-10T01:56:37.044948Z",
     "iopub.status.idle": "2021-01-10T01:56:37.047314Z",
     "shell.execute_reply": "2021-01-10T01:56:37.047763Z"
    },
    "papermill": {
     "duration": 0.031419,
     "end_time": "2021-01-10T01:56:37.047900",
     "exception": false,
     "start_time": "2021-01-10T01:56:37.016481",
     "status": "completed"
    },
    "tags": []
   },
   "outputs": [],
   "source": [
    "def make_bitarray():\n",
    "    a = bitarray(32737, endian='little')\n",
    "    a.setall(True)   \n",
    "    return a\n",
    "\n",
    "def clear_mem():\n",
    "    %reset -f out\n",
    "    %reset -f in\n",
    "    gc.collect()"
   ]
  },
  {
   "cell_type": "code",
   "execution_count": 4,
   "metadata": {
    "execution": {
     "iopub.execute_input": "2021-01-10T01:56:37.088778Z",
     "iopub.status.busy": "2021-01-10T01:56:37.088182Z",
     "iopub.status.idle": "2021-01-10T01:56:37.092696Z",
     "shell.execute_reply": "2021-01-10T01:56:37.092232Z"
    },
    "papermill": {
     "duration": 0.025869,
     "end_time": "2021-01-10T01:56:37.092811",
     "exception": false,
     "start_time": "2021-01-10T01:56:37.066942",
     "status": "completed"
    },
    "tags": []
   },
   "outputs": [],
   "source": [
    "FULL_TRAIN = False\n",
    "CV_SCHEME = \"original\" #\"time\""
   ]
  },
  {
   "cell_type": "markdown",
   "metadata": {
    "papermill": {
     "duration": 0.018852,
     "end_time": "2021-01-10T01:56:37.131016",
     "exception": false,
     "start_time": "2021-01-10T01:56:37.112164",
     "status": "completed"
    },
    "tags": []
   },
   "source": [
    "# Preprocess"
   ]
  },
  {
   "cell_type": "code",
   "execution_count": 5,
   "metadata": {
    "execution": {
     "iopub.execute_input": "2021-01-10T01:56:37.174515Z",
     "iopub.status.busy": "2021-01-10T01:56:37.173884Z",
     "iopub.status.idle": "2021-01-10T01:56:37.175951Z",
     "shell.execute_reply": "2021-01-10T01:56:37.176480Z"
    },
    "papermill": {
     "duration": 0.026837,
     "end_time": "2021-01-10T01:56:37.176629",
     "exception": false,
     "start_time": "2021-01-10T01:56:37.149792",
     "status": "completed"
    },
    "tags": []
   },
   "outputs": [],
   "source": [
    "data_types_dict = {\n",
    "    'timestamp': 'int64',\n",
    "    'user_id': 'int32', \n",
    "    'content_id': 'int16', \n",
    "    'answered_correctly': 'int8', \n",
    "    'user_answer': 'int8',\n",
    "    'prior_question_elapsed_time': 'float32', \n",
    "    'prior_question_had_explanation': 'bool',\n",
    "}\n",
    "target = 'answered_correctly'"
   ]
  },
  {
   "cell_type": "code",
   "execution_count": 6,
   "metadata": {
    "execution": {
     "iopub.execute_input": "2021-01-10T01:56:37.219124Z",
     "iopub.status.busy": "2021-01-10T01:56:37.218394Z",
     "iopub.status.idle": "2021-01-10T01:58:12.042495Z",
     "shell.execute_reply": "2021-01-10T01:58:12.043057Z"
    },
    "papermill": {
     "duration": 94.846666,
     "end_time": "2021-01-10T01:58:12.043252",
     "exception": false,
     "start_time": "2021-01-10T01:56:37.196586",
     "status": "completed"
    },
    "tags": []
   },
   "outputs": [],
   "source": [
    "train_df = dt.fread('../input/riiid-test-answer-prediction/train.csv', columns=set(data_types_dict.keys())).to_pandas()"
   ]
  },
  {
   "cell_type": "code",
   "execution_count": 7,
   "metadata": {
    "execution": {
     "iopub.execute_input": "2021-01-10T01:58:12.091608Z",
     "iopub.status.busy": "2021-01-10T01:58:12.090963Z",
     "iopub.status.idle": "2021-01-10T01:58:33.245433Z",
     "shell.execute_reply": "2021-01-10T01:58:33.244181Z"
    },
    "papermill": {
     "duration": 21.182404,
     "end_time": "2021-01-10T01:58:33.245630",
     "exception": false,
     "start_time": "2021-01-10T01:58:12.063226",
     "status": "completed"
    },
    "tags": []
   },
   "outputs": [],
   "source": [
    "train_df = train_df[train_df[target] != -1].reset_index(drop=True)\n",
    "\n",
    "train_df['prior_question_had_explanation'].fillna(False, inplace=True)\n",
    "train_df['prior_question_elapsed_time'].fillna(0, inplace=True)\n",
    "\n",
    "train_df = train_df.astype(data_types_dict)"
   ]
  },
  {
   "cell_type": "code",
   "execution_count": 8,
   "metadata": {
    "execution": {
     "iopub.execute_input": "2021-01-10T01:58:33.294547Z",
     "iopub.status.busy": "2021-01-10T01:58:33.293752Z",
     "iopub.status.idle": "2021-01-10T01:58:40.510879Z",
     "shell.execute_reply": "2021-01-10T01:58:40.509739Z"
    },
    "papermill": {
     "duration": 7.245982,
     "end_time": "2021-01-10T01:58:40.511015",
     "exception": false,
     "start_time": "2021-01-10T01:58:33.265033",
     "status": "completed"
    },
    "tags": []
   },
   "outputs": [],
   "source": [
    "if CV_SCHEME==\"time\":\n",
    "    max_timestamp_u = train_df[['user_id','timestamp']].groupby(['user_id']).agg(['max']).reset_index()\n",
    "    max_timestamp_u.columns = ['user_id', 'max_time_stamp']\n",
    "    MAX_TIME_STAMP = max_timestamp_u.max_time_stamp.max()\n",
    "\n",
    "    def rand_time(max_time_stamp):\n",
    "        interval = MAX_TIME_STAMP - max_time_stamp\n",
    "        rand_time_stamp = random.randint(0,interval)\n",
    "        return rand_time_stamp\n",
    "\n",
    "    max_timestamp_u['rand_time_stamp'] = max_timestamp_u.max_time_stamp.apply(rand_time)\n",
    "    train_df = train_df.merge(max_timestamp_u, on='user_id', how='left')\n",
    "    train_df['viretual_time_stamp'] = train_df.timestamp + train_df['rand_time_stamp']\n",
    "\n",
    "    del train_df['max_time_stamp']\n",
    "    del train_df['rand_time_stamp']\n",
    "    del max_timestamp_u\n",
    "\n",
    "    train_index = list(train_df['viretual_time_stamp'].nlargest(10000000).index)\n",
    "\n",
    "else:\n",
    "    if FULL_TRAIN:\n",
    "        train_size = 300\n",
    "    else:\n",
    "        train_size = 24\n",
    "        valid_size = 6\n",
    "    \n",
    "    train_index = list(train_df.groupby('user_id').tail(train_size).index)"
   ]
  },
  {
   "cell_type": "code",
   "execution_count": 9,
   "metadata": {
    "execution": {
     "iopub.execute_input": "2021-01-10T01:58:40.556266Z",
     "iopub.status.busy": "2021-01-10T01:58:40.555364Z",
     "iopub.status.idle": "2021-01-10T01:58:40.558762Z",
     "shell.execute_reply": "2021-01-10T01:58:40.558273Z"
    },
    "papermill": {
     "duration": 0.027868,
     "end_time": "2021-01-10T01:58:40.558871",
     "exception": false,
     "start_time": "2021-01-10T01:58:40.531003",
     "status": "completed"
    },
    "tags": []
   },
   "outputs": [],
   "source": [
    "# ##  badness of user answer ##\n",
    "# def calc_ratio(row):\n",
    "#     return row / sum(row)\n",
    "\n",
    "# def calc_cumsum(row):\n",
    "#     sorted_index = np.argsort(row)\n",
    "#     ans = row.copy()\n",
    "#     ratio = 0\n",
    "#     for index in sorted_index:\n",
    "#         ratio += row[index]\n",
    "#         ans[index] = ratio\n",
    "#     return ans\n",
    "\n",
    "# answer_count_by_question_df = train_df.groupby(\"content_id\")[\"user_answer\"].value_counts().unstack()\n",
    "# answer_count_by_question_df.fillna(0, inplace=True)\n",
    "# answer_ratio_by_question_df = answer_count_by_question_df.apply(calc_ratio, axis=1)\n",
    "# answer_ratio_by_question_df = answer_ratio_by_question_df.apply(calc_cumsum, axis=1)\n",
    "\n",
    "# answer_ratio_by_question_array = answer_ratio_by_question_df.to_numpy()\n",
    "\n",
    "# @jit\n",
    "# def calc_answer_badness(C, U):\n",
    "#     ans = np.zeros(len(C))\n",
    "#     for i in range(len(C)):\n",
    "#         ans[i] = answer_ratio_by_question_array[C[i]][U[i]]\n",
    "#     return ans\n",
    "\n",
    "# train_df[\"answer_badness\"] = calc_answer_badness(train_df[\"content_id\"].values, train_df[\"user_answer\"].values)"
   ]
  },
  {
   "cell_type": "code",
   "execution_count": 10,
   "metadata": {
    "execution": {
     "iopub.execute_input": "2021-01-10T01:58:40.602979Z",
     "iopub.status.busy": "2021-01-10T01:58:40.602392Z",
     "iopub.status.idle": "2021-01-10T01:58:40.605070Z",
     "shell.execute_reply": "2021-01-10T01:58:40.605506Z"
    },
    "papermill": {
     "duration": 0.027142,
     "end_time": "2021-01-10T01:58:40.605645",
     "exception": false,
     "start_time": "2021-01-10T01:58:40.578503",
     "status": "completed"
    },
    "tags": []
   },
   "outputs": [],
   "source": [
    "# ##  badness of user answer ##\n",
    "\n",
    "# period = 50\n",
    "\n",
    "# @jit\n",
    "# def mean_last(A):\n",
    "#     ans = np.zeros(len(A))\n",
    "#     for i in range(len(A)):\n",
    "#         if i < period:\n",
    "#             ans[i] = -1\n",
    "#         else:\n",
    "#             ans[i] = np.mean(A[i-period:i])\n",
    "#     return ans\n",
    "\n",
    "# @jit\n",
    "# def std_last(A):\n",
    "#     ans = np.zeros(len(A))\n",
    "#     for i in range(len(A)):\n",
    "#         if i < period:\n",
    "#             ans[i] = -1\n",
    "#         else:\n",
    "#             ans[i] = np.std(A[i-period:i])\n",
    "#     return ans\n",
    "\n",
    "# @jit\n",
    "# def min_last(A):\n",
    "#     ans = np.zeros(len(A))\n",
    "#     for i in range(len(A)):\n",
    "#         if i < period:\n",
    "#             ans[i] = -1\n",
    "#         else:\n",
    "#             ans[i] = np.min(A[i-period:i])\n",
    "#     return ans\n",
    "\n",
    "# answer_badness_mean_last_array = train_df.groupby(\"user_id\").apply(lambda x: mean_last(x[\"user_answer\"].values))\n",
    "# answer_badness_mean_last_array = np.hstack(answer_badness_mean_last_array)\n",
    "# answer_badness_mean_last_array = answer_badness_mean_last_array[train_index]\n",
    "\n",
    "# answer_badness_std_last_array = train_df.groupby(\"user_id\").apply(lambda x: std_last(x[\"user_answer\"].values))\n",
    "# answer_badness_std_last_array = np.hstack(answer_badness_std_last_array)\n",
    "# answer_badness_std_last_array = answer_badness_std_last_array[train_index]\n",
    "\n",
    "# answer_badness_min_last_array = train_df.groupby(\"user_id\").apply(lambda x: min_last(x[\"user_answer\"].values))\n",
    "# answer_badness_min_last_array = np.hstack(answer_badness_min_last_array)\n",
    "# answer_badness_min_last_array = answer_badness_min_last_array[train_index]\n",
    "\n",
    "# del train_df[\"answer_badness\"]"
   ]
  },
  {
   "cell_type": "code",
   "execution_count": 11,
   "metadata": {
    "execution": {
     "iopub.execute_input": "2021-01-10T01:58:40.649001Z",
     "iopub.status.busy": "2021-01-10T01:58:40.648362Z",
     "iopub.status.idle": "2021-01-10T01:58:47.275824Z",
     "shell.execute_reply": "2021-01-10T01:58:47.275273Z"
    },
    "papermill": {
     "duration": 6.650153,
     "end_time": "2021-01-10T01:58:47.275939",
     "exception": false,
     "start_time": "2021-01-10T01:58:40.625786",
     "status": "completed"
    },
    "tags": []
   },
   "outputs": [],
   "source": [
    "train_df[\"count\"] = 1\n",
    "\n",
    "# normal cumsum\n",
    "count_array = train_df.groupby(\"user_id\")[\"count\"].cumsum().values\n",
    "count_array = count_array[train_index]\n",
    "train_df.drop(\"count\", axis=1, inplace=True)"
   ]
  },
  {
   "cell_type": "code",
   "execution_count": 12,
   "metadata": {
    "execution": {
     "iopub.execute_input": "2021-01-10T01:58:47.328467Z",
     "iopub.status.busy": "2021-01-10T01:58:47.327143Z",
     "iopub.status.idle": "2021-01-10T02:03:47.148224Z",
     "shell.execute_reply": "2021-01-10T02:03:47.148833Z"
    },
    "papermill": {
     "duration": 299.853202,
     "end_time": "2021-01-10T02:03:47.149070",
     "exception": false,
     "start_time": "2021-01-10T01:58:47.295868",
     "status": "completed"
    },
    "tags": []
   },
   "outputs": [
    {
     "name": "stdout",
     "output_type": "stream",
     "text": [
      "Flushing output cache (0 entries)\n",
      "Flushing input history\n",
      "Flushing output cache (0 entries)\n",
      "Flushing input history\n",
      "Flushing output cache (0 entries)\n",
      "Flushing input history\n",
      "Flushing output cache (0 entries)\n",
      "Flushing input history\n"
     ]
    }
   ],
   "source": [
    "timediff_array = train_df.groupby(\"user_id\")[\"timestamp\"].diff().values\n",
    "timediff_array = timediff_array[train_index]\n",
    "clear_mem()\n",
    "\n",
    "timediff2_array = train_df.groupby(\"user_id\")[\"timestamp\"].diff(2).values\n",
    "timediff2_array = timediff2_array[train_index]\n",
    "clear_mem()\n",
    "\n",
    "timediff3_array = train_df.groupby(\"user_id\")[\"timestamp\"].diff(3).values\n",
    "timediff3_array = timediff3_array[train_index]\n",
    "clear_mem()\n",
    "\n",
    "timediff4_array = train_df.groupby(\"user_id\")[\"timestamp\"].diff(4).values\n",
    "timediff4_array = timediff4_array[train_index]\n",
    "clear_mem()\n",
    "\n",
    "user_timestamp_max_dict = train_df.groupby(\"user_id\")[\"timestamp\"].apply(lambda x: x[-4:].values).to_dict(defaultdict(partial(np.ndarray, 0, dtype=\"int64\")))\n",
    "\n",
    "train_df.drop(\"timestamp\", axis=1, inplace=True)\n",
    "\n",
    "timediff_array = np.nan_to_num(timediff_array, nan=-1)\n",
    "timediff2_array = np.nan_to_num(timediff2_array, nan=-1)\n",
    "timediff3_array = np.nan_to_num(timediff3_array, nan=-1)\n",
    "timediff4_array = np.nan_to_num(timediff4_array, nan=-1)"
   ]
  },
  {
   "cell_type": "code",
   "execution_count": 13,
   "metadata": {
    "execution": {
     "iopub.execute_input": "2021-01-10T02:03:48.989613Z",
     "iopub.status.busy": "2021-01-10T02:03:48.988836Z",
     "iopub.status.idle": "2021-01-10T02:03:49.022039Z",
     "shell.execute_reply": "2021-01-10T02:03:49.021393Z"
    },
    "papermill": {
     "duration": 1.852098,
     "end_time": "2021-01-10T02:03:49.022171",
     "exception": false,
     "start_time": "2021-01-10T02:03:47.170073",
     "status": "completed"
    },
    "tags": []
   },
   "outputs": [],
   "source": [
    "prior_question_elapsed_time_array = train_df.prior_question_elapsed_time.values\n",
    "train_df.drop(\"prior_question_elapsed_time\", axis =1, inplace=True)\n",
    "prior_question_elapsed_time_array = prior_question_elapsed_time_array[train_index]"
   ]
  },
  {
   "cell_type": "code",
   "execution_count": 14,
   "metadata": {
    "execution": {
     "iopub.execute_input": "2021-01-10T02:03:49.081654Z",
     "iopub.status.busy": "2021-01-10T02:03:49.080913Z",
     "iopub.status.idle": "2021-01-10T02:04:04.224157Z",
     "shell.execute_reply": "2021-01-10T02:04:04.223642Z"
    },
    "papermill": {
     "duration": 15.180869,
     "end_time": "2021-01-10T02:04:04.224278",
     "exception": false,
     "start_time": "2021-01-10T02:03:49.043409",
     "status": "completed"
    },
    "tags": []
   },
   "outputs": [],
   "source": [
    "questions_df = pd.read_csv(\n",
    "    '../input/riiid-test-answer-prediction/questions.csv', \n",
    "    usecols=[0, 3], \n",
    "    dtype={'question_id': 'int16', 'part': 'int8'} \n",
    ")\n",
    "\n",
    "additional_q_df = pd.read_csv('../input/riiid-question-clustering/question_cmnts.csv')\n",
    "questions_df[\"community\"] = additional_q_df[\"community\"].astype('int8')\n",
    "del additional_q_df \n",
    "    \n",
    "train_df = pd.merge(train_df, questions_df, left_on='content_id', right_on='question_id', how='left', right_index=True).reset_index(drop=True)\n",
    "train_df.drop(columns=['question_id'], inplace=True)"
   ]
  },
  {
   "cell_type": "code",
   "execution_count": 15,
   "metadata": {
    "execution": {
     "iopub.execute_input": "2021-01-10T02:04:04.288720Z",
     "iopub.status.busy": "2021-01-10T02:04:04.283481Z",
     "iopub.status.idle": "2021-01-10T02:04:04.299458Z",
     "shell.execute_reply": "2021-01-10T02:04:04.299869Z"
    },
    "papermill": {
     "duration": 0.053752,
     "end_time": "2021-01-10T02:04:04.300021",
     "exception": false,
     "start_time": "2021-01-10T02:04:04.246269",
     "status": "completed"
    },
    "tags": []
   },
   "outputs": [
    {
     "name": "stdout",
     "output_type": "stream",
     "text": [
      "76\n"
     ]
    }
   ],
   "source": [
    "###\n",
    "community_num = len(questions_df.community.unique())\n",
    "print(community_num)\n",
    "\n",
    "@jit\n",
    "def tag_accuracy(A, C):\n",
    "    ans = []\n",
    "    community_count = [0] * community_num\n",
    "    community_correct = [0] * community_num\n",
    "    for i in range(len(C)):\n",
    "        if community_count[C[i]]==0:\n",
    "            ans.append(-1)\n",
    "        else:\n",
    "            ans.append(community_correct[C[i]]/community_count[C[i]])\n",
    "        community_count[C[i]] +=1\n",
    "        community_correct[C[i]] += A[i]\n",
    "    return np.array(ans)\n",
    "\n",
    "@jit\n",
    "def tag_correct_last(A, C):\n",
    "    community_correct = [0] * community_num\n",
    "    for i in range(len(C)):\n",
    "        community_correct[C[i]] += A[i]\n",
    "    return np.array(community_correct)\n",
    "\n",
    "@jit\n",
    "def tag_count_last(A, C):\n",
    "    community_count = [0] * community_num\n",
    "    for i in range(len(C)):\n",
    "        community_count[C[i]] +=1\n",
    "    return np.array(community_count)\n",
    "\n",
    "def init_dict():\n",
    "    ans = [0] * community_num\n",
    "    return np.array(ans)"
   ]
  },
  {
   "cell_type": "code",
   "execution_count": 16,
   "metadata": {
    "execution": {
     "iopub.execute_input": "2021-01-10T02:04:04.353886Z",
     "iopub.status.busy": "2021-01-10T02:04:04.353259Z",
     "iopub.status.idle": "2021-01-10T02:05:42.879370Z",
     "shell.execute_reply": "2021-01-10T02:05:42.878743Z"
    },
    "papermill": {
     "duration": 98.557331,
     "end_time": "2021-01-10T02:05:42.879547",
     "exception": false,
     "start_time": "2021-01-10T02:04:04.322216",
     "status": "completed"
    },
    "tags": []
   },
   "outputs": [],
   "source": [
    "#\n",
    "tag_acc_array = train_df.groupby(\"user_id\").apply(lambda x: tag_accuracy(x[\"answered_correctly\"].values, x[\"community\"].values))\n",
    "tag_acc_array = np.hstack(tag_acc_array)\n",
    "tag_acc_array = tag_acc_array[train_index]\n",
    "\n",
    "user_community_count_dict = train_df.groupby(\"user_id\").apply(lambda x: tag_count_last(x[\"answered_correctly\"].values, x[\"community\"].values)).to_dict(defaultdict(init_dict))\n",
    "user_community_correct_dict = train_df.groupby(\"user_id\").apply(lambda x: tag_correct_last(x[\"answered_correctly\"].values, x[\"community\"].values)).to_dict(defaultdict(init_dict))\n",
    "    \n",
    "#\n",
    "community_agg = train_df.groupby('community')[target].agg(['count'])\n",
    "community_count_dict = community_agg['count'].astype('int32').to_dict(defaultdict(int))\n",
    "community_count_array = train_df['community'].map(community_agg['count']).astype('int32').values\n",
    "del community_agg\n",
    "community_count_array = community_count_array[train_index]\n",
    "    \n",
    "community_array = train_df[\"community\"].values\n",
    "community_array = community_array[train_index]\n",
    "train_df.drop('community', axis=1, inplace=True)"
   ]
  },
  {
   "cell_type": "code",
   "execution_count": 17,
   "metadata": {
    "execution": {
     "iopub.execute_input": "2021-01-10T02:05:42.932053Z",
     "iopub.status.busy": "2021-01-10T02:05:42.930766Z",
     "iopub.status.idle": "2021-01-10T02:05:56.759233Z",
     "shell.execute_reply": "2021-01-10T02:05:56.758566Z"
    },
    "papermill": {
     "duration": 13.856887,
     "end_time": "2021-01-10T02:05:56.759357",
     "exception": false,
     "start_time": "2021-01-10T02:05:42.902470",
     "status": "completed"
    },
    "tags": []
   },
   "outputs": [],
   "source": [
    "train_df['lag'] = train_df.groupby('user_id')[target].shift()\n",
    "cum = train_df.groupby('user_id')['lag'].agg(['cumsum', 'cumcount'])\n",
    "user_correctness_array = np.array(cum['cumsum'] / cum['cumcount'])\n",
    "user_correctness_array = user_correctness_array[train_index]\n",
    "train_df.drop(columns=['lag'], inplace=True)\n",
    "del cum"
   ]
  },
  {
   "cell_type": "code",
   "execution_count": 18,
   "metadata": {
    "execution": {
     "iopub.execute_input": "2021-01-10T02:05:56.827633Z",
     "iopub.status.busy": "2021-01-10T02:05:56.826280Z",
     "iopub.status.idle": "2021-01-10T02:06:42.946004Z",
     "shell.execute_reply": "2021-01-10T02:06:42.945461Z"
    },
    "papermill": {
     "duration": 46.163966,
     "end_time": "2021-01-10T02:06:42.946180",
     "exception": false,
     "start_time": "2021-01-10T02:05:56.782214",
     "status": "completed"
    },
    "tags": []
   },
   "outputs": [],
   "source": [
    "@jit\n",
    "def part_count_calc(P):\n",
    "    ans = []\n",
    "    part_count = [0] * 8\n",
    "    for i in range(len(P)):\n",
    "        part_count[P[i]] += 1\n",
    "        ans.append(part_count[P[i]])\n",
    "    return np.array(ans)\n",
    "\n",
    "@jit\n",
    "def part_count_dict_calc(P):\n",
    "    part_count = [0] * 8\n",
    "    for i in range(len(P)):\n",
    "        part_count[P[i]] += 1\n",
    "    return np.array(part_count)\n",
    "\n",
    "def part_dict_init():\n",
    "    ans = [0] * 8\n",
    "    return np.array(ans)\n",
    "\n",
    "part_count_array = train_df.groupby(\"user_id\").apply(lambda x: part_count_calc(x[\"part\"].values))\n",
    "part_count_array = np.hstack(part_count_array)\n",
    "part_count_array = part_count_array[train_index]\n",
    "part_ratio_array = part_count_array / count_array\n",
    "\n",
    "user_part_count_dict = train_df.groupby(\"user_id\").apply(lambda x: part_count_dict_calc(x[\"part\"].values)).to_dict(defaultdict(part_dict_init))\n",
    "\n",
    "part_array = train_df.part.values\n",
    "train_df.drop(\"part\", axis=1, inplace=True)\n",
    "part_array = part_array[train_index]"
   ]
  },
  {
   "cell_type": "code",
   "execution_count": 19,
   "metadata": {
    "execution": {
     "iopub.execute_input": "2021-01-10T02:06:42.999305Z",
     "iopub.status.busy": "2021-01-10T02:06:42.998593Z",
     "iopub.status.idle": "2021-01-10T02:07:04.826743Z",
     "shell.execute_reply": "2021-01-10T02:07:04.826250Z"
    },
    "papermill": {
     "duration": 21.857896,
     "end_time": "2021-01-10T02:07:04.826858",
     "exception": false,
     "start_time": "2021-01-10T02:06:42.968962",
     "status": "completed"
    },
    "tags": []
   },
   "outputs": [],
   "source": [
    "train_df['lag'] = train_df.groupby('user_id')['prior_question_had_explanation'].shift().astype(bool)\n",
    "cum = train_df.groupby('user_id')['lag'].agg(['cumsum', 'cumcount'])\n",
    "prior_question_had_explanation_mean_array = np.array(cum['cumsum'] / cum['cumcount'])\n",
    "prior_question_had_explanation_mean_array = prior_question_had_explanation_mean_array[train_index]\n",
    "\n",
    "user_prior_question_had_explanation_sum_agg = train_df.groupby('user_id')[\"prior_question_had_explanation\"].agg(['sum'])\n",
    "user_prior_question_had_explanation_sum_dict = user_prior_question_had_explanation_sum_agg['sum'].astype('int32').to_dict(defaultdict(int))\n",
    "train_df.drop(columns=['lag'], inplace=True)\n",
    "del cum, user_prior_question_had_explanation_sum_agg\n",
    "\n",
    "prior_question_had_explanation_array = train_df.prior_question_had_explanation.values\n",
    "train_df.drop('prior_question_had_explanation', axis=1, inplace=True)\n",
    "prior_question_had_explanation_array = prior_question_had_explanation_array[train_index]"
   ]
  },
  {
   "cell_type": "code",
   "execution_count": 20,
   "metadata": {
    "execution": {
     "iopub.execute_input": "2021-01-10T02:07:04.890363Z",
     "iopub.status.busy": "2021-01-10T02:07:04.889691Z",
     "iopub.status.idle": "2021-01-10T02:07:26.741146Z",
     "shell.execute_reply": "2021-01-10T02:07:26.741580Z"
    },
    "papermill": {
     "duration": 21.892958,
     "end_time": "2021-01-10T02:07:26.741727",
     "exception": false,
     "start_time": "2021-01-10T02:07:04.848769",
     "status": "completed"
    },
    "tags": []
   },
   "outputs": [
    {
     "name": "stdout",
     "output_type": "stream",
     "text": [
      "Flushing output cache (0 entries)\n",
      "Flushing input history\n"
     ]
    }
   ],
   "source": [
    "first_attempt_df = pd.read_csv(\"../input/riiid-premade-data/content_first_attempt.csv\")\n",
    "first_attempt_array = first_attempt_df.first_attempt.values\n",
    "train_df[\"first_attempt\"] = first_attempt_array\n",
    "\n",
    "unique_attempt_array= train_df.groupby(\"user_id\")[\"first_attempt\"].cumsum().values\n",
    "train_df[\"unique_attempt\"] = unique_attempt_array\n",
    "user_unique_agg = train_df.groupby('user_id')[\"unique_attempt\"].agg(['max'])\n",
    "user_unique_dict = user_unique_agg['max'].astype('int32').to_dict(defaultdict(int))\n",
    "\n",
    "first_attempt_array = first_attempt_array[train_index]\n",
    "unique_attempt_array = unique_attempt_array[train_index]\n",
    "train_df.drop(['first_attempt', 'unique_attempt'], axis=1, inplace=True)\n",
    "del first_attempt_df, user_unique_agg\n",
    "\n",
    "clear_mem()"
   ]
  },
  {
   "cell_type": "code",
   "execution_count": 21,
   "metadata": {
    "execution": {
     "iopub.execute_input": "2021-01-10T02:07:26.791294Z",
     "iopub.status.busy": "2021-01-10T02:07:26.790719Z",
     "iopub.status.idle": "2021-01-10T02:07:38.987458Z",
     "shell.execute_reply": "2021-01-10T02:07:38.986932Z"
    },
    "papermill": {
     "duration": 12.223085,
     "end_time": "2021-01-10T02:07:38.987580",
     "exception": false,
     "start_time": "2021-01-10T02:07:26.764495",
     "status": "completed"
    },
    "tags": []
   },
   "outputs": [
    {
     "name": "stdout",
     "output_type": "stream",
     "text": [
      "Flushing output cache (0 entries)\n",
      "Flushing input history\n",
      "Flushing output cache (0 entries)\n",
      "Flushing input history\n"
     ]
    }
   ],
   "source": [
    "user_agg = train_df.groupby('user_id')[target].agg(['sum', 'count'])\n",
    "user_sum_dict = user_agg['sum'].astype('int16').to_dict(defaultdict(int))\n",
    "del user_agg['sum']\n",
    "user_count_dict = user_agg['count'].astype('int16').to_dict(defaultdict(int))\n",
    "del user_agg['count']\n",
    "clear_mem()\n",
    "\n",
    "#\n",
    "content_agg = train_df.groupby('content_id')[target].agg(['sum', 'count'])\n",
    "content_sum_dict = content_agg['sum'].astype('int32').to_dict(defaultdict(int))\n",
    "content_count_dict = content_agg['count'].astype('int32').to_dict(defaultdict(int))\n",
    "\n",
    "content_count_array = train_df['content_id'].map(content_agg['count']).astype('int32').values\n",
    "content_id_array = train_df['content_id'].map(content_agg['sum'] / content_agg['count']).values\n",
    "del content_agg\n",
    "clear_mem()"
   ]
  },
  {
   "cell_type": "code",
   "execution_count": 22,
   "metadata": {
    "execution": {
     "iopub.execute_input": "2021-01-10T02:07:39.700606Z",
     "iopub.status.busy": "2021-01-10T02:07:39.699563Z",
     "iopub.status.idle": "2021-01-10T02:07:51.692600Z",
     "shell.execute_reply": "2021-01-10T02:07:51.691871Z"
    },
    "papermill": {
     "duration": 12.681643,
     "end_time": "2021-01-10T02:07:51.692715",
     "exception": false,
     "start_time": "2021-01-10T02:07:39.011072",
     "status": "completed"
    },
    "tags": []
   },
   "outputs": [],
   "source": [
    "# benefit of solving difficult questions\n",
    "#point_array = 1 / (content_id_array + 0.1)\n",
    "content_id_array = content_id_array[train_index]\n",
    "content_count_array = content_count_array[train_index]\n",
    "\n",
    "with open('../input/riiid-premade-data/got_point_array.pickle','rb') as f:\n",
    "    got_point_array = pickle.load(f)\n",
    "got_point_array = got_point_array[train_index]\n",
    "    \n",
    "with open('../input/riiid-premade-data/user_point_sum_dict.pickle','rb') as f:\n",
    "    user_point_sum_dict = pickle.load(f)"
   ]
  },
  {
   "cell_type": "code",
   "execution_count": 23,
   "metadata": {
    "execution": {
     "iopub.execute_input": "2021-01-10T02:07:52.274373Z",
     "iopub.status.busy": "2021-01-10T02:07:52.273680Z",
     "iopub.status.idle": "2021-01-10T02:08:07.972969Z",
     "shell.execute_reply": "2021-01-10T02:08:07.973410Z"
    },
    "papermill": {
     "duration": 16.257075,
     "end_time": "2021-01-10T02:08:07.973561",
     "exception": false,
     "start_time": "2021-01-10T02:07:51.716486",
     "status": "completed"
    },
    "tags": []
   },
   "outputs": [
    {
     "name": "stdout",
     "output_type": "stream",
     "text": [
      "CPU times: user 3.96 s, sys: 2.41 s, total: 6.36 s\n",
      "Wall time: 16.2 s\n"
     ]
    }
   ],
   "source": [
    "%%time\n",
    "train_df.drop([\"content_id\"], axis=1, inplace=True)\n",
    "\n",
    "with open('../input/riiid-premade-data/user_content_dict.pickle','rb') as f:\n",
    "    user_content_dict = pickle.load(f)"
   ]
  },
  {
   "cell_type": "code",
   "execution_count": 24,
   "metadata": {
    "execution": {
     "iopub.execute_input": "2021-01-10T02:08:08.085572Z",
     "iopub.status.busy": "2021-01-10T02:08:08.077053Z",
     "iopub.status.idle": "2021-01-10T02:08:17.770545Z",
     "shell.execute_reply": "2021-01-10T02:08:17.769080Z"
    },
    "papermill": {
     "duration": 9.77334,
     "end_time": "2021-01-10T02:08:17.770686",
     "exception": false,
     "start_time": "2021-01-10T02:08:07.997346",
     "status": "completed"
    },
    "tags": []
   },
   "outputs": [],
   "source": [
    "def init_last7():\n",
    "    ans = [-1] * 7\n",
    "    return np.array(ans)\n",
    "\n",
    "with open('../input/riiid-premade-data/answered_correctly_last7_array.pickle','rb') as f:\n",
    "    answered_correctly_last7_array = pickle.load(f)\n",
    "answered_correctly_last7_array = answered_correctly_last7_array[train_index]\n",
    "    \n",
    "with open('../input/riiid-premade-data/user_last7_answer_dict.pickle','rb') as f:\n",
    "    user_last7_answer_dict = pickle.load(f)"
   ]
  },
  {
   "cell_type": "code",
   "execution_count": 25,
   "metadata": {
    "execution": {
     "iopub.execute_input": "2021-01-10T02:08:18.971373Z",
     "iopub.status.busy": "2021-01-10T02:08:18.280078Z",
     "iopub.status.idle": "2021-01-10T02:08:18.995217Z",
     "shell.execute_reply": "2021-01-10T02:08:18.994534Z"
    },
    "papermill": {
     "duration": 1.200401,
     "end_time": "2021-01-10T02:08:18.995332",
     "exception": false,
     "start_time": "2021-01-10T02:08:17.794931",
     "status": "completed"
    },
    "tags": []
   },
   "outputs": [],
   "source": [
    "answered_correctly_array = train_df[target].values\n",
    "train_df.drop(target, axis=1, inplace=True)\n",
    "answered_correctly_array = answered_correctly_array[train_index]"
   ]
  },
  {
   "cell_type": "markdown",
   "metadata": {
    "papermill": {
     "duration": 0.023928,
     "end_time": "2021-01-10T02:08:19.044490",
     "exception": false,
     "start_time": "2021-01-10T02:08:19.020562",
     "status": "completed"
    },
    "tags": []
   },
   "source": [
    "# data formation"
   ]
  },
  {
   "cell_type": "code",
   "execution_count": 26,
   "metadata": {
    "execution": {
     "iopub.execute_input": "2021-01-10T02:08:19.748126Z",
     "iopub.status.busy": "2021-01-10T02:08:19.747440Z",
     "iopub.status.idle": "2021-01-10T02:08:35.962878Z",
     "shell.execute_reply": "2021-01-10T02:08:35.963502Z"
    },
    "papermill": {
     "duration": 16.894826,
     "end_time": "2021-01-10T02:08:35.963696",
     "exception": false,
     "start_time": "2021-01-10T02:08:19.068870",
     "status": "completed"
    },
    "tags": []
   },
   "outputs": [],
   "source": [
    "if not FULL_TRAIN:\n",
    "    train_df = train_df[train_df.index.isin(train_index)].reset_index(drop=True)\n",
    "    if CV_SCHEME == \"original\":\n",
    "        valid_index = list(train_df.groupby('user_id').tail(valid_size).index)\n",
    "    else:\n",
    "        valid_index = list(train_df['viretual_time_stamp'].nlargest(2500000).index)\n",
    "    train_index = list(train_df[~train_df.index.isin(valid_index)].index)\n",
    "del train_df"
   ]
  },
  {
   "cell_type": "code",
   "execution_count": 27,
   "metadata": {
    "execution": {
     "iopub.execute_input": "2021-01-10T02:08:36.017196Z",
     "iopub.status.busy": "2021-01-10T02:08:36.016570Z",
     "iopub.status.idle": "2021-01-10T02:08:36.026494Z",
     "shell.execute_reply": "2021-01-10T02:08:36.025982Z"
    },
    "papermill": {
     "duration": 0.037386,
     "end_time": "2021-01-10T02:08:36.026602",
     "exception": false,
     "start_time": "2021-01-10T02:08:35.989216",
     "status": "completed"
    },
    "tags": []
   },
   "outputs": [
    {
     "name": "stdout",
     "output_type": "stream",
     "text": [
      "21\n"
     ]
    }
   ],
   "source": [
    "features_dict = {\n",
    "    'content_id': content_id_array,\n",
    "    'prior_question_elapsed_time': prior_question_elapsed_time_array,\n",
    "    'prior_question_had_explanation':  prior_question_had_explanation_array,\n",
    "    'user_correctness': user_correctness_array,\n",
    "    'part': part_array,\n",
    "    'content_count': content_count_array,\n",
    "    'count': count_array,\n",
    "    'first_attempt': first_attempt_array,\n",
    "    'unique_attempt': unique_attempt_array,\n",
    "    'part_count': part_count_array,\n",
    "    'part_ratio': part_ratio_array,\n",
    "    'prior_question_had_explanation_mean': prior_question_had_explanation_mean_array,\n",
    "    'got_point': got_point_array,\n",
    "    'answered_correctly_last7': answered_correctly_last7_array,   \n",
    "    'timediff': timediff_array,\n",
    "    'timediff2': timediff2_array,\n",
    "    'timediff3': timediff3_array,\n",
    "    'timediff4': timediff4_array,\n",
    "    'community': community_array,\n",
    "    'tag_acc': tag_acc_array,\n",
    "    'community_count': community_count_array,\n",
    "    #'answer_badness_mean_last': answer_badness_mean_last_array,\n",
    "    #'answer_badness_std_last': answer_badness_std_last_array,\n",
    "    #'answer_badness_min_last': answer_badness_min_last_array,\n",
    "}\n",
    "\n",
    "features = list(features_dict.keys())\n",
    "print(len(features))\n",
    "\n",
    "del content_id_array, prior_question_elapsed_time_array, prior_question_had_explanation_array,\n",
    "del user_correctness_array, part_array,\n",
    "del content_count_array, count_array, first_attempt_array, unique_attempt_array,\n",
    "del part_ratio_array, part_count_array,\n",
    "del prior_question_had_explanation_mean_array, got_point_array, \n",
    "del answered_correctly_last7_array, timediff_array, timediff2_array, timediff3_array, timediff4_array,\n",
    "del community_array,\n",
    "del tag_acc_array, community_count_array"
   ]
  },
  {
   "cell_type": "code",
   "execution_count": 28,
   "metadata": {
    "execution": {
     "iopub.execute_input": "2021-01-10T02:08:36.083576Z",
     "iopub.status.busy": "2021-01-10T02:08:36.082959Z",
     "iopub.status.idle": "2021-01-10T02:08:36.086894Z",
     "shell.execute_reply": "2021-01-10T02:08:36.086457Z"
    },
    "papermill": {
     "duration": 0.035101,
     "end_time": "2021-01-10T02:08:36.087007",
     "exception": false,
     "start_time": "2021-01-10T02:08:36.051906",
     "status": "completed"
    },
    "tags": []
   },
   "outputs": [
    {
     "name": "stdout",
     "output_type": "stream",
     "text": [
      "(6536675, 22) (2360984, 22)\n"
     ]
    }
   ],
   "source": [
    "if FULL_TRAIN:\n",
    "    print(len(train_index), len(features)+1)\n",
    "else:\n",
    "    print((len(train_index), len(features)+1), (len(valid_index), len(features)+1))"
   ]
  },
  {
   "cell_type": "markdown",
   "metadata": {
    "papermill": {
     "duration": 0.024438,
     "end_time": "2021-01-10T02:08:36.136831",
     "exception": false,
     "start_time": "2021-01-10T02:08:36.112393",
     "status": "completed"
    },
    "tags": []
   },
   "source": [
    "# Train"
   ]
  },
  {
   "cell_type": "code",
   "execution_count": 29,
   "metadata": {
    "execution": {
     "iopub.execute_input": "2021-01-10T02:08:36.192145Z",
     "iopub.status.busy": "2021-01-10T02:08:36.191504Z",
     "iopub.status.idle": "2021-01-10T02:08:36.193867Z",
     "shell.execute_reply": "2021-01-10T02:08:36.194324Z"
    },
    "papermill": {
     "duration": 0.032946,
     "end_time": "2021-01-10T02:08:36.194470",
     "exception": false,
     "start_time": "2021-01-10T02:08:36.161524",
     "status": "completed"
    },
    "tags": []
   },
   "outputs": [],
   "source": [
    "params = {\n",
    "    'objective': 'binary',\n",
    "    'seed': 42,\n",
    "    'metric': 'auc',\n",
    "    'learning_rate': 0.05,\n",
    "    'max_bin': 800,\n",
    "    'num_leaves': 80\n",
    "}\n",
    "\n",
    "# params = {\n",
    "#     'objective': 'binary',\n",
    "#     'seed': 42,\n",
    "#     'metric': 'auc',\n",
    "#     'learning_rate': 0.05,\n",
    "#     'max_bin': 600,\n",
    "#     'num_leaves': 80,\n",
    "#     'bagging_fraction': 0.8,\n",
    "#     'bagging_freq': 3,\n",
    "# }"
   ]
  },
  {
   "cell_type": "code",
   "execution_count": 30,
   "metadata": {
    "execution": {
     "iopub.execute_input": "2021-01-10T02:08:36.756161Z",
     "iopub.status.busy": "2021-01-10T02:08:36.755482Z",
     "iopub.status.idle": "2021-01-10T02:08:53.552947Z",
     "shell.execute_reply": "2021-01-10T02:08:53.553471Z"
    },
    "papermill": {
     "duration": 17.333456,
     "end_time": "2021-01-10T02:08:53.553617",
     "exception": false,
     "start_time": "2021-01-10T02:08:36.220161",
     "status": "completed"
    },
    "tags": []
   },
   "outputs": [],
   "source": [
    "if FULL_TRAIN:\n",
    "    X_train = np.ndarray(shape=(len(train_index), len(features)), dtype=np.float32)\n",
    "\n",
    "    for idx, feature in enumerate(features):\n",
    "        X_train[:,idx] = features_dict[feature].astype(np.float32).reshape(-1)\n",
    "        del features_dict[feature]\n",
    "    y_train = answered_correctly_array.astype(np.float32)\n",
    "    tr_data = lgb.Dataset(X_train, label=y_train)\n",
    "else:\n",
    "    X_train = np.ndarray(shape=(len(train_index), len(features)), dtype=np.float32)\n",
    "    X_valid = np.ndarray(shape=(len(valid_index), len(features)), dtype=np.float32)\n",
    "\n",
    "    for idx, feature in enumerate(features):\n",
    "        X_train[:,idx] = features_dict[feature][train_index].astype(np.float32).reshape(-1)\n",
    "        X_valid[:,idx] = features_dict[feature][valid_index].astype(np.float32).reshape(-1)\n",
    "        del features_dict[feature]\n",
    "    y_train = answered_correctly_array[train_index].astype(np.float32)\n",
    "    y_valid = answered_correctly_array[valid_index].astype(np.float32)\n",
    "\n",
    "    tr_data = lgb.Dataset(X_train, label=y_train)\n",
    "    va_data = lgb.Dataset(X_valid, label=y_valid)"
   ]
  },
  {
   "cell_type": "code",
   "execution_count": 31,
   "metadata": {
    "execution": {
     "iopub.execute_input": "2021-01-10T02:08:53.606511Z",
     "iopub.status.busy": "2021-01-10T02:08:53.605908Z",
     "iopub.status.idle": "2021-01-10T03:18:47.394465Z",
     "shell.execute_reply": "2021-01-10T03:18:47.395360Z"
    },
    "papermill": {
     "duration": 4193.816941,
     "end_time": "2021-01-10T03:18:47.395668",
     "exception": false,
     "start_time": "2021-01-10T02:08:53.578727",
     "status": "completed"
    },
    "tags": []
   },
   "outputs": [
    {
     "name": "stdout",
     "output_type": "stream",
     "text": [
      "training starts\n",
      "Training until validation scores don't improve for 15 rounds\n",
      "[50]\ttraining's auc: 0.765461\tvalid_1's auc: 0.751976\n",
      "[100]\ttraining's auc: 0.76999\tvalid_1's auc: 0.757083\n",
      "[150]\ttraining's auc: 0.772205\tvalid_1's auc: 0.759466\n",
      "[200]\ttraining's auc: 0.77345\tvalid_1's auc: 0.760579\n",
      "[250]\ttraining's auc: 0.774299\tvalid_1's auc: 0.761277\n",
      "[300]\ttraining's auc: 0.774902\tvalid_1's auc: 0.761658\n",
      "[350]\ttraining's auc: 0.775399\tvalid_1's auc: 0.761928\n",
      "[400]\ttraining's auc: 0.775911\tvalid_1's auc: 0.762231\n",
      "[450]\ttraining's auc: 0.776312\tvalid_1's auc: 0.76243\n",
      "[500]\ttraining's auc: 0.7767\tvalid_1's auc: 0.762599\n",
      "[550]\ttraining's auc: 0.777105\tvalid_1's auc: 0.762781\n",
      "[600]\ttraining's auc: 0.777453\tvalid_1's auc: 0.762903\n",
      "[650]\ttraining's auc: 0.777844\tvalid_1's auc: 0.76307\n",
      "[700]\ttraining's auc: 0.778218\tvalid_1's auc: 0.763229\n",
      "[750]\ttraining's auc: 0.778576\tvalid_1's auc: 0.763366\n",
      "[800]\ttraining's auc: 0.778966\tvalid_1's auc: 0.763544\n",
      "[850]\ttraining's auc: 0.779275\tvalid_1's auc: 0.763655\n",
      "[900]\ttraining's auc: 0.779647\tvalid_1's auc: 0.763811\n",
      "[950]\ttraining's auc: 0.77998\tvalid_1's auc: 0.763908\n",
      "[1000]\ttraining's auc: 0.780302\tvalid_1's auc: 0.764004\n",
      "[1050]\ttraining's auc: 0.780625\tvalid_1's auc: 0.764115\n",
      "[1100]\ttraining's auc: 0.780947\tvalid_1's auc: 0.764207\n",
      "[1150]\ttraining's auc: 0.781268\tvalid_1's auc: 0.764313\n",
      "[1200]\ttraining's auc: 0.781563\tvalid_1's auc: 0.764387\n",
      "[1250]\ttraining's auc: 0.781868\tvalid_1's auc: 0.76446\n",
      "[1300]\ttraining's auc: 0.782142\tvalid_1's auc: 0.764511\n",
      "[1350]\ttraining's auc: 0.782433\tvalid_1's auc: 0.764582\n",
      "[1400]\ttraining's auc: 0.782701\tvalid_1's auc: 0.764615\n",
      "[1450]\ttraining's auc: 0.783001\tvalid_1's auc: 0.764683\n",
      "[1500]\ttraining's auc: 0.783256\tvalid_1's auc: 0.764713\n",
      "[1550]\ttraining's auc: 0.783511\tvalid_1's auc: 0.764752\n",
      "[1600]\ttraining's auc: 0.783762\tvalid_1's auc: 0.764778\n",
      "[1650]\ttraining's auc: 0.784046\tvalid_1's auc: 0.764819\n",
      "[1700]\ttraining's auc: 0.784324\tvalid_1's auc: 0.764876\n",
      "[1750]\ttraining's auc: 0.784566\tvalid_1's auc: 0.76491\n",
      "[1800]\ttraining's auc: 0.784825\tvalid_1's auc: 0.76494\n",
      "[1850]\ttraining's auc: 0.78507\tvalid_1's auc: 0.76496\n",
      "[1900]\ttraining's auc: 0.785317\tvalid_1's auc: 0.764985\n",
      "[1950]\ttraining's auc: 0.78557\tvalid_1's auc: 0.765019\n",
      "[2000]\ttraining's auc: 0.785811\tvalid_1's auc: 0.765041\n",
      "[2050]\ttraining's auc: 0.786073\tvalid_1's auc: 0.765075\n",
      "[2100]\ttraining's auc: 0.786338\tvalid_1's auc: 0.765108\n",
      "[2150]\ttraining's auc: 0.78658\tvalid_1's auc: 0.765133\n",
      "[2200]\ttraining's auc: 0.786837\tvalid_1's auc: 0.765168\n",
      "[2250]\ttraining's auc: 0.787102\tvalid_1's auc: 0.765202\n",
      "[2300]\ttraining's auc: 0.787324\tvalid_1's auc: 0.765218\n",
      "[2350]\ttraining's auc: 0.787566\tvalid_1's auc: 0.765246\n",
      "[2400]\ttraining's auc: 0.787809\tvalid_1's auc: 0.76527\n",
      "[2450]\ttraining's auc: 0.788038\tvalid_1's auc: 0.765281\n",
      "Early stopping, best iteration is:\n",
      "[2466]\ttraining's auc: 0.788117\tvalid_1's auc: 0.765288\n"
     ]
    }
   ],
   "source": [
    "print(\"training starts\")\n",
    "if FULL_TRAIN:\n",
    "    model = lgb.train(\n",
    "        params, \n",
    "        tr_data, \n",
    "        num_boost_round=3000,\n",
    "        valid_sets=None, \n",
    "        )\n",
    "    del X_train, y_train\n",
    "else:\n",
    "    model = lgb.train(\n",
    "        params, \n",
    "        tr_data, \n",
    "        num_boost_round= 2500,\n",
    "        valid_sets=[tr_data, va_data], \n",
    "        early_stopping_rounds=15, \n",
    "        verbose_eval=50\n",
    "        )\n",
    "    del X_train, y_train, X_valid, y_valid"
   ]
  },
  {
   "cell_type": "markdown",
   "metadata": {
    "papermill": {
     "duration": 0.056294,
     "end_time": "2021-01-10T03:18:47.521172",
     "exception": false,
     "start_time": "2021-01-10T03:18:47.464878",
     "status": "completed"
    },
    "tags": []
   },
   "source": [
    "# Inference"
   ]
  },
  {
   "cell_type": "code",
   "execution_count": 32,
   "metadata": {
    "execution": {
     "iopub.execute_input": "2021-01-10T03:18:47.604149Z",
     "iopub.status.busy": "2021-01-10T03:18:47.603514Z",
     "iopub.status.idle": "2021-01-10T03:18:47.612577Z",
     "shell.execute_reply": "2021-01-10T03:18:47.613060Z"
    },
    "papermill": {
     "duration": 0.053966,
     "end_time": "2021-01-10T03:18:47.613223",
     "exception": false,
     "start_time": "2021-01-10T03:18:47.559257",
     "status": "completed"
    },
    "tags": []
   },
   "outputs": [],
   "source": [
    "env = riiideducation.make_env()\n",
    "iter_test = env.iter_test()\n",
    "prior_test_df = None"
   ]
  },
  {
   "cell_type": "code",
   "execution_count": 33,
   "metadata": {
    "execution": {
     "iopub.execute_input": "2021-01-10T03:18:47.693074Z",
     "iopub.status.busy": "2021-01-10T03:18:47.692226Z",
     "iopub.status.idle": "2021-01-10T03:18:48.684212Z",
     "shell.execute_reply": "2021-01-10T03:18:48.684671Z"
    },
    "papermill": {
     "duration": 1.033964,
     "end_time": "2021-01-10T03:18:48.684815",
     "exception": false,
     "start_time": "2021-01-10T03:18:47.650851",
     "status": "completed"
    },
    "tags": []
   },
   "outputs": [
    {
     "name": "stdout",
     "output_type": "stream",
     "text": [
      "CPU times: user 1.4 s, sys: 133 ms, total: 1.53 s\n",
      "Wall time: 965 ms\n"
     ]
    }
   ],
   "source": [
    "%%time\n",
    "for (test_df, sample_prediction_df) in iter_test:\n",
    "    if prior_test_df is not None:\n",
    "        prior_test_df[target] = eval(test_df['prior_group_answers_correct'].iloc[0])\n",
    "        prior_test_df = prior_test_df[prior_test_df[target] != -1].reset_index(drop=True)\n",
    "        \n",
    "        user_ids = prior_test_df['user_id'].values\n",
    "        content_ids = prior_test_df['content_id'].values\n",
    "        targets = prior_test_df[target].values\n",
    "         \n",
    "        for user_id, content_id, answered_correctly, first_attempt_ornot, prior_explanation, prior_point, prior_community in zip(user_ids, content_ids, \n",
    "                                                            targets, \n",
    "                                                            prior_f_attempt_arrays,\n",
    "                                                            p_prior_question_had_explanation,\n",
    "                                                            prior_point_array,\n",
    "                                                            prior_community_arrays):\n",
    "            \n",
    "            user_sum_dict[user_id] += answered_correctly\n",
    "            user_count_dict[user_id] += 1\n",
    "            content_sum_dict[content_id] += answered_correctly\n",
    "            content_count_dict[content_id] += 1\n",
    "            user_unique_dict[user_id] += first_attempt_ornot\n",
    "            user_prior_question_had_explanation_sum_dict[user_id] += prior_explanation\n",
    "            user_point_sum_dict[user_id] += prior_point * answered_correctly\n",
    "            if len(user_last7_answer_dict[user_id])==7:\n",
    "                user_last7_answer_dict[user_id] = np.concatenate([user_last7_answer_dict[user_id],[answered_correctly]])[1:]\n",
    "            else:\n",
    "                user_last7_answer_dict[user_id] = np.concatenate([user_last7_answer_dict[user_id],[answered_correctly]])\n",
    "                \n",
    "            user_community_correct_dict[user_id][prior_community] += answered_correctly\n",
    "            user_community_count_dict[user_id][prior_community] += 1\n",
    "            community_count_dict[prior_community] += 1      \n",
    "            \n",
    "    prior_test_df = test_df.copy()\n",
    "           \n",
    "    test_df = test_df[test_df['content_type_id'] == 0].reset_index(drop=True)\n",
    "    test_df = pd.merge(test_df, questions_df, left_on='content_id', right_on='question_id', how='left', right_index=True).reset_index(drop=True)\n",
    "    test_df['prior_question_had_explanation'] = test_df['prior_question_had_explanation'].fillna(False).astype('bool')\n",
    "    test_df['prior_question_elapsed_time'] = test_df['prior_question_elapsed_time'].fillna(0)\n",
    "\n",
    "    p_prior_question_had_explanation = test_df['prior_question_had_explanation'].values\n",
    "    prior_community_arrays = test_df['community'].values\n",
    "    \n",
    "    user_sum = np.zeros(len(test_df), dtype=np.int16)\n",
    "    user_count = np.zeros(len(test_df), dtype=np.int16)\n",
    "    content_sum = np.zeros(len(test_df), dtype=np.int32)\n",
    "    content_count = np.zeros(len(test_df), dtype=np.int32)\n",
    "    part_count = np.zeros(len(test_df), dtype=np.int32)\n",
    "    first_attempt_values = []\n",
    "    user_unique_count = np.zeros(len(test_df), dtype=np.int32)\n",
    "    user_prior_question_had_explanation_sum = np.zeros(len(test_df), dtype=np.int32)\n",
    "    got_point_array = np.zeros(len(test_df), dtype=np.float32)\n",
    "    user_last7_accuracy_array = np.zeros(len(test_df), dtype=np.float32)\n",
    "    timediff_array = np.zeros(len(test_df), dtype = np.int64)\n",
    "    timediff2_array = np.zeros(len(test_df), dtype = np.int64)\n",
    "    timediff3_array = np.zeros(len(test_df), dtype = np.int64)\n",
    "    timediff4_array = np.zeros(len(test_df), dtype = np.int64)\n",
    "    tag_acc_array = np.zeros(len(test_df), dtype=np.float32)\n",
    "    community_count_array = np.zeros(len(test_df), dtype=np.int32)\n",
    "    \n",
    "    for i, (user_id, content_id, timestamp, community, part) in enumerate(zip(test_df['user_id'].values, \n",
    "                                                             test_df['content_id'].values,\n",
    "                                                             test_df['timestamp'].values,\n",
    "                                                             test_df['community'].values,\n",
    "                                                             test_df['part'].values)):\n",
    "        \n",
    "        user_sum[i] = user_sum_dict[user_id]\n",
    "        user_count[i] = user_count_dict[user_id]\n",
    "        content_sum[i] = content_sum_dict[content_id]\n",
    "        content_count[i] = content_count_dict[content_id]\n",
    "        part_count[i] = user_part_count_dict[user_id][part] + 1\n",
    "        user_part_count_dict[user_id][part] += 1\n",
    "        first_attempt_values.append(user_content_dict[user_id][content_id])\n",
    "        user_content_dict[user_id][content_id] = False             \n",
    "        user_unique_count[i] = user_unique_dict[user_id]\n",
    "        user_prior_question_had_explanation_sum[i] = user_prior_question_had_explanation_sum_dict[user_id]\n",
    "        got_point_array[i] = user_point_sum_dict[user_id]\n",
    "        \n",
    "        if len(user_last7_answer_dict[user_id])==7:\n",
    "            user_last7_accuracy_array[i] = user_last7_answer_dict[user_id].mean()\n",
    "        else:\n",
    "            user_last7_accuracy_array[i] = np.nan\n",
    "            \n",
    "        if len(user_timestamp_max_dict[user_id]) ==0:\n",
    "            timediff_array[i] = -1\n",
    "            timediff2_array[i] = -1\n",
    "            timediff3_array[i] = -1\n",
    "            timediff4_array[i] = -1\n",
    "            user_timestamp_max_dict[user_id] = np.concatenate([user_timestamp_max_dict[user_id],[timestamp]])\n",
    "            \n",
    "        elif len(user_timestamp_max_dict[user_id]) ==1:\n",
    "            timediff_array[i] = timestamp - user_timestamp_max_dict[user_id][0]\n",
    "            timediff2_array[i] = -1\n",
    "            timediff3_array[i] = -1\n",
    "            timediff4_array[i] = -1\n",
    "            user_timestamp_max_dict[user_id] = np.concatenate([user_timestamp_max_dict[user_id],[timestamp]])\n",
    "            \n",
    "        elif len(user_timestamp_max_dict[user_id]) ==2:\n",
    "            timediff_array[i] = timestamp - user_timestamp_max_dict[user_id][1]\n",
    "            timediff2_array[i] = timestamp - user_timestamp_max_dict[user_id][0]\n",
    "            timediff3_array[i] = -1\n",
    "            timediff4_array[i] = -1\n",
    "            user_timestamp_max_dict[user_id] = np.concatenate([user_timestamp_max_dict[user_id],[timestamp]])  \n",
    "            \n",
    "        elif len(user_timestamp_max_dict[user_id]) ==3:\n",
    "            timediff_array[i] = timestamp - user_timestamp_max_dict[user_id][2]\n",
    "            timediff2_array[i] = timestamp - user_timestamp_max_dict[user_id][1]\n",
    "            timediff3_array[i] = timestamp - user_timestamp_max_dict[user_id][0]\n",
    "            timediff4_array[i] = -1\n",
    "            user_timestamp_max_dict[user_id] = np.concatenate([user_timestamp_max_dict[user_id],[timestamp]]) \n",
    "    \n",
    "        else:\n",
    "            timediff_array[i] = timestamp - user_timestamp_max_dict[user_id][3]\n",
    "            timediff2_array[i] = timestamp - user_timestamp_max_dict[user_id][2]\n",
    "            timediff3_array[i] = timestamp - user_timestamp_max_dict[user_id][1]\n",
    "            timediff4_array[i] = timestamp - user_timestamp_max_dict[user_id][0]\n",
    "            user_timestamp_max_dict[user_id] = np.concatenate([user_timestamp_max_dict[user_id],[timestamp]])[1:]  \n",
    "            \n",
    "        if user_community_count_dict[user_id][community] == 0:\n",
    "            tag_acc_array[i] = -1\n",
    "        else:\n",
    "            tag_acc_array[i] = user_community_correct_dict[user_id][community] / user_community_count_dict[user_id][community]\n",
    "            \n",
    "        community_count_array[i] = community_count_dict[community]\n",
    "                \n",
    "    test_df['user_correctness'] = user_sum / user_count\n",
    "    test_df['content_count'] = content_count\n",
    "    test_df['content_id'] = content_sum / content_count\n",
    "    test_df['count'] = 1\n",
    "    test_df['count'] = test_df.groupby(\"user_id\")[\"count\"].cumsum()\n",
    "    test_df['count'] += user_count\n",
    "    test_df['part_count'] = part_count\n",
    "    test_df['part_ratio'] = part_count / test_df['count'].values\n",
    "    test_df[\"first_attempt\"] = first_attempt_values\n",
    "    test_df[\"unique_attempt\"] = test_df.groupby(\"user_id\")[\"first_attempt\"].cumsum()\n",
    "    test_df[\"unique_attempt\"] += user_unique_count\n",
    "    test_df['prior_question_had_explanation_mean'] = user_prior_question_had_explanation_sum / user_count\n",
    "    test_df['got_point'] = got_point_array / user_count\n",
    "    test_df['answered_correctly_last7'] = user_last7_accuracy_array\n",
    "    test_df['timediff'] = timediff_array\n",
    "    test_df['timediff2'] = timediff2_array\n",
    "    test_df['timediff3'] = timediff3_array\n",
    "    test_df['timediff4'] = timediff4_array\n",
    "    test_df['tag_acc'] = tag_acc_array\n",
    "    test_df['community_count'] = community_count_array\n",
    "    \n",
    "    prior_f_attempt_arrays = test_df['first_attempt'].values\n",
    "    prior_point_array = 1 / (test_df.content_id.values + 0.1)\n",
    "    \n",
    "    test_df[target] = model.predict(test_df[features])\n",
    "    env.predict(test_df[['row_id', target]])"
   ]
  },
  {
   "cell_type": "code",
   "execution_count": null,
   "metadata": {
    "papermill": {
     "duration": 0.037592,
     "end_time": "2021-01-10T03:18:48.760634",
     "exception": false,
     "start_time": "2021-01-10T03:18:48.723042",
     "status": "completed"
    },
    "tags": []
   },
   "outputs": [],
   "source": []
  }
 ],
 "metadata": {
  "kernelspec": {
   "display_name": "Python 3",
   "language": "python",
   "name": "python3"
  },
  "language_info": {
   "codemirror_mode": {
    "name": "ipython",
    "version": 3
   },
   "file_extension": ".py",
   "mimetype": "text/x-python",
   "name": "python",
   "nbconvert_exporter": "python",
   "pygments_lexer": "ipython3",
   "version": "3.7.6"
  },
  "papermill": {
   "duration": 4968.795182,
   "end_time": "2021-01-10T03:18:50.117385",
   "environment_variables": {},
   "exception": null,
   "input_path": "__notebook__.ipynb",
   "output_path": "__notebook__.ipynb",
   "parameters": {},
   "start_time": "2021-01-10T01:56:01.322203",
   "version": "2.1.0"
  }
 },
 "nbformat": 4,
 "nbformat_minor": 4
}
