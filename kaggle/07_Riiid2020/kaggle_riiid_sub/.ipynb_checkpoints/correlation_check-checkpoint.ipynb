{
 "cells": [
  {
   "cell_type": "code",
   "execution_count": 1,
   "metadata": {},
   "outputs": [],
   "source": [
    "import pandas as pd\n",
    "import numpy as np"
   ]
  },
  {
   "cell_type": "code",
   "execution_count": 2,
   "metadata": {},
   "outputs": [],
   "source": [
    "# lgb ver 64 \n",
    "lgb = pd.read_csv(\"submission_lgb.csv\")\n",
    "\n",
    "# lgb ver 68 https://www.kaggle.com/taichin/riiid-lgbm-2nd?scriptVersionId=49887884\n",
    "lgb_all = pd.read_csv(\"submission_lgb_all.csv\")\n",
    "\n",
    "# lgb ver 76\n",
    "lgb_v76 = pd.read_csv(\"submission_lgb_v76.csv\")\n",
    "\n",
    "# lgb ver 77\n",
    "lgb_v77 = pd.read_csv(\"submission_lgb_v77.csv\")\n",
    "\n",
    "# lgb ver 79\n",
    "lgb_v79 = pd.read_csv(\"submission_lgb_v79.csv\")\n",
    "\n",
    "# my tabnet\n",
    "tab = pd.read_csv(\"submission_tab.csv\")\n",
    "\n",
    "# https://www.kaggle.com/stevemju/riiid-simple-elo-rating\n",
    "elo = pd.read_csv(\"submission_elo.csv\")\n",
    "\n",
    "# https://www.kaggle.com/leadbest/sakt-with-randomization-state-updates\n",
    "sample_sakt = pd.read_csv(\"submission_sample_sakt.csv\")\n",
    "\n",
    "# https://www.kaggle.com/zephyrwang666/riiid-lgbm-bagging2\n",
    "sample_lgb = pd.read_csv(\"submission_sample_lgb.csv\")\n",
    "\n",
    "#https://www.kaggle.com/gilfernandes/riiid-self-attention-transformer?select=submission.csv\n",
    "transformer = pd.read_csv(\"submission_transformer.csv\") "
   ]
  },
  {
   "cell_type": "code",
   "execution_count": 15,
   "metadata": {},
   "outputs": [
    {
     "data": {
      "text/plain": [
       "array([[1.       , 0.9289907],\n",
       "       [0.9289907, 1.       ]])"
      ]
     },
     "execution_count": 15,
     "metadata": {},
     "output_type": "execute_result"
    }
   ],
   "source": [
    "np.corrcoef(lgb.answered_correctly.values, elo.answered_correctly.values)"
   ]
  },
  {
   "cell_type": "code",
   "execution_count": 7,
   "metadata": {},
   "outputs": [
    {
     "data": {
      "text/plain": [
       "array([[1.        , 0.92191011],\n",
       "       [0.92191011, 1.        ]])"
      ]
     },
     "execution_count": 7,
     "metadata": {},
     "output_type": "execute_result"
    }
   ],
   "source": [
    "np.corrcoef(lgb.answered_correctly.values, sample_sakt.answered_correctly.values)"
   ]
  },
  {
   "cell_type": "code",
   "execution_count": 18,
   "metadata": {},
   "outputs": [
    {
     "data": {
      "text/plain": [
       "array([[1.       , 0.9511597],\n",
       "       [0.9511597, 1.       ]])"
      ]
     },
     "execution_count": 18,
     "metadata": {},
     "output_type": "execute_result"
    }
   ],
   "source": [
    "np.corrcoef(lgb.answered_correctly.values, tab.answered_correctly.values)"
   ]
  },
  {
   "cell_type": "code",
   "execution_count": 20,
   "metadata": {},
   "outputs": [
    {
     "data": {
      "text/plain": [
       "array([[1.        , 0.93672189],\n",
       "       [0.93672189, 1.        ]])"
      ]
     },
     "execution_count": 20,
     "metadata": {},
     "output_type": "execute_result"
    }
   ],
   "source": [
    "np.corrcoef(lgb_all.answered_correctly.values, elo.answered_correctly.values)"
   ]
  },
  {
   "cell_type": "code",
   "execution_count": 9,
   "metadata": {},
   "outputs": [
    {
     "data": {
      "text/plain": [
       "array([[1.        , 0.92532806],\n",
       "       [0.92532806, 1.        ]])"
      ]
     },
     "execution_count": 9,
     "metadata": {},
     "output_type": "execute_result"
    }
   ],
   "source": [
    "np.corrcoef(lgb_all.answered_correctly.values, sample_sakt.answered_correctly.values)"
   ]
  },
  {
   "cell_type": "code",
   "execution_count": 22,
   "metadata": {},
   "outputs": [
    {
     "data": {
      "text/plain": [
       "array([[1.        , 0.95274816],\n",
       "       [0.95274816, 1.        ]])"
      ]
     },
     "execution_count": 22,
     "metadata": {},
     "output_type": "execute_result"
    }
   ],
   "source": [
    "np.corrcoef(lgb_all.answered_correctly.values, tab.answered_correctly.values)"
   ]
  },
  {
   "cell_type": "code",
   "execution_count": 3,
   "metadata": {},
   "outputs": [
    {
     "data": {
      "text/plain": [
       "array([[1.        , 0.88676161],\n",
       "       [0.88676161, 1.        ]])"
      ]
     },
     "execution_count": 3,
     "metadata": {},
     "output_type": "execute_result"
    }
   ],
   "source": [
    "np.corrcoef(sample_lgb.answered_correctly.values, sample_sakt.answered_correctly.values)"
   ]
  },
  {
   "cell_type": "code",
   "execution_count": 10,
   "metadata": {},
   "outputs": [
    {
     "data": {
      "text/plain": [
       "array([[1.        , 0.90589691],\n",
       "       [0.90589691, 1.        ]])"
      ]
     },
     "execution_count": 10,
     "metadata": {},
     "output_type": "execute_result"
    }
   ],
   "source": [
    "np.corrcoef(lgb_all.answered_correctly.values, transformer.answered_correctly.values)"
   ]
  },
  {
   "cell_type": "code",
   "execution_count": 11,
   "metadata": {},
   "outputs": [
    {
     "data": {
      "text/plain": [
       "array([[1.      , 0.899097],\n",
       "       [0.899097, 1.      ]])"
      ]
     },
     "execution_count": 11,
     "metadata": {},
     "output_type": "execute_result"
    }
   ],
   "source": [
    "np.corrcoef(lgb.answered_correctly.values, transformer.answered_correctly.values)"
   ]
  },
  {
   "cell_type": "code",
   "execution_count": 3,
   "metadata": {},
   "outputs": [
    {
     "data": {
      "text/plain": [
       "array([[1.        , 0.90168353],\n",
       "       [0.90168353, 1.        ]])"
      ]
     },
     "execution_count": 3,
     "metadata": {},
     "output_type": "execute_result"
    }
   ],
   "source": [
    "np.corrcoef(lgb_v76.answered_correctly.values, transformer.answered_correctly.values)"
   ]
  },
  {
   "cell_type": "code",
   "execution_count": 5,
   "metadata": {},
   "outputs": [
    {
     "data": {
      "text/plain": [
       "array([[1.        , 0.89425353],\n",
       "       [0.89425353, 1.        ]])"
      ]
     },
     "execution_count": 5,
     "metadata": {},
     "output_type": "execute_result"
    }
   ],
   "source": [
    "np.corrcoef(lgb_v77.answered_correctly.values, transformer.answered_correctly.values)\n",
    "# transformerにはない、lecture関連の情報を入れたことで相関が低くなっている！"
   ]
  },
  {
   "cell_type": "code",
   "execution_count": 3,
   "metadata": {},
   "outputs": [
    {
     "data": {
      "text/plain": [
       "array([[1.        , 0.89690442],\n",
       "       [0.89690442, 1.        ]])"
      ]
     },
     "execution_count": 3,
     "metadata": {},
     "output_type": "execute_result"
    }
   ],
   "source": [
    "np.corrcoef(lgb_v79.answered_correctly.values, transformer.answered_correctly.values)"
   ]
  },
  {
   "cell_type": "markdown",
   "metadata": {},
   "source": [
    "## 結論\n",
    "transformerの方がsaktよりも相関が低く、PBも良いのでensembleとして良さそう。"
   ]
  },
  {
   "cell_type": "code",
   "execution_count": null,
   "metadata": {},
   "outputs": [],
   "source": []
  }
 ],
 "metadata": {
  "kernelspec": {
   "display_name": "Python 3",
   "language": "python",
   "name": "python3"
  },
  "language_info": {
   "codemirror_mode": {
    "name": "ipython",
    "version": 3
   },
   "file_extension": ".py",
   "mimetype": "text/x-python",
   "name": "python",
   "nbconvert_exporter": "python",
   "pygments_lexer": "ipython3",
   "version": "3.7.7"
  },
  "toc": {
   "base_numbering": 1,
   "nav_menu": {},
   "number_sections": true,
   "sideBar": true,
   "skip_h1_title": false,
   "title_cell": "Table of Contents",
   "title_sidebar": "Contents",
   "toc_cell": false,
   "toc_position": {},
   "toc_section_display": true,
   "toc_window_display": false
  }
 },
 "nbformat": 4,
 "nbformat_minor": 2
}
