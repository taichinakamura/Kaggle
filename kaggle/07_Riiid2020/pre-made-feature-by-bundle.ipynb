{
 "cells": [
  {
   "cell_type": "markdown",
   "metadata": {
    "papermill": {
     "duration": 0.020848,
     "end_time": "2020-12-27T06:02:42.743647",
     "exception": false,
     "start_time": "2020-12-27T06:02:42.722799",
     "status": "completed"
    },
    "tags": []
   },
   "source": [
    "- answered_correctly last 7 by bundle"
   ]
  },
  {
   "cell_type": "code",
   "execution_count": 1,
   "metadata": {
    "_cell_guid": "b1076dfc-b9ad-4769-8c92-a6c4dae69d19",
    "_uuid": "8f2839f25d086af736a60e9eeb907d3b93b6e0e5",
    "execution": {
     "iopub.execute_input": "2020-12-27T06:02:42.783512Z",
     "iopub.status.busy": "2020-12-27T06:02:42.782669Z",
     "iopub.status.idle": "2020-12-27T06:03:13.807809Z",
     "shell.execute_reply": "2020-12-27T06:03:13.808433Z"
    },
    "papermill": {
     "duration": 31.047558,
     "end_time": "2020-12-27T06:03:13.808643",
     "exception": false,
     "start_time": "2020-12-27T06:02:42.761085",
     "status": "completed"
    },
    "tags": []
   },
   "outputs": [],
   "source": [
    "!pip install ../input/python-datatable/datatable-0.11.0-cp37-cp37m-manylinux2010_x86_64.whl > /dev/null 2>&1"
   ]
  },
  {
   "cell_type": "code",
   "execution_count": 2,
   "metadata": {
    "_cell_guid": "79c7e3d0-c299-4dcb-8224-4455121ee9b0",
    "_uuid": "d629ff2d2480ee46fbb7e2d37f6b5fab8052498a",
    "execution": {
     "iopub.execute_input": "2020-12-27T06:03:13.850406Z",
     "iopub.status.busy": "2020-12-27T06:03:13.849136Z",
     "iopub.status.idle": "2020-12-27T06:03:15.938303Z",
     "shell.execute_reply": "2020-12-27T06:03:15.938863Z"
    },
    "papermill": {
     "duration": 2.113311,
     "end_time": "2020-12-27T06:03:15.939052",
     "exception": false,
     "start_time": "2020-12-27T06:03:13.825741",
     "status": "completed"
    },
    "tags": []
   },
   "outputs": [
    {
     "data": {
      "text/html": [
       "<style type='text/css'>\n",
       ".datatable table.frame { margin-bottom: 0; }\n",
       ".datatable table.frame thead { border-bottom: none; }\n",
       ".datatable table.frame tr.coltypes td {  color: #FFFFFF;  line-height: 6px;  padding: 0 0.5em;}\n",
       ".datatable .bool    { background: #DDDD99; }\n",
       ".datatable .object  { background: #565656; }\n",
       ".datatable .int     { background: #5D9E5D; }\n",
       ".datatable .float   { background: #4040CC; }\n",
       ".datatable .str     { background: #CC4040; }\n",
       ".datatable .row_index {  background: var(--jp-border-color3);  border-right: 1px solid var(--jp-border-color0);  color: var(--jp-ui-font-color3);  font-size: 9px;}\n",
       ".datatable .frame tr.coltypes .row_index {  background: var(--jp-border-color0);}\n",
       ".datatable th:nth-child(2) { padding-left: 12px; }\n",
       ".datatable .hellipsis {  color: var(--jp-cell-editor-border-color);}\n",
       ".datatable .vellipsis {  background: var(--jp-layout-color0);  color: var(--jp-cell-editor-border-color);}\n",
       ".datatable .na {  color: var(--jp-cell-editor-border-color);  font-size: 80%;}\n",
       ".datatable .footer { font-size: 9px; }\n",
       ".datatable .frame_dimensions {  background: var(--jp-border-color3);  border-top: 1px solid var(--jp-border-color0);  color: var(--jp-ui-font-color3);  display: inline-block;  opacity: 0.6;  padding: 1px 10px 1px 5px;}\n",
       ".datatable .frame thead tr.colnames {  background-image: url('data:image/png;base64,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');  background-repeat: repeat-x;  background-size: 14px;  height: 28px;}\n",
       "</style>\n"
      ],
      "text/plain": [
       "<IPython.core.display.HTML object>"
      ]
     },
     "metadata": {},
     "output_type": "display_data"
    },
    {
     "name": "stderr",
     "output_type": "stream",
     "text": [
      "/opt/conda/lib/python3.7/site-packages/ipykernel_launcher.py:13: TqdmDeprecationWarning: This function will be removed in tqdm==5.0.0\n",
      "Please use `tqdm.notebook.*` instead of `tqdm._tqdm_notebook.*`\n",
      "  del sys.path[0]\n",
      "/opt/conda/lib/python3.7/site-packages/tqdm/std.py:666: FutureWarning: The Panel class is removed from pandas. Accessing it from the top-level namespace will also be removed in the next version\n",
      "  from pandas import Panel\n"
     ]
    }
   ],
   "source": [
    "import gc\n",
    "import numpy as np\n",
    "import pandas as pd\n",
    "from collections import defaultdict\n",
    "import datatable as dt\n",
    "import lightgbm as lgb\n",
    "from matplotlib import pyplot as plt\n",
    "import riiideducation\n",
    "from bitarray import bitarray\n",
    "from functools import partial\n",
    "import pickle\n",
    "\n",
    "from tqdm._tqdm_notebook import tqdm_notebook\n",
    "from numba import jit\n",
    "import random\n",
    "\n",
    "tqdm_notebook.pandas(desc=\"progress: \")\n",
    "\n",
    "_ = np.seterr(divide='ignore', invalid='ignore')\n",
    "pd.set_option(\"max_rows\", 100)\n",
    "pd.set_option(\"max_columns\", 100)\n",
    "\n",
    "random.seed(1)"
   ]
  },
  {
   "cell_type": "code",
   "execution_count": 3,
   "metadata": {
    "execution": {
     "iopub.execute_input": "2020-12-27T06:03:15.994182Z",
     "iopub.status.busy": "2020-12-27T06:03:15.990471Z",
     "iopub.status.idle": "2020-12-27T06:03:15.997329Z",
     "shell.execute_reply": "2020-12-27T06:03:15.997794Z"
    },
    "papermill": {
     "duration": 0.040129,
     "end_time": "2020-12-27T06:03:15.997961",
     "exception": false,
     "start_time": "2020-12-27T06:03:15.957832",
     "status": "completed"
    },
    "tags": []
   },
   "outputs": [],
   "source": [
    "def make_bitarray():\n",
    "    a = bitarray(32737, endian='little')\n",
    "    a.setall(True)   \n",
    "    return a\n",
    "\n",
    "def clear_mem():\n",
    "    %reset -f out\n",
    "    %reset -f in\n",
    "    gc.collect()\n",
    "    \n",
    "@jit\n",
    "def accuracy_last7(A):\n",
    "    ans = []\n",
    "    for i in range(len(A)):\n",
    "        if i < 7:\n",
    "            ans.append(np.nan)\n",
    "        else:\n",
    "            ans.append(np.mean(A[i-7:i]))       \n",
    "    return np.array(ans)"
   ]
  },
  {
   "cell_type": "code",
   "execution_count": 4,
   "metadata": {
    "execution": {
     "iopub.execute_input": "2020-12-27T06:03:16.039602Z",
     "iopub.status.busy": "2020-12-27T06:03:16.038693Z",
     "iopub.status.idle": "2020-12-27T06:03:16.042656Z",
     "shell.execute_reply": "2020-12-27T06:03:16.041995Z"
    },
    "papermill": {
     "duration": 0.026564,
     "end_time": "2020-12-27T06:03:16.042780",
     "exception": false,
     "start_time": "2020-12-27T06:03:16.016216",
     "status": "completed"
    },
    "tags": []
   },
   "outputs": [],
   "source": [
    "FULL_TRAIN = False\n",
    "CV_SCHEME = \"original\" #\"time\""
   ]
  },
  {
   "cell_type": "markdown",
   "metadata": {
    "papermill": {
     "duration": 0.018023,
     "end_time": "2020-12-27T06:03:16.080319",
     "exception": false,
     "start_time": "2020-12-27T06:03:16.062296",
     "status": "completed"
    },
    "tags": []
   },
   "source": [
    "# Preprocess"
   ]
  },
  {
   "cell_type": "code",
   "execution_count": 5,
   "metadata": {
    "execution": {
     "iopub.execute_input": "2020-12-27T06:03:16.127608Z",
     "iopub.status.busy": "2020-12-27T06:03:16.126617Z",
     "iopub.status.idle": "2020-12-27T06:03:16.129957Z",
     "shell.execute_reply": "2020-12-27T06:03:16.129339Z"
    },
    "papermill": {
     "duration": 0.030913,
     "end_time": "2020-12-27T06:03:16.130081",
     "exception": false,
     "start_time": "2020-12-27T06:03:16.099168",
     "status": "completed"
    },
    "tags": []
   },
   "outputs": [],
   "source": [
    "data_types_dict = {\n",
    "    'row_id': 'uint32',\n",
    "    'timestamp': 'int64',\n",
    "    'user_id': 'int32', \n",
    "    'content_id': 'int16', \n",
    "    #'content_type_id': 'int8',\n",
    "    'answered_correctly': 'int8', \n",
    "    #'prior_question_elapsed_time': 'float32', \n",
    "    #'prior_question_had_explanation': 'bool',\n",
    "}\n",
    "target = 'answered_correctly'"
   ]
  },
  {
   "cell_type": "code",
   "execution_count": 6,
   "metadata": {
    "execution": {
     "iopub.execute_input": "2020-12-27T06:03:16.175933Z",
     "iopub.status.busy": "2020-12-27T06:03:16.174919Z",
     "iopub.status.idle": "2020-12-27T06:04:48.784799Z",
     "shell.execute_reply": "2020-12-27T06:04:48.785375Z"
    },
    "papermill": {
     "duration": 92.632158,
     "end_time": "2020-12-27T06:04:48.785611",
     "exception": false,
     "start_time": "2020-12-27T06:03:16.153453",
     "status": "completed"
    },
    "tags": []
   },
   "outputs": [],
   "source": [
    "train_df = dt.fread('../input/riiid-test-answer-prediction/train.csv', columns=set(data_types_dict.keys())).to_pandas()"
   ]
  },
  {
   "cell_type": "code",
   "execution_count": 7,
   "metadata": {
    "execution": {
     "iopub.execute_input": "2020-12-27T06:04:48.829151Z",
     "iopub.status.busy": "2020-12-27T06:04:48.828138Z",
     "iopub.status.idle": "2020-12-27T06:04:55.972223Z",
     "shell.execute_reply": "2020-12-27T06:04:55.972698Z"
    },
    "papermill": {
     "duration": 7.167233,
     "end_time": "2020-12-27T06:04:55.972867",
     "exception": false,
     "start_time": "2020-12-27T06:04:48.805634",
     "status": "completed"
    },
    "tags": []
   },
   "outputs": [],
   "source": [
    "train_df = train_df[train_df[target] != -1].reset_index(drop=True)\n",
    "\n",
    "#train_df['prior_question_had_explanation'].fillna(False, inplace=True)\n",
    "#train_df['prior_question_elapsed_time'].fillna(0, inplace=True)\n",
    "\n",
    "train_df = train_df.astype(data_types_dict)"
   ]
  },
  {
   "cell_type": "code",
   "execution_count": 8,
   "metadata": {
    "execution": {
     "iopub.execute_input": "2020-12-27T06:04:56.017242Z",
     "iopub.status.busy": "2020-12-27T06:04:56.016528Z",
     "iopub.status.idle": "2020-12-27T06:04:56.020257Z",
     "shell.execute_reply": "2020-12-27T06:04:56.019631Z"
    },
    "papermill": {
     "duration": 0.028487,
     "end_time": "2020-12-27T06:04:56.020373",
     "exception": false,
     "start_time": "2020-12-27T06:04:55.991886",
     "status": "completed"
    },
    "tags": []
   },
   "outputs": [],
   "source": [
    "# if CV_SCHEME==\"time\":\n",
    "#     max_timestamp_u = train_df[['user_id','timestamp']].groupby(['user_id']).agg(['max']).reset_index()\n",
    "#     max_timestamp_u.columns = ['user_id', 'max_time_stamp']\n",
    "#     MAX_TIME_STAMP = max_timestamp_u.max_time_stamp.max()\n",
    "\n",
    "#     def rand_time(max_time_stamp):\n",
    "#         interval = MAX_TIME_STAMP - max_time_stamp\n",
    "#         rand_time_stamp = random.randint(0,interval)\n",
    "#         return rand_time_stamp\n",
    "\n",
    "#     max_timestamp_u['rand_time_stamp'] = max_timestamp_u.max_time_stamp.apply(rand_time)\n",
    "#     train_df = train_df.merge(max_timestamp_u, on='user_id', how='left')\n",
    "#     train_df['viretual_time_stamp'] = train_df.timestamp + train_df['rand_time_stamp']\n",
    "\n",
    "#     del train_df['max_time_stamp']\n",
    "#     del train_df['rand_time_stamp']\n",
    "#     del max_timestamp_u\n",
    "\n",
    "#     train_index = list(train_df['viretual_time_stamp'].nlargest(10000000).index)\n",
    "\n",
    "# else:\n",
    "#     if FULL_TRAIN:\n",
    "#         train_size = 100\n",
    "#     else:\n",
    "#         train_size = 24\n",
    "#         valid_size = 6\n",
    "    \n",
    "#     train_index = list(train_df.groupby('user_id').tail(train_size).index)"
   ]
  },
  {
   "cell_type": "markdown",
   "metadata": {
    "papermill": {
     "duration": 0.018448,
     "end_time": "2020-12-27T06:04:56.057634",
     "exception": false,
     "start_time": "2020-12-27T06:04:56.039186",
     "status": "completed"
    },
    "tags": []
   },
   "source": [
    "# make feature"
   ]
  },
  {
   "cell_type": "code",
   "execution_count": 9,
   "metadata": {
    "execution": {
     "iopub.execute_input": "2020-12-27T06:04:56.100702Z",
     "iopub.status.busy": "2020-12-27T06:04:56.100045Z",
     "iopub.status.idle": "2020-12-27T06:04:56.103070Z",
     "shell.execute_reply": "2020-12-27T06:04:56.103545Z"
    },
    "papermill": {
     "duration": 0.027161,
     "end_time": "2020-12-27T06:04:56.103685",
     "exception": false,
     "start_time": "2020-12-27T06:04:56.076524",
     "status": "completed"
    },
    "tags": []
   },
   "outputs": [],
   "source": [
    "#prior_question_elapsed_time_array = train_df.prior_question_elapsed_time.values\n",
    "#train_df.drop(\"prior_question_elapsed_time\", axis =1, inplace=True)\n",
    "#prior_question_elapsed_time_array = prior_question_elapsed_time_array[train_index]"
   ]
  },
  {
   "cell_type": "code",
   "execution_count": 10,
   "metadata": {
    "execution": {
     "iopub.execute_input": "2020-12-27T06:04:56.147222Z",
     "iopub.status.busy": "2020-12-27T06:04:56.146547Z",
     "iopub.status.idle": "2020-12-27T06:04:56.150159Z",
     "shell.execute_reply": "2020-12-27T06:04:56.149557Z"
    },
    "papermill": {
     "duration": 0.027622,
     "end_time": "2020-12-27T06:04:56.150273",
     "exception": false,
     "start_time": "2020-12-27T06:04:56.122651",
     "status": "completed"
    },
    "tags": []
   },
   "outputs": [],
   "source": [
    "#questions_df = pd.read_csv(\n",
    "#    '../input/riiid-test-answer-prediction/questions.csv', \n",
    "#    usecols=[0, 3], #4\n",
    "#    dtype={'question_id': 'int16', 'part': 'int8'}  #'tags': 'str'\n",
    "#)\n",
    "\n",
    "#additional_q_df = pd.read_csv('../input/riiid-question-clustering/question_cmnts.csv')\n",
    "#questions_df[\"community\"] = additional_q_df[\"community\"].astype('int8')\n",
    "#del additional_q_df \n",
    "    \n",
    "#train_df = pd.merge(train_df, questions_df, left_on='content_id', right_on='question_id', how='left', right_index=True).reset_index(drop=True)\n",
    "#train_df.drop(columns=['question_id'], inplace=True)"
   ]
  },
  {
   "cell_type": "code",
   "execution_count": 11,
   "metadata": {
    "execution": {
     "iopub.execute_input": "2020-12-27T06:04:56.195028Z",
     "iopub.status.busy": "2020-12-27T06:04:56.194317Z",
     "iopub.status.idle": "2020-12-27T06:04:56.198970Z",
     "shell.execute_reply": "2020-12-27T06:04:56.198376Z"
    },
    "papermill": {
     "duration": 0.029847,
     "end_time": "2020-12-27T06:04:56.199107",
     "exception": false,
     "start_time": "2020-12-27T06:04:56.169260",
     "status": "completed"
    },
    "tags": []
   },
   "outputs": [],
   "source": [
    "# #######\n",
    "# community_num = len(questions_df.community.unique())\n",
    "# print(community_num)\n",
    "\n",
    "# @jit\n",
    "# def tag_accuracy(A, C):\n",
    "#     ans = []\n",
    "#     community_count = [0] * community_num\n",
    "#     community_correct = [0] * community_num\n",
    "#     for i in range(len(C)):\n",
    "#         if community_count[C[i]]==0:\n",
    "#             ans.append(-1)\n",
    "#         else:\n",
    "#             ans.append(community_correct[C[i]]/community_count[C[i]])\n",
    "#         community_count[C[i]] +=1\n",
    "#         community_correct[C[i]] += A[i]\n",
    "#     return np.array(ans)\n",
    "\n",
    "# @jit\n",
    "# def tag_correct_last(A, C):\n",
    "#     community_correct = [0] * community_num\n",
    "#     for i in range(len(C)):\n",
    "#         community_correct[C[i]] += A[i]\n",
    "#     return np.array(community_correct)\n",
    "\n",
    "# @jit\n",
    "# def tag_count_last(A, C):\n",
    "#     community_count = [0] * community_num\n",
    "#     for i in range(len(C)):\n",
    "#         community_count[C[i]] +=1\n",
    "#     return np.array(community_count)\n",
    "\n",
    "# def init_dict():\n",
    "#     ans = [0] * community_num\n",
    "#     return np.array(ans)"
   ]
  },
  {
   "cell_type": "code",
   "execution_count": 12,
   "metadata": {
    "execution": {
     "iopub.execute_input": "2020-12-27T06:04:56.245245Z",
     "iopub.status.busy": "2020-12-27T06:04:56.244490Z",
     "iopub.status.idle": "2020-12-27T06:04:56.247671Z",
     "shell.execute_reply": "2020-12-27T06:04:56.247143Z"
    },
    "papermill": {
     "duration": 0.029048,
     "end_time": "2020-12-27T06:04:56.247815",
     "exception": false,
     "start_time": "2020-12-27T06:04:56.218767",
     "status": "completed"
    },
    "tags": []
   },
   "outputs": [],
   "source": [
    "# #####\n",
    "# tag_acc_array = train_df.groupby(\"user_id\").apply(lambda x: tag_accuracy(x[\"answered_correctly\"].values, x[\"community\"].values))\n",
    "# tag_acc_array = np.hstack(tag_acc_array)\n",
    "# tag_acc_array = tag_acc_array[train_index]\n",
    "\n",
    "# user_community_count_dict = train_df.groupby(\"user_id\").apply(lambda x: tag_count_last(x[\"answered_correctly\"].values, x[\"community\"].values)).to_dict(defaultdict(init_dict))\n",
    "# user_community_correct_dict = train_df.groupby(\"user_id\").apply(lambda x: tag_correct_last(x[\"answered_correctly\"].values, x[\"community\"].values)).to_dict(defaultdict(init_dict))\n",
    "    \n",
    "# #\n",
    "# community_agg = train_df.groupby('community')[target].agg(['count'])\n",
    "# community_count_dict = community_agg['count'].astype('int32').to_dict(defaultdict(int))\n",
    "# community_count_array = train_df['community'].map(community_agg['count']).astype('int32').values\n",
    "# del community_agg\n",
    "# community_count_array = community_count_array[train_index]\n",
    "    \n",
    "# community_array = train_df[\"community\"].values\n",
    "# community_array = community_array[train_index]\n",
    "# train_df.drop('community', axis=1, inplace=True)"
   ]
  },
  {
   "cell_type": "code",
   "execution_count": 13,
   "metadata": {
    "execution": {
     "iopub.execute_input": "2020-12-27T06:04:56.298199Z",
     "iopub.status.busy": "2020-12-27T06:04:56.297391Z",
     "iopub.status.idle": "2020-12-27T06:28:03.258515Z",
     "shell.execute_reply": "2020-12-27T06:28:03.257621Z"
    },
    "papermill": {
     "duration": 1386.99053,
     "end_time": "2020-12-27T06:28:03.258750",
     "exception": false,
     "start_time": "2020-12-27T06:04:56.268220",
     "status": "completed"
    },
    "tags": []
   },
   "outputs": [
    {
     "data": {
      "application/vnd.jupyter.widget-view+json": {
       "model_id": "660a12bc652749aab89547c43c4b8795",
       "version_major": 2,
       "version_minor": 0
      },
      "text/plain": [
       "HBox(children=(FloatProgress(value=0.0, description='progress: ', max=393656.0, style=ProgressStyle(descriptio…"
      ]
     },
     "metadata": {},
     "output_type": "display_data"
    },
    {
     "name": "stdout",
     "output_type": "stream",
     "text": [
      "\n"
     ]
    }
   ],
   "source": [
    "# cancel because of memory error\n",
    "# takes about 10 minutes\n",
    "train_df[\"first_attempt\"] = train_df[[\"row_id\", \"user_id\", \"content_id\"]].groupby(\"user_id\").progress_apply(lambda x: \n",
    "                                                                    pd.DataFrame(np.isin(x[\"row_id\"].values, x.drop_duplicates(\"content_id\")[\"row_id\"].values))).values\n",
    "\n",
    "#for i in list(train.user_id.unique())[:10]:\n",
    "#    tmp1 = np.isin(train[train.user_id==i][\"row_id\"].values, train[train.user_id==i].groupby(\"content_id\").first()[\"row_id\"].values)\n",
    "#    tmp2 = np.isin(train[train.user_id==i][\"row_id\"], train[train.user_id==i].drop_duplicates(\"content_id\")[\"row_id\"])\n",
    "#    print(i, np.all(tmp1 == tmp2))\n",
    "\n",
    "train_df[[\"first_attempt\"]].to_csv(\"content_first_attempt.csv\", index=False)\n",
    "del train_df[\"first_attempt\"]\n",
    "del train_df[\"row_id\"]"
   ]
  },
  {
   "cell_type": "code",
   "execution_count": 14,
   "metadata": {
    "execution": {
     "iopub.execute_input": "2020-12-27T06:28:03.310916Z",
     "iopub.status.busy": "2020-12-27T06:28:03.309870Z",
     "iopub.status.idle": "2020-12-27T06:28:03.313597Z",
     "shell.execute_reply": "2020-12-27T06:28:03.313050Z"
    },
    "papermill": {
     "duration": 0.031027,
     "end_time": "2020-12-27T06:28:03.313712",
     "exception": false,
     "start_time": "2020-12-27T06:28:03.282685",
     "status": "completed"
    },
    "tags": []
   },
   "outputs": [],
   "source": [
    "# # ok\n",
    "# first_attempt_df = pd.read_csv(\"../input/riiid-additional-data/content_first_attempt.csv\")\n",
    "# first_attempt_array = first_attempt_df.first_attempt.values\n",
    "# train_df[\"first_attempt\"] = first_attempt_array\n",
    "\n",
    "# unique_attempt_array= train_df.groupby(\"user_id\")[\"first_attempt\"].cumsum().values\n",
    "# train_df[\"unique_attempt\"] = unique_attempt_array\n",
    "# user_unique_agg = train_df.groupby('user_id')[\"unique_attempt\"].agg(['max'])\n",
    "# user_unique_dict = user_unique_agg['max'].astype('int32').to_dict(defaultdict(int))\n",
    "\n",
    "# first_attempt_array = first_attempt_array[train_index]\n",
    "# unique_attempt_array = unique_attempt_array[train_index]\n",
    "# train_df.drop(['first_attempt', 'unique_attempt'], axis=1, inplace=True)\n",
    "# del first_attempt_df, user_unique_agg\n",
    "\n",
    "# clear_mem()"
   ]
  },
  {
   "cell_type": "code",
   "execution_count": 15,
   "metadata": {
    "execution": {
     "iopub.execute_input": "2020-12-27T06:28:03.367690Z",
     "iopub.status.busy": "2020-12-27T06:28:03.366683Z",
     "iopub.status.idle": "2020-12-27T06:28:15.041340Z",
     "shell.execute_reply": "2020-12-27T06:28:15.040679Z"
    },
    "papermill": {
     "duration": 11.70719,
     "end_time": "2020-12-27T06:28:15.041458",
     "exception": false,
     "start_time": "2020-12-27T06:28:03.334268",
     "status": "completed"
    },
    "tags": []
   },
   "outputs": [
    {
     "name": "stdout",
     "output_type": "stream",
     "text": [
      "Flushing output cache (0 entries)\n",
      "Flushing input history\n",
      "Flushing output cache (0 entries)\n",
      "Flushing input history\n"
     ]
    }
   ],
   "source": [
    "# ok\n",
    "user_agg = train_df.groupby('user_id')[target].agg(['sum', 'count'])\n",
    "user_sum_dict = user_agg['sum'].astype('int16').to_dict(defaultdict(int))\n",
    "del user_agg['sum']\n",
    "user_count_dict = user_agg['count'].astype('int16').to_dict(defaultdict(int))\n",
    "del user_agg['count']\n",
    "clear_mem()\n",
    "\n",
    "#\n",
    "content_agg = train_df.groupby('content_id')[target].agg(['sum', 'count'])\n",
    "content_sum_dict = content_agg['sum'].astype('int32').to_dict(defaultdict(int))\n",
    "content_count_dict = content_agg['count'].astype('int32').to_dict(defaultdict(int))\n",
    "\n",
    "content_count_array = train_df['content_id'].map(content_agg['count']).astype('int32').values\n",
    "content_id_array = train_df['content_id'].map(content_agg['sum'] / content_agg['count']).values\n",
    "del content_agg\n",
    "clear_mem()"
   ]
  },
  {
   "cell_type": "code",
   "execution_count": 16,
   "metadata": {
    "execution": {
     "iopub.execute_input": "2020-12-27T06:28:15.091027Z",
     "iopub.status.busy": "2020-12-27T06:28:15.089574Z",
     "iopub.status.idle": "2020-12-27T06:28:16.003803Z",
     "shell.execute_reply": "2020-12-27T06:28:16.002599Z"
    },
    "papermill": {
     "duration": 0.941054,
     "end_time": "2020-12-27T06:28:16.003928",
     "exception": false,
     "start_time": "2020-12-27T06:28:15.062874",
     "status": "completed"
    },
    "tags": []
   },
   "outputs": [
    {
     "name": "stdout",
     "output_type": "stream",
     "text": [
      "Flushing output cache (0 entries)\n",
      "Flushing input history\n"
     ]
    }
   ],
   "source": [
    "# ok\n",
    "# benefit of solving difficult questions\n",
    "point_array = 1 / (content_id_array + 0.1)\n",
    "#content_id_array = content_id_array[train_index]\n",
    "#content_count_array = content_count_array[train_index]\n",
    "clear_mem()"
   ]
  },
  {
   "cell_type": "code",
   "execution_count": 17,
   "metadata": {
    "execution": {
     "iopub.execute_input": "2020-12-27T06:28:16.064243Z",
     "iopub.status.busy": "2020-12-27T06:28:16.063556Z",
     "iopub.status.idle": "2020-12-27T06:29:01.619831Z",
     "shell.execute_reply": "2020-12-27T06:29:01.618996Z"
    },
    "papermill": {
     "duration": 45.593519,
     "end_time": "2020-12-27T06:29:01.619994",
     "exception": false,
     "start_time": "2020-12-27T06:28:16.026475",
     "status": "completed"
    },
    "tags": []
   },
   "outputs": [],
   "source": [
    "# ok \n",
    "@jit\n",
    "def got_point_by_bundle(G, T):\n",
    "    ans = np.zeros(len(T))\n",
    "    point = 0\n",
    "    prev_time = -1 \n",
    "    for i in range(len(T)): \n",
    "        if prev_time == T[i]:\n",
    "            ans[i] = ans[i-1]\n",
    "        else:\n",
    "            ans[i] = point\n",
    "        prev_time = T[i]\n",
    "        point = point + G[i]\n",
    "    return ans\n",
    "    \n",
    "train_df[\"got_point\"] = point_array * train_df[\"answered_correctly\"].values\n",
    "del point_array\n",
    "user_point_agg = train_df.groupby('user_id')[\"got_point\"].agg(['sum'])\n",
    "user_point_sum_dict = user_point_agg['sum'].astype('float32').to_dict(defaultdict(float))\n",
    "del user_point_agg\n",
    "got_point_array = train_df.groupby(\"user_id\").apply(lambda x: got_point_by_bundle(x[\"got_point\"].values, \n",
    "                                                                                  x[\"timestamp\"].values))\n",
    "got_point_array = np.hstack(got_point_array)\n",
    "#tmp[\"got_point_mean\"] = got_point_array\n",
    "\n",
    "with open('got_point_array.pickle','wb') as f:\n",
    "    pickle.dump(got_point_array, f)\n",
    "    \n",
    "with open('user_point_sum_dict.pickle','wb') as f:\n",
    "    pickle.dump(user_point_sum_dict, f)\n",
    "    \n",
    "del got_point_array"
   ]
  },
  {
   "cell_type": "code",
   "execution_count": 18,
   "metadata": {
    "execution": {
     "iopub.execute_input": "2020-12-27T06:29:01.676088Z",
     "iopub.status.busy": "2020-12-27T06:29:01.675331Z",
     "iopub.status.idle": "2020-12-27T06:31:16.601239Z",
     "shell.execute_reply": "2020-12-27T06:31:16.601820Z"
    },
    "papermill": {
     "duration": 134.958131,
     "end_time": "2020-12-27T06:31:16.602042",
     "exception": false,
     "start_time": "2020-12-27T06:29:01.643911",
     "status": "completed"
    },
    "tags": []
   },
   "outputs": [
    {
     "name": "stdout",
     "output_type": "stream",
     "text": [
      "CPU times: user 2min 7s, sys: 7.15 s, total: 2min 14s\n",
      "Wall time: 2min 14s\n"
     ]
    }
   ],
   "source": [
    "%%time\n",
    "# ok\n",
    "user_content_agg = train_df.groupby(\"user_id\")[\"content_id\"].unique().reset_index().set_index(\"user_id\")\n",
    "\n",
    "value = []\n",
    "for j in user_content_agg.index:\n",
    "    a = bitarray(32737, endian='little')\n",
    "    a.setall(True)\n",
    "    for i in user_content_agg.loc[j][0]:\n",
    "        a[i] = 0\n",
    "    value.append(a)\n",
    "    \n",
    "user_content_agg[\"content_exp\"] = value\n",
    "user_content_dict = user_content_agg[\"content_exp\"].to_dict(defaultdict(make_bitarray))\n",
    "del user_content_agg, value\n",
    "train_df.drop([\"content_id\"], axis=1, inplace=True)\n",
    "\n",
    "with open('user_content_dict.pickle','wb') as f:\n",
    "    pickle.dump(user_content_dict, f)"
   ]
  },
  {
   "cell_type": "code",
   "execution_count": 19,
   "metadata": {
    "execution": {
     "iopub.execute_input": "2020-12-27T06:31:16.666090Z",
     "iopub.status.busy": "2020-12-27T06:31:16.665073Z",
     "iopub.status.idle": "2020-12-27T06:31:16.671619Z",
     "shell.execute_reply": "2020-12-27T06:31:16.671037Z"
    },
    "papermill": {
     "duration": 0.040225,
     "end_time": "2020-12-27T06:31:16.671746",
     "exception": false,
     "start_time": "2020-12-27T06:31:16.631521",
     "status": "completed"
    },
    "tags": []
   },
   "outputs": [],
   "source": [
    "# answered_correctly_last7_array = train_df.groupby(\"user_id\").apply(lambda x: accuracy_last7(x[\"answered_correctly\"].values))\n",
    "# answered_correctly_last7_array = np.hstack(answered_correctly_last7_array)\n",
    "\n",
    "# with open('answered_correctly_last7_array.pickle','wb') as f:\n",
    "#     pickle.dump(answered_correctly_last7_array, f)\n",
    "# del answered_correctly_last7_array\n",
    "    \n",
    "# answered_correctly_last7_array = answered_correctly_last7_array[train_index]\n",
    "# user_last7_answer_dict = train_df.groupby(\"user_id\")[\"answered_correctly\"].apply(lambda x: \n",
    "#                                                                                  x[-7:].values).to_dict(defaultdict(partial(np.ndarray, 0, dtype=\"int8\")))\n",
    "\n",
    "# with open('user_last7_answer_dict.pickle','wb') as f:\n",
    "#     pickle.dump(user_last7_answer_dict, f)"
   ]
  },
  {
   "cell_type": "code",
   "execution_count": 20,
   "metadata": {
    "execution": {
     "iopub.execute_input": "2020-12-27T06:31:16.761701Z",
     "iopub.status.busy": "2020-12-27T06:31:16.743916Z",
     "iopub.status.idle": "2020-12-27T06:34:53.790633Z",
     "shell.execute_reply": "2020-12-27T06:34:53.791266Z"
    },
    "papermill": {
     "duration": 217.089571,
     "end_time": "2020-12-27T06:34:53.791504",
     "exception": false,
     "start_time": "2020-12-27T06:31:16.701933",
     "status": "completed"
    },
    "tags": []
   },
   "outputs": [],
   "source": [
    "@jit\n",
    "def last_accuracy7_by_bundle(A, T):\n",
    "    ans = np.zeros(len(T))\n",
    "    prev_time = np.array([-1] * 7)\n",
    "    correct = np.array([-1] * 7)\n",
    "    count = np.array([-1] * 7)\n",
    "    for i in range(len(T)): \n",
    "        length = np.sum(prev_time != -1)\n",
    "        if length <= 6:\n",
    "            ans[i] = np.nan\n",
    "        else: \n",
    "            if prev_time[-1] == T[i]:\n",
    "                ans[i] = ans[i-1]\n",
    "            else:\n",
    "                ans[i] = np.sum(correct) / np.sum(count)\n",
    "\n",
    "        if np.sum(prev_time == T[i]) == 0:\n",
    "            for j in range(6):\n",
    "                prev_time[j] = prev_time[j+1]\n",
    "                correct[j] = correct[j+1]\n",
    "                count[j] = count[j+1]\n",
    "            prev_time[-1] = T[i]\n",
    "            correct[-1] = A[i]\n",
    "            count[-1] = 1\n",
    "        else:\n",
    "            index = np.where(prev_time==T[i])[0][0]\n",
    "            correct[index] += A[i]\n",
    "            count[index] += 1  \n",
    "    return ans\n",
    "\n",
    "@jit\n",
    "def last_count7_by_bundle(A, T):\n",
    "    prev_time = np.array([-1] * 7)\n",
    "    correct = np.array([-1] * 7)\n",
    "    count = np.array([-1] * 7)\n",
    "    for i in range(len(T)): \n",
    "        length = np.sum(prev_time != -1)\n",
    "        if np.sum(prev_time == T[i]) == 0:\n",
    "            for j in range(6):\n",
    "                prev_time[j] = prev_time[j+1]\n",
    "                correct[j] = correct[j+1]\n",
    "                count[j] = count[j+1]\n",
    "            prev_time[-1] = T[i]\n",
    "            correct[-1] = A[i]\n",
    "            count[-1] = 1\n",
    "        else:\n",
    "            index = np.where(prev_time==T[i])[0][0]\n",
    "            correct[index] += A[i]\n",
    "            count[index] += 1  \n",
    "    return count\n",
    "\n",
    "@jit\n",
    "def last_correct7_by_bundle(A, T):\n",
    "    prev_time = np.array([-1] * 7)\n",
    "    correct = np.array([-1] * 7)\n",
    "    count = np.array([-1] * 7)\n",
    "    for i in range(len(T)): \n",
    "        length = np.sum(prev_time != -1)\n",
    "        if np.sum(prev_time == T[i]) == 0:\n",
    "            for j in range(6):\n",
    "                prev_time[j] = prev_time[j+1]\n",
    "                correct[j] = correct[j+1]\n",
    "                count[j] = count[j+1]\n",
    "            prev_time[-1] = T[i]\n",
    "            correct[-1] = A[i]\n",
    "            count[-1] = 1\n",
    "        else:\n",
    "            index = np.where(prev_time==T[i])[0][0]\n",
    "            correct[index] += A[i]\n",
    "            count[index] += 1  \n",
    "    return correct\n",
    "\n",
    "def init_last7():\n",
    "    ans = [-1] * 7\n",
    "    return np.array(ans)\n",
    "\n",
    "answered_correctly_last7_array = train_df.groupby(\"user_id\").apply(lambda x: last_accuracy7_by_bundle(x[\"answered_correctly\"].values, \n",
    "                                                                                          x[\"timestamp\"].values))\n",
    "answered_correctly_last7_array = np.hstack(answered_correctly_last7_array)\n",
    "#answered_correctly_last7_array = answered_correctly_last7_array[train_index]\n",
    "\n",
    "user_last_count7_dict = train_df.groupby(\"user_id\").apply(lambda x: last_count7_by_bundle(x[\"answered_correctly\"].values, \n",
    "                                                                                x[\"timestamp\"].values)).to_dict(defaultdict(init_last7))\n",
    "\n",
    "user_last_correct7_dict = train_df.groupby(\"user_id\").apply(lambda x: last_correct7_by_bundle(x[\"answered_correctly\"].values, \n",
    "                                                                                    x[\"timestamp\"].values)).to_dict((defaultdict(init_last7)))\n",
    "\n",
    "with open('answered_correctly_last7_array.pickle','wb') as f:\n",
    "    pickle.dump(answered_correctly_last7_array, f)\n",
    "del answered_correctly_last7_array\n",
    "\n",
    "with open('user_last_count7_dict.pickle','wb') as f:\n",
    "    pickle.dump(user_last_count7_dict, f)\n",
    "\n",
    "with open('user_last_correct7_dict.pickle','wb') as f:\n",
    "    pickle.dump(user_last_correct7_dict, f)"
   ]
  },
  {
   "cell_type": "code",
   "execution_count": 21,
   "metadata": {
    "execution": {
     "iopub.execute_input": "2020-12-27T06:34:53.849060Z",
     "iopub.status.busy": "2020-12-27T06:34:53.848280Z",
     "iopub.status.idle": "2020-12-27T06:36:54.587041Z",
     "shell.execute_reply": "2020-12-27T06:36:54.588019Z"
    },
    "papermill": {
     "duration": 120.770043,
     "end_time": "2020-12-27T06:36:54.588317",
     "exception": false,
     "start_time": "2020-12-27T06:34:53.818274",
     "status": "completed"
    },
    "tags": []
   },
   "outputs": [],
   "source": [
    "# ok\n",
    "@jit\n",
    "def continuous_correct_by_bundle(A, T):\n",
    "    ans = np.zeros(len(T))\n",
    "    count = 0\n",
    "    prev_time = -1\n",
    "    for i in range(len(T)): \n",
    "        if prev_time != T[i]:\n",
    "            ans[i] = count\n",
    "        else:    \n",
    "            ans[i] = ans[i-1]\n",
    "        if A[i] ==1:\n",
    "            count += 1\n",
    "        else:\n",
    "            count = 0\n",
    "        prev_time = T[i]\n",
    "    return ans\n",
    "\n",
    "@jit\n",
    "def continuous_incorrect_by_bundle(A, T):\n",
    "    ans = np.zeros(len(T))\n",
    "    count = 0\n",
    "    prev_time = -1\n",
    "    for i in range(len(T)): \n",
    "        if prev_time != T[i]:\n",
    "            ans[i] = count\n",
    "        else:    \n",
    "            ans[i] = ans[i-1]\n",
    "        if A[i] ==0:\n",
    "            count += 1\n",
    "        else:\n",
    "            count = 0\n",
    "        prev_time = T[i]\n",
    "    return ans\n",
    "\n",
    "@jit\n",
    "def continuous_correct_dict_calc(A):\n",
    "    count = 0\n",
    "    for i in range(len(A)): \n",
    "        if A[i] ==1:\n",
    "            count += 1\n",
    "        else:\n",
    "            count = 0\n",
    "    return count\n",
    "\n",
    "@jit\n",
    "def continuous_incorrect_dict_calc(A):\n",
    "    count = 0\n",
    "    for i in range(len(A)): \n",
    "        if A[i] ==0:\n",
    "            count += 1\n",
    "        else:\n",
    "            count = 0\n",
    "    return count\n",
    "\n",
    "continuous_correct_array = train_df.groupby(\"user_id\").apply(lambda x: continuous_correct_by_bundle(x[\"answered_correctly\"].values,\n",
    "                                                                                              x[\"timestamp\"].values))\n",
    "continuous_correct_array = np.hstack(continuous_correct_array)\n",
    "#continuous_correct_array = continuous_correct_array[train_index]\n",
    "\n",
    "\n",
    "continuous_incorrect_array = train_df.groupby(\"user_id\").apply(lambda x: continuous_incorrect_by_bundle(x[\"answered_correctly\"].values,\n",
    "                                                                                        x[\"timestamp\"].values))\n",
    "continuous_incorrect_array = np.hstack(continuous_incorrect_array)\n",
    "\n",
    "#continuous_incorrect_array = continuous_incorrect_array[train_index]\n",
    "\n",
    "continuous_incorrect_dict = train_df.groupby(\"user_id\").apply(lambda x: continuous_incorrect_dict_calc(x[\"answered_correctly\"].values)).to_dict(defaultdict(int))\n",
    "continuous_correct_dict = train_df.groupby(\"user_id\").apply(lambda x: continuous_correct_dict_calc(x[\"answered_correctly\"].values)).to_dict(defaultdict(int))\n",
    "\n",
    "with open('continuous_correct_array.pickle','wb') as f:\n",
    "    pickle.dump(continuous_correct_array, f)\n",
    "del continuous_correct_array\n",
    "\n",
    "with open('continuous_correct_dict.pickle','wb') as f:\n",
    "    pickle.dump(continuous_correct_dict, f)\n",
    "    \n",
    "with open('continuous_incorrect_array.pickle','wb') as f:\n",
    "    pickle.dump(continuous_incorrect_array, f)\n",
    "del continuous_incorrect_array\n",
    "    \n",
    "with open('continuous_incorrect_dict.pickle','wb') as f:\n",
    "    pickle.dump(continuous_incorrect_dict, f)"
   ]
  },
  {
   "cell_type": "code",
   "execution_count": null,
   "metadata": {
    "papermill": {
     "duration": 0.132737,
     "end_time": "2020-12-27T06:36:54.841919",
     "exception": false,
     "start_time": "2020-12-27T06:36:54.709182",
     "status": "completed"
    },
    "tags": []
   },
   "outputs": [],
   "source": []
  }
 ],
 "metadata": {
  "kernelspec": {
   "display_name": "Python 3",
   "language": "python",
   "name": "python3"
  },
  "language_info": {
   "codemirror_mode": {
    "name": "ipython",
    "version": 3
   },
   "file_extension": ".py",
   "mimetype": "text/x-python",
   "name": "python",
   "nbconvert_exporter": "python",
   "pygments_lexer": "ipython3",
   "version": "3.7.6"
  },
  "papermill": {
   "duration": 2057.57152,
   "end_time": "2020-12-27T06:36:55.343623",
   "environment_variables": {},
   "exception": null,
   "input_path": "__notebook__.ipynb",
   "output_path": "__notebook__.ipynb",
   "parameters": {},
   "start_time": "2020-12-27T06:02:37.772103",
   "version": "2.1.0"
  },
  "widgets": {
   "application/vnd.jupyter.widget-state+json": {
    "state": {
     "1b39ede29b58427b83fe364e41477958": {
      "model_module": "@jupyter-widgets/controls",
      "model_module_version": "1.5.0",
      "model_name": "ProgressStyleModel",
      "state": {
       "_model_module": "@jupyter-widgets/controls",
       "_model_module_version": "1.5.0",
       "_model_name": "ProgressStyleModel",
       "_view_count": null,
       "_view_module": "@jupyter-widgets/base",
       "_view_module_version": "1.2.0",
       "_view_name": "StyleView",
       "bar_color": null,
       "description_width": "initial"
      }
     },
     "286fbf4fddd644068ddae0a20b54aa78": {
      "model_module": "@jupyter-widgets/base",
      "model_module_version": "1.2.0",
      "model_name": "LayoutModel",
      "state": {
       "_model_module": "@jupyter-widgets/base",
       "_model_module_version": "1.2.0",
       "_model_name": "LayoutModel",
       "_view_count": null,
       "_view_module": "@jupyter-widgets/base",
       "_view_module_version": "1.2.0",
       "_view_name": "LayoutView",
       "align_content": null,
       "align_items": null,
       "align_self": null,
       "border": null,
       "bottom": null,
       "display": null,
       "flex": null,
       "flex_flow": null,
       "grid_area": null,
       "grid_auto_columns": null,
       "grid_auto_flow": null,
       "grid_auto_rows": null,
       "grid_column": null,
       "grid_gap": null,
       "grid_row": null,
       "grid_template_areas": null,
       "grid_template_columns": null,
       "grid_template_rows": null,
       "height": null,
       "justify_content": null,
       "justify_items": null,
       "left": null,
       "margin": null,
       "max_height": null,
       "max_width": null,
       "min_height": null,
       "min_width": null,
       "object_fit": null,
       "object_position": null,
       "order": null,
       "overflow": null,
       "overflow_x": null,
       "overflow_y": null,
       "padding": null,
       "right": null,
       "top": null,
       "visibility": null,
       "width": null
      }
     },
     "5ee21b3aaa7a4934962dd089679edca2": {
      "model_module": "@jupyter-widgets/controls",
      "model_module_version": "1.5.0",
      "model_name": "DescriptionStyleModel",
      "state": {
       "_model_module": "@jupyter-widgets/controls",
       "_model_module_version": "1.5.0",
       "_model_name": "DescriptionStyleModel",
       "_view_count": null,
       "_view_module": "@jupyter-widgets/base",
       "_view_module_version": "1.2.0",
       "_view_name": "StyleView",
       "description_width": ""
      }
     },
     "660a12bc652749aab89547c43c4b8795": {
      "model_module": "@jupyter-widgets/controls",
      "model_module_version": "1.5.0",
      "model_name": "HBoxModel",
      "state": {
       "_dom_classes": [],
       "_model_module": "@jupyter-widgets/controls",
       "_model_module_version": "1.5.0",
       "_model_name": "HBoxModel",
       "_view_count": null,
       "_view_module": "@jupyter-widgets/controls",
       "_view_module_version": "1.5.0",
       "_view_name": "HBoxView",
       "box_style": "",
       "children": [
        "IPY_MODEL_d2c5347aef6e4fb0ae9df87379c07244",
        "IPY_MODEL_c5e1dde45ad24f259aeca0a606fe6c36"
       ],
       "layout": "IPY_MODEL_286fbf4fddd644068ddae0a20b54aa78"
      }
     },
     "897462e96a7e4afe970c19b3d3189a4c": {
      "model_module": "@jupyter-widgets/base",
      "model_module_version": "1.2.0",
      "model_name": "LayoutModel",
      "state": {
       "_model_module": "@jupyter-widgets/base",
       "_model_module_version": "1.2.0",
       "_model_name": "LayoutModel",
       "_view_count": null,
       "_view_module": "@jupyter-widgets/base",
       "_view_module_version": "1.2.0",
       "_view_name": "LayoutView",
       "align_content": null,
       "align_items": null,
       "align_self": null,
       "border": null,
       "bottom": null,
       "display": null,
       "flex": null,
       "flex_flow": null,
       "grid_area": null,
       "grid_auto_columns": null,
       "grid_auto_flow": null,
       "grid_auto_rows": null,
       "grid_column": null,
       "grid_gap": null,
       "grid_row": null,
       "grid_template_areas": null,
       "grid_template_columns": null,
       "grid_template_rows": null,
       "height": null,
       "justify_content": null,
       "justify_items": null,
       "left": null,
       "margin": null,
       "max_height": null,
       "max_width": null,
       "min_height": null,
       "min_width": null,
       "object_fit": null,
       "object_position": null,
       "order": null,
       "overflow": null,
       "overflow_x": null,
       "overflow_y": null,
       "padding": null,
       "right": null,
       "top": null,
       "visibility": null,
       "width": null
      }
     },
     "c5e1dde45ad24f259aeca0a606fe6c36": {
      "model_module": "@jupyter-widgets/controls",
      "model_module_version": "1.5.0",
      "model_name": "HTMLModel",
      "state": {
       "_dom_classes": [],
       "_model_module": "@jupyter-widgets/controls",
       "_model_module_version": "1.5.0",
       "_model_name": "HTMLModel",
       "_view_count": null,
       "_view_module": "@jupyter-widgets/controls",
       "_view_module_version": "1.5.0",
       "_view_name": "HTMLView",
       "description": "",
       "description_tooltip": null,
       "layout": "IPY_MODEL_ddef5ac235cd4a5a870274a53e1eebe9",
       "placeholder": "​",
       "style": "IPY_MODEL_5ee21b3aaa7a4934962dd089679edca2",
       "value": " 393656/393656 [23:08&lt;00:00, 283.47it/s]"
      }
     },
     "d2c5347aef6e4fb0ae9df87379c07244": {
      "model_module": "@jupyter-widgets/controls",
      "model_module_version": "1.5.0",
      "model_name": "FloatProgressModel",
      "state": {
       "_dom_classes": [],
       "_model_module": "@jupyter-widgets/controls",
       "_model_module_version": "1.5.0",
       "_model_name": "FloatProgressModel",
       "_view_count": null,
       "_view_module": "@jupyter-widgets/controls",
       "_view_module_version": "1.5.0",
       "_view_name": "ProgressView",
       "bar_style": "success",
       "description": "progress: 100%",
       "description_tooltip": null,
       "layout": "IPY_MODEL_897462e96a7e4afe970c19b3d3189a4c",
       "max": 393656.0,
       "min": 0.0,
       "orientation": "horizontal",
       "style": "IPY_MODEL_1b39ede29b58427b83fe364e41477958",
       "value": 393656.0
      }
     },
     "ddef5ac235cd4a5a870274a53e1eebe9": {
      "model_module": "@jupyter-widgets/base",
      "model_module_version": "1.2.0",
      "model_name": "LayoutModel",
      "state": {
       "_model_module": "@jupyter-widgets/base",
       "_model_module_version": "1.2.0",
       "_model_name": "LayoutModel",
       "_view_count": null,
       "_view_module": "@jupyter-widgets/base",
       "_view_module_version": "1.2.0",
       "_view_name": "LayoutView",
       "align_content": null,
       "align_items": null,
       "align_self": null,
       "border": null,
       "bottom": null,
       "display": null,
       "flex": null,
       "flex_flow": null,
       "grid_area": null,
       "grid_auto_columns": null,
       "grid_auto_flow": null,
       "grid_auto_rows": null,
       "grid_column": null,
       "grid_gap": null,
       "grid_row": null,
       "grid_template_areas": null,
       "grid_template_columns": null,
       "grid_template_rows": null,
       "height": null,
       "justify_content": null,
       "justify_items": null,
       "left": null,
       "margin": null,
       "max_height": null,
       "max_width": null,
       "min_height": null,
       "min_width": null,
       "object_fit": null,
       "object_position": null,
       "order": null,
       "overflow": null,
       "overflow_x": null,
       "overflow_y": null,
       "padding": null,
       "right": null,
       "top": null,
       "visibility": null,
       "width": null
      }
     }
    },
    "version_major": 2,
    "version_minor": 0
   }
  }
 },
 "nbformat": 4,
 "nbformat_minor": 4
}
