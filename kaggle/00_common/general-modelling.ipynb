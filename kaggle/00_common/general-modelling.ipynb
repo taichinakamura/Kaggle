{
 "cells": [
  {
   "cell_type": "markdown",
   "id": "01738bae",
   "metadata": {
    "papermill": {
     "duration": 0.004655,
     "end_time": "2023-08-15T09:42:35.085734",
     "exception": false,
     "start_time": "2023-08-15T09:42:35.081079",
     "status": "completed"
    },
    "tags": []
   },
   "source": [
    "- base: https://www.kaggle.com/code/vadimkamaev/postprocessin-ensemble\n",
    "- select feats by importances and 3 ensembles (no postprocess) \n",
    "- focus on tree modelling"
   ]
  },
  {
   "cell_type": "markdown",
   "id": "aa866004",
   "metadata": {
    "papermill": {
     "duration": 0.003364,
     "end_time": "2023-08-15T09:42:35.093345",
     "exception": false,
     "start_time": "2023-08-15T09:42:35.089981",
     "status": "completed"
    },
    "tags": []
   },
   "source": [
    "# common class"
   ]
  },
  {
   "cell_type": "code",
   "execution_count": 1,
   "id": "949c39c3",
   "metadata": {
    "execution": {
     "iopub.execute_input": "2023-08-15T09:42:35.102389Z",
     "iopub.status.busy": "2023-08-15T09:42:35.101991Z",
     "iopub.status.idle": "2023-08-15T09:42:38.675233Z",
     "shell.execute_reply": "2023-08-15T09:42:38.674188Z"
    },
    "papermill": {
     "duration": 3.581601,
     "end_time": "2023-08-15T09:42:38.678470",
     "exception": false,
     "start_time": "2023-08-15T09:42:35.096869",
     "status": "completed"
    },
    "tags": []
   },
   "outputs": [
    {
     "name": "stderr",
     "output_type": "stream",
     "text": [
      "/opt/conda/lib/python3.10/site-packages/scipy/__init__.py:146: UserWarning: A NumPy version >=1.16.5 and <1.23.0 is required for this version of SciPy (detected version 1.23.5\n",
      "  warnings.warn(f\"A NumPy version >={np_minversion} and <{np_maxversion}\"\n"
     ]
    }
   ],
   "source": [
    "import sys\n",
    "import optuna\n",
    "import numpy as np\n",
    "import pandas as pd\n",
    "import lightgbm as lgb\n",
    "import xgboost as xgb\n",
    "from catboost import CatBoostClassifier, CatBoostRegressor\n",
    "sys.path.append('../input/iterativestratification')\n",
    "from iterstrat.ml_stratifiers import MultilabelStratifiedKFold\n",
    "from sklearn.model_selection import StratifiedKFold, KFold\n",
    "\n",
    "class TreeModelling:\n",
    "    def __init__(self, config):\n",
    "        self.config = config \n",
    "        \n",
    "    def lgb_train_and_pred(self, x_tr, y_tr, x_val, y_val, test, feats, split):\n",
    "    \n",
    "        feat_imp_df = pd.DataFrame(feats, columns = [\"feat\"])\n",
    "        model = lgb.train(self.config[\"lgb\"][\"params\"], lgb.Dataset(x_tr, y_tr), self.config[\"lgb\"][\"num_round\"], valid_sets=[lgb.Dataset(x_val, y_val)], \n",
    "                      callbacks = [lgb.early_stopping(stopping_rounds=self.config[\"lgb\"][\"es_round\"], verbose=True), \n",
    "                                   lgb.log_evaluation(self.config[\"lgb\"][\"verbose_eval\"])]) \n",
    "        feat_imp_df[\"imp\"+str(split)] = model.feature_importance()\n",
    "        valid_pred = model.predict(x_val)\n",
    "        test_pred = model.predict(test) \n",
    "    \n",
    "        return test_pred, valid_pred, feat_imp_df\n",
    "    \n",
    "\n",
    "    def xgb_train_and_pred(self, x_tr, y_tr, x_val, y_val, test, feats, split):\n",
    "\n",
    "        xgb_eval = xgb.DMatrix(x_val, label = y_val)\n",
    "        model = xgb.train(self.config[\"xgb\"][\"params\"], xgb.DMatrix(x_tr, label = y_tr), self.config[\"xgb\"][\"num_round\"], evals = [(xgb_eval, \"eval\")], \n",
    "                          early_stopping_rounds=self.config[\"xgb\"][\"es_round\"], verbose_eval = self.config[\"xgb\"][\"verbose_eval\"])\n",
    "        feat_imp_df = pd.DataFrame(model.get_score(importance_type=\"total_gain\").items(), columns =[\"feat\", \"imp\"+str(split)])\n",
    "        valid_pred = model.predict(xgb_eval, iteration_range=(0, model.best_ntree_limit))\n",
    "        dtest = xgb.DMatrix(test)\n",
    "        test_pred = model.predict(dtest, iteration_range=(0, model.best_ntree_limit))\n",
    "    \n",
    "        return test_pred, valid_pred, feat_imp_df\n",
    "\n",
    "    \n",
    "    def cb_train_and_pred(self, x_tr, y_tr, x_val, y_val, test, feats, split):\n",
    "        \n",
    "        feat_imp_df = pd.DataFrame(feats, columns = [\"feat\"]) \n",
    "        if self.config[\"task_type\"] == \"classification\":\n",
    "            model = CatBoostClassifier(**self.config[\"cb\"][\"params\"])\n",
    "            model.fit(x_tr, y_tr, eval_set=[(x_val, y_val)], early_stopping_rounds=self.config[\"cb\"][\"es_round\"],\n",
    "                      verbose_eval = self.config[\"cb\"][\"verbose_eval\"])\n",
    "            valid_pred = model.predict_proba(x_val)[:,1]\n",
    "            test_pred = model.predict_proba(test)[:,1]\n",
    "        elif self.config[\"task_type\"]:\n",
    "            model = CatBoostRegressor(**self.config[\"cb\"][\"params\"])\n",
    "            model.fit(x_tr, y_tr, eval_set=[(x_val, y_val)], early_stopping_rounds=self.config[\"cb\"][\"es_round\"], \n",
    "                      verbose_eval = self.config[\"cb\"][\"verbose_eval\"])\n",
    "            valid_pred = model.predict(x_val)\n",
    "            test_pred = model.predict(test)\n",
    "        \n",
    "        feat_imp_df[\"imp\"+str(split)] = model.get_feature_importance()\n",
    "    \n",
    "        return test_pred, valid_pred, feat_imp_df\n",
    "        \n",
    "    \n",
    "    def cv_execute(self, model_name):\n",
    "            \n",
    "        feats = self.config[model_name][\"feats\"]\n",
    "        valid_output = np.zeros(len(self.config[\"target\"]))\n",
    "        cv = self.config[\"cv\"]\n",
    "        if model_name == \"lgb\":\n",
    "            func = self.lgb_train_and_pred\n",
    "        elif model_name == \"xgb\":\n",
    "            func = self.xgb_train_and_pred\n",
    "        elif model_name == \"cb\":\n",
    "            func = self.cb_train_and_pred\n",
    "    \n",
    "        for split, (tr_idx, val_idx) in enumerate(cv.split(self.config[\"train_data\"], self.config[\"fold_y\"])): \n",
    "            x_tr = self.config[\"train_data\"][feats].iloc[tr_idx]\n",
    "            x_val = self.config[\"train_data\"][feats].iloc[val_idx]\n",
    "            y_tr = self.config[\"target\"].iloc[tr_idx]\n",
    "            y_val = self.config[\"target\"].iloc[val_idx]\n",
    "\n",
    "            if split == 0:\n",
    "                test_output, valid_pred, feat_imp_df = func(x_tr, y_tr, x_val, y_val, self.config[\"test_data\"][feats], feats, split)\n",
    "            else:\n",
    "                tmp_output, valid_pred, tmp_imp_df = func(x_tr, y_tr, x_val, y_val, self.config[\"test_data\"][feats], feats, split)\n",
    "                test_output += tmp_output\n",
    "                feat_imp_df = pd.merge(feat_imp_df, tmp_imp_df, on = \"feat\", how = \"inner\")\n",
    "            valid_output[val_idx] = valid_pred\n",
    "    \n",
    "        test_output /= (split + 1)\n",
    "        feat_imp_df[\"sum\"] = feat_imp_df.iloc[:,1:].sum(axis=1)\n",
    "        \n",
    "        val_score = self.config[\"metric_function\"](self.config[\"target\"], valid_output)\n",
    "    \n",
    "        return test_output, valid_output, feat_imp_df\n",
    "    \n",
    "\n",
    "    def lgb_objective(self, trial):\n",
    "        # https://lightgbm.readthedocs.io/en/latest/Parameters.html\n",
    "        check_params = {\n",
    "            'num_leaves': trial.suggest_int('num_leaves', 10, 100),\n",
    "            'learning_rate': trial.suggest_float('learning_rate', 0.01, 0.5),\n",
    "            'feature_fraction': trial.suggest_float('feature_fraction', 0.5, 1.0),\n",
    "            'bagging_fraction': trial.suggest_float('bagging_fraction', 0.5, 1.0),\n",
    "            'min_child_samples': trial.suggest_int('min_child_samples', 1, 10),\n",
    "            'lambda_l2': trial.suggest_float('lambda_l2', 0, 0.1),\n",
    "            'lambda_l1': trial.suggest_float('lambda_l1', 0, 0.1),\n",
    "        }\n",
    "    \n",
    "        params = self.config[\"lgb\"][\"params\"].copy()\n",
    "        params.update(check_params)\n",
    "        _, val_output, _ = self.cv_execute(\"lgb\")\n",
    "        score = self.config[\"metric_function\"](self.config[\"target\"], val_output)\n",
    "        return score\n",
    "\n",
    "    \n",
    "    def xgb_objective(self, trial):\n",
    "        # https://xgboost.readthedocs.io/en/stable/parameter.html\n",
    "        check_params = {\n",
    "            'gamma': trial.suggest_float('gamma', 0, 1),\n",
    "            'max_depth': trial.suggest_int('max_depth', 1, 10),\n",
    "            'num_leaves': trial.suggest_int('num_leaves', 10, 100),\n",
    "            'learning_rate': trial.suggest_float('learning_rate', 0.01, 0.5),\n",
    "            'min_child_weight': trial.suggest_int('min_child_weight', 1, 10),\n",
    "            'max_delta_step': trial.suggest_int('max_delta_step', 0, 10),\n",
    "            'subsample': trial.suggest_float('subsample', 0, 1),\n",
    "            'lambda': trial.suggest_float('lambda', 0, 1),\n",
    "            'alpha': trial.suggest_float('alpha', 0, 1),\n",
    "        }\n",
    "    \n",
    "        params = self.config[\"xgb\"][\"params\"].copy()\n",
    "        params.update(check_params)\n",
    "        _, val_output, _ = self.cv_execute(\"xgb\")\n",
    "        score = self.config[\"metric_function\"](self.config[\"target\"], val_output)\n",
    "        return score\n",
    "\n",
    "    \n",
    "    def cb_objective(self, trial):\n",
    "        # https://catboost.ai/en/docs/references/training-parameters/\n",
    "        check_params = {\n",
    "            'max_depth': trial.suggest_int('max_depth', 1, 10),\n",
    "            #'num_leaves': trial.suggest_int('num_leaves', 10, 100),\n",
    "            'reg_lambda': trial.suggest_float('reg_lambda', 0, 1.0),\n",
    "            'learning_rate': trial.suggest_float('learning_rate', 0.05, 0.5),\n",
    "            'min_child_samples': trial.suggest_int('min_child_samples', 1, 10),\n",
    "            'colsample_bylevel': trial.suggest_float('reg_lambda', 0, 1.0),\n",
    "        }\n",
    "    \n",
    "        params = self.config[\"cb\"][\"params\"].copy()\n",
    "        params.update(check_params)\n",
    "        _, val_output, _ = self.cv_execute(\"cb\")\n",
    "        score = self.config[\"metric_function\"](self.config[\"target\"], val_output) \n",
    "        return score\n",
    "\n",
    "    \n",
    "    def param_tuning(self, model_name, option = \"minimize\"):\n",
    "\n",
    "        if model_name == \"lgb\":\n",
    "            objective = self.lgb_objective\n",
    "        elif model_name == \"xgb\":\n",
    "            objective = self.xgb_objective\n",
    "        elif model_name == \"cb\":\n",
    "            objective = self.cb_objective\n",
    "            \n",
    "        study = optuna.create_study(direction=option) \n",
    "        study.optimize(objective, n_trials=self.config[\"optuna_trial_num\"])\n",
    "        trial = study.best_trial\n",
    "        print('Value: ', trial.value)\n",
    "        return trial.params"
   ]
  },
  {
   "cell_type": "markdown",
   "id": "e09dca83",
   "metadata": {
    "papermill": {
     "duration": 0.003658,
     "end_time": "2023-08-15T09:42:38.686071",
     "exception": false,
     "start_time": "2023-08-15T09:42:38.682413",
     "status": "completed"
    },
    "tags": []
   },
   "source": [
    "# preprocess"
   ]
  },
  {
   "cell_type": "code",
   "execution_count": 2,
   "id": "4994737a",
   "metadata": {
    "execution": {
     "iopub.execute_input": "2023-08-15T09:42:38.695445Z",
     "iopub.status.busy": "2023-08-15T09:42:38.694764Z",
     "iopub.status.idle": "2023-08-15T09:42:39.024941Z",
     "shell.execute_reply": "2023-08-15T09:42:39.023669Z"
    },
    "papermill": {
     "duration": 0.338462,
     "end_time": "2023-08-15T09:42:39.028145",
     "exception": false,
     "start_time": "2023-08-15T09:42:38.689683",
     "status": "completed"
    },
    "tags": []
   },
   "outputs": [
    {
     "name": "stdout",
     "output_type": "stream",
     "text": [
      "(617, 79) (5, 73)\n"
     ]
    }
   ],
   "source": [
    "train = pd.read_csv('/kaggle/input/icr-identify-age-related-conditions/train.csv')\n",
    "test = pd.read_csv('/kaggle/input/icr-identify-age-related-conditions/test.csv')\n",
    "sample = pd.read_csv('/kaggle/input/icr-identify-age-related-conditions/sample_submission.csv')\n",
    "greeks = pd.read_csv('/kaggle/input/icr-identify-age-related-conditions/greeks.csv')\n",
    "\n",
    "\n",
    "import itertools\n",
    "from datetime import datetime\n",
    "from sklearn.decomposition import PCA\n",
    "\n",
    "train['EJ'] = train['EJ'].map({'A': 0, 'B': 1})\n",
    "test['EJ']  = test['EJ'].map({'A': 0, 'B': 1})\n",
    "\n",
    "# process epsilon\n",
    "train = pd.merge(train, greeks, on = \"Id\", how = \"inner\")\n",
    "train_stratify = train[[\"Class\", \"Beta\", \"Delta\", \"Gamma\"]] \n",
    "train[\"Epsilon_ordinal\"] = train[\"Epsilon\"].map(lambda x: datetime.strptime(x,'%m/%d/%Y').toordinal() if x != \"Unknown\" else np.nan)\n",
    "\n",
    "org_features = [n for n in train.columns if n not in ['Class', 'Id', 'Alpha', \"Beta\", \"Gamma\", \"Delta\", \"Epsilon\"]]\n",
    "test_times = pd.DataFrame([train.Epsilon_ordinal.max() + 1] * len(test), columns = [\"Epsilon_ordinal\"])\n",
    "final_test = pd.concat((test, test_times), axis=1)\n",
    "\n",
    "# fill missing value\n",
    "train.fillna(-999, inplace=True)\n",
    "final_test.fillna(-999, inplace=True)\n",
    "\n",
    "# add pca columns\n",
    "pca_feat_num = 15\n",
    "pca_cols = [\"pca\"+str(i+1) for i in range(pca_feat_num)]\n",
    "pca = PCA(n_components=pca_feat_num,random_state=42)\n",
    "pca_train = pca.fit_transform(train[org_features])\n",
    "pca_test = pca.transform(final_test[org_features])\n",
    "pca_train = pd.DataFrame(pca_train, columns=pca_cols)\n",
    "pca_test = pd.DataFrame(pca_test, columns=pca_cols)\n",
    "train = pd.concat([train, pca_train],axis=1)\n",
    "final_test = pd.concat([final_test, pca_test],axis=1)\n",
    "\n",
    "print(train.shape, final_test.shape)"
   ]
  },
  {
   "cell_type": "markdown",
   "id": "d2e174c7",
   "metadata": {
    "papermill": {
     "duration": 0.007911,
     "end_time": "2023-08-15T09:42:39.042185",
     "exception": false,
     "start_time": "2023-08-15T09:42:39.034274",
     "status": "completed"
    },
    "tags": []
   },
   "source": [
    "# config"
   ]
  },
  {
   "cell_type": "code",
   "execution_count": 3,
   "id": "3c7de648",
   "metadata": {
    "execution": {
     "iopub.execute_input": "2023-08-15T09:42:39.070976Z",
     "iopub.status.busy": "2023-08-15T09:42:39.070417Z",
     "iopub.status.idle": "2023-08-15T09:42:39.083631Z",
     "shell.execute_reply": "2023-08-15T09:42:39.082445Z"
    },
    "papermill": {
     "duration": 0.029595,
     "end_time": "2023-08-15T09:42:39.086298",
     "exception": false,
     "start_time": "2023-08-15T09:42:39.056703",
     "status": "completed"
    },
    "tags": []
   },
   "outputs": [],
   "source": [
    "from sklearn.metrics import log_loss\n",
    "def balanced_log_loss(y_true, y_pred):\n",
    "    nc = np.bincount(y_true)\n",
    "    return log_loss(y_true, y_pred, sample_weight = 1/nc[y_true], eps=1e-15)\n",
    "\n",
    "config = {\n",
    "    \"xgb\": {\n",
    "        \"feats\": org_features + pca_cols,\n",
    "        \"num_round\" : 1000,\n",
    "        \"es_round\" : 50,\n",
    "        \"verbose_eval\": 100,\n",
    "        \"params\" : {\n",
    "            'objective': 'binary:logistic',\n",
    "            'eval_metric': 'logloss',\n",
    "            'verbosity': 0,\n",
    "            'seed': 42},   \n",
    "    },\n",
    "    \n",
    "    \"lgb\": {\n",
    "        \"feats\": org_features + pca_cols,\n",
    "        \"num_round\" : 1000,\n",
    "        \"es_round\" : 20,\n",
    "        \"verbose_eval\": 100,\n",
    "        \"params\" : {\n",
    "            'objective': 'binary', \n",
    "            'metric': 'binary_logloss', \n",
    "            'boosting': 'goss',\n",
    "            'verbose': -1,\n",
    "            'seed': 42,\n",
    "            'is_unbalance': True},   \n",
    "    },\n",
    "\n",
    "    \"cb\": {\n",
    "        \"feats\": org_features + pca_cols,\n",
    "        \"es_round\" : 40,\n",
    "        \"verbose_eval\": 100,\n",
    "        \"params\" : {\n",
    "            'loss_function': 'Logloss',\n",
    "            'iterations': 1000,  \n",
    "            'random_seed': 42,\n",
    "            'use_best_model' : True},\n",
    "    },\n",
    "\n",
    "    \"task_type\": \"classification\",\n",
    "    \"cv\": MultilabelStratifiedKFold(5, shuffle=True, random_state=42),\n",
    "    \"train_data\": train,\n",
    "    \"fold_y\": train_stratify,\n",
    "    \"test_data\": final_test,\n",
    "    \"target\": train.Class,\n",
    "    \"metric_function\" : balanced_log_loss,\n",
    "    \"optuna_trial_num\": 5,\n",
    "}"
   ]
  },
  {
   "cell_type": "markdown",
   "id": "a5d762df",
   "metadata": {
    "papermill": {
     "duration": 0.011445,
     "end_time": "2023-08-15T09:42:39.104230",
     "exception": false,
     "start_time": "2023-08-15T09:42:39.092785",
     "status": "completed"
    },
    "tags": []
   },
   "source": [
    "# tree model"
   ]
  },
  {
   "cell_type": "code",
   "execution_count": 4,
   "id": "8b9595ea",
   "metadata": {
    "execution": {
     "iopub.execute_input": "2023-08-15T09:42:39.129759Z",
     "iopub.status.busy": "2023-08-15T09:42:39.128979Z",
     "iopub.status.idle": "2023-08-15T09:42:39.134329Z",
     "shell.execute_reply": "2023-08-15T09:42:39.133149Z"
    },
    "papermill": {
     "duration": 0.019367,
     "end_time": "2023-08-15T09:42:39.136369",
     "exception": false,
     "start_time": "2023-08-15T09:42:39.117002",
     "status": "completed"
    },
    "tags": []
   },
   "outputs": [],
   "source": [
    "treemodel = TreeModelling(config)"
   ]
  },
  {
   "cell_type": "code",
   "execution_count": 5,
   "id": "795e039a",
   "metadata": {
    "execution": {
     "iopub.execute_input": "2023-08-15T09:42:39.146158Z",
     "iopub.status.busy": "2023-08-15T09:42:39.145457Z",
     "iopub.status.idle": "2023-08-15T09:42:48.768128Z",
     "shell.execute_reply": "2023-08-15T09:42:48.766968Z"
    },
    "papermill": {
     "duration": 9.630116,
     "end_time": "2023-08-15T09:42:48.770399",
     "exception": false,
     "start_time": "2023-08-15T09:42:39.140283",
     "status": "completed"
    },
    "tags": []
   },
   "outputs": [
    {
     "name": "stdout",
     "output_type": "stream",
     "text": [
      "Training until validation scores don't improve for 20 rounds\n",
      "[100]\tvalid_0's binary_logloss: 0.0753021\n",
      "Early stopping, best iteration is:\n",
      "[133]\tvalid_0's binary_logloss: 0.0568181\n",
      "Training until validation scores don't improve for 20 rounds\n",
      "[100]\tvalid_0's binary_logloss: 0.190418\n",
      "Early stopping, best iteration is:\n",
      "[114]\tvalid_0's binary_logloss: 0.181247\n",
      "Training until validation scores don't improve for 20 rounds\n",
      "[100]\tvalid_0's binary_logloss: 0.173883\n",
      "Early stopping, best iteration is:\n",
      "[117]\tvalid_0's binary_logloss: 0.171541\n",
      "Training until validation scores don't improve for 20 rounds\n",
      "[100]\tvalid_0's binary_logloss: 0.166974\n",
      "Early stopping, best iteration is:\n",
      "[176]\tvalid_0's binary_logloss: 0.148852\n",
      "Training until validation scores don't improve for 20 rounds\n"
     ]
    },
    {
     "name": "stderr",
     "output_type": "stream",
     "text": [
      "\u001b[32m[I 2023-08-15 09:42:40,860]\u001b[0m A new study created in memory with name: no-name-52b52be5-b0a1-4eeb-bdb7-916926be6966\u001b[0m\n"
     ]
    },
    {
     "name": "stdout",
     "output_type": "stream",
     "text": [
      "Early stopping, best iteration is:\n",
      "[71]\tvalid_0's binary_logloss: 0.156839\n",
      "Training until validation scores don't improve for 20 rounds\n",
      "[100]\tvalid_0's binary_logloss: 0.0753021\n",
      "Early stopping, best iteration is:\n",
      "[133]\tvalid_0's binary_logloss: 0.0568181\n",
      "Training until validation scores don't improve for 20 rounds\n",
      "[100]\tvalid_0's binary_logloss: 0.190418\n",
      "Early stopping, best iteration is:\n",
      "[114]\tvalid_0's binary_logloss: 0.181247\n",
      "Training until validation scores don't improve for 20 rounds\n",
      "[100]\tvalid_0's binary_logloss: 0.173883\n",
      "Early stopping, best iteration is:\n",
      "[117]\tvalid_0's binary_logloss: 0.171541\n",
      "Training until validation scores don't improve for 20 rounds\n",
      "[100]\tvalid_0's binary_logloss: 0.166974\n",
      "Early stopping, best iteration is:\n",
      "[176]\tvalid_0's binary_logloss: 0.148852\n",
      "Training until validation scores don't improve for 20 rounds\n"
     ]
    },
    {
     "name": "stderr",
     "output_type": "stream",
     "text": [
      "\u001b[32m[I 2023-08-15 09:42:42,414]\u001b[0m Trial 0 finished with value: 0.22179991403414676 and parameters: {'num_leaves': 83, 'learning_rate': 0.2543626044014629, 'feature_fraction': 0.5829999619487558, 'bagging_fraction': 0.6164984984262156, 'min_child_samples': 9, 'lambda_l2': 0.05682042146547994, 'lambda_l1': 0.09621377789384544}. Best is trial 0 with value: 0.22179991403414676.\u001b[0m\n"
     ]
    },
    {
     "name": "stdout",
     "output_type": "stream",
     "text": [
      "Early stopping, best iteration is:\n",
      "[71]\tvalid_0's binary_logloss: 0.156839\n",
      "Training until validation scores don't improve for 20 rounds\n",
      "[100]\tvalid_0's binary_logloss: 0.0753021\n",
      "Early stopping, best iteration is:\n",
      "[133]\tvalid_0's binary_logloss: 0.0568181\n",
      "Training until validation scores don't improve for 20 rounds\n",
      "[100]\tvalid_0's binary_logloss: 0.190418\n",
      "Early stopping, best iteration is:\n",
      "[114]\tvalid_0's binary_logloss: 0.181247\n",
      "Training until validation scores don't improve for 20 rounds\n",
      "[100]\tvalid_0's binary_logloss: 0.173883\n",
      "Early stopping, best iteration is:\n",
      "[117]\tvalid_0's binary_logloss: 0.171541\n",
      "Training until validation scores don't improve for 20 rounds\n",
      "[100]\tvalid_0's binary_logloss: 0.166974\n",
      "Early stopping, best iteration is:\n",
      "[176]\tvalid_0's binary_logloss: 0.148852\n",
      "Training until validation scores don't improve for 20 rounds\n",
      "Early stopping, best iteration is:\n",
      "[71]\tvalid_0's binary_logloss: 0.156839\n"
     ]
    },
    {
     "name": "stderr",
     "output_type": "stream",
     "text": [
      "\u001b[32m[I 2023-08-15 09:42:43,980]\u001b[0m Trial 1 finished with value: 0.22179991403414676 and parameters: {'num_leaves': 67, 'learning_rate': 0.26542438291758397, 'feature_fraction': 0.7516328100655096, 'bagging_fraction': 0.8647698349145376, 'min_child_samples': 2, 'lambda_l2': 0.03240743910657269, 'lambda_l1': 0.04385870144742574}. Best is trial 0 with value: 0.22179991403414676.\u001b[0m\n"
     ]
    },
    {
     "name": "stdout",
     "output_type": "stream",
     "text": [
      "Training until validation scores don't improve for 20 rounds\n",
      "[100]\tvalid_0's binary_logloss: 0.0753021\n",
      "Early stopping, best iteration is:\n",
      "[133]\tvalid_0's binary_logloss: 0.0568181\n",
      "Training until validation scores don't improve for 20 rounds\n",
      "[100]\tvalid_0's binary_logloss: 0.190418\n",
      "Early stopping, best iteration is:\n",
      "[114]\tvalid_0's binary_logloss: 0.181247\n",
      "Training until validation scores don't improve for 20 rounds\n",
      "[100]\tvalid_0's binary_logloss: 0.173883\n",
      "Early stopping, best iteration is:\n",
      "[117]\tvalid_0's binary_logloss: 0.171541\n",
      "Training until validation scores don't improve for 20 rounds\n",
      "[100]\tvalid_0's binary_logloss: 0.166974\n",
      "Early stopping, best iteration is:\n",
      "[176]\tvalid_0's binary_logloss: 0.148852\n"
     ]
    },
    {
     "name": "stderr",
     "output_type": "stream",
     "text": [
      "\u001b[32m[I 2023-08-15 09:42:45,579]\u001b[0m Trial 2 finished with value: 0.22179991403414676 and parameters: {'num_leaves': 87, 'learning_rate': 0.21527997645346938, 'feature_fraction': 0.818186188159735, 'bagging_fraction': 0.7494989711510878, 'min_child_samples': 6, 'lambda_l2': 0.07928843165721405, 'lambda_l1': 0.07834726540204047}. Best is trial 0 with value: 0.22179991403414676.\u001b[0m\n"
     ]
    },
    {
     "name": "stdout",
     "output_type": "stream",
     "text": [
      "Training until validation scores don't improve for 20 rounds\n",
      "Early stopping, best iteration is:\n",
      "[71]\tvalid_0's binary_logloss: 0.156839\n",
      "Training until validation scores don't improve for 20 rounds\n",
      "[100]\tvalid_0's binary_logloss: 0.0753021\n",
      "Early stopping, best iteration is:\n",
      "[133]\tvalid_0's binary_logloss: 0.0568181\n",
      "Training until validation scores don't improve for 20 rounds\n",
      "[100]\tvalid_0's binary_logloss: 0.190418\n",
      "Early stopping, best iteration is:\n",
      "[114]\tvalid_0's binary_logloss: 0.181247\n",
      "Training until validation scores don't improve for 20 rounds\n",
      "[100]\tvalid_0's binary_logloss: 0.173883\n",
      "Early stopping, best iteration is:\n",
      "[117]\tvalid_0's binary_logloss: 0.171541\n",
      "Training until validation scores don't improve for 20 rounds\n",
      "[100]\tvalid_0's binary_logloss: 0.166974\n",
      "Early stopping, best iteration is:\n",
      "[176]\tvalid_0's binary_logloss: 0.148852\n",
      "Training until validation scores don't improve for 20 rounds\n",
      "Early stopping, best iteration is:\n",
      "[71]\tvalid_0's binary_logloss: 0.156839\n"
     ]
    },
    {
     "name": "stderr",
     "output_type": "stream",
     "text": [
      "\u001b[32m[I 2023-08-15 09:42:47,189]\u001b[0m Trial 3 finished with value: 0.22179991403414676 and parameters: {'num_leaves': 89, 'learning_rate': 0.44363063196828606, 'feature_fraction': 0.8181733448025739, 'bagging_fraction': 0.5550223859031387, 'min_child_samples': 8, 'lambda_l2': 0.05358044024355599, 'lambda_l1': 0.06602030091738728}. Best is trial 0 with value: 0.22179991403414676.\u001b[0m\n"
     ]
    },
    {
     "name": "stdout",
     "output_type": "stream",
     "text": [
      "Training until validation scores don't improve for 20 rounds\n",
      "[100]\tvalid_0's binary_logloss: 0.0753021\n",
      "Early stopping, best iteration is:\n",
      "[133]\tvalid_0's binary_logloss: 0.0568181\n",
      "Training until validation scores don't improve for 20 rounds\n",
      "[100]\tvalid_0's binary_logloss: 0.190418\n",
      "Early stopping, best iteration is:\n",
      "[114]\tvalid_0's binary_logloss: 0.181247\n",
      "Training until validation scores don't improve for 20 rounds\n",
      "[100]\tvalid_0's binary_logloss: 0.173883\n",
      "Early stopping, best iteration is:\n",
      "[117]\tvalid_0's binary_logloss: 0.171541\n",
      "Training until validation scores don't improve for 20 rounds\n",
      "[100]\tvalid_0's binary_logloss: 0.166974\n",
      "Early stopping, best iteration is:\n",
      "[176]\tvalid_0's binary_logloss: 0.148852\n",
      "Training until validation scores don't improve for 20 rounds\n"
     ]
    },
    {
     "name": "stderr",
     "output_type": "stream",
     "text": [
      "\u001b[32m[I 2023-08-15 09:42:48,759]\u001b[0m Trial 4 finished with value: 0.22179991403414676 and parameters: {'num_leaves': 46, 'learning_rate': 0.4993053227442533, 'feature_fraction': 0.5980069486480348, 'bagging_fraction': 0.7093654720849973, 'min_child_samples': 3, 'lambda_l2': 0.00519708843347545, 'lambda_l1': 0.0007976489732777315}. Best is trial 0 with value: 0.22179991403414676.\u001b[0m\n"
     ]
    },
    {
     "name": "stdout",
     "output_type": "stream",
     "text": [
      "Early stopping, best iteration is:\n",
      "[71]\tvalid_0's binary_logloss: 0.156839\n",
      "Value:  0.22179991403414676\n"
     ]
    },
    {
     "data": {
      "text/plain": [
       "{'num_leaves': 83,\n",
       " 'learning_rate': 0.2543626044014629,\n",
       " 'feature_fraction': 0.5829999619487558,\n",
       " 'bagging_fraction': 0.6164984984262156,\n",
       " 'min_child_samples': 9,\n",
       " 'lambda_l2': 0.05682042146547994,\n",
       " 'lambda_l1': 0.09621377789384544}"
      ]
     },
     "execution_count": 5,
     "metadata": {},
     "output_type": "execute_result"
    }
   ],
   "source": [
    "_, lgb_val_output, lgb_imp_df = treemodel.cv_execute(\"lgb\")\n",
    "lgb_best_params = treemodel.param_tuning(\"lgb\")\n",
    "lgb_best_params"
   ]
  },
  {
   "cell_type": "code",
   "execution_count": 6,
   "id": "620a082e",
   "metadata": {
    "execution": {
     "iopub.execute_input": "2023-08-15T09:42:48.785564Z",
     "iopub.status.busy": "2023-08-15T09:42:48.785149Z",
     "iopub.status.idle": "2023-08-15T09:43:01.936378Z",
     "shell.execute_reply": "2023-08-15T09:43:01.935313Z"
    },
    "papermill": {
     "duration": 13.161561,
     "end_time": "2023-08-15T09:43:01.938593",
     "exception": false,
     "start_time": "2023-08-15T09:42:48.777032",
     "status": "completed"
    },
    "tags": []
   },
   "outputs": [
    {
     "name": "stdout",
     "output_type": "stream",
     "text": [
      "[0]\teval-logloss:0.50062\n",
      "[100]\teval-logloss:0.07995\n",
      "[200]\teval-logloss:0.07652\n",
      "[294]\teval-logloss:0.07731\n",
      "[0]\teval-logloss:0.52655\n",
      "[79]\teval-logloss:0.15150\n",
      "[0]\teval-logloss:0.50637\n",
      "[74]\teval-logloss:0.16255\n",
      "[0]\teval-logloss:0.52571\n",
      "[100]\teval-logloss:0.15744\n",
      "[145]\teval-logloss:0.15881\n",
      "[0]\teval-logloss:0.52212\n",
      "[73]\teval-logloss:0.20678\n"
     ]
    },
    {
     "name": "stderr",
     "output_type": "stream",
     "text": [
      "\u001b[32m[I 2023-08-15 09:42:51,139]\u001b[0m A new study created in memory with name: no-name-99be5ee6-888f-44f5-b110-9b60e5bb9f88\u001b[0m\n"
     ]
    },
    {
     "name": "stdout",
     "output_type": "stream",
     "text": [
      "[0]\teval-logloss:0.50062\n",
      "[100]\teval-logloss:0.07995\n",
      "[200]\teval-logloss:0.07652\n",
      "[294]\teval-logloss:0.07731\n",
      "[0]\teval-logloss:0.52655\n",
      "[79]\teval-logloss:0.15150\n",
      "[0]\teval-logloss:0.50637\n",
      "[74]\teval-logloss:0.16255\n",
      "[0]\teval-logloss:0.52571\n",
      "[100]\teval-logloss:0.15744\n",
      "[145]\teval-logloss:0.15881\n",
      "[0]\teval-logloss:0.52212\n",
      "[72]\teval-logloss:0.20594\n"
     ]
    },
    {
     "name": "stderr",
     "output_type": "stream",
     "text": [
      "\u001b[32m[I 2023-08-15 09:42:53,273]\u001b[0m Trial 0 finished with value: 0.31216516835643554 and parameters: {'gamma': 0.7106977884658066, 'max_depth': 3, 'num_leaves': 98, 'learning_rate': 0.12175443843182401, 'min_child_weight': 3, 'max_delta_step': 8, 'subsample': 0.851704793573662, 'lambda': 0.3907230756450786, 'alpha': 0.1996513816127371}. Best is trial 0 with value: 0.31216516835643554.\u001b[0m\n"
     ]
    },
    {
     "name": "stdout",
     "output_type": "stream",
     "text": [
      "[0]\teval-logloss:0.50062\n",
      "[100]\teval-logloss:0.07995\n",
      "[200]\teval-logloss:0.07652\n",
      "[293]\teval-logloss:0.07732\n",
      "[0]\teval-logloss:0.52655\n",
      "[78]\teval-logloss:0.15152\n",
      "[0]\teval-logloss:0.50637\n",
      "[74]\teval-logloss:0.16255\n",
      "[0]\teval-logloss:0.52571\n",
      "[100]\teval-logloss:0.15744\n",
      "[145]\teval-logloss:0.15881\n",
      "[0]\teval-logloss:0.52212\n",
      "[73]\teval-logloss:0.20678\n"
     ]
    },
    {
     "name": "stderr",
     "output_type": "stream",
     "text": [
      "\u001b[32m[I 2023-08-15 09:42:55,426]\u001b[0m Trial 1 finished with value: 0.31216516835643554 and parameters: {'gamma': 0.5865749567692885, 'max_depth': 9, 'num_leaves': 49, 'learning_rate': 0.3556357508559403, 'min_child_weight': 8, 'max_delta_step': 7, 'subsample': 0.1269970105556052, 'lambda': 0.4911430016353868, 'alpha': 0.35840543536790626}. Best is trial 0 with value: 0.31216516835643554.\u001b[0m\n"
     ]
    },
    {
     "name": "stdout",
     "output_type": "stream",
     "text": [
      "[0]\teval-logloss:0.50062\n",
      "[100]\teval-logloss:0.07995\n",
      "[200]\teval-logloss:0.07652\n",
      "[294]\teval-logloss:0.07731\n",
      "[0]\teval-logloss:0.52655\n",
      "[79]\teval-logloss:0.15150\n",
      "[0]\teval-logloss:0.50637\n",
      "[74]\teval-logloss:0.16255\n",
      "[0]\teval-logloss:0.52571\n",
      "[100]\teval-logloss:0.15744\n",
      "[144]\teval-logloss:0.15872\n",
      "[0]\teval-logloss:0.52212\n",
      "[73]\teval-logloss:0.20678\n"
     ]
    },
    {
     "name": "stderr",
     "output_type": "stream",
     "text": [
      "\u001b[32m[I 2023-08-15 09:42:57,578]\u001b[0m Trial 2 finished with value: 0.31216516835643554 and parameters: {'gamma': 0.3120753609876892, 'max_depth': 10, 'num_leaves': 82, 'learning_rate': 0.081814039302903, 'min_child_weight': 2, 'max_delta_step': 7, 'subsample': 0.2762280324565486, 'lambda': 0.2705714398789978, 'alpha': 0.9394466973765975}. Best is trial 0 with value: 0.31216516835643554.\u001b[0m\n"
     ]
    },
    {
     "name": "stdout",
     "output_type": "stream",
     "text": [
      "[0]\teval-logloss:0.50062\n",
      "[100]\teval-logloss:0.07995\n",
      "[200]\teval-logloss:0.07652\n",
      "[293]\teval-logloss:0.07732\n",
      "[0]\teval-logloss:0.52655\n",
      "[78]\teval-logloss:0.15152\n",
      "[0]\teval-logloss:0.50637\n",
      "[73]\teval-logloss:0.16337\n",
      "[0]\teval-logloss:0.52571\n",
      "[100]\teval-logloss:0.15744\n",
      "[145]\teval-logloss:0.15881\n",
      "[0]\teval-logloss:0.52212\n",
      "[73]\teval-logloss:0.20678\n"
     ]
    },
    {
     "name": "stderr",
     "output_type": "stream",
     "text": [
      "\u001b[32m[I 2023-08-15 09:42:59,750]\u001b[0m Trial 3 finished with value: 0.31216516835643554 and parameters: {'gamma': 0.3859142753268944, 'max_depth': 9, 'num_leaves': 60, 'learning_rate': 0.08431713685031113, 'min_child_weight': 6, 'max_delta_step': 0, 'subsample': 0.8488484897095271, 'lambda': 0.7478864851513223, 'alpha': 0.6644773902479485}. Best is trial 0 with value: 0.31216516835643554.\u001b[0m\n"
     ]
    },
    {
     "name": "stdout",
     "output_type": "stream",
     "text": [
      "[0]\teval-logloss:0.50062\n",
      "[100]\teval-logloss:0.07995\n",
      "[200]\teval-logloss:0.07652\n",
      "[293]\teval-logloss:0.07732\n",
      "[0]\teval-logloss:0.52655\n",
      "[78]\teval-logloss:0.15152\n",
      "[0]\teval-logloss:0.50637\n",
      "[74]\teval-logloss:0.16255\n",
      "[0]\teval-logloss:0.52571\n",
      "[100]\teval-logloss:0.15744\n",
      "[145]\teval-logloss:0.15881\n",
      "[0]\teval-logloss:0.52212\n",
      "[72]\teval-logloss:0.20594\n"
     ]
    },
    {
     "name": "stderr",
     "output_type": "stream",
     "text": [
      "\u001b[32m[I 2023-08-15 09:43:01,925]\u001b[0m Trial 4 finished with value: 0.31216516835643554 and parameters: {'gamma': 0.023775990018820248, 'max_depth': 5, 'num_leaves': 47, 'learning_rate': 0.41685396975409056, 'min_child_weight': 10, 'max_delta_step': 9, 'subsample': 0.7856050280294459, 'lambda': 0.2035438091566707, 'alpha': 0.3540695808756149}. Best is trial 0 with value: 0.31216516835643554.\u001b[0m\n"
     ]
    },
    {
     "name": "stdout",
     "output_type": "stream",
     "text": [
      "Value:  0.31216516835643554\n"
     ]
    },
    {
     "data": {
      "text/plain": [
       "{'gamma': 0.7106977884658066,\n",
       " 'max_depth': 3,\n",
       " 'num_leaves': 98,\n",
       " 'learning_rate': 0.12175443843182401,\n",
       " 'min_child_weight': 3,\n",
       " 'max_delta_step': 8,\n",
       " 'subsample': 0.851704793573662,\n",
       " 'lambda': 0.3907230756450786,\n",
       " 'alpha': 0.1996513816127371}"
      ]
     },
     "execution_count": 6,
     "metadata": {},
     "output_type": "execute_result"
    }
   ],
   "source": [
    "_, xgb_val_output, xgb_imp_df = treemodel.cv_execute(\"xgb\")\n",
    "xgb_best_params = treemodel.param_tuning(\"xgb\")\n",
    "xgb_best_params"
   ]
  },
  {
   "cell_type": "code",
   "execution_count": 7,
   "id": "29c69a04",
   "metadata": {
    "execution": {
     "iopub.execute_input": "2023-08-15T09:43:01.965088Z",
     "iopub.status.busy": "2023-08-15T09:43:01.964690Z",
     "iopub.status.idle": "2023-08-15T09:45:05.665489Z",
     "shell.execute_reply": "2023-08-15T09:45:05.664739Z"
    },
    "papermill": {
     "duration": 123.71668,
     "end_time": "2023-08-15T09:45:05.667587",
     "exception": false,
     "start_time": "2023-08-15T09:43:01.950907",
     "status": "completed"
    },
    "tags": []
   },
   "outputs": [
    {
     "name": "stdout",
     "output_type": "stream",
     "text": [
      "Learning rate set to 0.026623\n",
      "0:\tlearn: 0.6658456\ttest: 0.6657945\tbest: 0.6657945 (0)\ttotal: 70.1ms\tremaining: 1m 10s\n",
      "100:\tlearn: 0.1123480\ttest: 0.1832610\tbest: 0.1832610 (100)\ttotal: 881ms\tremaining: 7.84s\n",
      "200:\tlearn: 0.0492788\ttest: 0.1381917\tbest: 0.1381917 (200)\ttotal: 1.67s\tremaining: 6.65s\n",
      "300:\tlearn: 0.0253975\ttest: 0.1166001\tbest: 0.1166001 (300)\ttotal: 2.47s\tremaining: 5.73s\n",
      "400:\tlearn: 0.0143491\ttest: 0.1034707\tbest: 0.1034707 (400)\ttotal: 3.26s\tremaining: 4.86s\n",
      "500:\tlearn: 0.0094645\ttest: 0.0988917\tbest: 0.0988917 (500)\ttotal: 4.04s\tremaining: 4.02s\n",
      "600:\tlearn: 0.0068158\ttest: 0.0956670\tbest: 0.0952825 (577)\ttotal: 4.83s\tremaining: 3.2s\n",
      "700:\tlearn: 0.0052091\ttest: 0.0923589\tbest: 0.0923589 (700)\ttotal: 5.62s\tremaining: 2.4s\n",
      "800:\tlearn: 0.0042617\ttest: 0.0891180\tbest: 0.0891180 (800)\ttotal: 6.41s\tremaining: 1.59s\n",
      "Stopped by overfitting detector  (40 iterations wait)\n",
      "\n",
      "bestTest = 0.08903141659\n",
      "bestIteration = 803\n",
      "\n",
      "Shrink model to first 804 iterations.\n",
      "Learning rate set to 0.026623\n",
      "0:\tlearn: 0.6639685\ttest: 0.6675938\tbest: 0.6675938 (0)\ttotal: 14.2ms\tremaining: 14.2s\n",
      "100:\tlearn: 0.0966009\ttest: 0.2232625\tbest: 0.2232625 (100)\ttotal: 809ms\tremaining: 7.2s\n",
      "200:\tlearn: 0.0400339\ttest: 0.1963458\tbest: 0.1962260 (199)\ttotal: 1.64s\tremaining: 6.53s\n",
      "300:\tlearn: 0.0203409\ttest: 0.1821292\tbest: 0.1820633 (296)\ttotal: 2.43s\tremaining: 5.64s\n",
      "400:\tlearn: 0.0121352\ttest: 0.1778289\tbest: 0.1777488 (399)\ttotal: 3.21s\tremaining: 4.8s\n",
      "Stopped by overfitting detector  (40 iterations wait)\n",
      "\n",
      "bestTest = 0.1777037715\n",
      "bestIteration = 422\n",
      "\n",
      "Shrink model to first 423 iterations.\n",
      "Learning rate set to 0.02661\n",
      "0:\tlearn: 0.6732626\ttest: 0.6767785\tbest: 0.6767785 (0)\ttotal: 11.1ms\tremaining: 11.1s\n",
      "100:\tlearn: 0.1004395\ttest: 0.2277886\tbest: 0.2277886 (100)\ttotal: 799ms\tremaining: 7.11s\n",
      "200:\tlearn: 0.0410985\ttest: 0.1978980\tbest: 0.1978980 (200)\ttotal: 1.59s\tremaining: 6.31s\n",
      "300:\tlearn: 0.0209257\ttest: 0.1840968\tbest: 0.1836870 (293)\ttotal: 2.39s\tremaining: 5.56s\n",
      "400:\tlearn: 0.0112593\ttest: 0.1818971\tbest: 0.1808583 (382)\ttotal: 3.19s\tremaining: 4.76s\n",
      "Stopped by overfitting detector  (40 iterations wait)\n",
      "\n",
      "bestTest = 0.1808583496\n",
      "bestIteration = 382\n",
      "\n",
      "Shrink model to first 383 iterations.\n",
      "Learning rate set to 0.026623\n",
      "0:\tlearn: 0.6647664\ttest: 0.6672171\tbest: 0.6672171 (0)\ttotal: 9.43ms\tremaining: 9.42s\n",
      "100:\tlearn: 0.1064686\ttest: 0.2057343\tbest: 0.2057343 (100)\ttotal: 828ms\tremaining: 7.37s\n",
      "200:\tlearn: 0.0453790\ttest: 0.1700236\tbest: 0.1700236 (200)\ttotal: 1.63s\tremaining: 6.49s\n",
      "300:\tlearn: 0.0233442\ttest: 0.1547804\tbest: 0.1544352 (298)\ttotal: 2.42s\tremaining: 5.61s\n",
      "400:\tlearn: 0.0140283\ttest: 0.1497491\tbest: 0.1494520 (374)\ttotal: 3.21s\tremaining: 4.79s\n",
      "Stopped by overfitting detector  (40 iterations wait)\n",
      "\n",
      "bestTest = 0.1494519523\n",
      "bestIteration = 374\n",
      "\n",
      "Shrink model to first 375 iterations.\n",
      "Learning rate set to 0.02661\n",
      "0:\tlearn: 0.6649654\ttest: 0.6644447\tbest: 0.6644447 (0)\ttotal: 9.75ms\tremaining: 9.74s\n",
      "100:\tlearn: 0.1076124\ttest: 0.2287639\tbest: 0.2283431 (98)\ttotal: 850ms\tremaining: 7.56s\n",
      "200:\tlearn: 0.0446048\ttest: 0.1988272\tbest: 0.1985434 (199)\ttotal: 1.98s\tremaining: 7.85s\n"
     ]
    },
    {
     "name": "stderr",
     "output_type": "stream",
     "text": [
      "\u001b[32m[I 2023-08-15 09:43:22,916]\u001b[0m A new study created in memory with name: no-name-27cfb330-479c-4ec7-95fa-b8067478391d\u001b[0m\n"
     ]
    },
    {
     "name": "stdout",
     "output_type": "stream",
     "text": [
      "300:\tlearn: 0.0218487\ttest: 0.1931048\tbest: 0.1908997 (267)\ttotal: 2.92s\tremaining: 6.78s\n",
      "Stopped by overfitting detector  (40 iterations wait)\n",
      "\n",
      "bestTest = 0.1908997058\n",
      "bestIteration = 267\n",
      "\n",
      "Shrink model to first 268 iterations.\n",
      "Learning rate set to 0.026623\n",
      "0:\tlearn: 0.6658456\ttest: 0.6657945\tbest: 0.6657945 (0)\ttotal: 8.28ms\tremaining: 8.27s\n",
      "100:\tlearn: 0.1123480\ttest: 0.1832610\tbest: 0.1832610 (100)\ttotal: 805ms\tremaining: 7.16s\n",
      "200:\tlearn: 0.0492788\ttest: 0.1381917\tbest: 0.1381917 (200)\ttotal: 1.59s\tremaining: 6.31s\n",
      "300:\tlearn: 0.0253975\ttest: 0.1166001\tbest: 0.1166001 (300)\ttotal: 2.37s\tremaining: 5.51s\n",
      "400:\tlearn: 0.0143491\ttest: 0.1034707\tbest: 0.1034707 (400)\ttotal: 3.16s\tremaining: 4.72s\n",
      "500:\tlearn: 0.0094645\ttest: 0.0988917\tbest: 0.0988917 (500)\ttotal: 3.95s\tremaining: 3.93s\n",
      "600:\tlearn: 0.0068158\ttest: 0.0956670\tbest: 0.0952825 (577)\ttotal: 4.73s\tremaining: 3.14s\n",
      "700:\tlearn: 0.0052091\ttest: 0.0923589\tbest: 0.0923589 (700)\ttotal: 5.51s\tremaining: 2.35s\n",
      "800:\tlearn: 0.0042617\ttest: 0.0891180\tbest: 0.0891180 (800)\ttotal: 6.3s\tremaining: 1.56s\n",
      "Stopped by overfitting detector  (40 iterations wait)\n",
      "\n",
      "bestTest = 0.08903141659\n",
      "bestIteration = 803\n",
      "\n",
      "Shrink model to first 804 iterations.\n",
      "Learning rate set to 0.026623\n",
      "0:\tlearn: 0.6639685\ttest: 0.6675938\tbest: 0.6675938 (0)\ttotal: 9.6ms\tremaining: 9.59s\n",
      "100:\tlearn: 0.0966009\ttest: 0.2232625\tbest: 0.2232625 (100)\ttotal: 854ms\tremaining: 7.6s\n",
      "200:\tlearn: 0.0400339\ttest: 0.1963458\tbest: 0.1962260 (199)\ttotal: 1.66s\tremaining: 6.6s\n",
      "300:\tlearn: 0.0203409\ttest: 0.1821292\tbest: 0.1820633 (296)\ttotal: 2.45s\tremaining: 5.68s\n",
      "400:\tlearn: 0.0121352\ttest: 0.1778289\tbest: 0.1777488 (399)\ttotal: 3.23s\tremaining: 4.83s\n",
      "Stopped by overfitting detector  (40 iterations wait)\n",
      "\n",
      "bestTest = 0.1777037715\n",
      "bestIteration = 422\n",
      "\n",
      "Shrink model to first 423 iterations.\n",
      "Learning rate set to 0.02661\n",
      "0:\tlearn: 0.6732626\ttest: 0.6767785\tbest: 0.6767785 (0)\ttotal: 8.66ms\tremaining: 8.65s\n",
      "100:\tlearn: 0.1004395\ttest: 0.2277886\tbest: 0.2277886 (100)\ttotal: 800ms\tremaining: 7.12s\n",
      "200:\tlearn: 0.0410985\ttest: 0.1978980\tbest: 0.1978980 (200)\ttotal: 1.6s\tremaining: 6.35s\n",
      "300:\tlearn: 0.0209257\ttest: 0.1840968\tbest: 0.1836870 (293)\ttotal: 2.39s\tremaining: 5.54s\n",
      "400:\tlearn: 0.0112593\ttest: 0.1818971\tbest: 0.1808583 (382)\ttotal: 3.17s\tremaining: 4.74s\n",
      "Stopped by overfitting detector  (40 iterations wait)\n",
      "\n",
      "bestTest = 0.1808583496\n",
      "bestIteration = 382\n",
      "\n",
      "Shrink model to first 383 iterations.\n",
      "Learning rate set to 0.026623\n",
      "0:\tlearn: 0.6647664\ttest: 0.6672171\tbest: 0.6672171 (0)\ttotal: 8.37ms\tremaining: 8.36s\n",
      "100:\tlearn: 0.1064686\ttest: 0.2057343\tbest: 0.2057343 (100)\ttotal: 814ms\tremaining: 7.25s\n",
      "200:\tlearn: 0.0453790\ttest: 0.1700236\tbest: 0.1700236 (200)\ttotal: 1.59s\tremaining: 6.34s\n",
      "300:\tlearn: 0.0233442\ttest: 0.1547804\tbest: 0.1544352 (298)\ttotal: 2.38s\tremaining: 5.53s\n",
      "400:\tlearn: 0.0140283\ttest: 0.1497491\tbest: 0.1494520 (374)\ttotal: 3.17s\tremaining: 4.73s\n",
      "Stopped by overfitting detector  (40 iterations wait)\n",
      "\n",
      "bestTest = 0.1494519523\n",
      "bestIteration = 374\n",
      "\n",
      "Shrink model to first 375 iterations.\n",
      "Learning rate set to 0.02661\n",
      "0:\tlearn: 0.6649654\ttest: 0.6644447\tbest: 0.6644447 (0)\ttotal: 15.5ms\tremaining: 15.5s\n",
      "100:\tlearn: 0.1076124\ttest: 0.2287639\tbest: 0.2283431 (98)\ttotal: 849ms\tremaining: 7.55s\n",
      "200:\tlearn: 0.0446048\ttest: 0.1988272\tbest: 0.1985434 (199)\ttotal: 1.64s\tremaining: 6.52s\n"
     ]
    },
    {
     "name": "stderr",
     "output_type": "stream",
     "text": [
      "\u001b[32m[I 2023-08-15 09:43:43,183]\u001b[0m Trial 0 finished with value: 0.3645940857907282 and parameters: {'max_depth': 6, 'reg_lambda': 0.474704821152228, 'learning_rate': 0.0911801058783933, 'min_child_samples': 1}. Best is trial 0 with value: 0.3645940857907282.\u001b[0m\n"
     ]
    },
    {
     "name": "stdout",
     "output_type": "stream",
     "text": [
      "300:\tlearn: 0.0218487\ttest: 0.1931048\tbest: 0.1908997 (267)\ttotal: 2.43s\tremaining: 5.65s\n",
      "Stopped by overfitting detector  (40 iterations wait)\n",
      "\n",
      "bestTest = 0.1908997058\n",
      "bestIteration = 267\n",
      "\n",
      "Shrink model to first 268 iterations.\n",
      "Learning rate set to 0.026623\n",
      "0:\tlearn: 0.6658456\ttest: 0.6657945\tbest: 0.6657945 (0)\ttotal: 8.14ms\tremaining: 8.13s\n",
      "100:\tlearn: 0.1123480\ttest: 0.1832610\tbest: 0.1832610 (100)\ttotal: 802ms\tremaining: 7.14s\n",
      "200:\tlearn: 0.0492788\ttest: 0.1381917\tbest: 0.1381917 (200)\ttotal: 1.6s\tremaining: 6.35s\n",
      "300:\tlearn: 0.0253975\ttest: 0.1166001\tbest: 0.1166001 (300)\ttotal: 2.39s\tremaining: 5.54s\n",
      "400:\tlearn: 0.0143491\ttest: 0.1034707\tbest: 0.1034707 (400)\ttotal: 3.17s\tremaining: 4.74s\n",
      "500:\tlearn: 0.0094645\ttest: 0.0988917\tbest: 0.0988917 (500)\ttotal: 3.96s\tremaining: 3.95s\n",
      "600:\tlearn: 0.0068158\ttest: 0.0956670\tbest: 0.0952825 (577)\ttotal: 4.75s\tremaining: 3.15s\n",
      "700:\tlearn: 0.0052091\ttest: 0.0923589\tbest: 0.0923589 (700)\ttotal: 5.54s\tremaining: 2.36s\n",
      "800:\tlearn: 0.0042617\ttest: 0.0891180\tbest: 0.0891180 (800)\ttotal: 6.33s\tremaining: 1.57s\n",
      "Stopped by overfitting detector  (40 iterations wait)\n",
      "\n",
      "bestTest = 0.08903141659\n",
      "bestIteration = 803\n",
      "\n",
      "Shrink model to first 804 iterations.\n",
      "Learning rate set to 0.026623\n",
      "0:\tlearn: 0.6639685\ttest: 0.6675938\tbest: 0.6675938 (0)\ttotal: 8.29ms\tremaining: 8.28s\n",
      "100:\tlearn: 0.0966009\ttest: 0.2232625\tbest: 0.2232625 (100)\ttotal: 858ms\tremaining: 7.64s\n",
      "200:\tlearn: 0.0400339\ttest: 0.1963458\tbest: 0.1962260 (199)\ttotal: 1.64s\tremaining: 6.53s\n",
      "300:\tlearn: 0.0203409\ttest: 0.1821292\tbest: 0.1820633 (296)\ttotal: 2.43s\tremaining: 5.64s\n",
      "400:\tlearn: 0.0121352\ttest: 0.1778289\tbest: 0.1777488 (399)\ttotal: 3.51s\tremaining: 5.24s\n",
      "Stopped by overfitting detector  (40 iterations wait)\n",
      "\n",
      "bestTest = 0.1777037715\n",
      "bestIteration = 422\n",
      "\n",
      "Shrink model to first 423 iterations.\n",
      "Learning rate set to 0.02661\n",
      "0:\tlearn: 0.6732626\ttest: 0.6767785\tbest: 0.6767785 (0)\ttotal: 7.95ms\tremaining: 7.94s\n",
      "100:\tlearn: 0.1004395\ttest: 0.2277886\tbest: 0.2277886 (100)\ttotal: 809ms\tremaining: 7.2s\n",
      "200:\tlearn: 0.0410985\ttest: 0.1978980\tbest: 0.1978980 (200)\ttotal: 1.6s\tremaining: 6.35s\n",
      "300:\tlearn: 0.0209257\ttest: 0.1840968\tbest: 0.1836870 (293)\ttotal: 2.39s\tremaining: 5.54s\n",
      "400:\tlearn: 0.0112593\ttest: 0.1818971\tbest: 0.1808583 (382)\ttotal: 3.17s\tremaining: 4.74s\n",
      "Stopped by overfitting detector  (40 iterations wait)\n",
      "\n",
      "bestTest = 0.1808583496\n",
      "bestIteration = 382\n",
      "\n",
      "Shrink model to first 383 iterations.\n",
      "Learning rate set to 0.026623\n",
      "0:\tlearn: 0.6647664\ttest: 0.6672171\tbest: 0.6672171 (0)\ttotal: 9.06ms\tremaining: 9.05s\n",
      "100:\tlearn: 0.1064686\ttest: 0.2057343\tbest: 0.2057343 (100)\ttotal: 805ms\tremaining: 7.17s\n",
      "200:\tlearn: 0.0453790\ttest: 0.1700236\tbest: 0.1700236 (200)\ttotal: 1.59s\tremaining: 6.33s\n",
      "300:\tlearn: 0.0233442\ttest: 0.1547804\tbest: 0.1544352 (298)\ttotal: 2.38s\tremaining: 5.53s\n",
      "400:\tlearn: 0.0140283\ttest: 0.1497491\tbest: 0.1494520 (374)\ttotal: 3.22s\tremaining: 4.81s\n",
      "Stopped by overfitting detector  (40 iterations wait)\n",
      "\n",
      "bestTest = 0.1494519523\n",
      "bestIteration = 374\n",
      "\n",
      "Shrink model to first 375 iterations.\n",
      "Learning rate set to 0.02661\n",
      "0:\tlearn: 0.6649654\ttest: 0.6644447\tbest: 0.6644447 (0)\ttotal: 9.56ms\tremaining: 9.55s\n",
      "100:\tlearn: 0.1076124\ttest: 0.2287639\tbest: 0.2283431 (98)\ttotal: 820ms\tremaining: 7.3s\n",
      "200:\tlearn: 0.0446048\ttest: 0.1988272\tbest: 0.1985434 (199)\ttotal: 1.61s\tremaining: 6.4s\n"
     ]
    },
    {
     "name": "stderr",
     "output_type": "stream",
     "text": [
      "\u001b[32m[I 2023-08-15 09:44:03,936]\u001b[0m Trial 1 finished with value: 0.3645940857907282 and parameters: {'max_depth': 3, 'reg_lambda': 0.8633565761010119, 'learning_rate': 0.33630175262462764, 'min_child_samples': 10}. Best is trial 0 with value: 0.3645940857907282.\u001b[0m\n"
     ]
    },
    {
     "name": "stdout",
     "output_type": "stream",
     "text": [
      "300:\tlearn: 0.0218487\ttest: 0.1931048\tbest: 0.1908997 (267)\ttotal: 2.41s\tremaining: 5.59s\n",
      "Stopped by overfitting detector  (40 iterations wait)\n",
      "\n",
      "bestTest = 0.1908997058\n",
      "bestIteration = 267\n",
      "\n",
      "Shrink model to first 268 iterations.\n",
      "Learning rate set to 0.026623\n",
      "0:\tlearn: 0.6658456\ttest: 0.6657945\tbest: 0.6657945 (0)\ttotal: 7.99ms\tremaining: 7.99s\n",
      "100:\tlearn: 0.1123480\ttest: 0.1832610\tbest: 0.1832610 (100)\ttotal: 797ms\tremaining: 7.09s\n",
      "200:\tlearn: 0.0492788\ttest: 0.1381917\tbest: 0.1381917 (200)\ttotal: 1.59s\tremaining: 6.3s\n",
      "300:\tlearn: 0.0253975\ttest: 0.1166001\tbest: 0.1166001 (300)\ttotal: 2.37s\tremaining: 5.51s\n",
      "400:\tlearn: 0.0143491\ttest: 0.1034707\tbest: 0.1034707 (400)\ttotal: 3.16s\tremaining: 4.73s\n",
      "500:\tlearn: 0.0094645\ttest: 0.0988917\tbest: 0.0988917 (500)\ttotal: 3.96s\tremaining: 3.94s\n",
      "600:\tlearn: 0.0068158\ttest: 0.0956670\tbest: 0.0952825 (577)\ttotal: 4.74s\tremaining: 3.15s\n",
      "700:\tlearn: 0.0052091\ttest: 0.0923589\tbest: 0.0923589 (700)\ttotal: 5.52s\tremaining: 2.35s\n",
      "800:\tlearn: 0.0042617\ttest: 0.0891180\tbest: 0.0891180 (800)\ttotal: 6.31s\tremaining: 1.57s\n",
      "Stopped by overfitting detector  (40 iterations wait)\n",
      "\n",
      "bestTest = 0.08903141659\n",
      "bestIteration = 803\n",
      "\n",
      "Shrink model to first 804 iterations.\n",
      "Learning rate set to 0.026623\n",
      "0:\tlearn: 0.6639685\ttest: 0.6675938\tbest: 0.6675938 (0)\ttotal: 8.77ms\tremaining: 8.76s\n",
      "100:\tlearn: 0.0966009\ttest: 0.2232625\tbest: 0.2232625 (100)\ttotal: 802ms\tremaining: 7.14s\n",
      "200:\tlearn: 0.0400339\ttest: 0.1963458\tbest: 0.1962260 (199)\ttotal: 1.59s\tremaining: 6.31s\n",
      "300:\tlearn: 0.0203409\ttest: 0.1821292\tbest: 0.1820633 (296)\ttotal: 2.38s\tremaining: 5.54s\n",
      "400:\tlearn: 0.0121352\ttest: 0.1778289\tbest: 0.1777488 (399)\ttotal: 3.17s\tremaining: 4.73s\n",
      "Stopped by overfitting detector  (40 iterations wait)\n",
      "\n",
      "bestTest = 0.1777037715\n",
      "bestIteration = 422\n",
      "\n",
      "Shrink model to first 423 iterations.\n",
      "Learning rate set to 0.02661\n",
      "0:\tlearn: 0.6732626\ttest: 0.6767785\tbest: 0.6767785 (0)\ttotal: 8.85ms\tremaining: 8.84s\n",
      "100:\tlearn: 0.1004395\ttest: 0.2277886\tbest: 0.2277886 (100)\ttotal: 809ms\tremaining: 7.2s\n",
      "200:\tlearn: 0.0410985\ttest: 0.1978980\tbest: 0.1978980 (200)\ttotal: 1.6s\tremaining: 6.36s\n",
      "300:\tlearn: 0.0209257\ttest: 0.1840968\tbest: 0.1836870 (293)\ttotal: 2.39s\tremaining: 5.55s\n",
      "400:\tlearn: 0.0112593\ttest: 0.1818971\tbest: 0.1808583 (382)\ttotal: 3.18s\tremaining: 4.75s\n",
      "Stopped by overfitting detector  (40 iterations wait)\n",
      "\n",
      "bestTest = 0.1808583496\n",
      "bestIteration = 382\n",
      "\n",
      "Shrink model to first 383 iterations.\n",
      "Learning rate set to 0.026623\n",
      "0:\tlearn: 0.6647664\ttest: 0.6672171\tbest: 0.6672171 (0)\ttotal: 8.06ms\tremaining: 8.06s\n",
      "100:\tlearn: 0.1064686\ttest: 0.2057343\tbest: 0.2057343 (100)\ttotal: 815ms\tremaining: 7.25s\n",
      "200:\tlearn: 0.0453790\ttest: 0.1700236\tbest: 0.1700236 (200)\ttotal: 1.6s\tremaining: 6.36s\n",
      "300:\tlearn: 0.0233442\ttest: 0.1547804\tbest: 0.1544352 (298)\ttotal: 2.44s\tremaining: 5.66s\n",
      "400:\tlearn: 0.0140283\ttest: 0.1497491\tbest: 0.1494520 (374)\ttotal: 3.22s\tremaining: 4.81s\n",
      "Stopped by overfitting detector  (40 iterations wait)\n",
      "\n",
      "bestTest = 0.1494519523\n",
      "bestIteration = 374\n",
      "\n",
      "Shrink model to first 375 iterations.\n",
      "Learning rate set to 0.02661\n",
      "0:\tlearn: 0.6649654\ttest: 0.6644447\tbest: 0.6644447 (0)\ttotal: 14.4ms\tremaining: 14.4s\n",
      "100:\tlearn: 0.1076124\ttest: 0.2287639\tbest: 0.2283431 (98)\ttotal: 821ms\tremaining: 7.31s\n",
      "200:\tlearn: 0.0446048\ttest: 0.1988272\tbest: 0.1985434 (199)\ttotal: 1.62s\tremaining: 6.42s\n"
     ]
    },
    {
     "name": "stderr",
     "output_type": "stream",
     "text": [
      "\u001b[32m[I 2023-08-15 09:44:24,235]\u001b[0m Trial 2 finished with value: 0.3645940857907282 and parameters: {'max_depth': 7, 'reg_lambda': 0.3093511129773481, 'learning_rate': 0.15796781524215753, 'min_child_samples': 8}. Best is trial 0 with value: 0.3645940857907282.\u001b[0m\n"
     ]
    },
    {
     "name": "stdout",
     "output_type": "stream",
     "text": [
      "300:\tlearn: 0.0218487\ttest: 0.1931048\tbest: 0.1908997 (267)\ttotal: 2.41s\tremaining: 5.59s\n",
      "Stopped by overfitting detector  (40 iterations wait)\n",
      "\n",
      "bestTest = 0.1908997058\n",
      "bestIteration = 267\n",
      "\n",
      "Shrink model to first 268 iterations.\n",
      "Learning rate set to 0.026623\n",
      "0:\tlearn: 0.6658456\ttest: 0.6657945\tbest: 0.6657945 (0)\ttotal: 7.89ms\tremaining: 7.88s\n",
      "100:\tlearn: 0.1123480\ttest: 0.1832610\tbest: 0.1832610 (100)\ttotal: 1.03s\tremaining: 9.14s\n",
      "200:\tlearn: 0.0492788\ttest: 0.1381917\tbest: 0.1381917 (200)\ttotal: 1.99s\tremaining: 7.91s\n",
      "300:\tlearn: 0.0253975\ttest: 0.1166001\tbest: 0.1166001 (300)\ttotal: 2.78s\tremaining: 6.46s\n",
      "400:\tlearn: 0.0143491\ttest: 0.1034707\tbest: 0.1034707 (400)\ttotal: 3.57s\tremaining: 5.33s\n",
      "500:\tlearn: 0.0094645\ttest: 0.0988917\tbest: 0.0988917 (500)\ttotal: 4.36s\tremaining: 4.34s\n",
      "600:\tlearn: 0.0068158\ttest: 0.0956670\tbest: 0.0952825 (577)\ttotal: 5.14s\tremaining: 3.41s\n",
      "700:\tlearn: 0.0052091\ttest: 0.0923589\tbest: 0.0923589 (700)\ttotal: 5.93s\tremaining: 2.53s\n",
      "800:\tlearn: 0.0042617\ttest: 0.0891180\tbest: 0.0891180 (800)\ttotal: 6.78s\tremaining: 1.68s\n",
      "Stopped by overfitting detector  (40 iterations wait)\n",
      "\n",
      "bestTest = 0.08903141659\n",
      "bestIteration = 803\n",
      "\n",
      "Shrink model to first 804 iterations.\n",
      "Learning rate set to 0.026623\n",
      "0:\tlearn: 0.6639685\ttest: 0.6675938\tbest: 0.6675938 (0)\ttotal: 8.91ms\tremaining: 8.9s\n",
      "100:\tlearn: 0.0966009\ttest: 0.2232625\tbest: 0.2232625 (100)\ttotal: 808ms\tremaining: 7.19s\n",
      "200:\tlearn: 0.0400339\ttest: 0.1963458\tbest: 0.1962260 (199)\ttotal: 1.59s\tremaining: 6.33s\n",
      "300:\tlearn: 0.0203409\ttest: 0.1821292\tbest: 0.1820633 (296)\ttotal: 2.39s\tremaining: 5.54s\n",
      "400:\tlearn: 0.0121352\ttest: 0.1778289\tbest: 0.1777488 (399)\ttotal: 3.17s\tremaining: 4.74s\n",
      "Stopped by overfitting detector  (40 iterations wait)\n",
      "\n",
      "bestTest = 0.1777037715\n",
      "bestIteration = 422\n",
      "\n",
      "Shrink model to first 423 iterations.\n",
      "Learning rate set to 0.02661\n",
      "0:\tlearn: 0.6732626\ttest: 0.6767785\tbest: 0.6767785 (0)\ttotal: 8.08ms\tremaining: 8.07s\n",
      "100:\tlearn: 0.1004395\ttest: 0.2277886\tbest: 0.2277886 (100)\ttotal: 808ms\tremaining: 7.19s\n",
      "200:\tlearn: 0.0410985\ttest: 0.1978980\tbest: 0.1978980 (200)\ttotal: 1.59s\tremaining: 6.34s\n",
      "300:\tlearn: 0.0209257\ttest: 0.1840968\tbest: 0.1836870 (293)\ttotal: 2.39s\tremaining: 5.54s\n",
      "400:\tlearn: 0.0112593\ttest: 0.1818971\tbest: 0.1808583 (382)\ttotal: 3.19s\tremaining: 4.76s\n",
      "Stopped by overfitting detector  (40 iterations wait)\n",
      "\n",
      "bestTest = 0.1808583496\n",
      "bestIteration = 382\n",
      "\n",
      "Shrink model to first 383 iterations.\n",
      "Learning rate set to 0.026623\n",
      "0:\tlearn: 0.6647664\ttest: 0.6672171\tbest: 0.6672171 (0)\ttotal: 8.77ms\tremaining: 8.77s\n",
      "100:\tlearn: 0.1064686\ttest: 0.2057343\tbest: 0.2057343 (100)\ttotal: 801ms\tremaining: 7.13s\n",
      "200:\tlearn: 0.0453790\ttest: 0.1700236\tbest: 0.1700236 (200)\ttotal: 1.6s\tremaining: 6.35s\n",
      "300:\tlearn: 0.0233442\ttest: 0.1547804\tbest: 0.1544352 (298)\ttotal: 2.42s\tremaining: 5.62s\n",
      "400:\tlearn: 0.0140283\ttest: 0.1497491\tbest: 0.1494520 (374)\ttotal: 3.21s\tremaining: 4.79s\n",
      "Stopped by overfitting detector  (40 iterations wait)\n",
      "\n",
      "bestTest = 0.1494519523\n",
      "bestIteration = 374\n",
      "\n",
      "Shrink model to first 375 iterations.\n",
      "Learning rate set to 0.02661\n",
      "0:\tlearn: 0.6649654\ttest: 0.6644447\tbest: 0.6644447 (0)\ttotal: 9.27ms\tremaining: 9.26s\n",
      "100:\tlearn: 0.1076124\ttest: 0.2287639\tbest: 0.2283431 (98)\ttotal: 796ms\tremaining: 7.08s\n",
      "200:\tlearn: 0.0446048\ttest: 0.1988272\tbest: 0.1985434 (199)\ttotal: 1.58s\tremaining: 6.29s\n"
     ]
    },
    {
     "name": "stderr",
     "output_type": "stream",
     "text": [
      "\u001b[32m[I 2023-08-15 09:44:44,910]\u001b[0m Trial 3 finished with value: 0.3645940857907282 and parameters: {'max_depth': 8, 'reg_lambda': 0.9298130305654169, 'learning_rate': 0.4837054201622596, 'min_child_samples': 10}. Best is trial 0 with value: 0.3645940857907282.\u001b[0m\n"
     ]
    },
    {
     "name": "stdout",
     "output_type": "stream",
     "text": [
      "300:\tlearn: 0.0218487\ttest: 0.1931048\tbest: 0.1908997 (267)\ttotal: 2.37s\tremaining: 5.51s\n",
      "Stopped by overfitting detector  (40 iterations wait)\n",
      "\n",
      "bestTest = 0.1908997058\n",
      "bestIteration = 267\n",
      "\n",
      "Shrink model to first 268 iterations.\n",
      "Learning rate set to 0.026623\n",
      "0:\tlearn: 0.6658456\ttest: 0.6657945\tbest: 0.6657945 (0)\ttotal: 8.04ms\tremaining: 8.04s\n",
      "100:\tlearn: 0.1123480\ttest: 0.1832610\tbest: 0.1832610 (100)\ttotal: 806ms\tremaining: 7.18s\n",
      "200:\tlearn: 0.0492788\ttest: 0.1381917\tbest: 0.1381917 (200)\ttotal: 1.6s\tremaining: 6.35s\n",
      "300:\tlearn: 0.0253975\ttest: 0.1166001\tbest: 0.1166001 (300)\ttotal: 2.39s\tremaining: 5.56s\n",
      "400:\tlearn: 0.0143491\ttest: 0.1034707\tbest: 0.1034707 (400)\ttotal: 3.18s\tremaining: 4.75s\n",
      "500:\tlearn: 0.0094645\ttest: 0.0988917\tbest: 0.0988917 (500)\ttotal: 3.97s\tremaining: 3.96s\n",
      "600:\tlearn: 0.0068158\ttest: 0.0956670\tbest: 0.0952825 (577)\ttotal: 4.75s\tremaining: 3.15s\n",
      "700:\tlearn: 0.0052091\ttest: 0.0923589\tbest: 0.0923589 (700)\ttotal: 5.58s\tremaining: 2.38s\n",
      "800:\tlearn: 0.0042617\ttest: 0.0891180\tbest: 0.0891180 (800)\ttotal: 6.38s\tremaining: 1.58s\n",
      "Stopped by overfitting detector  (40 iterations wait)\n",
      "\n",
      "bestTest = 0.08903141659\n",
      "bestIteration = 803\n",
      "\n",
      "Shrink model to first 804 iterations.\n",
      "Learning rate set to 0.026623\n",
      "0:\tlearn: 0.6639685\ttest: 0.6675938\tbest: 0.6675938 (0)\ttotal: 7.94ms\tremaining: 7.94s\n",
      "100:\tlearn: 0.0966009\ttest: 0.2232625\tbest: 0.2232625 (100)\ttotal: 796ms\tremaining: 7.09s\n",
      "200:\tlearn: 0.0400339\ttest: 0.1963458\tbest: 0.1962260 (199)\ttotal: 1.58s\tremaining: 6.28s\n",
      "300:\tlearn: 0.0203409\ttest: 0.1821292\tbest: 0.1820633 (296)\ttotal: 2.37s\tremaining: 5.5s\n",
      "400:\tlearn: 0.0121352\ttest: 0.1778289\tbest: 0.1777488 (399)\ttotal: 3.15s\tremaining: 4.71s\n",
      "Stopped by overfitting detector  (40 iterations wait)\n",
      "\n",
      "bestTest = 0.1777037715\n",
      "bestIteration = 422\n",
      "\n",
      "Shrink model to first 423 iterations.\n",
      "Learning rate set to 0.02661\n",
      "0:\tlearn: 0.6732626\ttest: 0.6767785\tbest: 0.6767785 (0)\ttotal: 8.18ms\tremaining: 8.17s\n",
      "100:\tlearn: 0.1004395\ttest: 0.2277886\tbest: 0.2277886 (100)\ttotal: 827ms\tremaining: 7.36s\n",
      "200:\tlearn: 0.0410985\ttest: 0.1978980\tbest: 0.1978980 (200)\ttotal: 1.94s\tremaining: 7.72s\n",
      "300:\tlearn: 0.0209257\ttest: 0.1840968\tbest: 0.1836870 (293)\ttotal: 2.85s\tremaining: 6.61s\n",
      "400:\tlearn: 0.0112593\ttest: 0.1818971\tbest: 0.1808583 (382)\ttotal: 3.65s\tremaining: 5.45s\n",
      "Stopped by overfitting detector  (40 iterations wait)\n",
      "\n",
      "bestTest = 0.1808583496\n",
      "bestIteration = 382\n",
      "\n",
      "Shrink model to first 383 iterations.\n",
      "Learning rate set to 0.026623\n",
      "0:\tlearn: 0.6647664\ttest: 0.6672171\tbest: 0.6672171 (0)\ttotal: 8.18ms\tremaining: 8.17s\n",
      "100:\tlearn: 0.1064686\ttest: 0.2057343\tbest: 0.2057343 (100)\ttotal: 815ms\tremaining: 7.25s\n",
      "200:\tlearn: 0.0453790\ttest: 0.1700236\tbest: 0.1700236 (200)\ttotal: 1.65s\tremaining: 6.56s\n",
      "300:\tlearn: 0.0233442\ttest: 0.1547804\tbest: 0.1544352 (298)\ttotal: 2.44s\tremaining: 5.66s\n",
      "400:\tlearn: 0.0140283\ttest: 0.1497491\tbest: 0.1494520 (374)\ttotal: 3.22s\tremaining: 4.81s\n",
      "Stopped by overfitting detector  (40 iterations wait)\n",
      "\n",
      "bestTest = 0.1494519523\n",
      "bestIteration = 374\n",
      "\n",
      "Shrink model to first 375 iterations.\n",
      "Learning rate set to 0.02661\n",
      "0:\tlearn: 0.6649654\ttest: 0.6644447\tbest: 0.6644447 (0)\ttotal: 9.13ms\tremaining: 9.12s\n",
      "100:\tlearn: 0.1076124\ttest: 0.2287639\tbest: 0.2283431 (98)\ttotal: 805ms\tremaining: 7.16s\n",
      "200:\tlearn: 0.0446048\ttest: 0.1988272\tbest: 0.1985434 (199)\ttotal: 1.6s\tremaining: 6.38s\n"
     ]
    },
    {
     "name": "stderr",
     "output_type": "stream",
     "text": [
      "\u001b[32m[I 2023-08-15 09:45:05,657]\u001b[0m Trial 4 finished with value: 0.3645940857907282 and parameters: {'max_depth': 7, 'reg_lambda': 0.9427122919899522, 'learning_rate': 0.35377041396447095, 'min_child_samples': 8}. Best is trial 0 with value: 0.3645940857907282.\u001b[0m\n"
     ]
    },
    {
     "name": "stdout",
     "output_type": "stream",
     "text": [
      "300:\tlearn: 0.0218487\ttest: 0.1931048\tbest: 0.1908997 (267)\ttotal: 2.4s\tremaining: 5.58s\n",
      "Stopped by overfitting detector  (40 iterations wait)\n",
      "\n",
      "bestTest = 0.1908997058\n",
      "bestIteration = 267\n",
      "\n",
      "Shrink model to first 268 iterations.\n",
      "Value:  0.3645940857907282\n"
     ]
    },
    {
     "data": {
      "text/plain": [
       "{'max_depth': 6,\n",
       " 'reg_lambda': 0.474704821152228,\n",
       " 'learning_rate': 0.0911801058783933,\n",
       " 'min_child_samples': 1}"
      ]
     },
     "execution_count": 7,
     "metadata": {},
     "output_type": "execute_result"
    }
   ],
   "source": [
    "_, cb_val_output, cb_imp_df = treemodel.cv_execute(\"cb\")\n",
    "cb_best_params = treemodel.param_tuning(\"cb\")\n",
    "cb_best_params"
   ]
  },
  {
   "cell_type": "code",
   "execution_count": null,
   "id": "61879c62",
   "metadata": {
    "papermill": {
     "duration": 0.021756,
     "end_time": "2023-08-15T09:45:05.711681",
     "exception": false,
     "start_time": "2023-08-15T09:45:05.689925",
     "status": "completed"
    },
    "tags": []
   },
   "outputs": [],
   "source": []
  }
 ],
 "metadata": {
  "kernelspec": {
   "display_name": "Python 3",
   "language": "python",
   "name": "python3"
  },
  "language_info": {
   "codemirror_mode": {
    "name": "ipython",
    "version": 3
   },
   "file_extension": ".py",
   "mimetype": "text/x-python",
   "name": "python",
   "nbconvert_exporter": "python",
   "pygments_lexer": "ipython3",
   "version": "3.10.10"
  },
  "papermill": {
   "default_parameters": {},
   "duration": 163.604082,
   "end_time": "2023-08-15T09:45:06.857754",
   "environment_variables": {},
   "exception": null,
   "input_path": "__notebook__.ipynb",
   "output_path": "__notebook__.ipynb",
   "parameters": {},
   "start_time": "2023-08-15T09:42:23.253672",
   "version": "2.4.0"
  }
 },
 "nbformat": 4,
 "nbformat_minor": 5
}
