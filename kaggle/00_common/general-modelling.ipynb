{
 "cells": [
  {
   "cell_type": "markdown",
   "id": "c18e863e",
   "metadata": {
    "papermill": {
     "duration": 0.005516,
     "end_time": "2023-10-28T08:04:48.220460",
     "exception": false,
     "start_time": "2023-10-28T08:04:48.214944",
     "status": "completed"
    },
    "tags": []
   },
   "source": [
    "- base: https://www.kaggle.com/code/vadimkamaev/postprocessin-ensemble\n",
    "- select feats by importances and 3 ensembles (no postprocess) \n",
    "- update common class again*"
   ]
  },
  {
   "cell_type": "markdown",
   "id": "81aecd4b",
   "metadata": {
    "papermill": {
     "duration": 0.004725,
     "end_time": "2023-10-28T08:04:48.230621",
     "exception": false,
     "start_time": "2023-10-28T08:04:48.225896",
     "status": "completed"
    },
    "tags": []
   },
   "source": [
    "# common class"
   ]
  },
  {
   "cell_type": "code",
   "execution_count": 1,
   "id": "756fce00",
   "metadata": {
    "execution": {
     "iopub.execute_input": "2023-10-28T08:04:48.243186Z",
     "iopub.status.busy": "2023-10-28T08:04:48.242334Z",
     "iopub.status.idle": "2023-10-28T08:04:52.058811Z",
     "shell.execute_reply": "2023-10-28T08:04:52.057131Z"
    },
    "papermill": {
     "duration": 3.827354,
     "end_time": "2023-10-28T08:04:52.062933",
     "exception": false,
     "start_time": "2023-10-28T08:04:48.235579",
     "status": "completed"
    },
    "tags": []
   },
   "outputs": [
    {
     "name": "stderr",
     "output_type": "stream",
     "text": [
      "/opt/conda/lib/python3.10/site-packages/scipy/__init__.py:146: UserWarning: A NumPy version >=1.16.5 and <1.23.0 is required for this version of SciPy (detected version 1.23.5\n",
      "  warnings.warn(f\"A NumPy version >={np_minversion} and <{np_maxversion}\"\n"
     ]
    }
   ],
   "source": [
    "import sys\n",
    "import optuna\n",
    "import numpy as np\n",
    "import pandas as pd\n",
    "import lightgbm as lgb\n",
    "import xgboost as xgb\n",
    "from catboost import CatBoostClassifier, CatBoostRegressor\n",
    "sys.path.append('../input/iterativestratification')\n",
    "from iterstrat.ml_stratifiers import MultilabelStratifiedKFold\n",
    "from sklearn.model_selection import StratifiedKFold, KFold\n",
    "\n",
    "import itertools\n",
    "from datetime import datetime\n",
    "from sklearn.decomposition import PCA"
   ]
  },
  {
   "cell_type": "code",
   "execution_count": 2,
   "id": "c326f041",
   "metadata": {
    "execution": {
     "iopub.execute_input": "2023-10-28T08:04:52.082020Z",
     "iopub.status.busy": "2023-10-28T08:04:52.081260Z",
     "iopub.status.idle": "2023-10-28T08:04:52.141188Z",
     "shell.execute_reply": "2023-10-28T08:04:52.139994Z"
    },
    "papermill": {
     "duration": 0.073698,
     "end_time": "2023-10-28T08:04:52.143992",
     "exception": false,
     "start_time": "2023-10-28T08:04:52.070294",
     "status": "completed"
    },
    "tags": []
   },
   "outputs": [],
   "source": [
    "class TreeModelling:\n",
    "    def __init__(self, config):\n",
    "        self.config = config \n",
    "        \n",
    "        \n",
    "    def lgb_train_and_valid(self, data, target, tr_idx, val_idx, feats, split):\n",
    "        \n",
    "        x_tr = data[feats].iloc[tr_idx]\n",
    "        x_val = data[feats].iloc[val_idx]\n",
    "        y_tr = target.iloc[tr_idx]\n",
    "        y_val = target.iloc[val_idx]\n",
    "    \n",
    "        feat_imp_df = pd.DataFrame(feats, columns = [\"feat\"])\n",
    "        model = lgb.train(self.config[\"lgb\"][\"params\"], lgb.Dataset(x_tr, y_tr), self.config[\"lgb\"][\"num_round\"], valid_sets=[lgb.Dataset(x_val, y_val)], \n",
    "                      callbacks = [lgb.early_stopping(stopping_rounds=self.config[\"lgb\"][\"es_round\"], verbose=True), \n",
    "                                   lgb.log_evaluation(self.config[\"lgb\"][\"verbose_eval\"])]) \n",
    "        feat_imp_df[\"imp\"+str(split)] = model.feature_importance()\n",
    "        valid_pred = model.predict(x_val)\n",
    "    \n",
    "        return model, valid_pred, feat_imp_df\n",
    "    \n",
    "    def lgb_test(self, models, model_name, test):\n",
    "        feats = self.config[model_name][\"feats\"]\n",
    "        for index, model in enumerate(models):\n",
    "            if index == 0:\n",
    "                test_pred = model.predict(test[feats]) \n",
    "            else:\n",
    "                test_pred += model.predict(test[feats]) \n",
    "        test_pred /= len(models)\n",
    "        return test_pred\n",
    "    \n",
    "\n",
    "    def xgb_train_and_valid(self, data, target, tr_idx, val_idx, feats, split):\n",
    "        \n",
    "        x_tr = data[feats].iloc[tr_idx]\n",
    "        x_val = data[feats].iloc[val_idx]\n",
    "        y_tr = target.iloc[tr_idx]\n",
    "        y_val = target.iloc[val_idx]\n",
    "\n",
    "        xgb_eval = xgb.DMatrix(x_val, label = y_val)\n",
    "        model = xgb.train(self.config[\"xgb\"][\"params\"], xgb.DMatrix(x_tr, label = y_tr), self.config[\"xgb\"][\"num_round\"], evals = [(xgb_eval, \"eval\")], \n",
    "                          early_stopping_rounds=self.config[\"xgb\"][\"es_round\"], verbose_eval = self.config[\"xgb\"][\"verbose_eval\"])\n",
    "        feat_imp_df = pd.DataFrame(model.get_score(importance_type=\"total_gain\").items(), columns =[\"feat\", \"imp\"+str(split)])\n",
    "        valid_pred = model.predict(xgb_eval, iteration_range=(0, model.best_ntree_limit))\n",
    "    \n",
    "        return model, valid_pred, feat_imp_df\n",
    "    \n",
    "    def xgb_test(self, models, model_name, test):\n",
    "        feats = self.config[model_name][\"feats\"]\n",
    "        dtest = xgb.DMatrix(test[feats])\n",
    "        for index, model in enumerate(models):\n",
    "            if index == 0:\n",
    "                test_pred = model.predict(dtest, iteration_range=(0, model.best_ntree_limit))\n",
    "            else:\n",
    "                test_pred += model.predict(dtest, iteration_range=(0, model.best_ntree_limit))\n",
    "        test_pred /= len(models)\n",
    "    \n",
    "        return test_pred\n",
    "\n",
    "    \n",
    "    def cb_train_and_valid(self, data, target, tr_idx, val_idx, feats, split):\n",
    "        \n",
    "        x_tr = data[feats].iloc[tr_idx]\n",
    "        x_val = data[feats].iloc[val_idx]\n",
    "        y_tr = target.iloc[tr_idx]\n",
    "        y_val = target.iloc[val_idx]\n",
    "        \n",
    "        feat_imp_df = pd.DataFrame(feats, columns = [\"feat\"]) \n",
    "        if self.config[\"task_type\"] == \"classification\":\n",
    "            model = CatBoostClassifier(**self.config[\"cb\"][\"params\"])\n",
    "            model.fit(x_tr, y_tr, eval_set=[(x_val, y_val)], early_stopping_rounds=self.config[\"cb\"][\"es_round\"],\n",
    "                      verbose_eval = self.config[\"cb\"][\"verbose_eval\"])\n",
    "            valid_pred = model.predict_proba(x_val)[:,1]\n",
    "        elif self.config[\"task_type\"]:\n",
    "            model = CatBoostRegressor(**self.config[\"cb\"][\"params\"])\n",
    "            model.fit(x_tr, y_tr, eval_set=[(x_val, y_val)], early_stopping_rounds=self.config[\"cb\"][\"es_round\"], \n",
    "                      verbose_eval = self.config[\"cb\"][\"verbose_eval\"])\n",
    "            valid_pred = model.predict(x_val)\n",
    "        \n",
    "        feat_imp_df[\"imp\"+str(split)] = model.get_feature_importance()\n",
    "    \n",
    "        return model, valid_pred, feat_imp_df\n",
    "    \n",
    "    def cb_test(self, models, model_name, test):\n",
    "        feats = self.config[model_name][\"feats\"]\n",
    "        for index, model in enumerate(models):\n",
    "            if index == 0:\n",
    "                if self.config[\"task_type\"] == \"classification\":\n",
    "                    test_pred = model.predict_proba(test[feats])[:,1]\n",
    "                elif self.config[\"task_type\"]:\n",
    "                    test_pred = model.predict(test[feats])\n",
    "            else:\n",
    "                if self.config[\"task_type\"] == \"classification\":\n",
    "                    test_pred += model.predict_proba(test[feats])[:,1]\n",
    "                elif self.config[\"task_type\"]:\n",
    "                    test_pred += model.predict(test[feats])\n",
    "        test_pred /= len(models)\n",
    "        \n",
    "        return test_pred\n",
    "    \n",
    "    \n",
    "    def cv_execute(self, model_name):\n",
    "            \n",
    "        models = []\n",
    "        feats = self.config[model_name][\"feats\"]\n",
    "        valid_output = np.zeros(len(self.config[\"target\"]))\n",
    "        \n",
    "        if model_name == \"lgb\":\n",
    "            func = self.lgb_train_and_valid\n",
    "        elif model_name == \"xgb\":\n",
    "            func = self.xgb_train_and_valid\n",
    "        elif model_name == \"cb\":\n",
    "            func = self.cb_train_and_valid\n",
    "        \n",
    "        ####\n",
    "        cv_scheme = MultilabelStratifiedKFold(5, shuffle=True, random_state=42).split(self.config[\"train_data\"],\n",
    "                                                                                      train_stratify)\n",
    "        ####\n",
    "    \n",
    "        for split, (tr_idx, val_idx) in enumerate(cv_scheme): \n",
    "            if split == 0:\n",
    "                model, valid_pred, feat_imp_df = func(self.config[\"train_data\"], self.config[\"target\"], tr_idx, val_idx, feats, split)\n",
    "            else:\n",
    "                model, valid_pred, tmp_imp_df = func(self.config[\"train_data\"], self.config[\"target\"], tr_idx, val_idx, feats, split)\n",
    "                feat_imp_df = pd.merge(feat_imp_df, tmp_imp_df, on = \"feat\", how = \"inner\")\n",
    "            valid_output[val_idx] = valid_pred\n",
    "            models.append(model)\n",
    "    \n",
    "        feat_imp_df[\"sum\"] = feat_imp_df.iloc[:,1:].sum(axis=1)\n",
    "        val_score = self.config[\"metric_function\"](self.config[\"target\"], valid_output)\n",
    "    \n",
    "        return models, valid_output, feat_imp_df\n",
    "        \n",
    "        \n",
    "    def lgb_objective(self, trial):\n",
    "        # https://lightgbm.readthedocs.io/en/latest/Parameters.html\n",
    "        check_params = {\n",
    "            'num_leaves': trial.suggest_int('num_leaves', 10, 100),\n",
    "            'learning_rate': trial.suggest_float('learning_rate', 0.01, 0.5),\n",
    "            'feature_fraction': trial.suggest_float('feature_fraction', 0.5, 1.0),\n",
    "            'bagging_fraction': trial.suggest_float('bagging_fraction', 0.5, 1.0),\n",
    "            'min_child_samples': trial.suggest_int('min_child_samples', 1, 10),\n",
    "            'lambda_l2': trial.suggest_float('lambda_l2', 0, 0.1),\n",
    "            'lambda_l1': trial.suggest_float('lambda_l1', 0, 0.1),\n",
    "        }\n",
    "    \n",
    "        params = self.config[\"lgb\"][\"params\"].copy()\n",
    "        params.update(check_params)\n",
    "        _, val_output, _ = self.cv_execute(\"lgb\")\n",
    "        score = self.config[\"metric_function\"](self.config[\"target\"], val_output)\n",
    "        return score\n",
    "\n",
    "    \n",
    "    def xgb_objective(self, trial):\n",
    "        # https://xgboost.readthedocs.io/en/stable/parameter.html\n",
    "        check_params = {\n",
    "            'gamma': trial.suggest_float('gamma', 0, 1),\n",
    "            'max_depth': trial.suggest_int('max_depth', 1, 10),\n",
    "            'num_leaves': trial.suggest_int('num_leaves', 10, 100),\n",
    "            'learning_rate': trial.suggest_float('learning_rate', 0.01, 0.5),\n",
    "            'min_child_weight': trial.suggest_int('min_child_weight', 1, 10),\n",
    "            'max_delta_step': trial.suggest_int('max_delta_step', 0, 10),\n",
    "            'subsample': trial.suggest_float('subsample', 0, 1),\n",
    "            'lambda': trial.suggest_float('lambda', 0, 1),\n",
    "            'alpha': trial.suggest_float('alpha', 0, 1),\n",
    "        }\n",
    "    \n",
    "        params = self.config[\"xgb\"][\"params\"].copy()\n",
    "        params.update(check_params)\n",
    "        _, val_output, _ = self.cv_execute(\"xgb\")\n",
    "        score = self.config[\"metric_function\"](self.config[\"target\"], val_output)\n",
    "        return score\n",
    "\n",
    "    \n",
    "    def cb_objective(self, trial):\n",
    "        # https://catboost.ai/en/docs/references/training-parameters/\n",
    "        check_params = {\n",
    "            'max_depth': trial.suggest_int('max_depth', 1, 10),\n",
    "            #'num_leaves': trial.suggest_int('num_leaves', 10, 100),\n",
    "            'reg_lambda': trial.suggest_float('reg_lambda', 0, 1.0),\n",
    "            'learning_rate': trial.suggest_float('learning_rate', 0.05, 0.5),\n",
    "            'min_child_samples': trial.suggest_int('min_child_samples', 1, 10),\n",
    "            'colsample_bylevel': trial.suggest_float('reg_lambda', 0, 1.0),\n",
    "        }\n",
    "    \n",
    "        params = self.config[\"cb\"][\"params\"].copy()\n",
    "        params.update(check_params)\n",
    "        _, val_output, _ = self.cv_execute(\"cb\")\n",
    "        score = self.config[\"metric_function\"](self.config[\"target\"], val_output) \n",
    "        return score\n",
    "\n",
    "    \n",
    "    def param_tuning(self, model_name, option = \"minimize\"):\n",
    "\n",
    "        if model_name == \"lgb\":\n",
    "            objective = self.lgb_objective\n",
    "        elif model_name == \"xgb\":\n",
    "            objective = self.xgb_objective\n",
    "        elif model_name == \"cb\":\n",
    "            objective = self.cb_objective\n",
    "            \n",
    "        study = optuna.create_study(direction=option) \n",
    "        study.optimize(objective, n_trials=self.config[\"optuna_trial_num\"])\n",
    "        trial = study.best_trial\n",
    "        print('Value: ', trial.value)\n",
    "        return trial.params"
   ]
  },
  {
   "cell_type": "markdown",
   "id": "5665e89d",
   "metadata": {
    "papermill": {
     "duration": 0.005027,
     "end_time": "2023-10-28T08:04:52.154409",
     "exception": false,
     "start_time": "2023-10-28T08:04:52.149382",
     "status": "completed"
    },
    "tags": []
   },
   "source": [
    "# preprocess"
   ]
  },
  {
   "cell_type": "code",
   "execution_count": 3,
   "id": "33d6a2b7",
   "metadata": {
    "execution": {
     "iopub.execute_input": "2023-10-28T08:04:52.167595Z",
     "iopub.status.busy": "2023-10-28T08:04:52.166522Z",
     "iopub.status.idle": "2023-10-28T08:04:52.354547Z",
     "shell.execute_reply": "2023-10-28T08:04:52.352725Z"
    },
    "papermill": {
     "duration": 0.199126,
     "end_time": "2023-10-28T08:04:52.358866",
     "exception": false,
     "start_time": "2023-10-28T08:04:52.159740",
     "status": "completed"
    },
    "tags": []
   },
   "outputs": [
    {
     "name": "stdout",
     "output_type": "stream",
     "text": [
      "(617, 79) (5, 73)\n"
     ]
    }
   ],
   "source": [
    "train = pd.read_csv('/kaggle/input/icr-identify-age-related-conditions/train.csv')\n",
    "test = pd.read_csv('/kaggle/input/icr-identify-age-related-conditions/test.csv')\n",
    "sample = pd.read_csv('/kaggle/input/icr-identify-age-related-conditions/sample_submission.csv')\n",
    "greeks = pd.read_csv('/kaggle/input/icr-identify-age-related-conditions/greeks.csv')\n",
    "\n",
    "\n",
    "train['EJ'] = train['EJ'].map({'A': 0, 'B': 1})\n",
    "test['EJ']  = test['EJ'].map({'A': 0, 'B': 1})\n",
    "\n",
    "# process epsilon\n",
    "train = pd.merge(train, greeks, on = \"Id\", how = \"inner\")\n",
    "train_stratify = train[[\"Class\", \"Beta\", \"Delta\", \"Gamma\"]] \n",
    "train[\"Epsilon_ordinal\"] = train[\"Epsilon\"].map(lambda x: datetime.strptime(x,'%m/%d/%Y').toordinal() if x != \"Unknown\" else np.nan)\n",
    "\n",
    "org_features = [n for n in train.columns if n not in ['Class', 'Id', 'Alpha', \"Beta\", \"Gamma\", \"Delta\", \"Epsilon\"]]\n",
    "test_times = pd.DataFrame([train.Epsilon_ordinal.max() + 1] * len(test), columns = [\"Epsilon_ordinal\"])\n",
    "final_test = pd.concat((test, test_times), axis=1)\n",
    "\n",
    "# fill missing value\n",
    "train.fillna(-999, inplace=True)\n",
    "final_test.fillna(-999, inplace=True)\n",
    "\n",
    "# add pca columns\n",
    "pca_feat_num = 15\n",
    "pca_cols = [\"pca\"+str(i+1) for i in range(pca_feat_num)]\n",
    "pca = PCA(n_components=pca_feat_num,random_state=42)\n",
    "pca_train = pca.fit_transform(train[org_features])\n",
    "pca_test = pca.transform(final_test[org_features])\n",
    "pca_train = pd.DataFrame(pca_train, columns=pca_cols)\n",
    "pca_test = pd.DataFrame(pca_test, columns=pca_cols)\n",
    "train = pd.concat([train, pca_train],axis=1)\n",
    "final_test = pd.concat([final_test, pca_test],axis=1)\n",
    "\n",
    "print(train.shape, final_test.shape)"
   ]
  },
  {
   "cell_type": "markdown",
   "id": "ff0d1392",
   "metadata": {
    "papermill": {
     "duration": 0.033284,
     "end_time": "2023-10-28T08:04:52.410303",
     "exception": false,
     "start_time": "2023-10-28T08:04:52.377019",
     "status": "completed"
    },
    "tags": []
   },
   "source": [
    "# config"
   ]
  },
  {
   "cell_type": "code",
   "execution_count": 4,
   "id": "15f0d73f",
   "metadata": {
    "execution": {
     "iopub.execute_input": "2023-10-28T08:04:52.450596Z",
     "iopub.status.busy": "2023-10-28T08:04:52.449816Z",
     "iopub.status.idle": "2023-10-28T08:04:52.460553Z",
     "shell.execute_reply": "2023-10-28T08:04:52.459716Z"
    },
    "papermill": {
     "duration": 0.026499,
     "end_time": "2023-10-28T08:04:52.463542",
     "exception": false,
     "start_time": "2023-10-28T08:04:52.437043",
     "status": "completed"
    },
    "tags": []
   },
   "outputs": [],
   "source": [
    "from sklearn.metrics import log_loss\n",
    "def balanced_log_loss(y_true, y_pred):\n",
    "    nc = np.bincount(y_true)\n",
    "    return log_loss(y_true, y_pred, sample_weight = 1/nc[y_true], eps=1e-15)\n",
    "\n",
    "config = {\n",
    "    \"xgb\": {\n",
    "        \"feats\": org_features + pca_cols,\n",
    "        \"num_round\" : 1000,\n",
    "        \"es_round\" : 50,\n",
    "        \"verbose_eval\": 100,\n",
    "        \"params\" : {\n",
    "            'objective': 'binary:logistic',\n",
    "            'eval_metric': 'logloss',\n",
    "            'verbosity': 0,\n",
    "            'seed': 42\n",
    "        },   \n",
    "    },\n",
    "    \n",
    "    \"lgb\": {\n",
    "        \"feats\": org_features + pca_cols,\n",
    "        \"num_round\" : 1000,\n",
    "        \"es_round\" : 20,\n",
    "        \"verbose_eval\": 100,\n",
    "        \"params\" : {\n",
    "            'objective': 'binary', \n",
    "            'metric': 'binary_logloss', \n",
    "            'boosting': 'goss',\n",
    "            'verbose': -1,\n",
    "            'seed': 42,\n",
    "            'is_unbalance': True\n",
    "        },   \n",
    "    },\n",
    "\n",
    "    \"cb\": {\n",
    "        \"feats\": org_features + pca_cols,\n",
    "        \"es_round\" : 40,\n",
    "        \"verbose_eval\": 100,\n",
    "        \"params\" : {\n",
    "            'loss_function': 'Logloss',\n",
    "            'iterations': 1000,  \n",
    "            'random_seed': 42,\n",
    "            'use_best_model' : True\n",
    "        },\n",
    "    },\n",
    "    \"task_type\": \"classification\",\n",
    "    \"train_data\": train,\n",
    "    \"test_data\": final_test,\n",
    "    \"target\": train.Class,\n",
    "    \"metric_function\" : balanced_log_loss,\n",
    "    \"optuna_trial_num\": 5,\n",
    "}"
   ]
  },
  {
   "cell_type": "markdown",
   "id": "df171c9a",
   "metadata": {
    "papermill": {
     "duration": 0.005146,
     "end_time": "2023-10-28T08:04:52.474227",
     "exception": false,
     "start_time": "2023-10-28T08:04:52.469081",
     "status": "completed"
    },
    "tags": []
   },
   "source": [
    "# tree model"
   ]
  },
  {
   "cell_type": "code",
   "execution_count": 5,
   "id": "e6a9d0fc",
   "metadata": {
    "execution": {
     "iopub.execute_input": "2023-10-28T08:04:52.486622Z",
     "iopub.status.busy": "2023-10-28T08:04:52.486085Z",
     "iopub.status.idle": "2023-10-28T08:04:52.491019Z",
     "shell.execute_reply": "2023-10-28T08:04:52.489904Z"
    },
    "papermill": {
     "duration": 0.013903,
     "end_time": "2023-10-28T08:04:52.493464",
     "exception": false,
     "start_time": "2023-10-28T08:04:52.479561",
     "status": "completed"
    },
    "tags": []
   },
   "outputs": [],
   "source": [
    "treemodel = TreeModelling(config)"
   ]
  },
  {
   "cell_type": "code",
   "execution_count": 6,
   "id": "18370b7a",
   "metadata": {
    "execution": {
     "iopub.execute_input": "2023-10-28T08:04:52.506552Z",
     "iopub.status.busy": "2023-10-28T08:04:52.505799Z",
     "iopub.status.idle": "2023-10-28T08:05:02.748703Z",
     "shell.execute_reply": "2023-10-28T08:05:02.747922Z"
    },
    "papermill": {
     "duration": 10.252488,
     "end_time": "2023-10-28T08:05:02.751268",
     "exception": false,
     "start_time": "2023-10-28T08:04:52.498780",
     "status": "completed"
    },
    "tags": []
   },
   "outputs": [
    {
     "name": "stdout",
     "output_type": "stream",
     "text": [
      "Training until validation scores don't improve for 20 rounds\n",
      "[100]\tvalid_0's binary_logloss: 0.0753021\n",
      "Early stopping, best iteration is:\n",
      "[133]\tvalid_0's binary_logloss: 0.0568181\n",
      "Training until validation scores don't improve for 20 rounds\n",
      "[100]\tvalid_0's binary_logloss: 0.190418\n",
      "Early stopping, best iteration is:\n",
      "[114]\tvalid_0's binary_logloss: 0.181247\n",
      "Training until validation scores don't improve for 20 rounds\n",
      "[100]\tvalid_0's binary_logloss: 0.173883\n",
      "Early stopping, best iteration is:\n",
      "[117]\tvalid_0's binary_logloss: 0.171541\n",
      "Training until validation scores don't improve for 20 rounds\n",
      "[100]\tvalid_0's binary_logloss: 0.166974\n",
      "Early stopping, best iteration is:\n",
      "[176]\tvalid_0's binary_logloss: 0.148852\n",
      "Training until validation scores don't improve for 20 rounds\n"
     ]
    },
    {
     "name": "stderr",
     "output_type": "stream",
     "text": [
      "\u001b[32m[I 2023-10-28 08:04:54,115]\u001b[0m A new study created in memory with name: no-name-3073b11f-975e-46e1-b1fa-7205cedecf56\u001b[0m\n"
     ]
    },
    {
     "name": "stdout",
     "output_type": "stream",
     "text": [
      "Early stopping, best iteration is:\n",
      "[71]\tvalid_0's binary_logloss: 0.156839\n",
      "Training until validation scores don't improve for 20 rounds\n",
      "[100]\tvalid_0's binary_logloss: 0.0753021\n",
      "Early stopping, best iteration is:\n",
      "[133]\tvalid_0's binary_logloss: 0.0568181\n",
      "Training until validation scores don't improve for 20 rounds\n",
      "[100]\tvalid_0's binary_logloss: 0.190418\n",
      "Early stopping, best iteration is:\n",
      "[114]\tvalid_0's binary_logloss: 0.181247\n",
      "Training until validation scores don't improve for 20 rounds\n",
      "[100]\tvalid_0's binary_logloss: 0.173883\n",
      "Early stopping, best iteration is:\n",
      "[117]\tvalid_0's binary_logloss: 0.171541\n",
      "Training until validation scores don't improve for 20 rounds\n",
      "[100]\tvalid_0's binary_logloss: 0.166974\n",
      "Early stopping, best iteration is:\n",
      "[176]\tvalid_0's binary_logloss: 0.148852\n",
      "Training until validation scores don't improve for 20 rounds\n"
     ]
    },
    {
     "name": "stderr",
     "output_type": "stream",
     "text": [
      "\u001b[32m[I 2023-10-28 08:04:55,654]\u001b[0m Trial 0 finished with value: 0.22179991403414676 and parameters: {'num_leaves': 14, 'learning_rate': 0.11175250199807718, 'feature_fraction': 0.829604969318658, 'bagging_fraction': 0.633717918209397, 'min_child_samples': 1, 'lambda_l2': 0.017037482232823697, 'lambda_l1': 0.026677941724291367}. Best is trial 0 with value: 0.22179991403414676.\u001b[0m\n"
     ]
    },
    {
     "name": "stdout",
     "output_type": "stream",
     "text": [
      "Early stopping, best iteration is:\n",
      "[71]\tvalid_0's binary_logloss: 0.156839\n",
      "Training until validation scores don't improve for 20 rounds\n",
      "[100]\tvalid_0's binary_logloss: 0.0753021\n",
      "Early stopping, best iteration is:\n",
      "[133]\tvalid_0's binary_logloss: 0.0568181\n",
      "Training until validation scores don't improve for 20 rounds\n",
      "[100]\tvalid_0's binary_logloss: 0.190418\n",
      "Early stopping, best iteration is:\n",
      "[114]\tvalid_0's binary_logloss: 0.181247\n",
      "Training until validation scores don't improve for 20 rounds\n",
      "[100]\tvalid_0's binary_logloss: 0.173883\n",
      "Early stopping, best iteration is:\n",
      "[117]\tvalid_0's binary_logloss: 0.171541\n",
      "Training until validation scores don't improve for 20 rounds\n",
      "[100]\tvalid_0's binary_logloss: 0.166974\n",
      "Early stopping, best iteration is:\n",
      "[176]\tvalid_0's binary_logloss: 0.148852\n",
      "Training until validation scores don't improve for 20 rounds\n"
     ]
    },
    {
     "name": "stderr",
     "output_type": "stream",
     "text": [
      "\u001b[32m[I 2023-10-28 08:04:57,175]\u001b[0m Trial 1 finished with value: 0.22179991403414676 and parameters: {'num_leaves': 42, 'learning_rate': 0.05224581447913652, 'feature_fraction': 0.718341438937136, 'bagging_fraction': 0.704482374792532, 'min_child_samples': 7, 'lambda_l2': 0.001065614360277234, 'lambda_l1': 0.062260745744681115}. Best is trial 0 with value: 0.22179991403414676.\u001b[0m\n"
     ]
    },
    {
     "name": "stdout",
     "output_type": "stream",
     "text": [
      "Early stopping, best iteration is:\n",
      "[71]\tvalid_0's binary_logloss: 0.156839\n",
      "Training until validation scores don't improve for 20 rounds\n",
      "[100]\tvalid_0's binary_logloss: 0.0753021\n",
      "Early stopping, best iteration is:\n",
      "[133]\tvalid_0's binary_logloss: 0.0568181\n",
      "Training until validation scores don't improve for 20 rounds\n",
      "[100]\tvalid_0's binary_logloss: 0.190418\n",
      "Early stopping, best iteration is:\n",
      "[114]\tvalid_0's binary_logloss: 0.181247\n",
      "Training until validation scores don't improve for 20 rounds\n",
      "[100]\tvalid_0's binary_logloss: 0.173883\n",
      "Early stopping, best iteration is:\n",
      "[117]\tvalid_0's binary_logloss: 0.171541\n",
      "Training until validation scores don't improve for 20 rounds\n",
      "[100]\tvalid_0's binary_logloss: 0.166974\n",
      "Early stopping, best iteration is:\n",
      "[176]\tvalid_0's binary_logloss: 0.148852\n",
      "Training until validation scores don't improve for 20 rounds\n"
     ]
    },
    {
     "name": "stderr",
     "output_type": "stream",
     "text": [
      "\u001b[32m[I 2023-10-28 08:04:59,626]\u001b[0m Trial 2 finished with value: 0.22179991403414676 and parameters: {'num_leaves': 79, 'learning_rate': 0.23499698448776696, 'feature_fraction': 0.8960493568048442, 'bagging_fraction': 0.8846511270118421, 'min_child_samples': 4, 'lambda_l2': 0.07861603711632839, 'lambda_l1': 0.022278314303371807}. Best is trial 0 with value: 0.22179991403414676.\u001b[0m\n"
     ]
    },
    {
     "name": "stdout",
     "output_type": "stream",
     "text": [
      "Early stopping, best iteration is:\n",
      "[71]\tvalid_0's binary_logloss: 0.156839\n",
      "Training until validation scores don't improve for 20 rounds\n",
      "[100]\tvalid_0's binary_logloss: 0.0753021\n",
      "Early stopping, best iteration is:\n",
      "[133]\tvalid_0's binary_logloss: 0.0568181\n",
      "Training until validation scores don't improve for 20 rounds\n",
      "[100]\tvalid_0's binary_logloss: 0.190418\n",
      "Early stopping, best iteration is:\n",
      "[114]\tvalid_0's binary_logloss: 0.181247\n",
      "Training until validation scores don't improve for 20 rounds\n",
      "[100]\tvalid_0's binary_logloss: 0.173883\n",
      "Early stopping, best iteration is:\n",
      "[117]\tvalid_0's binary_logloss: 0.171541\n",
      "Training until validation scores don't improve for 20 rounds\n",
      "[100]\tvalid_0's binary_logloss: 0.166974\n",
      "Early stopping, best iteration is:\n",
      "[176]\tvalid_0's binary_logloss: 0.148852\n",
      "Training until validation scores don't improve for 20 rounds\n"
     ]
    },
    {
     "name": "stderr",
     "output_type": "stream",
     "text": [
      "\u001b[32m[I 2023-10-28 08:05:01,160]\u001b[0m Trial 3 finished with value: 0.22179991403414676 and parameters: {'num_leaves': 100, 'learning_rate': 0.24624755801345755, 'feature_fraction': 0.7140248377279224, 'bagging_fraction': 0.6131965353947058, 'min_child_samples': 8, 'lambda_l2': 0.06134001363684554, 'lambda_l1': 0.052598097307121595}. Best is trial 0 with value: 0.22179991403414676.\u001b[0m\n"
     ]
    },
    {
     "name": "stdout",
     "output_type": "stream",
     "text": [
      "Early stopping, best iteration is:\n",
      "[71]\tvalid_0's binary_logloss: 0.156839\n",
      "Training until validation scores don't improve for 20 rounds\n",
      "[100]\tvalid_0's binary_logloss: 0.0753021\n",
      "Early stopping, best iteration is:\n",
      "[133]\tvalid_0's binary_logloss: 0.0568181\n",
      "Training until validation scores don't improve for 20 rounds\n",
      "[100]\tvalid_0's binary_logloss: 0.190418\n",
      "Early stopping, best iteration is:\n",
      "[114]\tvalid_0's binary_logloss: 0.181247\n",
      "Training until validation scores don't improve for 20 rounds\n",
      "[100]\tvalid_0's binary_logloss: 0.173883\n",
      "Early stopping, best iteration is:\n",
      "[117]\tvalid_0's binary_logloss: 0.171541\n",
      "Training until validation scores don't improve for 20 rounds\n",
      "[100]\tvalid_0's binary_logloss: 0.166974\n",
      "Early stopping, best iteration is:\n",
      "[176]\tvalid_0's binary_logloss: 0.148852\n",
      "Training until validation scores don't improve for 20 rounds\n"
     ]
    },
    {
     "name": "stderr",
     "output_type": "stream",
     "text": [
      "\u001b[32m[I 2023-10-28 08:05:02,741]\u001b[0m Trial 4 finished with value: 0.22179991403414676 and parameters: {'num_leaves': 31, 'learning_rate': 0.2899404189870847, 'feature_fraction': 0.9435988965486981, 'bagging_fraction': 0.6476353009408539, 'min_child_samples': 9, 'lambda_l2': 0.0809544699976179, 'lambda_l1': 0.014637676243739973}. Best is trial 0 with value: 0.22179991403414676.\u001b[0m\n"
     ]
    },
    {
     "name": "stdout",
     "output_type": "stream",
     "text": [
      "Early stopping, best iteration is:\n",
      "[71]\tvalid_0's binary_logloss: 0.156839\n",
      "Value:  0.22179991403414676\n"
     ]
    },
    {
     "data": {
      "text/plain": [
       "{'num_leaves': 14,\n",
       " 'learning_rate': 0.11175250199807718,\n",
       " 'feature_fraction': 0.829604969318658,\n",
       " 'bagging_fraction': 0.633717918209397,\n",
       " 'min_child_samples': 1,\n",
       " 'lambda_l2': 0.017037482232823697,\n",
       " 'lambda_l1': 0.026677941724291367}"
      ]
     },
     "execution_count": 6,
     "metadata": {},
     "output_type": "execute_result"
    }
   ],
   "source": [
    "lgb_models, lgb_val_output, lgb_imp_df = treemodel.cv_execute(\"lgb\")\n",
    "lgb_test_output = treemodel.lgb_test(lgb_models, \"lgb\", config[\"test_data\"])\n",
    "    \n",
    "lgb_best_params = treemodel.param_tuning(\"lgb\")\n",
    "lgb_best_params"
   ]
  },
  {
   "cell_type": "code",
   "execution_count": 7,
   "id": "b279fbb3",
   "metadata": {
    "execution": {
     "iopub.execute_input": "2023-10-28T08:05:02.771417Z",
     "iopub.status.busy": "2023-10-28T08:05:02.770415Z",
     "iopub.status.idle": "2023-10-28T08:05:16.515751Z",
     "shell.execute_reply": "2023-10-28T08:05:16.514768Z"
    },
    "papermill": {
     "duration": 13.757908,
     "end_time": "2023-10-28T08:05:16.518128",
     "exception": false,
     "start_time": "2023-10-28T08:05:02.760220",
     "status": "completed"
    },
    "tags": []
   },
   "outputs": [
    {
     "name": "stdout",
     "output_type": "stream",
     "text": [
      "[0]\teval-logloss:0.50062\n",
      "[100]\teval-logloss:0.07995\n",
      "[200]\teval-logloss:0.07652\n",
      "[294]\teval-logloss:0.07731\n",
      "[0]\teval-logloss:0.52655\n",
      "[79]\teval-logloss:0.15150\n",
      "[0]\teval-logloss:0.50637\n",
      "[73]\teval-logloss:0.16337\n",
      "[0]\teval-logloss:0.52571\n",
      "[100]\teval-logloss:0.15744\n",
      "[145]\teval-logloss:0.15881\n",
      "[0]\teval-logloss:0.52212\n",
      "[72]\teval-logloss:0.20594\n"
     ]
    },
    {
     "name": "stderr",
     "output_type": "stream",
     "text": [
      "\u001b[32m[I 2023-10-28 08:05:05,091]\u001b[0m A new study created in memory with name: no-name-50823bd7-9ae5-4013-8cc0-9d92f4cfccdc\u001b[0m\n"
     ]
    },
    {
     "name": "stdout",
     "output_type": "stream",
     "text": [
      "[0]\teval-logloss:0.50062\n",
      "[100]\teval-logloss:0.07995\n",
      "[200]\teval-logloss:0.07652\n",
      "[293]\teval-logloss:0.07732\n",
      "[0]\teval-logloss:0.52655\n",
      "[79]\teval-logloss:0.15150\n",
      "[0]\teval-logloss:0.50637\n",
      "[73]\teval-logloss:0.16337\n",
      "[0]\teval-logloss:0.52571\n",
      "[100]\teval-logloss:0.15744\n",
      "[145]\teval-logloss:0.15881\n",
      "[0]\teval-logloss:0.52212\n",
      "[72]\teval-logloss:0.20594\n"
     ]
    },
    {
     "name": "stderr",
     "output_type": "stream",
     "text": [
      "\u001b[32m[I 2023-10-28 08:05:07,373]\u001b[0m Trial 0 finished with value: 0.31216516835643554 and parameters: {'gamma': 0.8422293930161248, 'max_depth': 2, 'num_leaves': 33, 'learning_rate': 0.019507374315956342, 'min_child_weight': 3, 'max_delta_step': 10, 'subsample': 0.6722088515650636, 'lambda': 0.1031093524702934, 'alpha': 0.12577907243745678}. Best is trial 0 with value: 0.31216516835643554.\u001b[0m\n"
     ]
    },
    {
     "name": "stdout",
     "output_type": "stream",
     "text": [
      "[0]\teval-logloss:0.50062\n",
      "[100]\teval-logloss:0.07995\n",
      "[200]\teval-logloss:0.07652\n",
      "[294]\teval-logloss:0.07731\n",
      "[0]\teval-logloss:0.52655\n",
      "[79]\teval-logloss:0.15150\n",
      "[0]\teval-logloss:0.50637\n",
      "[73]\teval-logloss:0.16337\n",
      "[0]\teval-logloss:0.52571\n",
      "[100]\teval-logloss:0.15744\n",
      "[145]\teval-logloss:0.15881\n",
      "[0]\teval-logloss:0.52212\n",
      "[72]\teval-logloss:0.20594\n"
     ]
    },
    {
     "name": "stderr",
     "output_type": "stream",
     "text": [
      "\u001b[32m[I 2023-10-28 08:05:09,642]\u001b[0m Trial 1 finished with value: 0.31216516835643554 and parameters: {'gamma': 0.8604041697617157, 'max_depth': 1, 'num_leaves': 30, 'learning_rate': 0.2596101098530168, 'min_child_weight': 8, 'max_delta_step': 3, 'subsample': 0.9553252773467548, 'lambda': 0.1664283502353221, 'alpha': 0.6260667102627729}. Best is trial 0 with value: 0.31216516835643554.\u001b[0m\n"
     ]
    },
    {
     "name": "stdout",
     "output_type": "stream",
     "text": [
      "[0]\teval-logloss:0.50062\n",
      "[100]\teval-logloss:0.07995\n",
      "[200]\teval-logloss:0.07652\n",
      "[294]\teval-logloss:0.07731\n",
      "[0]\teval-logloss:0.52655\n",
      "[79]\teval-logloss:0.15150\n",
      "[0]\teval-logloss:0.50637\n",
      "[74]\teval-logloss:0.16255\n",
      "[0]\teval-logloss:0.52571\n",
      "[100]\teval-logloss:0.15744\n",
      "[145]\teval-logloss:0.15881\n",
      "[0]\teval-logloss:0.52212\n",
      "[72]\teval-logloss:0.20594\n"
     ]
    },
    {
     "name": "stderr",
     "output_type": "stream",
     "text": [
      "\u001b[32m[I 2023-10-28 08:05:11,908]\u001b[0m Trial 2 finished with value: 0.31216516835643554 and parameters: {'gamma': 0.0316282892861417, 'max_depth': 3, 'num_leaves': 47, 'learning_rate': 0.24737497284212928, 'min_child_weight': 5, 'max_delta_step': 3, 'subsample': 0.6109020453067522, 'lambda': 0.8930136703338594, 'alpha': 0.37718107554043634}. Best is trial 0 with value: 0.31216516835643554.\u001b[0m\n"
     ]
    },
    {
     "name": "stdout",
     "output_type": "stream",
     "text": [
      "[0]\teval-logloss:0.50062\n",
      "[100]\teval-logloss:0.07995\n",
      "[200]\teval-logloss:0.07652\n",
      "[294]\teval-logloss:0.07731\n",
      "[0]\teval-logloss:0.52655\n",
      "[78]\teval-logloss:0.15152\n",
      "[0]\teval-logloss:0.50637\n",
      "[74]\teval-logloss:0.16255\n",
      "[0]\teval-logloss:0.52571\n",
      "[100]\teval-logloss:0.15744\n",
      "[145]\teval-logloss:0.15881\n",
      "[0]\teval-logloss:0.52212\n",
      "[73]\teval-logloss:0.20678\n"
     ]
    },
    {
     "name": "stderr",
     "output_type": "stream",
     "text": [
      "\u001b[32m[I 2023-10-28 08:05:14,242]\u001b[0m Trial 3 finished with value: 0.31216516835643554 and parameters: {'gamma': 0.9861283858592306, 'max_depth': 7, 'num_leaves': 87, 'learning_rate': 0.2391529930985339, 'min_child_weight': 6, 'max_delta_step': 9, 'subsample': 0.5312022404352947, 'lambda': 0.15412928089571154, 'alpha': 0.8257653045449431}. Best is trial 0 with value: 0.31216516835643554.\u001b[0m\n"
     ]
    },
    {
     "name": "stdout",
     "output_type": "stream",
     "text": [
      "[0]\teval-logloss:0.50062\n",
      "[100]\teval-logloss:0.07995\n",
      "[200]\teval-logloss:0.07652\n",
      "[294]\teval-logloss:0.07731\n",
      "[0]\teval-logloss:0.52655\n",
      "[78]\teval-logloss:0.15152\n",
      "[0]\teval-logloss:0.50637\n",
      "[74]\teval-logloss:0.16255\n",
      "[0]\teval-logloss:0.52571\n",
      "[100]\teval-logloss:0.15744\n",
      "[144]\teval-logloss:0.15872\n",
      "[0]\teval-logloss:0.52212\n",
      "[73]\teval-logloss:0.20678\n"
     ]
    },
    {
     "name": "stderr",
     "output_type": "stream",
     "text": [
      "\u001b[32m[I 2023-10-28 08:05:16,507]\u001b[0m Trial 4 finished with value: 0.31216516835643554 and parameters: {'gamma': 0.29354268805479, 'max_depth': 8, 'num_leaves': 88, 'learning_rate': 0.33863422699768286, 'min_child_weight': 8, 'max_delta_step': 7, 'subsample': 0.17816145616391255, 'lambda': 0.7821532832458215, 'alpha': 0.623965524662699}. Best is trial 0 with value: 0.31216516835643554.\u001b[0m\n"
     ]
    },
    {
     "name": "stdout",
     "output_type": "stream",
     "text": [
      "Value:  0.31216516835643554\n"
     ]
    },
    {
     "data": {
      "text/plain": [
       "{'gamma': 0.8422293930161248,\n",
       " 'max_depth': 2,\n",
       " 'num_leaves': 33,\n",
       " 'learning_rate': 0.019507374315956342,\n",
       " 'min_child_weight': 3,\n",
       " 'max_delta_step': 10,\n",
       " 'subsample': 0.6722088515650636,\n",
       " 'lambda': 0.1031093524702934,\n",
       " 'alpha': 0.12577907243745678}"
      ]
     },
     "execution_count": 7,
     "metadata": {},
     "output_type": "execute_result"
    }
   ],
   "source": [
    "xgb_models, xgb_val_output, xgb_imp_df = treemodel.cv_execute(\"xgb\")\n",
    "xgb_test_output = treemodel.xgb_test(xgb_models, \"xgb\", config[\"test_data\"])\n",
    "    \n",
    "xgb_best_params = treemodel.param_tuning(\"xgb\")\n",
    "xgb_best_params"
   ]
  },
  {
   "cell_type": "code",
   "execution_count": 8,
   "id": "ad46e642",
   "metadata": {
    "execution": {
     "iopub.execute_input": "2023-10-28T08:05:16.551961Z",
     "iopub.status.busy": "2023-10-28T08:05:16.551575Z",
     "iopub.status.idle": "2023-10-28T08:07:22.624549Z",
     "shell.execute_reply": "2023-10-28T08:07:22.623711Z"
    },
    "papermill": {
     "duration": 126.092543,
     "end_time": "2023-10-28T08:07:22.626814",
     "exception": false,
     "start_time": "2023-10-28T08:05:16.534271",
     "status": "completed"
    },
    "tags": []
   },
   "outputs": [
    {
     "name": "stdout",
     "output_type": "stream",
     "text": [
      "Learning rate set to 0.026623\n",
      "0:\tlearn: 0.6658456\ttest: 0.6657945\tbest: 0.6657945 (0)\ttotal: 69.3ms\tremaining: 1m 9s\n",
      "100:\tlearn: 0.1123480\ttest: 0.1832610\tbest: 0.1832610 (100)\ttotal: 853ms\tremaining: 7.59s\n",
      "200:\tlearn: 0.0492788\ttest: 0.1381917\tbest: 0.1381917 (200)\ttotal: 1.64s\tremaining: 6.51s\n",
      "300:\tlearn: 0.0253975\ttest: 0.1166001\tbest: 0.1166001 (300)\ttotal: 2.41s\tremaining: 5.59s\n",
      "400:\tlearn: 0.0143491\ttest: 0.1034707\tbest: 0.1034707 (400)\ttotal: 3.18s\tremaining: 4.75s\n",
      "500:\tlearn: 0.0094645\ttest: 0.0988917\tbest: 0.0988917 (500)\ttotal: 3.97s\tremaining: 3.95s\n",
      "600:\tlearn: 0.0068158\ttest: 0.0956670\tbest: 0.0952825 (577)\ttotal: 4.76s\tremaining: 3.16s\n",
      "700:\tlearn: 0.0052091\ttest: 0.0923589\tbest: 0.0923589 (700)\ttotal: 5.61s\tremaining: 2.39s\n",
      "800:\tlearn: 0.0042617\ttest: 0.0891180\tbest: 0.0891180 (800)\ttotal: 6.4s\tremaining: 1.59s\n",
      "Stopped by overfitting detector  (40 iterations wait)\n",
      "\n",
      "bestTest = 0.08903141659\n",
      "bestIteration = 803\n",
      "\n",
      "Shrink model to first 804 iterations.\n",
      "Learning rate set to 0.026623\n",
      "0:\tlearn: 0.6639685\ttest: 0.6675938\tbest: 0.6675938 (0)\ttotal: 13.7ms\tremaining: 13.7s\n",
      "100:\tlearn: 0.0966009\ttest: 0.2232625\tbest: 0.2232625 (100)\ttotal: 802ms\tremaining: 7.14s\n",
      "200:\tlearn: 0.0400339\ttest: 0.1963458\tbest: 0.1962260 (199)\ttotal: 1.58s\tremaining: 6.3s\n",
      "300:\tlearn: 0.0203409\ttest: 0.1821292\tbest: 0.1820633 (296)\ttotal: 2.37s\tremaining: 5.51s\n",
      "400:\tlearn: 0.0121352\ttest: 0.1778289\tbest: 0.1777488 (399)\ttotal: 3.16s\tremaining: 4.72s\n",
      "Stopped by overfitting detector  (40 iterations wait)\n",
      "\n",
      "bestTest = 0.1777037715\n",
      "bestIteration = 422\n",
      "\n",
      "Shrink model to first 423 iterations.\n",
      "Learning rate set to 0.02661\n",
      "0:\tlearn: 0.6732626\ttest: 0.6767785\tbest: 0.6767785 (0)\ttotal: 11.8ms\tremaining: 11.8s\n",
      "100:\tlearn: 0.1004395\ttest: 0.2277886\tbest: 0.2277886 (100)\ttotal: 810ms\tremaining: 7.21s\n",
      "200:\tlearn: 0.0410985\ttest: 0.1978980\tbest: 0.1978980 (200)\ttotal: 1.6s\tremaining: 6.38s\n",
      "300:\tlearn: 0.0209257\ttest: 0.1840968\tbest: 0.1836870 (293)\ttotal: 2.6s\tremaining: 6.03s\n",
      "400:\tlearn: 0.0112593\ttest: 0.1818971\tbest: 0.1808583 (382)\ttotal: 3.63s\tremaining: 5.42s\n",
      "Stopped by overfitting detector  (40 iterations wait)\n",
      "\n",
      "bestTest = 0.1808583496\n",
      "bestIteration = 382\n",
      "\n",
      "Shrink model to first 383 iterations.\n",
      "Learning rate set to 0.026623\n",
      "0:\tlearn: 0.6647664\ttest: 0.6672171\tbest: 0.6672171 (0)\ttotal: 9.68ms\tremaining: 9.67s\n",
      "100:\tlearn: 0.1064686\ttest: 0.2057343\tbest: 0.2057343 (100)\ttotal: 888ms\tremaining: 7.9s\n",
      "200:\tlearn: 0.0453790\ttest: 0.1700236\tbest: 0.1700236 (200)\ttotal: 1.68s\tremaining: 6.67s\n",
      "300:\tlearn: 0.0233442\ttest: 0.1547804\tbest: 0.1544352 (298)\ttotal: 2.48s\tremaining: 5.75s\n",
      "400:\tlearn: 0.0140283\ttest: 0.1497491\tbest: 0.1494520 (374)\ttotal: 3.27s\tremaining: 4.88s\n",
      "Stopped by overfitting detector  (40 iterations wait)\n",
      "\n",
      "bestTest = 0.1494519523\n",
      "bestIteration = 374\n",
      "\n",
      "Shrink model to first 375 iterations.\n",
      "Learning rate set to 0.02661\n",
      "0:\tlearn: 0.6649654\ttest: 0.6644447\tbest: 0.6644447 (0)\ttotal: 9.32ms\tremaining: 9.31s\n",
      "100:\tlearn: 0.1076124\ttest: 0.2287639\tbest: 0.2283431 (98)\ttotal: 811ms\tremaining: 7.21s\n",
      "200:\tlearn: 0.0446048\ttest: 0.1988272\tbest: 0.1985434 (199)\ttotal: 1.62s\tremaining: 6.43s\n"
     ]
    },
    {
     "name": "stderr",
     "output_type": "stream",
     "text": [
      "\u001b[32m[I 2023-10-28 08:05:37,510]\u001b[0m A new study created in memory with name: no-name-f09fd61c-6e32-41ab-a1c2-463f9ae6934d\u001b[0m\n"
     ]
    },
    {
     "name": "stdout",
     "output_type": "stream",
     "text": [
      "300:\tlearn: 0.0218487\ttest: 0.1931048\tbest: 0.1908997 (267)\ttotal: 2.42s\tremaining: 5.61s\n",
      "Stopped by overfitting detector  (40 iterations wait)\n",
      "\n",
      "bestTest = 0.1908997058\n",
      "bestIteration = 267\n",
      "\n",
      "Shrink model to first 268 iterations.\n",
      "Learning rate set to 0.026623\n",
      "0:\tlearn: 0.6658456\ttest: 0.6657945\tbest: 0.6657945 (0)\ttotal: 10.1ms\tremaining: 10.1s\n",
      "100:\tlearn: 0.1123480\ttest: 0.1832610\tbest: 0.1832610 (100)\ttotal: 820ms\tremaining: 7.3s\n",
      "200:\tlearn: 0.0492788\ttest: 0.1381917\tbest: 0.1381917 (200)\ttotal: 1.62s\tremaining: 6.43s\n",
      "300:\tlearn: 0.0253975\ttest: 0.1166001\tbest: 0.1166001 (300)\ttotal: 2.42s\tremaining: 5.63s\n",
      "400:\tlearn: 0.0143491\ttest: 0.1034707\tbest: 0.1034707 (400)\ttotal: 3.21s\tremaining: 4.8s\n",
      "500:\tlearn: 0.0094645\ttest: 0.0988917\tbest: 0.0988917 (500)\ttotal: 4.02s\tremaining: 4s\n",
      "600:\tlearn: 0.0068158\ttest: 0.0956670\tbest: 0.0952825 (577)\ttotal: 4.88s\tremaining: 3.24s\n",
      "700:\tlearn: 0.0052091\ttest: 0.0923589\tbest: 0.0923589 (700)\ttotal: 5.68s\tremaining: 2.42s\n",
      "800:\tlearn: 0.0042617\ttest: 0.0891180\tbest: 0.0891180 (800)\ttotal: 6.48s\tremaining: 1.61s\n",
      "Stopped by overfitting detector  (40 iterations wait)\n",
      "\n",
      "bestTest = 0.08903141659\n",
      "bestIteration = 803\n",
      "\n",
      "Shrink model to first 804 iterations.\n",
      "Learning rate set to 0.026623\n",
      "0:\tlearn: 0.6639685\ttest: 0.6675938\tbest: 0.6675938 (0)\ttotal: 8.8ms\tremaining: 8.79s\n",
      "100:\tlearn: 0.0966009\ttest: 0.2232625\tbest: 0.2232625 (100)\ttotal: 818ms\tremaining: 7.28s\n",
      "200:\tlearn: 0.0400339\ttest: 0.1963458\tbest: 0.1962260 (199)\ttotal: 1.61s\tremaining: 6.42s\n",
      "300:\tlearn: 0.0203409\ttest: 0.1821292\tbest: 0.1820633 (296)\ttotal: 2.42s\tremaining: 5.62s\n",
      "400:\tlearn: 0.0121352\ttest: 0.1778289\tbest: 0.1777488 (399)\ttotal: 3.23s\tremaining: 4.83s\n",
      "Stopped by overfitting detector  (40 iterations wait)\n",
      "\n",
      "bestTest = 0.1777037715\n",
      "bestIteration = 422\n",
      "\n",
      "Shrink model to first 423 iterations.\n",
      "Learning rate set to 0.02661\n",
      "0:\tlearn: 0.6732626\ttest: 0.6767785\tbest: 0.6767785 (0)\ttotal: 8.76ms\tremaining: 8.75s\n",
      "100:\tlearn: 0.1004395\ttest: 0.2277886\tbest: 0.2277886 (100)\ttotal: 818ms\tremaining: 7.28s\n",
      "200:\tlearn: 0.0410985\ttest: 0.1978980\tbest: 0.1978980 (200)\ttotal: 1.62s\tremaining: 6.44s\n",
      "300:\tlearn: 0.0209257\ttest: 0.1840968\tbest: 0.1836870 (293)\ttotal: 2.43s\tremaining: 5.63s\n",
      "400:\tlearn: 0.0112593\ttest: 0.1818971\tbest: 0.1808583 (382)\ttotal: 3.24s\tremaining: 4.84s\n",
      "Stopped by overfitting detector  (40 iterations wait)\n",
      "\n",
      "bestTest = 0.1808583496\n",
      "bestIteration = 382\n",
      "\n",
      "Shrink model to first 383 iterations.\n",
      "Learning rate set to 0.026623\n",
      "0:\tlearn: 0.6647664\ttest: 0.6672171\tbest: 0.6672171 (0)\ttotal: 12.6ms\tremaining: 12.6s\n",
      "100:\tlearn: 0.1064686\ttest: 0.2057343\tbest: 0.2057343 (100)\ttotal: 846ms\tremaining: 7.53s\n",
      "200:\tlearn: 0.0453790\ttest: 0.1700236\tbest: 0.1700236 (200)\ttotal: 1.65s\tremaining: 6.57s\n",
      "300:\tlearn: 0.0233442\ttest: 0.1547804\tbest: 0.1544352 (298)\ttotal: 2.45s\tremaining: 5.7s\n",
      "400:\tlearn: 0.0140283\ttest: 0.1497491\tbest: 0.1494520 (374)\ttotal: 3.26s\tremaining: 4.87s\n",
      "Stopped by overfitting detector  (40 iterations wait)\n",
      "\n",
      "bestTest = 0.1494519523\n",
      "bestIteration = 374\n",
      "\n",
      "Shrink model to first 375 iterations.\n",
      "Learning rate set to 0.02661\n",
      "0:\tlearn: 0.6649654\ttest: 0.6644447\tbest: 0.6644447 (0)\ttotal: 9.68ms\tremaining: 9.67s\n",
      "100:\tlearn: 0.1076124\ttest: 0.2287639\tbest: 0.2283431 (98)\ttotal: 828ms\tremaining: 7.37s\n",
      "200:\tlearn: 0.0446048\ttest: 0.1988272\tbest: 0.1985434 (199)\ttotal: 1.63s\tremaining: 6.49s\n"
     ]
    },
    {
     "name": "stderr",
     "output_type": "stream",
     "text": [
      "\u001b[32m[I 2023-10-28 08:05:58,213]\u001b[0m Trial 0 finished with value: 0.3645940857907282 and parameters: {'max_depth': 6, 'reg_lambda': 0.5633452570338364, 'learning_rate': 0.47579621420884, 'min_child_samples': 3}. Best is trial 0 with value: 0.3645940857907282.\u001b[0m\n"
     ]
    },
    {
     "name": "stdout",
     "output_type": "stream",
     "text": [
      "300:\tlearn: 0.0218487\ttest: 0.1931048\tbest: 0.1908997 (267)\ttotal: 2.44s\tremaining: 5.66s\n",
      "Stopped by overfitting detector  (40 iterations wait)\n",
      "\n",
      "bestTest = 0.1908997058\n",
      "bestIteration = 267\n",
      "\n",
      "Shrink model to first 268 iterations.\n",
      "Learning rate set to 0.026623\n",
      "0:\tlearn: 0.6658456\ttest: 0.6657945\tbest: 0.6657945 (0)\ttotal: 8.45ms\tremaining: 8.44s\n",
      "100:\tlearn: 0.1123480\ttest: 0.1832610\tbest: 0.1832610 (100)\ttotal: 816ms\tremaining: 7.26s\n",
      "200:\tlearn: 0.0492788\ttest: 0.1381917\tbest: 0.1381917 (200)\ttotal: 1.62s\tremaining: 6.44s\n",
      "300:\tlearn: 0.0253975\ttest: 0.1166001\tbest: 0.1166001 (300)\ttotal: 2.42s\tremaining: 5.63s\n",
      "400:\tlearn: 0.0143491\ttest: 0.1034707\tbest: 0.1034707 (400)\ttotal: 3.31s\tremaining: 4.95s\n",
      "500:\tlearn: 0.0094645\ttest: 0.0988917\tbest: 0.0988917 (500)\ttotal: 4.48s\tremaining: 4.46s\n",
      "600:\tlearn: 0.0068158\ttest: 0.0956670\tbest: 0.0952825 (577)\ttotal: 5.35s\tremaining: 3.55s\n",
      "700:\tlearn: 0.0052091\ttest: 0.0923589\tbest: 0.0923589 (700)\ttotal: 6.15s\tremaining: 2.62s\n",
      "800:\tlearn: 0.0042617\ttest: 0.0891180\tbest: 0.0891180 (800)\ttotal: 6.95s\tremaining: 1.73s\n",
      "Stopped by overfitting detector  (40 iterations wait)\n",
      "\n",
      "bestTest = 0.08903141659\n",
      "bestIteration = 803\n",
      "\n",
      "Shrink model to first 804 iterations.\n",
      "Learning rate set to 0.026623\n",
      "0:\tlearn: 0.6639685\ttest: 0.6675938\tbest: 0.6675938 (0)\ttotal: 9.01ms\tremaining: 9s\n",
      "100:\tlearn: 0.0966009\ttest: 0.2232625\tbest: 0.2232625 (100)\ttotal: 816ms\tremaining: 7.26s\n",
      "200:\tlearn: 0.0400339\ttest: 0.1963458\tbest: 0.1962260 (199)\ttotal: 1.61s\tremaining: 6.42s\n",
      "300:\tlearn: 0.0203409\ttest: 0.1821292\tbest: 0.1820633 (296)\ttotal: 2.42s\tremaining: 5.61s\n",
      "400:\tlearn: 0.0121352\ttest: 0.1778289\tbest: 0.1777488 (399)\ttotal: 3.22s\tremaining: 4.81s\n",
      "Stopped by overfitting detector  (40 iterations wait)\n",
      "\n",
      "bestTest = 0.1777037715\n",
      "bestIteration = 422\n",
      "\n",
      "Shrink model to first 423 iterations.\n",
      "Learning rate set to 0.02661\n",
      "0:\tlearn: 0.6732626\ttest: 0.6767785\tbest: 0.6767785 (0)\ttotal: 9.08ms\tremaining: 9.07s\n",
      "100:\tlearn: 0.1004395\ttest: 0.2277886\tbest: 0.2277886 (100)\ttotal: 821ms\tremaining: 7.31s\n",
      "200:\tlearn: 0.0410985\ttest: 0.1978980\tbest: 0.1978980 (200)\ttotal: 1.63s\tremaining: 6.46s\n",
      "300:\tlearn: 0.0209257\ttest: 0.1840968\tbest: 0.1836870 (293)\ttotal: 2.5s\tremaining: 5.82s\n",
      "400:\tlearn: 0.0112593\ttest: 0.1818971\tbest: 0.1808583 (382)\ttotal: 3.32s\tremaining: 4.96s\n",
      "Stopped by overfitting detector  (40 iterations wait)\n",
      "\n",
      "bestTest = 0.1808583496\n",
      "bestIteration = 382\n",
      "\n",
      "Shrink model to first 383 iterations.\n",
      "Learning rate set to 0.026623\n",
      "0:\tlearn: 0.6647664\ttest: 0.6672171\tbest: 0.6672171 (0)\ttotal: 8.46ms\tremaining: 8.45s\n",
      "100:\tlearn: 0.1064686\ttest: 0.2057343\tbest: 0.2057343 (100)\ttotal: 816ms\tremaining: 7.26s\n",
      "200:\tlearn: 0.0453790\ttest: 0.1700236\tbest: 0.1700236 (200)\ttotal: 1.62s\tremaining: 6.45s\n",
      "300:\tlearn: 0.0233442\ttest: 0.1547804\tbest: 0.1544352 (298)\ttotal: 2.42s\tremaining: 5.62s\n",
      "400:\tlearn: 0.0140283\ttest: 0.1497491\tbest: 0.1494520 (374)\ttotal: 3.22s\tremaining: 4.81s\n",
      "Stopped by overfitting detector  (40 iterations wait)\n",
      "\n",
      "bestTest = 0.1494519523\n",
      "bestIteration = 374\n",
      "\n",
      "Shrink model to first 375 iterations.\n",
      "Learning rate set to 0.02661\n",
      "0:\tlearn: 0.6649654\ttest: 0.6644447\tbest: 0.6644447 (0)\ttotal: 11.3ms\tremaining: 11.3s\n",
      "100:\tlearn: 0.1076124\ttest: 0.2287639\tbest: 0.2283431 (98)\ttotal: 821ms\tremaining: 7.3s\n",
      "200:\tlearn: 0.0446048\ttest: 0.1988272\tbest: 0.1985434 (199)\ttotal: 1.64s\tremaining: 6.51s\n"
     ]
    },
    {
     "name": "stderr",
     "output_type": "stream",
     "text": [
      "\u001b[32m[I 2023-10-28 08:06:19,398]\u001b[0m Trial 1 finished with value: 0.3645940857907282 and parameters: {'max_depth': 9, 'reg_lambda': 0.8510900137639849, 'learning_rate': 0.17029009962046945, 'min_child_samples': 6}. Best is trial 0 with value: 0.3645940857907282.\u001b[0m\n"
     ]
    },
    {
     "name": "stdout",
     "output_type": "stream",
     "text": [
      "300:\tlearn: 0.0218487\ttest: 0.1931048\tbest: 0.1908997 (267)\ttotal: 2.44s\tremaining: 5.66s\n",
      "Stopped by overfitting detector  (40 iterations wait)\n",
      "\n",
      "bestTest = 0.1908997058\n",
      "bestIteration = 267\n",
      "\n",
      "Shrink model to first 268 iterations.\n",
      "Learning rate set to 0.026623\n",
      "0:\tlearn: 0.6658456\ttest: 0.6657945\tbest: 0.6657945 (0)\ttotal: 9.04ms\tremaining: 9.03s\n",
      "100:\tlearn: 0.1123480\ttest: 0.1832610\tbest: 0.1832610 (100)\ttotal: 816ms\tremaining: 7.26s\n",
      "200:\tlearn: 0.0492788\ttest: 0.1381917\tbest: 0.1381917 (200)\ttotal: 1.62s\tremaining: 6.43s\n",
      "300:\tlearn: 0.0253975\ttest: 0.1166001\tbest: 0.1166001 (300)\ttotal: 2.42s\tremaining: 5.62s\n",
      "400:\tlearn: 0.0143491\ttest: 0.1034707\tbest: 0.1034707 (400)\ttotal: 3.29s\tremaining: 4.92s\n",
      "500:\tlearn: 0.0094645\ttest: 0.0988917\tbest: 0.0988917 (500)\ttotal: 4.1s\tremaining: 4.08s\n",
      "600:\tlearn: 0.0068158\ttest: 0.0956670\tbest: 0.0952825 (577)\ttotal: 4.9s\tremaining: 3.25s\n",
      "700:\tlearn: 0.0052091\ttest: 0.0923589\tbest: 0.0923589 (700)\ttotal: 5.7s\tremaining: 2.43s\n",
      "800:\tlearn: 0.0042617\ttest: 0.0891180\tbest: 0.0891180 (800)\ttotal: 6.5s\tremaining: 1.61s\n",
      "Stopped by overfitting detector  (40 iterations wait)\n",
      "\n",
      "bestTest = 0.08903141659\n",
      "bestIteration = 803\n",
      "\n",
      "Shrink model to first 804 iterations.\n",
      "Learning rate set to 0.026623\n",
      "0:\tlearn: 0.6639685\ttest: 0.6675938\tbest: 0.6675938 (0)\ttotal: 8.84ms\tremaining: 8.83s\n",
      "100:\tlearn: 0.0966009\ttest: 0.2232625\tbest: 0.2232625 (100)\ttotal: 810ms\tremaining: 7.21s\n",
      "200:\tlearn: 0.0400339\ttest: 0.1963458\tbest: 0.1962260 (199)\ttotal: 1.62s\tremaining: 6.43s\n",
      "300:\tlearn: 0.0203409\ttest: 0.1821292\tbest: 0.1820633 (296)\ttotal: 2.42s\tremaining: 5.61s\n",
      "400:\tlearn: 0.0121352\ttest: 0.1778289\tbest: 0.1777488 (399)\ttotal: 3.22s\tremaining: 4.82s\n",
      "Stopped by overfitting detector  (40 iterations wait)\n",
      "\n",
      "bestTest = 0.1777037715\n",
      "bestIteration = 422\n",
      "\n",
      "Shrink model to first 423 iterations.\n",
      "Learning rate set to 0.02661\n",
      "0:\tlearn: 0.6732626\ttest: 0.6767785\tbest: 0.6767785 (0)\ttotal: 12.3ms\tremaining: 12.3s\n",
      "100:\tlearn: 0.1004395\ttest: 0.2277886\tbest: 0.2277886 (100)\ttotal: 836ms\tremaining: 7.44s\n",
      "200:\tlearn: 0.0410985\ttest: 0.1978980\tbest: 0.1978980 (200)\ttotal: 1.67s\tremaining: 6.65s\n",
      "300:\tlearn: 0.0209257\ttest: 0.1840968\tbest: 0.1836870 (293)\ttotal: 2.49s\tremaining: 5.78s\n",
      "400:\tlearn: 0.0112593\ttest: 0.1818971\tbest: 0.1808583 (382)\ttotal: 3.43s\tremaining: 5.13s\n",
      "Stopped by overfitting detector  (40 iterations wait)\n",
      "\n",
      "bestTest = 0.1808583496\n",
      "bestIteration = 382\n",
      "\n",
      "Shrink model to first 383 iterations.\n",
      "Learning rate set to 0.026623\n",
      "0:\tlearn: 0.6647664\ttest: 0.6672171\tbest: 0.6672171 (0)\ttotal: 12.2ms\tremaining: 12.2s\n",
      "100:\tlearn: 0.1064686\ttest: 0.2057343\tbest: 0.2057343 (100)\ttotal: 1.05s\tremaining: 9.35s\n",
      "200:\tlearn: 0.0453790\ttest: 0.1700236\tbest: 0.1700236 (200)\ttotal: 1.85s\tremaining: 7.36s\n",
      "300:\tlearn: 0.0233442\ttest: 0.1547804\tbest: 0.1544352 (298)\ttotal: 2.65s\tremaining: 6.16s\n",
      "400:\tlearn: 0.0140283\ttest: 0.1497491\tbest: 0.1494520 (374)\ttotal: 3.46s\tremaining: 5.16s\n",
      "Stopped by overfitting detector  (40 iterations wait)\n",
      "\n",
      "bestTest = 0.1494519523\n",
      "bestIteration = 374\n",
      "\n",
      "Shrink model to first 375 iterations.\n",
      "Learning rate set to 0.02661\n",
      "0:\tlearn: 0.6649654\ttest: 0.6644447\tbest: 0.6644447 (0)\ttotal: 9.83ms\tremaining: 9.82s\n",
      "100:\tlearn: 0.1076124\ttest: 0.2287639\tbest: 0.2283431 (98)\ttotal: 814ms\tremaining: 7.25s\n",
      "200:\tlearn: 0.0446048\ttest: 0.1988272\tbest: 0.1985434 (199)\ttotal: 1.62s\tremaining: 6.44s\n"
     ]
    },
    {
     "name": "stderr",
     "output_type": "stream",
     "text": [
      "\u001b[32m[I 2023-10-28 08:06:40,556]\u001b[0m Trial 2 finished with value: 0.3645940857907282 and parameters: {'max_depth': 4, 'reg_lambda': 0.781831749773062, 'learning_rate': 0.49734039135344815, 'min_child_samples': 7}. Best is trial 0 with value: 0.3645940857907282.\u001b[0m\n"
     ]
    },
    {
     "name": "stdout",
     "output_type": "stream",
     "text": [
      "300:\tlearn: 0.0218487\ttest: 0.1931048\tbest: 0.1908997 (267)\ttotal: 2.42s\tremaining: 5.63s\n",
      "Stopped by overfitting detector  (40 iterations wait)\n",
      "\n",
      "bestTest = 0.1908997058\n",
      "bestIteration = 267\n",
      "\n",
      "Shrink model to first 268 iterations.\n",
      "Learning rate set to 0.026623\n",
      "0:\tlearn: 0.6658456\ttest: 0.6657945\tbest: 0.6657945 (0)\ttotal: 8.19ms\tremaining: 8.18s\n",
      "100:\tlearn: 0.1123480\ttest: 0.1832610\tbest: 0.1832610 (100)\ttotal: 824ms\tremaining: 7.34s\n",
      "200:\tlearn: 0.0492788\ttest: 0.1381917\tbest: 0.1381917 (200)\ttotal: 1.71s\tremaining: 6.79s\n",
      "300:\tlearn: 0.0253975\ttest: 0.1166001\tbest: 0.1166001 (300)\ttotal: 2.51s\tremaining: 5.82s\n",
      "400:\tlearn: 0.0143491\ttest: 0.1034707\tbest: 0.1034707 (400)\ttotal: 3.31s\tremaining: 4.95s\n",
      "500:\tlearn: 0.0094645\ttest: 0.0988917\tbest: 0.0988917 (500)\ttotal: 4.12s\tremaining: 4.1s\n",
      "600:\tlearn: 0.0068158\ttest: 0.0956670\tbest: 0.0952825 (577)\ttotal: 4.92s\tremaining: 3.27s\n",
      "700:\tlearn: 0.0052091\ttest: 0.0923589\tbest: 0.0923589 (700)\ttotal: 5.72s\tremaining: 2.44s\n",
      "800:\tlearn: 0.0042617\ttest: 0.0891180\tbest: 0.0891180 (800)\ttotal: 6.53s\tremaining: 1.62s\n",
      "Stopped by overfitting detector  (40 iterations wait)\n",
      "\n",
      "bestTest = 0.08903141659\n",
      "bestIteration = 803\n",
      "\n",
      "Shrink model to first 804 iterations.\n",
      "Learning rate set to 0.026623\n",
      "0:\tlearn: 0.6639685\ttest: 0.6675938\tbest: 0.6675938 (0)\ttotal: 8.47ms\tremaining: 8.46s\n",
      "100:\tlearn: 0.0966009\ttest: 0.2232625\tbest: 0.2232625 (100)\ttotal: 820ms\tremaining: 7.3s\n",
      "200:\tlearn: 0.0400339\ttest: 0.1963458\tbest: 0.1962260 (199)\ttotal: 1.63s\tremaining: 6.49s\n",
      "300:\tlearn: 0.0203409\ttest: 0.1821292\tbest: 0.1820633 (296)\ttotal: 2.43s\tremaining: 5.65s\n",
      "400:\tlearn: 0.0121352\ttest: 0.1778289\tbest: 0.1777488 (399)\ttotal: 3.23s\tremaining: 4.83s\n",
      "Stopped by overfitting detector  (40 iterations wait)\n",
      "\n",
      "bestTest = 0.1777037715\n",
      "bestIteration = 422\n",
      "\n",
      "Shrink model to first 423 iterations.\n",
      "Learning rate set to 0.02661\n",
      "0:\tlearn: 0.6732626\ttest: 0.6767785\tbest: 0.6767785 (0)\ttotal: 8.3ms\tremaining: 8.29s\n",
      "100:\tlearn: 0.1004395\ttest: 0.2277886\tbest: 0.2277886 (100)\ttotal: 880ms\tremaining: 7.83s\n",
      "200:\tlearn: 0.0410985\ttest: 0.1978980\tbest: 0.1978980 (200)\ttotal: 1.69s\tremaining: 6.71s\n",
      "300:\tlearn: 0.0209257\ttest: 0.1840968\tbest: 0.1836870 (293)\ttotal: 2.5s\tremaining: 5.79s\n",
      "400:\tlearn: 0.0112593\ttest: 0.1818971\tbest: 0.1808583 (382)\ttotal: 3.31s\tremaining: 4.94s\n",
      "Stopped by overfitting detector  (40 iterations wait)\n",
      "\n",
      "bestTest = 0.1808583496\n",
      "bestIteration = 382\n",
      "\n",
      "Shrink model to first 383 iterations.\n",
      "Learning rate set to 0.026623\n",
      "0:\tlearn: 0.6647664\ttest: 0.6672171\tbest: 0.6672171 (0)\ttotal: 9.07ms\tremaining: 9.06s\n",
      "100:\tlearn: 0.1064686\ttest: 0.2057343\tbest: 0.2057343 (100)\ttotal: 819ms\tremaining: 7.29s\n",
      "200:\tlearn: 0.0453790\ttest: 0.1700236\tbest: 0.1700236 (200)\ttotal: 1.62s\tremaining: 6.44s\n",
      "300:\tlearn: 0.0233442\ttest: 0.1547804\tbest: 0.1544352 (298)\ttotal: 2.43s\tremaining: 5.64s\n",
      "400:\tlearn: 0.0140283\ttest: 0.1497491\tbest: 0.1494520 (374)\ttotal: 3.23s\tremaining: 4.83s\n",
      "Stopped by overfitting detector  (40 iterations wait)\n",
      "\n",
      "bestTest = 0.1494519523\n",
      "bestIteration = 374\n",
      "\n",
      "Shrink model to first 375 iterations.\n",
      "Learning rate set to 0.02661\n",
      "0:\tlearn: 0.6649654\ttest: 0.6644447\tbest: 0.6644447 (0)\ttotal: 8.89ms\tremaining: 8.88s\n",
      "100:\tlearn: 0.1076124\ttest: 0.2287639\tbest: 0.2283431 (98)\ttotal: 815ms\tremaining: 7.25s\n",
      "200:\tlearn: 0.0446048\ttest: 0.1988272\tbest: 0.1985434 (199)\ttotal: 1.62s\tremaining: 6.43s\n"
     ]
    },
    {
     "name": "stderr",
     "output_type": "stream",
     "text": [
      "\u001b[32m[I 2023-10-28 08:07:01,348]\u001b[0m Trial 3 finished with value: 0.3645940857907282 and parameters: {'max_depth': 5, 'reg_lambda': 0.4749091678430386, 'learning_rate': 0.47447050607351293, 'min_child_samples': 8}. Best is trial 0 with value: 0.3645940857907282.\u001b[0m\n"
     ]
    },
    {
     "name": "stdout",
     "output_type": "stream",
     "text": [
      "300:\tlearn: 0.0218487\ttest: 0.1931048\tbest: 0.1908997 (267)\ttotal: 2.44s\tremaining: 5.67s\n",
      "Stopped by overfitting detector  (40 iterations wait)\n",
      "\n",
      "bestTest = 0.1908997058\n",
      "bestIteration = 267\n",
      "\n",
      "Shrink model to first 268 iterations.\n",
      "Learning rate set to 0.026623\n",
      "0:\tlearn: 0.6658456\ttest: 0.6657945\tbest: 0.6657945 (0)\ttotal: 8.25ms\tremaining: 8.24s\n",
      "100:\tlearn: 0.1123480\ttest: 0.1832610\tbest: 0.1832610 (100)\ttotal: 884ms\tremaining: 7.86s\n",
      "200:\tlearn: 0.0492788\ttest: 0.1381917\tbest: 0.1381917 (200)\ttotal: 1.72s\tremaining: 6.82s\n",
      "300:\tlearn: 0.0253975\ttest: 0.1166001\tbest: 0.1166001 (300)\ttotal: 2.52s\tremaining: 5.86s\n",
      "400:\tlearn: 0.0143491\ttest: 0.1034707\tbest: 0.1034707 (400)\ttotal: 3.33s\tremaining: 4.97s\n",
      "500:\tlearn: 0.0094645\ttest: 0.0988917\tbest: 0.0988917 (500)\ttotal: 4.21s\tremaining: 4.19s\n",
      "600:\tlearn: 0.0068158\ttest: 0.0956670\tbest: 0.0952825 (577)\ttotal: 5.31s\tremaining: 3.52s\n",
      "700:\tlearn: 0.0052091\ttest: 0.0923589\tbest: 0.0923589 (700)\ttotal: 6.18s\tremaining: 2.63s\n",
      "800:\tlearn: 0.0042617\ttest: 0.0891180\tbest: 0.0891180 (800)\ttotal: 6.98s\tremaining: 1.73s\n",
      "Stopped by overfitting detector  (40 iterations wait)\n",
      "\n",
      "bestTest = 0.08903141659\n",
      "bestIteration = 803\n",
      "\n",
      "Shrink model to first 804 iterations.\n",
      "Learning rate set to 0.026623\n",
      "0:\tlearn: 0.6639685\ttest: 0.6675938\tbest: 0.6675938 (0)\ttotal: 8.63ms\tremaining: 8.62s\n",
      "100:\tlearn: 0.0966009\ttest: 0.2232625\tbest: 0.2232625 (100)\ttotal: 813ms\tremaining: 7.23s\n",
      "200:\tlearn: 0.0400339\ttest: 0.1963458\tbest: 0.1962260 (199)\ttotal: 1.61s\tremaining: 6.41s\n",
      "300:\tlearn: 0.0203409\ttest: 0.1821292\tbest: 0.1820633 (296)\ttotal: 2.42s\tremaining: 5.62s\n",
      "400:\tlearn: 0.0121352\ttest: 0.1778289\tbest: 0.1777488 (399)\ttotal: 3.28s\tremaining: 4.89s\n",
      "Stopped by overfitting detector  (40 iterations wait)\n",
      "\n",
      "bestTest = 0.1777037715\n",
      "bestIteration = 422\n",
      "\n",
      "Shrink model to first 423 iterations.\n",
      "Learning rate set to 0.02661\n",
      "0:\tlearn: 0.6732626\ttest: 0.6767785\tbest: 0.6767785 (0)\ttotal: 8.31ms\tremaining: 8.3s\n",
      "100:\tlearn: 0.1004395\ttest: 0.2277886\tbest: 0.2277886 (100)\ttotal: 821ms\tremaining: 7.31s\n",
      "200:\tlearn: 0.0410985\ttest: 0.1978980\tbest: 0.1978980 (200)\ttotal: 1.63s\tremaining: 6.46s\n",
      "300:\tlearn: 0.0209257\ttest: 0.1840968\tbest: 0.1836870 (293)\ttotal: 2.43s\tremaining: 5.64s\n",
      "400:\tlearn: 0.0112593\ttest: 0.1818971\tbest: 0.1808583 (382)\ttotal: 3.23s\tremaining: 4.83s\n",
      "Stopped by overfitting detector  (40 iterations wait)\n",
      "\n",
      "bestTest = 0.1808583496\n",
      "bestIteration = 382\n",
      "\n",
      "Shrink model to first 383 iterations.\n",
      "Learning rate set to 0.026623\n",
      "0:\tlearn: 0.6647664\ttest: 0.6672171\tbest: 0.6672171 (0)\ttotal: 8.15ms\tremaining: 8.14s\n",
      "100:\tlearn: 0.1064686\ttest: 0.2057343\tbest: 0.2057343 (100)\ttotal: 814ms\tremaining: 7.25s\n",
      "200:\tlearn: 0.0453790\ttest: 0.1700236\tbest: 0.1700236 (200)\ttotal: 1.63s\tremaining: 6.46s\n",
      "300:\tlearn: 0.0233442\ttest: 0.1547804\tbest: 0.1544352 (298)\ttotal: 2.43s\tremaining: 5.64s\n",
      "400:\tlearn: 0.0140283\ttest: 0.1497491\tbest: 0.1494520 (374)\ttotal: 3.25s\tremaining: 4.85s\n",
      "Stopped by overfitting detector  (40 iterations wait)\n",
      "\n",
      "bestTest = 0.1494519523\n",
      "bestIteration = 374\n",
      "\n",
      "Shrink model to first 375 iterations.\n",
      "Learning rate set to 0.02661\n",
      "0:\tlearn: 0.6649654\ttest: 0.6644447\tbest: 0.6644447 (0)\ttotal: 9.77ms\tremaining: 9.76s\n",
      "100:\tlearn: 0.1076124\ttest: 0.2287639\tbest: 0.2283431 (98)\ttotal: 812ms\tremaining: 7.23s\n",
      "200:\tlearn: 0.0446048\ttest: 0.1988272\tbest: 0.1985434 (199)\ttotal: 1.62s\tremaining: 6.43s\n"
     ]
    },
    {
     "name": "stderr",
     "output_type": "stream",
     "text": [
      "\u001b[32m[I 2023-10-28 08:07:22,615]\u001b[0m Trial 4 finished with value: 0.3645940857907282 and parameters: {'max_depth': 8, 'reg_lambda': 0.7758913929011702, 'learning_rate': 0.07670346153225255, 'min_child_samples': 5}. Best is trial 0 with value: 0.3645940857907282.\u001b[0m\n"
     ]
    },
    {
     "name": "stdout",
     "output_type": "stream",
     "text": [
      "300:\tlearn: 0.0218487\ttest: 0.1931048\tbest: 0.1908997 (267)\ttotal: 2.5s\tremaining: 5.82s\n",
      "Stopped by overfitting detector  (40 iterations wait)\n",
      "\n",
      "bestTest = 0.1908997058\n",
      "bestIteration = 267\n",
      "\n",
      "Shrink model to first 268 iterations.\n",
      "Value:  0.3645940857907282\n"
     ]
    },
    {
     "data": {
      "text/plain": [
       "{'max_depth': 6,\n",
       " 'reg_lambda': 0.5633452570338364,\n",
       " 'learning_rate': 0.47579621420884,\n",
       " 'min_child_samples': 3}"
      ]
     },
     "execution_count": 8,
     "metadata": {},
     "output_type": "execute_result"
    }
   ],
   "source": [
    "cb_models, cb_val_output, cb_imp_df = treemodel.cv_execute(\"cb\")\n",
    "cb_test_output = treemodel.cb_test(cb_models, \"cb\", config[\"test_data\"])\n",
    "   \n",
    "cb_best_params = treemodel.param_tuning(\"cb\")\n",
    "cb_best_params"
   ]
  },
  {
   "cell_type": "code",
   "execution_count": null,
   "id": "2dca5c62",
   "metadata": {
    "papermill": {
     "duration": 0.030805,
     "end_time": "2023-10-28T08:07:22.689260",
     "exception": false,
     "start_time": "2023-10-28T08:07:22.658455",
     "status": "completed"
    },
    "tags": []
   },
   "outputs": [],
   "source": []
  }
 ],
 "metadata": {
  "kernelspec": {
   "display_name": "Python 3",
   "language": "python",
   "name": "python3"
  },
  "language_info": {
   "codemirror_mode": {
    "name": "ipython",
    "version": 3
   },
   "file_extension": ".py",
   "mimetype": "text/x-python",
   "name": "python",
   "nbconvert_exporter": "python",
   "pygments_lexer": "ipython3",
   "version": "3.10.10"
  },
  "papermill": {
   "default_parameters": {},
   "duration": 169.004793,
   "end_time": "2023-10-28T08:07:23.945099",
   "environment_variables": {},
   "exception": null,
   "input_path": "__notebook__.ipynb",
   "output_path": "__notebook__.ipynb",
   "parameters": {},
   "start_time": "2023-10-28T08:04:34.940306",
   "version": "2.4.0"
  }
 },
 "nbformat": 4,
 "nbformat_minor": 5
}
