{
 "cells": [
  {
   "cell_type": "markdown",
   "metadata": {
    "papermill": {
     "duration": 0.011753,
     "end_time": "2020-12-05T01:09:45.330461",
     "exception": false,
     "start_time": "2020-12-05T01:09:45.318708",
     "status": "completed"
    },
    "tags": []
   },
   "source": [
    "# how to use tabnet\n",
    "- データセットはGBDTと同じように準備\n",
    "- 欠損値は受け入れないので、補完が必要\n",
    "- custom metricを調整して各タスクに最適な目的関数を定める\n",
    "- modelのparametersを設定する\n",
    "\n",
    "- https://github.com/dreamquark-ai/tabnet"
   ]
  },
  {
   "cell_type": "code",
   "execution_count": 1,
   "metadata": {
    "execution": {
     "iopub.execute_input": "2020-12-05T01:09:45.359692Z",
     "iopub.status.busy": "2020-12-05T01:09:45.358723Z",
     "iopub.status.idle": "2020-12-05T01:09:57.635923Z",
     "shell.execute_reply": "2020-12-05T01:09:57.634960Z"
    },
    "papermill": {
     "duration": 12.294745,
     "end_time": "2020-12-05T01:09:57.636092",
     "exception": false,
     "start_time": "2020-12-05T01:09:45.341347",
     "status": "completed"
    },
    "tags": []
   },
   "outputs": [
    {
     "name": "stdout",
     "output_type": "stream",
     "text": [
      "Collecting pytorch-tabnet\r\n",
      "  Downloading pytorch_tabnet-2.0.1-py3-none-any.whl (30 kB)\r\n",
      "Requirement already satisfied: numpy<2.0,>=1.17 in /opt/conda/lib/python3.7/site-packages (from pytorch-tabnet) (1.18.5)\r\n",
      "Requirement already satisfied: tqdm<5.0,>=4.36 in /opt/conda/lib/python3.7/site-packages (from pytorch-tabnet) (4.45.0)\r\n",
      "Requirement already satisfied: scipy>1.4 in /opt/conda/lib/python3.7/site-packages (from pytorch-tabnet) (1.4.1)\r\n",
      "Requirement already satisfied: scikit_learn>0.21 in /opt/conda/lib/python3.7/site-packages (from pytorch-tabnet) (0.23.2)\r\n",
      "Requirement already satisfied: torch<2.0,>=1.2 in /opt/conda/lib/python3.7/site-packages (from pytorch-tabnet) (1.7.0)\r\n",
      "Requirement already satisfied: numpy<2.0,>=1.17 in /opt/conda/lib/python3.7/site-packages (from pytorch-tabnet) (1.18.5)\r\n",
      "Requirement already satisfied: joblib>=0.11 in /opt/conda/lib/python3.7/site-packages (from scikit_learn>0.21->pytorch-tabnet) (0.14.1)\r\n",
      "Requirement already satisfied: threadpoolctl>=2.0.0 in /opt/conda/lib/python3.7/site-packages (from scikit_learn>0.21->pytorch-tabnet) (2.1.0)\r\n",
      "Requirement already satisfied: scipy>1.4 in /opt/conda/lib/python3.7/site-packages (from pytorch-tabnet) (1.4.1)\r\n",
      "Requirement already satisfied: numpy<2.0,>=1.17 in /opt/conda/lib/python3.7/site-packages (from pytorch-tabnet) (1.18.5)\r\n",
      "Requirement already satisfied: future in /opt/conda/lib/python3.7/site-packages (from torch<2.0,>=1.2->pytorch-tabnet) (0.18.2)\r\n",
      "Requirement already satisfied: typing_extensions in /opt/conda/lib/python3.7/site-packages (from torch<2.0,>=1.2->pytorch-tabnet) (3.7.4.1)\r\n",
      "Requirement already satisfied: dataclasses in /opt/conda/lib/python3.7/site-packages (from torch<2.0,>=1.2->pytorch-tabnet) (0.6)\r\n",
      "Requirement already satisfied: numpy<2.0,>=1.17 in /opt/conda/lib/python3.7/site-packages (from pytorch-tabnet) (1.18.5)\r\n",
      "Installing collected packages: pytorch-tabnet\r\n",
      "Successfully installed pytorch-tabnet-2.0.1\r\n"
     ]
    }
   ],
   "source": [
    "!pip install pytorch-tabnet"
   ]
  },
  {
   "cell_type": "code",
   "execution_count": 2,
   "metadata": {
    "_cell_guid": "b1076dfc-b9ad-4769-8c92-a6c4dae69d19",
    "_uuid": "8f2839f25d086af736a60e9eeb907d3b93b6e0e5",
    "execution": {
     "iopub.execute_input": "2020-12-05T01:09:57.673497Z",
     "iopub.status.busy": "2020-12-05T01:09:57.672575Z",
     "iopub.status.idle": "2020-12-05T01:10:00.528918Z",
     "shell.execute_reply": "2020-12-05T01:10:00.527905Z"
    },
    "papermill": {
     "duration": 2.878861,
     "end_time": "2020-12-05T01:10:00.529092",
     "exception": false,
     "start_time": "2020-12-05T01:09:57.650231",
     "status": "completed"
    },
    "tags": []
   },
   "outputs": [],
   "source": [
    "import os\n",
    "import numpy as np \n",
    "import pandas as pd \n",
    "\n",
    "import torch\n",
    "import random\n",
    "from pytorch_tabnet.metrics import Metric\n",
    "from pytorch_tabnet.tab_model import TabNetRegressor, TabNetClassifier\n",
    "\n",
    "from sklearn.model_selection import StratifiedKFold\n",
    "from sklearn.metrics import log_loss, accuracy_score"
   ]
  },
  {
   "cell_type": "code",
   "execution_count": 3,
   "metadata": {
    "_cell_guid": "79c7e3d0-c299-4dcb-8224-4455121ee9b0",
    "_uuid": "d629ff2d2480ee46fbb7e2d37f6b5fab8052498a",
    "execution": {
     "iopub.execute_input": "2020-12-05T01:10:00.565544Z",
     "iopub.status.busy": "2020-12-05T01:10:00.564599Z",
     "iopub.status.idle": "2020-12-05T01:10:00.610204Z",
     "shell.execute_reply": "2020-12-05T01:10:00.609393Z"
    },
    "papermill": {
     "duration": 0.067194,
     "end_time": "2020-12-05T01:10:00.610362",
     "exception": false,
     "start_time": "2020-12-05T01:10:00.543168",
     "status": "completed"
    },
    "tags": []
   },
   "outputs": [],
   "source": [
    "train = pd.read_csv(\"/kaggle/input/titanic/train.csv\")\n",
    "test = pd.read_csv(\"/kaggle/input/titanic/test.csv\")\n",
    "sub = pd.read_csv(\"/kaggle/input/titanic/gender_submission.csv\")"
   ]
  },
  {
   "cell_type": "code",
   "execution_count": 4,
   "metadata": {
    "execution": {
     "iopub.execute_input": "2020-12-05T01:10:00.664666Z",
     "iopub.status.busy": "2020-12-05T01:10:00.663849Z",
     "iopub.status.idle": "2020-12-05T01:10:00.679639Z",
     "shell.execute_reply": "2020-12-05T01:10:00.680263Z"
    },
    "papermill": {
     "duration": 0.056686,
     "end_time": "2020-12-05T01:10:00.680443",
     "exception": false,
     "start_time": "2020-12-05T01:10:00.623757",
     "status": "completed"
    },
    "tags": []
   },
   "outputs": [
    {
     "data": {
      "text/html": [
       "<div>\n",
       "<style scoped>\n",
       "    .dataframe tbody tr th:only-of-type {\n",
       "        vertical-align: middle;\n",
       "    }\n",
       "\n",
       "    .dataframe tbody tr th {\n",
       "        vertical-align: top;\n",
       "    }\n",
       "\n",
       "    .dataframe thead th {\n",
       "        text-align: right;\n",
       "    }\n",
       "</style>\n",
       "<table border=\"1\" class=\"dataframe\">\n",
       "  <thead>\n",
       "    <tr style=\"text-align: right;\">\n",
       "      <th></th>\n",
       "      <th>PassengerId</th>\n",
       "      <th>Survived</th>\n",
       "      <th>Pclass</th>\n",
       "      <th>Name</th>\n",
       "      <th>Sex</th>\n",
       "      <th>Age</th>\n",
       "      <th>SibSp</th>\n",
       "      <th>Parch</th>\n",
       "      <th>Ticket</th>\n",
       "      <th>Fare</th>\n",
       "      <th>Cabin</th>\n",
       "      <th>Embarked</th>\n",
       "    </tr>\n",
       "  </thead>\n",
       "  <tbody>\n",
       "    <tr>\n",
       "      <th>0</th>\n",
       "      <td>1</td>\n",
       "      <td>0</td>\n",
       "      <td>3</td>\n",
       "      <td>Braund, Mr. Owen Harris</td>\n",
       "      <td>male</td>\n",
       "      <td>22.0</td>\n",
       "      <td>1</td>\n",
       "      <td>0</td>\n",
       "      <td>A/5 21171</td>\n",
       "      <td>7.2500</td>\n",
       "      <td>NaN</td>\n",
       "      <td>S</td>\n",
       "    </tr>\n",
       "    <tr>\n",
       "      <th>1</th>\n",
       "      <td>2</td>\n",
       "      <td>1</td>\n",
       "      <td>1</td>\n",
       "      <td>Cumings, Mrs. John Bradley (Florence Briggs Th...</td>\n",
       "      <td>female</td>\n",
       "      <td>38.0</td>\n",
       "      <td>1</td>\n",
       "      <td>0</td>\n",
       "      <td>PC 17599</td>\n",
       "      <td>71.2833</td>\n",
       "      <td>C85</td>\n",
       "      <td>C</td>\n",
       "    </tr>\n",
       "    <tr>\n",
       "      <th>2</th>\n",
       "      <td>3</td>\n",
       "      <td>1</td>\n",
       "      <td>3</td>\n",
       "      <td>Heikkinen, Miss. Laina</td>\n",
       "      <td>female</td>\n",
       "      <td>26.0</td>\n",
       "      <td>0</td>\n",
       "      <td>0</td>\n",
       "      <td>STON/O2. 3101282</td>\n",
       "      <td>7.9250</td>\n",
       "      <td>NaN</td>\n",
       "      <td>S</td>\n",
       "    </tr>\n",
       "    <tr>\n",
       "      <th>3</th>\n",
       "      <td>4</td>\n",
       "      <td>1</td>\n",
       "      <td>1</td>\n",
       "      <td>Futrelle, Mrs. Jacques Heath (Lily May Peel)</td>\n",
       "      <td>female</td>\n",
       "      <td>35.0</td>\n",
       "      <td>1</td>\n",
       "      <td>0</td>\n",
       "      <td>113803</td>\n",
       "      <td>53.1000</td>\n",
       "      <td>C123</td>\n",
       "      <td>S</td>\n",
       "    </tr>\n",
       "    <tr>\n",
       "      <th>4</th>\n",
       "      <td>5</td>\n",
       "      <td>0</td>\n",
       "      <td>3</td>\n",
       "      <td>Allen, Mr. William Henry</td>\n",
       "      <td>male</td>\n",
       "      <td>35.0</td>\n",
       "      <td>0</td>\n",
       "      <td>0</td>\n",
       "      <td>373450</td>\n",
       "      <td>8.0500</td>\n",
       "      <td>NaN</td>\n",
       "      <td>S</td>\n",
       "    </tr>\n",
       "  </tbody>\n",
       "</table>\n",
       "</div>"
      ],
      "text/plain": [
       "   PassengerId  Survived  Pclass  \\\n",
       "0            1         0       3   \n",
       "1            2         1       1   \n",
       "2            3         1       3   \n",
       "3            4         1       1   \n",
       "4            5         0       3   \n",
       "\n",
       "                                                Name     Sex   Age  SibSp  \\\n",
       "0                            Braund, Mr. Owen Harris    male  22.0      1   \n",
       "1  Cumings, Mrs. John Bradley (Florence Briggs Th...  female  38.0      1   \n",
       "2                             Heikkinen, Miss. Laina  female  26.0      0   \n",
       "3       Futrelle, Mrs. Jacques Heath (Lily May Peel)  female  35.0      1   \n",
       "4                           Allen, Mr. William Henry    male  35.0      0   \n",
       "\n",
       "   Parch            Ticket     Fare Cabin Embarked  \n",
       "0      0         A/5 21171   7.2500   NaN        S  \n",
       "1      0          PC 17599  71.2833   C85        C  \n",
       "2      0  STON/O2. 3101282   7.9250   NaN        S  \n",
       "3      0            113803  53.1000  C123        S  \n",
       "4      0            373450   8.0500   NaN        S  "
      ]
     },
     "execution_count": 4,
     "metadata": {},
     "output_type": "execute_result"
    }
   ],
   "source": [
    "train.head()"
   ]
  },
  {
   "cell_type": "code",
   "execution_count": 5,
   "metadata": {
    "execution": {
     "iopub.execute_input": "2020-12-05T01:10:00.722032Z",
     "iopub.status.busy": "2020-12-05T01:10:00.720878Z",
     "iopub.status.idle": "2020-12-05T01:10:00.724653Z",
     "shell.execute_reply": "2020-12-05T01:10:00.724057Z"
    },
    "papermill": {
     "duration": 0.029887,
     "end_time": "2020-12-05T01:10:00.724816",
     "exception": false,
     "start_time": "2020-12-05T01:10:00.694929",
     "status": "completed"
    },
    "tags": []
   },
   "outputs": [],
   "source": [
    "target = \"Survived\"\n",
    "feature = [\"Pclass\", \"Age\", \"SibSp\", \"Parch\", \"Fare\"]\n",
    "X_train = train[feature]\n",
    "y_train = train[target]\n",
    "X_train = X_train.fillna(-1) \n",
    "\n",
    "X_test = test[feature]\n",
    "X_test = X_test.fillna(-1)"
   ]
  },
  {
   "cell_type": "code",
   "execution_count": 6,
   "metadata": {
    "execution": {
     "iopub.execute_input": "2020-12-05T01:10:00.762632Z",
     "iopub.status.busy": "2020-12-05T01:10:00.761502Z",
     "iopub.status.idle": "2020-12-05T01:10:00.765233Z",
     "shell.execute_reply": "2020-12-05T01:10:00.764614Z"
    },
    "papermill": {
     "duration": 0.025624,
     "end_time": "2020-12-05T01:10:00.765380",
     "exception": false,
     "start_time": "2020-12-05T01:10:00.739756",
     "status": "completed"
    },
    "tags": []
   },
   "outputs": [],
   "source": [
    "fn_train = X_train.to_numpy()\n",
    "fn_targets = y_train.to_numpy().reshape(-1,1)\n",
    "fn_test = X_test.to_numpy()"
   ]
  },
  {
   "cell_type": "markdown",
   "metadata": {
    "papermill": {
     "duration": 0.014152,
     "end_time": "2020-12-05T01:10:00.794203",
     "exception": false,
     "start_time": "2020-12-05T01:10:00.780051",
     "status": "completed"
    },
    "tags": []
   },
   "source": [
    "# custom metric"
   ]
  },
  {
   "cell_type": "code",
   "execution_count": 7,
   "metadata": {
    "execution": {
     "iopub.execute_input": "2020-12-05T01:10:00.837342Z",
     "iopub.status.busy": "2020-12-05T01:10:00.836305Z",
     "iopub.status.idle": "2020-12-05T01:10:00.839760Z",
     "shell.execute_reply": "2020-12-05T01:10:00.839001Z"
    },
    "papermill": {
     "duration": 0.031153,
     "end_time": "2020-12-05T01:10:00.839922",
     "exception": false,
     "start_time": "2020-12-05T01:10:00.808769",
     "status": "completed"
    },
    "tags": []
   },
   "outputs": [],
   "source": [
    "class LogitsLogLoss(Metric):\n",
    "    def __init__(self):\n",
    "        self._name = \"logits_ll\"\n",
    "        self._maximize = False\n",
    "\n",
    "    def __call__(self, y_true, y_pred):\n",
    "\n",
    "        logits = 1 / (1 + np.exp(-y_pred))\n",
    "        \n",
    "        aux = (1-y_true)*np.log(1-logits+1e-15) + y_true*np.log(logits+1e-15)\n",
    "        return np.mean(-aux)\n",
    "    \n",
    "class Accuracy(Metric):\n",
    "    def __init__(self):\n",
    "        self._name = \"accuracy_ll\"\n",
    "        self._maximize = True\n",
    "\n",
    "    def __call__(self, y_true, y_pred):\n",
    "\n",
    "        y_pred[y_pred >= 0.5 ] = 1\n",
    "        y_pred[y_pred < 0.5 ] = 0\n",
    "        return accuracy_score(y_true, y_pred)"
   ]
  },
  {
   "cell_type": "code",
   "execution_count": 8,
   "metadata": {
    "execution": {
     "iopub.execute_input": "2020-12-05T01:10:00.907841Z",
     "iopub.status.busy": "2020-12-05T01:10:00.886058Z",
     "iopub.status.idle": "2020-12-05T01:10:42.775951Z",
     "shell.execute_reply": "2020-12-05T01:10:42.774486Z"
    },
    "papermill": {
     "duration": 41.921147,
     "end_time": "2020-12-05T01:10:42.776115",
     "exception": false,
     "start_time": "2020-12-05T01:10:00.854968",
     "status": "completed"
    },
    "tags": []
   },
   "outputs": [
    {
     "name": "stdout",
     "output_type": "stream",
     "text": [
      "FOLDS :  1\n",
      "Device used : cpu\n",
      "epoch 0  | loss: 0.79825 | val_logits_ll: 3.89767 |  0:00:00s\n",
      "epoch 10 | loss: 0.57874 | val_logits_ll: 0.95585 |  0:00:02s\n",
      "epoch 20 | loss: 0.5617  | val_logits_ll: 1.4734  |  0:00:03s\n",
      "epoch 30 | loss: 0.53694 | val_logits_ll: 1.26734 |  0:00:05s\n",
      "\n",
      "Early stopping occured at epoch 33 with best_epoch = 13 and best_val_logits_ll = 0.68922\n",
      "Best weights from best epoch are automatically used!\n",
      "FOLDS :  2\n",
      "Device used : cpu\n",
      "epoch 0  | loss: 0.79041 | val_logits_ll: 4.67615 |  0:00:00s\n",
      "epoch 10 | loss: 0.56846 | val_logits_ll: 0.79109 |  0:00:01s\n",
      "epoch 20 | loss: 0.54085 | val_logits_ll: 1.02012 |  0:00:03s\n",
      "epoch 30 | loss: 0.52202 | val_logits_ll: 1.20442 |  0:00:05s\n",
      "\n",
      "Early stopping occured at epoch 31 with best_epoch = 11 and best_val_logits_ll = 0.75348\n",
      "Best weights from best epoch are automatically used!\n",
      "FOLDS :  3\n",
      "Device used : cpu\n",
      "epoch 0  | loss: 0.78053 | val_logits_ll: 6.50363 |  0:00:00s\n",
      "epoch 10 | loss: 0.55581 | val_logits_ll: 0.88196 |  0:00:01s\n",
      "epoch 20 | loss: 0.5321  | val_logits_ll: 1.56838 |  0:00:03s\n",
      "\n",
      "Early stopping occured at epoch 27 with best_epoch = 7 and best_val_logits_ll = 0.71371\n",
      "Best weights from best epoch are automatically used!\n",
      "FOLDS :  4\n",
      "Device used : cpu\n",
      "epoch 0  | loss: 0.79644 | val_logits_ll: 2.59568 |  0:00:00s\n",
      "epoch 10 | loss: 0.56327 | val_logits_ll: 1.38896 |  0:00:02s\n",
      "epoch 20 | loss: 0.54814 | val_logits_ll: 1.30921 |  0:00:04s\n",
      "\n",
      "Early stopping occured at epoch 22 with best_epoch = 2 and best_val_logits_ll = 0.88338\n",
      "Best weights from best epoch are automatically used!\n",
      "FOLDS :  5\n",
      "Device used : cpu\n",
      "epoch 0  | loss: 0.78161 | val_logits_ll: 4.23839 |  0:00:00s\n",
      "epoch 10 | loss: 0.55057 | val_logits_ll: 0.85054 |  0:00:02s\n",
      "epoch 20 | loss: 0.52657 | val_logits_ll: 0.99043 |  0:00:03s\n",
      "epoch 30 | loss: 0.50775 | val_logits_ll: 0.83951 |  0:00:05s\n",
      "epoch 40 | loss: 0.50226 | val_logits_ll: 0.77237 |  0:00:07s\n",
      "epoch 50 | loss: 0.49171 | val_logits_ll: 0.77161 |  0:00:09s\n",
      "epoch 60 | loss: 0.49191 | val_logits_ll: 0.77534 |  0:00:11s\n",
      "epoch 70 | loss: 0.4822  | val_logits_ll: 0.73249 |  0:00:13s\n",
      "epoch 80 | loss: 0.49112 | val_logits_ll: 0.70644 |  0:00:15s\n",
      "epoch 90 | loss: 0.46826 | val_logits_ll: 0.75372 |  0:00:17s\n",
      "epoch 100| loss: 0.49182 | val_logits_ll: 0.74581 |  0:00:18s\n",
      "\n",
      "Early stopping occured at epoch 105 with best_epoch = 85 and best_val_logits_ll = 0.70246\n",
      "Best weights from best epoch are automatically used!\n",
      "OOF log loss: 0.7483853621782847\n",
      "OOF Accurcy: 0.67003367003367\n"
     ]
    }
   ],
   "source": [
    "MAX_EPOCH=200\n",
    "device = \"cuda\" if torch.cuda.is_available() else \"cpu\"\n",
    "\n",
    "def seed_everything(seed_value):\n",
    "    random.seed(seed_value)\n",
    "    np.random.seed(seed_value)\n",
    "    torch.manual_seed(seed_value)\n",
    "    os.environ['PYTHONHASHSEED'] = str(seed_value)\n",
    "    \n",
    "    if torch.cuda.is_available(): \n",
    "        torch.cuda.manual_seed(seed_value)\n",
    "        torch.cuda.manual_seed_all(seed_value)\n",
    "        torch.backends.cudnn.deterministic = True\n",
    "        torch.backends.cudnn.benchmark = False\n",
    "\n",
    "def modelling_tabnet(tr, target, te, sample_seed):\n",
    "    seed_everything(sample_seed) \n",
    "    tabnet_params = dict(n_d=12, n_a=12, n_steps=1, gamma=1.3, seed = sample_seed,\n",
    "                     lambda_sparse=0, optimizer_fn=torch.optim.Adam,\n",
    "                     optimizer_params=dict(lr=2e-2, weight_decay=1e-5),\n",
    "                     mask_type='entmax',\n",
    "                     scheduler_params=dict(mode=\"min\",\n",
    "                                           patience=5,\n",
    "                                           min_lr=1e-5,\n",
    "                                           factor=0.9,),\n",
    "                     scheduler_fn=torch.optim.lr_scheduler.ReduceLROnPlateau,\n",
    "                     verbose=10,\n",
    "                     )\n",
    "    test_cv_preds = []\n",
    "\n",
    "    oof_preds = np.zeros([len(tr),1])\n",
    "    scores = []\n",
    "    NB_SPLITS = 5\n",
    "    mskf = StratifiedKFold(n_splits=NB_SPLITS, random_state=0, shuffle=True)\n",
    "    for fold_nb, (train_idx, val_idx) in enumerate(mskf.split(train, target)):\n",
    "        print(\"FOLDS : \", fold_nb+1)\n",
    "\n",
    "        ## model\n",
    "        X_train, y_train = tr[train_idx, :], target[train_idx]\n",
    "        X_val, y_val = tr[val_idx, :], target[val_idx]\n",
    "        model = TabNetRegressor(**tabnet_params)\n",
    "    \n",
    "        model.fit(X_train=X_train,\n",
    "              y_train=y_train,\n",
    "              eval_set=[(X_val, y_val)],\n",
    "              eval_name = [\"val\"],\n",
    "              eval_metric = [\"logits_ll\"],\n",
    "              max_epochs=MAX_EPOCH,\n",
    "              patience=20, batch_size=1024, virtual_batch_size=128,\n",
    "              num_workers=1, drop_last=False,\n",
    "              # use binary cross entropy as this is not a regression problem\n",
    "              loss_fn=torch.nn.functional.binary_cross_entropy_with_logits)\n",
    "    \n",
    "        preds_val = model.predict(X_val)\n",
    "        # Apply sigmoid to the predictions\n",
    "        preds =  1 / (1 + np.exp(-preds_val))\n",
    "        score = np.min(model.history[\"val_logits_ll\"])\n",
    "        oof_preds[val_idx] = preds\n",
    "        scores.append(score)\n",
    "\n",
    "        # preds on test\n",
    "        preds_test = model.predict(te)\n",
    "        test_cv_preds.append(1 / (1 + np.exp(-preds_test)))\n",
    "        \n",
    "    test_preds_all = np.stack(test_cv_preds)\n",
    "    print(\"OOF log loss:\", log_loss(np.ravel(target), np.ravel(np.array(oof_preds))))\n",
    "    mod_oof_preds = oof_preds.copy()\n",
    "    mod_oof_preds[mod_oof_preds >= 0.5 ] = 1\n",
    "    mod_oof_preds[mod_oof_preds < 0.5 ] = 0\n",
    "    print(\"OOF Accurcy:\", accuracy_score(np.ravel(target), np.ravel(np.array(mod_oof_preds))))\n",
    "    return oof_preds, test_preds_all\n",
    "\n",
    "target_oof = np.zeros([len(fn_train),1])\n",
    "target_pred = np.zeros([len(fn_test),1])\n",
    "\n",
    "seeds = [0]\n",
    "for seed_ in seeds:\n",
    "    oof_preds, test_preds_all = modelling_tabnet(fn_train, fn_targets, fn_test, seed_)\n",
    "    target_oof += oof_preds / len(seeds)\n",
    "    target_pred += test_preds_all.mean(axis=0) / len(seeds)"
   ]
  },
  {
   "cell_type": "code",
   "execution_count": 9,
   "metadata": {
    "execution": {
     "iopub.execute_input": "2020-12-05T01:10:42.843218Z",
     "iopub.status.busy": "2020-12-05T01:10:42.842241Z",
     "iopub.status.idle": "2020-12-05T01:10:43.190052Z",
     "shell.execute_reply": "2020-12-05T01:10:43.189309Z"
    },
    "papermill": {
     "duration": 0.384881,
     "end_time": "2020-12-05T01:10:43.190222",
     "exception": false,
     "start_time": "2020-12-05T01:10:42.805341",
     "status": "completed"
    },
    "tags": []
   },
   "outputs": [],
   "source": [
    "sub[target] = target_pred\n",
    "sub.to_csv(\"submission.csv\", index=False)"
   ]
  },
  {
   "cell_type": "code",
   "execution_count": null,
   "metadata": {
    "papermill": {
     "duration": 0.029827,
     "end_time": "2020-12-05T01:10:43.250016",
     "exception": false,
     "start_time": "2020-12-05T01:10:43.220189",
     "status": "completed"
    },
    "tags": []
   },
   "outputs": [],
   "source": []
  }
 ],
 "metadata": {
  "kernelspec": {
   "display_name": "Python 3",
   "language": "python",
   "name": "python3"
  },
  "language_info": {
   "codemirror_mode": {
    "name": "ipython",
    "version": 3
   },
   "file_extension": ".py",
   "mimetype": "text/x-python",
   "name": "python",
   "nbconvert_exporter": "python",
   "pygments_lexer": "ipython3",
   "version": "3.7.6"
  },
  "papermill": {
   "duration": 63.975794,
   "end_time": "2020-12-05T01:10:43.389855",
   "environment_variables": {},
   "exception": null,
   "input_path": "__notebook__.ipynb",
   "output_path": "__notebook__.ipynb",
   "parameters": {},
   "start_time": "2020-12-05T01:09:39.414061",
   "version": "2.1.0"
  }
 },
 "nbformat": 4,
 "nbformat_minor": 4
}
