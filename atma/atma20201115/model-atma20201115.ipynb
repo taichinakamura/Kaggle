{
 "cells": [
  {
   "cell_type": "markdown",
   "metadata": {
    "papermill": {
     "duration": 0.032924,
     "end_time": "2020-11-20T13:50:46.742927",
     "exception": false,
     "start_time": "2020-11-20T13:50:46.710003",
     "status": "completed"
    },
    "tags": []
   },
   "source": [
    "- popular feats again\n",
    "- modify crucial mistake in producing output\n",
    "- lgb only to check performance"
   ]
  },
  {
   "cell_type": "code",
   "execution_count": 1,
   "metadata": {
    "_cell_guid": "b1076dfc-b9ad-4769-8c92-a6c4dae69d19",
    "_uuid": "8f2839f25d086af736a60e9eeb907d3b93b6e0e5",
    "execution": {
     "iopub.execute_input": "2020-11-20T13:50:46.815151Z",
     "iopub.status.busy": "2020-11-20T13:50:46.814296Z",
     "iopub.status.idle": "2020-11-20T13:50:49.274339Z",
     "shell.execute_reply": "2020-11-20T13:50:49.273523Z"
    },
    "papermill": {
     "duration": 2.499606,
     "end_time": "2020-11-20T13:50:49.274511",
     "exception": false,
     "start_time": "2020-11-20T13:50:46.774905",
     "status": "completed"
    },
    "tags": []
   },
   "outputs": [],
   "source": [
    "import os\n",
    "import warnings\n",
    "import numpy as np\n",
    "import pandas as pd\n",
    "import xgboost as xgb\n",
    "import lightgbm as lgb\n",
    "from datetime import timedelta\n",
    "from sklearn import preprocessing\n",
    "from tqdm.notebook import tqdm_notebook\n",
    "from sklearn.metrics import average_precision_score\n",
    "from sklearn.model_selection import StratifiedKFold\n",
    "from imblearn.under_sampling import RandomUnderSampler\n",
    "\n",
    "warnings.filterwarnings('ignore')\n",
    "tqdm_notebook.pandas(desc=\"progress: \")"
   ]
  },
  {
   "cell_type": "code",
   "execution_count": 2,
   "metadata": {
    "execution": {
     "iopub.execute_input": "2020-11-20T13:50:49.355736Z",
     "iopub.status.busy": "2020-11-20T13:50:49.354551Z",
     "iopub.status.idle": "2020-11-20T13:51:13.855336Z",
     "shell.execute_reply": "2020-11-20T13:51:13.854508Z"
    },
    "papermill": {
     "duration": 24.545895,
     "end_time": "2020-11-20T13:51:13.855503",
     "exception": false,
     "start_time": "2020-11-20T13:50:49.309608",
     "status": "completed"
    },
    "tags": []
   },
   "outputs": [],
   "source": [
    "DIR = \"../input/20201115at/\"\n",
    "train = pd.read_csv(DIR+\"train.csv\")\n",
    "test = pd.read_csv(DIR+\"test.csv\")\n",
    "campaign = pd.read_csv(DIR+\"campaign.csv\")\n",
    "\n",
    "#advertiser_video = pd.read_csv(DIR+\"advertiser_video.csv\")\n",
    "#map_game_feed_native_video_assets = pd.read_csv(DIR+'map_game_feed_native_video_assets.csv')\n",
    "#advertiser_converted_video = pd.read_csv(DIR+\"advertiser_converted_video.csv\")"
   ]
  },
  {
   "cell_type": "code",
   "execution_count": 3,
   "metadata": {
    "execution": {
     "iopub.execute_input": "2020-11-20T13:51:13.924814Z",
     "iopub.status.busy": "2020-11-20T13:51:13.923817Z",
     "iopub.status.idle": "2020-11-20T13:51:13.926316Z",
     "shell.execute_reply": "2020-11-20T13:51:13.926914Z"
    },
    "papermill": {
     "duration": 0.039553,
     "end_time": "2020-11-20T13:51:13.927063",
     "exception": false,
     "start_time": "2020-11-20T13:51:13.887510",
     "status": "completed"
    },
    "tags": []
   },
   "outputs": [],
   "source": [
    "#cols = [\"mst_advertiser_video_id\", \"mst_game_feed_id\", \"mst_video_template_id\"]\n",
    "#advertiser_converted_video = advertiser_converted_video[~advertiser_converted_video[cols].duplicated(keep=\"last\")]"
   ]
  },
  {
   "cell_type": "markdown",
   "metadata": {
    "papermill": {
     "duration": 0.031441,
     "end_time": "2020-11-20T13:51:13.990391",
     "exception": false,
     "start_time": "2020-11-20T13:51:13.958950",
     "status": "completed"
    },
    "tags": []
   },
   "source": [
    "# preprocess"
   ]
  },
  {
   "cell_type": "code",
   "execution_count": 4,
   "metadata": {
    "execution": {
     "iopub.execute_input": "2020-11-20T13:51:14.067267Z",
     "iopub.status.busy": "2020-11-20T13:51:14.066399Z",
     "iopub.status.idle": "2020-11-20T13:51:16.162284Z",
     "shell.execute_reply": "2020-11-20T13:51:16.161634Z"
    },
    "papermill": {
     "duration": 2.140302,
     "end_time": "2020-11-20T13:51:16.162423",
     "exception": false,
     "start_time": "2020-11-20T13:51:14.022121",
     "status": "completed"
    },
    "tags": []
   },
   "outputs": [],
   "source": [
    "agg_df = train.groupby(['advertiser_id'])['target'].sum()\n",
    "zero_df = agg_df[agg_df == 0]\n",
    "zero_adver = list(set(zero_df.index) - set(test.advertiser_id.unique()))\n",
    "train = train[~train.advertiser_id.isin(zero_adver)].reset_index(drop=True)"
   ]
  },
  {
   "cell_type": "code",
   "execution_count": 5,
   "metadata": {
    "execution": {
     "iopub.execute_input": "2020-11-20T13:51:16.485947Z",
     "iopub.status.busy": "2020-11-20T13:51:16.484691Z",
     "iopub.status.idle": "2020-11-20T13:51:31.348178Z",
     "shell.execute_reply": "2020-11-20T13:51:31.347400Z"
    },
    "papermill": {
     "duration": 15.151543,
     "end_time": "2020-11-20T13:51:31.348299",
     "exception": false,
     "start_time": "2020-11-20T13:51:16.196756",
     "status": "completed"
    },
    "tags": []
   },
   "outputs": [],
   "source": [
    "# with campaign\n",
    "train = train.merge(campaign, left_on=\"campaign_id\", right_on = \"id\", how=\"left\").drop([\"mst_advertiser_id\", \"id\"], axis=1)\n",
    "test = test.merge(campaign, left_on=\"campaign_id\", right_on = \"id\", how=\"left\").drop([\"mst_advertiser_id\", \"id\"], axis=1)"
   ]
  },
  {
   "cell_type": "code",
   "execution_count": 6,
   "metadata": {
    "execution": {
     "iopub.execute_input": "2020-11-20T13:51:32.112585Z",
     "iopub.status.busy": "2020-11-20T13:51:32.111745Z",
     "iopub.status.idle": "2020-11-20T13:51:34.416506Z",
     "shell.execute_reply": "2020-11-20T13:51:34.415876Z"
    },
    "papermill": {
     "duration": 3.035935,
     "end_time": "2020-11-20T13:51:34.416647",
     "exception": false,
     "start_time": "2020-11-20T13:51:31.380712",
     "status": "completed"
    },
    "tags": []
   },
   "outputs": [],
   "source": [
    "train[\"imp_at\"] = pd.to_datetime(train[\"imp_at\"])\n",
    "test[\"imp_at\"] = pd.to_datetime(test[\"imp_at\"])\n",
    "train[\"date\"] = train[\"imp_at\"].dt.date\n",
    "test[\"date\"] = test[\"imp_at\"].dt.date\n",
    "train[\"hour\"] = train[\"imp_at\"].dt.hour\n",
    "test[\"hour\"] = test[\"imp_at\"].dt.hour"
   ]
  },
  {
   "cell_type": "code",
   "execution_count": 7,
   "metadata": {
    "execution": {
     "iopub.execute_input": "2020-11-20T13:51:35.173122Z",
     "iopub.status.busy": "2020-11-20T13:51:35.172261Z",
     "iopub.status.idle": "2020-11-20T13:51:36.843965Z",
     "shell.execute_reply": "2020-11-20T13:51:36.843138Z"
    },
    "papermill": {
     "duration": 2.394822,
     "end_time": "2020-11-20T13:51:36.844099",
     "exception": false,
     "start_time": "2020-11-20T13:51:34.449277",
     "status": "completed"
    },
    "tags": []
   },
   "outputs": [],
   "source": [
    "train[\"click_or_view_at\"] = pd.to_datetime(train[\"click_or_view_at\"])\n",
    "train[\"cv_at\"] = pd.to_datetime(train[\"cv_at\"])"
   ]
  },
  {
   "cell_type": "code",
   "execution_count": 8,
   "metadata": {
    "execution": {
     "iopub.execute_input": "2020-11-20T13:51:36.921391Z",
     "iopub.status.busy": "2020-11-20T13:51:36.919239Z",
     "iopub.status.idle": "2020-11-20T13:51:39.135481Z",
     "shell.execute_reply": "2020-11-20T13:51:39.134704Z"
    },
    "papermill": {
     "duration": 2.258903,
     "end_time": "2020-11-20T13:51:39.135606",
     "exception": false,
     "start_time": "2020-11-20T13:51:36.876703",
     "status": "completed"
    },
    "tags": []
   },
   "outputs": [],
   "source": [
    "# drop because distribution is different\n",
    "train.drop(['os_version'], axis=1, inplace=True)\n",
    "test.drop(['os_version'], axis=1, inplace=True)\n",
    "\n",
    "# noise features?\n",
    "train.drop(['user_type_id', \"category_id\",  \"video_template_id\", \"country_code\", \"game_feed_asset_type_id\", \"header_bidding\"], axis=1, inplace=True)\n",
    "test.drop(['user_type_id', \"category_id\",  \"video_template_id\", \"country_code\", \"game_feed_asset_type_id\", \"header_bidding\"], axis=1, inplace=True)"
   ]
  },
  {
   "cell_type": "code",
   "execution_count": 9,
   "metadata": {
    "execution": {
     "iopub.execute_input": "2020-11-20T13:51:39.215372Z",
     "iopub.status.busy": "2020-11-20T13:51:39.213761Z",
     "iopub.status.idle": "2020-11-20T13:51:57.342021Z",
     "shell.execute_reply": "2020-11-20T13:51:57.341322Z"
    },
    "papermill": {
     "duration": 18.173802,
     "end_time": "2020-11-20T13:51:57.342151",
     "exception": false,
     "start_time": "2020-11-20T13:51:39.168349",
     "status": "completed"
    },
    "tags": []
   },
   "outputs": [],
   "source": [
    "app_ranking = pd.concat([train, test]).groupby(\"app_id\")[\"uid\"].nunique().reset_index(drop=False)\n",
    "app_ranking.columns = [\"app_id\", \"app_users\"]\n",
    "train = train.merge(app_ranking, on=\"app_id\", how=\"left\")\n",
    "test = test.merge(app_ranking, on=\"app_id\", how=\"left\")\n",
    "\n",
    "media_app_rank = pd.concat([train, test]).groupby([\"game_feed_id\", \"campaign_id\"])[\"media_app_id\"].nunique().reset_index(drop=False)\n",
    "media_app_rank.columns = [\"game_feed_id\", \"campaign_id\", \"madia_app_num\"]\n",
    "train = train.merge(media_app_rank, on=[\"game_feed_id\", \"campaign_id\"], how=\"left\")\n",
    "test = test.merge(media_app_rank, on=[\"game_feed_id\", \"campaign_id\"], how=\"left\")"
   ]
  },
  {
   "cell_type": "code",
   "execution_count": 10,
   "metadata": {
    "execution": {
     "iopub.execute_input": "2020-11-20T13:51:57.428059Z",
     "iopub.status.busy": "2020-11-20T13:51:57.426769Z",
     "iopub.status.idle": "2020-11-20T13:52:21.781229Z",
     "shell.execute_reply": "2020-11-20T13:52:21.780600Z"
    },
    "papermill": {
     "duration": 24.405785,
     "end_time": "2020-11-20T13:52:21.781362",
     "exception": false,
     "start_time": "2020-11-20T13:51:57.375577",
     "status": "completed"
    },
    "tags": []
   },
   "outputs": [
    {
     "name": "stdout",
     "output_type": "stream",
     "text": [
      "154\n"
     ]
    }
   ],
   "source": [
    "game_feed_target = train.groupby(\"game_feed_id\")[\"target\"].mean().reset_index(drop=False)\n",
    "game_feed_counts = train[\"game_feed_id\"].value_counts().reset_index(drop=False)\n",
    "game_feed_counts.columns = [\"game_feed_id\", \"game_feed_counts\"]\n",
    "game_feed_target = game_feed_target.merge(game_feed_counts, on =\"game_feed_id\", how=\"left\")\n",
    "popular_game_feed = list(game_feed_target[(game_feed_target.target > 0.1) & (game_feed_target.game_feed_counts > 100)][\"game_feed_id\"])\n",
    "print(len(popular_game_feed))\n",
    "\n",
    "train[\"popular_game\"] = train[\"game_feed_id\"].apply(lambda x: 1 if x in popular_game_feed else 0)\n",
    "test[\"popular_game\"] = test[\"game_feed_id\"].apply(lambda x: 1 if x in popular_game_feed else 0)\n",
    "\n",
    "camp_target = train.groupby(\"campaign_id\")[\"target\"].mean().reset_index(drop=False)\n",
    "camp_counts = train[\"campaign_id\"].value_counts().reset_index(drop=False)\n",
    "camp_counts.columns = [\"campaign_id\", \"campaign_counts\"]\n",
    "camp_target = camp_target.merge(camp_counts, on =\"campaign_id\", how=\"left\")\n",
    "popular_campaign = list(camp_target[(camp_target.target > 0.1) & (camp_target.campaign_counts > 100)][\"campaign_id\"])\n",
    "\n",
    "train[\"popular_campaign\"] = train[\"campaign_id\"].apply(lambda x: 1 if x in popular_campaign else 0)\n",
    "test[\"popular_campaign\"] = test[\"campaign_id\"].apply(lambda x: 1 if x in popular_campaign else 0)"
   ]
  },
  {
   "cell_type": "code",
   "execution_count": 11,
   "metadata": {
    "execution": {
     "iopub.execute_input": "2020-11-20T13:52:21.858557Z",
     "iopub.status.busy": "2020-11-20T13:52:21.857733Z",
     "iopub.status.idle": "2020-11-20T13:52:53.161865Z",
     "shell.execute_reply": "2020-11-20T13:52:53.161032Z"
    },
    "papermill": {
     "duration": 31.346694,
     "end_time": "2020-11-20T13:52:53.162003",
     "exception": false,
     "start_time": "2020-11-20T13:52:21.815309",
     "status": "completed"
    },
    "tags": []
   },
   "outputs": [],
   "source": [
    "object_feats = [i for i in train.columns if \"object\" == str(train[i].dtype) \n",
    "                and i != \"request_id\" and i != \"uid\" and i != \"date\" and i != \"hour\"]\n",
    "\n",
    "def get_non_overlapping(train: pd.DataFrame, test: pd.DataFrame, column: str):\n",
    "    only_in_train = set(train[column].unique()) - set(test[column].unique())\n",
    "    only_in_test = set(test[column].unique()) - set(train[column].unique())\n",
    "    non_overlapping = only_in_train.union(only_in_test)\n",
    "    return non_overlapping\n",
    "\n",
    "def category2num(train: pd.DataFrame, test: pd.DataFrame, columns: list):\n",
    "    train_ = train.copy()\n",
    "    test_ = test.copy()\n",
    "    for column in columns:\n",
    "        non_overlapping = get_non_overlapping(train, test, column)\n",
    "        try:\n",
    "            if train[column].dtype == np.dtype(\"O\"):\n",
    "                # dtypeがobjectなら欠損は'missing' クラスにする\n",
    "                train_[column] = train[column].fillna(\"missing\")\n",
    "                test_[column] = test[column].fillna(\"missing\")\n",
    "                train_[column] = train_[column].map(lambda x: x if x not in non_overlapping else \"other\")\n",
    "                test_[column] = test_[column].map(lambda x: x if x not in non_overlapping else \"other\")\n",
    "            else:\n",
    "                # dtypeがint/floatなら欠損は'-1'とする\n",
    "                train_[column] = train[column].fillna(-1)\n",
    "                test_[column] = test[column].fillna(-1)\n",
    "                train_[column] = train_[column].map(lambda x: x if x not in non_overlapping else -2)\n",
    "                test_[column] = test_[column].map(lambda x: x if x not in non_overlapping else -2)\n",
    "\n",
    "            le = preprocessing.LabelEncoder()\n",
    "            concatenated = pd.concat([train_, test_], axis=0).reset_index(drop=True)\n",
    "            le.fit(concatenated[column])\n",
    "            train_[column] = le.transform(train_[column])\n",
    "            test_[column] = le.transform(test_[column])\n",
    "        except Exception:\n",
    "            import pdb\n",
    "            pdb.set_trace()\n",
    "    return train_, test_\n",
    "\n",
    "train, test = category2num(train, test, object_feats)"
   ]
  },
  {
   "cell_type": "code",
   "execution_count": 12,
   "metadata": {
    "execution": {
     "iopub.execute_input": "2020-11-20T13:52:53.236972Z",
     "iopub.status.busy": "2020-11-20T13:52:53.236153Z",
     "iopub.status.idle": "2020-11-20T13:52:53.548057Z",
     "shell.execute_reply": "2020-11-20T13:52:53.547277Z"
    },
    "papermill": {
     "duration": 0.35196,
     "end_time": "2020-11-20T13:52:53.548192",
     "exception": false,
     "start_time": "2020-11-20T13:52:53.196232",
     "status": "completed"
    },
    "tags": []
   },
   "outputs": [],
   "source": [
    "# drop because the exist only in train\n",
    "train.drop(['click_or_view_at', 'cv_at','last_cv_interval', 'last_paid_interval'], axis=1, inplace=True)"
   ]
  },
  {
   "cell_type": "markdown",
   "metadata": {
    "papermill": {
     "duration": 0.034185,
     "end_time": "2020-11-20T13:52:53.621939",
     "exception": false,
     "start_time": "2020-11-20T13:52:53.587754",
     "status": "completed"
    },
    "tags": []
   },
   "source": [
    "# feature engineering"
   ]
  },
  {
   "cell_type": "code",
   "execution_count": 13,
   "metadata": {
    "execution": {
     "iopub.execute_input": "2020-11-20T13:52:53.700041Z",
     "iopub.status.busy": "2020-11-20T13:52:53.699186Z",
     "iopub.status.idle": "2020-11-20T13:53:06.805365Z",
     "shell.execute_reply": "2020-11-20T13:53:06.804736Z"
    },
    "papermill": {
     "duration": 13.148236,
     "end_time": "2020-11-20T13:53:06.805538",
     "exception": false,
     "start_time": "2020-11-20T13:52:53.657302",
     "status": "completed"
    },
    "tags": []
   },
   "outputs": [],
   "source": [
    "train[\"type\"] = \"train\"\n",
    "test[\"type\"] = \"test\"\n",
    "all_df = pd.concat([train, test])\n",
    "all_df = all_df.sort_values([\"uid\", \"imp_at\"]).reset_index(drop=True)"
   ]
  },
  {
   "cell_type": "code",
   "execution_count": 14,
   "metadata": {
    "execution": {
     "iopub.execute_input": "2020-11-20T13:53:06.880137Z",
     "iopub.status.busy": "2020-11-20T13:53:06.879298Z",
     "iopub.status.idle": "2020-11-20T13:53:10.821591Z",
     "shell.execute_reply": "2020-11-20T13:53:10.820803Z"
    },
    "papermill": {
     "duration": 3.981741,
     "end_time": "2020-11-20T13:53:10.821727",
     "exception": false,
     "start_time": "2020-11-20T13:53:06.839986",
     "status": "completed"
    },
    "tags": []
   },
   "outputs": [],
   "source": [
    "all_df[\"count\"] = 1\n",
    "all_df[\"count\"] = all_df.groupby(\"uid\")[\"count\"].cumsum()"
   ]
  },
  {
   "cell_type": "code",
   "execution_count": 15,
   "metadata": {
    "execution": {
     "iopub.execute_input": "2020-11-20T13:53:10.904129Z",
     "iopub.status.busy": "2020-11-20T13:53:10.898940Z",
     "iopub.status.idle": "2020-11-20T13:53:38.345051Z",
     "shell.execute_reply": "2020-11-20T13:53:38.344276Z"
    },
    "papermill": {
     "duration": 27.488985,
     "end_time": "2020-11-20T13:53:38.345190",
     "exception": false,
     "start_time": "2020-11-20T13:53:10.856205",
     "status": "completed"
    },
    "tags": []
   },
   "outputs": [],
   "source": [
    "def _create_whole_imp_at_feature(whole_df, var) -> pd.DataFrame:\n",
    "\n",
    "    imp_at = pd.to_datetime(whole_df['imp_at']) + timedelta(hours=9) # utc -> asia/tokyo\n",
    "    out_df = pd.DataFrame()\n",
    "    out_df['hours'] = imp_at.dt.hour\n",
    "    out_df['dayofweek'] = imp_at.dt.dayofweek\n",
    "    out_df['hour_zone'] = pd.cut(out_df['hours'].values, bins=[-np.inf, 6, 12, 18, np.inf]).codes\n",
    "\n",
    "    def _create_pivot(input_df, c, column='dayofweek', values='hours'):\n",
    "        _df = pd.pivot_table(data=input_df, index=[c], columns=[column], values=values, aggfunc='count')\n",
    "        _df = _df.fillna(0)\n",
    "        _df.columns = [column + '=' + str(x) for x in _df.columns]\n",
    "\n",
    "        # index ごとに正規化して割合にする\n",
    "        _df = _df.div(_df.sum(axis=1), axis=0)\n",
    "        return pd.merge(input_df[c], _df, on=c, how='left').drop(columns=[c]).add_prefix(c + '_')\n",
    "\n",
    "    # uid での集約\n",
    "    for c in [var]:\n",
    "        _df = out_df.copy()\n",
    "        _df[c] = whole_df[c]\n",
    "        _feat = pd.concat([\n",
    "            _create_pivot(_df, c),\n",
    "            _create_pivot(_df, c, column='hour_zone', values='dayofweek')  \n",
    "        ], axis=1)\n",
    "        out_df = pd.concat([out_df, _feat], axis=1)\n",
    "\n",
    "    out_df['request_id'] = whole_df['request_id']\n",
    "    return out_df\n",
    "\n",
    "user_imp_df = _create_whole_imp_at_feature(all_df, \"uid\")\n",
    "user_imp_df.drop([\"hours\",\"dayofweek\",\"hour_zone\"], axis=1, inplace=True)\n",
    "all_df = all_df.merge(user_imp_df, on=\"request_id\", how=\"left\")"
   ]
  },
  {
   "cell_type": "code",
   "execution_count": 16,
   "metadata": {
    "execution": {
     "iopub.execute_input": "2020-11-20T13:53:39.363679Z",
     "iopub.status.busy": "2020-11-20T13:53:38.629676Z",
     "iopub.status.idle": "2020-11-20T13:53:48.743601Z",
     "shell.execute_reply": "2020-11-20T13:53:48.742959Z"
    },
    "papermill": {
     "duration": 10.363795,
     "end_time": "2020-11-20T13:53:48.743737",
     "exception": false,
     "start_time": "2020-11-20T13:53:38.379942",
     "status": "completed"
    },
    "tags": []
   },
   "outputs": [],
   "source": [
    "camp_num = all_df.groupby(\"date\")[\"campaign_id\"].nunique().reset_index(drop=False)\n",
    "camp_num.columns=[\"date\", \"camp_num\"]\n",
    "all_df = all_df.merge(camp_num, on=\"date\", how=\"left\")\n",
    "\n",
    "user_num = all_df.groupby(\"date\")[\"uid\"].nunique().reset_index(drop=False)\n",
    "user_num.columns=[\"date\", \"user_num\"]\n",
    "all_df = all_df.merge(user_num, on=\"date\", how=\"left\")\n",
    "\n",
    "all_df.drop([\"date\", \"hour\"], axis=1, inplace=True)"
   ]
  },
  {
   "cell_type": "code",
   "execution_count": 17,
   "metadata": {
    "execution": {
     "iopub.execute_input": "2020-11-20T13:53:49.144599Z",
     "iopub.status.busy": "2020-11-20T13:53:49.143483Z",
     "iopub.status.idle": "2020-11-20T13:53:51.271283Z",
     "shell.execute_reply": "2020-11-20T13:53:51.270486Z"
    },
    "papermill": {
     "duration": 2.492498,
     "end_time": "2020-11-20T13:53:51.271414",
     "exception": false,
     "start_time": "2020-11-20T13:53:48.778916",
     "status": "completed"
    },
    "tags": []
   },
   "outputs": [],
   "source": [
    "train = all_df[all_df.type==\"train\"].drop(\"type\", axis=1).reset_index(drop=True)\n",
    "test = all_df[all_df.type==\"test\"].drop(\"type\", axis=1).reset_index(drop=True)"
   ]
  },
  {
   "cell_type": "code",
   "execution_count": 18,
   "metadata": {
    "execution": {
     "iopub.execute_input": "2020-11-20T13:53:51.352902Z",
     "iopub.status.busy": "2020-11-20T13:53:51.351656Z",
     "iopub.status.idle": "2020-11-20T13:53:53.993670Z",
     "shell.execute_reply": "2020-11-20T13:53:53.992852Z"
    },
    "papermill": {
     "duration": 2.683281,
     "end_time": "2020-11-20T13:53:53.993804",
     "exception": false,
     "start_time": "2020-11-20T13:53:51.310523",
     "status": "completed"
    },
    "tags": []
   },
   "outputs": [],
   "source": [
    "train = train.sort_values(\"imp_at\").reset_index(drop=True)\n",
    "test = test.sort_values(\"imp_at\").reset_index(drop=True)"
   ]
  },
  {
   "cell_type": "code",
   "execution_count": 19,
   "metadata": {
    "execution": {
     "iopub.execute_input": "2020-11-20T13:53:54.081806Z",
     "iopub.status.busy": "2020-11-20T13:53:54.080581Z",
     "iopub.status.idle": "2020-11-20T13:53:58.256239Z",
     "shell.execute_reply": "2020-11-20T13:53:58.256826Z"
    },
    "papermill": {
     "duration": 4.224632,
     "end_time": "2020-11-20T13:53:58.257002",
     "exception": false,
     "start_time": "2020-11-20T13:53:54.032370",
     "status": "completed"
    },
    "tags": []
   },
   "outputs": [],
   "source": [
    "ce_feats = [\"uid\"]\n",
    "for c in ce_feats:\n",
    "    freq = pd.concat([train[c], test[c]]).value_counts()\n",
    "    train[c] = train[c].map(freq)\n",
    "    test[c] = test[c].map(freq)"
   ]
  },
  {
   "cell_type": "markdown",
   "metadata": {
    "papermill": {
     "duration": 0.034685,
     "end_time": "2020-11-20T13:53:58.326874",
     "exception": false,
     "start_time": "2020-11-20T13:53:58.292189",
     "status": "completed"
    },
    "tags": []
   },
   "source": [
    "# separation for validation"
   ]
  },
  {
   "cell_type": "code",
   "execution_count": 20,
   "metadata": {
    "execution": {
     "iopub.execute_input": "2020-11-20T13:53:58.405358Z",
     "iopub.status.busy": "2020-11-20T13:53:58.404622Z",
     "iopub.status.idle": "2020-11-20T13:53:58.835651Z",
     "shell.execute_reply": "2020-11-20T13:53:58.836208Z"
    },
    "papermill": {
     "duration": 0.473151,
     "end_time": "2020-11-20T13:53:58.836378",
     "exception": false,
     "start_time": "2020-11-20T13:53:58.363227",
     "status": "completed"
    },
    "tags": []
   },
   "outputs": [],
   "source": [
    "train.drop(['request_id'], axis=1, inplace=True)\n",
    "test.drop(['request_id'], axis=1, inplace=True)"
   ]
  },
  {
   "cell_type": "code",
   "execution_count": 21,
   "metadata": {
    "execution": {
     "iopub.execute_input": "2020-11-20T13:53:58.913660Z",
     "iopub.status.busy": "2020-11-20T13:53:58.912894Z",
     "iopub.status.idle": "2020-11-20T13:53:59.407411Z",
     "shell.execute_reply": "2020-11-20T13:53:59.407996Z"
    },
    "papermill": {
     "duration": 0.536377,
     "end_time": "2020-11-20T13:53:59.408166",
     "exception": false,
     "start_time": "2020-11-20T13:53:58.871789",
     "status": "completed"
    },
    "tags": []
   },
   "outputs": [],
   "source": [
    "mask = train.imp_at > \"2020-05-21\"\n",
    "valid_df = train.loc[mask].copy()\n",
    "train_df = train.loc[~mask].copy()"
   ]
  },
  {
   "cell_type": "code",
   "execution_count": 22,
   "metadata": {
    "execution": {
     "iopub.execute_input": "2020-11-20T13:53:59.898900Z",
     "iopub.status.busy": "2020-11-20T13:53:59.706231Z",
     "iopub.status.idle": "2020-11-20T13:53:59.902445Z",
     "shell.execute_reply": "2020-11-20T13:53:59.901703Z"
    },
    "papermill": {
     "duration": 0.458637,
     "end_time": "2020-11-20T13:53:59.902574",
     "exception": false,
     "start_time": "2020-11-20T13:53:59.443937",
     "status": "completed"
    },
    "tags": []
   },
   "outputs": [],
   "source": [
    "train = train.drop([\"imp_at\"], axis=1) \n",
    "test = test.drop([\"imp_at\"], axis=1) \n",
    "\n",
    "valid_df = valid_df.drop([\"imp_at\"], axis=1)\n",
    "train_df = train_df.drop([\"imp_at\"], axis=1)"
   ]
  },
  {
   "cell_type": "code",
   "execution_count": 23,
   "metadata": {
    "execution": {
     "iopub.execute_input": "2020-11-20T13:54:00.008288Z",
     "iopub.status.busy": "2020-11-20T13:54:00.007197Z",
     "iopub.status.idle": "2020-11-20T13:54:00.010900Z",
     "shell.execute_reply": "2020-11-20T13:54:00.010151Z"
    },
    "papermill": {
     "duration": 0.072786,
     "end_time": "2020-11-20T13:54:00.011026",
     "exception": false,
     "start_time": "2020-11-20T13:53:59.938240",
     "status": "completed"
    },
    "tags": []
   },
   "outputs": [],
   "source": [
    "test = test.drop(\"target\", axis=1)"
   ]
  },
  {
   "cell_type": "code",
   "execution_count": 24,
   "metadata": {
    "execution": {
     "iopub.execute_input": "2020-11-20T13:54:00.091850Z",
     "iopub.status.busy": "2020-11-20T13:54:00.090778Z",
     "iopub.status.idle": "2020-11-20T13:54:00.094739Z",
     "shell.execute_reply": "2020-11-20T13:54:00.095314Z"
    },
    "papermill": {
     "duration": 0.047981,
     "end_time": "2020-11-20T13:54:00.095484",
     "exception": false,
     "start_time": "2020-11-20T13:54:00.047503",
     "status": "completed"
    },
    "tags": []
   },
   "outputs": [
    {
     "data": {
      "text/plain": [
       "((1856405, 42), (390095, 41))"
      ]
     },
     "execution_count": 24,
     "metadata": {},
     "output_type": "execute_result"
    }
   ],
   "source": [
    "train.shape, test.shape "
   ]
  },
  {
   "cell_type": "code",
   "execution_count": 25,
   "metadata": {
    "execution": {
     "iopub.execute_input": "2020-11-20T13:54:00.175935Z",
     "iopub.status.busy": "2020-11-20T13:54:00.174837Z",
     "iopub.status.idle": "2020-11-20T13:54:00.179150Z",
     "shell.execute_reply": "2020-11-20T13:54:00.178443Z"
    },
    "papermill": {
     "duration": 0.047077,
     "end_time": "2020-11-20T13:54:00.179271",
     "exception": false,
     "start_time": "2020-11-20T13:54:00.132194",
     "status": "completed"
    },
    "tags": []
   },
   "outputs": [
    {
     "data": {
      "text/plain": [
       "Index(['target', 'adnw_id', 'adspot_id', 'adspot_video_format_id',\n",
       "       'advertiser_id', 'app_id', 'auction_type_id', 'campaign_id',\n",
       "       'first_login_interval', 'frequency', 'from_click', 'game_feed_id',\n",
       "       'game_template_id', 'is_interstitial', 'item_id', 'last_login_interval',\n",
       "       'login_frequency', 'max_login_interval', 'media_app_id', 'os', 'pos',\n",
       "       'uid', 'mst_advertiser_order_id', 'mst_user_type_id', 'app_users',\n",
       "       'madia_app_num', 'popular_game', 'popular_campaign', 'count',\n",
       "       'uid_dayofweek=0', 'uid_dayofweek=1', 'uid_dayofweek=2',\n",
       "       'uid_dayofweek=3', 'uid_dayofweek=4', 'uid_dayofweek=5',\n",
       "       'uid_dayofweek=6', 'uid_hour_zone=0', 'uid_hour_zone=1',\n",
       "       'uid_hour_zone=2', 'uid_hour_zone=3', 'camp_num', 'user_num'],\n",
       "      dtype='object')"
      ]
     },
     "execution_count": 25,
     "metadata": {},
     "output_type": "execute_result"
    }
   ],
   "source": [
    "train.columns"
   ]
  },
  {
   "cell_type": "code",
   "execution_count": 26,
   "metadata": {
    "execution": {
     "iopub.execute_input": "2020-11-20T13:54:00.261777Z",
     "iopub.status.busy": "2020-11-20T13:54:00.260883Z",
     "iopub.status.idle": "2020-11-20T13:54:00.265994Z",
     "shell.execute_reply": "2020-11-20T13:54:00.265383Z"
    },
    "papermill": {
     "duration": 0.049399,
     "end_time": "2020-11-20T13:54:00.266126",
     "exception": false,
     "start_time": "2020-11-20T13:54:00.216727",
     "status": "completed"
    },
    "tags": []
   },
   "outputs": [
    {
     "data": {
      "text/plain": [
       "['advertiser_id',\n",
       " 'app_id',\n",
       " 'campaign_id',\n",
       " 'game_feed_id',\n",
       " 'game_template_id',\n",
       " 'media_app_id',\n",
       " 'mst_advertiser_order_id']"
      ]
     },
     "execution_count": 26,
     "metadata": {},
     "output_type": "execute_result"
    }
   ],
   "source": [
    "object_feats = [i for i in object_feats if i in train.columns]\n",
    "object_feats"
   ]
  },
  {
   "cell_type": "markdown",
   "metadata": {
    "papermill": {
     "duration": 0.037621,
     "end_time": "2020-11-20T13:54:00.341871",
     "exception": false,
     "start_time": "2020-11-20T13:54:00.304250",
     "status": "completed"
    },
    "tags": []
   },
   "source": [
    "# stratified lgb"
   ]
  },
  {
   "cell_type": "code",
   "execution_count": 27,
   "metadata": {
    "_cell_guid": "79c7e3d0-c299-4dcb-8224-4455121ee9b0",
    "_uuid": "d629ff2d2480ee46fbb7e2d37f6b5fab8052498a",
    "execution": {
     "iopub.execute_input": "2020-11-20T13:54:00.442794Z",
     "iopub.status.busy": "2020-11-20T13:54:00.427071Z",
     "iopub.status.idle": "2020-11-20T14:14:29.221375Z",
     "shell.execute_reply": "2020-11-20T14:14:29.220371Z"
    },
    "papermill": {
     "duration": 1228.841806,
     "end_time": "2020-11-20T14:14:29.221569",
     "exception": false,
     "start_time": "2020-11-20T13:54:00.379763",
     "status": "completed"
    },
    "tags": []
   },
   "outputs": [
    {
     "name": "stdout",
     "output_type": "stream",
     "text": [
      "seed: 0\n",
      "fold:  0\n",
      "Training until validation scores don't improve for 20 rounds\n",
      "[30]\ttraining's pr_auc: 0.271675\tvalid_1's pr_auc: 0.264857\n",
      "[60]\ttraining's pr_auc: 0.292763\tvalid_1's pr_auc: 0.278375\n",
      "[90]\ttraining's pr_auc: 0.308399\tvalid_1's pr_auc: 0.286292\n",
      "[120]\ttraining's pr_auc: 0.318956\tvalid_1's pr_auc: 0.289831\n",
      "[150]\ttraining's pr_auc: 0.327955\tvalid_1's pr_auc: 0.292129\n",
      "[180]\ttraining's pr_auc: 0.33561\tvalid_1's pr_auc: 0.294395\n",
      "[210]\ttraining's pr_auc: 0.342707\tvalid_1's pr_auc: 0.295328\n",
      "Early stopping, best iteration is:\n",
      "[217]\ttraining's pr_auc: 0.344376\tvalid_1's pr_auc: 0.295932\n",
      "fold:  1\n",
      "Training until validation scores don't improve for 20 rounds\n",
      "[30]\ttraining's pr_auc: 0.2727\tvalid_1's pr_auc: 0.26905\n",
      "[60]\ttraining's pr_auc: 0.294283\tvalid_1's pr_auc: 0.282406\n",
      "[90]\ttraining's pr_auc: 0.306886\tvalid_1's pr_auc: 0.288452\n",
      "[120]\ttraining's pr_auc: 0.317834\tvalid_1's pr_auc: 0.293322\n",
      "[150]\ttraining's pr_auc: 0.325994\tvalid_1's pr_auc: 0.295391\n",
      "[180]\ttraining's pr_auc: 0.333661\tvalid_1's pr_auc: 0.296364\n",
      "[210]\ttraining's pr_auc: 0.340576\tvalid_1's pr_auc: 0.297556\n",
      "[240]\ttraining's pr_auc: 0.347811\tvalid_1's pr_auc: 0.298575\n",
      "[270]\ttraining's pr_auc: 0.353571\tvalid_1's pr_auc: 0.298809\n",
      "Early stopping, best iteration is:\n",
      "[276]\ttraining's pr_auc: 0.354658\tvalid_1's pr_auc: 0.299017\n",
      "fold:  2\n",
      "Training until validation scores don't improve for 20 rounds\n",
      "[30]\ttraining's pr_auc: 0.272984\tvalid_1's pr_auc: 0.264018\n",
      "[60]\ttraining's pr_auc: 0.293709\tvalid_1's pr_auc: 0.277124\n",
      "[90]\ttraining's pr_auc: 0.309546\tvalid_1's pr_auc: 0.284584\n",
      "[120]\ttraining's pr_auc: 0.319762\tvalid_1's pr_auc: 0.288467\n",
      "[150]\ttraining's pr_auc: 0.328549\tvalid_1's pr_auc: 0.291164\n",
      "[180]\ttraining's pr_auc: 0.335526\tvalid_1's pr_auc: 0.292005\n",
      "[210]\ttraining's pr_auc: 0.342874\tvalid_1's pr_auc: 0.293746\n",
      "[240]\ttraining's pr_auc: 0.349544\tvalid_1's pr_auc: 0.294322\n",
      "[270]\ttraining's pr_auc: 0.355661\tvalid_1's pr_auc: 0.294779\n",
      "Early stopping, best iteration is:\n",
      "[277]\ttraining's pr_auc: 0.35697\tvalid_1's pr_auc: 0.294811\n",
      "fold:  3\n",
      "Training until validation scores don't improve for 20 rounds\n",
      "[30]\ttraining's pr_auc: 0.272345\tvalid_1's pr_auc: 0.265634\n",
      "[60]\ttraining's pr_auc: 0.296406\tvalid_1's pr_auc: 0.281964\n",
      "[90]\ttraining's pr_auc: 0.3094\tvalid_1's pr_auc: 0.287184\n",
      "[120]\ttraining's pr_auc: 0.31929\tvalid_1's pr_auc: 0.289839\n",
      "[150]\ttraining's pr_auc: 0.328318\tvalid_1's pr_auc: 0.291529\n",
      "[180]\ttraining's pr_auc: 0.334989\tvalid_1's pr_auc: 0.29246\n",
      "[210]\ttraining's pr_auc: 0.342133\tvalid_1's pr_auc: 0.293834\n",
      "[240]\ttraining's pr_auc: 0.347923\tvalid_1's pr_auc: 0.294791\n",
      "Early stopping, best iteration is:\n",
      "[249]\ttraining's pr_auc: 0.349596\tvalid_1's pr_auc: 0.295197\n",
      "fold:  4\n",
      "Training until validation scores don't improve for 20 rounds\n",
      "[30]\ttraining's pr_auc: 0.269339\tvalid_1's pr_auc: 0.27177\n",
      "[60]\ttraining's pr_auc: 0.291054\tvalid_1's pr_auc: 0.28731\n",
      "[90]\ttraining's pr_auc: 0.304416\tvalid_1's pr_auc: 0.293505\n",
      "[120]\ttraining's pr_auc: 0.31499\tvalid_1's pr_auc: 0.297623\n",
      "[150]\ttraining's pr_auc: 0.323286\tvalid_1's pr_auc: 0.300601\n",
      "[180]\ttraining's pr_auc: 0.332305\tvalid_1's pr_auc: 0.303901\n",
      "Early stopping, best iteration is:\n",
      "[183]\ttraining's pr_auc: 0.333098\tvalid_1's pr_auc: 0.3041\n",
      "0.29757757243142097\n"
     ]
    }
   ],
   "source": [
    "# stratified k fold\n",
    "n_folds = 5\n",
    "def pr_auc_metric(y_predicted, y_true):\n",
    "    return 'pr_auc', average_precision_score(y_true.get_label(), y_predicted), True\n",
    "\n",
    "def modelling(seed):\n",
    "    print(\"seed:\", seed)\n",
    "    lgbm_params = {'objective': 'binary', 'metric': 'None', 'boosting_type': 'gbdt', \n",
    "               'tree_learner': 'serial', 'learning_rate': 0.1, \"num_leaves\": 10, 'random_seed':seed,'max_depth': 5}\n",
    "    \n",
    "    y = train.target.copy()\n",
    "    X = train.drop(['target'],axis=1).copy()\n",
    "    \n",
    "    skf=StratifiedKFold(n_splits = n_folds, shuffle=True, random_state=0)\n",
    "    \n",
    "    valid = np.zeros([X.shape[0]])\n",
    "    features_list = [i for i in X.columns]\n",
    "    pred_value = np.zeros(test.shape[0])\n",
    "    feature_importance_df = pd.DataFrame(features_list, columns=[\"Feature\"])\n",
    "    \n",
    "    for i , (train_index, val_index) in enumerate(skf.split(X, y)):\n",
    "        print(\"fold: \", i)\n",
    "        \n",
    "        X_train = X.iloc[train_index,:]\n",
    "        y_train = y.iloc[train_index]\n",
    "        \n",
    "        X_valid = X.iloc[val_index,:]\n",
    "        y_valid = y.iloc[val_index]\n",
    "        \n",
    "        lgb_train = lgb.Dataset(X_train, y_train)\n",
    "        lgb_eval = lgb.Dataset(X_valid, y_valid, reference=lgb_train)\n",
    "        \n",
    "        model = lgb.train(lgbm_params, lgb_train,valid_sets=[lgb_train, lgb_eval],\n",
    "           num_boost_round=10000,early_stopping_rounds=20,verbose_eval = 30,\n",
    "                          feval=pr_auc_metric, categorical_feature = sorted(object_feats))\n",
    "        \n",
    "        valid_predict = model.predict(X_valid, num_iteration = model.best_iteration)\n",
    "        valid[val_index] = valid_predict\n",
    "        pred_value += model.predict(test, num_iteration = model.best_iteration) / n_folds\n",
    "        feature_importance_df[\"Fold_\"+str(i+1)] = model.feature_importance()\n",
    "    \n",
    "    feature_importance_df[\"Average\"] = np.mean(feature_importance_df.iloc[:,1:n_folds+1], axis=1)\n",
    "    feature_importance_df[\"Std\"] = np.std(feature_importance_df.iloc[:,1:n_folds+1], axis=1)\n",
    "    feature_importance_df[\"Cv\"] = feature_importance_df[\"Std\"] / feature_importance_df[\"Average\"]\n",
    "    \n",
    "    return pred_value, valid, feature_importance_df\n",
    "\n",
    "validation = np.zeros([train.shape[0]])\n",
    "pred_value = np.zeros([test.shape[0]])\n",
    "seeds = [0]\n",
    "for seed_ in seeds:\n",
    "    test_pred, oof_predict, feature_importance_df = modelling(seed_)\n",
    "    validation += oof_predict / len(seeds)\n",
    "    pred_value += test_pred / len(seeds)\n",
    "\n",
    "score = average_precision_score(train.target, validation)\n",
    "print(score)"
   ]
  },
  {
   "cell_type": "code",
   "execution_count": 28,
   "metadata": {
    "execution": {
     "iopub.execute_input": "2020-11-20T14:14:29.363951Z",
     "iopub.status.busy": "2020-11-20T14:14:29.363122Z",
     "iopub.status.idle": "2020-11-20T14:14:29.386559Z",
     "shell.execute_reply": "2020-11-20T14:14:29.385779Z"
    },
    "papermill": {
     "duration": 0.101905,
     "end_time": "2020-11-20T14:14:29.386719",
     "exception": false,
     "start_time": "2020-11-20T14:14:29.284814",
     "status": "completed"
    },
    "tags": []
   },
   "outputs": [
    {
     "data": {
      "text/html": [
       "<div>\n",
       "<style scoped>\n",
       "    .dataframe tbody tr th:only-of-type {\n",
       "        vertical-align: middle;\n",
       "    }\n",
       "\n",
       "    .dataframe tbody tr th {\n",
       "        vertical-align: top;\n",
       "    }\n",
       "\n",
       "    .dataframe thead th {\n",
       "        text-align: right;\n",
       "    }\n",
       "</style>\n",
       "<table border=\"1\" class=\"dataframe\">\n",
       "  <thead>\n",
       "    <tr style=\"text-align: right;\">\n",
       "      <th></th>\n",
       "      <th>Feature</th>\n",
       "      <th>Fold_1</th>\n",
       "      <th>Fold_2</th>\n",
       "      <th>Fold_3</th>\n",
       "      <th>Fold_4</th>\n",
       "      <th>Fold_5</th>\n",
       "      <th>Average</th>\n",
       "      <th>Std</th>\n",
       "      <th>Cv</th>\n",
       "    </tr>\n",
       "  </thead>\n",
       "  <tbody>\n",
       "    <tr>\n",
       "      <th>4</th>\n",
       "      <td>app_id</td>\n",
       "      <td>494</td>\n",
       "      <td>640</td>\n",
       "      <td>652</td>\n",
       "      <td>584</td>\n",
       "      <td>405</td>\n",
       "      <td>555.0</td>\n",
       "      <td>93.483688</td>\n",
       "      <td>0.168439</td>\n",
       "    </tr>\n",
       "    <tr>\n",
       "      <th>6</th>\n",
       "      <td>campaign_id</td>\n",
       "      <td>325</td>\n",
       "      <td>385</td>\n",
       "      <td>385</td>\n",
       "      <td>350</td>\n",
       "      <td>307</td>\n",
       "      <td>350.4</td>\n",
       "      <td>31.378974</td>\n",
       "      <td>0.089552</td>\n",
       "    </tr>\n",
       "    <tr>\n",
       "      <th>17</th>\n",
       "      <td>media_app_id</td>\n",
       "      <td>226</td>\n",
       "      <td>342</td>\n",
       "      <td>325</td>\n",
       "      <td>275</td>\n",
       "      <td>191</td>\n",
       "      <td>271.8</td>\n",
       "      <td>57.262204</td>\n",
       "      <td>0.210678</td>\n",
       "    </tr>\n",
       "    <tr>\n",
       "      <th>10</th>\n",
       "      <td>game_feed_id</td>\n",
       "      <td>141</td>\n",
       "      <td>196</td>\n",
       "      <td>192</td>\n",
       "      <td>171</td>\n",
       "      <td>98</td>\n",
       "      <td>159.6</td>\n",
       "      <td>36.456001</td>\n",
       "      <td>0.228421</td>\n",
       "    </tr>\n",
       "    <tr>\n",
       "      <th>20</th>\n",
       "      <td>uid</td>\n",
       "      <td>151</td>\n",
       "      <td>167</td>\n",
       "      <td>166</td>\n",
       "      <td>153</td>\n",
       "      <td>143</td>\n",
       "      <td>156.0</td>\n",
       "      <td>9.208692</td>\n",
       "      <td>0.059030</td>\n",
       "    </tr>\n",
       "    <tr>\n",
       "      <th>3</th>\n",
       "      <td>advertiser_id</td>\n",
       "      <td>109</td>\n",
       "      <td>118</td>\n",
       "      <td>113</td>\n",
       "      <td>118</td>\n",
       "      <td>91</td>\n",
       "      <td>109.8</td>\n",
       "      <td>9.987993</td>\n",
       "      <td>0.090965</td>\n",
       "    </tr>\n",
       "    <tr>\n",
       "      <th>27</th>\n",
       "      <td>count</td>\n",
       "      <td>77</td>\n",
       "      <td>85</td>\n",
       "      <td>90</td>\n",
       "      <td>81</td>\n",
       "      <td>56</td>\n",
       "      <td>77.8</td>\n",
       "      <td>11.720068</td>\n",
       "      <td>0.150644</td>\n",
       "    </tr>\n",
       "    <tr>\n",
       "      <th>21</th>\n",
       "      <td>mst_advertiser_order_id</td>\n",
       "      <td>62</td>\n",
       "      <td>83</td>\n",
       "      <td>77</td>\n",
       "      <td>68</td>\n",
       "      <td>47</td>\n",
       "      <td>67.4</td>\n",
       "      <td>12.499600</td>\n",
       "      <td>0.185454</td>\n",
       "    </tr>\n",
       "    <tr>\n",
       "      <th>7</th>\n",
       "      <td>first_login_interval</td>\n",
       "      <td>37</td>\n",
       "      <td>44</td>\n",
       "      <td>49</td>\n",
       "      <td>48</td>\n",
       "      <td>33</td>\n",
       "      <td>42.2</td>\n",
       "      <td>6.241795</td>\n",
       "      <td>0.147910</td>\n",
       "    </tr>\n",
       "    <tr>\n",
       "      <th>14</th>\n",
       "      <td>last_login_interval</td>\n",
       "      <td>36</td>\n",
       "      <td>49</td>\n",
       "      <td>54</td>\n",
       "      <td>44</td>\n",
       "      <td>27</td>\n",
       "      <td>42.0</td>\n",
       "      <td>9.570789</td>\n",
       "      <td>0.227876</td>\n",
       "    </tr>\n",
       "    <tr>\n",
       "      <th>15</th>\n",
       "      <td>login_frequency</td>\n",
       "      <td>39</td>\n",
       "      <td>40</td>\n",
       "      <td>43</td>\n",
       "      <td>44</td>\n",
       "      <td>32</td>\n",
       "      <td>39.6</td>\n",
       "      <td>4.223742</td>\n",
       "      <td>0.106660</td>\n",
       "    </tr>\n",
       "    <tr>\n",
       "      <th>40</th>\n",
       "      <td>user_num</td>\n",
       "      <td>27</td>\n",
       "      <td>45</td>\n",
       "      <td>43</td>\n",
       "      <td>37</td>\n",
       "      <td>26</td>\n",
       "      <td>35.6</td>\n",
       "      <td>7.889233</td>\n",
       "      <td>0.221608</td>\n",
       "    </tr>\n",
       "    <tr>\n",
       "      <th>16</th>\n",
       "      <td>max_login_interval</td>\n",
       "      <td>33</td>\n",
       "      <td>29</td>\n",
       "      <td>40</td>\n",
       "      <td>31</td>\n",
       "      <td>28</td>\n",
       "      <td>32.2</td>\n",
       "      <td>4.261455</td>\n",
       "      <td>0.132343</td>\n",
       "    </tr>\n",
       "    <tr>\n",
       "      <th>39</th>\n",
       "      <td>camp_num</td>\n",
       "      <td>27</td>\n",
       "      <td>39</td>\n",
       "      <td>35</td>\n",
       "      <td>33</td>\n",
       "      <td>23</td>\n",
       "      <td>31.4</td>\n",
       "      <td>5.713143</td>\n",
       "      <td>0.181947</td>\n",
       "    </tr>\n",
       "    <tr>\n",
       "      <th>23</th>\n",
       "      <td>app_users</td>\n",
       "      <td>30</td>\n",
       "      <td>35</td>\n",
       "      <td>43</td>\n",
       "      <td>25</td>\n",
       "      <td>19</td>\n",
       "      <td>30.4</td>\n",
       "      <td>8.236504</td>\n",
       "      <td>0.270938</td>\n",
       "    </tr>\n",
       "    <tr>\n",
       "      <th>22</th>\n",
       "      <td>mst_user_type_id</td>\n",
       "      <td>30</td>\n",
       "      <td>33</td>\n",
       "      <td>32</td>\n",
       "      <td>29</td>\n",
       "      <td>28</td>\n",
       "      <td>30.4</td>\n",
       "      <td>1.854724</td>\n",
       "      <td>0.061011</td>\n",
       "    </tr>\n",
       "    <tr>\n",
       "      <th>9</th>\n",
       "      <td>from_click</td>\n",
       "      <td>24</td>\n",
       "      <td>27</td>\n",
       "      <td>24</td>\n",
       "      <td>26</td>\n",
       "      <td>21</td>\n",
       "      <td>24.4</td>\n",
       "      <td>2.059126</td>\n",
       "      <td>0.084390</td>\n",
       "    </tr>\n",
       "    <tr>\n",
       "      <th>24</th>\n",
       "      <td>madia_app_num</td>\n",
       "      <td>13</td>\n",
       "      <td>19</td>\n",
       "      <td>28</td>\n",
       "      <td>26</td>\n",
       "      <td>9</td>\n",
       "      <td>19.0</td>\n",
       "      <td>7.293833</td>\n",
       "      <td>0.383886</td>\n",
       "    </tr>\n",
       "    <tr>\n",
       "      <th>26</th>\n",
       "      <td>popular_campaign</td>\n",
       "      <td>15</td>\n",
       "      <td>18</td>\n",
       "      <td>21</td>\n",
       "      <td>17</td>\n",
       "      <td>17</td>\n",
       "      <td>17.6</td>\n",
       "      <td>1.959592</td>\n",
       "      <td>0.111340</td>\n",
       "    </tr>\n",
       "    <tr>\n",
       "      <th>37</th>\n",
       "      <td>uid_hour_zone=2</td>\n",
       "      <td>6</td>\n",
       "      <td>9</td>\n",
       "      <td>7</td>\n",
       "      <td>9</td>\n",
       "      <td>4</td>\n",
       "      <td>7.0</td>\n",
       "      <td>1.897367</td>\n",
       "      <td>0.271052</td>\n",
       "    </tr>\n",
       "    <tr>\n",
       "      <th>32</th>\n",
       "      <td>uid_dayofweek=4</td>\n",
       "      <td>4</td>\n",
       "      <td>7</td>\n",
       "      <td>7</td>\n",
       "      <td>10</td>\n",
       "      <td>4</td>\n",
       "      <td>6.4</td>\n",
       "      <td>2.244994</td>\n",
       "      <td>0.350780</td>\n",
       "    </tr>\n",
       "    <tr>\n",
       "      <th>35</th>\n",
       "      <td>uid_hour_zone=0</td>\n",
       "      <td>4</td>\n",
       "      <td>7</td>\n",
       "      <td>6</td>\n",
       "      <td>9</td>\n",
       "      <td>5</td>\n",
       "      <td>6.2</td>\n",
       "      <td>1.720465</td>\n",
       "      <td>0.277494</td>\n",
       "    </tr>\n",
       "    <tr>\n",
       "      <th>2</th>\n",
       "      <td>adspot_video_format_id</td>\n",
       "      <td>6</td>\n",
       "      <td>6</td>\n",
       "      <td>6</td>\n",
       "      <td>5</td>\n",
       "      <td>6</td>\n",
       "      <td>5.8</td>\n",
       "      <td>0.400000</td>\n",
       "      <td>0.068966</td>\n",
       "    </tr>\n",
       "    <tr>\n",
       "      <th>29</th>\n",
       "      <td>uid_dayofweek=1</td>\n",
       "      <td>2</td>\n",
       "      <td>10</td>\n",
       "      <td>9</td>\n",
       "      <td>5</td>\n",
       "      <td>2</td>\n",
       "      <td>5.6</td>\n",
       "      <td>3.382307</td>\n",
       "      <td>0.603983</td>\n",
       "    </tr>\n",
       "    <tr>\n",
       "      <th>13</th>\n",
       "      <td>item_id</td>\n",
       "      <td>4</td>\n",
       "      <td>4</td>\n",
       "      <td>8</td>\n",
       "      <td>5</td>\n",
       "      <td>4</td>\n",
       "      <td>5.0</td>\n",
       "      <td>1.549193</td>\n",
       "      <td>0.309839</td>\n",
       "    </tr>\n",
       "    <tr>\n",
       "      <th>33</th>\n",
       "      <td>uid_dayofweek=5</td>\n",
       "      <td>4</td>\n",
       "      <td>6</td>\n",
       "      <td>3</td>\n",
       "      <td>9</td>\n",
       "      <td>3</td>\n",
       "      <td>5.0</td>\n",
       "      <td>2.280351</td>\n",
       "      <td>0.456070</td>\n",
       "    </tr>\n",
       "    <tr>\n",
       "      <th>28</th>\n",
       "      <td>uid_dayofweek=0</td>\n",
       "      <td>3</td>\n",
       "      <td>4</td>\n",
       "      <td>5</td>\n",
       "      <td>8</td>\n",
       "      <td>4</td>\n",
       "      <td>4.8</td>\n",
       "      <td>1.720465</td>\n",
       "      <td>0.358430</td>\n",
       "    </tr>\n",
       "    <tr>\n",
       "      <th>34</th>\n",
       "      <td>uid_dayofweek=6</td>\n",
       "      <td>7</td>\n",
       "      <td>5</td>\n",
       "      <td>4</td>\n",
       "      <td>4</td>\n",
       "      <td>2</td>\n",
       "      <td>4.4</td>\n",
       "      <td>1.624808</td>\n",
       "      <td>0.369274</td>\n",
       "    </tr>\n",
       "    <tr>\n",
       "      <th>30</th>\n",
       "      <td>uid_dayofweek=2</td>\n",
       "      <td>3</td>\n",
       "      <td>10</td>\n",
       "      <td>2</td>\n",
       "      <td>3</td>\n",
       "      <td>2</td>\n",
       "      <td>4.0</td>\n",
       "      <td>3.033150</td>\n",
       "      <td>0.758288</td>\n",
       "    </tr>\n",
       "    <tr>\n",
       "      <th>11</th>\n",
       "      <td>game_template_id</td>\n",
       "      <td>4</td>\n",
       "      <td>5</td>\n",
       "      <td>4</td>\n",
       "      <td>1</td>\n",
       "      <td>2</td>\n",
       "      <td>3.2</td>\n",
       "      <td>1.469694</td>\n",
       "      <td>0.459279</td>\n",
       "    </tr>\n",
       "    <tr>\n",
       "      <th>31</th>\n",
       "      <td>uid_dayofweek=3</td>\n",
       "      <td>2</td>\n",
       "      <td>6</td>\n",
       "      <td>2</td>\n",
       "      <td>1</td>\n",
       "      <td>3</td>\n",
       "      <td>2.8</td>\n",
       "      <td>1.720465</td>\n",
       "      <td>0.614452</td>\n",
       "    </tr>\n",
       "    <tr>\n",
       "      <th>8</th>\n",
       "      <td>frequency</td>\n",
       "      <td>1</td>\n",
       "      <td>4</td>\n",
       "      <td>4</td>\n",
       "      <td>3</td>\n",
       "      <td>0</td>\n",
       "      <td>2.4</td>\n",
       "      <td>1.624808</td>\n",
       "      <td>0.677003</td>\n",
       "    </tr>\n",
       "    <tr>\n",
       "      <th>36</th>\n",
       "      <td>uid_hour_zone=1</td>\n",
       "      <td>2</td>\n",
       "      <td>2</td>\n",
       "      <td>6</td>\n",
       "      <td>0</td>\n",
       "      <td>0</td>\n",
       "      <td>2.0</td>\n",
       "      <td>2.190890</td>\n",
       "      <td>1.095445</td>\n",
       "    </tr>\n",
       "    <tr>\n",
       "      <th>25</th>\n",
       "      <td>popular_game</td>\n",
       "      <td>1</td>\n",
       "      <td>2</td>\n",
       "      <td>1</td>\n",
       "      <td>1</td>\n",
       "      <td>2</td>\n",
       "      <td>1.4</td>\n",
       "      <td>0.489898</td>\n",
       "      <td>0.349927</td>\n",
       "    </tr>\n",
       "    <tr>\n",
       "      <th>38</th>\n",
       "      <td>uid_hour_zone=3</td>\n",
       "      <td>0</td>\n",
       "      <td>2</td>\n",
       "      <td>2</td>\n",
       "      <td>2</td>\n",
       "      <td>1</td>\n",
       "      <td>1.4</td>\n",
       "      <td>0.800000</td>\n",
       "      <td>0.571429</td>\n",
       "    </tr>\n",
       "    <tr>\n",
       "      <th>18</th>\n",
       "      <td>os</td>\n",
       "      <td>1</td>\n",
       "      <td>0</td>\n",
       "      <td>2</td>\n",
       "      <td>2</td>\n",
       "      <td>1</td>\n",
       "      <td>1.2</td>\n",
       "      <td>0.748331</td>\n",
       "      <td>0.623610</td>\n",
       "    </tr>\n",
       "    <tr>\n",
       "      <th>1</th>\n",
       "      <td>adspot_id</td>\n",
       "      <td>2</td>\n",
       "      <td>0</td>\n",
       "      <td>3</td>\n",
       "      <td>0</td>\n",
       "      <td>0</td>\n",
       "      <td>1.0</td>\n",
       "      <td>1.264911</td>\n",
       "      <td>1.264911</td>\n",
       "    </tr>\n",
       "    <tr>\n",
       "      <th>0</th>\n",
       "      <td>adnw_id</td>\n",
       "      <td>1</td>\n",
       "      <td>1</td>\n",
       "      <td>0</td>\n",
       "      <td>1</td>\n",
       "      <td>0</td>\n",
       "      <td>0.6</td>\n",
       "      <td>0.489898</td>\n",
       "      <td>0.816497</td>\n",
       "    </tr>\n",
       "    <tr>\n",
       "      <th>19</th>\n",
       "      <td>pos</td>\n",
       "      <td>0</td>\n",
       "      <td>0</td>\n",
       "      <td>0</td>\n",
       "      <td>2</td>\n",
       "      <td>1</td>\n",
       "      <td>0.6</td>\n",
       "      <td>0.800000</td>\n",
       "      <td>1.333333</td>\n",
       "    </tr>\n",
       "    <tr>\n",
       "      <th>12</th>\n",
       "      <td>is_interstitial</td>\n",
       "      <td>0</td>\n",
       "      <td>0</td>\n",
       "      <td>0</td>\n",
       "      <td>1</td>\n",
       "      <td>0</td>\n",
       "      <td>0.2</td>\n",
       "      <td>0.400000</td>\n",
       "      <td>2.000000</td>\n",
       "    </tr>\n",
       "    <tr>\n",
       "      <th>5</th>\n",
       "      <td>auction_type_id</td>\n",
       "      <td>0</td>\n",
       "      <td>0</td>\n",
       "      <td>0</td>\n",
       "      <td>0</td>\n",
       "      <td>0</td>\n",
       "      <td>0.0</td>\n",
       "      <td>0.000000</td>\n",
       "      <td>NaN</td>\n",
       "    </tr>\n",
       "  </tbody>\n",
       "</table>\n",
       "</div>"
      ],
      "text/plain": [
       "                    Feature  Fold_1  Fold_2  Fold_3  Fold_4  Fold_5  Average  \\\n",
       "4                    app_id     494     640     652     584     405    555.0   \n",
       "6               campaign_id     325     385     385     350     307    350.4   \n",
       "17             media_app_id     226     342     325     275     191    271.8   \n",
       "10             game_feed_id     141     196     192     171      98    159.6   \n",
       "20                      uid     151     167     166     153     143    156.0   \n",
       "3             advertiser_id     109     118     113     118      91    109.8   \n",
       "27                    count      77      85      90      81      56     77.8   \n",
       "21  mst_advertiser_order_id      62      83      77      68      47     67.4   \n",
       "7      first_login_interval      37      44      49      48      33     42.2   \n",
       "14      last_login_interval      36      49      54      44      27     42.0   \n",
       "15          login_frequency      39      40      43      44      32     39.6   \n",
       "40                 user_num      27      45      43      37      26     35.6   \n",
       "16       max_login_interval      33      29      40      31      28     32.2   \n",
       "39                 camp_num      27      39      35      33      23     31.4   \n",
       "23                app_users      30      35      43      25      19     30.4   \n",
       "22         mst_user_type_id      30      33      32      29      28     30.4   \n",
       "9                from_click      24      27      24      26      21     24.4   \n",
       "24            madia_app_num      13      19      28      26       9     19.0   \n",
       "26         popular_campaign      15      18      21      17      17     17.6   \n",
       "37          uid_hour_zone=2       6       9       7       9       4      7.0   \n",
       "32          uid_dayofweek=4       4       7       7      10       4      6.4   \n",
       "35          uid_hour_zone=0       4       7       6       9       5      6.2   \n",
       "2    adspot_video_format_id       6       6       6       5       6      5.8   \n",
       "29          uid_dayofweek=1       2      10       9       5       2      5.6   \n",
       "13                  item_id       4       4       8       5       4      5.0   \n",
       "33          uid_dayofweek=5       4       6       3       9       3      5.0   \n",
       "28          uid_dayofweek=0       3       4       5       8       4      4.8   \n",
       "34          uid_dayofweek=6       7       5       4       4       2      4.4   \n",
       "30          uid_dayofweek=2       3      10       2       3       2      4.0   \n",
       "11         game_template_id       4       5       4       1       2      3.2   \n",
       "31          uid_dayofweek=3       2       6       2       1       3      2.8   \n",
       "8                 frequency       1       4       4       3       0      2.4   \n",
       "36          uid_hour_zone=1       2       2       6       0       0      2.0   \n",
       "25             popular_game       1       2       1       1       2      1.4   \n",
       "38          uid_hour_zone=3       0       2       2       2       1      1.4   \n",
       "18                       os       1       0       2       2       1      1.2   \n",
       "1                 adspot_id       2       0       3       0       0      1.0   \n",
       "0                   adnw_id       1       1       0       1       0      0.6   \n",
       "19                      pos       0       0       0       2       1      0.6   \n",
       "12          is_interstitial       0       0       0       1       0      0.2   \n",
       "5           auction_type_id       0       0       0       0       0      0.0   \n",
       "\n",
       "          Std        Cv  \n",
       "4   93.483688  0.168439  \n",
       "6   31.378974  0.089552  \n",
       "17  57.262204  0.210678  \n",
       "10  36.456001  0.228421  \n",
       "20   9.208692  0.059030  \n",
       "3    9.987993  0.090965  \n",
       "27  11.720068  0.150644  \n",
       "21  12.499600  0.185454  \n",
       "7    6.241795  0.147910  \n",
       "14   9.570789  0.227876  \n",
       "15   4.223742  0.106660  \n",
       "40   7.889233  0.221608  \n",
       "16   4.261455  0.132343  \n",
       "39   5.713143  0.181947  \n",
       "23   8.236504  0.270938  \n",
       "22   1.854724  0.061011  \n",
       "9    2.059126  0.084390  \n",
       "24   7.293833  0.383886  \n",
       "26   1.959592  0.111340  \n",
       "37   1.897367  0.271052  \n",
       "32   2.244994  0.350780  \n",
       "35   1.720465  0.277494  \n",
       "2    0.400000  0.068966  \n",
       "29   3.382307  0.603983  \n",
       "13   1.549193  0.309839  \n",
       "33   2.280351  0.456070  \n",
       "28   1.720465  0.358430  \n",
       "34   1.624808  0.369274  \n",
       "30   3.033150  0.758288  \n",
       "11   1.469694  0.459279  \n",
       "31   1.720465  0.614452  \n",
       "8    1.624808  0.677003  \n",
       "36   2.190890  1.095445  \n",
       "25   0.489898  0.349927  \n",
       "38   0.800000  0.571429  \n",
       "18   0.748331  0.623610  \n",
       "1    1.264911  1.264911  \n",
       "0    0.489898  0.816497  \n",
       "19   0.800000  1.333333  \n",
       "12   0.400000  2.000000  \n",
       "5    0.000000       NaN  "
      ]
     },
     "execution_count": 28,
     "metadata": {},
     "output_type": "execute_result"
    }
   ],
   "source": [
    "feature_importance_df.sort_values(\"Average\", ascending=False)"
   ]
  },
  {
   "cell_type": "markdown",
   "metadata": {
    "papermill": {
     "duration": 0.064601,
     "end_time": "2020-11-20T14:14:29.516566",
     "exception": false,
     "start_time": "2020-11-20T14:14:29.451965",
     "status": "completed"
    },
    "tags": []
   },
   "source": [
    "# ts lgb"
   ]
  },
  {
   "cell_type": "code",
   "execution_count": 29,
   "metadata": {
    "execution": {
     "iopub.execute_input": "2020-11-20T14:14:29.665420Z",
     "iopub.status.busy": "2020-11-20T14:14:29.654701Z",
     "iopub.status.idle": "2020-11-20T14:18:10.395866Z",
     "shell.execute_reply": "2020-11-20T14:18:10.396711Z"
    },
    "papermill": {
     "duration": 220.815962,
     "end_time": "2020-11-20T14:18:10.397012",
     "exception": false,
     "start_time": "2020-11-20T14:14:29.581050",
     "status": "completed"
    },
    "tags": []
   },
   "outputs": [
    {
     "name": "stdout",
     "output_type": "stream",
     "text": [
      "seed: 0\n",
      "Training until validation scores don't improve for 20 rounds\n",
      "[10]\ttraining's pr_auc: 0.263325\tvalid_1's pr_auc: 0.211375\n",
      "[20]\ttraining's pr_auc: 0.276729\tvalid_1's pr_auc: 0.218887\n",
      "[30]\ttraining's pr_auc: 0.286704\tvalid_1's pr_auc: 0.224114\n",
      "[40]\ttraining's pr_auc: 0.295095\tvalid_1's pr_auc: 0.227926\n",
      "[50]\ttraining's pr_auc: 0.301969\tvalid_1's pr_auc: 0.231069\n",
      "[60]\ttraining's pr_auc: 0.308459\tvalid_1's pr_auc: 0.232975\n",
      "[70]\ttraining's pr_auc: 0.313179\tvalid_1's pr_auc: 0.234414\n",
      "[80]\ttraining's pr_auc: 0.318306\tvalid_1's pr_auc: 0.236091\n",
      "[90]\ttraining's pr_auc: 0.322552\tvalid_1's pr_auc: 0.237033\n",
      "[100]\ttraining's pr_auc: 0.325578\tvalid_1's pr_auc: 0.237737\n",
      "[110]\ttraining's pr_auc: 0.329081\tvalid_1's pr_auc: 0.238295\n",
      "[120]\ttraining's pr_auc: 0.332064\tvalid_1's pr_auc: 0.238579\n",
      "[130]\ttraining's pr_auc: 0.335464\tvalid_1's pr_auc: 0.23915\n",
      "[140]\ttraining's pr_auc: 0.338887\tvalid_1's pr_auc: 0.240184\n",
      "[150]\ttraining's pr_auc: 0.341285\tvalid_1's pr_auc: 0.240307\n",
      "[160]\ttraining's pr_auc: 0.343264\tvalid_1's pr_auc: 0.240315\n",
      "[170]\ttraining's pr_auc: 0.34653\tvalid_1's pr_auc: 0.240683\n",
      "[180]\ttraining's pr_auc: 0.349241\tvalid_1's pr_auc: 0.241081\n",
      "[190]\ttraining's pr_auc: 0.350931\tvalid_1's pr_auc: 0.241888\n",
      "[200]\ttraining's pr_auc: 0.353585\tvalid_1's pr_auc: 0.242643\n",
      "[210]\ttraining's pr_auc: 0.355949\tvalid_1's pr_auc: 0.243089\n",
      "[220]\ttraining's pr_auc: 0.358366\tvalid_1's pr_auc: 0.243446\n",
      "[230]\ttraining's pr_auc: 0.360146\tvalid_1's pr_auc: 0.243323\n",
      "Early stopping, best iteration is:\n",
      "[214]\ttraining's pr_auc: 0.356913\tvalid_1's pr_auc: 0.243558\n",
      "average precision score = 0.24356353786330956\n",
      "0.24356353786330956\n"
     ]
    }
   ],
   "source": [
    "def pr_auc_metric(y_predicted, y_true):\n",
    "    return 'pr_auc', average_precision_score(y_true.get_label(), y_predicted), True\n",
    "\n",
    "def modelling_ts(seed):\n",
    "    print(\"seed:\", seed)\n",
    "    lgbm_params = {'objective': 'binary', 'metric': 'None', 'boosting_type': 'gbdt',\n",
    "               'tree_learner': 'serial', 'learning_rate': 0.1, \"num_leaves\": 10, 'random_seed':seed,'max_depth': 5}\n",
    "    y_train = train_df.target.copy()\n",
    "    X_train = train_df.drop(['target'],axis=1).copy()\n",
    "    y_valid = valid_df.target.copy()\n",
    "    X_valid = valid_df.drop(['target'],axis=1).copy()\n",
    "    \n",
    "    valid_lgb = pd.DataFrame(np.zeros([X_train.shape[0]]))\n",
    "    real = np.array([])\n",
    "    features_list = [i for i in X_train.columns]\n",
    "    feature_importance_df = pd.DataFrame(features_list, columns=[\"Feature\"])\n",
    "    \n",
    "    #rus = RandomUnderSampler(sampling_strategy = {0:sum(y_train==0)//2, 1:sum(y_train==1)}, random_state=seed)\n",
    "    #X_resampled, y_resampled = rus.fit_resample(X_train, y_train)  \n",
    "    #X_train = pd.DataFrame(X_resampled, columns = X_train.columns)\n",
    "    #y_train = pd.DataFrame(y_resampled, columns = [\"target\"])\n",
    "        \n",
    "    lgb_train = lgb.Dataset(X_train, y_train)\n",
    "    lgb_eval = lgb.Dataset(X_valid, y_valid, reference=lgb_train)\n",
    "        \n",
    "    model = lgb.train(lgbm_params, lgb_train,valid_sets=[lgb_train, lgb_eval],\n",
    "       num_boost_round=10000,early_stopping_rounds=20,verbose_eval = 10, feval=pr_auc_metric, categorical_feature = sorted(object_feats))\n",
    "    \n",
    "    valid_predict = model.predict(X_valid, num_iteration = model.best_iteration)\n",
    "    feature_importance_df[\"Importance\"] = model.feature_importance()\n",
    "        \n",
    "    score = average_precision_score(y_valid, valid_predict)\n",
    "    print(\"average precision score = {}\".format(score))\n",
    "    pred_value = model.predict(test, num_iteration = model.best_iteration) \n",
    "    \n",
    "    return pred_value, valid_predict, feature_importance_df\n",
    "\n",
    "validation_ts = np.zeros([valid_df.shape[0]])\n",
    "pred_value_ts = np.zeros([test.shape[0]])\n",
    "seeds = [0]\n",
    "for seed_ in seeds:\n",
    "    test_pred, oof_predict, feature_importance_df = modelling_ts(seed_)\n",
    "    validation_ts += oof_predict / len(seeds)\n",
    "    pred_value_ts += test_pred / len(seeds)\n",
    "\n",
    "ts_score = average_precision_score(valid_df.target, validation_ts)\n",
    "print(ts_score)"
   ]
  },
  {
   "cell_type": "code",
   "execution_count": 30,
   "metadata": {
    "execution": {
     "iopub.execute_input": "2020-11-20T14:18:10.563233Z",
     "iopub.status.busy": "2020-11-20T14:18:10.562486Z",
     "iopub.status.idle": "2020-11-20T14:18:10.568050Z",
     "shell.execute_reply": "2020-11-20T14:18:10.567293Z"
    },
    "papermill": {
     "duration": 0.095611,
     "end_time": "2020-11-20T14:18:10.568179",
     "exception": false,
     "start_time": "2020-11-20T14:18:10.472568",
     "status": "completed"
    },
    "tags": []
   },
   "outputs": [
    {
     "data": {
      "text/html": [
       "<div>\n",
       "<style scoped>\n",
       "    .dataframe tbody tr th:only-of-type {\n",
       "        vertical-align: middle;\n",
       "    }\n",
       "\n",
       "    .dataframe tbody tr th {\n",
       "        vertical-align: top;\n",
       "    }\n",
       "\n",
       "    .dataframe thead th {\n",
       "        text-align: right;\n",
       "    }\n",
       "</style>\n",
       "<table border=\"1\" class=\"dataframe\">\n",
       "  <thead>\n",
       "    <tr style=\"text-align: right;\">\n",
       "      <th></th>\n",
       "      <th>Feature</th>\n",
       "      <th>Importance</th>\n",
       "    </tr>\n",
       "  </thead>\n",
       "  <tbody>\n",
       "    <tr>\n",
       "      <th>4</th>\n",
       "      <td>app_id</td>\n",
       "      <td>523</td>\n",
       "    </tr>\n",
       "    <tr>\n",
       "      <th>6</th>\n",
       "      <td>campaign_id</td>\n",
       "      <td>336</td>\n",
       "    </tr>\n",
       "    <tr>\n",
       "      <th>17</th>\n",
       "      <td>media_app_id</td>\n",
       "      <td>211</td>\n",
       "    </tr>\n",
       "    <tr>\n",
       "      <th>20</th>\n",
       "      <td>uid</td>\n",
       "      <td>140</td>\n",
       "    </tr>\n",
       "    <tr>\n",
       "      <th>10</th>\n",
       "      <td>game_feed_id</td>\n",
       "      <td>112</td>\n",
       "    </tr>\n",
       "    <tr>\n",
       "      <th>3</th>\n",
       "      <td>advertiser_id</td>\n",
       "      <td>109</td>\n",
       "    </tr>\n",
       "    <tr>\n",
       "      <th>27</th>\n",
       "      <td>count</td>\n",
       "      <td>72</td>\n",
       "    </tr>\n",
       "    <tr>\n",
       "      <th>21</th>\n",
       "      <td>mst_advertiser_order_id</td>\n",
       "      <td>56</td>\n",
       "    </tr>\n",
       "    <tr>\n",
       "      <th>7</th>\n",
       "      <td>first_login_interval</td>\n",
       "      <td>45</td>\n",
       "    </tr>\n",
       "    <tr>\n",
       "      <th>15</th>\n",
       "      <td>login_frequency</td>\n",
       "      <td>40</td>\n",
       "    </tr>\n",
       "    <tr>\n",
       "      <th>40</th>\n",
       "      <td>user_num</td>\n",
       "      <td>30</td>\n",
       "    </tr>\n",
       "    <tr>\n",
       "      <th>14</th>\n",
       "      <td>last_login_interval</td>\n",
       "      <td>29</td>\n",
       "    </tr>\n",
       "    <tr>\n",
       "      <th>16</th>\n",
       "      <td>max_login_interval</td>\n",
       "      <td>28</td>\n",
       "    </tr>\n",
       "    <tr>\n",
       "      <th>22</th>\n",
       "      <td>mst_user_type_id</td>\n",
       "      <td>27</td>\n",
       "    </tr>\n",
       "    <tr>\n",
       "      <th>23</th>\n",
       "      <td>app_users</td>\n",
       "      <td>26</td>\n",
       "    </tr>\n",
       "    <tr>\n",
       "      <th>9</th>\n",
       "      <td>from_click</td>\n",
       "      <td>23</td>\n",
       "    </tr>\n",
       "    <tr>\n",
       "      <th>39</th>\n",
       "      <td>camp_num</td>\n",
       "      <td>23</td>\n",
       "    </tr>\n",
       "    <tr>\n",
       "      <th>26</th>\n",
       "      <td>popular_campaign</td>\n",
       "      <td>18</td>\n",
       "    </tr>\n",
       "    <tr>\n",
       "      <th>24</th>\n",
       "      <td>madia_app_num</td>\n",
       "      <td>14</td>\n",
       "    </tr>\n",
       "    <tr>\n",
       "      <th>35</th>\n",
       "      <td>uid_hour_zone=0</td>\n",
       "      <td>9</td>\n",
       "    </tr>\n",
       "    <tr>\n",
       "      <th>13</th>\n",
       "      <td>item_id</td>\n",
       "      <td>7</td>\n",
       "    </tr>\n",
       "    <tr>\n",
       "      <th>2</th>\n",
       "      <td>adspot_video_format_id</td>\n",
       "      <td>6</td>\n",
       "    </tr>\n",
       "    <tr>\n",
       "      <th>32</th>\n",
       "      <td>uid_dayofweek=4</td>\n",
       "      <td>6</td>\n",
       "    </tr>\n",
       "    <tr>\n",
       "      <th>34</th>\n",
       "      <td>uid_dayofweek=6</td>\n",
       "      <td>5</td>\n",
       "    </tr>\n",
       "    <tr>\n",
       "      <th>28</th>\n",
       "      <td>uid_dayofweek=0</td>\n",
       "      <td>5</td>\n",
       "    </tr>\n",
       "    <tr>\n",
       "      <th>29</th>\n",
       "      <td>uid_dayofweek=1</td>\n",
       "      <td>4</td>\n",
       "    </tr>\n",
       "    <tr>\n",
       "      <th>37</th>\n",
       "      <td>uid_hour_zone=2</td>\n",
       "      <td>4</td>\n",
       "    </tr>\n",
       "    <tr>\n",
       "      <th>33</th>\n",
       "      <td>uid_dayofweek=5</td>\n",
       "      <td>3</td>\n",
       "    </tr>\n",
       "    <tr>\n",
       "      <th>38</th>\n",
       "      <td>uid_hour_zone=3</td>\n",
       "      <td>2</td>\n",
       "    </tr>\n",
       "    <tr>\n",
       "      <th>36</th>\n",
       "      <td>uid_hour_zone=1</td>\n",
       "      <td>2</td>\n",
       "    </tr>\n",
       "    <tr>\n",
       "      <th>11</th>\n",
       "      <td>game_template_id</td>\n",
       "      <td>2</td>\n",
       "    </tr>\n",
       "    <tr>\n",
       "      <th>30</th>\n",
       "      <td>uid_dayofweek=2</td>\n",
       "      <td>2</td>\n",
       "    </tr>\n",
       "    <tr>\n",
       "      <th>25</th>\n",
       "      <td>popular_game</td>\n",
       "      <td>2</td>\n",
       "    </tr>\n",
       "    <tr>\n",
       "      <th>1</th>\n",
       "      <td>adspot_id</td>\n",
       "      <td>2</td>\n",
       "    </tr>\n",
       "    <tr>\n",
       "      <th>31</th>\n",
       "      <td>uid_dayofweek=3</td>\n",
       "      <td>1</td>\n",
       "    </tr>\n",
       "    <tr>\n",
       "      <th>8</th>\n",
       "      <td>frequency</td>\n",
       "      <td>1</td>\n",
       "    </tr>\n",
       "    <tr>\n",
       "      <th>0</th>\n",
       "      <td>adnw_id</td>\n",
       "      <td>1</td>\n",
       "    </tr>\n",
       "    <tr>\n",
       "      <th>12</th>\n",
       "      <td>is_interstitial</td>\n",
       "      <td>0</td>\n",
       "    </tr>\n",
       "    <tr>\n",
       "      <th>5</th>\n",
       "      <td>auction_type_id</td>\n",
       "      <td>0</td>\n",
       "    </tr>\n",
       "    <tr>\n",
       "      <th>19</th>\n",
       "      <td>pos</td>\n",
       "      <td>0</td>\n",
       "    </tr>\n",
       "    <tr>\n",
       "      <th>18</th>\n",
       "      <td>os</td>\n",
       "      <td>0</td>\n",
       "    </tr>\n",
       "  </tbody>\n",
       "</table>\n",
       "</div>"
      ],
      "text/plain": [
       "                    Feature  Importance\n",
       "4                    app_id         523\n",
       "6               campaign_id         336\n",
       "17             media_app_id         211\n",
       "20                      uid         140\n",
       "10             game_feed_id         112\n",
       "3             advertiser_id         109\n",
       "27                    count          72\n",
       "21  mst_advertiser_order_id          56\n",
       "7      first_login_interval          45\n",
       "15          login_frequency          40\n",
       "40                 user_num          30\n",
       "14      last_login_interval          29\n",
       "16       max_login_interval          28\n",
       "22         mst_user_type_id          27\n",
       "23                app_users          26\n",
       "9                from_click          23\n",
       "39                 camp_num          23\n",
       "26         popular_campaign          18\n",
       "24            madia_app_num          14\n",
       "35          uid_hour_zone=0           9\n",
       "13                  item_id           7\n",
       "2    adspot_video_format_id           6\n",
       "32          uid_dayofweek=4           6\n",
       "34          uid_dayofweek=6           5\n",
       "28          uid_dayofweek=0           5\n",
       "29          uid_dayofweek=1           4\n",
       "37          uid_hour_zone=2           4\n",
       "33          uid_dayofweek=5           3\n",
       "38          uid_hour_zone=3           2\n",
       "36          uid_hour_zone=1           2\n",
       "11         game_template_id           2\n",
       "30          uid_dayofweek=2           2\n",
       "25             popular_game           2\n",
       "1                 adspot_id           2\n",
       "31          uid_dayofweek=3           1\n",
       "8                 frequency           1\n",
       "0                   adnw_id           1\n",
       "12          is_interstitial           0\n",
       "5           auction_type_id           0\n",
       "19                      pos           0\n",
       "18                       os           0"
      ]
     },
     "execution_count": 30,
     "metadata": {},
     "output_type": "execute_result"
    }
   ],
   "source": [
    "feature_importance_df.sort_values(\"Importance\", ascending=False)"
   ]
  },
  {
   "cell_type": "markdown",
   "metadata": {
    "papermill": {
     "duration": 0.074533,
     "end_time": "2020-11-20T14:18:10.718589",
     "exception": false,
     "start_time": "2020-11-20T14:18:10.644056",
     "status": "completed"
    },
    "tags": []
   },
   "source": [
    "# stratified xgboost"
   ]
  },
  {
   "cell_type": "code",
   "execution_count": 31,
   "metadata": {
    "execution": {
     "iopub.execute_input": "2020-11-20T14:18:10.888123Z",
     "iopub.status.busy": "2020-11-20T14:18:10.887010Z",
     "iopub.status.idle": "2020-11-20T14:18:10.890707Z",
     "shell.execute_reply": "2020-11-20T14:18:10.890127Z"
    },
    "papermill": {
     "duration": 0.097443,
     "end_time": "2020-11-20T14:18:10.890863",
     "exception": false,
     "start_time": "2020-11-20T14:18:10.793420",
     "status": "completed"
    },
    "tags": []
   },
   "outputs": [],
   "source": [
    "# https://xgboost.readthedocs.io/en/latest/parameter.html\n",
    "def pr_auc_metric(y_predicted, y_true):\n",
    "    return 'pr_auc', - average_precision_score(y_true.get_label(), y_predicted)\n",
    "\n",
    "n_folds=5\n",
    "np.random.seed(0)\n",
    "def modelling_xgb():\n",
    "    y = train.target\n",
    "    X = train.drop(['target'],axis=1)\n",
    "    xgb_params = {\"objective\" : \"binary:logistic\", \"max_depth\" : 5, \"learning_rate\" : 0.1, \"tree_method\": \"gpu_hist\"}\n",
    "    \n",
    "    skf=StratifiedKFold(n_splits = n_folds, shuffle=True, random_state=0)\n",
    "    \n",
    "    valid = np.zeros([X.shape[0]])\n",
    "    pred_value = np.zeros(test.shape[0])\n",
    "    X_test = xgb.DMatrix(test.copy())\n",
    "    \n",
    "    for i , (train_index, val_index) in enumerate(skf.split(X, y)):\n",
    "        print(\"fold: \", i)\n",
    "        \n",
    "        X_train = X.iloc[train_index,:]\n",
    "        y_train = y.iloc[train_index]\n",
    "\n",
    "        X_valid = X.iloc[val_index,:]\n",
    "        y_valid = y.iloc[val_index]\n",
    "        \n",
    "        xgb_train = xgb.DMatrix(X_train, label = y_train)\n",
    "        xgb_eval = xgb.DMatrix(X_valid, label = y_valid)\n",
    "        watchlist = [(xgb_train, \"train\"), (xgb_eval, \"eval\")]\n",
    "        num_boost_round = 100000\n",
    "        \n",
    "        model = xgb.train(\n",
    "        xgb_params, xgb_train, num_boost_round, watchlist,\n",
    "        early_stopping_rounds=10, verbose_eval = 50,\n",
    "        feval=pr_auc_metric,\n",
    "    )\n",
    "                \n",
    "        valid_predict = model.predict(xgb_eval, ntree_limit = model.best_ntree_limit)\n",
    "        valid[val_index] = valid_predict\n",
    "        pred_value += model.predict(X_test, ntree_limit = model.best_ntree_limit) / n_folds\n",
    "    \n",
    "    return pred_value, valid\n",
    "\n",
    "#pred_value_xgb, validation_xgb = modelling_xgb()\n",
    "#score_xgb = average_precision_score(train.target, validation_xgb)\n",
    "#print(score_xgb)"
   ]
  },
  {
   "cell_type": "markdown",
   "metadata": {
    "papermill": {
     "duration": 0.075667,
     "end_time": "2020-11-20T14:18:11.043191",
     "exception": false,
     "start_time": "2020-11-20T14:18:10.967524",
     "status": "completed"
    },
    "tags": []
   },
   "source": [
    "# xgb ts"
   ]
  },
  {
   "cell_type": "code",
   "execution_count": 32,
   "metadata": {
    "execution": {
     "iopub.execute_input": "2020-11-20T14:18:11.209364Z",
     "iopub.status.busy": "2020-11-20T14:18:11.202936Z",
     "iopub.status.idle": "2020-11-20T14:18:11.213206Z",
     "shell.execute_reply": "2020-11-20T14:18:11.212475Z"
    },
    "papermill": {
     "duration": 0.09445,
     "end_time": "2020-11-20T14:18:11.213364",
     "exception": false,
     "start_time": "2020-11-20T14:18:11.118914",
     "status": "completed"
    },
    "tags": []
   },
   "outputs": [],
   "source": [
    "# https://xgboost.readthedocs.io/en/latest/parameter.html\n",
    "def pr_auc_metric(y_predicted, y_true):\n",
    "    return 'pr_auc', - average_precision_score(y_true.get_label(), y_predicted)\n",
    "\n",
    "def modelling_xgb_ts(seed):\n",
    "    np.random.seed(seed)\n",
    "    xgb_params = {\"objective\" : \"binary:logistic\", \"max_depth\" : 5, \"learning_rate\" : 0.1,\"tree_method\": \"gpu_hist\"}\n",
    "    \n",
    "    y_train = train_df.target.copy()\n",
    "    X_train = train_df.drop(['target'],axis=1).copy()\n",
    "    \n",
    "    y_valid = valid_df.target.copy()\n",
    "    X_valid = valid_df.drop(['target'],axis=1).copy()\n",
    "        \n",
    "    X_test = xgb.DMatrix(test.copy())\n",
    "        \n",
    "    xgb_train = xgb.DMatrix(X_train, label = y_train)\n",
    "    xgb_eval = xgb.DMatrix(X_valid, label = y_valid)\n",
    "    watchlist = [(xgb_train, \"train\"), (xgb_eval, \"eval\")]\n",
    "    num_boost_round = 100000\n",
    "        \n",
    "    model = xgb.train(\n",
    "        xgb_params, xgb_train, num_boost_round, watchlist,\n",
    "        early_stopping_rounds=10, verbose_eval = 50,\n",
    "        feval=pr_auc_metric,\n",
    "    )\n",
    "                \n",
    "    valid_predict = model.predict(xgb_eval, ntree_limit = model.best_ntree_limit)\n",
    "    pred_value = model.predict(X_test, ntree_limit = model.best_ntree_limit)\n",
    "    \n",
    "    return pred_value, valid_predict\n",
    "\n",
    "#pred_value_xgb_ts, validation_xgb_ts = modelling_xgb_ts(0)\n",
    "#score_xgb_ts = average_precision_score(valid_df.target, validation_xgb_ts)\n",
    "#print(score_xgb_ts)"
   ]
  },
  {
   "cell_type": "markdown",
   "metadata": {
    "papermill": {
     "duration": 0.074988,
     "end_time": "2020-11-20T14:18:11.365309",
     "exception": false,
     "start_time": "2020-11-20T14:18:11.290321",
     "status": "completed"
    },
    "tags": []
   },
   "source": [
    "# submission"
   ]
  },
  {
   "cell_type": "code",
   "execution_count": 33,
   "metadata": {
    "execution": {
     "iopub.execute_input": "2020-11-20T14:18:11.553921Z",
     "iopub.status.busy": "2020-11-20T14:18:11.553107Z",
     "iopub.status.idle": "2020-11-20T14:18:13.574286Z",
     "shell.execute_reply": "2020-11-20T14:18:13.573410Z"
    },
    "papermill": {
     "duration": 2.133351,
     "end_time": "2020-11-20T14:18:13.574456",
     "exception": false,
     "start_time": "2020-11-20T14:18:11.441105",
     "status": "completed"
    },
    "tags": []
   },
   "outputs": [],
   "source": [
    "lgb_sub = pd.read_csv(DIR + \"atmaCup7__sample_submission.csv\")\n",
    "lgb_sub[\"target\"] = (pred_value+pred_value_ts)/2 #+pred_value_xgb+pred_value_xgb_ts)/4\n",
    "lgb_sub.to_csv(\"atmacup7_\"+str(score)[:-10]+\".csv\", index = False)"
   ]
  },
  {
   "cell_type": "code",
   "execution_count": null,
   "metadata": {
    "papermill": {
     "duration": 0.076079,
     "end_time": "2020-11-20T14:18:13.733479",
     "exception": false,
     "start_time": "2020-11-20T14:18:13.657400",
     "status": "completed"
    },
    "tags": []
   },
   "outputs": [],
   "source": []
  }
 ],
 "metadata": {
  "kernelspec": {
   "display_name": "Python 3",
   "language": "python",
   "name": "python3"
  },
  "language_info": {
   "codemirror_mode": {
    "name": "ipython",
    "version": 3
   },
   "file_extension": ".py",
   "mimetype": "text/x-python",
   "name": "python",
   "nbconvert_exporter": "python",
   "pygments_lexer": "ipython3",
   "version": "3.7.6"
  },
  "papermill": {
   "duration": 1652.282891,
   "end_time": "2020-11-20T14:18:13.918182",
   "environment_variables": {},
   "exception": null,
   "input_path": "__notebook__.ipynb",
   "output_path": "__notebook__.ipynb",
   "parameters": {},
   "start_time": "2020-11-20T13:50:41.635291",
   "version": "2.1.0"
  }
 },
 "nbformat": 4,
 "nbformat_minor": 4
}
