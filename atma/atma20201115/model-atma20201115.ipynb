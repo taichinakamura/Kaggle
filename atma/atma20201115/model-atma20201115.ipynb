{
 "cells": [
  {
   "cell_type": "markdown",
   "metadata": {
    "papermill": {
     "duration": 0.024913,
     "end_time": "2020-11-18T06:22:24.973268",
     "exception": false,
     "start_time": "2020-11-18T06:22:24.948355",
     "status": "completed"
    },
    "tags": []
   },
   "source": [
    "- cancel click view per day per user info\n",
    "- add click-view and cv time diff mean info"
   ]
  },
  {
   "cell_type": "code",
   "execution_count": 1,
   "metadata": {
    "execution": {
     "iopub.execute_input": "2020-11-18T06:22:25.027210Z",
     "iopub.status.busy": "2020-11-18T06:22:25.026495Z",
     "iopub.status.idle": "2020-11-18T06:22:35.996590Z",
     "shell.execute_reply": "2020-11-18T06:22:35.995907Z"
    },
    "papermill": {
     "duration": 10.998931,
     "end_time": "2020-11-18T06:22:35.996728",
     "exception": false,
     "start_time": "2020-11-18T06:22:24.997797",
     "status": "completed"
    },
    "tags": []
   },
   "outputs": [
    {
     "name": "stdout",
     "output_type": "stream",
     "text": [
      "Collecting jpholiday\r\n",
      "  Downloading jpholiday-0.1.4-py3-none-any.whl (8.5 kB)\r\n",
      "Installing collected packages: jpholiday\r\n",
      "Successfully installed jpholiday-0.1.4\r\n"
     ]
    }
   ],
   "source": [
    "!pip install jpholiday "
   ]
  },
  {
   "cell_type": "code",
   "execution_count": 2,
   "metadata": {
    "_cell_guid": "b1076dfc-b9ad-4769-8c92-a6c4dae69d19",
    "_uuid": "8f2839f25d086af736a60e9eeb907d3b93b6e0e5",
    "execution": {
     "iopub.execute_input": "2020-11-18T06:22:36.055180Z",
     "iopub.status.busy": "2020-11-18T06:22:36.054517Z",
     "iopub.status.idle": "2020-11-18T06:22:37.140441Z",
     "shell.execute_reply": "2020-11-18T06:22:37.139573Z"
    },
    "papermill": {
     "duration": 1.118044,
     "end_time": "2020-11-18T06:22:37.140577",
     "exception": false,
     "start_time": "2020-11-18T06:22:36.022533",
     "status": "completed"
    },
    "tags": []
   },
   "outputs": [],
   "source": [
    "import os\n",
    "import jpholiday\n",
    "import numpy as np\n",
    "import pandas as pd\n",
    "import warnings\n",
    "import lightgbm as lgb\n",
    "from sklearn import preprocessing\n",
    "from datetime import timedelta\n",
    "from tqdm.notebook import tqdm_notebook\n",
    "from sklearn.metrics import average_precision_score\n",
    "from sklearn.model_selection import StratifiedKFold\n",
    "warnings.filterwarnings('ignore')\n",
    "tqdm_notebook.pandas(desc=\"progress: \")"
   ]
  },
  {
   "cell_type": "code",
   "execution_count": 3,
   "metadata": {
    "execution": {
     "iopub.execute_input": "2020-11-18T06:22:37.224296Z",
     "iopub.status.busy": "2020-11-18T06:22:37.223412Z",
     "iopub.status.idle": "2020-11-18T06:22:58.504829Z",
     "shell.execute_reply": "2020-11-18T06:22:58.504194Z"
    },
    "papermill": {
     "duration": 21.327066,
     "end_time": "2020-11-18T06:22:58.504945",
     "exception": false,
     "start_time": "2020-11-18T06:22:37.177879",
     "status": "completed"
    },
    "tags": []
   },
   "outputs": [],
   "source": [
    "DIR = \"../input/20201115at/\"\n",
    "train = pd.read_csv(DIR+\"train.csv\")\n",
    "test = pd.read_csv(DIR+\"test.csv\")\n",
    "campaign = pd.read_csv(DIR+\"campaign.csv\")\n",
    "\n",
    "#advertiser_video = pd.read_csv(DIR+\"advertiser_video.csv\")\n",
    "#map_game_feed_native_video_assets = pd.read_csv(DIR+'map_game_feed_native_video_assets.csv')\n",
    "#advertiser_converted_video = pd.read_csv(DIR+\"advertiser_converted_video.csv\")"
   ]
  },
  {
   "cell_type": "code",
   "execution_count": 4,
   "metadata": {
    "execution": {
     "iopub.execute_input": "2020-11-18T06:22:58.560567Z",
     "iopub.status.busy": "2020-11-18T06:22:58.560074Z",
     "iopub.status.idle": "2020-11-18T06:22:58.563305Z",
     "shell.execute_reply": "2020-11-18T06:22:58.562932Z"
    },
    "papermill": {
     "duration": 0.03297,
     "end_time": "2020-11-18T06:22:58.563393",
     "exception": false,
     "start_time": "2020-11-18T06:22:58.530423",
     "status": "completed"
    },
    "tags": []
   },
   "outputs": [],
   "source": [
    "#cols = [\"mst_advertiser_video_id\", \"mst_game_feed_id\", \"mst_video_template_id\"]\n",
    "#advertiser_converted_video = advertiser_converted_video[~advertiser_converted_video[cols].duplicated(keep=\"last\")]"
   ]
  },
  {
   "cell_type": "markdown",
   "metadata": {
    "papermill": {
     "duration": 0.017642,
     "end_time": "2020-11-18T06:22:58.599210",
     "exception": false,
     "start_time": "2020-11-18T06:22:58.581568",
     "status": "completed"
    },
    "tags": []
   },
   "source": [
    "# preprocess"
   ]
  },
  {
   "cell_type": "code",
   "execution_count": 5,
   "metadata": {
    "execution": {
     "iopub.execute_input": "2020-11-18T06:22:58.764726Z",
     "iopub.status.busy": "2020-11-18T06:22:58.764250Z",
     "iopub.status.idle": "2020-11-18T06:23:07.164230Z",
     "shell.execute_reply": "2020-11-18T06:23:07.163535Z"
    },
    "papermill": {
     "duration": 8.547212,
     "end_time": "2020-11-18T06:23:07.164343",
     "exception": false,
     "start_time": "2020-11-18T06:22:58.617131",
     "status": "completed"
    },
    "tags": []
   },
   "outputs": [],
   "source": [
    "# with campaign\n",
    "train = train.merge(campaign, left_on=\"campaign_id\", right_on = \"id\", how=\"left\").drop([\"mst_advertiser_id\", \"id\"], axis=1)\n",
    "test = test.merge(campaign, left_on=\"campaign_id\", right_on = \"id\", how=\"left\").drop([\"mst_advertiser_id\", \"id\"], axis=1)"
   ]
  },
  {
   "cell_type": "code",
   "execution_count": 6,
   "metadata": {
    "execution": {
     "iopub.execute_input": "2020-11-18T06:23:07.230296Z",
     "iopub.status.busy": "2020-11-18T06:23:07.225129Z",
     "iopub.status.idle": "2020-11-18T06:23:07.237640Z",
     "shell.execute_reply": "2020-11-18T06:23:07.236984Z"
    },
    "papermill": {
     "duration": 0.047085,
     "end_time": "2020-11-18T06:23:07.237777",
     "exception": false,
     "start_time": "2020-11-18T06:23:07.190692",
     "status": "completed"
    },
    "tags": []
   },
   "outputs": [],
   "source": [
    "def merge_all(\n",
    "    df: pd.DataFrame, map_game_feed_native_video_assets: pd.DataFrame,\n",
    "    advertiser_video: pd.DataFrame, advertiser_converted_video: pd.DataFrame,\n",
    ") -> pd.DataFrame:\n",
    "    # merge res and map_game_feed_native_video_assets\n",
    "    res = pd.merge(df,map_game_feed_native_video_assets,left_on=\"game_feed_id\",right_on=\"mst_game_feed_id\",how=\"left\",\n",
    "    ).drop(columns=[\"mst_game_feed_id\"])  \n",
    "    # remove map_game_feed_native_video_assets keys\n",
    "\n",
    "    # merge res and advertiser_video (horizontal case)\n",
    "    horizontal = advertiser_video.copy()\n",
    "    left_keys = [\"horizontal_mst_advertiser_video_id\", \"advertiser_id\"]\n",
    "    right_keys = [\"id\", \"mst_advertiser_id\"]\n",
    "    horizontal.columns = [f\"horizontal_{c}\" if c not in right_keys else c for c in horizontal.columns]\n",
    "    res = pd.merge(res, horizontal, left_on=left_keys, right_on=right_keys, how=\"left\").drop(columns=right_keys) \n",
    "    # remove advertiser_video keys\n",
    "    \n",
    "    # merge res and advertiser_video (vertical case)\n",
    "    vertical = advertiser_video.copy()\n",
    "    left_keys = [\"vertical_mst_advertiser_video_id\", \"advertiser_id\"]\n",
    "    right_keys = [\"id\", \"mst_advertiser_id\"]\n",
    "    vertical.columns = [f\"vertical_{c}\" if c not in right_keys else c for c in vertical.columns]\n",
    "    res = pd.merge(res, vertical, left_on=left_keys, right_on=right_keys, how=\"left\").drop(columns=right_keys) \n",
    "    # remove advertiser_video keys\n",
    "\n",
    "    # merge res and advertiser_converted_video (horizontal case)\n",
    "    left_keys = [\"horizontal_mst_advertiser_video_id\", \"game_feed_id\", \"video_template_id\",]\n",
    "    right_keys = [\"mst_advertiser_video_id\",\"mst_game_feed_id\", \"mst_video_template_id\",]\n",
    "    horizontal = advertiser_converted_video.copy()\n",
    "    horizontal.columns = [ f\"horizontal_converted_{c}\" if c not in right_keys else c for c in horizontal.columns]\n",
    "    res = pd.merge(res, horizontal, left_on=left_keys, right_on=right_keys, how=\"left\").drop(columns=right_keys)\n",
    "    # remove advertiser_converted_video keys\n",
    "    \n",
    "    # merge res and advertiser_converted_video (vertical case)\n",
    "    left_keys = [\"vertical_mst_advertiser_video_id\",\"game_feed_id\",\"video_template_id\",]\n",
    "    right_keys = [\"mst_advertiser_video_id\",\"mst_game_feed_id\",\"mst_video_template_id\",]\n",
    "    vertical = advertiser_converted_video.copy()\n",
    "    vertical.columns = [f\"vertical_converted_{c}\" if c not in right_keys else c for c in vertical.columns]\n",
    "    res = pd.merge(res, vertical, left_on=left_keys, right_on=right_keys, how=\"left\").drop(columns=right_keys)\n",
    "    # remove advertiser_converted_video keys\n",
    "\n",
    "    return res\n",
    "\n",
    "#train = merge_all(train, map_game_feed_native_video_assets, advertiser_video, advertiser_converted_video)\n",
    "#test = merge_all(test, map_game_feed_native_video_assets, advertiser_video, advertiser_converted_video)\n",
    "\n",
    "#train[\"duration\"] = train[\"vertical_duration\"].fillna(0) + train[\"horizontal_duration\"].fillna(0)\n",
    "#train.drop([\"vertical_duration\", \"horizontal_duration\"], axis=1, inplace=True)\n",
    "\n",
    "#test[\"duration\"] = test[\"vertical_duration\"].fillna(0) + test[\"horizontal_duration\"].fillna(0)\n",
    "#test.drop([\"vertical_duration\", \"horizontal_duration\"], axis=1, inplace=True)\n",
    "\n",
    "# filesize\n",
    "#train[\"filesize\"] = train[\"vertical_file_size\"].fillna(0) + train[\"horizontal_file_size\"].fillna(0)\n",
    "#train.drop([\"vertical_file_size\", \"horizontal_file_size\"], axis=1, inplace=True)\n",
    "\n",
    "#test[\"filesize\"] = test[\"vertical_file_size\"].fillna(0) + test[\"horizontal_file_size\"].fillna(0)\n",
    "#test.drop([\"vertical_file_size\", \"horizontal_file_size\"], axis=1, inplace=True)\n",
    "\n",
    "# converted filesize\n",
    "#train[\"converted_filesize\"] = train[\"vertical_converted_file_size\"].fillna(0.0) + train[\"horizontal_converted_file_size\"].fillna(0)\n",
    "#train.drop([\"vertical_converted_file_size\", \"horizontal_converted_file_size\"], axis=1, inplace=True)\n",
    "\n",
    "#test[\"converted_filesize\"] = test[\"horizontal_converted_file_size\"].fillna(0.0) + test[\"vertical_converted_file_size\"].fillna(0)\n",
    "#test.drop([\"vertical_converted_file_size\", \"horizontal_converted_file_size\"], axis=1, inplace=True)\n",
    "\n",
    "# bitrate\n",
    "#train[\"bitrate\"] = train[\"vertical_converted_bitrate\"].fillna(0) + train[\"horizontal_converted_bitrate\"].fillna(0)\n",
    "#train.drop([\"vertical_converted_bitrate\", \"horizontal_converted_bitrate\"], axis=1, inplace=True)\n",
    "\n",
    "#test[\"bitrate\"] = test[\"vertical_converted_bitrate\"].fillna(0) + test[\"horizontal_converted_bitrate\"].fillna(0)\n",
    "#test.drop([\"vertical_converted_bitrate\", \"horizontal_converted_bitrate\"], axis=1, inplace=True)"
   ]
  },
  {
   "cell_type": "code",
   "execution_count": 7,
   "metadata": {
    "execution": {
     "iopub.execute_input": "2020-11-18T06:23:07.775202Z",
     "iopub.status.busy": "2020-11-18T06:23:07.774547Z",
     "iopub.status.idle": "2020-11-18T06:23:08.289857Z",
     "shell.execute_reply": "2020-11-18T06:23:08.290361Z"
    },
    "papermill": {
     "duration": 1.025667,
     "end_time": "2020-11-18T06:23:08.290505",
     "exception": false,
     "start_time": "2020-11-18T06:23:07.264838",
     "status": "completed"
    },
    "tags": []
   },
   "outputs": [],
   "source": [
    "train[\"imp_at\"] = pd.to_datetime(train[\"imp_at\"])\n",
    "test[\"imp_at\"] = pd.to_datetime(test[\"imp_at\"])"
   ]
  },
  {
   "cell_type": "code",
   "execution_count": 8,
   "metadata": {
    "execution": {
     "iopub.execute_input": "2020-11-18T06:23:08.827022Z",
     "iopub.status.busy": "2020-11-18T06:23:08.826354Z",
     "iopub.status.idle": "2020-11-18T06:23:50.261149Z",
     "shell.execute_reply": "2020-11-18T06:23:50.260456Z"
    },
    "papermill": {
     "duration": 41.945027,
     "end_time": "2020-11-18T06:23:50.261257",
     "exception": false,
     "start_time": "2020-11-18T06:23:08.316230",
     "status": "completed"
    },
    "tags": []
   },
   "outputs": [
    {
     "data": {
      "application/vnd.jupyter.widget-view+json": {
       "model_id": "c48b2c7ea2064a7191bfb2853bf9a16d",
       "version_major": 2,
       "version_minor": 0
      },
      "text/plain": [
       "HBox(children=(FloatProgress(value=0.0, description='progress: ', max=1997595.0, style=ProgressStyle(descripti…"
      ]
     },
     "metadata": {},
     "output_type": "display_data"
    },
    {
     "name": "stdout",
     "output_type": "stream",
     "text": [
      "\n"
     ]
    }
   ],
   "source": [
    "train[\"click_or_view_at\"] = pd.to_datetime(train[\"click_or_view_at\"])\n",
    "train[\"cv_at\"] = pd.to_datetime(train[\"cv_at\"])\n",
    "#train[\"click_or_view_day\"] = train[\"click_or_view_at\"].dt.dayofweek\n",
    "#click_view_df = train.groupby(\"uid\")[\"click_or_view_day\"].value_counts().unstack(fill_value=0)\n",
    "#click_view_df.columns = [\"cv\"+str(i) for i in range(7)]\n",
    "#click_view_df = click_view_df.reset_index(drop=False)\n",
    "\n",
    "train[\"cv_cv_diff\"] = train[\"cv_at\"] - train[\"click_or_view_at\"]\n",
    "train[\"cv_cv_diff\"] = train[\"cv_cv_diff\"].progress_apply(lambda x: x.seconds/3600)\n",
    "user_cv_diff_mean = train.groupby(\"uid\")[\"cv_cv_diff\"].agg({\"mean\"}).add_prefix('cv_cv_diff_').reset_index(drop=False)\n",
    "\n",
    "train = pd.merge(train, user_cv_diff_mean, on=\"uid\", how=\"left\")\n",
    "test = pd.merge(test, user_cv_diff_mean, on=\"uid\", how=\"left\")\n",
    "\n",
    "train.drop(\"cv_cv_diff\", axis=1, inplace=True)"
   ]
  },
  {
   "cell_type": "code",
   "execution_count": 9,
   "metadata": {
    "execution": {
     "iopub.execute_input": "2020-11-18T06:23:50.531293Z",
     "iopub.status.busy": "2020-11-18T06:23:50.382177Z",
     "iopub.status.idle": "2020-11-18T06:23:51.570758Z",
     "shell.execute_reply": "2020-11-18T06:23:51.571474Z"
    },
    "papermill": {
     "duration": 1.283238,
     "end_time": "2020-11-18T06:23:51.571675",
     "exception": false,
     "start_time": "2020-11-18T06:23:50.288437",
     "status": "completed"
    },
    "tags": []
   },
   "outputs": [],
   "source": [
    "# drop because distribution is different\n",
    "train.drop(['os_version'], axis=1, inplace=True)\n",
    "test.drop(['os_version'], axis=1, inplace=True)\n",
    "\n",
    "# noise features?\n",
    "train.drop(['user_type_id', \"category_id\",  \"video_template_id\", \"country_code\", \"game_feed_asset_type_id\"], axis=1, inplace=True)\n",
    "test.drop(['user_type_id', \"category_id\",  \"video_template_id\", \"country_code\", \"game_feed_asset_type_id\"], axis=1, inplace=True)\n",
    "\n",
    "# drop because the exist only in train\n",
    "train.drop(['click_or_view_at', 'cv_at','last_cv_interval', 'last_paid_interval'], axis=1, inplace=True)"
   ]
  },
  {
   "cell_type": "code",
   "execution_count": 10,
   "metadata": {
    "execution": {
     "iopub.execute_input": "2020-11-18T06:23:51.665852Z",
     "iopub.status.busy": "2020-11-18T06:23:51.660720Z",
     "iopub.status.idle": "2020-11-18T06:24:14.292586Z",
     "shell.execute_reply": "2020-11-18T06:24:14.291847Z"
    },
    "papermill": {
     "duration": 22.681047,
     "end_time": "2020-11-18T06:24:14.292740",
     "exception": false,
     "start_time": "2020-11-18T06:23:51.611693",
     "status": "completed"
    },
    "tags": []
   },
   "outputs": [],
   "source": [
    "object_feats = [i for i in train.columns if \"object\" == str(train[i].dtype) and i != \"request_id\"]\n",
    "\n",
    "def get_non_overlapping(train: pd.DataFrame, test: pd.DataFrame, column: str):\n",
    "    only_in_train = set(train[column].unique()) - set(test[column].unique())\n",
    "    only_in_test = set(test[column].unique()) - set(train[column].unique())\n",
    "    non_overlapping = only_in_train.union(only_in_test)\n",
    "    return non_overlapping\n",
    "\n",
    "def category2num(train: pd.DataFrame, test: pd.DataFrame, columns: list):\n",
    "    train_ = train.copy()\n",
    "    test_ = test.copy()\n",
    "    for column in columns:\n",
    "        non_overlapping = get_non_overlapping(train, test, column)\n",
    "        try:\n",
    "            if train[column].dtype == np.dtype(\"O\"):\n",
    "                # dtypeがobjectなら欠損は'missing' クラスにする\n",
    "                train_[column] = train[column].fillna(\"missing\")\n",
    "                test_[column] = test[column].fillna(\"missing\")\n",
    "                train_[column] = train_[column].map(lambda x: x if x not in non_overlapping else \"other\")\n",
    "                test_[column] = test_[column].map(lambda x: x if x not in non_overlapping else \"other\")\n",
    "            else:\n",
    "                # dtypeがint/floatなら欠損は'-1'とする\n",
    "                train_[column] = train[column].fillna(-1)\n",
    "                test_[column] = test[column].fillna(-1)\n",
    "                train_[column] = train_[column].map(lambda x: x if x not in non_overlapping else -2)\n",
    "                test_[column] = test_[column].map(lambda x: x if x not in non_overlapping else -2)\n",
    "\n",
    "            le = preprocessing.LabelEncoder()\n",
    "            concatenated = pd.concat([train_, test_], axis=0).reset_index(drop=True)\n",
    "            le.fit(concatenated[column])\n",
    "            train_[column] = le.transform(train_[column])\n",
    "            test_[column] = le.transform(test_[column])\n",
    "        except Exception:\n",
    "            import pdb\n",
    "            pdb.set_trace()\n",
    "    return train_, test_\n",
    "\n",
    "train, test = category2num(train, test, object_feats)"
   ]
  },
  {
   "cell_type": "markdown",
   "metadata": {
    "papermill": {
     "duration": 0.04029,
     "end_time": "2020-11-18T06:24:14.373637",
     "exception": false,
     "start_time": "2020-11-18T06:24:14.333347",
     "status": "completed"
    },
    "tags": []
   },
   "source": [
    "# feature engineering"
   ]
  },
  {
   "cell_type": "code",
   "execution_count": 11,
   "metadata": {
    "execution": {
     "iopub.execute_input": "2020-11-18T06:24:14.461606Z",
     "iopub.status.busy": "2020-11-18T06:24:14.460785Z",
     "iopub.status.idle": "2020-11-18T06:24:16.985740Z",
     "shell.execute_reply": "2020-11-18T06:24:16.984994Z"
    },
    "papermill": {
     "duration": 2.570756,
     "end_time": "2020-11-18T06:24:16.985911",
     "exception": false,
     "start_time": "2020-11-18T06:24:14.415155",
     "status": "completed"
    },
    "tags": []
   },
   "outputs": [],
   "source": [
    "train[\"type\"] = \"train\"\n",
    "test[\"type\"] = \"test\"\n",
    "all_df = pd.concat([train, test])\n",
    "all_df = all_df.sort_values([\"uid\", \"imp_at\"]).reset_index(drop=True)"
   ]
  },
  {
   "cell_type": "code",
   "execution_count": 12,
   "metadata": {
    "execution": {
     "iopub.execute_input": "2020-11-18T06:24:17.074102Z",
     "iopub.status.busy": "2020-11-18T06:24:17.073282Z",
     "iopub.status.idle": "2020-11-18T06:24:17.167152Z",
     "shell.execute_reply": "2020-11-18T06:24:17.167855Z"
    },
    "papermill": {
     "duration": 0.140606,
     "end_time": "2020-11-18T06:24:17.168030",
     "exception": false,
     "start_time": "2020-11-18T06:24:17.027424",
     "status": "completed"
    },
    "tags": []
   },
   "outputs": [],
   "source": [
    "all_df[\"count\"] = 1\n",
    "all_df[\"count\"] = all_df.groupby(\"uid\")[\"count\"].cumsum()"
   ]
  },
  {
   "cell_type": "code",
   "execution_count": 13,
   "metadata": {
    "execution": {
     "iopub.execute_input": "2020-11-18T06:24:17.265362Z",
     "iopub.status.busy": "2020-11-18T06:24:17.260206Z",
     "iopub.status.idle": "2020-11-18T06:24:23.682148Z",
     "shell.execute_reply": "2020-11-18T06:24:23.681446Z"
    },
    "papermill": {
     "duration": 6.472791,
     "end_time": "2020-11-18T06:24:23.682261",
     "exception": false,
     "start_time": "2020-11-18T06:24:17.209470",
     "status": "completed"
    },
    "tags": []
   },
   "outputs": [],
   "source": [
    "def _create_whole_imp_at_feature(whole_df) -> pd.DataFrame:\n",
    "\n",
    "    imp_at = pd.to_datetime(whole_df['imp_at']) + timedelta(hours=9) # utc -> asia/tokyo\n",
    "    out_df = pd.DataFrame()\n",
    "    out_df['hours'] = imp_at.dt.hour\n",
    "    out_df['dayofweek'] = imp_at.dt.dayofweek\n",
    "    out_df['hour_zone'] = pd.cut(out_df['hours'].values, bins=[-np.inf, 6, 12, 18, np.inf]).codes\n",
    "\n",
    "    def _create_pivot(input_df, c, column='dayofweek', values='hours'):\n",
    "        _df = pd.pivot_table(data=input_df, index=[c], columns=[column], values=values, aggfunc='count')\n",
    "        _df = _df.fillna(0)\n",
    "        _df.columns = [column + '=' + str(x) for x in _df.columns]\n",
    "\n",
    "        # index ごとに正規化して割合にする\n",
    "        _df = _df.div(_df.sum(axis=1), axis=0)\n",
    "        return pd.merge(input_df[c], _df, on=c, how='left').drop(columns=[c]).add_prefix(c + '_')\n",
    "\n",
    "    # uid での集約\n",
    "    for c in ['uid']:\n",
    "        _df = out_df.copy()\n",
    "        _df[c] = whole_df[c]\n",
    "        _feat = pd.concat([\n",
    "            _create_pivot(_df, c),\n",
    "            _create_pivot(_df, c, column='hour_zone', values='dayofweek')  \n",
    "        ], axis=1)\n",
    "        out_df = pd.concat([out_df, _feat], axis=1)\n",
    "\n",
    "    out_df['request_id'] = whole_df['request_id']\n",
    "    return out_df\n",
    "\n",
    "user_imp_df = _create_whole_imp_at_feature(all_df)\n",
    "user_imp_df.drop([\"hours\",\"dayofweek\",\"hour_zone\"], axis=1, inplace=True)\n",
    "all_df = all_df.merge(user_imp_df, on=\"request_id\", how=\"left\")"
   ]
  },
  {
   "cell_type": "code",
   "execution_count": 14,
   "metadata": {
    "execution": {
     "iopub.execute_input": "2020-11-18T06:24:23.743311Z",
     "iopub.status.busy": "2020-11-18T06:24:23.742151Z",
     "iopub.status.idle": "2020-11-18T06:24:23.745167Z",
     "shell.execute_reply": "2020-11-18T06:24:23.744436Z"
    },
    "papermill": {
     "duration": 0.035297,
     "end_time": "2020-11-18T06:24:23.745304",
     "exception": false,
     "start_time": "2020-11-18T06:24:23.710007",
     "status": "completed"
    },
    "tags": []
   },
   "outputs": [],
   "source": [
    "#user_last_login_df = all_df.groupby(\"uid\")[\"last_login_interval\"].agg({\"mean\", \"max\", \"median\"}).add_prefix('last_login_interval_').reset_index(drop=False)\n",
    "#all_df = all_df.merge(user_last_login_df, on=\"uid\", how=\"left\")\n",
    "\n",
    "#user_first_login_df = all_df.groupby(\"uid\")[\"first_login_interval\"].agg({\"mean\", \"max\", \"median\"}).add_prefix('first_login_interval_').reset_index(drop=False)\n",
    "#all_df = all_df.merge(user_first_login_df, on=\"uid\", how=\"left\")\n",
    "\n",
    "#user_login_dif_df = all_df.groupby(\"uid\")[\"login_diff\"].agg({\"mean\", \"max\", \"median\"}).add_prefix('login_diff_').reset_index(drop=False)\n",
    "#all_df = all_df.merge(user_login_dif_df, on=\"uid\", how=\"left\")\n",
    "\n",
    "# all_df[\"login_diff\"] = all_df[\"first_login_interval\"] - all_df[\"last_login_interval\"]"
   ]
  },
  {
   "cell_type": "code",
   "execution_count": 15,
   "metadata": {
    "execution": {
     "iopub.execute_input": "2020-11-18T06:24:23.833434Z",
     "iopub.status.busy": "2020-11-18T06:24:23.832822Z",
     "iopub.status.idle": "2020-11-18T06:24:23.836151Z",
     "shell.execute_reply": "2020-11-18T06:24:23.835503Z"
    },
    "papermill": {
     "duration": 0.049117,
     "end_time": "2020-11-18T06:24:23.836247",
     "exception": false,
     "start_time": "2020-11-18T06:24:23.787130",
     "status": "completed"
    },
    "tags": []
   },
   "outputs": [],
   "source": [
    "#all_df[\"date\"] = all_df[\"imp_at\"].dt.date\n",
    "#all_df[\"dif_login\"] = all_df.groupby(\"uid\")[\"date\"].progress_apply(lambda x: x.diff(1))\n",
    "#all_df[\"dif_login\"] = all_df[\"dif_login\"].progress_apply(lambda x: x.days)\n",
    "#all_df[\"dif_login\"] = all_df[\"dif_login\"].fillna(0)\n",
    "#all_df[\"total_logdays\"] = all_df[\"dif_login\"].progress_apply(lambda x: x if x ==0 or x==1 else 1)\n",
    "#all_df[\"total_logdays\"] = all_df.groupby(\"uid\")[\"total_logdays\"].progress_apply(lambda x: x.cumsum()) + 1"
   ]
  },
  {
   "cell_type": "code",
   "execution_count": 16,
   "metadata": {
    "execution": {
     "iopub.execute_input": "2020-11-18T06:24:24.247353Z",
     "iopub.status.busy": "2020-11-18T06:24:24.246417Z",
     "iopub.status.idle": "2020-11-18T06:24:25.769563Z",
     "shell.execute_reply": "2020-11-18T06:24:25.768900Z"
    },
    "papermill": {
     "duration": 1.90543,
     "end_time": "2020-11-18T06:24:25.769698",
     "exception": false,
     "start_time": "2020-11-18T06:24:23.864268",
     "status": "completed"
    },
    "tags": []
   },
   "outputs": [],
   "source": [
    "train = all_df[all_df.type==\"train\"].drop(\"type\", axis=1).reset_index(drop=True)\n",
    "test = all_df[all_df.type==\"test\"].drop(\"type\", axis=1).reset_index(drop=True)"
   ]
  },
  {
   "cell_type": "code",
   "execution_count": 17,
   "metadata": {
    "execution": {
     "iopub.execute_input": "2020-11-18T06:24:25.832752Z",
     "iopub.status.busy": "2020-11-18T06:24:25.831601Z",
     "iopub.status.idle": "2020-11-18T06:24:26.632615Z",
     "shell.execute_reply": "2020-11-18T06:24:26.631876Z"
    },
    "papermill": {
     "duration": 0.834902,
     "end_time": "2020-11-18T06:24:26.632771",
     "exception": false,
     "start_time": "2020-11-18T06:24:25.797869",
     "status": "completed"
    },
    "tags": []
   },
   "outputs": [],
   "source": [
    "train = train.sort_values(\"imp_at\").reset_index(drop=True)\n",
    "test = test.sort_values(\"imp_at\").reset_index(drop=True)"
   ]
  },
  {
   "cell_type": "markdown",
   "metadata": {
    "papermill": {
     "duration": 0.04109,
     "end_time": "2020-11-18T06:24:26.715909",
     "exception": false,
     "start_time": "2020-11-18T06:24:26.674819",
     "status": "completed"
    },
    "tags": []
   },
   "source": [
    "# separation for validation"
   ]
  },
  {
   "cell_type": "code",
   "execution_count": 18,
   "metadata": {
    "execution": {
     "iopub.execute_input": "2020-11-18T06:24:26.932133Z",
     "iopub.status.busy": "2020-11-18T06:24:26.813878Z",
     "iopub.status.idle": "2020-11-18T06:24:26.970446Z",
     "shell.execute_reply": "2020-11-18T06:24:26.969839Z"
    },
    "papermill": {
     "duration": 0.213685,
     "end_time": "2020-11-18T06:24:26.970556",
     "exception": false,
     "start_time": "2020-11-18T06:24:26.756871",
     "status": "completed"
    },
    "tags": []
   },
   "outputs": [],
   "source": [
    "train.drop(['request_id'], axis=1, inplace=True)\n",
    "test.drop(['request_id'], axis=1, inplace=True)"
   ]
  },
  {
   "cell_type": "code",
   "execution_count": 19,
   "metadata": {
    "execution": {
     "iopub.execute_input": "2020-11-18T06:24:27.032154Z",
     "iopub.status.busy": "2020-11-18T06:24:27.031463Z",
     "iopub.status.idle": "2020-11-18T06:24:27.034213Z",
     "shell.execute_reply": "2020-11-18T06:24:27.034717Z"
    },
    "papermill": {
     "duration": 0.035895,
     "end_time": "2020-11-18T06:24:27.034856",
     "exception": false,
     "start_time": "2020-11-18T06:24:26.998961",
     "status": "completed"
    },
    "tags": []
   },
   "outputs": [],
   "source": [
    "#mask = train.imp_at > \"2020-05-21\"\n",
    "#valid_df = train.loc[mask].copy()\n",
    "#train_df = train.loc[~mask].copy()"
   ]
  },
  {
   "cell_type": "code",
   "execution_count": 20,
   "metadata": {
    "execution": {
     "iopub.execute_input": "2020-11-18T06:24:27.196324Z",
     "iopub.status.busy": "2020-11-18T06:24:27.167423Z",
     "iopub.status.idle": "2020-11-18T06:24:27.217337Z",
     "shell.execute_reply": "2020-11-18T06:24:27.218002Z"
    },
    "papermill": {
     "duration": 0.153985,
     "end_time": "2020-11-18T06:24:27.218186",
     "exception": false,
     "start_time": "2020-11-18T06:24:27.064201",
     "status": "completed"
    },
    "tags": []
   },
   "outputs": [],
   "source": [
    "train = train.drop([\"imp_at\"], axis=1)\n",
    "test = test.drop([\"imp_at\"], axis=1)\n",
    "\n",
    "#valid_df = valid_df.drop([\"imp_at\"], axis=1)\n",
    "#train_df = train_df.drop([\"imp_at\"], axis=1)"
   ]
  },
  {
   "cell_type": "code",
   "execution_count": 21,
   "metadata": {
    "execution": {
     "iopub.execute_input": "2020-11-18T06:24:27.332640Z",
     "iopub.status.busy": "2020-11-18T06:24:27.317731Z",
     "iopub.status.idle": "2020-11-18T06:24:27.337700Z",
     "shell.execute_reply": "2020-11-18T06:24:27.336965Z"
    },
    "papermill": {
     "duration": 0.077399,
     "end_time": "2020-11-18T06:24:27.337842",
     "exception": false,
     "start_time": "2020-11-18T06:24:27.260443",
     "status": "completed"
    },
    "tags": []
   },
   "outputs": [],
   "source": [
    "test = test.drop(\"target\", axis=1)"
   ]
  },
  {
   "cell_type": "code",
   "execution_count": 22,
   "metadata": {
    "execution": {
     "iopub.execute_input": "2020-11-18T06:24:27.430684Z",
     "iopub.status.busy": "2020-11-18T06:24:27.429815Z",
     "iopub.status.idle": "2020-11-18T06:24:27.434178Z",
     "shell.execute_reply": "2020-11-18T06:24:27.434877Z"
    },
    "papermill": {
     "duration": 0.054625,
     "end_time": "2020-11-18T06:24:27.435065",
     "exception": false,
     "start_time": "2020-11-18T06:24:27.380440",
     "status": "completed"
    },
    "tags": []
   },
   "outputs": [
    {
     "data": {
      "text/plain": [
       "((1997595, 38), (390095, 37))"
      ]
     },
     "execution_count": 22,
     "metadata": {},
     "output_type": "execute_result"
    }
   ],
   "source": [
    "train.shape, test.shape "
   ]
  },
  {
   "cell_type": "code",
   "execution_count": 23,
   "metadata": {
    "execution": {
     "iopub.execute_input": "2020-11-18T06:24:27.527388Z",
     "iopub.status.busy": "2020-11-18T06:24:27.526619Z",
     "iopub.status.idle": "2020-11-18T06:24:27.531231Z",
     "shell.execute_reply": "2020-11-18T06:24:27.531948Z"
    },
    "papermill": {
     "duration": 0.053793,
     "end_time": "2020-11-18T06:24:27.532119",
     "exception": false,
     "start_time": "2020-11-18T06:24:27.478326",
     "status": "completed"
    },
    "tags": []
   },
   "outputs": [
    {
     "data": {
      "text/plain": [
       "Index(['target', 'adnw_id', 'adspot_id', 'adspot_video_format_id',\n",
       "       'advertiser_id', 'app_id', 'auction_type_id', 'campaign_id',\n",
       "       'first_login_interval', 'frequency', 'from_click', 'game_feed_id',\n",
       "       'game_template_id', 'header_bidding', 'is_interstitial', 'item_id',\n",
       "       'last_login_interval', 'login_frequency', 'max_login_interval',\n",
       "       'media_app_id', 'os', 'pos', 'uid', 'mst_advertiser_order_id',\n",
       "       'mst_user_type_id', 'cv_cv_diff_mean', 'count', 'uid_dayofweek=0',\n",
       "       'uid_dayofweek=1', 'uid_dayofweek=2', 'uid_dayofweek=3',\n",
       "       'uid_dayofweek=4', 'uid_dayofweek=5', 'uid_dayofweek=6',\n",
       "       'uid_hour_zone=0', 'uid_hour_zone=1', 'uid_hour_zone=2',\n",
       "       'uid_hour_zone=3'],\n",
       "      dtype='object')"
      ]
     },
     "execution_count": 23,
     "metadata": {},
     "output_type": "execute_result"
    }
   ],
   "source": [
    "train.columns"
   ]
  },
  {
   "cell_type": "markdown",
   "metadata": {
    "papermill": {
     "duration": 0.043401,
     "end_time": "2020-11-18T06:24:27.619196",
     "exception": false,
     "start_time": "2020-11-18T06:24:27.575795",
     "status": "completed"
    },
    "tags": []
   },
   "source": [
    "# stratified modelling"
   ]
  },
  {
   "cell_type": "code",
   "execution_count": 24,
   "metadata": {
    "execution": {
     "iopub.execute_input": "2020-11-18T06:24:27.713605Z",
     "iopub.status.busy": "2020-11-18T06:24:27.712529Z",
     "iopub.status.idle": "2020-11-18T06:24:27.715401Z",
     "shell.execute_reply": "2020-11-18T06:24:27.716047Z"
    },
    "papermill": {
     "duration": 0.052743,
     "end_time": "2020-11-18T06:24:27.716215",
     "exception": false,
     "start_time": "2020-11-18T06:24:27.663472",
     "status": "completed"
    },
    "tags": []
   },
   "outputs": [],
   "source": [
    "object_feats = [i for i in object_feats if i in train.columns]"
   ]
  },
  {
   "cell_type": "code",
   "execution_count": 25,
   "metadata": {
    "_cell_guid": "79c7e3d0-c299-4dcb-8224-4455121ee9b0",
    "_uuid": "d629ff2d2480ee46fbb7e2d37f6b5fab8052498a",
    "execution": {
     "iopub.execute_input": "2020-11-18T06:24:27.826311Z",
     "iopub.status.busy": "2020-11-18T06:24:27.825480Z",
     "iopub.status.idle": "2020-11-18T06:54:48.043379Z",
     "shell.execute_reply": "2020-11-18T06:54:48.042610Z"
    },
    "papermill": {
     "duration": 1820.282751,
     "end_time": "2020-11-18T06:54:48.043529",
     "exception": false,
     "start_time": "2020-11-18T06:24:27.760778",
     "status": "completed"
    },
    "tags": []
   },
   "outputs": [
    {
     "name": "stdout",
     "output_type": "stream",
     "text": [
      "seed: 0\n",
      "fold:  0\n",
      "Training until validation scores don't improve for 20 rounds\n",
      "[10]\ttraining's pr_auc: 0.205927\tvalid_1's pr_auc: 0.202036\n",
      "[20]\ttraining's pr_auc: 0.214025\tvalid_1's pr_auc: 0.2099\n",
      "[30]\ttraining's pr_auc: 0.223443\tvalid_1's pr_auc: 0.217291\n",
      "[40]\ttraining's pr_auc: 0.232255\tvalid_1's pr_auc: 0.223835\n",
      "[50]\ttraining's pr_auc: 0.238879\tvalid_1's pr_auc: 0.227729\n",
      "[60]\ttraining's pr_auc: 0.245154\tvalid_1's pr_auc: 0.230913\n",
      "[70]\ttraining's pr_auc: 0.250896\tvalid_1's pr_auc: 0.234164\n",
      "[80]\ttraining's pr_auc: 0.256744\tvalid_1's pr_auc: 0.237471\n",
      "[90]\ttraining's pr_auc: 0.2612\tvalid_1's pr_auc: 0.239713\n",
      "[100]\ttraining's pr_auc: 0.26527\tvalid_1's pr_auc: 0.241358\n",
      "[110]\ttraining's pr_auc: 0.269743\tvalid_1's pr_auc: 0.243155\n",
      "[120]\ttraining's pr_auc: 0.272871\tvalid_1's pr_auc: 0.243995\n",
      "[130]\ttraining's pr_auc: 0.275132\tvalid_1's pr_auc: 0.244762\n",
      "[140]\ttraining's pr_auc: 0.277964\tvalid_1's pr_auc: 0.245402\n",
      "[150]\ttraining's pr_auc: 0.280694\tvalid_1's pr_auc: 0.245973\n",
      "[160]\ttraining's pr_auc: 0.282448\tvalid_1's pr_auc: 0.246204\n",
      "[170]\ttraining's pr_auc: 0.284673\tvalid_1's pr_auc: 0.24643\n",
      "[180]\ttraining's pr_auc: 0.287202\tvalid_1's pr_auc: 0.247366\n",
      "[190]\ttraining's pr_auc: 0.289868\tvalid_1's pr_auc: 0.248223\n",
      "[200]\ttraining's pr_auc: 0.291408\tvalid_1's pr_auc: 0.2482\n",
      "[210]\ttraining's pr_auc: 0.292812\tvalid_1's pr_auc: 0.248372\n",
      "[220]\ttraining's pr_auc: 0.295088\tvalid_1's pr_auc: 0.249049\n",
      "[230]\ttraining's pr_auc: 0.296989\tvalid_1's pr_auc: 0.249414\n",
      "[240]\ttraining's pr_auc: 0.298736\tvalid_1's pr_auc: 0.249706\n",
      "[250]\ttraining's pr_auc: 0.300617\tvalid_1's pr_auc: 0.250075\n",
      "[260]\ttraining's pr_auc: 0.302642\tvalid_1's pr_auc: 0.250168\n",
      "[270]\ttraining's pr_auc: 0.304432\tvalid_1's pr_auc: 0.250612\n",
      "[280]\ttraining's pr_auc: 0.306155\tvalid_1's pr_auc: 0.250997\n",
      "[290]\ttraining's pr_auc: 0.307536\tvalid_1's pr_auc: 0.251198\n",
      "[300]\ttraining's pr_auc: 0.30868\tvalid_1's pr_auc: 0.251046\n",
      "Early stopping, best iteration is:\n",
      "[287]\ttraining's pr_auc: 0.30704\tvalid_1's pr_auc: 0.251258\n",
      "fold:  1\n",
      "Training until validation scores don't improve for 20 rounds\n",
      "[10]\ttraining's pr_auc: 0.204964\tvalid_1's pr_auc: 0.203198\n",
      "[20]\ttraining's pr_auc: 0.21438\tvalid_1's pr_auc: 0.211637\n",
      "[30]\ttraining's pr_auc: 0.22324\tvalid_1's pr_auc: 0.218665\n",
      "[40]\ttraining's pr_auc: 0.230119\tvalid_1's pr_auc: 0.223456\n",
      "[50]\ttraining's pr_auc: 0.237024\tvalid_1's pr_auc: 0.227464\n",
      "[60]\ttraining's pr_auc: 0.243683\tvalid_1's pr_auc: 0.231303\n",
      "[70]\ttraining's pr_auc: 0.250352\tvalid_1's pr_auc: 0.235425\n",
      "[80]\ttraining's pr_auc: 0.255214\tvalid_1's pr_auc: 0.237872\n",
      "[90]\ttraining's pr_auc: 0.258546\tvalid_1's pr_auc: 0.239083\n",
      "[100]\ttraining's pr_auc: 0.26189\tvalid_1's pr_auc: 0.240586\n",
      "[110]\ttraining's pr_auc: 0.266088\tvalid_1's pr_auc: 0.242994\n",
      "[120]\ttraining's pr_auc: 0.268638\tvalid_1's pr_auc: 0.244052\n",
      "[130]\ttraining's pr_auc: 0.271816\tvalid_1's pr_auc: 0.24485\n",
      "[140]\ttraining's pr_auc: 0.274466\tvalid_1's pr_auc: 0.24565\n",
      "[150]\ttraining's pr_auc: 0.277607\tvalid_1's pr_auc: 0.246359\n",
      "[160]\ttraining's pr_auc: 0.280719\tvalid_1's pr_auc: 0.24728\n",
      "[170]\ttraining's pr_auc: 0.282817\tvalid_1's pr_auc: 0.247892\n",
      "[180]\ttraining's pr_auc: 0.285234\tvalid_1's pr_auc: 0.248278\n",
      "[190]\ttraining's pr_auc: 0.286912\tvalid_1's pr_auc: 0.248538\n",
      "[200]\ttraining's pr_auc: 0.288272\tvalid_1's pr_auc: 0.248837\n",
      "[210]\ttraining's pr_auc: 0.290417\tvalid_1's pr_auc: 0.248732\n",
      "[220]\ttraining's pr_auc: 0.292184\tvalid_1's pr_auc: 0.249051\n",
      "[230]\ttraining's pr_auc: 0.293482\tvalid_1's pr_auc: 0.249476\n",
      "[240]\ttraining's pr_auc: 0.294858\tvalid_1's pr_auc: 0.249649\n",
      "[250]\ttraining's pr_auc: 0.297292\tvalid_1's pr_auc: 0.25005\n",
      "[260]\ttraining's pr_auc: 0.299275\tvalid_1's pr_auc: 0.250486\n",
      "[270]\ttraining's pr_auc: 0.300814\tvalid_1's pr_auc: 0.250761\n",
      "[280]\ttraining's pr_auc: 0.302794\tvalid_1's pr_auc: 0.251103\n",
      "[290]\ttraining's pr_auc: 0.304161\tvalid_1's pr_auc: 0.251487\n",
      "[300]\ttraining's pr_auc: 0.305356\tvalid_1's pr_auc: 0.251418\n",
      "[310]\ttraining's pr_auc: 0.307219\tvalid_1's pr_auc: 0.251663\n",
      "[320]\ttraining's pr_auc: 0.30983\tvalid_1's pr_auc: 0.25189\n",
      "[330]\ttraining's pr_auc: 0.311477\tvalid_1's pr_auc: 0.252027\n",
      "[340]\ttraining's pr_auc: 0.313634\tvalid_1's pr_auc: 0.25252\n",
      "[350]\ttraining's pr_auc: 0.314722\tvalid_1's pr_auc: 0.252619\n",
      "[360]\ttraining's pr_auc: 0.315579\tvalid_1's pr_auc: 0.25264\n",
      "[370]\ttraining's pr_auc: 0.317318\tvalid_1's pr_auc: 0.252998\n",
      "[380]\ttraining's pr_auc: 0.318608\tvalid_1's pr_auc: 0.252797\n",
      "[390]\ttraining's pr_auc: 0.320273\tvalid_1's pr_auc: 0.25315\n",
      "[400]\ttraining's pr_auc: 0.32162\tvalid_1's pr_auc: 0.253229\n",
      "[410]\ttraining's pr_auc: 0.323896\tvalid_1's pr_auc: 0.253503\n",
      "[420]\ttraining's pr_auc: 0.325979\tvalid_1's pr_auc: 0.253621\n",
      "[430]\ttraining's pr_auc: 0.327861\tvalid_1's pr_auc: 0.254088\n",
      "[440]\ttraining's pr_auc: 0.329665\tvalid_1's pr_auc: 0.254097\n",
      "[450]\ttraining's pr_auc: 0.332263\tvalid_1's pr_auc: 0.254696\n",
      "[460]\ttraining's pr_auc: 0.33311\tvalid_1's pr_auc: 0.254714\n",
      "[470]\ttraining's pr_auc: 0.333988\tvalid_1's pr_auc: 0.254646\n",
      "[480]\ttraining's pr_auc: 0.335543\tvalid_1's pr_auc: 0.254796\n",
      "[490]\ttraining's pr_auc: 0.337263\tvalid_1's pr_auc: 0.255056\n",
      "[500]\ttraining's pr_auc: 0.338478\tvalid_1's pr_auc: 0.255129\n",
      "[510]\ttraining's pr_auc: 0.340253\tvalid_1's pr_auc: 0.255248\n",
      "[520]\ttraining's pr_auc: 0.341263\tvalid_1's pr_auc: 0.255262\n",
      "[530]\ttraining's pr_auc: 0.341699\tvalid_1's pr_auc: 0.254409\n",
      "Early stopping, best iteration is:\n",
      "[514]\ttraining's pr_auc: 0.34074\tvalid_1's pr_auc: 0.255324\n",
      "fold:  2\n",
      "Training until validation scores don't improve for 20 rounds\n",
      "[10]\ttraining's pr_auc: 0.20579\tvalid_1's pr_auc: 0.205528\n",
      "[20]\ttraining's pr_auc: 0.214862\tvalid_1's pr_auc: 0.212675\n",
      "[30]\ttraining's pr_auc: 0.223574\tvalid_1's pr_auc: 0.219833\n",
      "[40]\ttraining's pr_auc: 0.230966\tvalid_1's pr_auc: 0.224582\n",
      "[50]\ttraining's pr_auc: 0.237381\tvalid_1's pr_auc: 0.228286\n",
      "[60]\ttraining's pr_auc: 0.244706\tvalid_1's pr_auc: 0.232386\n",
      "[70]\ttraining's pr_auc: 0.250226\tvalid_1's pr_auc: 0.235658\n",
      "[80]\ttraining's pr_auc: 0.255207\tvalid_1's pr_auc: 0.238392\n",
      "[90]\ttraining's pr_auc: 0.260215\tvalid_1's pr_auc: 0.240702\n",
      "[100]\ttraining's pr_auc: 0.264681\tvalid_1's pr_auc: 0.242741\n",
      "[110]\ttraining's pr_auc: 0.268035\tvalid_1's pr_auc: 0.243921\n",
      "[120]\ttraining's pr_auc: 0.271164\tvalid_1's pr_auc: 0.245095\n",
      "[130]\ttraining's pr_auc: 0.273348\tvalid_1's pr_auc: 0.245754\n",
      "[140]\ttraining's pr_auc: 0.276123\tvalid_1's pr_auc: 0.245762\n",
      "[150]\ttraining's pr_auc: 0.279784\tvalid_1's pr_auc: 0.247176\n",
      "[160]\ttraining's pr_auc: 0.282072\tvalid_1's pr_auc: 0.247627\n",
      "[170]\ttraining's pr_auc: 0.283919\tvalid_1's pr_auc: 0.247911\n",
      "[180]\ttraining's pr_auc: 0.285804\tvalid_1's pr_auc: 0.24841\n",
      "[190]\ttraining's pr_auc: 0.288106\tvalid_1's pr_auc: 0.248729\n",
      "[200]\ttraining's pr_auc: 0.290583\tvalid_1's pr_auc: 0.249155\n",
      "[210]\ttraining's pr_auc: 0.292692\tvalid_1's pr_auc: 0.249801\n",
      "[220]\ttraining's pr_auc: 0.294413\tvalid_1's pr_auc: 0.250046\n",
      "[230]\ttraining's pr_auc: 0.296269\tvalid_1's pr_auc: 0.250448\n",
      "[240]\ttraining's pr_auc: 0.297539\tvalid_1's pr_auc: 0.250369\n",
      "[250]\ttraining's pr_auc: 0.299035\tvalid_1's pr_auc: 0.250351\n",
      "Early stopping, best iteration is:\n",
      "[233]\ttraining's pr_auc: 0.296751\tvalid_1's pr_auc: 0.250527\n",
      "fold:  3\n",
      "Training until validation scores don't improve for 20 rounds\n",
      "[10]\ttraining's pr_auc: 0.206702\tvalid_1's pr_auc: 0.205258\n",
      "[20]\ttraining's pr_auc: 0.215526\tvalid_1's pr_auc: 0.212612\n",
      "[30]\ttraining's pr_auc: 0.224472\tvalid_1's pr_auc: 0.218414\n",
      "[40]\ttraining's pr_auc: 0.232548\tvalid_1's pr_auc: 0.224248\n",
      "[50]\ttraining's pr_auc: 0.240435\tvalid_1's pr_auc: 0.230432\n",
      "[60]\ttraining's pr_auc: 0.247099\tvalid_1's pr_auc: 0.234317\n",
      "[70]\ttraining's pr_auc: 0.252857\tvalid_1's pr_auc: 0.237239\n",
      "[80]\ttraining's pr_auc: 0.257676\tvalid_1's pr_auc: 0.239723\n",
      "[90]\ttraining's pr_auc: 0.262438\tvalid_1's pr_auc: 0.242611\n",
      "[100]\ttraining's pr_auc: 0.265836\tvalid_1's pr_auc: 0.243692\n",
      "[110]\ttraining's pr_auc: 0.268645\tvalid_1's pr_auc: 0.244773\n",
      "[120]\ttraining's pr_auc: 0.27141\tvalid_1's pr_auc: 0.245493\n",
      "[130]\ttraining's pr_auc: 0.274824\tvalid_1's pr_auc: 0.246913\n",
      "[140]\ttraining's pr_auc: 0.27747\tvalid_1's pr_auc: 0.247302\n",
      "[150]\ttraining's pr_auc: 0.280808\tvalid_1's pr_auc: 0.24823\n",
      "[160]\ttraining's pr_auc: 0.283582\tvalid_1's pr_auc: 0.249024\n",
      "[170]\ttraining's pr_auc: 0.285398\tvalid_1's pr_auc: 0.248947\n",
      "[180]\ttraining's pr_auc: 0.287247\tvalid_1's pr_auc: 0.249673\n",
      "[190]\ttraining's pr_auc: 0.290031\tvalid_1's pr_auc: 0.250377\n",
      "[200]\ttraining's pr_auc: 0.292378\tvalid_1's pr_auc: 0.250869\n",
      "[210]\ttraining's pr_auc: 0.293975\tvalid_1's pr_auc: 0.251119\n",
      "[220]\ttraining's pr_auc: 0.295736\tvalid_1's pr_auc: 0.251273\n",
      "[230]\ttraining's pr_auc: 0.298028\tvalid_1's pr_auc: 0.251546\n",
      "[240]\ttraining's pr_auc: 0.300471\tvalid_1's pr_auc: 0.25227\n",
      "[250]\ttraining's pr_auc: 0.301744\tvalid_1's pr_auc: 0.252323\n",
      "[260]\ttraining's pr_auc: 0.303695\tvalid_1's pr_auc: 0.252676\n",
      "[270]\ttraining's pr_auc: 0.305102\tvalid_1's pr_auc: 0.252658\n",
      "Early stopping, best iteration is:\n",
      "[258]\ttraining's pr_auc: 0.303236\tvalid_1's pr_auc: 0.25273\n",
      "fold:  4\n",
      "Training until validation scores don't improve for 20 rounds\n",
      "[10]\ttraining's pr_auc: 0.206524\tvalid_1's pr_auc: 0.202483\n",
      "[20]\ttraining's pr_auc: 0.216156\tvalid_1's pr_auc: 0.210389\n",
      "[30]\ttraining's pr_auc: 0.225346\tvalid_1's pr_auc: 0.216913\n",
      "[40]\ttraining's pr_auc: 0.23414\tvalid_1's pr_auc: 0.222221\n",
      "[50]\ttraining's pr_auc: 0.241073\tvalid_1's pr_auc: 0.225978\n",
      "[60]\ttraining's pr_auc: 0.247422\tvalid_1's pr_auc: 0.229282\n",
      "[70]\ttraining's pr_auc: 0.253287\tvalid_1's pr_auc: 0.233033\n",
      "[80]\ttraining's pr_auc: 0.257995\tvalid_1's pr_auc: 0.234978\n",
      "[90]\ttraining's pr_auc: 0.262439\tvalid_1's pr_auc: 0.236813\n",
      "[100]\ttraining's pr_auc: 0.266517\tvalid_1's pr_auc: 0.238348\n",
      "[110]\ttraining's pr_auc: 0.269962\tvalid_1's pr_auc: 0.239399\n",
      "[120]\ttraining's pr_auc: 0.274055\tvalid_1's pr_auc: 0.240795\n",
      "[130]\ttraining's pr_auc: 0.27736\tvalid_1's pr_auc: 0.241952\n",
      "[140]\ttraining's pr_auc: 0.279682\tvalid_1's pr_auc: 0.241928\n",
      "[150]\ttraining's pr_auc: 0.2823\tvalid_1's pr_auc: 0.24263\n",
      "[160]\ttraining's pr_auc: 0.284416\tvalid_1's pr_auc: 0.243087\n",
      "[170]\ttraining's pr_auc: 0.287011\tvalid_1's pr_auc: 0.243479\n",
      "[180]\ttraining's pr_auc: 0.288699\tvalid_1's pr_auc: 0.243315\n",
      "[190]\ttraining's pr_auc: 0.289653\tvalid_1's pr_auc: 0.243127\n",
      "[200]\ttraining's pr_auc: 0.292451\tvalid_1's pr_auc: 0.243549\n",
      "[210]\ttraining's pr_auc: 0.294635\tvalid_1's pr_auc: 0.243797\n",
      "[220]\ttraining's pr_auc: 0.296199\tvalid_1's pr_auc: 0.243653\n",
      "Early stopping, best iteration is:\n",
      "[208]\ttraining's pr_auc: 0.294437\tvalid_1's pr_auc: 0.24384\n",
      "0.25052135805424325\n"
     ]
    }
   ],
   "source": [
    "# stratified k fold\n",
    "n_folds = 5\n",
    "def pr_auc_metric(y_predicted, y_true):\n",
    "    return 'pr_auc', average_precision_score(y_true.get_label(), y_predicted), True\n",
    "\n",
    "def modelling(seed):\n",
    "    print(\"seed:\", seed)\n",
    "    lgbm_params = {'objective': 'binary', 'metric': 'None', 'boosting_type': 'gbdt', \n",
    "               'tree_learner': 'serial', 'learning_rate': 0.1, \"num_leaves\": 10, 'random_seed':seed,'max_depth': 5}\n",
    "    \n",
    "    y = train.target.copy()\n",
    "    X = train.drop(['target'],axis=1).copy()\n",
    "    \n",
    "    skf=StratifiedKFold(n_splits = n_folds, shuffle=True, random_state=0)\n",
    "    \n",
    "    valid = np.zeros([X.shape[0]])\n",
    "    features_list = [i for i in X.columns]\n",
    "    pred_value = np.zeros(test.shape[0])\n",
    "    feature_importance_df = pd.DataFrame(features_list, columns=[\"Feature\"])\n",
    "    \n",
    "    for i , (train_index, val_index) in enumerate(skf.split(X, y)):\n",
    "        print(\"fold: \", i)\n",
    "        \n",
    "        X_train = X.iloc[train_index,:]\n",
    "        y_train = y.iloc[train_index]\n",
    "\n",
    "        X_valid = X.iloc[val_index,:]\n",
    "        y_valid = y.iloc[val_index]\n",
    "        \n",
    "        lgb_train = lgb.Dataset(X_train, y_train)\n",
    "        lgb_eval = lgb.Dataset(X_valid, y_valid, reference=lgb_train)\n",
    "        \n",
    "        model = lgb.train(lgbm_params, lgb_train,valid_sets=[lgb_train, lgb_eval],\n",
    "           num_boost_round=10000,early_stopping_rounds=20,verbose_eval = 10,\n",
    "                          feval=pr_auc_metric, categorical_feature = sorted(object_feats))\n",
    "        \n",
    "        valid_predict = model.predict(X_valid, num_iteration = model.best_iteration)\n",
    "        valid[val_index] = valid_predict\n",
    "        pred_value += model.predict(test, num_iteration = model.best_iteration)\n",
    "        feature_importance_df[\"Fold_\"+str(i+1)] = model.feature_importance()\n",
    "    \n",
    "    feature_importance_df[\"Average\"] = np.mean(feature_importance_df.iloc[:,1:n_folds+1], axis=1)\n",
    "    feature_importance_df[\"Std\"] = np.std(feature_importance_df.iloc[:,1:n_folds+1], axis=1)\n",
    "    feature_importance_df[\"Cv\"] = feature_importance_df[\"Std\"] / feature_importance_df[\"Average\"]\n",
    "    \n",
    "    return pred_value, valid, feature_importance_df\n",
    "\n",
    "validation = np.zeros([train.shape[0]])\n",
    "pred_value = np.zeros([test.shape[0]])\n",
    "seeds = [0]\n",
    "for seed_ in seeds:\n",
    "    test_pred, oof_predict, feature_importance_df = modelling(seed_)\n",
    "    validation += oof_predict / len(seeds)\n",
    "    pred_value += test_pred / len(seeds)\n",
    "\n",
    "score = average_precision_score(train.target, validation)\n",
    "print(score)"
   ]
  },
  {
   "cell_type": "code",
   "execution_count": 26,
   "metadata": {
    "execution": {
     "iopub.execute_input": "2020-11-18T06:54:48.237725Z",
     "iopub.status.busy": "2020-11-18T06:54:48.236778Z",
     "iopub.status.idle": "2020-11-18T06:54:48.256359Z",
     "shell.execute_reply": "2020-11-18T06:54:48.255625Z"
    },
    "papermill": {
     "duration": 0.123557,
     "end_time": "2020-11-18T06:54:48.256504",
     "exception": false,
     "start_time": "2020-11-18T06:54:48.132947",
     "status": "completed"
    },
    "tags": []
   },
   "outputs": [
    {
     "data": {
      "text/html": [
       "<div>\n",
       "<style scoped>\n",
       "    .dataframe tbody tr th:only-of-type {\n",
       "        vertical-align: middle;\n",
       "    }\n",
       "\n",
       "    .dataframe tbody tr th {\n",
       "        vertical-align: top;\n",
       "    }\n",
       "\n",
       "    .dataframe thead th {\n",
       "        text-align: right;\n",
       "    }\n",
       "</style>\n",
       "<table border=\"1\" class=\"dataframe\">\n",
       "  <thead>\n",
       "    <tr style=\"text-align: right;\">\n",
       "      <th></th>\n",
       "      <th>Feature</th>\n",
       "      <th>Fold_1</th>\n",
       "      <th>Fold_2</th>\n",
       "      <th>Fold_3</th>\n",
       "      <th>Fold_4</th>\n",
       "      <th>Fold_5</th>\n",
       "      <th>Average</th>\n",
       "      <th>Std</th>\n",
       "      <th>Cv</th>\n",
       "    </tr>\n",
       "  </thead>\n",
       "  <tbody>\n",
       "    <tr>\n",
       "      <th>4</th>\n",
       "      <td>app_id</td>\n",
       "      <td>579</td>\n",
       "      <td>1062</td>\n",
       "      <td>463</td>\n",
       "      <td>548</td>\n",
       "      <td>427</td>\n",
       "      <td>615.8</td>\n",
       "      <td>229.799391</td>\n",
       "      <td>0.373172</td>\n",
       "    </tr>\n",
       "    <tr>\n",
       "      <th>6</th>\n",
       "      <td>campaign_id</td>\n",
       "      <td>411</td>\n",
       "      <td>626</td>\n",
       "      <td>364</td>\n",
       "      <td>374</td>\n",
       "      <td>331</td>\n",
       "      <td>421.2</td>\n",
       "      <td>105.529901</td>\n",
       "      <td>0.250546</td>\n",
       "    </tr>\n",
       "    <tr>\n",
       "      <th>18</th>\n",
       "      <td>media_app_id</td>\n",
       "      <td>293</td>\n",
       "      <td>583</td>\n",
       "      <td>236</td>\n",
       "      <td>246</td>\n",
       "      <td>203</td>\n",
       "      <td>312.2</td>\n",
       "      <td>138.430343</td>\n",
       "      <td>0.443403</td>\n",
       "    </tr>\n",
       "    <tr>\n",
       "      <th>10</th>\n",
       "      <td>game_feed_id</td>\n",
       "      <td>188</td>\n",
       "      <td>344</td>\n",
       "      <td>152</td>\n",
       "      <td>163</td>\n",
       "      <td>123</td>\n",
       "      <td>194.0</td>\n",
       "      <td>77.848571</td>\n",
       "      <td>0.401281</td>\n",
       "    </tr>\n",
       "    <tr>\n",
       "      <th>21</th>\n",
       "      <td>uid</td>\n",
       "      <td>191</td>\n",
       "      <td>261</td>\n",
       "      <td>138</td>\n",
       "      <td>176</td>\n",
       "      <td>123</td>\n",
       "      <td>177.8</td>\n",
       "      <td>48.346251</td>\n",
       "      <td>0.271914</td>\n",
       "    </tr>\n",
       "    <tr>\n",
       "      <th>3</th>\n",
       "      <td>advertiser_id</td>\n",
       "      <td>136</td>\n",
       "      <td>204</td>\n",
       "      <td>121</td>\n",
       "      <td>124</td>\n",
       "      <td>107</td>\n",
       "      <td>138.4</td>\n",
       "      <td>34.074037</td>\n",
       "      <td>0.246200</td>\n",
       "    </tr>\n",
       "    <tr>\n",
       "      <th>22</th>\n",
       "      <td>mst_advertiser_order_id</td>\n",
       "      <td>91</td>\n",
       "      <td>147</td>\n",
       "      <td>86</td>\n",
       "      <td>86</td>\n",
       "      <td>84</td>\n",
       "      <td>98.8</td>\n",
       "      <td>24.210741</td>\n",
       "      <td>0.245048</td>\n",
       "    </tr>\n",
       "    <tr>\n",
       "      <th>24</th>\n",
       "      <td>cv_cv_diff_mean</td>\n",
       "      <td>92</td>\n",
       "      <td>162</td>\n",
       "      <td>71</td>\n",
       "      <td>71</td>\n",
       "      <td>58</td>\n",
       "      <td>90.8</td>\n",
       "      <td>37.231170</td>\n",
       "      <td>0.410035</td>\n",
       "    </tr>\n",
       "    <tr>\n",
       "      <th>15</th>\n",
       "      <td>last_login_interval</td>\n",
       "      <td>84</td>\n",
       "      <td>163</td>\n",
       "      <td>54</td>\n",
       "      <td>69</td>\n",
       "      <td>44</td>\n",
       "      <td>82.8</td>\n",
       "      <td>42.329186</td>\n",
       "      <td>0.511222</td>\n",
       "    </tr>\n",
       "    <tr>\n",
       "      <th>7</th>\n",
       "      <td>first_login_interval</td>\n",
       "      <td>66</td>\n",
       "      <td>167</td>\n",
       "      <td>52</td>\n",
       "      <td>64</td>\n",
       "      <td>52</td>\n",
       "      <td>80.2</td>\n",
       "      <td>43.792237</td>\n",
       "      <td>0.546038</td>\n",
       "    </tr>\n",
       "    <tr>\n",
       "      <th>25</th>\n",
       "      <td>count</td>\n",
       "      <td>73</td>\n",
       "      <td>155</td>\n",
       "      <td>49</td>\n",
       "      <td>61</td>\n",
       "      <td>43</td>\n",
       "      <td>76.2</td>\n",
       "      <td>40.725422</td>\n",
       "      <td>0.534454</td>\n",
       "    </tr>\n",
       "    <tr>\n",
       "      <th>17</th>\n",
       "      <td>max_login_interval</td>\n",
       "      <td>55</td>\n",
       "      <td>143</td>\n",
       "      <td>50</td>\n",
       "      <td>47</td>\n",
       "      <td>40</td>\n",
       "      <td>67.0</td>\n",
       "      <td>38.309268</td>\n",
       "      <td>0.571780</td>\n",
       "    </tr>\n",
       "    <tr>\n",
       "      <th>16</th>\n",
       "      <td>login_frequency</td>\n",
       "      <td>54</td>\n",
       "      <td>86</td>\n",
       "      <td>43</td>\n",
       "      <td>50</td>\n",
       "      <td>40</td>\n",
       "      <td>54.6</td>\n",
       "      <td>16.463293</td>\n",
       "      <td>0.301526</td>\n",
       "    </tr>\n",
       "    <tr>\n",
       "      <th>23</th>\n",
       "      <td>mst_user_type_id</td>\n",
       "      <td>50</td>\n",
       "      <td>82</td>\n",
       "      <td>46</td>\n",
       "      <td>46</td>\n",
       "      <td>41</td>\n",
       "      <td>53.0</td>\n",
       "      <td>14.778363</td>\n",
       "      <td>0.278837</td>\n",
       "    </tr>\n",
       "    <tr>\n",
       "      <th>14</th>\n",
       "      <td>item_id</td>\n",
       "      <td>34</td>\n",
       "      <td>82</td>\n",
       "      <td>25</td>\n",
       "      <td>27</td>\n",
       "      <td>22</td>\n",
       "      <td>38.0</td>\n",
       "      <td>22.351734</td>\n",
       "      <td>0.588204</td>\n",
       "    </tr>\n",
       "    <tr>\n",
       "      <th>9</th>\n",
       "      <td>from_click</td>\n",
       "      <td>22</td>\n",
       "      <td>34</td>\n",
       "      <td>21</td>\n",
       "      <td>21</td>\n",
       "      <td>18</td>\n",
       "      <td>23.2</td>\n",
       "      <td>5.564171</td>\n",
       "      <td>0.239835</td>\n",
       "    </tr>\n",
       "    <tr>\n",
       "      <th>8</th>\n",
       "      <td>frequency</td>\n",
       "      <td>17</td>\n",
       "      <td>48</td>\n",
       "      <td>14</td>\n",
       "      <td>15</td>\n",
       "      <td>14</td>\n",
       "      <td>21.6</td>\n",
       "      <td>13.245377</td>\n",
       "      <td>0.613212</td>\n",
       "    </tr>\n",
       "    <tr>\n",
       "      <th>26</th>\n",
       "      <td>uid_dayofweek=0</td>\n",
       "      <td>17</td>\n",
       "      <td>27</td>\n",
       "      <td>12</td>\n",
       "      <td>17</td>\n",
       "      <td>13</td>\n",
       "      <td>17.2</td>\n",
       "      <td>5.306600</td>\n",
       "      <td>0.308523</td>\n",
       "    </tr>\n",
       "    <tr>\n",
       "      <th>32</th>\n",
       "      <td>uid_dayofweek=6</td>\n",
       "      <td>16</td>\n",
       "      <td>22</td>\n",
       "      <td>12</td>\n",
       "      <td>15</td>\n",
       "      <td>8</td>\n",
       "      <td>14.6</td>\n",
       "      <td>4.630335</td>\n",
       "      <td>0.317146</td>\n",
       "    </tr>\n",
       "    <tr>\n",
       "      <th>31</th>\n",
       "      <td>uid_dayofweek=5</td>\n",
       "      <td>14</td>\n",
       "      <td>21</td>\n",
       "      <td>12</td>\n",
       "      <td>13</td>\n",
       "      <td>10</td>\n",
       "      <td>14.0</td>\n",
       "      <td>3.741657</td>\n",
       "      <td>0.267261</td>\n",
       "    </tr>\n",
       "    <tr>\n",
       "      <th>30</th>\n",
       "      <td>uid_dayofweek=4</td>\n",
       "      <td>14</td>\n",
       "      <td>22</td>\n",
       "      <td>10</td>\n",
       "      <td>13</td>\n",
       "      <td>10</td>\n",
       "      <td>13.8</td>\n",
       "      <td>4.400000</td>\n",
       "      <td>0.318841</td>\n",
       "    </tr>\n",
       "    <tr>\n",
       "      <th>27</th>\n",
       "      <td>uid_dayofweek=1</td>\n",
       "      <td>12</td>\n",
       "      <td>22</td>\n",
       "      <td>12</td>\n",
       "      <td>9</td>\n",
       "      <td>9</td>\n",
       "      <td>12.8</td>\n",
       "      <td>4.791659</td>\n",
       "      <td>0.374348</td>\n",
       "    </tr>\n",
       "    <tr>\n",
       "      <th>29</th>\n",
       "      <td>uid_dayofweek=3</td>\n",
       "      <td>7</td>\n",
       "      <td>25</td>\n",
       "      <td>6</td>\n",
       "      <td>8</td>\n",
       "      <td>6</td>\n",
       "      <td>10.4</td>\n",
       "      <td>7.337575</td>\n",
       "      <td>0.705536</td>\n",
       "    </tr>\n",
       "    <tr>\n",
       "      <th>2</th>\n",
       "      <td>adspot_video_format_id</td>\n",
       "      <td>11</td>\n",
       "      <td>15</td>\n",
       "      <td>9</td>\n",
       "      <td>8</td>\n",
       "      <td>9</td>\n",
       "      <td>10.4</td>\n",
       "      <td>2.497999</td>\n",
       "      <td>0.240192</td>\n",
       "    </tr>\n",
       "    <tr>\n",
       "      <th>1</th>\n",
       "      <td>adspot_id</td>\n",
       "      <td>7</td>\n",
       "      <td>20</td>\n",
       "      <td>6</td>\n",
       "      <td>10</td>\n",
       "      <td>7</td>\n",
       "      <td>10.0</td>\n",
       "      <td>5.176872</td>\n",
       "      <td>0.517687</td>\n",
       "    </tr>\n",
       "    <tr>\n",
       "      <th>36</th>\n",
       "      <td>uid_hour_zone=3</td>\n",
       "      <td>8</td>\n",
       "      <td>17</td>\n",
       "      <td>10</td>\n",
       "      <td>8</td>\n",
       "      <td>6</td>\n",
       "      <td>9.8</td>\n",
       "      <td>3.815757</td>\n",
       "      <td>0.389363</td>\n",
       "    </tr>\n",
       "    <tr>\n",
       "      <th>28</th>\n",
       "      <td>uid_dayofweek=2</td>\n",
       "      <td>8</td>\n",
       "      <td>14</td>\n",
       "      <td>5</td>\n",
       "      <td>10</td>\n",
       "      <td>10</td>\n",
       "      <td>9.4</td>\n",
       "      <td>2.939388</td>\n",
       "      <td>0.312701</td>\n",
       "    </tr>\n",
       "    <tr>\n",
       "      <th>11</th>\n",
       "      <td>game_template_id</td>\n",
       "      <td>8</td>\n",
       "      <td>18</td>\n",
       "      <td>5</td>\n",
       "      <td>4</td>\n",
       "      <td>5</td>\n",
       "      <td>8.0</td>\n",
       "      <td>5.176872</td>\n",
       "      <td>0.647109</td>\n",
       "    </tr>\n",
       "    <tr>\n",
       "      <th>35</th>\n",
       "      <td>uid_hour_zone=2</td>\n",
       "      <td>6</td>\n",
       "      <td>11</td>\n",
       "      <td>6</td>\n",
       "      <td>4</td>\n",
       "      <td>4</td>\n",
       "      <td>6.2</td>\n",
       "      <td>2.561250</td>\n",
       "      <td>0.413105</td>\n",
       "    </tr>\n",
       "    <tr>\n",
       "      <th>33</th>\n",
       "      <td>uid_hour_zone=0</td>\n",
       "      <td>2</td>\n",
       "      <td>13</td>\n",
       "      <td>3</td>\n",
       "      <td>4</td>\n",
       "      <td>0</td>\n",
       "      <td>4.4</td>\n",
       "      <td>4.498889</td>\n",
       "      <td>1.022475</td>\n",
       "    </tr>\n",
       "    <tr>\n",
       "      <th>34</th>\n",
       "      <td>uid_hour_zone=1</td>\n",
       "      <td>6</td>\n",
       "      <td>8</td>\n",
       "      <td>3</td>\n",
       "      <td>1</td>\n",
       "      <td>2</td>\n",
       "      <td>4.0</td>\n",
       "      <td>2.607681</td>\n",
       "      <td>0.651920</td>\n",
       "    </tr>\n",
       "    <tr>\n",
       "      <th>0</th>\n",
       "      <td>adnw_id</td>\n",
       "      <td>3</td>\n",
       "      <td>10</td>\n",
       "      <td>1</td>\n",
       "      <td>4</td>\n",
       "      <td>1</td>\n",
       "      <td>3.8</td>\n",
       "      <td>3.310589</td>\n",
       "      <td>0.871208</td>\n",
       "    </tr>\n",
       "    <tr>\n",
       "      <th>12</th>\n",
       "      <td>header_bidding</td>\n",
       "      <td>2</td>\n",
       "      <td>4</td>\n",
       "      <td>0</td>\n",
       "      <td>1</td>\n",
       "      <td>1</td>\n",
       "      <td>1.6</td>\n",
       "      <td>1.356466</td>\n",
       "      <td>0.847791</td>\n",
       "    </tr>\n",
       "    <tr>\n",
       "      <th>20</th>\n",
       "      <td>pos</td>\n",
       "      <td>2</td>\n",
       "      <td>1</td>\n",
       "      <td>0</td>\n",
       "      <td>3</td>\n",
       "      <td>0</td>\n",
       "      <td>1.2</td>\n",
       "      <td>1.166190</td>\n",
       "      <td>0.971825</td>\n",
       "    </tr>\n",
       "    <tr>\n",
       "      <th>13</th>\n",
       "      <td>is_interstitial</td>\n",
       "      <td>1</td>\n",
       "      <td>3</td>\n",
       "      <td>0</td>\n",
       "      <td>1</td>\n",
       "      <td>1</td>\n",
       "      <td>1.2</td>\n",
       "      <td>0.979796</td>\n",
       "      <td>0.816497</td>\n",
       "    </tr>\n",
       "    <tr>\n",
       "      <th>5</th>\n",
       "      <td>auction_type_id</td>\n",
       "      <td>2</td>\n",
       "      <td>2</td>\n",
       "      <td>0</td>\n",
       "      <td>1</td>\n",
       "      <td>0</td>\n",
       "      <td>1.0</td>\n",
       "      <td>0.894427</td>\n",
       "      <td>0.894427</td>\n",
       "    </tr>\n",
       "    <tr>\n",
       "      <th>19</th>\n",
       "      <td>os</td>\n",
       "      <td>1</td>\n",
       "      <td>2</td>\n",
       "      <td>0</td>\n",
       "      <td>0</td>\n",
       "      <td>0</td>\n",
       "      <td>0.6</td>\n",
       "      <td>0.800000</td>\n",
       "      <td>1.333333</td>\n",
       "    </tr>\n",
       "  </tbody>\n",
       "</table>\n",
       "</div>"
      ],
      "text/plain": [
       "                    Feature  Fold_1  Fold_2  Fold_3  Fold_4  Fold_5  Average  \\\n",
       "4                    app_id     579    1062     463     548     427    615.8   \n",
       "6               campaign_id     411     626     364     374     331    421.2   \n",
       "18             media_app_id     293     583     236     246     203    312.2   \n",
       "10             game_feed_id     188     344     152     163     123    194.0   \n",
       "21                      uid     191     261     138     176     123    177.8   \n",
       "3             advertiser_id     136     204     121     124     107    138.4   \n",
       "22  mst_advertiser_order_id      91     147      86      86      84     98.8   \n",
       "24          cv_cv_diff_mean      92     162      71      71      58     90.8   \n",
       "15      last_login_interval      84     163      54      69      44     82.8   \n",
       "7      first_login_interval      66     167      52      64      52     80.2   \n",
       "25                    count      73     155      49      61      43     76.2   \n",
       "17       max_login_interval      55     143      50      47      40     67.0   \n",
       "16          login_frequency      54      86      43      50      40     54.6   \n",
       "23         mst_user_type_id      50      82      46      46      41     53.0   \n",
       "14                  item_id      34      82      25      27      22     38.0   \n",
       "9                from_click      22      34      21      21      18     23.2   \n",
       "8                 frequency      17      48      14      15      14     21.6   \n",
       "26          uid_dayofweek=0      17      27      12      17      13     17.2   \n",
       "32          uid_dayofweek=6      16      22      12      15       8     14.6   \n",
       "31          uid_dayofweek=5      14      21      12      13      10     14.0   \n",
       "30          uid_dayofweek=4      14      22      10      13      10     13.8   \n",
       "27          uid_dayofweek=1      12      22      12       9       9     12.8   \n",
       "29          uid_dayofweek=3       7      25       6       8       6     10.4   \n",
       "2    adspot_video_format_id      11      15       9       8       9     10.4   \n",
       "1                 adspot_id       7      20       6      10       7     10.0   \n",
       "36          uid_hour_zone=3       8      17      10       8       6      9.8   \n",
       "28          uid_dayofweek=2       8      14       5      10      10      9.4   \n",
       "11         game_template_id       8      18       5       4       5      8.0   \n",
       "35          uid_hour_zone=2       6      11       6       4       4      6.2   \n",
       "33          uid_hour_zone=0       2      13       3       4       0      4.4   \n",
       "34          uid_hour_zone=1       6       8       3       1       2      4.0   \n",
       "0                   adnw_id       3      10       1       4       1      3.8   \n",
       "12           header_bidding       2       4       0       1       1      1.6   \n",
       "20                      pos       2       1       0       3       0      1.2   \n",
       "13          is_interstitial       1       3       0       1       1      1.2   \n",
       "5           auction_type_id       2       2       0       1       0      1.0   \n",
       "19                       os       1       2       0       0       0      0.6   \n",
       "\n",
       "           Std        Cv  \n",
       "4   229.799391  0.373172  \n",
       "6   105.529901  0.250546  \n",
       "18  138.430343  0.443403  \n",
       "10   77.848571  0.401281  \n",
       "21   48.346251  0.271914  \n",
       "3    34.074037  0.246200  \n",
       "22   24.210741  0.245048  \n",
       "24   37.231170  0.410035  \n",
       "15   42.329186  0.511222  \n",
       "7    43.792237  0.546038  \n",
       "25   40.725422  0.534454  \n",
       "17   38.309268  0.571780  \n",
       "16   16.463293  0.301526  \n",
       "23   14.778363  0.278837  \n",
       "14   22.351734  0.588204  \n",
       "9     5.564171  0.239835  \n",
       "8    13.245377  0.613212  \n",
       "26    5.306600  0.308523  \n",
       "32    4.630335  0.317146  \n",
       "31    3.741657  0.267261  \n",
       "30    4.400000  0.318841  \n",
       "27    4.791659  0.374348  \n",
       "29    7.337575  0.705536  \n",
       "2     2.497999  0.240192  \n",
       "1     5.176872  0.517687  \n",
       "36    3.815757  0.389363  \n",
       "28    2.939388  0.312701  \n",
       "11    5.176872  0.647109  \n",
       "35    2.561250  0.413105  \n",
       "33    4.498889  1.022475  \n",
       "34    2.607681  0.651920  \n",
       "0     3.310589  0.871208  \n",
       "12    1.356466  0.847791  \n",
       "20    1.166190  0.971825  \n",
       "13    0.979796  0.816497  \n",
       "5     0.894427  0.894427  \n",
       "19    0.800000  1.333333  "
      ]
     },
     "execution_count": 26,
     "metadata": {},
     "output_type": "execute_result"
    }
   ],
   "source": [
    "feature_importance_df.sort_values(\"Average\", ascending=False)"
   ]
  },
  {
   "cell_type": "markdown",
   "metadata": {
    "papermill": {
     "duration": 0.137617,
     "end_time": "2020-11-18T06:54:48.531458",
     "exception": false,
     "start_time": "2020-11-18T06:54:48.393841",
     "status": "completed"
    },
    "tags": []
   },
   "source": [
    "# ts modelling"
   ]
  },
  {
   "cell_type": "code",
   "execution_count": 27,
   "metadata": {
    "execution": {
     "iopub.execute_input": "2020-11-18T06:54:48.825783Z",
     "iopub.status.busy": "2020-11-18T06:54:48.820615Z",
     "iopub.status.idle": "2020-11-18T06:54:48.829793Z",
     "shell.execute_reply": "2020-11-18T06:54:48.829220Z"
    },
    "papermill": {
     "duration": 0.160964,
     "end_time": "2020-11-18T06:54:48.829906",
     "exception": false,
     "start_time": "2020-11-18T06:54:48.668942",
     "status": "completed"
    },
    "tags": []
   },
   "outputs": [],
   "source": [
    "def pr_auc_metric(y_predicted, y_true):\n",
    "    return 'pr_auc', average_precision_score(y_true.get_label(), y_predicted), True\n",
    "\n",
    "def modelling_ts(seed):\n",
    "    print(\"seed:\", seed)\n",
    "    lgbm_params = {'objective': 'binary', 'metric': 'None', 'boosting_type': 'gbdt', \n",
    "               'tree_learner': 'serial', 'learning_rate': 0.1, \"num_leaves\": 10, 'random_seed':seed,'max_depth': 5}\n",
    "    y_train = train_df.target.copy()\n",
    "    X_train = train_df.drop(['target'],axis=1).copy()\n",
    "    y_valid = valid_df.target.copy()\n",
    "    X_valid = valid_df.drop(['target'],axis=1).copy()\n",
    "    \n",
    "    valid_lgb = pd.DataFrame(np.zeros([X_train.shape[0]]))\n",
    "    real = np.array([])\n",
    "    features_list = [i for i in X_train.columns]\n",
    "    feature_importance_df = pd.DataFrame(features_list, columns=[\"Feature\"])\n",
    "        \n",
    "    lgb_train = lgb.Dataset(X_train, y_train)\n",
    "    lgb_eval = lgb.Dataset(X_valid, y_valid, reference=lgb_train)\n",
    "        \n",
    "    model = lgb.train(lgbm_params, lgb_train,valid_sets=[lgb_train, lgb_eval],\n",
    "       num_boost_round=10000,early_stopping_rounds=20,verbose_eval = 10, feval=pr_auc_metric, categorical_feature = sorted(object_feats))\n",
    "    \n",
    "    valid_predict = model.predict(X_valid, num_iteration = model.best_iteration)\n",
    "    feature_importance_df[\"Importance\"] = model.feature_importance()\n",
    "        \n",
    "    score = average_precision_score(y_valid, valid_predict)\n",
    "    print(\"average precision score = {}\".format(score))\n",
    "    pred_value = model.predict(test, num_iteration = model.best_iteration)\n",
    "    \n",
    "    return pred_value, valid_predict, feature_importance_df\n",
    "\n",
    "#validation_ts = np.zeros([valid_df.shape[0]])\n",
    "#pred_value_ts = np.zeros([test.shape[0]])\n",
    "#seeds = [0]\n",
    "#for seed_ in seeds:\n",
    "#    test_pred, oof_predict, feature_importance_df = modelling_ts(seed_)\n",
    "#    validation_ts += oof_predict / len(seeds)\n",
    "#    pred_value_ts += test_pred / len(seeds)\n",
    "\n",
    "#ts_score = average_precision_score(valid_df.target, validation_ts)\n",
    "#print(ts_score)"
   ]
  },
  {
   "cell_type": "code",
   "execution_count": 28,
   "metadata": {
    "execution": {
     "iopub.execute_input": "2020-11-18T06:54:49.020711Z",
     "iopub.status.busy": "2020-11-18T06:54:49.019973Z",
     "iopub.status.idle": "2020-11-18T06:54:49.024552Z",
     "shell.execute_reply": "2020-11-18T06:54:49.023922Z"
    },
    "papermill": {
     "duration": 0.102974,
     "end_time": "2020-11-18T06:54:49.024685",
     "exception": false,
     "start_time": "2020-11-18T06:54:48.921711",
     "status": "completed"
    },
    "tags": []
   },
   "outputs": [],
   "source": [
    "#feature_importance_df.sort_values(\"Importance\", ascending=False)"
   ]
  },
  {
   "cell_type": "markdown",
   "metadata": {
    "papermill": {
     "duration": 0.143012,
     "end_time": "2020-11-18T06:54:49.262166",
     "exception": false,
     "start_time": "2020-11-18T06:54:49.119154",
     "status": "completed"
    },
    "tags": []
   },
   "source": [
    "# submission"
   ]
  },
  {
   "cell_type": "code",
   "execution_count": 29,
   "metadata": {
    "execution": {
     "iopub.execute_input": "2020-11-18T06:54:49.453207Z",
     "iopub.status.busy": "2020-11-18T06:54:49.452576Z",
     "iopub.status.idle": "2020-11-18T06:54:50.909535Z",
     "shell.execute_reply": "2020-11-18T06:54:50.908481Z"
    },
    "papermill": {
     "duration": 1.556992,
     "end_time": "2020-11-18T06:54:50.909690",
     "exception": false,
     "start_time": "2020-11-18T06:54:49.352698",
     "status": "completed"
    },
    "tags": []
   },
   "outputs": [],
   "source": [
    "lgb_sub = pd.read_csv(DIR + \"atmaCup7__sample_submission.csv\")\n",
    "lgb_sub[\"target\"] = pred_value\n",
    "lgb_sub.to_csv(\"atmacup7_lgb\"+str(score)[:-10]+\".csv\", index = False)"
   ]
  },
  {
   "cell_type": "code",
   "execution_count": null,
   "metadata": {
    "papermill": {
     "duration": 0.092592,
     "end_time": "2020-11-18T06:54:51.095742",
     "exception": false,
     "start_time": "2020-11-18T06:54:51.003150",
     "status": "completed"
    },
    "tags": []
   },
   "outputs": [],
   "source": []
  }
 ],
 "metadata": {
  "kernelspec": {
   "display_name": "Python 3",
   "language": "python",
   "name": "python3"
  },
  "language_info": {
   "codemirror_mode": {
    "name": "ipython",
    "version": 3
   },
   "file_extension": ".py",
   "mimetype": "text/x-python",
   "name": "python",
   "nbconvert_exporter": "python",
   "pygments_lexer": "ipython3",
   "version": "3.7.6"
  },
  "papermill": {
   "duration": 1951.397655,
   "end_time": "2020-11-18T06:54:51.311796",
   "environment_variables": {},
   "exception": null,
   "input_path": "__notebook__.ipynb",
   "output_path": "__notebook__.ipynb",
   "parameters": {},
   "start_time": "2020-11-18T06:22:19.914141",
   "version": "2.1.0"
  },
  "widgets": {
   "application/vnd.jupyter.widget-state+json": {
    "state": {
     "18adcf43f837476d8f9c500674f6e0c1": {
      "model_module": "@jupyter-widgets/base",
      "model_module_version": "1.2.0",
      "model_name": "LayoutModel",
      "state": {
       "_model_module": "@jupyter-widgets/base",
       "_model_module_version": "1.2.0",
       "_model_name": "LayoutModel",
       "_view_count": null,
       "_view_module": "@jupyter-widgets/base",
       "_view_module_version": "1.2.0",
       "_view_name": "LayoutView",
       "align_content": null,
       "align_items": null,
       "align_self": null,
       "border": null,
       "bottom": null,
       "display": null,
       "flex": null,
       "flex_flow": null,
       "grid_area": null,
       "grid_auto_columns": null,
       "grid_auto_flow": null,
       "grid_auto_rows": null,
       "grid_column": null,
       "grid_gap": null,
       "grid_row": null,
       "grid_template_areas": null,
       "grid_template_columns": null,
       "grid_template_rows": null,
       "height": null,
       "justify_content": null,
       "justify_items": null,
       "left": null,
       "margin": null,
       "max_height": null,
       "max_width": null,
       "min_height": null,
       "min_width": null,
       "object_fit": null,
       "object_position": null,
       "order": null,
       "overflow": null,
       "overflow_x": null,
       "overflow_y": null,
       "padding": null,
       "right": null,
       "top": null,
       "visibility": null,
       "width": null
      }
     },
     "44e47a532e7c472a8df67d40403d5206": {
      "model_module": "@jupyter-widgets/controls",
      "model_module_version": "1.5.0",
      "model_name": "ProgressStyleModel",
      "state": {
       "_model_module": "@jupyter-widgets/controls",
       "_model_module_version": "1.5.0",
       "_model_name": "ProgressStyleModel",
       "_view_count": null,
       "_view_module": "@jupyter-widgets/base",
       "_view_module_version": "1.2.0",
       "_view_name": "StyleView",
       "bar_color": null,
       "description_width": "initial"
      }
     },
     "60bf107517714fe78a78584521dde945": {
      "model_module": "@jupyter-widgets/base",
      "model_module_version": "1.2.0",
      "model_name": "LayoutModel",
      "state": {
       "_model_module": "@jupyter-widgets/base",
       "_model_module_version": "1.2.0",
       "_model_name": "LayoutModel",
       "_view_count": null,
       "_view_module": "@jupyter-widgets/base",
       "_view_module_version": "1.2.0",
       "_view_name": "LayoutView",
       "align_content": null,
       "align_items": null,
       "align_self": null,
       "border": null,
       "bottom": null,
       "display": null,
       "flex": null,
       "flex_flow": null,
       "grid_area": null,
       "grid_auto_columns": null,
       "grid_auto_flow": null,
       "grid_auto_rows": null,
       "grid_column": null,
       "grid_gap": null,
       "grid_row": null,
       "grid_template_areas": null,
       "grid_template_columns": null,
       "grid_template_rows": null,
       "height": null,
       "justify_content": null,
       "justify_items": null,
       "left": null,
       "margin": null,
       "max_height": null,
       "max_width": null,
       "min_height": null,
       "min_width": null,
       "object_fit": null,
       "object_position": null,
       "order": null,
       "overflow": null,
       "overflow_x": null,
       "overflow_y": null,
       "padding": null,
       "right": null,
       "top": null,
       "visibility": null,
       "width": null
      }
     },
     "74d5f3fc11f142369d83ff67651de137": {
      "model_module": "@jupyter-widgets/controls",
      "model_module_version": "1.5.0",
      "model_name": "FloatProgressModel",
      "state": {
       "_dom_classes": [],
       "_model_module": "@jupyter-widgets/controls",
       "_model_module_version": "1.5.0",
       "_model_name": "FloatProgressModel",
       "_view_count": null,
       "_view_module": "@jupyter-widgets/controls",
       "_view_module_version": "1.5.0",
       "_view_name": "ProgressView",
       "bar_style": "success",
       "description": "progress: 100%",
       "description_tooltip": null,
       "layout": "IPY_MODEL_f2b816bd9fa8429da47e563987c836f5",
       "max": 1997595.0,
       "min": 0.0,
       "orientation": "horizontal",
       "style": "IPY_MODEL_44e47a532e7c472a8df67d40403d5206",
       "value": 1997595.0
      }
     },
     "c48b2c7ea2064a7191bfb2853bf9a16d": {
      "model_module": "@jupyter-widgets/controls",
      "model_module_version": "1.5.0",
      "model_name": "HBoxModel",
      "state": {
       "_dom_classes": [],
       "_model_module": "@jupyter-widgets/controls",
       "_model_module_version": "1.5.0",
       "_model_name": "HBoxModel",
       "_view_count": null,
       "_view_module": "@jupyter-widgets/controls",
       "_view_module_version": "1.5.0",
       "_view_name": "HBoxView",
       "box_style": "",
       "children": [
        "IPY_MODEL_74d5f3fc11f142369d83ff67651de137",
        "IPY_MODEL_dcac93b679a943da8b5ffa38668968c8"
       ],
       "layout": "IPY_MODEL_18adcf43f837476d8f9c500674f6e0c1"
      }
     },
     "dcac93b679a943da8b5ffa38668968c8": {
      "model_module": "@jupyter-widgets/controls",
      "model_module_version": "1.5.0",
      "model_name": "HTMLModel",
      "state": {
       "_dom_classes": [],
       "_model_module": "@jupyter-widgets/controls",
       "_model_module_version": "1.5.0",
       "_model_name": "HTMLModel",
       "_view_count": null,
       "_view_module": "@jupyter-widgets/controls",
       "_view_module_version": "1.5.0",
       "_view_name": "HTMLView",
       "description": "",
       "description_tooltip": null,
       "layout": "IPY_MODEL_60bf107517714fe78a78584521dde945",
       "placeholder": "​",
       "style": "IPY_MODEL_e043975e73a746da83b67b757c413214",
       "value": " 1997595/1997595 [00:26&lt;00:00, 75935.80it/s]"
      }
     },
     "e043975e73a746da83b67b757c413214": {
      "model_module": "@jupyter-widgets/controls",
      "model_module_version": "1.5.0",
      "model_name": "DescriptionStyleModel",
      "state": {
       "_model_module": "@jupyter-widgets/controls",
       "_model_module_version": "1.5.0",
       "_model_name": "DescriptionStyleModel",
       "_view_count": null,
       "_view_module": "@jupyter-widgets/base",
       "_view_module_version": "1.2.0",
       "_view_name": "StyleView",
       "description_width": ""
      }
     },
     "f2b816bd9fa8429da47e563987c836f5": {
      "model_module": "@jupyter-widgets/base",
      "model_module_version": "1.2.0",
      "model_name": "LayoutModel",
      "state": {
       "_model_module": "@jupyter-widgets/base",
       "_model_module_version": "1.2.0",
       "_model_name": "LayoutModel",
       "_view_count": null,
       "_view_module": "@jupyter-widgets/base",
       "_view_module_version": "1.2.0",
       "_view_name": "LayoutView",
       "align_content": null,
       "align_items": null,
       "align_self": null,
       "border": null,
       "bottom": null,
       "display": null,
       "flex": null,
       "flex_flow": null,
       "grid_area": null,
       "grid_auto_columns": null,
       "grid_auto_flow": null,
       "grid_auto_rows": null,
       "grid_column": null,
       "grid_gap": null,
       "grid_row": null,
       "grid_template_areas": null,
       "grid_template_columns": null,
       "grid_template_rows": null,
       "height": null,
       "justify_content": null,
       "justify_items": null,
       "left": null,
       "margin": null,
       "max_height": null,
       "max_width": null,
       "min_height": null,
       "min_width": null,
       "object_fit": null,
       "object_position": null,
       "order": null,
       "overflow": null,
       "overflow_x": null,
       "overflow_y": null,
       "padding": null,
       "right": null,
       "top": null,
       "visibility": null,
       "width": null
      }
     }
    },
    "version_major": 2,
    "version_minor": 0
   }
  }
 },
 "nbformat": 4,
 "nbformat_minor": 4
}
