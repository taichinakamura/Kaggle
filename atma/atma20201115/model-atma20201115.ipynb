{
 "cells": [
  {
   "cell_type": "markdown",
   "metadata": {
    "papermill": {
     "duration": 0.034554,
     "end_time": "2020-11-22T10:26:49.781472",
     "exception": false,
     "start_time": "2020-11-22T10:26:49.746918",
     "status": "completed"
    },
    "tags": []
   },
   "source": [
    "- cancel xgb\n",
    "- cancel camp num per user\n",
    "- add tfidf features of campaign_id and advertiser_id\n",
    "- delete some pandas.dataframe to save memory"
   ]
  },
  {
   "cell_type": "code",
   "execution_count": 1,
   "metadata": {
    "_cell_guid": "b1076dfc-b9ad-4769-8c92-a6c4dae69d19",
    "_uuid": "8f2839f25d086af736a60e9eeb907d3b93b6e0e5",
    "execution": {
     "iopub.execute_input": "2020-11-22T10:26:49.856947Z",
     "iopub.status.busy": "2020-11-22T10:26:49.856151Z",
     "iopub.status.idle": "2020-11-22T10:26:51.935730Z",
     "shell.execute_reply": "2020-11-22T10:26:51.934879Z"
    },
    "papermill": {
     "duration": 2.120888,
     "end_time": "2020-11-22T10:26:51.935865",
     "exception": false,
     "start_time": "2020-11-22T10:26:49.814977",
     "status": "completed"
    },
    "tags": []
   },
   "outputs": [],
   "source": [
    "import os\n",
    "import warnings\n",
    "import numpy as np\n",
    "import pandas as pd\n",
    "import xgboost as xgb\n",
    "import lightgbm as lgb\n",
    "from datetime import timedelta\n",
    "from sklearn import preprocessing\n",
    "from tqdm.notebook import tqdm_notebook\n",
    "from sklearn.metrics import average_precision_score\n",
    "from sklearn.model_selection import StratifiedKFold\n",
    "from imblearn.under_sampling import RandomUnderSampler\n",
    "from sklearn.feature_extraction.text import TfidfVectorizer\n",
    "from sklearn.decomposition import TruncatedSVD\n",
    "\n",
    "warnings.filterwarnings('ignore')\n",
    "tqdm_notebook.pandas(desc=\"progress: \")"
   ]
  },
  {
   "cell_type": "code",
   "execution_count": 2,
   "metadata": {
    "execution": {
     "iopub.execute_input": "2020-11-22T10:26:52.017418Z",
     "iopub.status.busy": "2020-11-22T10:26:52.016687Z",
     "iopub.status.idle": "2020-11-22T10:27:13.515899Z",
     "shell.execute_reply": "2020-11-22T10:27:13.514710Z"
    },
    "papermill": {
     "duration": 21.546168,
     "end_time": "2020-11-22T10:27:13.516060",
     "exception": false,
     "start_time": "2020-11-22T10:26:51.969892",
     "status": "completed"
    },
    "tags": []
   },
   "outputs": [],
   "source": [
    "DIR = \"../input/20201115at/\"\n",
    "train = pd.read_csv(DIR+\"train.csv\")\n",
    "test = pd.read_csv(DIR+\"test.csv\")\n",
    "campaign = pd.read_csv(DIR+\"campaign.csv\")\n",
    "\n",
    "#advertiser_video = pd.read_csv(DIR+\"advertiser_video.csv\")\n",
    "#map_game_feed_native_video_assets = pd.read_csv(DIR+'map_game_feed_native_video_assets.csv')\n",
    "#advertiser_converted_video = pd.read_csv(DIR+\"advertiser_converted_video.csv\")"
   ]
  },
  {
   "cell_type": "code",
   "execution_count": 3,
   "metadata": {
    "execution": {
     "iopub.execute_input": "2020-11-22T10:27:13.588838Z",
     "iopub.status.busy": "2020-11-22T10:27:13.587860Z",
     "iopub.status.idle": "2020-11-22T10:27:13.591174Z",
     "shell.execute_reply": "2020-11-22T10:27:13.590488Z"
    },
    "papermill": {
     "duration": 0.040847,
     "end_time": "2020-11-22T10:27:13.591304",
     "exception": false,
     "start_time": "2020-11-22T10:27:13.550457",
     "status": "completed"
    },
    "tags": []
   },
   "outputs": [],
   "source": [
    "#cols = [\"mst_advertiser_video_id\", \"mst_game_feed_id\", \"mst_video_template_id\"]\n",
    "#advertiser_converted_video = advertiser_converted_video[~advertiser_converted_video[cols].duplicated(keep=\"last\")]"
   ]
  },
  {
   "cell_type": "markdown",
   "metadata": {
    "papermill": {
     "duration": 0.033882,
     "end_time": "2020-11-22T10:27:13.658825",
     "exception": false,
     "start_time": "2020-11-22T10:27:13.624943",
     "status": "completed"
    },
    "tags": []
   },
   "source": [
    "# preprocess"
   ]
  },
  {
   "cell_type": "code",
   "execution_count": 4,
   "metadata": {
    "execution": {
     "iopub.execute_input": "2020-11-22T10:27:13.740403Z",
     "iopub.status.busy": "2020-11-22T10:27:13.739307Z",
     "iopub.status.idle": "2020-11-22T10:27:15.813276Z",
     "shell.execute_reply": "2020-11-22T10:27:15.812524Z"
    },
    "papermill": {
     "duration": 2.120486,
     "end_time": "2020-11-22T10:27:15.813402",
     "exception": false,
     "start_time": "2020-11-22T10:27:13.692916",
     "status": "completed"
    },
    "tags": []
   },
   "outputs": [],
   "source": [
    "agg_df = train.groupby(['advertiser_id'])['target'].sum()\n",
    "zero_df = agg_df[agg_df == 0]\n",
    "zero_adver = list(set(zero_df.index) - set(test.advertiser_id.unique()))\n",
    "train = train[~train.advertiser_id.isin(zero_adver)].reset_index(drop=True)"
   ]
  },
  {
   "cell_type": "code",
   "execution_count": 5,
   "metadata": {
    "execution": {
     "iopub.execute_input": "2020-11-22T10:27:16.111330Z",
     "iopub.status.busy": "2020-11-22T10:27:16.110572Z",
     "iopub.status.idle": "2020-11-22T10:27:26.347931Z",
     "shell.execute_reply": "2020-11-22T10:27:26.347217Z"
    },
    "papermill": {
     "duration": 10.500324,
     "end_time": "2020-11-22T10:27:26.348062",
     "exception": false,
     "start_time": "2020-11-22T10:27:15.847738",
     "status": "completed"
    },
    "tags": []
   },
   "outputs": [],
   "source": [
    "# with campaign\n",
    "train = train.merge(campaign, left_on=\"campaign_id\", right_on = \"id\", how=\"left\").drop([\"mst_advertiser_id\", \"id\"], axis=1)\n",
    "test = test.merge(campaign, left_on=\"campaign_id\", right_on = \"id\", how=\"left\").drop([\"mst_advertiser_id\", \"id\"], axis=1)"
   ]
  },
  {
   "cell_type": "code",
   "execution_count": 6,
   "metadata": {
    "execution": {
     "iopub.execute_input": "2020-11-22T10:27:27.121579Z",
     "iopub.status.busy": "2020-11-22T10:27:27.120789Z",
     "iopub.status.idle": "2020-11-22T10:27:29.439027Z",
     "shell.execute_reply": "2020-11-22T10:27:29.438273Z"
    },
    "papermill": {
     "duration": 3.05694,
     "end_time": "2020-11-22T10:27:29.439154",
     "exception": false,
     "start_time": "2020-11-22T10:27:26.382214",
     "status": "completed"
    },
    "tags": []
   },
   "outputs": [],
   "source": [
    "train[\"imp_at\"] = pd.to_datetime(train[\"imp_at\"])\n",
    "test[\"imp_at\"] = pd.to_datetime(test[\"imp_at\"])\n",
    "train[\"date\"] = train[\"imp_at\"].dt.date\n",
    "test[\"date\"] = test[\"imp_at\"].dt.date\n",
    "train[\"hour\"] = train[\"imp_at\"].dt.hour\n",
    "test[\"hour\"] = test[\"imp_at\"].dt.hour"
   ]
  },
  {
   "cell_type": "code",
   "execution_count": 7,
   "metadata": {
    "execution": {
     "iopub.execute_input": "2020-11-22T10:27:29.513691Z",
     "iopub.status.busy": "2020-11-22T10:27:29.512802Z",
     "iopub.status.idle": "2020-11-22T10:27:29.516079Z",
     "shell.execute_reply": "2020-11-22T10:27:29.515369Z"
    },
    "papermill": {
     "duration": 0.042053,
     "end_time": "2020-11-22T10:27:29.516197",
     "exception": false,
     "start_time": "2020-11-22T10:27:29.474144",
     "status": "completed"
    },
    "tags": []
   },
   "outputs": [],
   "source": [
    "# remove GW data\n",
    "#mask = train.imp_at > \"2020-05-9\"\n",
    "#train = train.loc[mask].reset_index(drop=True)\n",
    "#train.shape"
   ]
  },
  {
   "cell_type": "code",
   "execution_count": 8,
   "metadata": {
    "execution": {
     "iopub.execute_input": "2020-11-22T10:27:30.278130Z",
     "iopub.status.busy": "2020-11-22T10:27:30.277384Z",
     "iopub.status.idle": "2020-11-22T10:27:31.940728Z",
     "shell.execute_reply": "2020-11-22T10:27:31.940089Z"
    },
    "papermill": {
     "duration": 2.390005,
     "end_time": "2020-11-22T10:27:31.940862",
     "exception": false,
     "start_time": "2020-11-22T10:27:29.550857",
     "status": "completed"
    },
    "tags": []
   },
   "outputs": [],
   "source": [
    "train[\"click_or_view_at\"] = pd.to_datetime(train[\"click_or_view_at\"])\n",
    "train[\"cv_at\"] = pd.to_datetime(train[\"cv_at\"])"
   ]
  },
  {
   "cell_type": "code",
   "execution_count": 9,
   "metadata": {
    "execution": {
     "iopub.execute_input": "2020-11-22T10:27:32.020089Z",
     "iopub.status.busy": "2020-11-22T10:27:32.019324Z",
     "iopub.status.idle": "2020-11-22T10:27:34.282749Z",
     "shell.execute_reply": "2020-11-22T10:27:34.282059Z"
    },
    "papermill": {
     "duration": 2.306486,
     "end_time": "2020-11-22T10:27:34.282891",
     "exception": false,
     "start_time": "2020-11-22T10:27:31.976405",
     "status": "completed"
    },
    "tags": []
   },
   "outputs": [],
   "source": [
    "# drop because distribution is different\n",
    "train.drop(['os_version'], axis=1, inplace=True)\n",
    "test.drop(['os_version'], axis=1, inplace=True)\n",
    "\n",
    "# noise features?\n",
    "train.drop(['user_type_id', \"category_id\",  \"video_template_id\", \"country_code\", \"game_feed_asset_type_id\", \"header_bidding\"], axis=1, inplace=True)\n",
    "test.drop(['user_type_id', \"category_id\",  \"video_template_id\", \"country_code\", \"game_feed_asset_type_id\", \"header_bidding\"], axis=1, inplace=True)"
   ]
  },
  {
   "cell_type": "code",
   "execution_count": 10,
   "metadata": {
    "execution": {
     "iopub.execute_input": "2020-11-22T10:27:34.366860Z",
     "iopub.status.busy": "2020-11-22T10:27:34.366099Z",
     "iopub.status.idle": "2020-11-22T10:28:03.683215Z",
     "shell.execute_reply": "2020-11-22T10:28:03.682617Z"
    },
    "papermill": {
     "duration": 29.365477,
     "end_time": "2020-11-22T10:28:03.683363",
     "exception": false,
     "start_time": "2020-11-22T10:27:34.317886",
     "status": "completed"
    },
    "tags": []
   },
   "outputs": [],
   "source": [
    "#\n",
    "app_ranking = pd.concat([train, test]).groupby(\"app_id\")[\"uid\"].nunique().reset_index(drop=False)\n",
    "app_ranking.columns = [\"app_id\", \"app_users\"]\n",
    "train = train.merge(app_ranking, on=\"app_id\", how=\"left\")\n",
    "test = test.merge(app_ranking, on=\"app_id\", how=\"left\")\n",
    "\n",
    "#\n",
    "media_app_rank = pd.concat([train, test]).groupby([\"game_feed_id\", \"campaign_id\"])[\"media_app_id\"].nunique().reset_index(drop=False)\n",
    "media_app_rank.columns = [\"game_feed_id\", \"campaign_id\", \"madia_app_num\"]\n",
    "train = train.merge(media_app_rank, on=[\"game_feed_id\", \"campaign_id\"], how=\"left\")\n",
    "test = test.merge(media_app_rank, on=[\"game_feed_id\", \"campaign_id\"], how=\"left\")\n",
    "\n",
    "# \n",
    "campaign_start_date = pd.concat([train, test]).groupby(\"campaign_id\").first().reset_index(drop=False)[[\"campaign_id\", \"date\"]]\n",
    "campaign_start_date.columns = [\"campaign_id\", \"first_date\"]\n",
    "train = train.merge(campaign_start_date, on=[\"campaign_id\"], how=\"left\")\n",
    "test = test.merge(campaign_start_date, on=[\"campaign_id\"], how=\"left\")"
   ]
  },
  {
   "cell_type": "code",
   "execution_count": 11,
   "metadata": {
    "execution": {
     "iopub.execute_input": "2020-11-22T10:28:03.760321Z",
     "iopub.status.busy": "2020-11-22T10:28:03.759579Z",
     "iopub.status.idle": "2020-11-22T10:28:47.676434Z",
     "shell.execute_reply": "2020-11-22T10:28:47.675633Z"
    },
    "papermill": {
     "duration": 43.95812,
     "end_time": "2020-11-22T10:28:47.676560",
     "exception": false,
     "start_time": "2020-11-22T10:28:03.718440",
     "status": "completed"
    },
    "tags": []
   },
   "outputs": [],
   "source": [
    "train[\"days_from_start\"] = (train[\"date\"] - train[\"first_date\"]).apply(lambda x: x.days)\n",
    "test[\"days_from_start\"] = (test[\"date\"] - test[\"first_date\"]).apply(lambda x: x.days)"
   ]
  },
  {
   "cell_type": "code",
   "execution_count": 12,
   "metadata": {
    "execution": {
     "iopub.execute_input": "2020-11-22T10:28:47.765391Z",
     "iopub.status.busy": "2020-11-22T10:28:47.763366Z",
     "iopub.status.idle": "2020-11-22T10:32:05.461077Z",
     "shell.execute_reply": "2020-11-22T10:32:05.461657Z"
    },
    "papermill": {
     "duration": 197.749123,
     "end_time": "2020-11-22T10:32:05.461850",
     "exception": false,
     "start_time": "2020-11-22T10:28:47.712727",
     "status": "completed"
    },
    "tags": []
   },
   "outputs": [
    {
     "name": "stdout",
     "output_type": "stream",
     "text": [
      "advertiser_id\n",
      "campaign_id\n"
     ]
    }
   ],
   "source": [
    "ids = [\"advertiser_id\", \"campaign_id\"]\n",
    "\n",
    "def join(df):\n",
    "    x = [str(e) for e in list(df)]\n",
    "    return \" \".join(x)\n",
    "\n",
    "concatenated_ = pd.concat([train[ids + [\"uid\"]], test[ids + [\"uid\"]]], axis=0).reset_index(drop=True)\n",
    "\n",
    "tfidf_dfs = []\n",
    "for id_ in ids:\n",
    "    print(id_)\n",
    "    docs = concatenated_.groupby(\"uid\")[id_].apply(join)\n",
    "    max_features = int(concatenated_[id_].nunique() * 0.8)\n",
    "    tv = TfidfVectorizer(max_features=max_features)\n",
    "    X = tv.fit_transform(docs)\n",
    "\n",
    "    if id_ == \"advertiser_id\":\n",
    "        n_components = 20\n",
    "    else:\n",
    "        n_components = 80\n",
    "    svd = TruncatedSVD(n_components=n_components)\n",
    "    X = svd.fit_transform(X)\n",
    "    df = pd.DataFrame(X, columns=[f\"tfidf_{id_}_{i}\" for i in range(n_components)])\n",
    "    df.index = docs.index\n",
    "    tfidf_dfs.append(df)"
   ]
  },
  {
   "cell_type": "code",
   "execution_count": 13,
   "metadata": {
    "execution": {
     "iopub.execute_input": "2020-11-22T10:32:05.550498Z",
     "iopub.status.busy": "2020-11-22T10:32:05.543745Z",
     "iopub.status.idle": "2020-11-22T10:32:29.851798Z",
     "shell.execute_reply": "2020-11-22T10:32:29.850965Z"
    },
    "papermill": {
     "duration": 24.352791,
     "end_time": "2020-11-22T10:32:29.851933",
     "exception": false,
     "start_time": "2020-11-22T10:32:05.499142",
     "status": "completed"
    },
    "tags": []
   },
   "outputs": [
    {
     "name": "stdout",
     "output_type": "stream",
     "text": [
      "154\n"
     ]
    }
   ],
   "source": [
    "game_feed_target = train.groupby(\"game_feed_id\")[\"target\"].mean().reset_index(drop=False)\n",
    "game_feed_counts = train[\"game_feed_id\"].value_counts().reset_index(drop=False)\n",
    "game_feed_counts.columns = [\"game_feed_id\", \"game_feed_counts\"]\n",
    "game_feed_target = game_feed_target.merge(game_feed_counts, on =\"game_feed_id\", how=\"left\")\n",
    "popular_game_feed = list(game_feed_target[(game_feed_target.target > 0.1) & (game_feed_target.game_feed_counts > 100)][\"game_feed_id\"])\n",
    "print(len(popular_game_feed))\n",
    "\n",
    "train[\"popular_game\"] = train[\"game_feed_id\"].apply(lambda x: 1 if x in popular_game_feed else 0)\n",
    "test[\"popular_game\"] = test[\"game_feed_id\"].apply(lambda x: 1 if x in popular_game_feed else 0)\n",
    "\n",
    "camp_target = train.groupby(\"campaign_id\")[\"target\"].mean().reset_index(drop=False)\n",
    "camp_counts = train[\"campaign_id\"].value_counts().reset_index(drop=False)\n",
    "camp_counts.columns = [\"campaign_id\", \"campaign_counts\"]\n",
    "camp_target = camp_target.merge(camp_counts, on =\"campaign_id\", how=\"left\")\n",
    "popular_campaign = list(camp_target[(camp_target.target > 0.1) & (camp_target.campaign_counts > 100)][\"campaign_id\"])\n",
    "\n",
    "train[\"popular_campaign\"] = train[\"campaign_id\"].apply(lambda x: 1 if x in popular_campaign else 0)\n",
    "test[\"popular_campaign\"] = test[\"campaign_id\"].apply(lambda x: 1 if x in popular_campaign else 0)"
   ]
  },
  {
   "cell_type": "code",
   "execution_count": 14,
   "metadata": {
    "execution": {
     "iopub.execute_input": "2020-11-22T10:32:29.952577Z",
     "iopub.status.busy": "2020-11-22T10:32:29.951763Z",
     "iopub.status.idle": "2020-11-22T10:33:00.485577Z",
     "shell.execute_reply": "2020-11-22T10:33:00.484891Z"
    },
    "papermill": {
     "duration": 30.596598,
     "end_time": "2020-11-22T10:33:00.485714",
     "exception": false,
     "start_time": "2020-11-22T10:32:29.889116",
     "status": "completed"
    },
    "tags": []
   },
   "outputs": [
    {
     "name": "stdout",
     "output_type": "stream",
     "text": [
      "advertiser_id\n",
      "app_id\n",
      "campaign_id\n",
      "game_feed_id\n",
      "game_template_id\n",
      "media_app_id\n",
      "mst_advertiser_order_id\n"
     ]
    }
   ],
   "source": [
    "object_feats = [i for i in train.columns if \"object\" == str(train[i].dtype) \n",
    "                and i != \"request_id\" and i != \"uid\" and i != \"date\" and i != \"hour\" and i !=\"first_date\"]\n",
    "\n",
    "def get_non_overlapping(train: pd.DataFrame, test: pd.DataFrame, column: str):\n",
    "    only_in_train = set(train[column].unique()) - set(test[column].unique())\n",
    "    only_in_test = set(test[column].unique()) - set(train[column].unique())\n",
    "    non_overlapping = only_in_train.union(only_in_test)\n",
    "    return non_overlapping\n",
    "\n",
    "def category2num(train: pd.DataFrame, test: pd.DataFrame, columns: list):\n",
    "    train_ = train.copy()\n",
    "    test_ = test.copy()\n",
    "    for column in columns:\n",
    "        print(column)\n",
    "        non_overlapping = get_non_overlapping(train, test, column)\n",
    "        try:\n",
    "            if train[column].dtype == np.dtype(\"O\"):\n",
    "                # dtypeがobjectなら欠損は'missing' クラスにする\n",
    "                train_[column] = train[column].fillna(\"missing\")\n",
    "                test_[column] = test[column].fillna(\"missing\")\n",
    "                train_[column] = train_[column].map(lambda x: x if x not in non_overlapping else \"other\")\n",
    "                test_[column] = test_[column].map(lambda x: x if x not in non_overlapping else \"other\")\n",
    "            else:\n",
    "                # dtypeがint/floatなら欠損は'-1'とする\n",
    "                train_[column] = train[column].fillna(-1)\n",
    "                test_[column] = test[column].fillna(-1)\n",
    "                train_[column] = train_[column].map(lambda x: x if x not in non_overlapping else -2)\n",
    "                test_[column] = test_[column].map(lambda x: x if x not in non_overlapping else -2)\n",
    "\n",
    "            le = preprocessing.LabelEncoder()\n",
    "            concatenated = pd.concat([train_, test_], axis=0).reset_index(drop=True)\n",
    "            le.fit(concatenated[column])\n",
    "            train_[column] = le.transform(train_[column])\n",
    "            test_[column] = le.transform(test_[column])\n",
    "        except Exception:\n",
    "            import pdb\n",
    "            pdb.set_trace()\n",
    "    return train_, test_\n",
    "\n",
    "train, test = category2num(train, test, object_feats)"
   ]
  },
  {
   "cell_type": "code",
   "execution_count": 15,
   "metadata": {
    "execution": {
     "iopub.execute_input": "2020-11-22T10:33:00.571767Z",
     "iopub.status.busy": "2020-11-22T10:33:00.571027Z",
     "iopub.status.idle": "2020-11-22T10:33:00.903827Z",
     "shell.execute_reply": "2020-11-22T10:33:00.903188Z"
    },
    "papermill": {
     "duration": 0.378265,
     "end_time": "2020-11-22T10:33:00.903960",
     "exception": false,
     "start_time": "2020-11-22T10:33:00.525695",
     "status": "completed"
    },
    "tags": []
   },
   "outputs": [],
   "source": [
    "# drop because the exist only in train\n",
    "train.drop(['click_or_view_at', 'cv_at','last_cv_interval', 'last_paid_interval'], axis=1, inplace=True)"
   ]
  },
  {
   "cell_type": "markdown",
   "metadata": {
    "papermill": {
     "duration": 0.039845,
     "end_time": "2020-11-22T10:33:00.984471",
     "exception": false,
     "start_time": "2020-11-22T10:33:00.944626",
     "status": "completed"
    },
    "tags": []
   },
   "source": [
    "# feature engineering"
   ]
  },
  {
   "cell_type": "code",
   "execution_count": 16,
   "metadata": {
    "execution": {
     "iopub.execute_input": "2020-11-22T10:33:01.071197Z",
     "iopub.status.busy": "2020-11-22T10:33:01.070478Z",
     "iopub.status.idle": "2020-11-22T10:33:11.944159Z",
     "shell.execute_reply": "2020-11-22T10:33:11.943422Z"
    },
    "papermill": {
     "duration": 10.919507,
     "end_time": "2020-11-22T10:33:11.944314",
     "exception": false,
     "start_time": "2020-11-22T10:33:01.024807",
     "status": "completed"
    },
    "tags": []
   },
   "outputs": [],
   "source": [
    "train[\"type\"] = \"train\"\n",
    "test[\"type\"] = \"test\"\n",
    "all_df = pd.concat([train, test])\n",
    "all_df = all_df.sort_values([\"uid\", \"imp_at\"]).reset_index(drop=True)"
   ]
  },
  {
   "cell_type": "code",
   "execution_count": 17,
   "metadata": {
    "execution": {
     "iopub.execute_input": "2020-11-22T10:33:12.037954Z",
     "iopub.status.busy": "2020-11-22T10:33:12.037105Z",
     "iopub.status.idle": "2020-11-22T10:33:15.861966Z",
     "shell.execute_reply": "2020-11-22T10:33:15.861321Z"
    },
    "papermill": {
     "duration": 3.871134,
     "end_time": "2020-11-22T10:33:15.862090",
     "exception": false,
     "start_time": "2020-11-22T10:33:11.990956",
     "status": "completed"
    },
    "tags": []
   },
   "outputs": [],
   "source": [
    "all_df[\"count\"] = 1\n",
    "all_df[\"count\"] = all_df.groupby(\"uid\")[\"count\"].cumsum()"
   ]
  },
  {
   "cell_type": "code",
   "execution_count": 18,
   "metadata": {
    "execution": {
     "iopub.execute_input": "2020-11-22T10:33:15.949360Z",
     "iopub.status.busy": "2020-11-22T10:33:15.948605Z",
     "iopub.status.idle": "2020-11-22T10:33:27.688380Z",
     "shell.execute_reply": "2020-11-22T10:33:27.687748Z"
    },
    "papermill": {
     "duration": 11.786192,
     "end_time": "2020-11-22T10:33:27.688513",
     "exception": false,
     "start_time": "2020-11-22T10:33:15.902321",
     "status": "completed"
    },
    "tags": []
   },
   "outputs": [],
   "source": [
    "all_df = all_df.merge(tfidf_dfs[0], on=\"uid\", how=\"left\")\n",
    "all_df = all_df.merge(tfidf_dfs[1], on=\"uid\", how=\"left\")"
   ]
  },
  {
   "cell_type": "code",
   "execution_count": 19,
   "metadata": {
    "execution": {
     "iopub.execute_input": "2020-11-22T10:33:27.835474Z",
     "iopub.status.busy": "2020-11-22T10:33:27.774889Z",
     "iopub.status.idle": "2020-11-22T10:33:27.839205Z",
     "shell.execute_reply": "2020-11-22T10:33:27.838512Z"
    },
    "papermill": {
     "duration": 0.11025,
     "end_time": "2020-11-22T10:33:27.839352",
     "exception": false,
     "start_time": "2020-11-22T10:33:27.729102",
     "status": "completed"
    },
    "tags": []
   },
   "outputs": [],
   "source": [
    "del tfidf_dfs, concatenated_"
   ]
  },
  {
   "cell_type": "code",
   "execution_count": 20,
   "metadata": {
    "execution": {
     "iopub.execute_input": "2020-11-22T10:33:27.939844Z",
     "iopub.status.busy": "2020-11-22T10:33:27.939045Z",
     "iopub.status.idle": "2020-11-22T10:33:50.776627Z",
     "shell.execute_reply": "2020-11-22T10:33:50.775958Z"
    },
    "papermill": {
     "duration": 22.89684,
     "end_time": "2020-11-22T10:33:50.776754",
     "exception": false,
     "start_time": "2020-11-22T10:33:27.879914",
     "status": "completed"
    },
    "tags": []
   },
   "outputs": [],
   "source": [
    "def _create_whole_imp_at_feature(whole_df, var) -> pd.DataFrame:\n",
    "\n",
    "    imp_at = pd.to_datetime(whole_df['imp_at']) + timedelta(hours=9) # utc -> asia/tokyo\n",
    "    out_df = pd.DataFrame()\n",
    "    out_df['hours'] = imp_at.dt.hour\n",
    "    out_df['dayofweek'] = imp_at.dt.dayofweek\n",
    "    out_df['hour_zone'] = pd.cut(out_df['hours'].values, bins=[-np.inf, 6, 12, 18, np.inf]).codes\n",
    "\n",
    "    def _create_pivot(input_df, c, column='dayofweek', values='hours'):\n",
    "        _df = pd.pivot_table(data=input_df, index=[c], columns=[column], values=values, aggfunc='count')\n",
    "        _df = _df.fillna(0)\n",
    "        _df.columns = [column + '=' + str(x) for x in _df.columns]\n",
    "\n",
    "        # index ごとに正規化して割合にする\n",
    "        _df = _df.div(_df.sum(axis=1), axis=0)\n",
    "        return pd.merge(input_df[c], _df, on=c, how='left').drop(columns=[c]).add_prefix(c + '_')\n",
    "\n",
    "    # uid での集約\n",
    "    for c in [var]:\n",
    "        _df = out_df.copy()\n",
    "        _df[c] = whole_df[c]\n",
    "        _feat = pd.concat([\n",
    "            _create_pivot(_df, c),\n",
    "            _create_pivot(_df, c, column='hour_zone', values='dayofweek')  \n",
    "        ], axis=1)\n",
    "        out_df = pd.concat([out_df, _feat], axis=1)\n",
    "\n",
    "    out_df['request_id'] = whole_df['request_id']\n",
    "    return out_df\n",
    "\n",
    "user_imp_df = _create_whole_imp_at_feature(all_df, \"uid\")\n",
    "user_imp_df.drop([\"hours\",\"dayofweek\",\"hour_zone\"], axis=1, inplace=True)\n",
    "all_df = all_df.merge(user_imp_df, on=\"request_id\", how=\"left\")"
   ]
  },
  {
   "cell_type": "code",
   "execution_count": 21,
   "metadata": {
    "execution": {
     "iopub.execute_input": "2020-11-22T10:33:51.744315Z",
     "iopub.status.busy": "2020-11-22T10:33:51.041174Z",
     "iopub.status.idle": "2020-11-22T10:34:04.012556Z",
     "shell.execute_reply": "2020-11-22T10:34:04.011913Z"
    },
    "papermill": {
     "duration": 13.194815,
     "end_time": "2020-11-22T10:34:04.012687",
     "exception": false,
     "start_time": "2020-11-22T10:33:50.817872",
     "status": "completed"
    },
    "tags": []
   },
   "outputs": [],
   "source": [
    "camp_num = all_df.groupby(\"date\")[\"campaign_id\"].nunique().reset_index(drop=False)\n",
    "camp_num.columns=[\"date\", \"camp_num\"]\n",
    "all_df = all_df.merge(camp_num, on=\"date\", how=\"left\")\n",
    "\n",
    "user_num = all_df.groupby(\"date\")[\"uid\"].nunique().reset_index(drop=False)\n",
    "user_num.columns=[\"date\", \"user_num\"]\n",
    "all_df = all_df.merge(user_num, on=\"date\", how=\"left\")\n",
    "\n",
    "all_df.drop([\"date\", \"hour\", \"first_date\"], axis=1, inplace=True)"
   ]
  },
  {
   "cell_type": "code",
   "execution_count": 22,
   "metadata": {
    "execution": {
     "iopub.execute_input": "2020-11-22T10:34:04.439828Z",
     "iopub.status.busy": "2020-11-22T10:34:04.439042Z",
     "iopub.status.idle": "2020-11-22T10:34:09.399912Z",
     "shell.execute_reply": "2020-11-22T10:34:09.400644Z"
    },
    "papermill": {
     "duration": 5.347058,
     "end_time": "2020-11-22T10:34:09.400833",
     "exception": false,
     "start_time": "2020-11-22T10:34:04.053775",
     "status": "completed"
    },
    "tags": []
   },
   "outputs": [],
   "source": [
    "train = all_df[all_df.type==\"train\"].drop(\"type\", axis=1).reset_index(drop=True)\n",
    "test = all_df[all_df.type==\"test\"].drop(\"type\", axis=1).reset_index(drop=True)"
   ]
  },
  {
   "cell_type": "code",
   "execution_count": 23,
   "metadata": {
    "execution": {
     "iopub.execute_input": "2020-11-22T10:34:09.601510Z",
     "iopub.status.busy": "2020-11-22T10:34:09.600466Z",
     "iopub.status.idle": "2020-11-22T10:34:09.604173Z",
     "shell.execute_reply": "2020-11-22T10:34:09.603591Z"
    },
    "papermill": {
     "duration": 0.161307,
     "end_time": "2020-11-22T10:34:09.604317",
     "exception": false,
     "start_time": "2020-11-22T10:34:09.443010",
     "status": "completed"
    },
    "tags": []
   },
   "outputs": [],
   "source": [
    "del all_df"
   ]
  },
  {
   "cell_type": "code",
   "execution_count": 24,
   "metadata": {
    "execution": {
     "iopub.execute_input": "2020-11-22T10:34:09.693884Z",
     "iopub.status.busy": "2020-11-22T10:34:09.693102Z",
     "iopub.status.idle": "2020-11-22T10:34:14.198053Z",
     "shell.execute_reply": "2020-11-22T10:34:14.197420Z"
    },
    "papermill": {
     "duration": 4.552255,
     "end_time": "2020-11-22T10:34:14.198185",
     "exception": false,
     "start_time": "2020-11-22T10:34:09.645930",
     "status": "completed"
    },
    "tags": []
   },
   "outputs": [],
   "source": [
    "train = train.sort_values(\"imp_at\").reset_index(drop=True)\n",
    "test = test.sort_values(\"imp_at\").reset_index(drop=True)"
   ]
  },
  {
   "cell_type": "code",
   "execution_count": 25,
   "metadata": {
    "execution": {
     "iopub.execute_input": "2020-11-22T10:34:14.289901Z",
     "iopub.status.busy": "2020-11-22T10:34:14.289169Z",
     "iopub.status.idle": "2020-11-22T10:34:18.221170Z",
     "shell.execute_reply": "2020-11-22T10:34:18.220471Z"
    },
    "papermill": {
     "duration": 3.981204,
     "end_time": "2020-11-22T10:34:18.221317",
     "exception": false,
     "start_time": "2020-11-22T10:34:14.240113",
     "status": "completed"
    },
    "tags": []
   },
   "outputs": [],
   "source": [
    "ce_feats = [\"uid\"]\n",
    "for c in ce_feats:\n",
    "    freq = pd.concat([train[c], test[c]]).value_counts()\n",
    "    train[c] = train[c].map(freq)\n",
    "    test[c] = test[c].map(freq)"
   ]
  },
  {
   "cell_type": "markdown",
   "metadata": {
    "papermill": {
     "duration": 0.041678,
     "end_time": "2020-11-22T10:34:18.305406",
     "exception": false,
     "start_time": "2020-11-22T10:34:18.263728",
     "status": "completed"
    },
    "tags": []
   },
   "source": [
    "# separation for validation"
   ]
  },
  {
   "cell_type": "code",
   "execution_count": 26,
   "metadata": {
    "execution": {
     "iopub.execute_input": "2020-11-22T10:34:18.396212Z",
     "iopub.status.busy": "2020-11-22T10:34:18.395509Z",
     "iopub.status.idle": "2020-11-22T10:34:19.373365Z",
     "shell.execute_reply": "2020-11-22T10:34:19.373909Z"
    },
    "papermill": {
     "duration": 1.026518,
     "end_time": "2020-11-22T10:34:19.374086",
     "exception": false,
     "start_time": "2020-11-22T10:34:18.347568",
     "status": "completed"
    },
    "tags": []
   },
   "outputs": [],
   "source": [
    "train.drop(['request_id'], axis=1, inplace=True)\n",
    "test.drop(['request_id'], axis=1, inplace=True)"
   ]
  },
  {
   "cell_type": "code",
   "execution_count": 27,
   "metadata": {
    "execution": {
     "iopub.execute_input": "2020-11-22T10:34:19.465486Z",
     "iopub.status.busy": "2020-11-22T10:34:19.464714Z",
     "iopub.status.idle": "2020-11-22T10:34:21.042709Z",
     "shell.execute_reply": "2020-11-22T10:34:21.042008Z"
    },
    "papermill": {
     "duration": 1.626058,
     "end_time": "2020-11-22T10:34:21.042838",
     "exception": false,
     "start_time": "2020-11-22T10:34:19.416780",
     "status": "completed"
    },
    "tags": []
   },
   "outputs": [],
   "source": [
    "mask = train.imp_at > \"2020-05-21\"\n",
    "valid_df = train.loc[mask].copy()\n",
    "train_df = train.loc[~mask].copy()"
   ]
  },
  {
   "cell_type": "code",
   "execution_count": 28,
   "metadata": {
    "execution": {
     "iopub.execute_input": "2020-11-22T10:34:21.946823Z",
     "iopub.status.busy": "2020-11-22T10:34:21.861125Z",
     "iopub.status.idle": "2020-11-22T10:34:22.455159Z",
     "shell.execute_reply": "2020-11-22T10:34:22.454491Z"
    },
    "papermill": {
     "duration": 1.370124,
     "end_time": "2020-11-22T10:34:22.455306",
     "exception": false,
     "start_time": "2020-11-22T10:34:21.085182",
     "status": "completed"
    },
    "tags": []
   },
   "outputs": [],
   "source": [
    "train = train.drop([\"imp_at\"], axis=1) \n",
    "test = test.drop([\"imp_at\"], axis=1) \n",
    "\n",
    "valid_df = valid_df.drop([\"imp_at\"], axis=1)\n",
    "train_df = train_df.drop([\"imp_at\"], axis=1)"
   ]
  },
  {
   "cell_type": "code",
   "execution_count": 29,
   "metadata": {
    "execution": {
     "iopub.execute_input": "2020-11-22T10:34:22.671585Z",
     "iopub.status.busy": "2020-11-22T10:34:22.558851Z",
     "iopub.status.idle": "2020-11-22T10:34:22.674802Z",
     "shell.execute_reply": "2020-11-22T10:34:22.674142Z"
    },
    "papermill": {
     "duration": 0.177281,
     "end_time": "2020-11-22T10:34:22.674923",
     "exception": false,
     "start_time": "2020-11-22T10:34:22.497642",
     "status": "completed"
    },
    "tags": []
   },
   "outputs": [],
   "source": [
    "test = test.drop(\"target\", axis=1)"
   ]
  },
  {
   "cell_type": "code",
   "execution_count": 30,
   "metadata": {
    "execution": {
     "iopub.execute_input": "2020-11-22T10:34:22.767559Z",
     "iopub.status.busy": "2020-11-22T10:34:22.766673Z",
     "iopub.status.idle": "2020-11-22T10:34:22.770600Z",
     "shell.execute_reply": "2020-11-22T10:34:22.771172Z"
    },
    "papermill": {
     "duration": 0.054054,
     "end_time": "2020-11-22T10:34:22.771333",
     "exception": false,
     "start_time": "2020-11-22T10:34:22.717279",
     "status": "completed"
    },
    "tags": []
   },
   "outputs": [
    {
     "data": {
      "text/plain": [
       "((1856405, 143), (390095, 142))"
      ]
     },
     "execution_count": 30,
     "metadata": {},
     "output_type": "execute_result"
    }
   ],
   "source": [
    "train.shape, test.shape "
   ]
  },
  {
   "cell_type": "code",
   "execution_count": 31,
   "metadata": {
    "execution": {
     "iopub.execute_input": "2020-11-22T10:34:22.863642Z",
     "iopub.status.busy": "2020-11-22T10:34:22.862614Z",
     "iopub.status.idle": "2020-11-22T10:34:22.866836Z",
     "shell.execute_reply": "2020-11-22T10:34:22.866236Z"
    },
    "papermill": {
     "duration": 0.05276,
     "end_time": "2020-11-22T10:34:22.866947",
     "exception": false,
     "start_time": "2020-11-22T10:34:22.814187",
     "status": "completed"
    },
    "tags": []
   },
   "outputs": [
    {
     "data": {
      "text/plain": [
       "Index(['target', 'adnw_id', 'adspot_id', 'adspot_video_format_id',\n",
       "       'advertiser_id', 'app_id', 'auction_type_id', 'campaign_id',\n",
       "       'first_login_interval', 'frequency',\n",
       "       ...\n",
       "       'uid_dayofweek=3', 'uid_dayofweek=4', 'uid_dayofweek=5',\n",
       "       'uid_dayofweek=6', 'uid_hour_zone=0', 'uid_hour_zone=1',\n",
       "       'uid_hour_zone=2', 'uid_hour_zone=3', 'camp_num', 'user_num'],\n",
       "      dtype='object', length=143)"
      ]
     },
     "execution_count": 31,
     "metadata": {},
     "output_type": "execute_result"
    }
   ],
   "source": [
    "train.columns"
   ]
  },
  {
   "cell_type": "code",
   "execution_count": 32,
   "metadata": {
    "execution": {
     "iopub.execute_input": "2020-11-22T10:34:22.960098Z",
     "iopub.status.busy": "2020-11-22T10:34:22.959321Z",
     "iopub.status.idle": "2020-11-22T10:34:22.963628Z",
     "shell.execute_reply": "2020-11-22T10:34:22.963047Z"
    },
    "papermill": {
     "duration": 0.053421,
     "end_time": "2020-11-22T10:34:22.963754",
     "exception": false,
     "start_time": "2020-11-22T10:34:22.910333",
     "status": "completed"
    },
    "tags": []
   },
   "outputs": [
    {
     "data": {
      "text/plain": [
       "['advertiser_id',\n",
       " 'app_id',\n",
       " 'campaign_id',\n",
       " 'game_feed_id',\n",
       " 'game_template_id',\n",
       " 'media_app_id',\n",
       " 'mst_advertiser_order_id']"
      ]
     },
     "execution_count": 32,
     "metadata": {},
     "output_type": "execute_result"
    }
   ],
   "source": [
    "object_feats = [i for i in object_feats if i in train.columns]\n",
    "object_feats"
   ]
  },
  {
   "cell_type": "markdown",
   "metadata": {
    "papermill": {
     "duration": 0.043831,
     "end_time": "2020-11-22T10:34:23.051760",
     "exception": false,
     "start_time": "2020-11-22T10:34:23.007929",
     "status": "completed"
    },
    "tags": []
   },
   "source": [
    "# stratified lgb"
   ]
  },
  {
   "cell_type": "code",
   "execution_count": 33,
   "metadata": {
    "_cell_guid": "79c7e3d0-c299-4dcb-8224-4455121ee9b0",
    "_uuid": "d629ff2d2480ee46fbb7e2d37f6b5fab8052498a",
    "execution": {
     "iopub.execute_input": "2020-11-22T10:34:23.168697Z",
     "iopub.status.busy": "2020-11-22T10:34:23.167896Z",
     "iopub.status.idle": "2020-11-22T10:53:43.533833Z",
     "shell.execute_reply": "2020-11-22T10:53:43.533103Z"
    },
    "papermill": {
     "duration": 1160.437853,
     "end_time": "2020-11-22T10:53:43.533970",
     "exception": false,
     "start_time": "2020-11-22T10:34:23.096117",
     "status": "completed"
    },
    "tags": []
   },
   "outputs": [
    {
     "name": "stdout",
     "output_type": "stream",
     "text": [
      "seed: 0\n",
      "fold:  0\n",
      "Training until validation scores don't improve for 20 rounds\n",
      "[30]\ttraining's pr_auc: 0.27591\tvalid_1's pr_auc: 0.267246\n",
      "[60]\ttraining's pr_auc: 0.30039\tvalid_1's pr_auc: 0.284973\n",
      "[90]\ttraining's pr_auc: 0.313786\tvalid_1's pr_auc: 0.289931\n",
      "[120]\ttraining's pr_auc: 0.323175\tvalid_1's pr_auc: 0.293806\n",
      "[150]\ttraining's pr_auc: 0.330271\tvalid_1's pr_auc: 0.2966\n",
      "[180]\ttraining's pr_auc: 0.339666\tvalid_1's pr_auc: 0.298521\n",
      "Early stopping, best iteration is:\n",
      "[173]\ttraining's pr_auc: 0.338509\tvalid_1's pr_auc: 0.299382\n",
      "fold:  1\n",
      "Training until validation scores don't improve for 20 rounds\n",
      "[30]\ttraining's pr_auc: 0.273012\tvalid_1's pr_auc: 0.264773\n",
      "[60]\ttraining's pr_auc: 0.293713\tvalid_1's pr_auc: 0.281217\n",
      "[90]\ttraining's pr_auc: 0.311058\tvalid_1's pr_auc: 0.291534\n",
      "[120]\ttraining's pr_auc: 0.322815\tvalid_1's pr_auc: 0.294834\n",
      "[150]\ttraining's pr_auc: 0.32914\tvalid_1's pr_auc: 0.297273\n",
      "Early stopping, best iteration is:\n",
      "[153]\ttraining's pr_auc: 0.330413\tvalid_1's pr_auc: 0.298027\n",
      "fold:  2\n",
      "Training until validation scores don't improve for 20 rounds\n",
      "[30]\ttraining's pr_auc: 0.272673\tvalid_1's pr_auc: 0.264505\n",
      "[60]\ttraining's pr_auc: 0.297321\tvalid_1's pr_auc: 0.280925\n",
      "[90]\ttraining's pr_auc: 0.312766\tvalid_1's pr_auc: 0.28922\n",
      "[120]\ttraining's pr_auc: 0.322041\tvalid_1's pr_auc: 0.292354\n",
      "[150]\ttraining's pr_auc: 0.330799\tvalid_1's pr_auc: 0.295613\n",
      "[180]\ttraining's pr_auc: 0.339335\tvalid_1's pr_auc: 0.298187\n",
      "[210]\ttraining's pr_auc: 0.345516\tvalid_1's pr_auc: 0.299523\n",
      "Early stopping, best iteration is:\n",
      "[206]\ttraining's pr_auc: 0.344681\tvalid_1's pr_auc: 0.299706\n",
      "fold:  3\n",
      "Training until validation scores don't improve for 20 rounds\n",
      "[30]\ttraining's pr_auc: 0.274523\tvalid_1's pr_auc: 0.268754\n",
      "[60]\ttraining's pr_auc: 0.300631\tvalid_1's pr_auc: 0.287559\n",
      "[90]\ttraining's pr_auc: 0.315647\tvalid_1's pr_auc: 0.293461\n",
      "[120]\ttraining's pr_auc: 0.326233\tvalid_1's pr_auc: 0.298352\n",
      "[150]\ttraining's pr_auc: 0.334649\tvalid_1's pr_auc: 0.300462\n",
      "[180]\ttraining's pr_auc: 0.342194\tvalid_1's pr_auc: 0.302125\n",
      "[210]\ttraining's pr_auc: 0.347818\tvalid_1's pr_auc: 0.302975\n",
      "Early stopping, best iteration is:\n",
      "[214]\ttraining's pr_auc: 0.348947\tvalid_1's pr_auc: 0.30335\n",
      "fold:  4\n",
      "Training until validation scores don't improve for 20 rounds\n",
      "[30]\ttraining's pr_auc: 0.272066\tvalid_1's pr_auc: 0.276742\n",
      "[60]\ttraining's pr_auc: 0.295206\tvalid_1's pr_auc: 0.293963\n",
      "[90]\ttraining's pr_auc: 0.307503\tvalid_1's pr_auc: 0.298958\n",
      "[120]\ttraining's pr_auc: 0.318235\tvalid_1's pr_auc: 0.30265\n",
      "[150]\ttraining's pr_auc: 0.327286\tvalid_1's pr_auc: 0.307211\n",
      "[180]\ttraining's pr_auc: 0.335817\tvalid_1's pr_auc: 0.309496\n",
      "Early stopping, best iteration is:\n",
      "[171]\ttraining's pr_auc: 0.334276\tvalid_1's pr_auc: 0.310469\n",
      "0.30202356063231994\n"
     ]
    }
   ],
   "source": [
    "# stratified k fold\n",
    "n_folds = 5\n",
    "def pr_auc_metric(y_predicted, y_true):\n",
    "    return 'pr_auc', average_precision_score(y_true.get_label(), y_predicted), True\n",
    "\n",
    "def modelling(seed):\n",
    "    print(\"seed:\", seed)\n",
    "    lgbm_params = {'objective': 'binary', 'metric': 'None', 'boosting_type': 'gbdt', \n",
    "               'tree_learner': 'serial', 'learning_rate': 0.1, \"num_leaves\": 10, 'random_seed':seed,'max_depth': 5}\n",
    "    \n",
    "    y = train.target\n",
    "    X = train.drop(['target'],axis=1)\n",
    "    \n",
    "    skf=StratifiedKFold(n_splits = n_folds, shuffle=True, random_state=0)\n",
    "    \n",
    "    valid = np.zeros([X.shape[0]])\n",
    "    features_list = [i for i in X.columns]\n",
    "    pred_value = np.zeros(test.shape[0])\n",
    "    feature_importance_df = pd.DataFrame(features_list, columns=[\"Feature\"])\n",
    "    \n",
    "    for i , (train_index, val_index) in enumerate(skf.split(X, y)):\n",
    "        print(\"fold: \", i)\n",
    "        \n",
    "        X_train = X.iloc[train_index,:]\n",
    "        y_train = y.iloc[train_index]\n",
    "        \n",
    "        X_valid = X.iloc[val_index,:]\n",
    "        y_valid = y.iloc[val_index]\n",
    "        \n",
    "        lgb_train = lgb.Dataset(X_train, y_train)\n",
    "        lgb_eval = lgb.Dataset(X_valid, y_valid, reference=lgb_train)\n",
    "        \n",
    "        model = lgb.train(lgbm_params, lgb_train,valid_sets=[lgb_train, lgb_eval],\n",
    "           num_boost_round=10000,early_stopping_rounds=20,verbose_eval = 30,\n",
    "                          feval=pr_auc_metric, categorical_feature = sorted(object_feats))\n",
    "        \n",
    "        valid_predict = model.predict(X_valid, num_iteration = model.best_iteration)\n",
    "        valid[val_index] = valid_predict\n",
    "        pred_value += model.predict(test, num_iteration = model.best_iteration) / n_folds\n",
    "        feature_importance_df[\"Fold_\"+str(i+1)] = model.feature_importance()\n",
    "    \n",
    "    feature_importance_df[\"Average\"] = np.mean(feature_importance_df.iloc[:,1:n_folds+1], axis=1)\n",
    "    feature_importance_df[\"Std\"] = np.std(feature_importance_df.iloc[:,1:n_folds+1], axis=1)\n",
    "    feature_importance_df[\"Cv\"] = feature_importance_df[\"Std\"] / feature_importance_df[\"Average\"]\n",
    "    \n",
    "    return pred_value, valid, feature_importance_df\n",
    "\n",
    "validation = np.zeros([train.shape[0]])\n",
    "pred_value = np.zeros([test.shape[0]])\n",
    "seeds = [0]\n",
    "for seed_ in seeds:\n",
    "    test_pred, oof_predict, feature_importance_df = modelling(seed_)\n",
    "    validation += oof_predict / len(seeds)\n",
    "    pred_value += test_pred / len(seeds)\n",
    "\n",
    "score = average_precision_score(train.target, validation)\n",
    "print(score)"
   ]
  },
  {
   "cell_type": "code",
   "execution_count": 34,
   "metadata": {
    "execution": {
     "iopub.execute_input": "2020-11-22T10:53:43.677116Z",
     "iopub.status.busy": "2020-11-22T10:53:43.676419Z",
     "iopub.status.idle": "2020-11-22T10:53:43.689344Z",
     "shell.execute_reply": "2020-11-22T10:53:43.689919Z"
    },
    "papermill": {
     "duration": 0.09263,
     "end_time": "2020-11-22T10:53:43.690070",
     "exception": false,
     "start_time": "2020-11-22T10:53:43.597440",
     "status": "completed"
    },
    "tags": []
   },
   "outputs": [
    {
     "data": {
      "text/html": [
       "<div>\n",
       "<style scoped>\n",
       "    .dataframe tbody tr th:only-of-type {\n",
       "        vertical-align: middle;\n",
       "    }\n",
       "\n",
       "    .dataframe tbody tr th {\n",
       "        vertical-align: top;\n",
       "    }\n",
       "\n",
       "    .dataframe thead th {\n",
       "        text-align: right;\n",
       "    }\n",
       "</style>\n",
       "<table border=\"1\" class=\"dataframe\">\n",
       "  <thead>\n",
       "    <tr style=\"text-align: right;\">\n",
       "      <th></th>\n",
       "      <th>Feature</th>\n",
       "      <th>Fold_1</th>\n",
       "      <th>Fold_2</th>\n",
       "      <th>Fold_3</th>\n",
       "      <th>Fold_4</th>\n",
       "      <th>Fold_5</th>\n",
       "      <th>Average</th>\n",
       "      <th>Std</th>\n",
       "      <th>Cv</th>\n",
       "    </tr>\n",
       "  </thead>\n",
       "  <tbody>\n",
       "    <tr>\n",
       "      <th>4</th>\n",
       "      <td>app_id</td>\n",
       "      <td>316</td>\n",
       "      <td>261</td>\n",
       "      <td>375</td>\n",
       "      <td>394</td>\n",
       "      <td>304</td>\n",
       "      <td>330.0</td>\n",
       "      <td>48.485049</td>\n",
       "      <td>0.146924</td>\n",
       "    </tr>\n",
       "    <tr>\n",
       "      <th>6</th>\n",
       "      <td>campaign_id</td>\n",
       "      <td>275</td>\n",
       "      <td>254</td>\n",
       "      <td>314</td>\n",
       "      <td>336</td>\n",
       "      <td>274</td>\n",
       "      <td>290.6</td>\n",
       "      <td>29.890467</td>\n",
       "      <td>0.102858</td>\n",
       "    </tr>\n",
       "    <tr>\n",
       "      <th>17</th>\n",
       "      <td>media_app_id</td>\n",
       "      <td>123</td>\n",
       "      <td>101</td>\n",
       "      <td>162</td>\n",
       "      <td>179</td>\n",
       "      <td>117</td>\n",
       "      <td>136.4</td>\n",
       "      <td>29.254743</td>\n",
       "      <td>0.214478</td>\n",
       "    </tr>\n",
       "    <tr>\n",
       "      <th>20</th>\n",
       "      <td>uid</td>\n",
       "      <td>118</td>\n",
       "      <td>120</td>\n",
       "      <td>137</td>\n",
       "      <td>133</td>\n",
       "      <td>116</td>\n",
       "      <td>124.8</td>\n",
       "      <td>8.518216</td>\n",
       "      <td>0.068255</td>\n",
       "    </tr>\n",
       "    <tr>\n",
       "      <th>3</th>\n",
       "      <td>advertiser_id</td>\n",
       "      <td>85</td>\n",
       "      <td>79</td>\n",
       "      <td>100</td>\n",
       "      <td>96</td>\n",
       "      <td>86</td>\n",
       "      <td>89.2</td>\n",
       "      <td>7.678542</td>\n",
       "      <td>0.086082</td>\n",
       "    </tr>\n",
       "    <tr>\n",
       "      <th>...</th>\n",
       "      <td>...</td>\n",
       "      <td>...</td>\n",
       "      <td>...</td>\n",
       "      <td>...</td>\n",
       "      <td>...</td>\n",
       "      <td>...</td>\n",
       "      <td>...</td>\n",
       "      <td>...</td>\n",
       "      <td>...</td>\n",
       "    </tr>\n",
       "    <tr>\n",
       "      <th>115</th>\n",
       "      <td>tfidf_campaign_id_66</td>\n",
       "      <td>2</td>\n",
       "      <td>0</td>\n",
       "      <td>2</td>\n",
       "      <td>0</td>\n",
       "      <td>2</td>\n",
       "      <td>1.2</td>\n",
       "      <td>0.979796</td>\n",
       "      <td>0.816497</td>\n",
       "    </tr>\n",
       "    <tr>\n",
       "      <th>26</th>\n",
       "      <td>popular_game</td>\n",
       "      <td>1</td>\n",
       "      <td>1</td>\n",
       "      <td>1</td>\n",
       "      <td>2</td>\n",
       "      <td>1</td>\n",
       "      <td>1.2</td>\n",
       "      <td>0.400000</td>\n",
       "      <td>0.333333</td>\n",
       "    </tr>\n",
       "    <tr>\n",
       "      <th>136</th>\n",
       "      <td>uid_hour_zone=0</td>\n",
       "      <td>1</td>\n",
       "      <td>1</td>\n",
       "      <td>1</td>\n",
       "      <td>1</td>\n",
       "      <td>2</td>\n",
       "      <td>1.2</td>\n",
       "      <td>0.400000</td>\n",
       "      <td>0.333333</td>\n",
       "    </tr>\n",
       "    <tr>\n",
       "      <th>100</th>\n",
       "      <td>tfidf_campaign_id_51</td>\n",
       "      <td>1</td>\n",
       "      <td>3</td>\n",
       "      <td>0</td>\n",
       "      <td>2</td>\n",
       "      <td>0</td>\n",
       "      <td>1.2</td>\n",
       "      <td>1.166190</td>\n",
       "      <td>0.971825</td>\n",
       "    </tr>\n",
       "    <tr>\n",
       "      <th>105</th>\n",
       "      <td>tfidf_campaign_id_56</td>\n",
       "      <td>2</td>\n",
       "      <td>0</td>\n",
       "      <td>2</td>\n",
       "      <td>1</td>\n",
       "      <td>0</td>\n",
       "      <td>1.0</td>\n",
       "      <td>0.894427</td>\n",
       "      <td>0.894427</td>\n",
       "    </tr>\n",
       "  </tbody>\n",
       "</table>\n",
       "<p>100 rows × 9 columns</p>\n",
       "</div>"
      ],
      "text/plain": [
       "                  Feature  Fold_1  Fold_2  Fold_3  Fold_4  Fold_5  Average  \\\n",
       "4                  app_id     316     261     375     394     304    330.0   \n",
       "6             campaign_id     275     254     314     336     274    290.6   \n",
       "17           media_app_id     123     101     162     179     117    136.4   \n",
       "20                    uid     118     120     137     133     116    124.8   \n",
       "3           advertiser_id      85      79     100      96      86     89.2   \n",
       "..                    ...     ...     ...     ...     ...     ...      ...   \n",
       "115  tfidf_campaign_id_66       2       0       2       0       2      1.2   \n",
       "26           popular_game       1       1       1       2       1      1.2   \n",
       "136       uid_hour_zone=0       1       1       1       1       2      1.2   \n",
       "100  tfidf_campaign_id_51       1       3       0       2       0      1.2   \n",
       "105  tfidf_campaign_id_56       2       0       2       1       0      1.0   \n",
       "\n",
       "           Std        Cv  \n",
       "4    48.485049  0.146924  \n",
       "6    29.890467  0.102858  \n",
       "17   29.254743  0.214478  \n",
       "20    8.518216  0.068255  \n",
       "3     7.678542  0.086082  \n",
       "..         ...       ...  \n",
       "115   0.979796  0.816497  \n",
       "26    0.400000  0.333333  \n",
       "136   0.400000  0.333333  \n",
       "100   1.166190  0.971825  \n",
       "105   0.894427  0.894427  \n",
       "\n",
       "[100 rows x 9 columns]"
      ]
     },
     "execution_count": 34,
     "metadata": {},
     "output_type": "execute_result"
    }
   ],
   "source": [
    "feature_importance_df.sort_values(\"Average\", ascending=False).head(100)"
   ]
  },
  {
   "cell_type": "code",
   "execution_count": 35,
   "metadata": {
    "execution": {
     "iopub.execute_input": "2020-11-22T10:53:43.829884Z",
     "iopub.status.busy": "2020-11-22T10:53:43.829173Z",
     "iopub.status.idle": "2020-11-22T10:53:43.832292Z",
     "shell.execute_reply": "2020-11-22T10:53:43.831719Z"
    },
    "papermill": {
     "duration": 0.078319,
     "end_time": "2020-11-22T10:53:43.832437",
     "exception": false,
     "start_time": "2020-11-22T10:53:43.754118",
     "status": "completed"
    },
    "tags": []
   },
   "outputs": [],
   "source": [
    "del train"
   ]
  },
  {
   "cell_type": "markdown",
   "metadata": {
    "papermill": {
     "duration": 0.064523,
     "end_time": "2020-11-22T10:53:43.961793",
     "exception": false,
     "start_time": "2020-11-22T10:53:43.897270",
     "status": "completed"
    },
    "tags": []
   },
   "source": [
    "# ts lgb"
   ]
  },
  {
   "cell_type": "code",
   "execution_count": 36,
   "metadata": {
    "execution": {
     "iopub.execute_input": "2020-11-22T10:53:44.113158Z",
     "iopub.status.busy": "2020-11-22T10:53:44.112390Z",
     "iopub.status.idle": "2020-11-22T10:55:58.482085Z",
     "shell.execute_reply": "2020-11-22T10:55:58.482965Z"
    },
    "papermill": {
     "duration": 134.45634,
     "end_time": "2020-11-22T10:55:58.483167",
     "exception": false,
     "start_time": "2020-11-22T10:53:44.026827",
     "status": "completed"
    },
    "tags": []
   },
   "outputs": [
    {
     "name": "stdout",
     "output_type": "stream",
     "text": [
      "seed: 0\n",
      "Training until validation scores don't improve for 10 rounds\n",
      "[10]\ttraining's pr_auc: 0.290213\tvalid_1's pr_auc: 0.224849\n",
      "[20]\ttraining's pr_auc: 0.298566\tvalid_1's pr_auc: 0.22772\n",
      "[30]\ttraining's pr_auc: 0.308004\tvalid_1's pr_auc: 0.231508\n",
      "[40]\ttraining's pr_auc: 0.319046\tvalid_1's pr_auc: 0.235129\n",
      "[50]\ttraining's pr_auc: 0.329481\tvalid_1's pr_auc: 0.237293\n",
      "[60]\ttraining's pr_auc: 0.33931\tvalid_1's pr_auc: 0.239078\n",
      "[70]\ttraining's pr_auc: 0.345415\tvalid_1's pr_auc: 0.239527\n",
      "[80]\ttraining's pr_auc: 0.353679\tvalid_1's pr_auc: 0.240392\n",
      "[90]\ttraining's pr_auc: 0.359592\tvalid_1's pr_auc: 0.241441\n",
      "[100]\ttraining's pr_auc: 0.365029\tvalid_1's pr_auc: 0.242105\n",
      "Early stopping, best iteration is:\n",
      "[96]\ttraining's pr_auc: 0.363679\tvalid_1's pr_auc: 0.242305\n",
      "average precision score = 0.2423045429838455\n",
      "0.2423045429838455\n"
     ]
    }
   ],
   "source": [
    "def pr_auc_metric(y_predicted, y_true):\n",
    "    return 'pr_auc', average_precision_score(y_true.get_label(), y_predicted), True\n",
    "\n",
    "def modelling_ts(seed):\n",
    "    print(\"seed:\", seed)\n",
    "    lgbm_params = {'objective': 'binary', 'metric': 'None', 'boosting_type': 'gbdt',\n",
    "               'tree_learner': 'serial', 'learning_rate': 0.1, 'random_seed':seed,'max_depth': 5}\n",
    "    y_train = train_df.target\n",
    "    X_train = train_df.drop(['target'],axis=1)\n",
    "    y_valid = valid_df.target\n",
    "    X_valid = valid_df.drop(['target'],axis=1)\n",
    "    \n",
    "    valid_lgb = pd.DataFrame(np.zeros([X_train.shape[0]]))\n",
    "    real = np.array([])\n",
    "    features_list = [i for i in X_train.columns]\n",
    "    feature_importance_df = pd.DataFrame(features_list, columns=[\"Feature\"])\n",
    "    \n",
    "    #rus = RandomUnderSampler(sampling_strategy = {0:sum(y_train==0)//2, 1:sum(y_train==1)}, random_state=seed)\n",
    "    #X_resampled, y_resampled = rus.fit_resample(X_train, y_train)  \n",
    "    #X_train = pd.DataFrame(X_resampled, columns = X_train.columns)\n",
    "    #y_train = pd.DataFrame(y_resampled, columns = [\"target\"])\n",
    "        \n",
    "    lgb_train = lgb.Dataset(X_train, y_train)\n",
    "    lgb_eval = lgb.Dataset(X_valid, y_valid, reference=lgb_train)\n",
    "        \n",
    "    model = lgb.train(lgbm_params, lgb_train,valid_sets=[lgb_train, lgb_eval],\n",
    "       num_boost_round=10000,early_stopping_rounds=10,verbose_eval = 10, feval=pr_auc_metric, categorical_feature = sorted(object_feats))\n",
    "    \n",
    "    valid_predict = model.predict(X_valid, num_iteration = model.best_iteration)\n",
    "    feature_importance_df[\"Importance\"] = model.feature_importance()\n",
    "        \n",
    "    score = average_precision_score(y_valid, valid_predict)\n",
    "    print(\"average precision score = {}\".format(score))\n",
    "    pred_value = model.predict(test, num_iteration = model.best_iteration) \n",
    "    \n",
    "    return pred_value, valid_predict, feature_importance_df\n",
    "\n",
    "validation_ts = np.zeros([valid_df.shape[0]])\n",
    "pred_value_ts = np.zeros([test.shape[0]])\n",
    "seeds = [0]\n",
    "for seed_ in seeds:\n",
    "    test_pred, oof_predict, feature_importance_df = modelling_ts(seed_)\n",
    "    validation_ts += oof_predict / len(seeds)\n",
    "    pred_value_ts += test_pred / len(seeds)\n",
    "\n",
    "ts_score = average_precision_score(valid_df.target, validation_ts)\n",
    "print(ts_score)"
   ]
  },
  {
   "cell_type": "code",
   "execution_count": 37,
   "metadata": {
    "execution": {
     "iopub.execute_input": "2020-11-22T10:55:58.640707Z",
     "iopub.status.busy": "2020-11-22T10:55:58.639608Z",
     "iopub.status.idle": "2020-11-22T10:55:58.643472Z",
     "shell.execute_reply": "2020-11-22T10:55:58.644036Z"
    },
    "papermill": {
     "duration": 0.089485,
     "end_time": "2020-11-22T10:55:58.644181",
     "exception": false,
     "start_time": "2020-11-22T10:55:58.554696",
     "status": "completed"
    },
    "tags": []
   },
   "outputs": [
    {
     "data": {
      "text/html": [
       "<div>\n",
       "<style scoped>\n",
       "    .dataframe tbody tr th:only-of-type {\n",
       "        vertical-align: middle;\n",
       "    }\n",
       "\n",
       "    .dataframe tbody tr th {\n",
       "        vertical-align: top;\n",
       "    }\n",
       "\n",
       "    .dataframe thead th {\n",
       "        text-align: right;\n",
       "    }\n",
       "</style>\n",
       "<table border=\"1\" class=\"dataframe\">\n",
       "  <thead>\n",
       "    <tr style=\"text-align: right;\">\n",
       "      <th></th>\n",
       "      <th>Feature</th>\n",
       "      <th>Importance</th>\n",
       "    </tr>\n",
       "  </thead>\n",
       "  <tbody>\n",
       "    <tr>\n",
       "      <th>4</th>\n",
       "      <td>app_id</td>\n",
       "      <td>370</td>\n",
       "    </tr>\n",
       "    <tr>\n",
       "      <th>6</th>\n",
       "      <td>campaign_id</td>\n",
       "      <td>306</td>\n",
       "    </tr>\n",
       "    <tr>\n",
       "      <th>20</th>\n",
       "      <td>uid</td>\n",
       "      <td>158</td>\n",
       "    </tr>\n",
       "    <tr>\n",
       "      <th>17</th>\n",
       "      <td>media_app_id</td>\n",
       "      <td>133</td>\n",
       "    </tr>\n",
       "    <tr>\n",
       "      <th>10</th>\n",
       "      <td>game_feed_id</td>\n",
       "      <td>90</td>\n",
       "    </tr>\n",
       "    <tr>\n",
       "      <th>...</th>\n",
       "      <td>...</td>\n",
       "      <td>...</td>\n",
       "    </tr>\n",
       "    <tr>\n",
       "      <th>48</th>\n",
       "      <td>tfidf_advertiser_id_19</td>\n",
       "      <td>1</td>\n",
       "    </tr>\n",
       "    <tr>\n",
       "      <th>71</th>\n",
       "      <td>tfidf_campaign_id_22</td>\n",
       "      <td>1</td>\n",
       "    </tr>\n",
       "    <tr>\n",
       "      <th>19</th>\n",
       "      <td>pos</td>\n",
       "      <td>0</td>\n",
       "    </tr>\n",
       "    <tr>\n",
       "      <th>12</th>\n",
       "      <td>is_interstitial</td>\n",
       "      <td>0</td>\n",
       "    </tr>\n",
       "    <tr>\n",
       "      <th>11</th>\n",
       "      <td>game_template_id</td>\n",
       "      <td>0</td>\n",
       "    </tr>\n",
       "  </tbody>\n",
       "</table>\n",
       "<p>142 rows × 2 columns</p>\n",
       "</div>"
      ],
      "text/plain": [
       "                   Feature  Importance\n",
       "4                   app_id         370\n",
       "6              campaign_id         306\n",
       "20                     uid         158\n",
       "17            media_app_id         133\n",
       "10            game_feed_id          90\n",
       "..                     ...         ...\n",
       "48  tfidf_advertiser_id_19           1\n",
       "71    tfidf_campaign_id_22           1\n",
       "19                     pos           0\n",
       "12         is_interstitial           0\n",
       "11        game_template_id           0\n",
       "\n",
       "[142 rows x 2 columns]"
      ]
     },
     "execution_count": 37,
     "metadata": {},
     "output_type": "execute_result"
    }
   ],
   "source": [
    "feature_importance_df.sort_values(\"Importance\", ascending=False)"
   ]
  },
  {
   "cell_type": "markdown",
   "metadata": {
    "papermill": {
     "duration": 0.071368,
     "end_time": "2020-11-22T10:55:58.787668",
     "exception": false,
     "start_time": "2020-11-22T10:55:58.716300",
     "status": "completed"
    },
    "tags": []
   },
   "source": [
    "# submission"
   ]
  },
  {
   "cell_type": "code",
   "execution_count": 38,
   "metadata": {
    "execution": {
     "iopub.execute_input": "2020-11-22T10:55:58.943048Z",
     "iopub.status.busy": "2020-11-22T10:55:58.942334Z",
     "iopub.status.idle": "2020-11-22T10:56:00.943010Z",
     "shell.execute_reply": "2020-11-22T10:56:00.942210Z"
    },
    "papermill": {
     "duration": 2.083678,
     "end_time": "2020-11-22T10:56:00.943139",
     "exception": false,
     "start_time": "2020-11-22T10:55:58.859461",
     "status": "completed"
    },
    "tags": []
   },
   "outputs": [],
   "source": [
    "lgb_sub = pd.read_csv(DIR + \"atmaCup7__sample_submission.csv\")\n",
    "lgb_sub[\"target\"] = (pred_value + pred_value_ts) / 2\n",
    "lgb_sub.to_csv(\"atmacup7_\"+str(score)[:-10]+\".csv\", index = False)"
   ]
  },
  {
   "cell_type": "code",
   "execution_count": null,
   "metadata": {
    "papermill": {
     "duration": 0.120237,
     "end_time": "2020-11-22T10:56:01.135833",
     "exception": false,
     "start_time": "2020-11-22T10:56:01.015596",
     "status": "completed"
    },
    "tags": []
   },
   "outputs": [],
   "source": []
  }
 ],
 "metadata": {
  "kernelspec": {
   "display_name": "Python 3",
   "language": "python",
   "name": "python3"
  },
  "language_info": {
   "codemirror_mode": {
    "name": "ipython",
    "version": 3
   },
   "file_extension": ".py",
   "mimetype": "text/x-python",
   "name": "python",
   "nbconvert_exporter": "python",
   "pygments_lexer": "ipython3",
   "version": "3.7.6"
  },
  "papermill": {
   "duration": 1755.861132,
   "end_time": "2020-11-22T10:56:01.315407",
   "environment_variables": {},
   "exception": null,
   "input_path": "__notebook__.ipynb",
   "output_path": "__notebook__.ipynb",
   "parameters": {},
   "start_time": "2020-11-22T10:26:45.454275",
   "version": "2.1.0"
  }
 },
 "nbformat": 4,
 "nbformat_minor": 4
}
