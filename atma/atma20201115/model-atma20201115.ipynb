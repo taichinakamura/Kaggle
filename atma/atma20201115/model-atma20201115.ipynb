{
 "cells": [
  {
   "cell_type": "markdown",
   "metadata": {
    "papermill": {
     "duration": 0.025953,
     "end_time": "2020-11-16T05:17:43.214568",
     "exception": false,
     "start_time": "2020-11-16T05:17:43.188615",
     "status": "completed"
    },
    "tags": []
   },
   "source": [
    "- add timediff"
   ]
  },
  {
   "cell_type": "code",
   "execution_count": 1,
   "metadata": {
    "_cell_guid": "b1076dfc-b9ad-4769-8c92-a6c4dae69d19",
    "_uuid": "8f2839f25d086af736a60e9eeb907d3b93b6e0e5",
    "execution": {
     "iopub.execute_input": "2020-11-16T05:17:43.267657Z",
     "iopub.status.busy": "2020-11-16T05:17:43.266784Z",
     "iopub.status.idle": "2020-11-16T05:17:44.559579Z",
     "shell.execute_reply": "2020-11-16T05:17:44.560187Z"
    },
    "papermill": {
     "duration": 1.323277,
     "end_time": "2020-11-16T05:17:44.560428",
     "exception": false,
     "start_time": "2020-11-16T05:17:43.237151",
     "status": "completed"
    },
    "tags": []
   },
   "outputs": [
    {
     "name": "stderr",
     "output_type": "stream",
     "text": [
      "/opt/conda/lib/python3.7/site-packages/ipykernel_launcher.py:6: TqdmDeprecationWarning: This function will be removed in tqdm==5.0.0\n",
      "Please use `tqdm.notebook.*` instead of `tqdm._tqdm_notebook.*`\n",
      "  \n",
      "/opt/conda/lib/python3.7/site-packages/tqdm/std.py:666: FutureWarning: The Panel class is removed from pandas. Accessing it from the top-level namespace will also be removed in the next version\n",
      "  from pandas import Panel\n"
     ]
    }
   ],
   "source": [
    "import os\n",
    "import numpy as np\n",
    "import pandas as pd\n",
    "import lightgbm as lgb\n",
    "from sklearn import preprocessing\n",
    "from tqdm._tqdm_notebook import tqdm_notebook\n",
    "from sklearn.metrics import average_precision_score\n",
    "tqdm_notebook.pandas(desc=\"progress: \")"
   ]
  },
  {
   "cell_type": "code",
   "execution_count": 2,
   "metadata": {
    "execution": {
     "iopub.execute_input": "2020-11-16T05:17:47.941619Z",
     "iopub.status.busy": "2020-11-16T05:17:47.940811Z",
     "iopub.status.idle": "2020-11-16T05:19:41.175005Z",
     "shell.execute_reply": "2020-11-16T05:19:41.174050Z"
    },
    "papermill": {
     "duration": 116.590918,
     "end_time": "2020-11-16T05:19:41.175173",
     "exception": false,
     "start_time": "2020-11-16T05:17:44.584255",
     "status": "completed"
    },
    "tags": []
   },
   "outputs": [],
   "source": [
    "DIR = \"../input/20201115at/\"\n",
    "train = pd.read_csv(DIR+\"train.csv\")\n",
    "test = pd.read_csv(DIR+\"test.csv\")\n",
    "campaign = pd.read_csv(DIR+\"campaign.csv\")\n",
    "\n",
    "advertiser_video = pd.read_csv(DIR+\"advertiser_video.csv\")\n",
    "map_game_feed_native_video_assets = pd.read_csv(DIR+'map_game_feed_native_video_assets.csv')\n",
    "\n",
    "#advertiser_converted_video = pd.read_csv(DIR+\"advertiser_converted_video.csv\")"
   ]
  },
  {
   "cell_type": "markdown",
   "metadata": {
    "papermill": {
     "duration": 0.022098,
     "end_time": "2020-11-16T05:19:41.220380",
     "exception": false,
     "start_time": "2020-11-16T05:19:41.198282",
     "status": "completed"
    },
    "tags": []
   },
   "source": [
    "# preprocess"
   ]
  },
  {
   "cell_type": "code",
   "execution_count": 3,
   "metadata": {
    "execution": {
     "iopub.execute_input": "2020-11-16T05:19:41.283207Z",
     "iopub.status.busy": "2020-11-16T05:19:41.276249Z",
     "iopub.status.idle": "2020-11-16T05:19:52.832951Z",
     "shell.execute_reply": "2020-11-16T05:19:52.832200Z"
    },
    "papermill": {
     "duration": 11.590302,
     "end_time": "2020-11-16T05:19:52.833121",
     "exception": false,
     "start_time": "2020-11-16T05:19:41.242819",
     "status": "completed"
    },
    "tags": []
   },
   "outputs": [],
   "source": [
    "# with campaign\n",
    "train = train.merge(campaign, left_on=\"campaign_id\", right_on = \"id\", how=\"left\").drop([\"mst_advertiser_id\", \"id\"], axis=1)\n",
    "test = test.merge(campaign, left_on=\"campaign_id\", right_on = \"id\", how=\"left\").drop([\"mst_advertiser_id\", \"id\"], axis=1)\n",
    "\n",
    "# with map_gae_feed_native_video_assets\n",
    "#train = train.merge(map_game_feed_native_video_assets, left_on=[\"game_feed_id\"], right_on = [\"mst_game_feed_id\"], how=\"left\").drop([\"mst_game_feed_id\"], axis=1)\n",
    "#test = test.merge(map_game_feed_native_video_assets, left_on=[\"game_feed_id\"], right_on = [\"mst_game_feed_id\"], how=\"left\").drop([\"mst_game_feed_id\"], axis=1)\n",
    "\n",
    "# with advertiser_video horizontal\n",
    "#horizontal = advertiser_video.copy()\n",
    "#horizontal.columns = [f\"horizontal_{c}\" if c not in [\"id\", \"mst_advertiser_id\"] else c for c in horizontal.columns]\n",
    "#train = pd.merge(train, horizontal[[\"id\", \"mst_advertiser_id\", \"horizontal_duration\"]], left_on=[\"horizontal_mst_advertiser_video_id\", \"advertiser_id\"], \n",
    "#               right_on=[\"id\", \"mst_advertiser_id\"], how=\"left\").drop(columns=[\"id\", \"mst_advertiser_id\"])\n",
    "#test = pd.merge(test, horizontal[[\"id\", \"mst_advertiser_id\", \"horizontal_duration\"]], left_on=[\"horizontal_mst_advertiser_video_id\", \"advertiser_id\"], \n",
    "#               right_on=[\"id\", \"mst_advertiser_id\"], how=\"left\").drop(columns=[\"id\", \"mst_advertiser_id\"])"
   ]
  },
  {
   "cell_type": "code",
   "execution_count": 4,
   "metadata": {
    "execution": {
     "iopub.execute_input": "2020-11-16T05:19:53.626294Z",
     "iopub.status.busy": "2020-11-16T05:19:53.625450Z",
     "iopub.status.idle": "2020-11-16T05:19:54.452523Z",
     "shell.execute_reply": "2020-11-16T05:19:54.451613Z"
    },
    "papermill": {
     "duration": 1.596513,
     "end_time": "2020-11-16T05:19:54.452685",
     "exception": false,
     "start_time": "2020-11-16T05:19:52.856172",
     "status": "completed"
    },
    "tags": []
   },
   "outputs": [],
   "source": [
    "train[\"imp_at\"] = pd.to_datetime(train[\"imp_at\"])\n",
    "test[\"imp_at\"] = pd.to_datetime(test[\"imp_at\"])"
   ]
  },
  {
   "cell_type": "code",
   "execution_count": 5,
   "metadata": {
    "execution": {
     "iopub.execute_input": "2020-11-16T05:19:55.115635Z",
     "iopub.status.busy": "2020-11-16T05:19:54.845620Z",
     "iopub.status.idle": "2020-11-16T05:19:55.119098Z",
     "shell.execute_reply": "2020-11-16T05:19:55.118171Z"
    },
    "papermill": {
     "duration": 0.643257,
     "end_time": "2020-11-16T05:19:55.119266",
     "exception": false,
     "start_time": "2020-11-16T05:19:54.476009",
     "status": "completed"
    },
    "tags": []
   },
   "outputs": [],
   "source": [
    "train.drop(['click_or_view_at', 'cv_at','last_cv_interval', 'last_paid_interval'], axis=1, inplace=True)"
   ]
  },
  {
   "cell_type": "code",
   "execution_count": 6,
   "metadata": {
    "execution": {
     "iopub.execute_input": "2020-11-16T05:19:57.954858Z",
     "iopub.status.busy": "2020-11-16T05:19:57.953343Z",
     "iopub.status.idle": "2020-11-16T05:20:58.982282Z",
     "shell.execute_reply": "2020-11-16T05:20:58.980510Z"
    },
    "papermill": {
     "duration": 63.839132,
     "end_time": "2020-11-16T05:20:58.982525",
     "exception": false,
     "start_time": "2020-11-16T05:19:55.143393",
     "status": "completed"
    },
    "tags": []
   },
   "outputs": [
    {
     "name": "stdout",
     "output_type": "stream",
     "text": [
      "request_id\n",
      "advertiser_id\n",
      "app_id\n",
      "campaign_id\n",
      "country_code\n",
      "game_feed_id\n",
      "game_template_id\n",
      "media_app_id\n",
      "os_version\n",
      "uid\n",
      "video_template_id\n",
      "mst_advertiser_order_id\n"
     ]
    }
   ],
   "source": [
    "object_feats = [i for i in train.columns if \"object\" == str(train[i].dtype)]\n",
    "train[object_feats] = train[object_feats].fillna(\"-999\")\n",
    "test[object_feats] = test[object_feats].fillna(\"-999\")\n",
    "\n",
    "for i in object_feats:\n",
    "    print(i)\n",
    "    lbl = preprocessing.LabelEncoder()\n",
    "    lbl.fit(list(pd.concat([train[i], test[i]])))\n",
    "    train[i] = lbl.transform(list(train[i]))\n",
    "    test[i] = lbl.transform(list(test[i]))"
   ]
  },
  {
   "cell_type": "markdown",
   "metadata": {
    "papermill": {
     "duration": 0.027827,
     "end_time": "2020-11-16T05:20:59.039596",
     "exception": false,
     "start_time": "2020-11-16T05:20:59.011769",
     "status": "completed"
    },
    "tags": []
   },
   "source": [
    "# fe"
   ]
  },
  {
   "cell_type": "code",
   "execution_count": 7,
   "metadata": {
    "execution": {
     "iopub.execute_input": "2020-11-16T05:20:59.102347Z",
     "iopub.status.busy": "2020-11-16T05:20:59.101548Z",
     "iopub.status.idle": "2020-11-16T05:21:00.074023Z",
     "shell.execute_reply": "2020-11-16T05:21:00.073111Z"
    },
    "papermill": {
     "duration": 1.006755,
     "end_time": "2020-11-16T05:21:00.074174",
     "exception": false,
     "start_time": "2020-11-16T05:20:59.067419",
     "status": "completed"
    },
    "tags": []
   },
   "outputs": [],
   "source": [
    "train[\"type\"] = \"train\"\n",
    "test[\"type\"] = \"test\"\n",
    "all_df = pd.concat([train, test])"
   ]
  },
  {
   "cell_type": "code",
   "execution_count": 8,
   "metadata": {
    "execution": {
     "iopub.execute_input": "2020-11-16T05:21:00.139940Z",
     "iopub.status.busy": "2020-11-16T05:21:00.139067Z",
     "iopub.status.idle": "2020-11-16T05:21:00.528146Z",
     "shell.execute_reply": "2020-11-16T05:21:00.527203Z"
    },
    "papermill": {
     "duration": 0.425488,
     "end_time": "2020-11-16T05:21:00.528326",
     "exception": false,
     "start_time": "2020-11-16T05:21:00.102838",
     "status": "completed"
    },
    "tags": []
   },
   "outputs": [],
   "source": [
    "tmp = all_df.uid.value_counts().reset_index(drop=False)\n",
    "multi_users = list(tmp[tmp.uid>=2][\"index\"])"
   ]
  },
  {
   "cell_type": "code",
   "execution_count": 9,
   "metadata": {
    "execution": {
     "iopub.execute_input": "2020-11-16T05:21:00.597669Z",
     "iopub.status.busy": "2020-11-16T05:21:00.596833Z",
     "iopub.status.idle": "2020-11-16T05:21:02.162871Z",
     "shell.execute_reply": "2020-11-16T05:21:02.162163Z"
    },
    "papermill": {
     "duration": 1.604632,
     "end_time": "2020-11-16T05:21:02.163025",
     "exception": false,
     "start_time": "2020-11-16T05:21:00.558393",
     "status": "completed"
    },
    "tags": []
   },
   "outputs": [],
   "source": [
    "all_df = all_df[all_df.uid.isin(multi_users)].reset_index(drop=True)"
   ]
  },
  {
   "cell_type": "code",
   "execution_count": 10,
   "metadata": {
    "execution": {
     "iopub.execute_input": "2020-11-16T05:21:02.234335Z",
     "iopub.status.busy": "2020-11-16T05:21:02.233121Z",
     "iopub.status.idle": "2020-11-16T05:38:36.868961Z",
     "shell.execute_reply": "2020-11-16T05:38:36.869604Z"
    },
    "papermill": {
     "duration": 1054.67821,
     "end_time": "2020-11-16T05:38:36.870034",
     "exception": false,
     "start_time": "2020-11-16T05:21:02.191824",
     "status": "completed"
    },
    "tags": []
   },
   "outputs": [
    {
     "data": {
      "application/vnd.jupyter.widget-view+json": {
       "model_id": "d5826f1e6b63487486c5044516646053",
       "version_major": 2,
       "version_minor": 0
      },
      "text/plain": [
       "HBox(children=(FloatProgress(value=0.0, description='progress: ', max=423129.0, style=ProgressStyle(descriptio…"
      ]
     },
     "metadata": {},
     "output_type": "display_data"
    },
    {
     "name": "stdout",
     "output_type": "stream",
     "text": [
      "\n"
     ]
    },
    {
     "data": {
      "application/vnd.jupyter.widget-view+json": {
       "model_id": "81b891cc63ff4ea18be041ac9677bbc1",
       "version_major": 2,
       "version_minor": 0
      },
      "text/plain": [
       "HBox(children=(FloatProgress(value=0.0, description='progress: ', max=1376781.0, style=ProgressStyle(descripti…"
      ]
     },
     "metadata": {},
     "output_type": "display_data"
    },
    {
     "name": "stdout",
     "output_type": "stream",
     "text": [
      "\n"
     ]
    }
   ],
   "source": [
    "# cumsum from click by uid\n",
    "tmp1 = all_df.groupby(['uid'])['from_click'].progress_apply(lambda x: pd.DataFrame([0]+list(x.cumsum()[:-1]))).reset_index(drop=True).values\n",
    "tmp1 = np.array(tmp1, dtype=float)\n",
    "# cumsum total num by uid\n",
    "tmp2 = all_df.groupby(['uid']).cumcount().values\n",
    "tmp2 = np.array(tmp2, dtype=float).reshape(-1,1)\n",
    "# https://stackoverflow.com/questions/26248654/how-to-return-0-with-divide-by-zero\n",
    "from_click_ratio = np.divide(tmp1, tmp2, out=np.ones_like(tmp1)*-1, where=tmp2!=0)\n",
    "all_df[\"click_ratio\"] = from_click_ratio\n",
    "\n",
    "tmp = all_df.groupby(\"uid\")[\"imp_at\"].diff(1)\n",
    "all_df[\"timediff\"] = tmp.progress_apply(lambda x: x.seconds)"
   ]
  },
  {
   "cell_type": "code",
   "execution_count": 11,
   "metadata": {
    "execution": {
     "iopub.execute_input": "2020-11-16T05:38:36.942399Z",
     "iopub.status.busy": "2020-11-16T05:38:36.940809Z",
     "iopub.status.idle": "2020-11-16T05:38:40.532696Z",
     "shell.execute_reply": "2020-11-16T05:38:40.531716Z"
    },
    "papermill": {
     "duration": 3.631939,
     "end_time": "2020-11-16T05:38:40.532866",
     "exception": false,
     "start_time": "2020-11-16T05:38:36.900927",
     "status": "completed"
    },
    "tags": []
   },
   "outputs": [],
   "source": [
    "train = train.merge(all_df[[\"request_id\",\"click_ratio\", \"timediff\"]], on=\"request_id\", how=\"left\")\n",
    "test = test.merge(all_df[[\"request_id\",\"click_ratio\",\"timediff\"]], on=\"request_id\", how=\"left\")"
   ]
  },
  {
   "cell_type": "code",
   "execution_count": 12,
   "metadata": {
    "execution": {
     "iopub.execute_input": "2020-11-16T05:38:40.604699Z",
     "iopub.status.busy": "2020-11-16T05:38:40.603646Z",
     "iopub.status.idle": "2020-11-16T05:38:40.664705Z",
     "shell.execute_reply": "2020-11-16T05:38:40.663795Z"
    },
    "papermill": {
     "duration": 0.100017,
     "end_time": "2020-11-16T05:38:40.664855",
     "exception": false,
     "start_time": "2020-11-16T05:38:40.564838",
     "status": "completed"
    },
    "tags": []
   },
   "outputs": [],
   "source": [
    "train[\"click_ratio\"] = train[\"click_ratio\"].fillna(-1)\n",
    "test[\"click_ratio\"] = test[\"click_ratio\"].fillna(-1)\n",
    "\n",
    "train[\"timediff\"] = train[\"timediff\"].fillna(-1)\n",
    "test[\"timediff\"] = test[\"timediff\"].fillna(-1)"
   ]
  },
  {
   "cell_type": "code",
   "execution_count": 13,
   "metadata": {
    "execution": {
     "iopub.execute_input": "2020-11-16T05:38:40.737150Z",
     "iopub.status.busy": "2020-11-16T05:38:40.735525Z",
     "iopub.status.idle": "2020-11-16T05:38:41.381235Z",
     "shell.execute_reply": "2020-11-16T05:38:41.380480Z"
    },
    "papermill": {
     "duration": 0.68523,
     "end_time": "2020-11-16T05:38:41.381388",
     "exception": false,
     "start_time": "2020-11-16T05:38:40.696158",
     "status": "completed"
    },
    "tags": []
   },
   "outputs": [],
   "source": [
    "train.drop(['request_id', 'type'], axis=1, inplace=True)\n",
    "test.drop(['request_id', 'type'], axis=1, inplace=True)"
   ]
  },
  {
   "cell_type": "code",
   "execution_count": 14,
   "metadata": {
    "execution": {
     "iopub.execute_input": "2020-11-16T05:38:41.465114Z",
     "iopub.status.busy": "2020-11-16T05:38:41.451878Z",
     "iopub.status.idle": "2020-11-16T05:38:41.483673Z",
     "shell.execute_reply": "2020-11-16T05:38:41.482881Z"
    },
    "papermill": {
     "duration": 0.07147,
     "end_time": "2020-11-16T05:38:41.483812",
     "exception": false,
     "start_time": "2020-11-16T05:38:41.412342",
     "status": "completed"
    },
    "tags": []
   },
   "outputs": [
    {
     "data": {
      "text/html": [
       "<div>\n",
       "<style scoped>\n",
       "    .dataframe tbody tr th:only-of-type {\n",
       "        vertical-align: middle;\n",
       "    }\n",
       "\n",
       "    .dataframe tbody tr th {\n",
       "        vertical-align: top;\n",
       "    }\n",
       "\n",
       "    .dataframe thead th {\n",
       "        text-align: right;\n",
       "    }\n",
       "</style>\n",
       "<table border=\"1\" class=\"dataframe\">\n",
       "  <thead>\n",
       "    <tr style=\"text-align: right;\">\n",
       "      <th></th>\n",
       "      <th>imp_at</th>\n",
       "      <th>target</th>\n",
       "      <th>adnw_id</th>\n",
       "      <th>adspot_id</th>\n",
       "      <th>adspot_video_format_id</th>\n",
       "      <th>advertiser_id</th>\n",
       "      <th>app_id</th>\n",
       "      <th>auction_type_id</th>\n",
       "      <th>campaign_id</th>\n",
       "      <th>category_id</th>\n",
       "      <th>...</th>\n",
       "      <th>os</th>\n",
       "      <th>os_version</th>\n",
       "      <th>pos</th>\n",
       "      <th>uid</th>\n",
       "      <th>user_type_id</th>\n",
       "      <th>video_template_id</th>\n",
       "      <th>mst_advertiser_order_id</th>\n",
       "      <th>mst_user_type_id</th>\n",
       "      <th>click_ratio</th>\n",
       "      <th>timediff</th>\n",
       "    </tr>\n",
       "  </thead>\n",
       "  <tbody>\n",
       "    <tr>\n",
       "      <th>0</th>\n",
       "      <td>2020-04-28 00:04:14.639</td>\n",
       "      <td>0</td>\n",
       "      <td>4</td>\n",
       "      <td>1111</td>\n",
       "      <td>2.0</td>\n",
       "      <td>20</td>\n",
       "      <td>14872</td>\n",
       "      <td>1.0</td>\n",
       "      <td>403</td>\n",
       "      <td>8497</td>\n",
       "      <td>...</td>\n",
       "      <td>1</td>\n",
       "      <td>87</td>\n",
       "      <td>0</td>\n",
       "      <td>273693</td>\n",
       "      <td>1</td>\n",
       "      <td>6</td>\n",
       "      <td>37</td>\n",
       "      <td>35</td>\n",
       "      <td>-1.0</td>\n",
       "      <td>-1.0</td>\n",
       "    </tr>\n",
       "    <tr>\n",
       "      <th>1</th>\n",
       "      <td>2020-04-28 00:09:13.759</td>\n",
       "      <td>0</td>\n",
       "      <td>28</td>\n",
       "      <td>1081</td>\n",
       "      <td>2.0</td>\n",
       "      <td>121</td>\n",
       "      <td>8301</td>\n",
       "      <td>2.0</td>\n",
       "      <td>91</td>\n",
       "      <td>0</td>\n",
       "      <td>...</td>\n",
       "      <td>2</td>\n",
       "      <td>152</td>\n",
       "      <td>1</td>\n",
       "      <td>427139</td>\n",
       "      <td>2</td>\n",
       "      <td>4</td>\n",
       "      <td>166</td>\n",
       "      <td>37</td>\n",
       "      <td>-1.0</td>\n",
       "      <td>-1.0</td>\n",
       "    </tr>\n",
       "    <tr>\n",
       "      <th>2</th>\n",
       "      <td>2020-04-28 00:09:14.708</td>\n",
       "      <td>0</td>\n",
       "      <td>42</td>\n",
       "      <td>1123</td>\n",
       "      <td>3.0</td>\n",
       "      <td>5</td>\n",
       "      <td>12948</td>\n",
       "      <td>1.0</td>\n",
       "      <td>114</td>\n",
       "      <td>0</td>\n",
       "      <td>...</td>\n",
       "      <td>1</td>\n",
       "      <td>55</td>\n",
       "      <td>0</td>\n",
       "      <td>1005266</td>\n",
       "      <td>1</td>\n",
       "      <td>0</td>\n",
       "      <td>27</td>\n",
       "      <td>35</td>\n",
       "      <td>-1.0</td>\n",
       "      <td>-1.0</td>\n",
       "    </tr>\n",
       "    <tr>\n",
       "      <th>3</th>\n",
       "      <td>2020-04-28 00:10:40.291</td>\n",
       "      <td>0</td>\n",
       "      <td>8</td>\n",
       "      <td>1113</td>\n",
       "      <td>2.0</td>\n",
       "      <td>22</td>\n",
       "      <td>12379</td>\n",
       "      <td>1.0</td>\n",
       "      <td>75</td>\n",
       "      <td>0</td>\n",
       "      <td>...</td>\n",
       "      <td>1</td>\n",
       "      <td>91</td>\n",
       "      <td>0</td>\n",
       "      <td>492541</td>\n",
       "      <td>1</td>\n",
       "      <td>7</td>\n",
       "      <td>159</td>\n",
       "      <td>38</td>\n",
       "      <td>-1.0</td>\n",
       "      <td>-1.0</td>\n",
       "    </tr>\n",
       "    <tr>\n",
       "      <th>4</th>\n",
       "      <td>2020-04-28 00:11:45.895</td>\n",
       "      <td>0</td>\n",
       "      <td>22</td>\n",
       "      <td>1061</td>\n",
       "      <td>NaN</td>\n",
       "      <td>135</td>\n",
       "      <td>196</td>\n",
       "      <td>4.0</td>\n",
       "      <td>331</td>\n",
       "      <td>0</td>\n",
       "      <td>...</td>\n",
       "      <td>1</td>\n",
       "      <td>71</td>\n",
       "      <td>0</td>\n",
       "      <td>698493</td>\n",
       "      <td>1</td>\n",
       "      <td>0</td>\n",
       "      <td>56</td>\n",
       "      <td>35</td>\n",
       "      <td>-1.0</td>\n",
       "      <td>-1.0</td>\n",
       "    </tr>\n",
       "  </tbody>\n",
       "</table>\n",
       "<p>5 rows × 34 columns</p>\n",
       "</div>"
      ],
      "text/plain": [
       "                   imp_at  target  adnw_id  adspot_id  adspot_video_format_id  \\\n",
       "0 2020-04-28 00:04:14.639       0        4       1111                     2.0   \n",
       "1 2020-04-28 00:09:13.759       0       28       1081                     2.0   \n",
       "2 2020-04-28 00:09:14.708       0       42       1123                     3.0   \n",
       "3 2020-04-28 00:10:40.291       0        8       1113                     2.0   \n",
       "4 2020-04-28 00:11:45.895       0       22       1061                     NaN   \n",
       "\n",
       "   advertiser_id  app_id  auction_type_id  campaign_id  category_id  ...  os  \\\n",
       "0             20   14872              1.0          403         8497  ...   1   \n",
       "1            121    8301              2.0           91            0  ...   2   \n",
       "2              5   12948              1.0          114            0  ...   1   \n",
       "3             22   12379              1.0           75            0  ...   1   \n",
       "4            135     196              4.0          331            0  ...   1   \n",
       "\n",
       "   os_version  pos      uid  user_type_id  video_template_id  \\\n",
       "0          87    0   273693             1                  6   \n",
       "1         152    1   427139             2                  4   \n",
       "2          55    0  1005266             1                  0   \n",
       "3          91    0   492541             1                  7   \n",
       "4          71    0   698493             1                  0   \n",
       "\n",
       "   mst_advertiser_order_id  mst_user_type_id  click_ratio  timediff  \n",
       "0                       37                35         -1.0      -1.0  \n",
       "1                      166                37         -1.0      -1.0  \n",
       "2                       27                35         -1.0      -1.0  \n",
       "3                      159                38         -1.0      -1.0  \n",
       "4                       56                35         -1.0      -1.0  \n",
       "\n",
       "[5 rows x 34 columns]"
      ]
     },
     "execution_count": 14,
     "metadata": {},
     "output_type": "execute_result"
    }
   ],
   "source": [
    "train.head()"
   ]
  },
  {
   "cell_type": "markdown",
   "metadata": {
    "papermill": {
     "duration": 0.032124,
     "end_time": "2020-11-16T05:38:41.548814",
     "exception": false,
     "start_time": "2020-11-16T05:38:41.516690",
     "status": "completed"
    },
    "tags": []
   },
   "source": [
    "# separation for validation"
   ]
  },
  {
   "cell_type": "code",
   "execution_count": 15,
   "metadata": {
    "execution": {
     "iopub.execute_input": "2020-11-16T05:38:41.621388Z",
     "iopub.status.busy": "2020-11-16T05:38:41.620578Z",
     "iopub.status.idle": "2020-11-16T05:38:42.006024Z",
     "shell.execute_reply": "2020-11-16T05:38:42.005137Z"
    },
    "papermill": {
     "duration": 0.424019,
     "end_time": "2020-11-16T05:38:42.006185",
     "exception": false,
     "start_time": "2020-11-16T05:38:41.582166",
     "status": "completed"
    },
    "tags": []
   },
   "outputs": [],
   "source": [
    "mask = train.imp_at > \"2020-05-21\"\n",
    "valid = train.loc[mask].copy()\n",
    "train = train.loc[~mask]"
   ]
  },
  {
   "cell_type": "code",
   "execution_count": 16,
   "metadata": {
    "execution": {
     "iopub.execute_input": "2020-11-16T05:38:42.251005Z",
     "iopub.status.busy": "2020-11-16T05:38:42.249989Z",
     "iopub.status.idle": "2020-11-16T05:38:42.255040Z",
     "shell.execute_reply": "2020-11-16T05:38:42.254209Z"
    },
    "papermill": {
     "duration": 0.215098,
     "end_time": "2020-11-16T05:38:42.255189",
     "exception": false,
     "start_time": "2020-11-16T05:38:42.040091",
     "status": "completed"
    },
    "tags": []
   },
   "outputs": [],
   "source": [
    "remove_features = [\"imp_at\",\"game_feed_asset_type_id\",\"country_code\",\"pos\",\"video_template_id\"]\n",
    "    \n",
    "train = train.drop(remove_features, axis=1)\n",
    "valid = valid.drop(remove_features, axis=1)\n",
    "test = test.drop(remove_features, axis=1)"
   ]
  },
  {
   "cell_type": "code",
   "execution_count": 17,
   "metadata": {
    "execution": {
     "iopub.execute_input": "2020-11-16T05:38:42.327279Z",
     "iopub.status.busy": "2020-11-16T05:38:42.326369Z",
     "iopub.status.idle": "2020-11-16T05:38:42.331936Z",
     "shell.execute_reply": "2020-11-16T05:38:42.331257Z"
    },
    "papermill": {
     "duration": 0.044057,
     "end_time": "2020-11-16T05:38:42.332099",
     "exception": false,
     "start_time": "2020-11-16T05:38:42.288042",
     "status": "completed"
    },
    "tags": []
   },
   "outputs": [
    {
     "data": {
      "text/plain": [
       "((1568715, 29), (428880, 29))"
      ]
     },
     "execution_count": 17,
     "metadata": {},
     "output_type": "execute_result"
    }
   ],
   "source": [
    "train.shape, valid.shape"
   ]
  },
  {
   "cell_type": "code",
   "execution_count": 18,
   "metadata": {
    "execution": {
     "iopub.execute_input": "2020-11-16T05:38:42.429163Z",
     "iopub.status.busy": "2020-11-16T05:38:42.420719Z",
     "iopub.status.idle": "2020-11-16T05:38:42.434952Z",
     "shell.execute_reply": "2020-11-16T05:38:42.434179Z"
    },
    "papermill": {
     "duration": 0.069106,
     "end_time": "2020-11-16T05:38:42.435086",
     "exception": false,
     "start_time": "2020-11-16T05:38:42.365980",
     "status": "completed"
    },
    "tags": []
   },
   "outputs": [
    {
     "data": {
      "text/html": [
       "<div>\n",
       "<style scoped>\n",
       "    .dataframe tbody tr th:only-of-type {\n",
       "        vertical-align: middle;\n",
       "    }\n",
       "\n",
       "    .dataframe tbody tr th {\n",
       "        vertical-align: top;\n",
       "    }\n",
       "\n",
       "    .dataframe thead th {\n",
       "        text-align: right;\n",
       "    }\n",
       "</style>\n",
       "<table border=\"1\" class=\"dataframe\">\n",
       "  <thead>\n",
       "    <tr style=\"text-align: right;\">\n",
       "      <th></th>\n",
       "      <th>target</th>\n",
       "      <th>adnw_id</th>\n",
       "      <th>adspot_id</th>\n",
       "      <th>adspot_video_format_id</th>\n",
       "      <th>advertiser_id</th>\n",
       "      <th>app_id</th>\n",
       "      <th>auction_type_id</th>\n",
       "      <th>campaign_id</th>\n",
       "      <th>category_id</th>\n",
       "      <th>first_login_interval</th>\n",
       "      <th>...</th>\n",
       "      <th>max_login_interval</th>\n",
       "      <th>media_app_id</th>\n",
       "      <th>os</th>\n",
       "      <th>os_version</th>\n",
       "      <th>uid</th>\n",
       "      <th>user_type_id</th>\n",
       "      <th>mst_advertiser_order_id</th>\n",
       "      <th>mst_user_type_id</th>\n",
       "      <th>click_ratio</th>\n",
       "      <th>timediff</th>\n",
       "    </tr>\n",
       "  </thead>\n",
       "  <tbody>\n",
       "    <tr>\n",
       "      <th>0</th>\n",
       "      <td>0</td>\n",
       "      <td>4</td>\n",
       "      <td>1111</td>\n",
       "      <td>2.0</td>\n",
       "      <td>20</td>\n",
       "      <td>14872</td>\n",
       "      <td>1.0</td>\n",
       "      <td>403</td>\n",
       "      <td>8497</td>\n",
       "      <td>1490644.0</td>\n",
       "      <td>...</td>\n",
       "      <td>2607.0</td>\n",
       "      <td>0</td>\n",
       "      <td>1</td>\n",
       "      <td>87</td>\n",
       "      <td>273693</td>\n",
       "      <td>1</td>\n",
       "      <td>37</td>\n",
       "      <td>35</td>\n",
       "      <td>-1.0</td>\n",
       "      <td>-1.0</td>\n",
       "    </tr>\n",
       "    <tr>\n",
       "      <th>1</th>\n",
       "      <td>0</td>\n",
       "      <td>28</td>\n",
       "      <td>1081</td>\n",
       "      <td>2.0</td>\n",
       "      <td>121</td>\n",
       "      <td>8301</td>\n",
       "      <td>2.0</td>\n",
       "      <td>91</td>\n",
       "      <td>0</td>\n",
       "      <td>790412.0</td>\n",
       "      <td>...</td>\n",
       "      <td>13540.0</td>\n",
       "      <td>8995</td>\n",
       "      <td>2</td>\n",
       "      <td>152</td>\n",
       "      <td>427139</td>\n",
       "      <td>2</td>\n",
       "      <td>166</td>\n",
       "      <td>37</td>\n",
       "      <td>-1.0</td>\n",
       "      <td>-1.0</td>\n",
       "    </tr>\n",
       "    <tr>\n",
       "      <th>2</th>\n",
       "      <td>0</td>\n",
       "      <td>42</td>\n",
       "      <td>1123</td>\n",
       "      <td>3.0</td>\n",
       "      <td>5</td>\n",
       "      <td>12948</td>\n",
       "      <td>1.0</td>\n",
       "      <td>114</td>\n",
       "      <td>0</td>\n",
       "      <td>1506105.0</td>\n",
       "      <td>...</td>\n",
       "      <td>33725.0</td>\n",
       "      <td>347</td>\n",
       "      <td>1</td>\n",
       "      <td>55</td>\n",
       "      <td>1005266</td>\n",
       "      <td>1</td>\n",
       "      <td>27</td>\n",
       "      <td>35</td>\n",
       "      <td>-1.0</td>\n",
       "      <td>-1.0</td>\n",
       "    </tr>\n",
       "    <tr>\n",
       "      <th>3</th>\n",
       "      <td>0</td>\n",
       "      <td>8</td>\n",
       "      <td>1113</td>\n",
       "      <td>2.0</td>\n",
       "      <td>22</td>\n",
       "      <td>12379</td>\n",
       "      <td>1.0</td>\n",
       "      <td>75</td>\n",
       "      <td>0</td>\n",
       "      <td>184283.0</td>\n",
       "      <td>...</td>\n",
       "      <td>7377.0</td>\n",
       "      <td>6145</td>\n",
       "      <td>1</td>\n",
       "      <td>91</td>\n",
       "      <td>492541</td>\n",
       "      <td>1</td>\n",
       "      <td>159</td>\n",
       "      <td>38</td>\n",
       "      <td>-1.0</td>\n",
       "      <td>-1.0</td>\n",
       "    </tr>\n",
       "    <tr>\n",
       "      <th>4</th>\n",
       "      <td>0</td>\n",
       "      <td>22</td>\n",
       "      <td>1061</td>\n",
       "      <td>NaN</td>\n",
       "      <td>135</td>\n",
       "      <td>196</td>\n",
       "      <td>4.0</td>\n",
       "      <td>331</td>\n",
       "      <td>0</td>\n",
       "      <td>1999495.0</td>\n",
       "      <td>...</td>\n",
       "      <td>164759.0</td>\n",
       "      <td>2190</td>\n",
       "      <td>1</td>\n",
       "      <td>71</td>\n",
       "      <td>698493</td>\n",
       "      <td>1</td>\n",
       "      <td>56</td>\n",
       "      <td>35</td>\n",
       "      <td>-1.0</td>\n",
       "      <td>-1.0</td>\n",
       "    </tr>\n",
       "  </tbody>\n",
       "</table>\n",
       "<p>5 rows × 29 columns</p>\n",
       "</div>"
      ],
      "text/plain": [
       "   target  adnw_id  adspot_id  adspot_video_format_id  advertiser_id  app_id  \\\n",
       "0       0        4       1111                     2.0             20   14872   \n",
       "1       0       28       1081                     2.0            121    8301   \n",
       "2       0       42       1123                     3.0              5   12948   \n",
       "3       0        8       1113                     2.0             22   12379   \n",
       "4       0       22       1061                     NaN            135     196   \n",
       "\n",
       "   auction_type_id  campaign_id  category_id  first_login_interval  ...  \\\n",
       "0              1.0          403         8497             1490644.0  ...   \n",
       "1              2.0           91            0              790412.0  ...   \n",
       "2              1.0          114            0             1506105.0  ...   \n",
       "3              1.0           75            0              184283.0  ...   \n",
       "4              4.0          331            0             1999495.0  ...   \n",
       "\n",
       "   max_login_interval  media_app_id  os  os_version      uid  user_type_id  \\\n",
       "0              2607.0             0   1          87   273693             1   \n",
       "1             13540.0          8995   2         152   427139             2   \n",
       "2             33725.0           347   1          55  1005266             1   \n",
       "3              7377.0          6145   1          91   492541             1   \n",
       "4            164759.0          2190   1          71   698493             1   \n",
       "\n",
       "   mst_advertiser_order_id  mst_user_type_id  click_ratio  timediff  \n",
       "0                       37                35         -1.0      -1.0  \n",
       "1                      166                37         -1.0      -1.0  \n",
       "2                       27                35         -1.0      -1.0  \n",
       "3                      159                38         -1.0      -1.0  \n",
       "4                       56                35         -1.0      -1.0  \n",
       "\n",
       "[5 rows x 29 columns]"
      ]
     },
     "execution_count": 18,
     "metadata": {},
     "output_type": "execute_result"
    }
   ],
   "source": [
    "train.head()"
   ]
  },
  {
   "cell_type": "markdown",
   "metadata": {
    "papermill": {
     "duration": 0.033025,
     "end_time": "2020-11-16T05:38:42.502016",
     "exception": false,
     "start_time": "2020-11-16T05:38:42.468991",
     "status": "completed"
    },
    "tags": []
   },
   "source": [
    "# modelling"
   ]
  },
  {
   "cell_type": "code",
   "execution_count": 19,
   "metadata": {
    "execution": {
     "iopub.execute_input": "2020-11-16T05:38:42.576758Z",
     "iopub.status.busy": "2020-11-16T05:38:42.575739Z",
     "iopub.status.idle": "2020-11-16T05:38:42.579705Z",
     "shell.execute_reply": "2020-11-16T05:38:42.578897Z"
    },
    "papermill": {
     "duration": 0.043986,
     "end_time": "2020-11-16T05:38:42.579851",
     "exception": false,
     "start_time": "2020-11-16T05:38:42.535865",
     "status": "completed"
    },
    "tags": []
   },
   "outputs": [],
   "source": [
    "object_feats = [i for i in object_feats if i not in remove_features and i != \"request_id\"]"
   ]
  },
  {
   "cell_type": "code",
   "execution_count": 20,
   "metadata": {
    "_cell_guid": "79c7e3d0-c299-4dcb-8224-4455121ee9b0",
    "_uuid": "d629ff2d2480ee46fbb7e2d37f6b5fab8052498a",
    "execution": {
     "iopub.execute_input": "2020-11-16T05:38:42.668984Z",
     "iopub.status.busy": "2020-11-16T05:38:42.667857Z",
     "iopub.status.idle": "2020-11-16T05:41:55.443292Z",
     "shell.execute_reply": "2020-11-16T05:41:55.442494Z"
    },
    "papermill": {
     "duration": 192.828964,
     "end_time": "2020-11-16T05:41:55.443487",
     "exception": false,
     "start_time": "2020-11-16T05:38:42.614523",
     "status": "completed"
    },
    "tags": []
   },
   "outputs": [
    {
     "name": "stderr",
     "output_type": "stream",
     "text": [
      "/opt/conda/lib/python3.7/site-packages/lightgbm/basic.py:1295: UserWarning: categorical_feature in Dataset is overridden.\n",
      "New categorical_feature is ['advertiser_id', 'app_id', 'campaign_id', 'game_feed_id', 'game_template_id', 'media_app_id', 'mst_advertiser_order_id', 'os_version', 'uid']\n",
      "  'New categorical_feature is {}'.format(sorted(list(categorical_feature))))\n"
     ]
    },
    {
     "name": "stdout",
     "output_type": "stream",
     "text": [
      "Training until validation scores don't improve for 20 rounds\n",
      "[10]\ttraining's pr_auc: 0.215353\tvalid_1's pr_auc: 0.178684\n",
      "[20]\ttraining's pr_auc: 0.225862\tvalid_1's pr_auc: 0.186306\n",
      "[30]\ttraining's pr_auc: 0.236421\tvalid_1's pr_auc: 0.193668\n",
      "[40]\ttraining's pr_auc: 0.246388\tvalid_1's pr_auc: 0.199768\n",
      "[50]\ttraining's pr_auc: 0.251035\tvalid_1's pr_auc: 0.201889\n",
      "[60]\ttraining's pr_auc: 0.25694\tvalid_1's pr_auc: 0.203906\n",
      "[70]\ttraining's pr_auc: 0.261171\tvalid_1's pr_auc: 0.204839\n",
      "[80]\ttraining's pr_auc: 0.264082\tvalid_1's pr_auc: 0.206193\n",
      "[90]\ttraining's pr_auc: 0.267493\tvalid_1's pr_auc: 0.207477\n",
      "[100]\ttraining's pr_auc: 0.270766\tvalid_1's pr_auc: 0.208335\n",
      "[110]\ttraining's pr_auc: 0.273299\tvalid_1's pr_auc: 0.208987\n",
      "[120]\ttraining's pr_auc: 0.275546\tvalid_1's pr_auc: 0.209241\n",
      "[130]\ttraining's pr_auc: 0.277417\tvalid_1's pr_auc: 0.209752\n",
      "[140]\ttraining's pr_auc: 0.279455\tvalid_1's pr_auc: 0.210136\n",
      "[150]\ttraining's pr_auc: 0.281207\tvalid_1's pr_auc: 0.210307\n",
      "[160]\ttraining's pr_auc: 0.282897\tvalid_1's pr_auc: 0.210648\n",
      "[170]\ttraining's pr_auc: 0.283935\tvalid_1's pr_auc: 0.206391\n",
      "[180]\ttraining's pr_auc: 0.285261\tvalid_1's pr_auc: 0.209\n",
      "Early stopping, best iteration is:\n",
      "[168]\ttraining's pr_auc: 0.283952\tvalid_1's pr_auc: 0.210721\n",
      "average precision score = 0.21072126803609198\n"
     ]
    }
   ],
   "source": [
    "lgbm_params = {'objective': 'binary', 'metric': 'None', 'boosting_type': 'gbdt', \n",
    "               'tree_learner': 'serial', 'learning_rate': 0.1, \"num_leaves\": 10, 'random_seed':44,'max_depth': 5}\n",
    "\n",
    "def pr_auc_metric(y_predicted, y_true):\n",
    "    return 'pr_auc', average_precision_score(y_true.get_label(), y_predicted), True\n",
    "\n",
    "y_train = train.target.copy()\n",
    "X_train = train.drop(['target'],axis=1).copy()\n",
    "y_valid = valid.target.copy()\n",
    "X_valid = valid.drop(['target'],axis=1).copy()\n",
    "    \n",
    "valid_lgb = pd.DataFrame(np.zeros([X_train.shape[0]]))\n",
    "real = np.array([])\n",
    "features_list = [i for i in X_train.columns]\n",
    "feature_importance_df = pd.DataFrame(features_list, columns=[\"Feature\"])\n",
    "        \n",
    "lgb_train = lgb.Dataset(X_train, y_train)\n",
    "lgb_eval = lgb.Dataset(X_valid, y_valid, reference=lgb_train)\n",
    "        \n",
    "model = lgb.train(lgbm_params, lgb_train,valid_sets=[lgb_train, lgb_eval],\n",
    "       num_boost_round=10000,early_stopping_rounds=20,verbose_eval = 10, feval=pr_auc_metric, categorical_feature = sorted(object_feats))\n",
    "        \n",
    "valid_predict = model.predict(X_valid, num_iteration = model.best_iteration)\n",
    "feature_importance_df[\"Importance\"] = model.feature_importance()\n",
    "        \n",
    "score = average_precision_score(y_valid, valid_predict)\n",
    "print(\"average precision score = {}\".format(score))\n",
    "pred_value = model.predict(test, num_iteration = model.best_iteration)"
   ]
  },
  {
   "cell_type": "code",
   "execution_count": 21,
   "metadata": {
    "execution": {
     "iopub.execute_input": "2020-11-16T05:41:55.553266Z",
     "iopub.status.busy": "2020-11-16T05:41:55.552380Z",
     "iopub.status.idle": "2020-11-16T05:41:55.558254Z",
     "shell.execute_reply": "2020-11-16T05:41:55.557579Z"
    },
    "papermill": {
     "duration": 0.068042,
     "end_time": "2020-11-16T05:41:55.558428",
     "exception": false,
     "start_time": "2020-11-16T05:41:55.490386",
     "status": "completed"
    },
    "tags": []
   },
   "outputs": [
    {
     "data": {
      "text/html": [
       "<div>\n",
       "<style scoped>\n",
       "    .dataframe tbody tr th:only-of-type {\n",
       "        vertical-align: middle;\n",
       "    }\n",
       "\n",
       "    .dataframe tbody tr th {\n",
       "        vertical-align: top;\n",
       "    }\n",
       "\n",
       "    .dataframe thead th {\n",
       "        text-align: right;\n",
       "    }\n",
       "</style>\n",
       "<table border=\"1\" class=\"dataframe\">\n",
       "  <thead>\n",
       "    <tr style=\"text-align: right;\">\n",
       "      <th></th>\n",
       "      <th>Feature</th>\n",
       "      <th>Importance</th>\n",
       "    </tr>\n",
       "  </thead>\n",
       "  <tbody>\n",
       "    <tr>\n",
       "      <th>4</th>\n",
       "      <td>app_id</td>\n",
       "      <td>294</td>\n",
       "    </tr>\n",
       "    <tr>\n",
       "      <th>11</th>\n",
       "      <td>game_feed_id</td>\n",
       "      <td>282</td>\n",
       "    </tr>\n",
       "    <tr>\n",
       "      <th>6</th>\n",
       "      <td>campaign_id</td>\n",
       "      <td>221</td>\n",
       "    </tr>\n",
       "    <tr>\n",
       "      <th>22</th>\n",
       "      <td>uid</td>\n",
       "      <td>186</td>\n",
       "    </tr>\n",
       "    <tr>\n",
       "      <th>19</th>\n",
       "      <td>media_app_id</td>\n",
       "      <td>107</td>\n",
       "    </tr>\n",
       "    <tr>\n",
       "      <th>3</th>\n",
       "      <td>advertiser_id</td>\n",
       "      <td>57</td>\n",
       "    </tr>\n",
       "    <tr>\n",
       "      <th>8</th>\n",
       "      <td>first_login_interval</td>\n",
       "      <td>49</td>\n",
       "    </tr>\n",
       "    <tr>\n",
       "      <th>18</th>\n",
       "      <td>max_login_interval</td>\n",
       "      <td>44</td>\n",
       "    </tr>\n",
       "    <tr>\n",
       "      <th>16</th>\n",
       "      <td>last_login_interval</td>\n",
       "      <td>43</td>\n",
       "    </tr>\n",
       "    <tr>\n",
       "      <th>24</th>\n",
       "      <td>mst_advertiser_order_id</td>\n",
       "      <td>36</td>\n",
       "    </tr>\n",
       "    <tr>\n",
       "      <th>17</th>\n",
       "      <td>login_frequency</td>\n",
       "      <td>35</td>\n",
       "    </tr>\n",
       "    <tr>\n",
       "      <th>10</th>\n",
       "      <td>from_click</td>\n",
       "      <td>23</td>\n",
       "    </tr>\n",
       "    <tr>\n",
       "      <th>26</th>\n",
       "      <td>click_ratio</td>\n",
       "      <td>23</td>\n",
       "    </tr>\n",
       "    <tr>\n",
       "      <th>27</th>\n",
       "      <td>timediff</td>\n",
       "      <td>21</td>\n",
       "    </tr>\n",
       "    <tr>\n",
       "      <th>15</th>\n",
       "      <td>item_id</td>\n",
       "      <td>20</td>\n",
       "    </tr>\n",
       "    <tr>\n",
       "      <th>25</th>\n",
       "      <td>mst_user_type_id</td>\n",
       "      <td>16</td>\n",
       "    </tr>\n",
       "    <tr>\n",
       "      <th>9</th>\n",
       "      <td>frequency</td>\n",
       "      <td>15</td>\n",
       "    </tr>\n",
       "    <tr>\n",
       "      <th>21</th>\n",
       "      <td>os_version</td>\n",
       "      <td>13</td>\n",
       "    </tr>\n",
       "    <tr>\n",
       "      <th>1</th>\n",
       "      <td>adspot_id</td>\n",
       "      <td>12</td>\n",
       "    </tr>\n",
       "    <tr>\n",
       "      <th>2</th>\n",
       "      <td>adspot_video_format_id</td>\n",
       "      <td>8</td>\n",
       "    </tr>\n",
       "    <tr>\n",
       "      <th>12</th>\n",
       "      <td>game_template_id</td>\n",
       "      <td>3</td>\n",
       "    </tr>\n",
       "    <tr>\n",
       "      <th>0</th>\n",
       "      <td>adnw_id</td>\n",
       "      <td>1</td>\n",
       "    </tr>\n",
       "    <tr>\n",
       "      <th>13</th>\n",
       "      <td>header_bidding</td>\n",
       "      <td>1</td>\n",
       "    </tr>\n",
       "    <tr>\n",
       "      <th>7</th>\n",
       "      <td>category_id</td>\n",
       "      <td>1</td>\n",
       "    </tr>\n",
       "    <tr>\n",
       "      <th>14</th>\n",
       "      <td>is_interstitial</td>\n",
       "      <td>1</td>\n",
       "    </tr>\n",
       "    <tr>\n",
       "      <th>20</th>\n",
       "      <td>os</td>\n",
       "      <td>0</td>\n",
       "    </tr>\n",
       "    <tr>\n",
       "      <th>23</th>\n",
       "      <td>user_type_id</td>\n",
       "      <td>0</td>\n",
       "    </tr>\n",
       "    <tr>\n",
       "      <th>5</th>\n",
       "      <td>auction_type_id</td>\n",
       "      <td>0</td>\n",
       "    </tr>\n",
       "  </tbody>\n",
       "</table>\n",
       "</div>"
      ],
      "text/plain": [
       "                    Feature  Importance\n",
       "4                    app_id         294\n",
       "11             game_feed_id         282\n",
       "6               campaign_id         221\n",
       "22                      uid         186\n",
       "19             media_app_id         107\n",
       "3             advertiser_id          57\n",
       "8      first_login_interval          49\n",
       "18       max_login_interval          44\n",
       "16      last_login_interval          43\n",
       "24  mst_advertiser_order_id          36\n",
       "17          login_frequency          35\n",
       "10               from_click          23\n",
       "26              click_ratio          23\n",
       "27                 timediff          21\n",
       "15                  item_id          20\n",
       "25         mst_user_type_id          16\n",
       "9                 frequency          15\n",
       "21               os_version          13\n",
       "1                 adspot_id          12\n",
       "2    adspot_video_format_id           8\n",
       "12         game_template_id           3\n",
       "0                   adnw_id           1\n",
       "13           header_bidding           1\n",
       "7               category_id           1\n",
       "14          is_interstitial           1\n",
       "20                       os           0\n",
       "23             user_type_id           0\n",
       "5           auction_type_id           0"
      ]
     },
     "execution_count": 21,
     "metadata": {},
     "output_type": "execute_result"
    }
   ],
   "source": [
    "feature_importance_df.sort_values(\"Importance\", ascending=False)"
   ]
  },
  {
   "cell_type": "markdown",
   "metadata": {
    "papermill": {
     "duration": 0.044164,
     "end_time": "2020-11-16T05:41:55.647532",
     "exception": false,
     "start_time": "2020-11-16T05:41:55.603368",
     "status": "completed"
    },
    "tags": []
   },
   "source": [
    "# submission"
   ]
  },
  {
   "cell_type": "code",
   "execution_count": 22,
   "metadata": {
    "execution": {
     "iopub.execute_input": "2020-11-16T05:41:55.746378Z",
     "iopub.status.busy": "2020-11-16T05:41:55.745565Z",
     "iopub.status.idle": "2020-11-16T05:41:57.853771Z",
     "shell.execute_reply": "2020-11-16T05:41:57.852939Z"
    },
    "papermill": {
     "duration": 2.162269,
     "end_time": "2020-11-16T05:41:57.853919",
     "exception": false,
     "start_time": "2020-11-16T05:41:55.691650",
     "status": "completed"
    },
    "tags": []
   },
   "outputs": [],
   "source": [
    "lgb_sub = pd.read_csv(DIR + \"atmaCup7__sample_submission.csv\")\n",
    "lgb_sub[\"target\"] = pred_value\n",
    "lgb_sub.to_csv(\"atmacup7_lgb\"+str(score)[:-10]+\".csv\", index = False)"
   ]
  },
  {
   "cell_type": "code",
   "execution_count": null,
   "metadata": {
    "papermill": {
     "duration": 0.049213,
     "end_time": "2020-11-16T05:41:57.951285",
     "exception": false,
     "start_time": "2020-11-16T05:41:57.902072",
     "status": "completed"
    },
    "tags": []
   },
   "outputs": [],
   "source": []
  }
 ],
 "metadata": {
  "kernelspec": {
   "display_name": "Python 3",
   "language": "python",
   "name": "python3"
  },
  "language_info": {
   "codemirror_mode": {
    "name": "ipython",
    "version": 3
   },
   "file_extension": ".py",
   "mimetype": "text/x-python",
   "name": "python",
   "nbconvert_exporter": "python",
   "pygments_lexer": "ipython3",
   "version": "3.7.6"
  },
  "papermill": {
   "duration": 1460.263242,
   "end_time": "2020-11-16T05:41:58.115987",
   "environment_variables": {},
   "exception": null,
   "input_path": "__notebook__.ipynb",
   "output_path": "__notebook__.ipynb",
   "parameters": {},
   "start_time": "2020-11-16T05:17:37.852745",
   "version": "2.1.0"
  },
  "widgets": {
   "application/vnd.jupyter.widget-state+json": {
    "state": {
     "08aecbc7aacf4226ac65039bb01c9620": {
      "model_module": "@jupyter-widgets/controls",
      "model_module_version": "1.5.0",
      "model_name": "HTMLModel",
      "state": {
       "_dom_classes": [],
       "_model_module": "@jupyter-widgets/controls",
       "_model_module_version": "1.5.0",
       "_model_name": "HTMLModel",
       "_view_count": null,
       "_view_module": "@jupyter-widgets/controls",
       "_view_module_version": "1.5.0",
       "_view_name": "HTMLView",
       "description": "",
       "description_tooltip": null,
       "layout": "IPY_MODEL_85e81dd8a51d4a43b5dd2b7ffbe39369",
       "placeholder": "​",
       "style": "IPY_MODEL_f24adeceb34a43869746d50ee56905a9",
       "value": " 423129/423129 [15:48&lt;00:00, 446.08it/s]"
      }
     },
     "0c761bca358e4d62b72ba407a144bef5": {
      "model_module": "@jupyter-widgets/base",
      "model_module_version": "1.2.0",
      "model_name": "LayoutModel",
      "state": {
       "_model_module": "@jupyter-widgets/base",
       "_model_module_version": "1.2.0",
       "_model_name": "LayoutModel",
       "_view_count": null,
       "_view_module": "@jupyter-widgets/base",
       "_view_module_version": "1.2.0",
       "_view_name": "LayoutView",
       "align_content": null,
       "align_items": null,
       "align_self": null,
       "border": null,
       "bottom": null,
       "display": null,
       "flex": null,
       "flex_flow": null,
       "grid_area": null,
       "grid_auto_columns": null,
       "grid_auto_flow": null,
       "grid_auto_rows": null,
       "grid_column": null,
       "grid_gap": null,
       "grid_row": null,
       "grid_template_areas": null,
       "grid_template_columns": null,
       "grid_template_rows": null,
       "height": null,
       "justify_content": null,
       "justify_items": null,
       "left": null,
       "margin": null,
       "max_height": null,
       "max_width": null,
       "min_height": null,
       "min_width": null,
       "object_fit": null,
       "object_position": null,
       "order": null,
       "overflow": null,
       "overflow_x": null,
       "overflow_y": null,
       "padding": null,
       "right": null,
       "top": null,
       "visibility": null,
       "width": null
      }
     },
     "2ba095beffa04471bf65d572f87ab359": {
      "model_module": "@jupyter-widgets/base",
      "model_module_version": "1.2.0",
      "model_name": "LayoutModel",
      "state": {
       "_model_module": "@jupyter-widgets/base",
       "_model_module_version": "1.2.0",
       "_model_name": "LayoutModel",
       "_view_count": null,
       "_view_module": "@jupyter-widgets/base",
       "_view_module_version": "1.2.0",
       "_view_name": "LayoutView",
       "align_content": null,
       "align_items": null,
       "align_self": null,
       "border": null,
       "bottom": null,
       "display": null,
       "flex": null,
       "flex_flow": null,
       "grid_area": null,
       "grid_auto_columns": null,
       "grid_auto_flow": null,
       "grid_auto_rows": null,
       "grid_column": null,
       "grid_gap": null,
       "grid_row": null,
       "grid_template_areas": null,
       "grid_template_columns": null,
       "grid_template_rows": null,
       "height": null,
       "justify_content": null,
       "justify_items": null,
       "left": null,
       "margin": null,
       "max_height": null,
       "max_width": null,
       "min_height": null,
       "min_width": null,
       "object_fit": null,
       "object_position": null,
       "order": null,
       "overflow": null,
       "overflow_x": null,
       "overflow_y": null,
       "padding": null,
       "right": null,
       "top": null,
       "visibility": null,
       "width": null
      }
     },
     "2be85f4735514c1cbb0a1334dc7ac7e7": {
      "model_module": "@jupyter-widgets/controls",
      "model_module_version": "1.5.0",
      "model_name": "ProgressStyleModel",
      "state": {
       "_model_module": "@jupyter-widgets/controls",
       "_model_module_version": "1.5.0",
       "_model_name": "ProgressStyleModel",
       "_view_count": null,
       "_view_module": "@jupyter-widgets/base",
       "_view_module_version": "1.2.0",
       "_view_name": "StyleView",
       "bar_color": null,
       "description_width": "initial"
      }
     },
     "2e4b2d58f024446084d5b8578c72e7a6": {
      "model_module": "@jupyter-widgets/controls",
      "model_module_version": "1.5.0",
      "model_name": "FloatProgressModel",
      "state": {
       "_dom_classes": [],
       "_model_module": "@jupyter-widgets/controls",
       "_model_module_version": "1.5.0",
       "_model_name": "FloatProgressModel",
       "_view_count": null,
       "_view_module": "@jupyter-widgets/controls",
       "_view_module_version": "1.5.0",
       "_view_name": "ProgressView",
       "bar_style": "success",
       "description": "progress: 100%",
       "description_tooltip": null,
       "layout": "IPY_MODEL_7aef15babff04619b08365301dfb1775",
       "max": 423129.0,
       "min": 0.0,
       "orientation": "horizontal",
       "style": "IPY_MODEL_e78c92e6dff24a5cb2ffde8dcfd7ef28",
       "value": 423129.0
      }
     },
     "7aef15babff04619b08365301dfb1775": {
      "model_module": "@jupyter-widgets/base",
      "model_module_version": "1.2.0",
      "model_name": "LayoutModel",
      "state": {
       "_model_module": "@jupyter-widgets/base",
       "_model_module_version": "1.2.0",
       "_model_name": "LayoutModel",
       "_view_count": null,
       "_view_module": "@jupyter-widgets/base",
       "_view_module_version": "1.2.0",
       "_view_name": "LayoutView",
       "align_content": null,
       "align_items": null,
       "align_self": null,
       "border": null,
       "bottom": null,
       "display": null,
       "flex": null,
       "flex_flow": null,
       "grid_area": null,
       "grid_auto_columns": null,
       "grid_auto_flow": null,
       "grid_auto_rows": null,
       "grid_column": null,
       "grid_gap": null,
       "grid_row": null,
       "grid_template_areas": null,
       "grid_template_columns": null,
       "grid_template_rows": null,
       "height": null,
       "justify_content": null,
       "justify_items": null,
       "left": null,
       "margin": null,
       "max_height": null,
       "max_width": null,
       "min_height": null,
       "min_width": null,
       "object_fit": null,
       "object_position": null,
       "order": null,
       "overflow": null,
       "overflow_x": null,
       "overflow_y": null,
       "padding": null,
       "right": null,
       "top": null,
       "visibility": null,
       "width": null
      }
     },
     "81b891cc63ff4ea18be041ac9677bbc1": {
      "model_module": "@jupyter-widgets/controls",
      "model_module_version": "1.5.0",
      "model_name": "HBoxModel",
      "state": {
       "_dom_classes": [],
       "_model_module": "@jupyter-widgets/controls",
       "_model_module_version": "1.5.0",
       "_model_name": "HBoxModel",
       "_view_count": null,
       "_view_module": "@jupyter-widgets/controls",
       "_view_module_version": "1.5.0",
       "_view_name": "HBoxView",
       "box_style": "",
       "children": [
        "IPY_MODEL_efd6cb13db0b4c2b9dd39c03b6f730c3",
        "IPY_MODEL_f087e71e6f634d93a698e27dab1d5ece"
       ],
       "layout": "IPY_MODEL_df606832227d4c52ba55795f4a80467d"
      }
     },
     "85e81dd8a51d4a43b5dd2b7ffbe39369": {
      "model_module": "@jupyter-widgets/base",
      "model_module_version": "1.2.0",
      "model_name": "LayoutModel",
      "state": {
       "_model_module": "@jupyter-widgets/base",
       "_model_module_version": "1.2.0",
       "_model_name": "LayoutModel",
       "_view_count": null,
       "_view_module": "@jupyter-widgets/base",
       "_view_module_version": "1.2.0",
       "_view_name": "LayoutView",
       "align_content": null,
       "align_items": null,
       "align_self": null,
       "border": null,
       "bottom": null,
       "display": null,
       "flex": null,
       "flex_flow": null,
       "grid_area": null,
       "grid_auto_columns": null,
       "grid_auto_flow": null,
       "grid_auto_rows": null,
       "grid_column": null,
       "grid_gap": null,
       "grid_row": null,
       "grid_template_areas": null,
       "grid_template_columns": null,
       "grid_template_rows": null,
       "height": null,
       "justify_content": null,
       "justify_items": null,
       "left": null,
       "margin": null,
       "max_height": null,
       "max_width": null,
       "min_height": null,
       "min_width": null,
       "object_fit": null,
       "object_position": null,
       "order": null,
       "overflow": null,
       "overflow_x": null,
       "overflow_y": null,
       "padding": null,
       "right": null,
       "top": null,
       "visibility": null,
       "width": null
      }
     },
     "d5826f1e6b63487486c5044516646053": {
      "model_module": "@jupyter-widgets/controls",
      "model_module_version": "1.5.0",
      "model_name": "HBoxModel",
      "state": {
       "_dom_classes": [],
       "_model_module": "@jupyter-widgets/controls",
       "_model_module_version": "1.5.0",
       "_model_name": "HBoxModel",
       "_view_count": null,
       "_view_module": "@jupyter-widgets/controls",
       "_view_module_version": "1.5.0",
       "_view_name": "HBoxView",
       "box_style": "",
       "children": [
        "IPY_MODEL_2e4b2d58f024446084d5b8578c72e7a6",
        "IPY_MODEL_08aecbc7aacf4226ac65039bb01c9620"
       ],
       "layout": "IPY_MODEL_2ba095beffa04471bf65d572f87ab359"
      }
     },
     "df606832227d4c52ba55795f4a80467d": {
      "model_module": "@jupyter-widgets/base",
      "model_module_version": "1.2.0",
      "model_name": "LayoutModel",
      "state": {
       "_model_module": "@jupyter-widgets/base",
       "_model_module_version": "1.2.0",
       "_model_name": "LayoutModel",
       "_view_count": null,
       "_view_module": "@jupyter-widgets/base",
       "_view_module_version": "1.2.0",
       "_view_name": "LayoutView",
       "align_content": null,
       "align_items": null,
       "align_self": null,
       "border": null,
       "bottom": null,
       "display": null,
       "flex": null,
       "flex_flow": null,
       "grid_area": null,
       "grid_auto_columns": null,
       "grid_auto_flow": null,
       "grid_auto_rows": null,
       "grid_column": null,
       "grid_gap": null,
       "grid_row": null,
       "grid_template_areas": null,
       "grid_template_columns": null,
       "grid_template_rows": null,
       "height": null,
       "justify_content": null,
       "justify_items": null,
       "left": null,
       "margin": null,
       "max_height": null,
       "max_width": null,
       "min_height": null,
       "min_width": null,
       "object_fit": null,
       "object_position": null,
       "order": null,
       "overflow": null,
       "overflow_x": null,
       "overflow_y": null,
       "padding": null,
       "right": null,
       "top": null,
       "visibility": null,
       "width": null
      }
     },
     "e391de8132354f0783c7f201f7936440": {
      "model_module": "@jupyter-widgets/base",
      "model_module_version": "1.2.0",
      "model_name": "LayoutModel",
      "state": {
       "_model_module": "@jupyter-widgets/base",
       "_model_module_version": "1.2.0",
       "_model_name": "LayoutModel",
       "_view_count": null,
       "_view_module": "@jupyter-widgets/base",
       "_view_module_version": "1.2.0",
       "_view_name": "LayoutView",
       "align_content": null,
       "align_items": null,
       "align_self": null,
       "border": null,
       "bottom": null,
       "display": null,
       "flex": null,
       "flex_flow": null,
       "grid_area": null,
       "grid_auto_columns": null,
       "grid_auto_flow": null,
       "grid_auto_rows": null,
       "grid_column": null,
       "grid_gap": null,
       "grid_row": null,
       "grid_template_areas": null,
       "grid_template_columns": null,
       "grid_template_rows": null,
       "height": null,
       "justify_content": null,
       "justify_items": null,
       "left": null,
       "margin": null,
       "max_height": null,
       "max_width": null,
       "min_height": null,
       "min_width": null,
       "object_fit": null,
       "object_position": null,
       "order": null,
       "overflow": null,
       "overflow_x": null,
       "overflow_y": null,
       "padding": null,
       "right": null,
       "top": null,
       "visibility": null,
       "width": null
      }
     },
     "e78c92e6dff24a5cb2ffde8dcfd7ef28": {
      "model_module": "@jupyter-widgets/controls",
      "model_module_version": "1.5.0",
      "model_name": "ProgressStyleModel",
      "state": {
       "_model_module": "@jupyter-widgets/controls",
       "_model_module_version": "1.5.0",
       "_model_name": "ProgressStyleModel",
       "_view_count": null,
       "_view_module": "@jupyter-widgets/base",
       "_view_module_version": "1.2.0",
       "_view_name": "StyleView",
       "bar_color": null,
       "description_width": "initial"
      }
     },
     "efd6cb13db0b4c2b9dd39c03b6f730c3": {
      "model_module": "@jupyter-widgets/controls",
      "model_module_version": "1.5.0",
      "model_name": "FloatProgressModel",
      "state": {
       "_dom_classes": [],
       "_model_module": "@jupyter-widgets/controls",
       "_model_module_version": "1.5.0",
       "_model_name": "FloatProgressModel",
       "_view_count": null,
       "_view_module": "@jupyter-widgets/controls",
       "_view_module_version": "1.5.0",
       "_view_name": "ProgressView",
       "bar_style": "success",
       "description": "progress: 100%",
       "description_tooltip": null,
       "layout": "IPY_MODEL_0c761bca358e4d62b72ba407a144bef5",
       "max": 1376781.0,
       "min": 0.0,
       "orientation": "horizontal",
       "style": "IPY_MODEL_2be85f4735514c1cbb0a1334dc7ac7e7",
       "value": 1376781.0
      }
     },
     "f087e71e6f634d93a698e27dab1d5ece": {
      "model_module": "@jupyter-widgets/controls",
      "model_module_version": "1.5.0",
      "model_name": "HTMLModel",
      "state": {
       "_dom_classes": [],
       "_model_module": "@jupyter-widgets/controls",
       "_model_module_version": "1.5.0",
       "_model_name": "HTMLModel",
       "_view_count": null,
       "_view_module": "@jupyter-widgets/controls",
       "_view_module_version": "1.5.0",
       "_view_name": "HTMLView",
       "description": "",
       "description_tooltip": null,
       "layout": "IPY_MODEL_e391de8132354f0783c7f201f7936440",
       "placeholder": "​",
       "style": "IPY_MODEL_f1267b6e2fa74bfd87057c4d0c361d81",
       "value": " 1376781/1376781 [00:20&lt;00:00, 66883.10it/s]"
      }
     },
     "f1267b6e2fa74bfd87057c4d0c361d81": {
      "model_module": "@jupyter-widgets/controls",
      "model_module_version": "1.5.0",
      "model_name": "DescriptionStyleModel",
      "state": {
       "_model_module": "@jupyter-widgets/controls",
       "_model_module_version": "1.5.0",
       "_model_name": "DescriptionStyleModel",
       "_view_count": null,
       "_view_module": "@jupyter-widgets/base",
       "_view_module_version": "1.2.0",
       "_view_name": "StyleView",
       "description_width": ""
      }
     },
     "f24adeceb34a43869746d50ee56905a9": {
      "model_module": "@jupyter-widgets/controls",
      "model_module_version": "1.5.0",
      "model_name": "DescriptionStyleModel",
      "state": {
       "_model_module": "@jupyter-widgets/controls",
       "_model_module_version": "1.5.0",
       "_model_name": "DescriptionStyleModel",
       "_view_count": null,
       "_view_module": "@jupyter-widgets/base",
       "_view_module_version": "1.2.0",
       "_view_name": "StyleView",
       "description_width": ""
      }
     }
    },
    "version_major": 2,
    "version_minor": 0
   }
  }
 },
 "nbformat": 4,
 "nbformat_minor": 4
}
