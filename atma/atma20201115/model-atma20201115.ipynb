{
 "cells": [
  {
   "cell_type": "markdown",
   "metadata": {
    "papermill": {
     "duration": 0.013665,
     "end_time": "2020-11-15T10:51:42.174555",
     "exception": false,
     "start_time": "2020-11-15T10:51:42.160890",
     "status": "completed"
    },
    "tags": []
   },
   "source": [
    "- modify mistake\n",
    "- 1st lgb"
   ]
  },
  {
   "cell_type": "code",
   "execution_count": 1,
   "metadata": {
    "_cell_guid": "b1076dfc-b9ad-4769-8c92-a6c4dae69d19",
    "_uuid": "8f2839f25d086af736a60e9eeb907d3b93b6e0e5",
    "execution": {
     "iopub.execute_input": "2020-11-15T10:51:42.201583Z",
     "iopub.status.busy": "2020-11-15T10:51:42.200950Z",
     "iopub.status.idle": "2020-11-15T10:51:43.214751Z",
     "shell.execute_reply": "2020-11-15T10:51:43.214012Z"
    },
    "papermill": {
     "duration": 1.029542,
     "end_time": "2020-11-15T10:51:43.214876",
     "exception": false,
     "start_time": "2020-11-15T10:51:42.185334",
     "status": "completed"
    },
    "tags": []
   },
   "outputs": [],
   "source": [
    "import numpy as np\n",
    "import pandas as pd\n",
    "import lightgbm as lgb\n",
    "from sklearn import preprocessing\n",
    "from sklearn.metrics import average_precision_score\n",
    "from sklearn.model_selection import StratifiedKFold"
   ]
  },
  {
   "cell_type": "code",
   "execution_count": 2,
   "metadata": {
    "execution": {
     "iopub.execute_input": "2020-11-15T10:51:43.247440Z",
     "iopub.status.busy": "2020-11-15T10:51:43.245917Z",
     "iopub.status.idle": "2020-11-15T10:52:05.266908Z",
     "shell.execute_reply": "2020-11-15T10:52:05.266159Z"
    },
    "papermill": {
     "duration": 22.040823,
     "end_time": "2020-11-15T10:52:05.267038",
     "exception": false,
     "start_time": "2020-11-15T10:51:43.226215",
     "status": "completed"
    },
    "tags": []
   },
   "outputs": [],
   "source": [
    "DIR = \"../input/20201115at/\"\n",
    "train = pd.read_csv(DIR+\"train.csv\")\n",
    "test = pd.read_csv(DIR+\"test.csv\")"
   ]
  },
  {
   "cell_type": "markdown",
   "metadata": {
    "papermill": {
     "duration": 0.010954,
     "end_time": "2020-11-15T10:52:05.289119",
     "exception": false,
     "start_time": "2020-11-15T10:52:05.278165",
     "status": "completed"
    },
    "tags": []
   },
   "source": [
    "# preprocess"
   ]
  },
  {
   "cell_type": "code",
   "execution_count": 3,
   "metadata": {
    "execution": {
     "iopub.execute_input": "2020-11-15T10:52:05.707234Z",
     "iopub.status.busy": "2020-11-15T10:52:05.706387Z",
     "iopub.status.idle": "2020-11-15T10:52:06.308944Z",
     "shell.execute_reply": "2020-11-15T10:52:06.308330Z"
    },
    "papermill": {
     "duration": 1.008469,
     "end_time": "2020-11-15T10:52:06.309066",
     "exception": false,
     "start_time": "2020-11-15T10:52:05.300597",
     "status": "completed"
    },
    "tags": []
   },
   "outputs": [],
   "source": [
    "train[\"imp_at\"] = pd.to_datetime(train[\"imp_at\"])"
   ]
  },
  {
   "cell_type": "code",
   "execution_count": 4,
   "metadata": {
    "execution": {
     "iopub.execute_input": "2020-11-15T10:52:06.704063Z",
     "iopub.status.busy": "2020-11-15T10:52:06.619872Z",
     "iopub.status.idle": "2020-11-15T10:52:06.931855Z",
     "shell.execute_reply": "2020-11-15T10:52:06.931221Z"
    },
    "papermill": {
     "duration": 0.611696,
     "end_time": "2020-11-15T10:52:06.931972",
     "exception": false,
     "start_time": "2020-11-15T10:52:06.320276",
     "status": "completed"
    },
    "tags": []
   },
   "outputs": [],
   "source": [
    "train.drop(['click_or_view_at', 'cv_at','last_cv_interval', 'last_paid_interval'], axis=1, inplace=True)"
   ]
  },
  {
   "cell_type": "code",
   "execution_count": 5,
   "metadata": {
    "execution": {
     "iopub.execute_input": "2020-11-15T10:52:07.136722Z",
     "iopub.status.busy": "2020-11-15T10:52:07.055827Z",
     "iopub.status.idle": "2020-11-15T10:52:07.576479Z",
     "shell.execute_reply": "2020-11-15T10:52:07.575861Z"
    },
    "papermill": {
     "duration": 0.633478,
     "end_time": "2020-11-15T10:52:07.576636",
     "exception": false,
     "start_time": "2020-11-15T10:52:06.943158",
     "status": "completed"
    },
    "tags": []
   },
   "outputs": [],
   "source": [
    "train.drop(['request_id'], axis=1, inplace=True)\n",
    "test.drop(['request_id'], axis=1, inplace=True)"
   ]
  },
  {
   "cell_type": "code",
   "execution_count": 6,
   "metadata": {
    "execution": {
     "iopub.execute_input": "2020-11-15T10:52:07.608318Z",
     "iopub.status.busy": "2020-11-15T10:52:07.607282Z",
     "iopub.status.idle": "2020-11-15T10:52:07.612348Z",
     "shell.execute_reply": "2020-11-15T10:52:07.611728Z"
    },
    "papermill": {
     "duration": 0.02449,
     "end_time": "2020-11-15T10:52:07.612487",
     "exception": false,
     "start_time": "2020-11-15T10:52:07.587997",
     "status": "completed"
    },
    "tags": []
   },
   "outputs": [
    {
     "data": {
      "text/plain": [
       "Index(['imp_at', 'target', 'adnw_id', 'adspot_id', 'adspot_video_format_id',\n",
       "       'advertiser_id', 'app_id', 'auction_type_id', 'campaign_id',\n",
       "       'category_id', 'country_code', 'first_login_interval', 'frequency',\n",
       "       'from_click', 'game_feed_asset_type_id', 'game_feed_id',\n",
       "       'game_template_id', 'header_bidding', 'is_interstitial', 'item_id',\n",
       "       'last_login_interval', 'login_frequency', 'max_login_interval',\n",
       "       'media_app_id', 'os', 'os_version', 'pos', 'uid', 'user_type_id',\n",
       "       'video_template_id'],\n",
       "      dtype='object')"
      ]
     },
     "execution_count": 6,
     "metadata": {},
     "output_type": "execute_result"
    }
   ],
   "source": [
    "train.columns"
   ]
  },
  {
   "cell_type": "code",
   "execution_count": 7,
   "metadata": {
    "execution": {
     "iopub.execute_input": "2020-11-15T10:52:07.644130Z",
     "iopub.status.busy": "2020-11-15T10:52:07.643399Z",
     "iopub.status.idle": "2020-11-15T10:52:07.646722Z",
     "shell.execute_reply": "2020-11-15T10:52:07.646174Z"
    },
    "papermill": {
     "duration": 0.021692,
     "end_time": "2020-11-15T10:52:07.646849",
     "exception": false,
     "start_time": "2020-11-15T10:52:07.625157",
     "status": "completed"
    },
    "tags": []
   },
   "outputs": [],
   "source": [
    "object_feats = [i for i in train.columns if \"object\" == str(train[i].dtype)]"
   ]
  },
  {
   "cell_type": "code",
   "execution_count": 8,
   "metadata": {
    "execution": {
     "iopub.execute_input": "2020-11-15T10:52:07.679258Z",
     "iopub.status.busy": "2020-11-15T10:52:07.678546Z",
     "iopub.status.idle": "2020-11-15T10:52:47.897071Z",
     "shell.execute_reply": "2020-11-15T10:52:47.896516Z"
    },
    "papermill": {
     "duration": 40.237705,
     "end_time": "2020-11-15T10:52:47.897214",
     "exception": false,
     "start_time": "2020-11-15T10:52:07.659509",
     "status": "completed"
    },
    "tags": []
   },
   "outputs": [],
   "source": [
    "for i in object_feats:\n",
    "    lbl = preprocessing.LabelEncoder()\n",
    "    lbl.fit(list(pd.concat([train[i], test[i]])))\n",
    "    train[i] = lbl.transform(list(train[i]))\n",
    "    test[i] = lbl.transform(list(test[i]))"
   ]
  },
  {
   "cell_type": "code",
   "execution_count": 9,
   "metadata": {
    "execution": {
     "iopub.execute_input": "2020-11-15T10:52:47.926812Z",
     "iopub.status.busy": "2020-11-15T10:52:47.926055Z",
     "iopub.status.idle": "2020-11-15T10:52:48.576972Z",
     "shell.execute_reply": "2020-11-15T10:52:48.576281Z"
    },
    "papermill": {
     "duration": 0.667826,
     "end_time": "2020-11-15T10:52:48.577088",
     "exception": false,
     "start_time": "2020-11-15T10:52:47.909262",
     "status": "completed"
    },
    "tags": []
   },
   "outputs": [],
   "source": [
    "mask = train.imp_at > \"2020-05-21\"\n",
    "valid = train.loc[mask].copy()\n",
    "train = train.loc[~mask]"
   ]
  },
  {
   "cell_type": "code",
   "execution_count": 10,
   "metadata": {
    "execution": {
     "iopub.execute_input": "2020-11-15T10:52:48.606892Z",
     "iopub.status.busy": "2020-11-15T10:52:48.605988Z",
     "iopub.status.idle": "2020-11-15T10:52:48.610307Z",
     "shell.execute_reply": "2020-11-15T10:52:48.609793Z"
    },
    "papermill": {
     "duration": 0.021275,
     "end_time": "2020-11-15T10:52:48.610444",
     "exception": false,
     "start_time": "2020-11-15T10:52:48.589169",
     "status": "completed"
    },
    "tags": []
   },
   "outputs": [
    {
     "data": {
      "text/plain": [
       "((1568715, 30), (428880, 30))"
      ]
     },
     "execution_count": 10,
     "metadata": {},
     "output_type": "execute_result"
    }
   ],
   "source": [
    "train.shape, valid.shape"
   ]
  },
  {
   "cell_type": "code",
   "execution_count": 11,
   "metadata": {
    "execution": {
     "iopub.execute_input": "2020-11-15T10:52:48.838922Z",
     "iopub.status.busy": "2020-11-15T10:52:48.757020Z",
     "iopub.status.idle": "2020-11-15T10:52:48.924161Z",
     "shell.execute_reply": "2020-11-15T10:52:48.924676Z"
    },
    "papermill": {
     "duration": 0.301175,
     "end_time": "2020-11-15T10:52:48.924843",
     "exception": false,
     "start_time": "2020-11-15T10:52:48.623668",
     "status": "completed"
    },
    "tags": []
   },
   "outputs": [],
   "source": [
    "remove_features = [\"imp_at\"]\n",
    "    \n",
    "#for i in X_train.columns:\n",
    "#    if (X_train[i].std() == 0) and i not in remove_features:\n",
    "#        remove_features.append(i)\n",
    "    \n",
    "train = train.drop(remove_features, axis=1)\n",
    "valid = valid.drop(remove_features, axis=1)\n",
    "test = test.drop(remove_features, axis=1)"
   ]
  },
  {
   "cell_type": "code",
   "execution_count": 12,
   "metadata": {
    "execution": {
     "iopub.execute_input": "2020-11-15T10:52:48.956271Z",
     "iopub.status.busy": "2020-11-15T10:52:48.955284Z",
     "iopub.status.idle": "2020-11-15T10:52:48.959455Z",
     "shell.execute_reply": "2020-11-15T10:52:48.958936Z"
    },
    "papermill": {
     "duration": 0.021968,
     "end_time": "2020-11-15T10:52:48.959596",
     "exception": false,
     "start_time": "2020-11-15T10:52:48.937628",
     "status": "completed"
    },
    "tags": []
   },
   "outputs": [
    {
     "data": {
      "text/plain": [
       "((1568715, 29), (428880, 29))"
      ]
     },
     "execution_count": 12,
     "metadata": {},
     "output_type": "execute_result"
    }
   ],
   "source": [
    "train.shape, valid.shape"
   ]
  },
  {
   "cell_type": "code",
   "execution_count": 13,
   "metadata": {
    "execution": {
     "iopub.execute_input": "2020-11-15T10:52:49.003293Z",
     "iopub.status.busy": "2020-11-15T10:52:49.002656Z",
     "iopub.status.idle": "2020-11-15T10:52:49.015035Z",
     "shell.execute_reply": "2020-11-15T10:52:49.015595Z"
    },
    "papermill": {
     "duration": 0.043138,
     "end_time": "2020-11-15T10:52:49.015758",
     "exception": false,
     "start_time": "2020-11-15T10:52:48.972620",
     "status": "completed"
    },
    "tags": []
   },
   "outputs": [
    {
     "data": {
      "text/html": [
       "<div>\n",
       "<style scoped>\n",
       "    .dataframe tbody tr th:only-of-type {\n",
       "        vertical-align: middle;\n",
       "    }\n",
       "\n",
       "    .dataframe tbody tr th {\n",
       "        vertical-align: top;\n",
       "    }\n",
       "\n",
       "    .dataframe thead th {\n",
       "        text-align: right;\n",
       "    }\n",
       "</style>\n",
       "<table border=\"1\" class=\"dataframe\">\n",
       "  <thead>\n",
       "    <tr style=\"text-align: right;\">\n",
       "      <th></th>\n",
       "      <th>target</th>\n",
       "      <th>adnw_id</th>\n",
       "      <th>adspot_id</th>\n",
       "      <th>adspot_video_format_id</th>\n",
       "      <th>advertiser_id</th>\n",
       "      <th>app_id</th>\n",
       "      <th>auction_type_id</th>\n",
       "      <th>campaign_id</th>\n",
       "      <th>category_id</th>\n",
       "      <th>country_code</th>\n",
       "      <th>...</th>\n",
       "      <th>last_login_interval</th>\n",
       "      <th>login_frequency</th>\n",
       "      <th>max_login_interval</th>\n",
       "      <th>media_app_id</th>\n",
       "      <th>os</th>\n",
       "      <th>os_version</th>\n",
       "      <th>pos</th>\n",
       "      <th>uid</th>\n",
       "      <th>user_type_id</th>\n",
       "      <th>video_template_id</th>\n",
       "    </tr>\n",
       "  </thead>\n",
       "  <tbody>\n",
       "    <tr>\n",
       "      <th>0</th>\n",
       "      <td>0</td>\n",
       "      <td>4</td>\n",
       "      <td>1111</td>\n",
       "      <td>2.0</td>\n",
       "      <td>20</td>\n",
       "      <td>14871</td>\n",
       "      <td>1.0</td>\n",
       "      <td>403</td>\n",
       "      <td>8497</td>\n",
       "      <td>0</td>\n",
       "      <td>...</td>\n",
       "      <td>11320.0</td>\n",
       "      <td>10.0</td>\n",
       "      <td>2607.0</td>\n",
       "      <td>11754</td>\n",
       "      <td>1</td>\n",
       "      <td>86</td>\n",
       "      <td>0</td>\n",
       "      <td>273693</td>\n",
       "      <td>1</td>\n",
       "      <td>5</td>\n",
       "    </tr>\n",
       "    <tr>\n",
       "      <th>1</th>\n",
       "      <td>0</td>\n",
       "      <td>28</td>\n",
       "      <td>1081</td>\n",
       "      <td>2.0</td>\n",
       "      <td>121</td>\n",
       "      <td>8300</td>\n",
       "      <td>2.0</td>\n",
       "      <td>91</td>\n",
       "      <td>0</td>\n",
       "      <td>0</td>\n",
       "      <td>...</td>\n",
       "      <td>12589.0</td>\n",
       "      <td>2.0</td>\n",
       "      <td>13540.0</td>\n",
       "      <td>8994</td>\n",
       "      <td>2</td>\n",
       "      <td>151</td>\n",
       "      <td>1</td>\n",
       "      <td>427139</td>\n",
       "      <td>2</td>\n",
       "      <td>3</td>\n",
       "    </tr>\n",
       "    <tr>\n",
       "      <th>2</th>\n",
       "      <td>0</td>\n",
       "      <td>42</td>\n",
       "      <td>1123</td>\n",
       "      <td>3.0</td>\n",
       "      <td>5</td>\n",
       "      <td>12947</td>\n",
       "      <td>1.0</td>\n",
       "      <td>114</td>\n",
       "      <td>0</td>\n",
       "      <td>0</td>\n",
       "      <td>...</td>\n",
       "      <td>10254.0</td>\n",
       "      <td>9.0</td>\n",
       "      <td>33725.0</td>\n",
       "      <td>346</td>\n",
       "      <td>1</td>\n",
       "      <td>54</td>\n",
       "      <td>0</td>\n",
       "      <td>1005266</td>\n",
       "      <td>1</td>\n",
       "      <td>9</td>\n",
       "    </tr>\n",
       "    <tr>\n",
       "      <th>3</th>\n",
       "      <td>0</td>\n",
       "      <td>8</td>\n",
       "      <td>1113</td>\n",
       "      <td>2.0</td>\n",
       "      <td>22</td>\n",
       "      <td>12378</td>\n",
       "      <td>1.0</td>\n",
       "      <td>75</td>\n",
       "      <td>0</td>\n",
       "      <td>0</td>\n",
       "      <td>...</td>\n",
       "      <td>39618.0</td>\n",
       "      <td>4.0</td>\n",
       "      <td>7377.0</td>\n",
       "      <td>6144</td>\n",
       "      <td>1</td>\n",
       "      <td>90</td>\n",
       "      <td>0</td>\n",
       "      <td>492541</td>\n",
       "      <td>1</td>\n",
       "      <td>6</td>\n",
       "    </tr>\n",
       "    <tr>\n",
       "      <th>4</th>\n",
       "      <td>0</td>\n",
       "      <td>22</td>\n",
       "      <td>1061</td>\n",
       "      <td>NaN</td>\n",
       "      <td>135</td>\n",
       "      <td>195</td>\n",
       "      <td>4.0</td>\n",
       "      <td>331</td>\n",
       "      <td>0</td>\n",
       "      <td>0</td>\n",
       "      <td>...</td>\n",
       "      <td>35652.0</td>\n",
       "      <td>5.0</td>\n",
       "      <td>164759.0</td>\n",
       "      <td>2189</td>\n",
       "      <td>1</td>\n",
       "      <td>70</td>\n",
       "      <td>0</td>\n",
       "      <td>698493</td>\n",
       "      <td>1</td>\n",
       "      <td>9</td>\n",
       "    </tr>\n",
       "  </tbody>\n",
       "</table>\n",
       "<p>5 rows × 29 columns</p>\n",
       "</div>"
      ],
      "text/plain": [
       "   target  adnw_id  adspot_id  adspot_video_format_id  advertiser_id  app_id  \\\n",
       "0       0        4       1111                     2.0             20   14871   \n",
       "1       0       28       1081                     2.0            121    8300   \n",
       "2       0       42       1123                     3.0              5   12947   \n",
       "3       0        8       1113                     2.0             22   12378   \n",
       "4       0       22       1061                     NaN            135     195   \n",
       "\n",
       "   auction_type_id  campaign_id  category_id  country_code  ...  \\\n",
       "0              1.0          403         8497             0  ...   \n",
       "1              2.0           91            0             0  ...   \n",
       "2              1.0          114            0             0  ...   \n",
       "3              1.0           75            0             0  ...   \n",
       "4              4.0          331            0             0  ...   \n",
       "\n",
       "   last_login_interval  login_frequency  max_login_interval  media_app_id  os  \\\n",
       "0              11320.0             10.0              2607.0         11754   1   \n",
       "1              12589.0              2.0             13540.0          8994   2   \n",
       "2              10254.0              9.0             33725.0           346   1   \n",
       "3              39618.0              4.0              7377.0          6144   1   \n",
       "4              35652.0              5.0            164759.0          2189   1   \n",
       "\n",
       "   os_version  pos      uid  user_type_id  video_template_id  \n",
       "0          86    0   273693             1                  5  \n",
       "1         151    1   427139             2                  3  \n",
       "2          54    0  1005266             1                  9  \n",
       "3          90    0   492541             1                  6  \n",
       "4          70    0   698493             1                  9  \n",
       "\n",
       "[5 rows x 29 columns]"
      ]
     },
     "execution_count": 13,
     "metadata": {},
     "output_type": "execute_result"
    }
   ],
   "source": [
    "train.head()"
   ]
  },
  {
   "cell_type": "markdown",
   "metadata": {
    "papermill": {
     "duration": 0.013489,
     "end_time": "2020-11-15T10:52:49.043221",
     "exception": false,
     "start_time": "2020-11-15T10:52:49.029732",
     "status": "completed"
    },
    "tags": []
   },
   "source": [
    "# modelling"
   ]
  },
  {
   "cell_type": "code",
   "execution_count": 14,
   "metadata": {
    "_cell_guid": "79c7e3d0-c299-4dcb-8224-4455121ee9b0",
    "_uuid": "d629ff2d2480ee46fbb7e2d37f6b5fab8052498a",
    "execution": {
     "iopub.execute_input": "2020-11-15T10:52:49.084722Z",
     "iopub.status.busy": "2020-11-15T10:52:49.079797Z",
     "iopub.status.idle": "2020-11-15T11:01:04.249203Z",
     "shell.execute_reply": "2020-11-15T11:01:04.248627Z"
    },
    "papermill": {
     "duration": 495.192235,
     "end_time": "2020-11-15T11:01:04.249355",
     "exception": false,
     "start_time": "2020-11-15T10:52:49.057120",
     "status": "completed"
    },
    "tags": []
   },
   "outputs": [
    {
     "name": "stderr",
     "output_type": "stream",
     "text": [
      "/opt/conda/lib/python3.7/site-packages/lightgbm/basic.py:1295: UserWarning: categorical_feature in Dataset is overridden.\n",
      "New categorical_feature is ['advertiser_id', 'app_id', 'campaign_id', 'country_code', 'game_feed_id', 'game_template_id', 'media_app_id', 'os_version', 'uid', 'video_template_id']\n",
      "  'New categorical_feature is {}'.format(sorted(list(categorical_feature))))\n"
     ]
    },
    {
     "name": "stdout",
     "output_type": "stream",
     "text": [
      "Training until validation scores don't improve for 20 rounds\n",
      "[10]\ttraining's pr_auc: 0.206436\tvalid_1's pr_auc: 0.17013\n",
      "[20]\ttraining's pr_auc: 0.211127\tvalid_1's pr_auc: 0.174428\n",
      "[30]\ttraining's pr_auc: 0.217629\tvalid_1's pr_auc: 0.180438\n",
      "[40]\ttraining's pr_auc: 0.218033\tvalid_1's pr_auc: 0.180603\n",
      "[50]\ttraining's pr_auc: 0.219806\tvalid_1's pr_auc: 0.182111\n",
      "[60]\ttraining's pr_auc: 0.223073\tvalid_1's pr_auc: 0.184023\n",
      "[70]\ttraining's pr_auc: 0.225921\tvalid_1's pr_auc: 0.186256\n",
      "[80]\ttraining's pr_auc: 0.22803\tvalid_1's pr_auc: 0.188128\n",
      "[90]\ttraining's pr_auc: 0.229867\tvalid_1's pr_auc: 0.189727\n",
      "[100]\ttraining's pr_auc: 0.232297\tvalid_1's pr_auc: 0.19132\n",
      "[110]\ttraining's pr_auc: 0.234481\tvalid_1's pr_auc: 0.192553\n",
      "[120]\ttraining's pr_auc: 0.236548\tvalid_1's pr_auc: 0.193783\n",
      "[130]\ttraining's pr_auc: 0.238408\tvalid_1's pr_auc: 0.19457\n",
      "[140]\ttraining's pr_auc: 0.239846\tvalid_1's pr_auc: 0.195464\n",
      "[150]\ttraining's pr_auc: 0.24174\tvalid_1's pr_auc: 0.196642\n",
      "[160]\ttraining's pr_auc: 0.243227\tvalid_1's pr_auc: 0.197476\n",
      "[170]\ttraining's pr_auc: 0.244726\tvalid_1's pr_auc: 0.198077\n",
      "[180]\ttraining's pr_auc: 0.246073\tvalid_1's pr_auc: 0.198957\n",
      "[190]\ttraining's pr_auc: 0.247618\tvalid_1's pr_auc: 0.199547\n",
      "[200]\ttraining's pr_auc: 0.249265\tvalid_1's pr_auc: 0.200292\n",
      "[210]\ttraining's pr_auc: 0.251054\tvalid_1's pr_auc: 0.200911\n",
      "[220]\ttraining's pr_auc: 0.252311\tvalid_1's pr_auc: 0.201325\n",
      "[230]\ttraining's pr_auc: 0.253388\tvalid_1's pr_auc: 0.201559\n",
      "[240]\ttraining's pr_auc: 0.254513\tvalid_1's pr_auc: 0.201996\n",
      "[250]\ttraining's pr_auc: 0.255426\tvalid_1's pr_auc: 0.202268\n",
      "[260]\ttraining's pr_auc: 0.256402\tvalid_1's pr_auc: 0.202699\n",
      "[270]\ttraining's pr_auc: 0.257447\tvalid_1's pr_auc: 0.203031\n",
      "[280]\ttraining's pr_auc: 0.25834\tvalid_1's pr_auc: 0.203194\n",
      "[290]\ttraining's pr_auc: 0.259302\tvalid_1's pr_auc: 0.203589\n",
      "[300]\ttraining's pr_auc: 0.26009\tvalid_1's pr_auc: 0.203837\n",
      "[310]\ttraining's pr_auc: 0.260833\tvalid_1's pr_auc: 0.204073\n",
      "[320]\ttraining's pr_auc: 0.261606\tvalid_1's pr_auc: 0.204337\n",
      "[330]\ttraining's pr_auc: 0.262397\tvalid_1's pr_auc: 0.204544\n",
      "[340]\ttraining's pr_auc: 0.263139\tvalid_1's pr_auc: 0.204872\n",
      "[350]\ttraining's pr_auc: 0.263869\tvalid_1's pr_auc: 0.205109\n",
      "[360]\ttraining's pr_auc: 0.264576\tvalid_1's pr_auc: 0.205295\n",
      "[370]\ttraining's pr_auc: 0.26511\tvalid_1's pr_auc: 0.205464\n",
      "[380]\ttraining's pr_auc: 0.265819\tvalid_1's pr_auc: 0.205513\n",
      "[390]\ttraining's pr_auc: 0.266711\tvalid_1's pr_auc: 0.205686\n",
      "[400]\ttraining's pr_auc: 0.267534\tvalid_1's pr_auc: 0.20581\n",
      "[410]\ttraining's pr_auc: 0.26822\tvalid_1's pr_auc: 0.206114\n",
      "[420]\ttraining's pr_auc: 0.269011\tvalid_1's pr_auc: 0.206223\n",
      "[430]\ttraining's pr_auc: 0.269419\tvalid_1's pr_auc: 0.206415\n",
      "[440]\ttraining's pr_auc: 0.269983\tvalid_1's pr_auc: 0.206532\n",
      "[450]\ttraining's pr_auc: 0.270569\tvalid_1's pr_auc: 0.20661\n",
      "[460]\ttraining's pr_auc: 0.271326\tvalid_1's pr_auc: 0.20686\n",
      "[470]\ttraining's pr_auc: 0.272015\tvalid_1's pr_auc: 0.206753\n",
      "[480]\ttraining's pr_auc: 0.272665\tvalid_1's pr_auc: 0.206756\n",
      "Early stopping, best iteration is:\n",
      "[461]\ttraining's pr_auc: 0.271356\tvalid_1's pr_auc: 0.206862\n",
      "average precision score = 0.20686233248049796\n"
     ]
    }
   ],
   "source": [
    "lgbm_params = {'objective': 'binary', 'metric': 'None', 'boosting_type': 'gbdt',\n",
    "               'tree_learner': 'serial', 'learning_rate': 0.03, \"num_leaves\": 10, 'random_seed':44,'max_depth': 5}\n",
    "\n",
    "def pr_auc_metric(y_predicted, y_true):\n",
    "    return 'pr_auc', average_precision_score(y_true.get_label(), y_predicted), True\n",
    "\n",
    "y_train = train.target.copy()\n",
    "X_train = train.drop(['target'],axis=1).copy()\n",
    "y_valid = valid.target.copy()\n",
    "X_valid = valid.drop(['target'],axis=1).copy()\n",
    "    \n",
    "valid_lgb = pd.DataFrame(np.zeros([X_train.shape[0]]))\n",
    "real = np.array([])\n",
    "features_list = [i for i in X_train.columns]\n",
    "feature_importance_df = pd.DataFrame(features_list, columns=[\"Feature\"])\n",
    "        \n",
    "lgb_train = lgb.Dataset(X_train, y_train)\n",
    "lgb_eval = lgb.Dataset(X_valid, y_valid, reference=lgb_train)\n",
    "        \n",
    "model = lgb.train(lgbm_params, lgb_train,valid_sets=[lgb_train, lgb_eval],\n",
    "       num_boost_round=10000,early_stopping_rounds=20,verbose_eval = 10, feval=pr_auc_metric, categorical_feature = sorted(object_feats))\n",
    "        \n",
    "valid_predict = model.predict(X_valid, num_iteration = model.best_iteration)\n",
    "feature_importance_df[\"Importance\"] = model.feature_importance()\n",
    "        \n",
    "#feature_importance_df[\"Average\"] = np.mean(feature_importance_df.iloc[:,1:n_folds+1], axis=1)\n",
    "#feature_importance_df[\"Std\"] = np.std(feature_importance_df.iloc[:,1:n_folds+1], axis=1)\n",
    "#feature_importance_df[\"Cv\"] = feature_importance_df[\"Std\"] / feature_importance_df[\"Average\"]\n",
    "\n",
    "score = average_precision_score(y_valid, valid_predict)\n",
    "print(\"average precision score = {}\".format(score))\n",
    "pred_value = model.predict(test, num_iteration = model.best_iteration)"
   ]
  },
  {
   "cell_type": "markdown",
   "metadata": {
    "papermill": {
     "duration": 0.028182,
     "end_time": "2020-11-15T11:01:04.307222",
     "exception": false,
     "start_time": "2020-11-15T11:01:04.279040",
     "status": "completed"
    },
    "tags": []
   },
   "source": [
    "# submission"
   ]
  },
  {
   "cell_type": "code",
   "execution_count": 15,
   "metadata": {
    "execution": {
     "iopub.execute_input": "2020-11-15T11:01:04.372597Z",
     "iopub.status.busy": "2020-11-15T11:01:04.371799Z",
     "iopub.status.idle": "2020-11-15T11:01:05.822697Z",
     "shell.execute_reply": "2020-11-15T11:01:05.821990Z"
    },
    "papermill": {
     "duration": 1.486933,
     "end_time": "2020-11-15T11:01:05.822822",
     "exception": false,
     "start_time": "2020-11-15T11:01:04.335889",
     "status": "completed"
    },
    "tags": []
   },
   "outputs": [],
   "source": [
    "lgb_sub = pd.read_csv(DIR + \"atmaCup7__sample_submission.csv\")\n",
    "lgb_sub[\"target\"] = pred_value\n",
    "lgb_sub.to_csv(\"atmacup7_lgb\"+str(score)[:-10]+\".csv\", index = False)"
   ]
  },
  {
   "cell_type": "code",
   "execution_count": null,
   "metadata": {
    "papermill": {
     "duration": 0.029162,
     "end_time": "2020-11-15T11:01:05.880325",
     "exception": false,
     "start_time": "2020-11-15T11:01:05.851163",
     "status": "completed"
    },
    "tags": []
   },
   "outputs": [],
   "source": []
  }
 ],
 "metadata": {
  "kernelspec": {
   "display_name": "Python 3",
   "language": "python",
   "name": "python3"
  },
  "language_info": {
   "codemirror_mode": {
    "name": "ipython",
    "version": 3
   },
   "file_extension": ".py",
   "mimetype": "text/x-python",
   "name": "python",
   "nbconvert_exporter": "python",
   "pygments_lexer": "ipython3",
   "version": "3.7.6"
  },
  "papermill": {
   "duration": 568.165986,
   "end_time": "2020-11-15T11:01:06.016576",
   "environment_variables": {},
   "exception": null,
   "input_path": "__notebook__.ipynb",
   "output_path": "__notebook__.ipynb",
   "parameters": {},
   "start_time": "2020-11-15T10:51:37.850590",
   "version": "2.1.0"
  }
 },
 "nbformat": 4,
 "nbformat_minor": 4
}
