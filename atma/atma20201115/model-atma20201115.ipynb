{
 "cells": [
  {
   "cell_type": "markdown",
   "metadata": {
    "papermill": {
     "duration": 0.024302,
     "end_time": "2020-11-16T11:30:15.978513",
     "exception": false,
     "start_time": "2020-11-16T11:30:15.954211",
     "status": "completed"
    },
    "tags": []
   },
   "source": [
    "- add count by user\n",
    "- modify mistake"
   ]
  },
  {
   "cell_type": "code",
   "execution_count": 1,
   "metadata": {
    "_cell_guid": "b1076dfc-b9ad-4769-8c92-a6c4dae69d19",
    "_uuid": "8f2839f25d086af736a60e9eeb907d3b93b6e0e5",
    "execution": {
     "iopub.execute_input": "2020-11-16T11:30:16.029643Z",
     "iopub.status.busy": "2020-11-16T11:30:16.028517Z",
     "iopub.status.idle": "2020-11-16T11:30:17.161680Z",
     "shell.execute_reply": "2020-11-16T11:30:17.162301Z"
    },
    "papermill": {
     "duration": 1.161847,
     "end_time": "2020-11-16T11:30:17.162514",
     "exception": false,
     "start_time": "2020-11-16T11:30:16.000667",
     "status": "completed"
    },
    "tags": []
   },
   "outputs": [
    {
     "name": "stderr",
     "output_type": "stream",
     "text": [
      "/opt/conda/lib/python3.7/site-packages/ipykernel_launcher.py:6: TqdmDeprecationWarning: This function will be removed in tqdm==5.0.0\n",
      "Please use `tqdm.notebook.*` instead of `tqdm._tqdm_notebook.*`\n",
      "  \n",
      "/opt/conda/lib/python3.7/site-packages/tqdm/std.py:666: FutureWarning: The Panel class is removed from pandas. Accessing it from the top-level namespace will also be removed in the next version\n",
      "  from pandas import Panel\n"
     ]
    }
   ],
   "source": [
    "import os\n",
    "import numpy as np\n",
    "import pandas as pd\n",
    "import lightgbm as lgb\n",
    "from sklearn import preprocessing\n",
    "from tqdm._tqdm_notebook import tqdm_notebook\n",
    "from sklearn.metrics import average_precision_score\n",
    "tqdm_notebook.pandas(desc=\"progress: \")"
   ]
  },
  {
   "cell_type": "code",
   "execution_count": 2,
   "metadata": {
    "execution": {
     "iopub.execute_input": "2020-11-16T11:30:17.214867Z",
     "iopub.status.busy": "2020-11-16T11:30:17.214057Z",
     "iopub.status.idle": "2020-11-16T11:30:42.086136Z",
     "shell.execute_reply": "2020-11-16T11:30:42.085217Z"
    },
    "papermill": {
     "duration": 24.901924,
     "end_time": "2020-11-16T11:30:42.086267",
     "exception": false,
     "start_time": "2020-11-16T11:30:17.184343",
     "status": "completed"
    },
    "tags": []
   },
   "outputs": [],
   "source": [
    "DIR = \"../input/20201115at/\"\n",
    "train = pd.read_csv(DIR+\"train.csv\")\n",
    "test = pd.read_csv(DIR+\"test.csv\")\n",
    "campaign = pd.read_csv(DIR+\"campaign.csv\")\n",
    "\n",
    "#advertiser_video = pd.read_csv(DIR+\"advertiser_video.csv\")\n",
    "#map_game_feed_native_video_assets = pd.read_csv(DIR+'map_game_feed_native_video_assets.csv')\n",
    "\n",
    "#advertiser_converted_video = pd.read_csv(DIR+\"advertiser_converted_video.csv\")"
   ]
  },
  {
   "cell_type": "markdown",
   "metadata": {
    "papermill": {
     "duration": 0.021085,
     "end_time": "2020-11-16T11:30:42.129135",
     "exception": false,
     "start_time": "2020-11-16T11:30:42.108050",
     "status": "completed"
    },
    "tags": []
   },
   "source": [
    "# preprocess"
   ]
  },
  {
   "cell_type": "code",
   "execution_count": 3,
   "metadata": {
    "execution": {
     "iopub.execute_input": "2020-11-16T11:30:42.429954Z",
     "iopub.status.busy": "2020-11-16T11:30:42.429097Z",
     "iopub.status.idle": "2020-11-16T11:30:53.646283Z",
     "shell.execute_reply": "2020-11-16T11:30:53.645605Z"
    },
    "papermill": {
     "duration": 11.495299,
     "end_time": "2020-11-16T11:30:53.646468",
     "exception": false,
     "start_time": "2020-11-16T11:30:42.151169",
     "status": "completed"
    },
    "tags": []
   },
   "outputs": [],
   "source": [
    "# with campaign\n",
    "train = train.merge(campaign, left_on=\"campaign_id\", right_on = \"id\", how=\"left\").drop([\"mst_advertiser_id\", \"id\"], axis=1)\n",
    "test = test.merge(campaign, left_on=\"campaign_id\", right_on = \"id\", how=\"left\").drop([\"mst_advertiser_id\", \"id\"], axis=1)\n",
    "\n",
    "# with map_gae_feed_native_video_assets\n",
    "#train = train.merge(map_game_feed_native_video_assets, left_on=[\"game_feed_id\"], right_on = [\"mst_game_feed_id\"], how=\"left\").drop([\"mst_game_feed_id\"], axis=1)\n",
    "#test = test.merge(map_game_feed_native_video_assets, left_on=[\"game_feed_id\"], right_on = [\"mst_game_feed_id\"], how=\"left\").drop([\"mst_game_feed_id\"], axis=1)\n",
    "\n",
    "# with advertiser_video horizontal\n",
    "#horizontal = advertiser_video.copy()\n",
    "#horizontal.columns = [f\"horizontal_{c}\" if c not in [\"id\", \"mst_advertiser_id\"] else c for c in horizontal.columns]\n",
    "#train = pd.merge(train, horizontal[[\"id\", \"mst_advertiser_id\", \"horizontal_duration\"]], left_on=[\"horizontal_mst_advertiser_video_id\", \"advertiser_id\"], \n",
    "#               right_on=[\"id\", \"mst_advertiser_id\"], how=\"left\").drop(columns=[\"id\", \"mst_advertiser_id\"])\n",
    "#test = pd.merge(test, horizontal[[\"id\", \"mst_advertiser_id\", \"horizontal_duration\"]], left_on=[\"horizontal_mst_advertiser_video_id\", \"advertiser_id\"], \n",
    "#               right_on=[\"id\", \"mst_advertiser_id\"], how=\"left\").drop(columns=[\"id\", \"mst_advertiser_id\"])"
   ]
  },
  {
   "cell_type": "code",
   "execution_count": 4,
   "metadata": {
    "execution": {
     "iopub.execute_input": "2020-11-16T11:30:54.447322Z",
     "iopub.status.busy": "2020-11-16T11:30:54.445409Z",
     "iopub.status.idle": "2020-11-16T11:30:55.267013Z",
     "shell.execute_reply": "2020-11-16T11:30:55.266184Z"
    },
    "papermill": {
     "duration": 1.598478,
     "end_time": "2020-11-16T11:30:55.267137",
     "exception": false,
     "start_time": "2020-11-16T11:30:53.668659",
     "status": "completed"
    },
    "tags": []
   },
   "outputs": [],
   "source": [
    "train[\"imp_at\"] = pd.to_datetime(train[\"imp_at\"])\n",
    "test[\"imp_at\"] = pd.to_datetime(test[\"imp_at\"])"
   ]
  },
  {
   "cell_type": "code",
   "execution_count": 5,
   "metadata": {
    "execution": {
     "iopub.execute_input": "2020-11-16T11:30:55.430697Z",
     "iopub.status.busy": "2020-11-16T11:30:55.316995Z",
     "iopub.status.idle": "2020-11-16T11:30:55.923565Z",
     "shell.execute_reply": "2020-11-16T11:30:55.922766Z"
    },
    "papermill": {
     "duration": 0.634865,
     "end_time": "2020-11-16T11:30:55.923694",
     "exception": false,
     "start_time": "2020-11-16T11:30:55.288829",
     "status": "completed"
    },
    "tags": []
   },
   "outputs": [],
   "source": [
    "train.drop(['click_or_view_at', 'cv_at','last_cv_interval', 'last_paid_interval'], axis=1, inplace=True)"
   ]
  },
  {
   "cell_type": "code",
   "execution_count": 6,
   "metadata": {
    "execution": {
     "iopub.execute_input": "2020-11-16T11:30:58.699353Z",
     "iopub.status.busy": "2020-11-16T11:30:58.698543Z",
     "iopub.status.idle": "2020-11-16T11:31:58.911233Z",
     "shell.execute_reply": "2020-11-16T11:31:58.910477Z"
    },
    "papermill": {
     "duration": 62.965446,
     "end_time": "2020-11-16T11:31:58.911390",
     "exception": false,
     "start_time": "2020-11-16T11:30:55.945944",
     "status": "completed"
    },
    "tags": []
   },
   "outputs": [
    {
     "name": "stdout",
     "output_type": "stream",
     "text": [
      "request_id\n",
      "advertiser_id\n",
      "app_id\n",
      "campaign_id\n",
      "country_code\n",
      "game_feed_id\n",
      "game_template_id\n",
      "media_app_id\n",
      "os_version\n",
      "uid\n",
      "video_template_id\n",
      "mst_advertiser_order_id\n"
     ]
    }
   ],
   "source": [
    "object_feats = [i for i in train.columns if \"object\" == str(train[i].dtype)]\n",
    "train[object_feats] = train[object_feats].fillna(\"-999\")\n",
    "test[object_feats] = test[object_feats].fillna(\"-999\")\n",
    "\n",
    "for i in object_feats:\n",
    "    print(i)\n",
    "    lbl = preprocessing.LabelEncoder()\n",
    "    lbl.fit(list(pd.concat([train[i], test[i]])))\n",
    "    train[i] = lbl.transform(list(train[i]))\n",
    "    test[i] = lbl.transform(list(test[i]))"
   ]
  },
  {
   "cell_type": "markdown",
   "metadata": {
    "papermill": {
     "duration": 0.026832,
     "end_time": "2020-11-16T11:31:58.966496",
     "exception": false,
     "start_time": "2020-11-16T11:31:58.939664",
     "status": "completed"
    },
    "tags": []
   },
   "source": [
    "# feature engineering"
   ]
  },
  {
   "cell_type": "code",
   "execution_count": 7,
   "metadata": {
    "execution": {
     "iopub.execute_input": "2020-11-16T11:31:59.030399Z",
     "iopub.status.busy": "2020-11-16T11:31:59.029326Z",
     "iopub.status.idle": "2020-11-16T11:32:04.770385Z",
     "shell.execute_reply": "2020-11-16T11:32:04.769693Z"
    },
    "papermill": {
     "duration": 5.77574,
     "end_time": "2020-11-16T11:32:04.770527",
     "exception": false,
     "start_time": "2020-11-16T11:31:58.994787",
     "status": "completed"
    },
    "tags": []
   },
   "outputs": [],
   "source": [
    "train[\"type\"] = \"train\"\n",
    "test[\"type\"] = \"test\"\n",
    "all_df = pd.concat([train, test])\n",
    "all_df = all_df.sort_values([\"uid\", \"imp_at\"]).reset_index(drop=True)"
   ]
  },
  {
   "cell_type": "code",
   "execution_count": 8,
   "metadata": {
    "execution": {
     "iopub.execute_input": "2020-11-16T11:32:04.831747Z",
     "iopub.status.busy": "2020-11-16T11:32:04.830897Z",
     "iopub.status.idle": "2020-11-16T11:32:05.054834Z",
     "shell.execute_reply": "2020-11-16T11:32:05.055409Z"
    },
    "papermill": {
     "duration": 0.257746,
     "end_time": "2020-11-16T11:32:05.055622",
     "exception": false,
     "start_time": "2020-11-16T11:32:04.797876",
     "status": "completed"
    },
    "tags": []
   },
   "outputs": [],
   "source": [
    "all_df[\"count\"] = 1\n",
    "all_df[\"count\"] = all_df.groupby(\"uid\")[\"count\"].cumsum()\n"
   ]
  },
  {
   "cell_type": "code",
   "execution_count": 9,
   "metadata": {
    "execution": {
     "iopub.execute_input": "2020-11-16T11:32:05.465390Z",
     "iopub.status.busy": "2020-11-16T11:32:05.464640Z",
     "iopub.status.idle": "2020-11-16T11:32:06.997100Z",
     "shell.execute_reply": "2020-11-16T11:32:06.996310Z"
    },
    "papermill": {
     "duration": 1.914296,
     "end_time": "2020-11-16T11:32:06.997247",
     "exception": false,
     "start_time": "2020-11-16T11:32:05.082951",
     "status": "completed"
    },
    "tags": []
   },
   "outputs": [],
   "source": [
    "train = all_df[all_df.type==\"train\"].drop(\"type\", axis=1).reset_index(drop=True)\n",
    "test = all_df[all_df.type==\"test\"].drop(\"type\", axis=1).reset_index(drop=True)"
   ]
  },
  {
   "cell_type": "code",
   "execution_count": 10,
   "metadata": {
    "execution": {
     "iopub.execute_input": "2020-11-16T11:32:07.061154Z",
     "iopub.status.busy": "2020-11-16T11:32:07.060229Z",
     "iopub.status.idle": "2020-11-16T11:32:08.738731Z",
     "shell.execute_reply": "2020-11-16T11:32:08.739295Z"
    },
    "papermill": {
     "duration": 1.713409,
     "end_time": "2020-11-16T11:32:08.739498",
     "exception": false,
     "start_time": "2020-11-16T11:32:07.026089",
     "status": "completed"
    },
    "tags": []
   },
   "outputs": [],
   "source": [
    "train = train.sort_values(\"imp_at\").reset_index(drop=True)\n",
    "test = test.sort_values(\"imp_at\").reset_index(drop=True)"
   ]
  },
  {
   "cell_type": "markdown",
   "metadata": {
    "papermill": {
     "duration": 0.027464,
     "end_time": "2020-11-16T11:32:08.795025",
     "exception": false,
     "start_time": "2020-11-16T11:32:08.767561",
     "status": "completed"
    },
    "tags": []
   },
   "source": [
    "# separation for validation"
   ]
  },
  {
   "cell_type": "code",
   "execution_count": 11,
   "metadata": {
    "execution": {
     "iopub.execute_input": "2020-11-16T11:32:09.073974Z",
     "iopub.status.busy": "2020-11-16T11:32:08.872918Z",
     "iopub.status.idle": "2020-11-16T11:32:09.092401Z",
     "shell.execute_reply": "2020-11-16T11:32:09.091245Z"
    },
    "papermill": {
     "duration": 0.269864,
     "end_time": "2020-11-16T11:32:09.092572",
     "exception": false,
     "start_time": "2020-11-16T11:32:08.822708",
     "status": "completed"
    },
    "tags": []
   },
   "outputs": [],
   "source": [
    "train.drop(['request_id'], axis=1, inplace=True)\n",
    "test.drop(['request_id'], axis=1, inplace=True)"
   ]
  },
  {
   "cell_type": "code",
   "execution_count": 12,
   "metadata": {
    "execution": {
     "iopub.execute_input": "2020-11-16T11:32:09.156459Z",
     "iopub.status.busy": "2020-11-16T11:32:09.155157Z",
     "iopub.status.idle": "2020-11-16T11:32:09.420913Z",
     "shell.execute_reply": "2020-11-16T11:32:09.420079Z"
    },
    "papermill": {
     "duration": 0.300546,
     "end_time": "2020-11-16T11:32:09.421045",
     "exception": false,
     "start_time": "2020-11-16T11:32:09.120499",
     "status": "completed"
    },
    "tags": []
   },
   "outputs": [],
   "source": [
    "mask = train.imp_at > \"2020-05-21\"\n",
    "valid = train.loc[mask].copy()\n",
    "train = train.loc[~mask]"
   ]
  },
  {
   "cell_type": "code",
   "execution_count": 13,
   "metadata": {
    "execution": {
     "iopub.execute_input": "2020-11-16T11:32:09.644812Z",
     "iopub.status.busy": "2020-11-16T11:32:09.624935Z",
     "iopub.status.idle": "2020-11-16T11:32:09.647725Z",
     "shell.execute_reply": "2020-11-16T11:32:09.648565Z"
    },
    "papermill": {
     "duration": 0.199009,
     "end_time": "2020-11-16T11:32:09.648728",
     "exception": false,
     "start_time": "2020-11-16T11:32:09.449719",
     "status": "completed"
    },
    "tags": []
   },
   "outputs": [],
   "source": [
    "remove_features = [\"imp_at\",\"game_feed_asset_type_id\",\"country_code\",\"pos\",\"video_template_id\"]\n",
    "    \n",
    "train = train.drop(remove_features, axis=1)\n",
    "valid = valid.drop(remove_features, axis=1)\n",
    "test = test.drop(remove_features, axis=1)"
   ]
  },
  {
   "cell_type": "code",
   "execution_count": 14,
   "metadata": {
    "execution": {
     "iopub.execute_input": "2020-11-16T11:32:09.729903Z",
     "iopub.status.busy": "2020-11-16T11:32:09.729106Z",
     "iopub.status.idle": "2020-11-16T11:32:09.732879Z",
     "shell.execute_reply": "2020-11-16T11:32:09.732199Z"
    },
    "papermill": {
     "duration": 0.056087,
     "end_time": "2020-11-16T11:32:09.733005",
     "exception": false,
     "start_time": "2020-11-16T11:32:09.676918",
     "status": "completed"
    },
    "tags": []
   },
   "outputs": [],
   "source": [
    "test = test.drop(\"target\", axis=1)"
   ]
  },
  {
   "cell_type": "code",
   "execution_count": 15,
   "metadata": {
    "execution": {
     "iopub.execute_input": "2020-11-16T11:32:09.798220Z",
     "iopub.status.busy": "2020-11-16T11:32:09.797231Z",
     "iopub.status.idle": "2020-11-16T11:32:09.802191Z",
     "shell.execute_reply": "2020-11-16T11:32:09.801481Z"
    },
    "papermill": {
     "duration": 0.04084,
     "end_time": "2020-11-16T11:32:09.802320",
     "exception": false,
     "start_time": "2020-11-16T11:32:09.761480",
     "status": "completed"
    },
    "tags": []
   },
   "outputs": [
    {
     "data": {
      "text/plain": [
       "((1568715, 28), (428880, 28), (390095, 27))"
      ]
     },
     "execution_count": 15,
     "metadata": {},
     "output_type": "execute_result"
    }
   ],
   "source": [
    "train.shape, valid.shape, test.shape"
   ]
  },
  {
   "cell_type": "code",
   "execution_count": 16,
   "metadata": {
    "execution": {
     "iopub.execute_input": "2020-11-16T11:32:09.877223Z",
     "iopub.status.busy": "2020-11-16T11:32:09.871022Z",
     "iopub.status.idle": "2020-11-16T11:32:09.898178Z",
     "shell.execute_reply": "2020-11-16T11:32:09.897531Z"
    },
    "papermill": {
     "duration": 0.066901,
     "end_time": "2020-11-16T11:32:09.898313",
     "exception": false,
     "start_time": "2020-11-16T11:32:09.831412",
     "status": "completed"
    },
    "tags": []
   },
   "outputs": [
    {
     "data": {
      "text/html": [
       "<div>\n",
       "<style scoped>\n",
       "    .dataframe tbody tr th:only-of-type {\n",
       "        vertical-align: middle;\n",
       "    }\n",
       "\n",
       "    .dataframe tbody tr th {\n",
       "        vertical-align: top;\n",
       "    }\n",
       "\n",
       "    .dataframe thead th {\n",
       "        text-align: right;\n",
       "    }\n",
       "</style>\n",
       "<table border=\"1\" class=\"dataframe\">\n",
       "  <thead>\n",
       "    <tr style=\"text-align: right;\">\n",
       "      <th></th>\n",
       "      <th>target</th>\n",
       "      <th>adnw_id</th>\n",
       "      <th>adspot_id</th>\n",
       "      <th>adspot_video_format_id</th>\n",
       "      <th>advertiser_id</th>\n",
       "      <th>app_id</th>\n",
       "      <th>auction_type_id</th>\n",
       "      <th>campaign_id</th>\n",
       "      <th>category_id</th>\n",
       "      <th>first_login_interval</th>\n",
       "      <th>...</th>\n",
       "      <th>login_frequency</th>\n",
       "      <th>max_login_interval</th>\n",
       "      <th>media_app_id</th>\n",
       "      <th>os</th>\n",
       "      <th>os_version</th>\n",
       "      <th>uid</th>\n",
       "      <th>user_type_id</th>\n",
       "      <th>mst_advertiser_order_id</th>\n",
       "      <th>mst_user_type_id</th>\n",
       "      <th>count</th>\n",
       "    </tr>\n",
       "  </thead>\n",
       "  <tbody>\n",
       "    <tr>\n",
       "      <th>0</th>\n",
       "      <td>0.0</td>\n",
       "      <td>4</td>\n",
       "      <td>1111</td>\n",
       "      <td>2.0</td>\n",
       "      <td>20</td>\n",
       "      <td>14872</td>\n",
       "      <td>1.0</td>\n",
       "      <td>403</td>\n",
       "      <td>8497</td>\n",
       "      <td>1490644.0</td>\n",
       "      <td>...</td>\n",
       "      <td>10.0</td>\n",
       "      <td>2607.0</td>\n",
       "      <td>0</td>\n",
       "      <td>1</td>\n",
       "      <td>87</td>\n",
       "      <td>273693</td>\n",
       "      <td>1</td>\n",
       "      <td>37</td>\n",
       "      <td>35</td>\n",
       "      <td>1</td>\n",
       "    </tr>\n",
       "    <tr>\n",
       "      <th>1</th>\n",
       "      <td>0.0</td>\n",
       "      <td>28</td>\n",
       "      <td>1081</td>\n",
       "      <td>2.0</td>\n",
       "      <td>121</td>\n",
       "      <td>8301</td>\n",
       "      <td>2.0</td>\n",
       "      <td>91</td>\n",
       "      <td>0</td>\n",
       "      <td>790412.0</td>\n",
       "      <td>...</td>\n",
       "      <td>2.0</td>\n",
       "      <td>13540.0</td>\n",
       "      <td>8995</td>\n",
       "      <td>2</td>\n",
       "      <td>152</td>\n",
       "      <td>427139</td>\n",
       "      <td>2</td>\n",
       "      <td>166</td>\n",
       "      <td>37</td>\n",
       "      <td>1</td>\n",
       "    </tr>\n",
       "    <tr>\n",
       "      <th>2</th>\n",
       "      <td>0.0</td>\n",
       "      <td>42</td>\n",
       "      <td>1123</td>\n",
       "      <td>3.0</td>\n",
       "      <td>5</td>\n",
       "      <td>12948</td>\n",
       "      <td>1.0</td>\n",
       "      <td>114</td>\n",
       "      <td>0</td>\n",
       "      <td>1506105.0</td>\n",
       "      <td>...</td>\n",
       "      <td>9.0</td>\n",
       "      <td>33725.0</td>\n",
       "      <td>347</td>\n",
       "      <td>1</td>\n",
       "      <td>55</td>\n",
       "      <td>1005266</td>\n",
       "      <td>1</td>\n",
       "      <td>27</td>\n",
       "      <td>35</td>\n",
       "      <td>1</td>\n",
       "    </tr>\n",
       "    <tr>\n",
       "      <th>3</th>\n",
       "      <td>0.0</td>\n",
       "      <td>8</td>\n",
       "      <td>1113</td>\n",
       "      <td>2.0</td>\n",
       "      <td>22</td>\n",
       "      <td>12379</td>\n",
       "      <td>1.0</td>\n",
       "      <td>75</td>\n",
       "      <td>0</td>\n",
       "      <td>184283.0</td>\n",
       "      <td>...</td>\n",
       "      <td>4.0</td>\n",
       "      <td>7377.0</td>\n",
       "      <td>6145</td>\n",
       "      <td>1</td>\n",
       "      <td>91</td>\n",
       "      <td>492541</td>\n",
       "      <td>1</td>\n",
       "      <td>159</td>\n",
       "      <td>38</td>\n",
       "      <td>1</td>\n",
       "    </tr>\n",
       "    <tr>\n",
       "      <th>4</th>\n",
       "      <td>0.0</td>\n",
       "      <td>22</td>\n",
       "      <td>1061</td>\n",
       "      <td>NaN</td>\n",
       "      <td>135</td>\n",
       "      <td>196</td>\n",
       "      <td>4.0</td>\n",
       "      <td>331</td>\n",
       "      <td>0</td>\n",
       "      <td>1999495.0</td>\n",
       "      <td>...</td>\n",
       "      <td>5.0</td>\n",
       "      <td>164759.0</td>\n",
       "      <td>2190</td>\n",
       "      <td>1</td>\n",
       "      <td>71</td>\n",
       "      <td>698493</td>\n",
       "      <td>1</td>\n",
       "      <td>56</td>\n",
       "      <td>35</td>\n",
       "      <td>1</td>\n",
       "    </tr>\n",
       "  </tbody>\n",
       "</table>\n",
       "<p>5 rows × 28 columns</p>\n",
       "</div>"
      ],
      "text/plain": [
       "   target  adnw_id  adspot_id  adspot_video_format_id  advertiser_id  app_id  \\\n",
       "0     0.0        4       1111                     2.0             20   14872   \n",
       "1     0.0       28       1081                     2.0            121    8301   \n",
       "2     0.0       42       1123                     3.0              5   12948   \n",
       "3     0.0        8       1113                     2.0             22   12379   \n",
       "4     0.0       22       1061                     NaN            135     196   \n",
       "\n",
       "   auction_type_id  campaign_id  category_id  first_login_interval  ...  \\\n",
       "0              1.0          403         8497             1490644.0  ...   \n",
       "1              2.0           91            0              790412.0  ...   \n",
       "2              1.0          114            0             1506105.0  ...   \n",
       "3              1.0           75            0              184283.0  ...   \n",
       "4              4.0          331            0             1999495.0  ...   \n",
       "\n",
       "   login_frequency  max_login_interval  media_app_id  os  os_version      uid  \\\n",
       "0             10.0              2607.0             0   1          87   273693   \n",
       "1              2.0             13540.0          8995   2         152   427139   \n",
       "2              9.0             33725.0           347   1          55  1005266   \n",
       "3              4.0              7377.0          6145   1          91   492541   \n",
       "4              5.0            164759.0          2190   1          71   698493   \n",
       "\n",
       "   user_type_id  mst_advertiser_order_id  mst_user_type_id  count  \n",
       "0             1                       37                35      1  \n",
       "1             2                      166                37      1  \n",
       "2             1                       27                35      1  \n",
       "3             1                      159                38      1  \n",
       "4             1                       56                35      1  \n",
       "\n",
       "[5 rows x 28 columns]"
      ]
     },
     "execution_count": 16,
     "metadata": {},
     "output_type": "execute_result"
    }
   ],
   "source": [
    "train.head()"
   ]
  },
  {
   "cell_type": "markdown",
   "metadata": {
    "papermill": {
     "duration": 0.031232,
     "end_time": "2020-11-16T11:32:09.961161",
     "exception": false,
     "start_time": "2020-11-16T11:32:09.929929",
     "status": "completed"
    },
    "tags": []
   },
   "source": [
    "# modelling"
   ]
  },
  {
   "cell_type": "code",
   "execution_count": 17,
   "metadata": {
    "execution": {
     "iopub.execute_input": "2020-11-16T11:32:10.027670Z",
     "iopub.status.busy": "2020-11-16T11:32:10.026887Z",
     "iopub.status.idle": "2020-11-16T11:32:10.029969Z",
     "shell.execute_reply": "2020-11-16T11:32:10.029216Z"
    },
    "papermill": {
     "duration": 0.038869,
     "end_time": "2020-11-16T11:32:10.030097",
     "exception": false,
     "start_time": "2020-11-16T11:32:09.991228",
     "status": "completed"
    },
    "tags": []
   },
   "outputs": [],
   "source": [
    "object_feats = [i for i in object_feats if i not in remove_features and i != \"request_id\"] "
   ]
  },
  {
   "cell_type": "code",
   "execution_count": 18,
   "metadata": {
    "_cell_guid": "79c7e3d0-c299-4dcb-8224-4455121ee9b0",
    "_uuid": "d629ff2d2480ee46fbb7e2d37f6b5fab8052498a",
    "execution": {
     "iopub.execute_input": "2020-11-16T11:32:10.115036Z",
     "iopub.status.busy": "2020-11-16T11:32:10.113732Z",
     "iopub.status.idle": "2020-11-16T11:42:28.376518Z",
     "shell.execute_reply": "2020-11-16T11:42:28.375664Z"
    },
    "papermill": {
     "duration": 618.316071,
     "end_time": "2020-11-16T11:42:28.376700",
     "exception": false,
     "start_time": "2020-11-16T11:32:10.060629",
     "status": "completed"
    },
    "tags": []
   },
   "outputs": [
    {
     "name": "stdout",
     "output_type": "stream",
     "text": [
      "seed: 0\n"
     ]
    },
    {
     "name": "stderr",
     "output_type": "stream",
     "text": [
      "/opt/conda/lib/python3.7/site-packages/lightgbm/basic.py:1295: UserWarning: categorical_feature in Dataset is overridden.\n",
      "New categorical_feature is ['advertiser_id', 'app_id', 'campaign_id', 'game_feed_id', 'game_template_id', 'media_app_id', 'mst_advertiser_order_id', 'os_version', 'uid']\n",
      "  'New categorical_feature is {}'.format(sorted(list(categorical_feature))))\n"
     ]
    },
    {
     "name": "stdout",
     "output_type": "stream",
     "text": [
      "Training until validation scores don't improve for 20 rounds\n",
      "[10]\ttraining's pr_auc: 0.218983\tvalid_1's pr_auc: 0.186681\n",
      "[20]\ttraining's pr_auc: 0.227657\tvalid_1's pr_auc: 0.192593\n",
      "[30]\ttraining's pr_auc: 0.239137\tvalid_1's pr_auc: 0.201551\n",
      "[40]\ttraining's pr_auc: 0.248891\tvalid_1's pr_auc: 0.206128\n",
      "[50]\ttraining's pr_auc: 0.254504\tvalid_1's pr_auc: 0.20917\n",
      "[60]\ttraining's pr_auc: 0.259856\tvalid_1's pr_auc: 0.210941\n",
      "[70]\ttraining's pr_auc: 0.264055\tvalid_1's pr_auc: 0.212033\n",
      "[80]\ttraining's pr_auc: 0.267766\tvalid_1's pr_auc: 0.213201\n",
      "[90]\ttraining's pr_auc: 0.271274\tvalid_1's pr_auc: 0.21347\n",
      "[100]\ttraining's pr_auc: 0.274208\tvalid_1's pr_auc: 0.213923\n",
      "[110]\ttraining's pr_auc: 0.276675\tvalid_1's pr_auc: 0.214779\n",
      "[120]\ttraining's pr_auc: 0.27941\tvalid_1's pr_auc: 0.214957\n",
      "[130]\ttraining's pr_auc: 0.281444\tvalid_1's pr_auc: 0.215017\n",
      "[140]\ttraining's pr_auc: 0.283942\tvalid_1's pr_auc: 0.214909\n",
      "[150]\ttraining's pr_auc: 0.285781\tvalid_1's pr_auc: 0.215443\n",
      "[160]\ttraining's pr_auc: 0.287285\tvalid_1's pr_auc: 0.215408\n",
      "[170]\ttraining's pr_auc: 0.288831\tvalid_1's pr_auc: 0.215452\n",
      "[180]\ttraining's pr_auc: 0.289942\tvalid_1's pr_auc: 0.215536\n",
      "[190]\ttraining's pr_auc: 0.29196\tvalid_1's pr_auc: 0.215686\n",
      "[200]\ttraining's pr_auc: 0.293623\tvalid_1's pr_auc: 0.215745\n",
      "[210]\ttraining's pr_auc: 0.295566\tvalid_1's pr_auc: 0.215933\n",
      "[220]\ttraining's pr_auc: 0.296798\tvalid_1's pr_auc: 0.216035\n",
      "[230]\ttraining's pr_auc: 0.298485\tvalid_1's pr_auc: 0.216069\n",
      "Early stopping, best iteration is:\n",
      "[217]\ttraining's pr_auc: 0.2964\tvalid_1's pr_auc: 0.216163\n",
      "average precision score = 0.21616268932277816\n",
      "seed: 1\n",
      "Training until validation scores don't improve for 20 rounds\n",
      "[10]\ttraining's pr_auc: 0.222093\tvalid_1's pr_auc: 0.187932\n",
      "[20]\ttraining's pr_auc: 0.23189\tvalid_1's pr_auc: 0.195668\n",
      "[30]\ttraining's pr_auc: 0.240924\tvalid_1's pr_auc: 0.202232\n",
      "[40]\ttraining's pr_auc: 0.250804\tvalid_1's pr_auc: 0.207062\n",
      "[50]\ttraining's pr_auc: 0.255724\tvalid_1's pr_auc: 0.209873\n",
      "[60]\ttraining's pr_auc: 0.261035\tvalid_1's pr_auc: 0.211991\n",
      "[70]\ttraining's pr_auc: 0.265686\tvalid_1's pr_auc: 0.213802\n",
      "[80]\ttraining's pr_auc: 0.26973\tvalid_1's pr_auc: 0.214413\n",
      "[90]\ttraining's pr_auc: 0.273309\tvalid_1's pr_auc: 0.215029\n",
      "[100]\ttraining's pr_auc: 0.275886\tvalid_1's pr_auc: 0.215446\n",
      "[110]\ttraining's pr_auc: 0.278706\tvalid_1's pr_auc: 0.215878\n",
      "[120]\ttraining's pr_auc: 0.281253\tvalid_1's pr_auc: 0.216288\n",
      "[130]\ttraining's pr_auc: 0.283716\tvalid_1's pr_auc: 0.216628\n",
      "[140]\ttraining's pr_auc: 0.28552\tvalid_1's pr_auc: 0.217\n",
      "[150]\ttraining's pr_auc: 0.286767\tvalid_1's pr_auc: 0.216828\n",
      "[160]\ttraining's pr_auc: 0.288907\tvalid_1's pr_auc: 0.216998\n",
      "[170]\ttraining's pr_auc: 0.290839\tvalid_1's pr_auc: 0.217146\n",
      "[180]\ttraining's pr_auc: 0.291938\tvalid_1's pr_auc: 0.217372\n",
      "[190]\ttraining's pr_auc: 0.292277\tvalid_1's pr_auc: 0.216168\n",
      "Early stopping, best iteration is:\n",
      "[179]\ttraining's pr_auc: 0.291697\tvalid_1's pr_auc: 0.217411\n",
      "average precision score = 0.21741068009601022\n",
      "seed: 2\n",
      "Training until validation scores don't improve for 20 rounds\n",
      "[10]\ttraining's pr_auc: 0.219239\tvalid_1's pr_auc: 0.185212\n",
      "[20]\ttraining's pr_auc: 0.230505\tvalid_1's pr_auc: 0.192791\n",
      "[30]\ttraining's pr_auc: 0.243372\tvalid_1's pr_auc: 0.202054\n",
      "[40]\ttraining's pr_auc: 0.250181\tvalid_1's pr_auc: 0.205711\n",
      "[50]\ttraining's pr_auc: 0.255404\tvalid_1's pr_auc: 0.207999\n",
      "[60]\ttraining's pr_auc: 0.260457\tvalid_1's pr_auc: 0.210141\n",
      "[70]\ttraining's pr_auc: 0.265479\tvalid_1's pr_auc: 0.2118\n",
      "[80]\ttraining's pr_auc: 0.269388\tvalid_1's pr_auc: 0.212944\n",
      "[90]\ttraining's pr_auc: 0.272836\tvalid_1's pr_auc: 0.213708\n",
      "[100]\ttraining's pr_auc: 0.275525\tvalid_1's pr_auc: 0.214198\n",
      "[110]\ttraining's pr_auc: 0.278221\tvalid_1's pr_auc: 0.214576\n",
      "[120]\ttraining's pr_auc: 0.280273\tvalid_1's pr_auc: 0.214331\n",
      "[130]\ttraining's pr_auc: 0.282258\tvalid_1's pr_auc: 0.214802\n",
      "[140]\ttraining's pr_auc: 0.284165\tvalid_1's pr_auc: 0.214763\n",
      "[150]\ttraining's pr_auc: 0.285914\tvalid_1's pr_auc: 0.214862\n",
      "[160]\ttraining's pr_auc: 0.287303\tvalid_1's pr_auc: 0.215004\n",
      "[170]\ttraining's pr_auc: 0.288893\tvalid_1's pr_auc: 0.215296\n",
      "[180]\ttraining's pr_auc: 0.290573\tvalid_1's pr_auc: 0.215135\n",
      "[190]\ttraining's pr_auc: 0.292537\tvalid_1's pr_auc: 0.215148\n",
      "Early stopping, best iteration is:\n",
      "[170]\ttraining's pr_auc: 0.288893\tvalid_1's pr_auc: 0.215296\n",
      "average precision score = 0.2152960084652356\n",
      "0.21793538158047182\n"
     ]
    }
   ],
   "source": [
    "def pr_auc_metric(y_predicted, y_true):\n",
    "    return 'pr_auc', average_precision_score(y_true.get_label(), y_predicted), True\n",
    "\n",
    "def modelling(seed):\n",
    "    print(\"seed:\", seed)\n",
    "    lgbm_params = {'objective': 'binary', 'metric': 'None', 'boosting_type': 'gbdt', \"bagging_fraction\": 0.9,\n",
    "               'tree_learner': 'serial', 'learning_rate': 0.1, \"num_leaves\": 10, 'random_seed':seed,'max_depth': 5}\n",
    "    y_train = train.target.copy()\n",
    "    X_train = train.drop(['target'],axis=1).copy()\n",
    "    y_valid = valid.target.copy()\n",
    "    X_valid = valid.drop(['target'],axis=1).copy()\n",
    "    \n",
    "    valid_lgb = pd.DataFrame(np.zeros([X_train.shape[0]]))\n",
    "    real = np.array([])\n",
    "    features_list = [i for i in X_train.columns]\n",
    "    feature_importance_df = pd.DataFrame(features_list, columns=[\"Feature\"])\n",
    "        \n",
    "    lgb_train = lgb.Dataset(X_train, y_train)\n",
    "    lgb_eval = lgb.Dataset(X_valid, y_valid, reference=lgb_train)\n",
    "        \n",
    "    model = lgb.train(lgbm_params, lgb_train,valid_sets=[lgb_train, lgb_eval],\n",
    "       num_boost_round=10000,early_stopping_rounds=20,verbose_eval = 10, feval=pr_auc_metric, categorical_feature = sorted(object_feats))\n",
    "        \n",
    "    valid_predict = model.predict(X_valid, num_iteration = model.best_iteration)\n",
    "    feature_importance_df[\"Importance\"] = model.feature_importance()\n",
    "        \n",
    "    score = average_precision_score(y_valid, valid_predict)\n",
    "    print(\"average precision score = {}\".format(score))\n",
    "    pred_value = model.predict(test, num_iteration = model.best_iteration)\n",
    "    \n",
    "    return pred_value, valid_predict, feature_importance_df\n",
    "\n",
    "validation = np.zeros([valid.shape[0]])\n",
    "pred_value = np.zeros([test.shape[0]])\n",
    "seeds = [0,1,2]\n",
    "for seed_ in seeds:\n",
    "    test_pred, oof_predict, feature_importance_df = modelling(seed_)\n",
    "    validation += oof_predict / len(seeds)\n",
    "    pred_value += test_pred / len(seeds)\n",
    "\n",
    "score = average_precision_score(valid.target, validation)\n",
    "print(score)"
   ]
  },
  {
   "cell_type": "markdown",
   "metadata": {
    "papermill": {
     "duration": 0.060464,
     "end_time": "2020-11-16T11:42:28.499567",
     "exception": false,
     "start_time": "2020-11-16T11:42:28.439103",
     "status": "completed"
    },
    "tags": []
   },
   "source": [
    "- average precision score = 0.21616268932277816\n",
    "- average precision score = 0.21741068009601022\n",
    "- average precision score = 0.2152960084652356\n",
    "- 0.21775845685346568"
   ]
  },
  {
   "cell_type": "code",
   "execution_count": 19,
   "metadata": {
    "execution": {
     "iopub.execute_input": "2020-11-16T11:42:28.639463Z",
     "iopub.status.busy": "2020-11-16T11:42:28.638288Z",
     "iopub.status.idle": "2020-11-16T11:42:28.644109Z",
     "shell.execute_reply": "2020-11-16T11:42:28.643323Z"
    },
    "papermill": {
     "duration": 0.08041,
     "end_time": "2020-11-16T11:42:28.644235",
     "exception": false,
     "start_time": "2020-11-16T11:42:28.563825",
     "status": "completed"
    },
    "tags": []
   },
   "outputs": [
    {
     "data": {
      "text/html": [
       "<div>\n",
       "<style scoped>\n",
       "    .dataframe tbody tr th:only-of-type {\n",
       "        vertical-align: middle;\n",
       "    }\n",
       "\n",
       "    .dataframe tbody tr th {\n",
       "        vertical-align: top;\n",
       "    }\n",
       "\n",
       "    .dataframe thead th {\n",
       "        text-align: right;\n",
       "    }\n",
       "</style>\n",
       "<table border=\"1\" class=\"dataframe\">\n",
       "  <thead>\n",
       "    <tr style=\"text-align: right;\">\n",
       "      <th></th>\n",
       "      <th>Feature</th>\n",
       "      <th>Importance</th>\n",
       "    </tr>\n",
       "  </thead>\n",
       "  <tbody>\n",
       "    <tr>\n",
       "      <th>4</th>\n",
       "      <td>app_id</td>\n",
       "      <td>309</td>\n",
       "    </tr>\n",
       "    <tr>\n",
       "      <th>11</th>\n",
       "      <td>game_feed_id</td>\n",
       "      <td>293</td>\n",
       "    </tr>\n",
       "    <tr>\n",
       "      <th>6</th>\n",
       "      <td>campaign_id</td>\n",
       "      <td>232</td>\n",
       "    </tr>\n",
       "    <tr>\n",
       "      <th>22</th>\n",
       "      <td>uid</td>\n",
       "      <td>161</td>\n",
       "    </tr>\n",
       "    <tr>\n",
       "      <th>19</th>\n",
       "      <td>media_app_id</td>\n",
       "      <td>114</td>\n",
       "    </tr>\n",
       "    <tr>\n",
       "      <th>3</th>\n",
       "      <td>advertiser_id</td>\n",
       "      <td>69</td>\n",
       "    </tr>\n",
       "    <tr>\n",
       "      <th>26</th>\n",
       "      <td>count</td>\n",
       "      <td>58</td>\n",
       "    </tr>\n",
       "    <tr>\n",
       "      <th>8</th>\n",
       "      <td>first_login_interval</td>\n",
       "      <td>46</td>\n",
       "    </tr>\n",
       "    <tr>\n",
       "      <th>16</th>\n",
       "      <td>last_login_interval</td>\n",
       "      <td>41</td>\n",
       "    </tr>\n",
       "    <tr>\n",
       "      <th>17</th>\n",
       "      <td>login_frequency</td>\n",
       "      <td>36</td>\n",
       "    </tr>\n",
       "    <tr>\n",
       "      <th>18</th>\n",
       "      <td>max_login_interval</td>\n",
       "      <td>35</td>\n",
       "    </tr>\n",
       "    <tr>\n",
       "      <th>24</th>\n",
       "      <td>mst_advertiser_order_id</td>\n",
       "      <td>30</td>\n",
       "    </tr>\n",
       "    <tr>\n",
       "      <th>10</th>\n",
       "      <td>from_click</td>\n",
       "      <td>22</td>\n",
       "    </tr>\n",
       "    <tr>\n",
       "      <th>25</th>\n",
       "      <td>mst_user_type_id</td>\n",
       "      <td>18</td>\n",
       "    </tr>\n",
       "    <tr>\n",
       "      <th>15</th>\n",
       "      <td>item_id</td>\n",
       "      <td>15</td>\n",
       "    </tr>\n",
       "    <tr>\n",
       "      <th>21</th>\n",
       "      <td>os_version</td>\n",
       "      <td>14</td>\n",
       "    </tr>\n",
       "    <tr>\n",
       "      <th>2</th>\n",
       "      <td>adspot_video_format_id</td>\n",
       "      <td>11</td>\n",
       "    </tr>\n",
       "    <tr>\n",
       "      <th>9</th>\n",
       "      <td>frequency</td>\n",
       "      <td>9</td>\n",
       "    </tr>\n",
       "    <tr>\n",
       "      <th>1</th>\n",
       "      <td>adspot_id</td>\n",
       "      <td>8</td>\n",
       "    </tr>\n",
       "    <tr>\n",
       "      <th>12</th>\n",
       "      <td>game_template_id</td>\n",
       "      <td>3</td>\n",
       "    </tr>\n",
       "    <tr>\n",
       "      <th>23</th>\n",
       "      <td>user_type_id</td>\n",
       "      <td>1</td>\n",
       "    </tr>\n",
       "    <tr>\n",
       "      <th>0</th>\n",
       "      <td>adnw_id</td>\n",
       "      <td>1</td>\n",
       "    </tr>\n",
       "    <tr>\n",
       "      <th>20</th>\n",
       "      <td>os</td>\n",
       "      <td>1</td>\n",
       "    </tr>\n",
       "    <tr>\n",
       "      <th>14</th>\n",
       "      <td>is_interstitial</td>\n",
       "      <td>1</td>\n",
       "    </tr>\n",
       "    <tr>\n",
       "      <th>7</th>\n",
       "      <td>category_id</td>\n",
       "      <td>1</td>\n",
       "    </tr>\n",
       "    <tr>\n",
       "      <th>5</th>\n",
       "      <td>auction_type_id</td>\n",
       "      <td>1</td>\n",
       "    </tr>\n",
       "    <tr>\n",
       "      <th>13</th>\n",
       "      <td>header_bidding</td>\n",
       "      <td>0</td>\n",
       "    </tr>\n",
       "  </tbody>\n",
       "</table>\n",
       "</div>"
      ],
      "text/plain": [
       "                    Feature  Importance\n",
       "4                    app_id         309\n",
       "11             game_feed_id         293\n",
       "6               campaign_id         232\n",
       "22                      uid         161\n",
       "19             media_app_id         114\n",
       "3             advertiser_id          69\n",
       "26                    count          58\n",
       "8      first_login_interval          46\n",
       "16      last_login_interval          41\n",
       "17          login_frequency          36\n",
       "18       max_login_interval          35\n",
       "24  mst_advertiser_order_id          30\n",
       "10               from_click          22\n",
       "25         mst_user_type_id          18\n",
       "15                  item_id          15\n",
       "21               os_version          14\n",
       "2    adspot_video_format_id          11\n",
       "9                 frequency           9\n",
       "1                 adspot_id           8\n",
       "12         game_template_id           3\n",
       "23             user_type_id           1\n",
       "0                   adnw_id           1\n",
       "20                       os           1\n",
       "14          is_interstitial           1\n",
       "7               category_id           1\n",
       "5           auction_type_id           1\n",
       "13           header_bidding           0"
      ]
     },
     "execution_count": 19,
     "metadata": {},
     "output_type": "execute_result"
    }
   ],
   "source": [
    "feature_importance_df.sort_values(\"Importance\", ascending=False)"
   ]
  },
  {
   "cell_type": "markdown",
   "metadata": {
    "papermill": {
     "duration": 0.061037,
     "end_time": "2020-11-16T11:42:28.766817",
     "exception": false,
     "start_time": "2020-11-16T11:42:28.705780",
     "status": "completed"
    },
    "tags": []
   },
   "source": [
    "# submission"
   ]
  },
  {
   "cell_type": "code",
   "execution_count": 20,
   "metadata": {
    "execution": {
     "iopub.execute_input": "2020-11-16T11:42:28.898179Z",
     "iopub.status.busy": "2020-11-16T11:42:28.897356Z",
     "iopub.status.idle": "2020-11-16T11:42:31.026562Z",
     "shell.execute_reply": "2020-11-16T11:42:31.025614Z"
    },
    "papermill": {
     "duration": 2.198712,
     "end_time": "2020-11-16T11:42:31.026702",
     "exception": false,
     "start_time": "2020-11-16T11:42:28.827990",
     "status": "completed"
    },
    "tags": []
   },
   "outputs": [],
   "source": [
    "lgb_sub = pd.read_csv(DIR + \"atmaCup7__sample_submission.csv\")\n",
    "lgb_sub[\"target\"] = pred_value\n",
    "lgb_sub.to_csv(\"atmacup7_lgb\"+str(score)[:-10]+\".csv\", index = False)"
   ]
  },
  {
   "cell_type": "code",
   "execution_count": null,
   "metadata": {
    "papermill": {
     "duration": 0.061701,
     "end_time": "2020-11-16T11:42:31.152175",
     "exception": false,
     "start_time": "2020-11-16T11:42:31.090474",
     "status": "completed"
    },
    "tags": []
   },
   "outputs": [],
   "source": []
  }
 ],
 "metadata": {
  "kernelspec": {
   "display_name": "Python 3",
   "language": "python",
   "name": "python3"
  },
  "language_info": {
   "codemirror_mode": {
    "name": "ipython",
    "version": 3
   },
   "file_extension": ".py",
   "mimetype": "text/x-python",
   "name": "python",
   "nbconvert_exporter": "python",
   "pygments_lexer": "ipython3",
   "version": "3.7.6"
  },
  "papermill": {
   "duration": 740.441216,
   "end_time": "2020-11-16T11:42:31.323825",
   "environment_variables": {},
   "exception": null,
   "input_path": "__notebook__.ipynb",
   "output_path": "__notebook__.ipynb",
   "parameters": {},
   "start_time": "2020-11-16T11:30:10.882609",
   "version": "2.1.0"
  }
 },
 "nbformat": 4,
 "nbformat_minor": 4
}
