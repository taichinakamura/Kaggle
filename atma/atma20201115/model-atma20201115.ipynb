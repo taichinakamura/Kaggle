{
 "cells": [
  {
   "cell_type": "markdown",
   "metadata": {
    "papermill": {
     "duration": 0.029726,
     "end_time": "2020-11-18T11:19:24.498408",
     "exception": false,
     "start_time": "2020-11-18T11:19:24.468682",
     "status": "completed"
    },
    "tags": []
   },
   "source": [
    "- remove uid\n",
    "- do not consider uid in label encoding and smoothing"
   ]
  },
  {
   "cell_type": "code",
   "execution_count": 1,
   "metadata": {
    "execution": {
     "iopub.execute_input": "2020-11-18T11:19:24.561290Z",
     "iopub.status.busy": "2020-11-18T11:19:24.560486Z",
     "iopub.status.idle": "2020-11-18T11:19:35.673345Z",
     "shell.execute_reply": "2020-11-18T11:19:35.672649Z"
    },
    "papermill": {
     "duration": 11.146733,
     "end_time": "2020-11-18T11:19:35.673495",
     "exception": false,
     "start_time": "2020-11-18T11:19:24.526762",
     "status": "completed"
    },
    "tags": []
   },
   "outputs": [
    {
     "name": "stdout",
     "output_type": "stream",
     "text": [
      "Collecting jpholiday\r\n",
      "  Downloading jpholiday-0.1.4-py3-none-any.whl (8.5 kB)\r\n",
      "Installing collected packages: jpholiday\r\n",
      "Successfully installed jpholiday-0.1.4\r\n"
     ]
    }
   ],
   "source": [
    "!pip install jpholiday "
   ]
  },
  {
   "cell_type": "code",
   "execution_count": 2,
   "metadata": {
    "_cell_guid": "b1076dfc-b9ad-4769-8c92-a6c4dae69d19",
    "_uuid": "8f2839f25d086af736a60e9eeb907d3b93b6e0e5",
    "execution": {
     "iopub.execute_input": "2020-11-18T11:19:35.743241Z",
     "iopub.status.busy": "2020-11-18T11:19:35.742164Z",
     "iopub.status.idle": "2020-11-18T11:19:36.812546Z",
     "shell.execute_reply": "2020-11-18T11:19:36.811622Z"
    },
    "papermill": {
     "duration": 1.108693,
     "end_time": "2020-11-18T11:19:36.812688",
     "exception": false,
     "start_time": "2020-11-18T11:19:35.703995",
     "status": "completed"
    },
    "tags": []
   },
   "outputs": [],
   "source": [
    "import os\n",
    "import jpholiday\n",
    "import numpy as np\n",
    "import pandas as pd\n",
    "import warnings\n",
    "import lightgbm as lgb\n",
    "from sklearn import preprocessing\n",
    "from datetime import timedelta\n",
    "from tqdm.notebook import tqdm_notebook\n",
    "from sklearn.metrics import average_precision_score\n",
    "from sklearn.model_selection import StratifiedKFold\n",
    "warnings.filterwarnings('ignore')\n",
    "tqdm_notebook.pandas(desc=\"progress: \")"
   ]
  },
  {
   "cell_type": "code",
   "execution_count": 3,
   "metadata": {
    "execution": {
     "iopub.execute_input": "2020-11-18T11:19:36.883347Z",
     "iopub.status.busy": "2020-11-18T11:19:36.882504Z",
     "iopub.status.idle": "2020-11-18T11:20:00.165689Z",
     "shell.execute_reply": "2020-11-18T11:20:00.164973Z"
    },
    "papermill": {
     "duration": 23.321173,
     "end_time": "2020-11-18T11:20:00.165844",
     "exception": false,
     "start_time": "2020-11-18T11:19:36.844671",
     "status": "completed"
    },
    "tags": []
   },
   "outputs": [],
   "source": [
    "DIR = \"../input/20201115at/\"\n",
    "train = pd.read_csv(DIR+\"train.csv\")\n",
    "test = pd.read_csv(DIR+\"test.csv\")\n",
    "campaign = pd.read_csv(DIR+\"campaign.csv\")\n",
    "\n",
    "#advertiser_video = pd.read_csv(DIR+\"advertiser_video.csv\")\n",
    "#map_game_feed_native_video_assets = pd.read_csv(DIR+'map_game_feed_native_video_assets.csv')\n",
    "#advertiser_converted_video = pd.read_csv(DIR+\"advertiser_converted_video.csv\")"
   ]
  },
  {
   "cell_type": "code",
   "execution_count": 4,
   "metadata": {
    "execution": {
     "iopub.execute_input": "2020-11-18T11:20:00.231848Z",
     "iopub.status.busy": "2020-11-18T11:20:00.231097Z",
     "iopub.status.idle": "2020-11-18T11:20:00.234197Z",
     "shell.execute_reply": "2020-11-18T11:20:00.233440Z"
    },
    "papermill": {
     "duration": 0.037663,
     "end_time": "2020-11-18T11:20:00.234327",
     "exception": false,
     "start_time": "2020-11-18T11:20:00.196664",
     "status": "completed"
    },
    "tags": []
   },
   "outputs": [],
   "source": [
    "#cols = [\"mst_advertiser_video_id\", \"mst_game_feed_id\", \"mst_video_template_id\"]\n",
    "#advertiser_converted_video = advertiser_converted_video[~advertiser_converted_video[cols].duplicated(keep=\"last\")]"
   ]
  },
  {
   "cell_type": "markdown",
   "metadata": {
    "papermill": {
     "duration": 0.030329,
     "end_time": "2020-11-18T11:20:00.295471",
     "exception": false,
     "start_time": "2020-11-18T11:20:00.265142",
     "status": "completed"
    },
    "tags": []
   },
   "source": [
    "# preprocess"
   ]
  },
  {
   "cell_type": "code",
   "execution_count": 5,
   "metadata": {
    "execution": {
     "iopub.execute_input": "2020-11-18T11:20:00.620021Z",
     "iopub.status.busy": "2020-11-18T11:20:00.618962Z",
     "iopub.status.idle": "2020-11-18T11:20:11.654277Z",
     "shell.execute_reply": "2020-11-18T11:20:11.653571Z"
    },
    "papermill": {
     "duration": 11.328352,
     "end_time": "2020-11-18T11:20:11.654429",
     "exception": false,
     "start_time": "2020-11-18T11:20:00.326077",
     "status": "completed"
    },
    "tags": []
   },
   "outputs": [],
   "source": [
    "# with campaign\n",
    "train = train.merge(campaign, left_on=\"campaign_id\", right_on = \"id\", how=\"left\").drop([\"mst_advertiser_id\", \"id\"], axis=1)\n",
    "test = test.merge(campaign, left_on=\"campaign_id\", right_on = \"id\", how=\"left\").drop([\"mst_advertiser_id\", \"id\"], axis=1)"
   ]
  },
  {
   "cell_type": "code",
   "execution_count": 6,
   "metadata": {
    "execution": {
     "iopub.execute_input": "2020-11-18T11:20:11.753001Z",
     "iopub.status.busy": "2020-11-18T11:20:11.751813Z",
     "iopub.status.idle": "2020-11-18T11:20:11.755501Z",
     "shell.execute_reply": "2020-11-18T11:20:11.754775Z"
    },
    "papermill": {
     "duration": 0.05864,
     "end_time": "2020-11-18T11:20:11.755620",
     "exception": false,
     "start_time": "2020-11-18T11:20:11.696980",
     "status": "completed"
    },
    "tags": []
   },
   "outputs": [],
   "source": [
    "def merge_all(\n",
    "    df: pd.DataFrame, map_game_feed_native_video_assets: pd.DataFrame,\n",
    "    advertiser_video: pd.DataFrame, advertiser_converted_video: pd.DataFrame,\n",
    ") -> pd.DataFrame:\n",
    "    # merge res and map_game_feed_native_video_assets\n",
    "    res = pd.merge(df,map_game_feed_native_video_assets,left_on=\"game_feed_id\",right_on=\"mst_game_feed_id\",how=\"left\",\n",
    "    ).drop(columns=[\"mst_game_feed_id\"])  \n",
    "    # remove map_game_feed_native_video_assets keys\n",
    "\n",
    "    # merge res and advertiser_video (horizontal case)\n",
    "    horizontal = advertiser_video.copy()\n",
    "    left_keys = [\"horizontal_mst_advertiser_video_id\", \"advertiser_id\"]\n",
    "    right_keys = [\"id\", \"mst_advertiser_id\"]\n",
    "    horizontal.columns = [f\"horizontal_{c}\" if c not in right_keys else c for c in horizontal.columns]\n",
    "    res = pd.merge(res, horizontal, left_on=left_keys, right_on=right_keys, how=\"left\").drop(columns=right_keys) \n",
    "    # remove advertiser_video keys\n",
    "    \n",
    "    # merge res and advertiser_video (vertical case)\n",
    "    vertical = advertiser_video.copy()\n",
    "    left_keys = [\"vertical_mst_advertiser_video_id\", \"advertiser_id\"]\n",
    "    right_keys = [\"id\", \"mst_advertiser_id\"]\n",
    "    vertical.columns = [f\"vertical_{c}\" if c not in right_keys else c for c in vertical.columns]\n",
    "    res = pd.merge(res, vertical, left_on=left_keys, right_on=right_keys, how=\"left\").drop(columns=right_keys) \n",
    "    # remove advertiser_video keys\n",
    "\n",
    "    # merge res and advertiser_converted_video (horizontal case)\n",
    "    left_keys = [\"horizontal_mst_advertiser_video_id\", \"game_feed_id\", \"video_template_id\",]\n",
    "    right_keys = [\"mst_advertiser_video_id\",\"mst_game_feed_id\", \"mst_video_template_id\",]\n",
    "    horizontal = advertiser_converted_video.copy()\n",
    "    horizontal.columns = [ f\"horizontal_converted_{c}\" if c not in right_keys else c for c in horizontal.columns]\n",
    "    res = pd.merge(res, horizontal, left_on=left_keys, right_on=right_keys, how=\"left\").drop(columns=right_keys)\n",
    "    # remove advertiser_converted_video keys\n",
    "    \n",
    "    # merge res and advertiser_converted_video (vertical case)\n",
    "    left_keys = [\"vertical_mst_advertiser_video_id\",\"game_feed_id\",\"video_template_id\",]\n",
    "    right_keys = [\"mst_advertiser_video_id\",\"mst_game_feed_id\",\"mst_video_template_id\",]\n",
    "    vertical = advertiser_converted_video.copy()\n",
    "    vertical.columns = [f\"vertical_converted_{c}\" if c not in right_keys else c for c in vertical.columns]\n",
    "    res = pd.merge(res, vertical, left_on=left_keys, right_on=right_keys, how=\"left\").drop(columns=right_keys)\n",
    "    # remove advertiser_converted_video keys\n",
    "\n",
    "    return res\n",
    "\n",
    "#train = merge_all(train, map_game_feed_native_video_assets, advertiser_video, advertiser_converted_video)\n",
    "#test = merge_all(test, map_game_feed_native_video_assets, advertiser_video, advertiser_converted_video)\n",
    "\n",
    "#train[\"duration\"] = train[\"vertical_duration\"].fillna(0) + train[\"horizontal_duration\"].fillna(0)\n",
    "#train.drop([\"vertical_duration\", \"horizontal_duration\"], axis=1, inplace=True)\n",
    "\n",
    "#test[\"duration\"] = test[\"vertical_duration\"].fillna(0) + test[\"horizontal_duration\"].fillna(0)\n",
    "#test.drop([\"vertical_duration\", \"horizontal_duration\"], axis=1, inplace=True)\n",
    "\n",
    "# filesize\n",
    "#train[\"filesize\"] = train[\"vertical_file_size\"].fillna(0) + train[\"horizontal_file_size\"].fillna(0)\n",
    "#train.drop([\"vertical_file_size\", \"horizontal_file_size\"], axis=1, inplace=True)\n",
    "\n",
    "#test[\"filesize\"] = test[\"vertical_file_size\"].fillna(0) + test[\"horizontal_file_size\"].fillna(0)\n",
    "#test.drop([\"vertical_file_size\", \"horizontal_file_size\"], axis=1, inplace=True)\n",
    "\n",
    "# converted filesize\n",
    "#train[\"converted_filesize\"] = train[\"vertical_converted_file_size\"].fillna(0.0) + train[\"horizontal_converted_file_size\"].fillna(0)\n",
    "#train.drop([\"vertical_converted_file_size\", \"horizontal_converted_file_size\"], axis=1, inplace=True)\n",
    "\n",
    "#test[\"converted_filesize\"] = test[\"horizontal_converted_file_size\"].fillna(0.0) + test[\"vertical_converted_file_size\"].fillna(0)\n",
    "#test.drop([\"vertical_converted_file_size\", \"horizontal_converted_file_size\"], axis=1, inplace=True)\n",
    "\n",
    "# bitrate\n",
    "#train[\"bitrate\"] = train[\"vertical_converted_bitrate\"].fillna(0) + train[\"horizontal_converted_bitrate\"].fillna(0)\n",
    "#train.drop([\"vertical_converted_bitrate\", \"horizontal_converted_bitrate\"], axis=1, inplace=True)\n",
    "\n",
    "#test[\"bitrate\"] = test[\"vertical_converted_bitrate\"].fillna(0) + test[\"horizontal_converted_bitrate\"].fillna(0)\n",
    "#test.drop([\"vertical_converted_bitrate\", \"horizontal_converted_bitrate\"], axis=1, inplace=True)"
   ]
  },
  {
   "cell_type": "code",
   "execution_count": 7,
   "metadata": {
    "execution": {
     "iopub.execute_input": "2020-11-18T11:20:12.572445Z",
     "iopub.status.busy": "2020-11-18T11:20:12.570021Z",
     "iopub.status.idle": "2020-11-18T11:20:13.381239Z",
     "shell.execute_reply": "2020-11-18T11:20:13.380429Z"
    },
    "papermill": {
     "duration": 1.594954,
     "end_time": "2020-11-18T11:20:13.381369",
     "exception": false,
     "start_time": "2020-11-18T11:20:11.786415",
     "status": "completed"
    },
    "tags": []
   },
   "outputs": [],
   "source": [
    "train[\"imp_at\"] = pd.to_datetime(train[\"imp_at\"])\n",
    "test[\"imp_at\"] = pd.to_datetime(test[\"imp_at\"])"
   ]
  },
  {
   "cell_type": "code",
   "execution_count": 8,
   "metadata": {
    "execution": {
     "iopub.execute_input": "2020-11-18T11:20:14.198283Z",
     "iopub.status.busy": "2020-11-18T11:20:14.197437Z",
     "iopub.status.idle": "2020-11-18T11:20:15.993918Z",
     "shell.execute_reply": "2020-11-18T11:20:15.993131Z"
    },
    "papermill": {
     "duration": 2.581128,
     "end_time": "2020-11-18T11:20:15.994047",
     "exception": false,
     "start_time": "2020-11-18T11:20:13.412919",
     "status": "completed"
    },
    "tags": []
   },
   "outputs": [],
   "source": [
    "train[\"click_or_view_at\"] = pd.to_datetime(train[\"click_or_view_at\"])\n",
    "train[\"cv_at\"] = pd.to_datetime(train[\"cv_at\"])"
   ]
  },
  {
   "cell_type": "code",
   "execution_count": 9,
   "metadata": {
    "execution": {
     "iopub.execute_input": "2020-11-18T11:20:16.067216Z",
     "iopub.status.busy": "2020-11-18T11:20:16.066166Z",
     "iopub.status.idle": "2020-11-18T11:20:17.080047Z",
     "shell.execute_reply": "2020-11-18T11:20:17.080678Z"
    },
    "papermill": {
     "duration": 1.054664,
     "end_time": "2020-11-18T11:20:17.080888",
     "exception": false,
     "start_time": "2020-11-18T11:20:16.026224",
     "status": "completed"
    },
    "tags": []
   },
   "outputs": [],
   "source": [
    "# drop because distribution is different\n",
    "train.drop(['os_version'], axis=1, inplace=True)\n",
    "test.drop(['os_version'], axis=1, inplace=True)\n",
    "\n",
    "# noise features?\n",
    "train.drop(['user_type_id', \"category_id\",  \"video_template_id\", \"country_code\", \"game_feed_asset_type_id\"], axis=1, inplace=True)\n",
    "test.drop(['user_type_id', \"category_id\",  \"video_template_id\", \"country_code\", \"game_feed_asset_type_id\"], axis=1, inplace=True)"
   ]
  },
  {
   "cell_type": "code",
   "execution_count": 10,
   "metadata": {
    "execution": {
     "iopub.execute_input": "2020-11-18T11:20:17.424336Z",
     "iopub.status.busy": "2020-11-18T11:20:17.423469Z",
     "iopub.status.idle": "2020-11-18T11:20:46.262023Z",
     "shell.execute_reply": "2020-11-18T11:20:46.261339Z"
    },
    "papermill": {
     "duration": 29.149,
     "end_time": "2020-11-18T11:20:46.262154",
     "exception": false,
     "start_time": "2020-11-18T11:20:17.113154",
     "status": "completed"
    },
    "tags": []
   },
   "outputs": [],
   "source": [
    "object_feats = [i for i in train.columns if \"object\" == str(train[i].dtype) and i != \"request_id\" and i != \"uid\"]\n",
    "\n",
    "def get_non_overlapping(train: pd.DataFrame, test: pd.DataFrame, column: str):\n",
    "    only_in_train = set(train[column].unique()) - set(test[column].unique())\n",
    "    only_in_test = set(test[column].unique()) - set(train[column].unique())\n",
    "    non_overlapping = only_in_train.union(only_in_test)\n",
    "    return non_overlapping\n",
    "\n",
    "def category2num(train: pd.DataFrame, test: pd.DataFrame, columns: list):\n",
    "    train_ = train.copy()\n",
    "    test_ = test.copy()\n",
    "    for column in columns:\n",
    "        non_overlapping = get_non_overlapping(train, test, column)\n",
    "        try:\n",
    "            if train[column].dtype == np.dtype(\"O\"):\n",
    "                # dtypeがobjectなら欠損は'missing' クラスにする\n",
    "                train_[column] = train[column].fillna(\"missing\")\n",
    "                test_[column] = test[column].fillna(\"missing\")\n",
    "                train_[column] = train_[column].map(lambda x: x if x not in non_overlapping else \"other\")\n",
    "                test_[column] = test_[column].map(lambda x: x if x not in non_overlapping else \"other\")\n",
    "            else:\n",
    "                # dtypeがint/floatなら欠損は'-1'とする\n",
    "                train_[column] = train[column].fillna(-1)\n",
    "                test_[column] = test[column].fillna(-1)\n",
    "                train_[column] = train_[column].map(lambda x: x if x not in non_overlapping else -2)\n",
    "                test_[column] = test_[column].map(lambda x: x if x not in non_overlapping else -2)\n",
    "\n",
    "            le = preprocessing.LabelEncoder()\n",
    "            concatenated = pd.concat([train_, test_], axis=0).reset_index(drop=True)\n",
    "            le.fit(concatenated[column])\n",
    "            train_[column] = le.transform(train_[column])\n",
    "            test_[column] = le.transform(test_[column])\n",
    "        except Exception:\n",
    "            import pdb\n",
    "            pdb.set_trace()\n",
    "    return train_, test_\n",
    "\n",
    "train, test = category2num(train, test, object_feats)"
   ]
  },
  {
   "cell_type": "code",
   "execution_count": 11,
   "metadata": {
    "execution": {
     "iopub.execute_input": "2020-11-18T11:20:46.331187Z",
     "iopub.status.busy": "2020-11-18T11:20:46.330220Z",
     "iopub.status.idle": "2020-11-18T11:20:46.333904Z",
     "shell.execute_reply": "2020-11-18T11:20:46.333139Z"
    },
    "papermill": {
     "duration": 0.040371,
     "end_time": "2020-11-18T11:20:46.334035",
     "exception": false,
     "start_time": "2020-11-18T11:20:46.293664",
     "status": "completed"
    },
    "tags": []
   },
   "outputs": [],
   "source": [
    "#train[\"click_or_view_day\"] = train[\"click_or_view_at\"].dt.dayofweek\n",
    "#click_view_df = train.groupby(\"uid\")[\"click_or_view_day\"].value_counts().unstack(fill_value=0)\n",
    "#click_view_df.columns = [\"click_or_view\"+str(i) for i in range(7)]\n",
    "#click_view_df = click_view_df.reset_index(drop=False)\n",
    "#train.drop(\"click_or_view_day\", axis=1, inplace=True)\n",
    "\n",
    "#train = pd.merge(train, click_view_df, on=\"uid\", how=\"left\")\n",
    "#test = pd.merge(test, click_view_df, on=\"uid\", how=\"left\")\n",
    "\n",
    "#train[\"cv_hour\"] = train[\"cv_at\"].dt.hour\n",
    "#cv_df = train.groupby(\"uid\")[\"cv_hour\"].value_counts().unstack(fill_value=0)\n",
    "#cv_df.columns = [\"cv_hour\"+str(i) for i in range(24)]\n",
    "#cv_df = cv_df.reset_index(drop=False)\n",
    "#train.drop(\"cv_hour\", axis=1, inplace=True)\n",
    "\n",
    "#train = pd.merge(train, click_view_df, on=\"uid\", how=\"left\")\n",
    "#test = pd.merge(test, click_view_df, on=\"uid\", how=\"left\")\n",
    "\n",
    "#train = pd.merge(train, cv_df, on=\"uid\", how=\"left\")\n",
    "#test = pd.merge(test, cv_df, on=\"uid\", how=\"left\")"
   ]
  },
  {
   "cell_type": "code",
   "execution_count": 12,
   "metadata": {
    "execution": {
     "iopub.execute_input": "2020-11-18T11:20:46.405299Z",
     "iopub.status.busy": "2020-11-18T11:20:46.404502Z",
     "iopub.status.idle": "2020-11-18T11:20:46.663572Z",
     "shell.execute_reply": "2020-11-18T11:20:46.662907Z"
    },
    "papermill": {
     "duration": 0.297837,
     "end_time": "2020-11-18T11:20:46.663699",
     "exception": false,
     "start_time": "2020-11-18T11:20:46.365862",
     "status": "completed"
    },
    "tags": []
   },
   "outputs": [],
   "source": [
    "# drop because the exist only in train\n",
    "train.drop(['click_or_view_at', 'cv_at','last_cv_interval', 'last_paid_interval'], axis=1, inplace=True)"
   ]
  },
  {
   "cell_type": "markdown",
   "metadata": {
    "papermill": {
     "duration": 0.031355,
     "end_time": "2020-11-18T11:20:46.726947",
     "exception": false,
     "start_time": "2020-11-18T11:20:46.695592",
     "status": "completed"
    },
    "tags": []
   },
   "source": [
    "# feature engineering"
   ]
  },
  {
   "cell_type": "code",
   "execution_count": 13,
   "metadata": {
    "execution": {
     "iopub.execute_input": "2020-11-18T11:20:46.797246Z",
     "iopub.status.busy": "2020-11-18T11:20:46.796481Z",
     "iopub.status.idle": "2020-11-18T11:20:58.892443Z",
     "shell.execute_reply": "2020-11-18T11:20:58.891722Z"
    },
    "papermill": {
     "duration": 12.134025,
     "end_time": "2020-11-18T11:20:58.892604",
     "exception": false,
     "start_time": "2020-11-18T11:20:46.758579",
     "status": "completed"
    },
    "tags": []
   },
   "outputs": [],
   "source": [
    "train[\"type\"] = \"train\"\n",
    "test[\"type\"] = \"test\"\n",
    "all_df = pd.concat([train, test])\n",
    "all_df = all_df.sort_values([\"uid\", \"imp_at\"]).reset_index(drop=True)"
   ]
  },
  {
   "cell_type": "code",
   "execution_count": 14,
   "metadata": {
    "execution": {
     "iopub.execute_input": "2020-11-18T11:20:58.962565Z",
     "iopub.status.busy": "2020-11-18T11:20:58.961716Z",
     "iopub.status.idle": "2020-11-18T11:21:03.079934Z",
     "shell.execute_reply": "2020-11-18T11:21:03.079191Z"
    },
    "papermill": {
     "duration": 4.155299,
     "end_time": "2020-11-18T11:21:03.080073",
     "exception": false,
     "start_time": "2020-11-18T11:20:58.924774",
     "status": "completed"
    },
    "tags": []
   },
   "outputs": [],
   "source": [
    "all_df[\"count\"] = 1\n",
    "all_df[\"count\"] = all_df.groupby(\"uid\")[\"count\"].cumsum()"
   ]
  },
  {
   "cell_type": "code",
   "execution_count": 15,
   "metadata": {
    "execution": {
     "iopub.execute_input": "2020-11-18T11:21:03.180937Z",
     "iopub.status.busy": "2020-11-18T11:21:03.180103Z",
     "iopub.status.idle": "2020-11-18T11:21:32.281471Z",
     "shell.execute_reply": "2020-11-18T11:21:32.280718Z"
    },
    "papermill": {
     "duration": 29.169133,
     "end_time": "2020-11-18T11:21:32.281681",
     "exception": false,
     "start_time": "2020-11-18T11:21:03.112548",
     "status": "completed"
    },
    "tags": []
   },
   "outputs": [],
   "source": [
    "def _create_whole_imp_at_feature(whole_df, var) -> pd.DataFrame:\n",
    "\n",
    "    imp_at = pd.to_datetime(whole_df['imp_at']) + timedelta(hours=9) # utc -> asia/tokyo\n",
    "    out_df = pd.DataFrame()\n",
    "    out_df['hours'] = imp_at.dt.hour\n",
    "    out_df['dayofweek'] = imp_at.dt.dayofweek\n",
    "    out_df['hour_zone'] = pd.cut(out_df['hours'].values, bins=[-np.inf, 6, 12, 18, np.inf]).codes\n",
    "\n",
    "    def _create_pivot(input_df, c, column='dayofweek', values='hours'):\n",
    "        _df = pd.pivot_table(data=input_df, index=[c], columns=[column], values=values, aggfunc='count')\n",
    "        _df = _df.fillna(0)\n",
    "        _df.columns = [column + '=' + str(x) for x in _df.columns]\n",
    "\n",
    "        # index ごとに正規化して割合にする\n",
    "        _df = _df.div(_df.sum(axis=1), axis=0)\n",
    "        return pd.merge(input_df[c], _df, on=c, how='left').drop(columns=[c]).add_prefix(c + '_')\n",
    "\n",
    "    # uid での集約\n",
    "    for c in [var]:\n",
    "        _df = out_df.copy()\n",
    "        _df[c] = whole_df[c]\n",
    "        _feat = pd.concat([\n",
    "            _create_pivot(_df, c),\n",
    "            _create_pivot(_df, c, column='hour_zone', values='dayofweek')  \n",
    "        ], axis=1)\n",
    "        out_df = pd.concat([out_df, _feat], axis=1)\n",
    "\n",
    "    out_df['request_id'] = whole_df['request_id']\n",
    "    return out_df\n",
    "\n",
    "user_imp_df = _create_whole_imp_at_feature(all_df, \"uid\")\n",
    "user_imp_df.drop([\"hours\",\"dayofweek\",\"hour_zone\"], axis=1, inplace=True)\n",
    "all_df = all_df.merge(user_imp_df, on=\"request_id\", how=\"left\")"
   ]
  },
  {
   "cell_type": "code",
   "execution_count": 16,
   "metadata": {
    "execution": {
     "iopub.execute_input": "2020-11-18T11:21:32.354579Z",
     "iopub.status.busy": "2020-11-18T11:21:32.353758Z",
     "iopub.status.idle": "2020-11-18T11:21:32.357140Z",
     "shell.execute_reply": "2020-11-18T11:21:32.356396Z"
    },
    "papermill": {
     "duration": 0.041513,
     "end_time": "2020-11-18T11:21:32.357262",
     "exception": false,
     "start_time": "2020-11-18T11:21:32.315749",
     "status": "completed"
    },
    "tags": []
   },
   "outputs": [],
   "source": [
    "#all_df[\"date\"] = all_df[\"imp_at\"].dt.date\n",
    "#all_df[\"dif_login\"] = all_df.groupby(\"uid\")[\"date\"].progress_apply(lambda x: x.diff(1))\n",
    "#all_df[\"dif_login\"] = all_df[\"dif_login\"].progress_apply(lambda x: x.days)\n",
    "#all_df[\"dif_login\"] = all_df[\"dif_login\"].fillna(0)\n",
    "#all_df[\"total_logdays\"] = all_df[\"dif_login\"].progress_apply(lambda x: x if x ==0 or x==1 else 1)\n",
    "#all_df[\"total_logdays\"] = all_df.groupby(\"uid\")[\"total_logdays\"].progress_apply(lambda x: x.cumsum()) + 1"
   ]
  },
  {
   "cell_type": "code",
   "execution_count": 17,
   "metadata": {
    "execution": {
     "iopub.execute_input": "2020-11-18T11:21:32.774622Z",
     "iopub.status.busy": "2020-11-18T11:21:32.773486Z",
     "iopub.status.idle": "2020-11-18T11:21:36.003430Z",
     "shell.execute_reply": "2020-11-18T11:21:36.002742Z"
    },
    "papermill": {
     "duration": 3.613024,
     "end_time": "2020-11-18T11:21:36.003564",
     "exception": false,
     "start_time": "2020-11-18T11:21:32.390540",
     "status": "completed"
    },
    "tags": []
   },
   "outputs": [],
   "source": [
    "train = all_df[all_df.type==\"train\"].drop(\"type\", axis=1).reset_index(drop=True)\n",
    "test = all_df[all_df.type==\"test\"].drop(\"type\", axis=1).reset_index(drop=True)"
   ]
  },
  {
   "cell_type": "code",
   "execution_count": 18,
   "metadata": {
    "execution": {
     "iopub.execute_input": "2020-11-18T11:21:36.076835Z",
     "iopub.status.busy": "2020-11-18T11:21:36.075680Z",
     "iopub.status.idle": "2020-11-18T11:21:38.495109Z",
     "shell.execute_reply": "2020-11-18T11:21:38.494260Z"
    },
    "papermill": {
     "duration": 2.459102,
     "end_time": "2020-11-18T11:21:38.495239",
     "exception": false,
     "start_time": "2020-11-18T11:21:36.036137",
     "status": "completed"
    },
    "tags": []
   },
   "outputs": [],
   "source": [
    "train = train.sort_values(\"imp_at\").reset_index(drop=True)\n",
    "test = test.sort_values(\"imp_at\").reset_index(drop=True)"
   ]
  },
  {
   "cell_type": "markdown",
   "metadata": {
    "papermill": {
     "duration": 0.032707,
     "end_time": "2020-11-18T11:21:38.560690",
     "exception": false,
     "start_time": "2020-11-18T11:21:38.527983",
     "status": "completed"
    },
    "tags": []
   },
   "source": [
    "# separation for validation"
   ]
  },
  {
   "cell_type": "code",
   "execution_count": 19,
   "metadata": {
    "execution": {
     "iopub.execute_input": "2020-11-18T11:21:38.796234Z",
     "iopub.status.busy": "2020-11-18T11:21:38.794754Z",
     "iopub.status.idle": "2020-11-18T11:21:38.888072Z",
     "shell.execute_reply": "2020-11-18T11:21:38.887316Z"
    },
    "papermill": {
     "duration": 0.295009,
     "end_time": "2020-11-18T11:21:38.888199",
     "exception": false,
     "start_time": "2020-11-18T11:21:38.593190",
     "status": "completed"
    },
    "tags": []
   },
   "outputs": [],
   "source": [
    "train.drop(['request_id'], axis=1, inplace=True)\n",
    "test.drop(['request_id'], axis=1, inplace=True)"
   ]
  },
  {
   "cell_type": "code",
   "execution_count": 20,
   "metadata": {
    "execution": {
     "iopub.execute_input": "2020-11-18T11:21:38.958563Z",
     "iopub.status.busy": "2020-11-18T11:21:38.957771Z",
     "iopub.status.idle": "2020-11-18T11:21:38.960038Z",
     "shell.execute_reply": "2020-11-18T11:21:38.960624Z"
    },
    "papermill": {
     "duration": 0.039666,
     "end_time": "2020-11-18T11:21:38.960771",
     "exception": false,
     "start_time": "2020-11-18T11:21:38.921105",
     "status": "completed"
    },
    "tags": []
   },
   "outputs": [],
   "source": [
    "#mask = train.imp_at > \"2020-05-21\"\n",
    "#valid_df = train.loc[mask].copy()\n",
    "#train_df = train.loc[~mask].copy()"
   ]
  },
  {
   "cell_type": "code",
   "execution_count": 21,
   "metadata": {
    "execution": {
     "iopub.execute_input": "2020-11-18T11:21:39.259859Z",
     "iopub.status.busy": "2020-11-18T11:21:39.160540Z",
     "iopub.status.idle": "2020-11-18T11:21:39.276739Z",
     "shell.execute_reply": "2020-11-18T11:21:39.275618Z"
    },
    "papermill": {
     "duration": 0.281473,
     "end_time": "2020-11-18T11:21:39.276958",
     "exception": false,
     "start_time": "2020-11-18T11:21:38.995485",
     "status": "completed"
    },
    "tags": []
   },
   "outputs": [],
   "source": [
    "train = train.drop([\"imp_at\", \"uid\"], axis=1)\n",
    "test = test.drop([\"imp_at\", \"uid\"], axis=1)\n",
    "\n",
    "#valid_df = valid_df.drop([\"imp_at\"], axis=1)\n",
    "#train_df = train_df.drop([\"imp_at\"], axis=1)"
   ]
  },
  {
   "cell_type": "code",
   "execution_count": 22,
   "metadata": {
    "execution": {
     "iopub.execute_input": "2020-11-18T11:21:39.377841Z",
     "iopub.status.busy": "2020-11-18T11:21:39.376749Z",
     "iopub.status.idle": "2020-11-18T11:21:39.381069Z",
     "shell.execute_reply": "2020-11-18T11:21:39.379967Z"
    },
    "papermill": {
     "duration": 0.065847,
     "end_time": "2020-11-18T11:21:39.381247",
     "exception": false,
     "start_time": "2020-11-18T11:21:39.315400",
     "status": "completed"
    },
    "tags": []
   },
   "outputs": [],
   "source": [
    "test = test.drop(\"target\", axis=1)"
   ]
  },
  {
   "cell_type": "code",
   "execution_count": 23,
   "metadata": {
    "execution": {
     "iopub.execute_input": "2020-11-18T11:21:39.467536Z",
     "iopub.status.busy": "2020-11-18T11:21:39.466498Z",
     "iopub.status.idle": "2020-11-18T11:21:39.471876Z",
     "shell.execute_reply": "2020-11-18T11:21:39.471209Z"
    },
    "papermill": {
     "duration": 0.048726,
     "end_time": "2020-11-18T11:21:39.471999",
     "exception": false,
     "start_time": "2020-11-18T11:21:39.423273",
     "status": "completed"
    },
    "tags": []
   },
   "outputs": [
    {
     "data": {
      "text/plain": [
       "((1997595, 36), (390095, 35))"
      ]
     },
     "execution_count": 23,
     "metadata": {},
     "output_type": "execute_result"
    }
   ],
   "source": [
    "train.shape, test.shape "
   ]
  },
  {
   "cell_type": "code",
   "execution_count": 24,
   "metadata": {
    "execution": {
     "iopub.execute_input": "2020-11-18T11:21:39.551443Z",
     "iopub.status.busy": "2020-11-18T11:21:39.550605Z",
     "iopub.status.idle": "2020-11-18T11:21:39.555329Z",
     "shell.execute_reply": "2020-11-18T11:21:39.554702Z"
    },
    "papermill": {
     "duration": 0.049262,
     "end_time": "2020-11-18T11:21:39.555460",
     "exception": false,
     "start_time": "2020-11-18T11:21:39.506198",
     "status": "completed"
    },
    "tags": []
   },
   "outputs": [
    {
     "data": {
      "text/plain": [
       "Index(['target', 'adnw_id', 'adspot_id', 'adspot_video_format_id',\n",
       "       'advertiser_id', 'app_id', 'auction_type_id', 'campaign_id',\n",
       "       'first_login_interval', 'frequency', 'from_click', 'game_feed_id',\n",
       "       'game_template_id', 'header_bidding', 'is_interstitial', 'item_id',\n",
       "       'last_login_interval', 'login_frequency', 'max_login_interval',\n",
       "       'media_app_id', 'os', 'pos', 'mst_advertiser_order_id',\n",
       "       'mst_user_type_id', 'count', 'uid_dayofweek=0', 'uid_dayofweek=1',\n",
       "       'uid_dayofweek=2', 'uid_dayofweek=3', 'uid_dayofweek=4',\n",
       "       'uid_dayofweek=5', 'uid_dayofweek=6', 'uid_hour_zone=0',\n",
       "       'uid_hour_zone=1', 'uid_hour_zone=2', 'uid_hour_zone=3'],\n",
       "      dtype='object')"
      ]
     },
     "execution_count": 24,
     "metadata": {},
     "output_type": "execute_result"
    }
   ],
   "source": [
    "train.columns"
   ]
  },
  {
   "cell_type": "code",
   "execution_count": 25,
   "metadata": {
    "execution": {
     "iopub.execute_input": "2020-11-18T11:21:39.631332Z",
     "iopub.status.busy": "2020-11-18T11:21:39.630298Z",
     "iopub.status.idle": "2020-11-18T11:21:39.633320Z",
     "shell.execute_reply": "2020-11-18T11:21:39.633916Z"
    },
    "papermill": {
     "duration": 0.043603,
     "end_time": "2020-11-18T11:21:39.634068",
     "exception": false,
     "start_time": "2020-11-18T11:21:39.590465",
     "status": "completed"
    },
    "tags": []
   },
   "outputs": [],
   "source": [
    "object_feats = [i for i in object_feats if i in train.columns] "
   ]
  },
  {
   "cell_type": "markdown",
   "metadata": {
    "papermill": {
     "duration": 0.0345,
     "end_time": "2020-11-18T11:21:39.703841",
     "exception": false,
     "start_time": "2020-11-18T11:21:39.669341",
     "status": "completed"
    },
    "tags": []
   },
   "source": [
    "# stratified modelling"
   ]
  },
  {
   "cell_type": "code",
   "execution_count": 26,
   "metadata": {
    "_cell_guid": "79c7e3d0-c299-4dcb-8224-4455121ee9b0",
    "_uuid": "d629ff2d2480ee46fbb7e2d37f6b5fab8052498a",
    "execution": {
     "iopub.execute_input": "2020-11-18T11:21:39.793159Z",
     "iopub.status.busy": "2020-11-18T11:21:39.782506Z",
     "iopub.status.idle": "2020-11-18T11:45:16.392963Z",
     "shell.execute_reply": "2020-11-18T11:45:16.392214Z"
    },
    "papermill": {
     "duration": 1416.654468,
     "end_time": "2020-11-18T11:45:16.393131",
     "exception": false,
     "start_time": "2020-11-18T11:21:39.738663",
     "status": "completed"
    },
    "tags": []
   },
   "outputs": [
    {
     "name": "stdout",
     "output_type": "stream",
     "text": [
      "seed: 0\n",
      "fold:  0\n",
      "Training until validation scores don't improve for 20 rounds\n",
      "[10]\ttraining's pr_auc: 0.22577\tvalid_1's pr_auc: 0.22401\n",
      "[20]\ttraining's pr_auc: 0.23923\tvalid_1's pr_auc: 0.234993\n",
      "[30]\ttraining's pr_auc: 0.252606\tvalid_1's pr_auc: 0.24629\n",
      "[40]\ttraining's pr_auc: 0.261958\tvalid_1's pr_auc: 0.252382\n",
      "[50]\ttraining's pr_auc: 0.269991\tvalid_1's pr_auc: 0.256753\n",
      "[60]\ttraining's pr_auc: 0.276369\tvalid_1's pr_auc: 0.259101\n",
      "[70]\ttraining's pr_auc: 0.281628\tvalid_1's pr_auc: 0.260991\n",
      "[80]\ttraining's pr_auc: 0.286177\tvalid_1's pr_auc: 0.262409\n",
      "[90]\ttraining's pr_auc: 0.289994\tvalid_1's pr_auc: 0.263488\n",
      "[100]\ttraining's pr_auc: 0.293831\tvalid_1's pr_auc: 0.264066\n",
      "[110]\ttraining's pr_auc: 0.297314\tvalid_1's pr_auc: 0.264791\n",
      "[120]\ttraining's pr_auc: 0.300373\tvalid_1's pr_auc: 0.265369\n",
      "[130]\ttraining's pr_auc: 0.303673\tvalid_1's pr_auc: 0.266183\n",
      "[140]\ttraining's pr_auc: 0.306731\tvalid_1's pr_auc: 0.266847\n",
      "[150]\ttraining's pr_auc: 0.309643\tvalid_1's pr_auc: 0.267464\n",
      "[160]\ttraining's pr_auc: 0.312153\tvalid_1's pr_auc: 0.267837\n",
      "[170]\ttraining's pr_auc: 0.314489\tvalid_1's pr_auc: 0.268184\n",
      "[180]\ttraining's pr_auc: 0.317183\tvalid_1's pr_auc: 0.268807\n",
      "[190]\ttraining's pr_auc: 0.319686\tvalid_1's pr_auc: 0.269087\n",
      "[200]\ttraining's pr_auc: 0.322166\tvalid_1's pr_auc: 0.269576\n",
      "[210]\ttraining's pr_auc: 0.324092\tvalid_1's pr_auc: 0.269616\n",
      "[220]\ttraining's pr_auc: 0.326441\tvalid_1's pr_auc: 0.26985\n",
      "[230]\ttraining's pr_auc: 0.328743\tvalid_1's pr_auc: 0.270035\n",
      "[240]\ttraining's pr_auc: 0.330988\tvalid_1's pr_auc: 0.270189\n",
      "[250]\ttraining's pr_auc: 0.333208\tvalid_1's pr_auc: 0.270308\n",
      "[260]\ttraining's pr_auc: 0.335191\tvalid_1's pr_auc: 0.270464\n",
      "[270]\ttraining's pr_auc: 0.337798\tvalid_1's pr_auc: 0.271011\n",
      "[280]\ttraining's pr_auc: 0.34009\tvalid_1's pr_auc: 0.271291\n",
      "[290]\ttraining's pr_auc: 0.342123\tvalid_1's pr_auc: 0.271352\n",
      "[300]\ttraining's pr_auc: 0.343577\tvalid_1's pr_auc: 0.271332\n",
      "[310]\ttraining's pr_auc: 0.345555\tvalid_1's pr_auc: 0.271339\n",
      "Early stopping, best iteration is:\n",
      "[299]\ttraining's pr_auc: 0.343354\tvalid_1's pr_auc: 0.271397\n",
      "fold:  1\n",
      "Training until validation scores don't improve for 20 rounds\n",
      "[10]\ttraining's pr_auc: 0.225451\tvalid_1's pr_auc: 0.223765\n",
      "[20]\ttraining's pr_auc: 0.241724\tvalid_1's pr_auc: 0.240093\n",
      "[30]\ttraining's pr_auc: 0.253941\tvalid_1's pr_auc: 0.251231\n",
      "[40]\ttraining's pr_auc: 0.263218\tvalid_1's pr_auc: 0.258037\n",
      "[50]\ttraining's pr_auc: 0.271384\tvalid_1's pr_auc: 0.263144\n",
      "[60]\ttraining's pr_auc: 0.276374\tvalid_1's pr_auc: 0.265075\n",
      "[70]\ttraining's pr_auc: 0.281406\tvalid_1's pr_auc: 0.266938\n",
      "[80]\ttraining's pr_auc: 0.286263\tvalid_1's pr_auc: 0.268062\n",
      "[90]\ttraining's pr_auc: 0.28953\tvalid_1's pr_auc: 0.268656\n",
      "[100]\ttraining's pr_auc: 0.292959\tvalid_1's pr_auc: 0.269313\n",
      "[110]\ttraining's pr_auc: 0.296187\tvalid_1's pr_auc: 0.270085\n",
      "[120]\ttraining's pr_auc: 0.298926\tvalid_1's pr_auc: 0.27052\n",
      "[130]\ttraining's pr_auc: 0.302439\tvalid_1's pr_auc: 0.271707\n",
      "[140]\ttraining's pr_auc: 0.305575\tvalid_1's pr_auc: 0.272499\n",
      "[150]\ttraining's pr_auc: 0.307603\tvalid_1's pr_auc: 0.273267\n",
      "[160]\ttraining's pr_auc: 0.310254\tvalid_1's pr_auc: 0.274032\n",
      "[170]\ttraining's pr_auc: 0.312889\tvalid_1's pr_auc: 0.274047\n",
      "[180]\ttraining's pr_auc: 0.314973\tvalid_1's pr_auc: 0.274457\n",
      "[190]\ttraining's pr_auc: 0.317867\tvalid_1's pr_auc: 0.274943\n",
      "[200]\ttraining's pr_auc: 0.320188\tvalid_1's pr_auc: 0.275337\n",
      "[210]\ttraining's pr_auc: 0.323334\tvalid_1's pr_auc: 0.275733\n",
      "[220]\ttraining's pr_auc: 0.325423\tvalid_1's pr_auc: 0.276193\n",
      "[230]\ttraining's pr_auc: 0.327784\tvalid_1's pr_auc: 0.276176\n",
      "[240]\ttraining's pr_auc: 0.329674\tvalid_1's pr_auc: 0.276182\n",
      "[250]\ttraining's pr_auc: 0.331822\tvalid_1's pr_auc: 0.276023\n",
      "[260]\ttraining's pr_auc: 0.334132\tvalid_1's pr_auc: 0.276506\n",
      "[270]\ttraining's pr_auc: 0.336318\tvalid_1's pr_auc: 0.276809\n",
      "[280]\ttraining's pr_auc: 0.338532\tvalid_1's pr_auc: 0.27668\n",
      "[290]\ttraining's pr_auc: 0.340324\tvalid_1's pr_auc: 0.276593\n",
      "Early stopping, best iteration is:\n",
      "[271]\ttraining's pr_auc: 0.336441\tvalid_1's pr_auc: 0.276848\n",
      "fold:  2\n",
      "Training until validation scores don't improve for 20 rounds\n",
      "[10]\ttraining's pr_auc: 0.227505\tvalid_1's pr_auc: 0.227719\n",
      "[20]\ttraining's pr_auc: 0.241815\tvalid_1's pr_auc: 0.240239\n",
      "[30]\ttraining's pr_auc: 0.253769\tvalid_1's pr_auc: 0.251042\n",
      "[40]\ttraining's pr_auc: 0.262965\tvalid_1's pr_auc: 0.258645\n",
      "[50]\ttraining's pr_auc: 0.270191\tvalid_1's pr_auc: 0.262287\n",
      "[60]\ttraining's pr_auc: 0.276649\tvalid_1's pr_auc: 0.264876\n",
      "[70]\ttraining's pr_auc: 0.281303\tvalid_1's pr_auc: 0.266051\n",
      "[80]\ttraining's pr_auc: 0.285377\tvalid_1's pr_auc: 0.266682\n",
      "[90]\ttraining's pr_auc: 0.289184\tvalid_1's pr_auc: 0.267378\n",
      "[100]\ttraining's pr_auc: 0.292826\tvalid_1's pr_auc: 0.268919\n",
      "[110]\ttraining's pr_auc: 0.296121\tvalid_1's pr_auc: 0.269748\n",
      "[120]\ttraining's pr_auc: 0.298617\tvalid_1's pr_auc: 0.269519\n",
      "[130]\ttraining's pr_auc: 0.302096\tvalid_1's pr_auc: 0.270086\n",
      "[140]\ttraining's pr_auc: 0.30429\tvalid_1's pr_auc: 0.27019\n",
      "[150]\ttraining's pr_auc: 0.307624\tvalid_1's pr_auc: 0.271383\n",
      "[160]\ttraining's pr_auc: 0.309893\tvalid_1's pr_auc: 0.271466\n",
      "[170]\ttraining's pr_auc: 0.312718\tvalid_1's pr_auc: 0.271959\n",
      "[180]\ttraining's pr_auc: 0.315208\tvalid_1's pr_auc: 0.272334\n",
      "[190]\ttraining's pr_auc: 0.317103\tvalid_1's pr_auc: 0.272394\n",
      "[200]\ttraining's pr_auc: 0.319569\tvalid_1's pr_auc: 0.272904\n",
      "[210]\ttraining's pr_auc: 0.322284\tvalid_1's pr_auc: 0.273469\n",
      "[220]\ttraining's pr_auc: 0.32476\tvalid_1's pr_auc: 0.2737\n",
      "[230]\ttraining's pr_auc: 0.326856\tvalid_1's pr_auc: 0.273887\n",
      "[240]\ttraining's pr_auc: 0.329033\tvalid_1's pr_auc: 0.274151\n",
      "[250]\ttraining's pr_auc: 0.331615\tvalid_1's pr_auc: 0.274388\n",
      "[260]\ttraining's pr_auc: 0.333384\tvalid_1's pr_auc: 0.274366\n",
      "[270]\ttraining's pr_auc: 0.33559\tvalid_1's pr_auc: 0.274215\n",
      "Early stopping, best iteration is:\n",
      "[254]\ttraining's pr_auc: 0.332425\tvalid_1's pr_auc: 0.274425\n",
      "fold:  3\n",
      "Training until validation scores don't improve for 20 rounds\n",
      "[10]\ttraining's pr_auc: 0.229103\tvalid_1's pr_auc: 0.226987\n",
      "[20]\ttraining's pr_auc: 0.242168\tvalid_1's pr_auc: 0.239286\n",
      "[30]\ttraining's pr_auc: 0.253291\tvalid_1's pr_auc: 0.248596\n",
      "[40]\ttraining's pr_auc: 0.262738\tvalid_1's pr_auc: 0.254622\n",
      "[50]\ttraining's pr_auc: 0.270508\tvalid_1's pr_auc: 0.259002\n",
      "[60]\ttraining's pr_auc: 0.276716\tvalid_1's pr_auc: 0.261047\n",
      "[70]\ttraining's pr_auc: 0.281443\tvalid_1's pr_auc: 0.262649\n",
      "[80]\ttraining's pr_auc: 0.285708\tvalid_1's pr_auc: 0.264196\n",
      "[90]\ttraining's pr_auc: 0.289896\tvalid_1's pr_auc: 0.265282\n",
      "[100]\ttraining's pr_auc: 0.294197\tvalid_1's pr_auc: 0.26643\n",
      "[110]\ttraining's pr_auc: 0.297506\tvalid_1's pr_auc: 0.266993\n",
      "[120]\ttraining's pr_auc: 0.300209\tvalid_1's pr_auc: 0.2675\n",
      "[130]\ttraining's pr_auc: 0.303094\tvalid_1's pr_auc: 0.267721\n",
      "[140]\ttraining's pr_auc: 0.305937\tvalid_1's pr_auc: 0.268462\n",
      "[150]\ttraining's pr_auc: 0.30859\tvalid_1's pr_auc: 0.269107\n",
      "[160]\ttraining's pr_auc: 0.311308\tvalid_1's pr_auc: 0.269471\n",
      "[170]\ttraining's pr_auc: 0.313827\tvalid_1's pr_auc: 0.269595\n",
      "[180]\ttraining's pr_auc: 0.316127\tvalid_1's pr_auc: 0.269949\n",
      "[190]\ttraining's pr_auc: 0.318747\tvalid_1's pr_auc: 0.270272\n",
      "[200]\ttraining's pr_auc: 0.321211\tvalid_1's pr_auc: 0.270473\n",
      "[210]\ttraining's pr_auc: 0.323754\tvalid_1's pr_auc: 0.270682\n",
      "[220]\ttraining's pr_auc: 0.326224\tvalid_1's pr_auc: 0.270814\n",
      "[230]\ttraining's pr_auc: 0.328422\tvalid_1's pr_auc: 0.271003\n",
      "[240]\ttraining's pr_auc: 0.330482\tvalid_1's pr_auc: 0.271327\n",
      "[250]\ttraining's pr_auc: 0.332869\tvalid_1's pr_auc: 0.271548\n",
      "[260]\ttraining's pr_auc: 0.334882\tvalid_1's pr_auc: 0.271555\n",
      "[270]\ttraining's pr_auc: 0.336621\tvalid_1's pr_auc: 0.271242\n",
      "Early stopping, best iteration is:\n",
      "[254]\ttraining's pr_auc: 0.333789\tvalid_1's pr_auc: 0.27163\n",
      "fold:  4\n",
      "Training until validation scores don't improve for 20 rounds\n",
      "[10]\ttraining's pr_auc: 0.224085\tvalid_1's pr_auc: 0.22011\n",
      "[20]\ttraining's pr_auc: 0.242981\tvalid_1's pr_auc: 0.237959\n",
      "[30]\ttraining's pr_auc: 0.256789\tvalid_1's pr_auc: 0.249637\n",
      "[40]\ttraining's pr_auc: 0.265677\tvalid_1's pr_auc: 0.255639\n",
      "[50]\ttraining's pr_auc: 0.27253\tvalid_1's pr_auc: 0.259059\n",
      "[60]\ttraining's pr_auc: 0.277773\tvalid_1's pr_auc: 0.260202\n",
      "[70]\ttraining's pr_auc: 0.282569\tvalid_1's pr_auc: 0.261618\n",
      "[80]\ttraining's pr_auc: 0.287443\tvalid_1's pr_auc: 0.262674\n",
      "[90]\ttraining's pr_auc: 0.291382\tvalid_1's pr_auc: 0.263895\n",
      "[100]\ttraining's pr_auc: 0.294829\tvalid_1's pr_auc: 0.264305\n",
      "[110]\ttraining's pr_auc: 0.298376\tvalid_1's pr_auc: 0.264761\n",
      "[120]\ttraining's pr_auc: 0.301679\tvalid_1's pr_auc: 0.265026\n",
      "[130]\ttraining's pr_auc: 0.304694\tvalid_1's pr_auc: 0.265276\n",
      "[140]\ttraining's pr_auc: 0.307996\tvalid_1's pr_auc: 0.266026\n",
      "[150]\ttraining's pr_auc: 0.310701\tvalid_1's pr_auc: 0.266254\n",
      "[160]\ttraining's pr_auc: 0.313485\tvalid_1's pr_auc: 0.26648\n",
      "[170]\ttraining's pr_auc: 0.316298\tvalid_1's pr_auc: 0.266628\n",
      "[180]\ttraining's pr_auc: 0.319086\tvalid_1's pr_auc: 0.266858\n",
      "[190]\ttraining's pr_auc: 0.321573\tvalid_1's pr_auc: 0.266839\n",
      "[200]\ttraining's pr_auc: 0.323917\tvalid_1's pr_auc: 0.267395\n",
      "[210]\ttraining's pr_auc: 0.326474\tvalid_1's pr_auc: 0.267371\n",
      "[220]\ttraining's pr_auc: 0.329114\tvalid_1's pr_auc: 0.267882\n",
      "[230]\ttraining's pr_auc: 0.331328\tvalid_1's pr_auc: 0.267955\n",
      "[240]\ttraining's pr_auc: 0.333275\tvalid_1's pr_auc: 0.268036\n",
      "[250]\ttraining's pr_auc: 0.3351\tvalid_1's pr_auc: 0.268226\n",
      "[260]\ttraining's pr_auc: 0.337369\tvalid_1's pr_auc: 0.268367\n",
      "[270]\ttraining's pr_auc: 0.339528\tvalid_1's pr_auc: 0.268383\n",
      "[280]\ttraining's pr_auc: 0.341482\tvalid_1's pr_auc: 0.268345\n",
      "[290]\ttraining's pr_auc: 0.343562\tvalid_1's pr_auc: 0.268283\n",
      "Early stopping, best iteration is:\n",
      "[272]\ttraining's pr_auc: 0.339948\tvalid_1's pr_auc: 0.26841\n",
      "0.2723185204266883\n"
     ]
    }
   ],
   "source": [
    "# stratified k fold\n",
    "n_folds = 5\n",
    "def pr_auc_metric(y_predicted, y_true):\n",
    "    return 'pr_auc', average_precision_score(y_true.get_label(), y_predicted), True\n",
    "\n",
    "def modelling(seed):\n",
    "    print(\"seed:\", seed)\n",
    "    lgbm_params = {'objective': 'binary', 'metric': 'None', 'boosting_type': 'gbdt', \n",
    "               'tree_learner': 'serial', 'learning_rate': 0.1, \"num_leaves\": 10, 'random_seed':seed,'max_depth': 5}\n",
    "    \n",
    "    y = train.target.copy()\n",
    "    X = train.drop(['target'],axis=1).copy()\n",
    "    \n",
    "    skf=StratifiedKFold(n_splits = n_folds, shuffle=True, random_state=0)\n",
    "    \n",
    "    valid = np.zeros([X.shape[0]])\n",
    "    features_list = [i for i in X.columns]\n",
    "    pred_value = np.zeros(test.shape[0])\n",
    "    feature_importance_df = pd.DataFrame(features_list, columns=[\"Feature\"])\n",
    "    \n",
    "    for i , (train_index, val_index) in enumerate(skf.split(X, y)):\n",
    "        print(\"fold: \", i)\n",
    "        \n",
    "        X_train = X.iloc[train_index,:]\n",
    "        y_train = y.iloc[train_index]\n",
    "\n",
    "        X_valid = X.iloc[val_index,:]\n",
    "        y_valid = y.iloc[val_index]\n",
    "        \n",
    "        lgb_train = lgb.Dataset(X_train, y_train)\n",
    "        lgb_eval = lgb.Dataset(X_valid, y_valid, reference=lgb_train)\n",
    "        \n",
    "        model = lgb.train(lgbm_params, lgb_train,valid_sets=[lgb_train, lgb_eval],\n",
    "           num_boost_round=10000,early_stopping_rounds=20,verbose_eval = 10,\n",
    "                          feval=pr_auc_metric, categorical_feature = sorted(object_feats))\n",
    "        \n",
    "        valid_predict = model.predict(X_valid, num_iteration = model.best_iteration)\n",
    "        valid[val_index] = valid_predict\n",
    "        pred_value += model.predict(test, num_iteration = model.best_iteration)\n",
    "        feature_importance_df[\"Fold_\"+str(i+1)] = model.feature_importance()\n",
    "    \n",
    "    feature_importance_df[\"Average\"] = np.mean(feature_importance_df.iloc[:,1:n_folds+1], axis=1)\n",
    "    feature_importance_df[\"Std\"] = np.std(feature_importance_df.iloc[:,1:n_folds+1], axis=1)\n",
    "    feature_importance_df[\"Cv\"] = feature_importance_df[\"Std\"] / feature_importance_df[\"Average\"]\n",
    "    \n",
    "    return pred_value, valid, feature_importance_df\n",
    "\n",
    "validation = np.zeros([train.shape[0]])\n",
    "pred_value = np.zeros([test.shape[0]])\n",
    "seeds = [0]\n",
    "for seed_ in seeds:\n",
    "    test_pred, oof_predict, feature_importance_df = modelling(seed_)\n",
    "    validation += oof_predict / len(seeds)\n",
    "    pred_value += test_pred / len(seeds)\n",
    "\n",
    "score = average_precision_score(train.target, validation)\n",
    "print(score)"
   ]
  },
  {
   "cell_type": "code",
   "execution_count": 27,
   "metadata": {
    "execution": {
     "iopub.execute_input": "2020-11-18T11:45:16.605791Z",
     "iopub.status.busy": "2020-11-18T11:45:16.604997Z",
     "iopub.status.idle": "2020-11-18T11:45:16.625715Z",
     "shell.execute_reply": "2020-11-18T11:45:16.625116Z"
    },
    "papermill": {
     "duration": 0.13391,
     "end_time": "2020-11-18T11:45:16.625858",
     "exception": false,
     "start_time": "2020-11-18T11:45:16.491948",
     "status": "completed"
    },
    "tags": []
   },
   "outputs": [
    {
     "data": {
      "text/html": [
       "<div>\n",
       "<style scoped>\n",
       "    .dataframe tbody tr th:only-of-type {\n",
       "        vertical-align: middle;\n",
       "    }\n",
       "\n",
       "    .dataframe tbody tr th {\n",
       "        vertical-align: top;\n",
       "    }\n",
       "\n",
       "    .dataframe thead th {\n",
       "        text-align: right;\n",
       "    }\n",
       "</style>\n",
       "<table border=\"1\" class=\"dataframe\">\n",
       "  <thead>\n",
       "    <tr style=\"text-align: right;\">\n",
       "      <th></th>\n",
       "      <th>Feature</th>\n",
       "      <th>Fold_1</th>\n",
       "      <th>Fold_2</th>\n",
       "      <th>Fold_3</th>\n",
       "      <th>Fold_4</th>\n",
       "      <th>Fold_5</th>\n",
       "      <th>Average</th>\n",
       "      <th>Std</th>\n",
       "      <th>Cv</th>\n",
       "    </tr>\n",
       "  </thead>\n",
       "  <tbody>\n",
       "    <tr>\n",
       "      <th>4</th>\n",
       "      <td>app_id</td>\n",
       "      <td>782</td>\n",
       "      <td>686</td>\n",
       "      <td>657</td>\n",
       "      <td>644</td>\n",
       "      <td>714</td>\n",
       "      <td>696.6</td>\n",
       "      <td>49.077897</td>\n",
       "      <td>0.070453</td>\n",
       "    </tr>\n",
       "    <tr>\n",
       "      <th>18</th>\n",
       "      <td>media_app_id</td>\n",
       "      <td>404</td>\n",
       "      <td>368</td>\n",
       "      <td>333</td>\n",
       "      <td>337</td>\n",
       "      <td>376</td>\n",
       "      <td>363.6</td>\n",
       "      <td>26.264805</td>\n",
       "      <td>0.072235</td>\n",
       "    </tr>\n",
       "    <tr>\n",
       "      <th>6</th>\n",
       "      <td>campaign_id</td>\n",
       "      <td>376</td>\n",
       "      <td>354</td>\n",
       "      <td>331</td>\n",
       "      <td>354</td>\n",
       "      <td>354</td>\n",
       "      <td>353.8</td>\n",
       "      <td>14.232357</td>\n",
       "      <td>0.040227</td>\n",
       "    </tr>\n",
       "    <tr>\n",
       "      <th>10</th>\n",
       "      <td>game_feed_id</td>\n",
       "      <td>257</td>\n",
       "      <td>227</td>\n",
       "      <td>215</td>\n",
       "      <td>205</td>\n",
       "      <td>222</td>\n",
       "      <td>225.2</td>\n",
       "      <td>17.531686</td>\n",
       "      <td>0.077849</td>\n",
       "    </tr>\n",
       "    <tr>\n",
       "      <th>3</th>\n",
       "      <td>advertiser_id</td>\n",
       "      <td>162</td>\n",
       "      <td>144</td>\n",
       "      <td>124</td>\n",
       "      <td>138</td>\n",
       "      <td>140</td>\n",
       "      <td>141.6</td>\n",
       "      <td>12.224565</td>\n",
       "      <td>0.086332</td>\n",
       "    </tr>\n",
       "    <tr>\n",
       "      <th>21</th>\n",
       "      <td>mst_advertiser_order_id</td>\n",
       "      <td>66</td>\n",
       "      <td>79</td>\n",
       "      <td>92</td>\n",
       "      <td>73</td>\n",
       "      <td>75</td>\n",
       "      <td>77.0</td>\n",
       "      <td>8.602325</td>\n",
       "      <td>0.111719</td>\n",
       "    </tr>\n",
       "    <tr>\n",
       "      <th>15</th>\n",
       "      <td>last_login_interval</td>\n",
       "      <td>65</td>\n",
       "      <td>54</td>\n",
       "      <td>55</td>\n",
       "      <td>44</td>\n",
       "      <td>56</td>\n",
       "      <td>54.8</td>\n",
       "      <td>6.675328</td>\n",
       "      <td>0.121813</td>\n",
       "    </tr>\n",
       "    <tr>\n",
       "      <th>23</th>\n",
       "      <td>count</td>\n",
       "      <td>64</td>\n",
       "      <td>57</td>\n",
       "      <td>42</td>\n",
       "      <td>48</td>\n",
       "      <td>49</td>\n",
       "      <td>52.0</td>\n",
       "      <td>7.668116</td>\n",
       "      <td>0.147464</td>\n",
       "    </tr>\n",
       "    <tr>\n",
       "      <th>7</th>\n",
       "      <td>first_login_interval</td>\n",
       "      <td>46</td>\n",
       "      <td>46</td>\n",
       "      <td>43</td>\n",
       "      <td>42</td>\n",
       "      <td>52</td>\n",
       "      <td>45.8</td>\n",
       "      <td>3.487119</td>\n",
       "      <td>0.076138</td>\n",
       "    </tr>\n",
       "    <tr>\n",
       "      <th>22</th>\n",
       "      <td>mst_user_type_id</td>\n",
       "      <td>49</td>\n",
       "      <td>48</td>\n",
       "      <td>38</td>\n",
       "      <td>43</td>\n",
       "      <td>42</td>\n",
       "      <td>44.0</td>\n",
       "      <td>4.049691</td>\n",
       "      <td>0.092038</td>\n",
       "    </tr>\n",
       "    <tr>\n",
       "      <th>16</th>\n",
       "      <td>login_frequency</td>\n",
       "      <td>49</td>\n",
       "      <td>44</td>\n",
       "      <td>39</td>\n",
       "      <td>40</td>\n",
       "      <td>43</td>\n",
       "      <td>43.0</td>\n",
       "      <td>3.521363</td>\n",
       "      <td>0.081892</td>\n",
       "    </tr>\n",
       "    <tr>\n",
       "      <th>17</th>\n",
       "      <td>max_login_interval</td>\n",
       "      <td>41</td>\n",
       "      <td>41</td>\n",
       "      <td>37</td>\n",
       "      <td>37</td>\n",
       "      <td>31</td>\n",
       "      <td>37.4</td>\n",
       "      <td>3.666061</td>\n",
       "      <td>0.098023</td>\n",
       "    </tr>\n",
       "    <tr>\n",
       "      <th>26</th>\n",
       "      <td>uid_dayofweek=2</td>\n",
       "      <td>36</td>\n",
       "      <td>30</td>\n",
       "      <td>28</td>\n",
       "      <td>28</td>\n",
       "      <td>33</td>\n",
       "      <td>31.0</td>\n",
       "      <td>3.098387</td>\n",
       "      <td>0.099948</td>\n",
       "    </tr>\n",
       "    <tr>\n",
       "      <th>27</th>\n",
       "      <td>uid_dayofweek=3</td>\n",
       "      <td>31</td>\n",
       "      <td>23</td>\n",
       "      <td>23</td>\n",
       "      <td>26</td>\n",
       "      <td>23</td>\n",
       "      <td>25.2</td>\n",
       "      <td>3.124100</td>\n",
       "      <td>0.123972</td>\n",
       "    </tr>\n",
       "    <tr>\n",
       "      <th>29</th>\n",
       "      <td>uid_dayofweek=5</td>\n",
       "      <td>25</td>\n",
       "      <td>27</td>\n",
       "      <td>25</td>\n",
       "      <td>26</td>\n",
       "      <td>23</td>\n",
       "      <td>25.2</td>\n",
       "      <td>1.326650</td>\n",
       "      <td>0.052645</td>\n",
       "    </tr>\n",
       "    <tr>\n",
       "      <th>28</th>\n",
       "      <td>uid_dayofweek=4</td>\n",
       "      <td>28</td>\n",
       "      <td>26</td>\n",
       "      <td>22</td>\n",
       "      <td>22</td>\n",
       "      <td>26</td>\n",
       "      <td>24.8</td>\n",
       "      <td>2.400000</td>\n",
       "      <td>0.096774</td>\n",
       "    </tr>\n",
       "    <tr>\n",
       "      <th>30</th>\n",
       "      <td>uid_dayofweek=6</td>\n",
       "      <td>28</td>\n",
       "      <td>24</td>\n",
       "      <td>23</td>\n",
       "      <td>29</td>\n",
       "      <td>19</td>\n",
       "      <td>24.6</td>\n",
       "      <td>3.611094</td>\n",
       "      <td>0.146792</td>\n",
       "    </tr>\n",
       "    <tr>\n",
       "      <th>9</th>\n",
       "      <td>from_click</td>\n",
       "      <td>25</td>\n",
       "      <td>24</td>\n",
       "      <td>24</td>\n",
       "      <td>25</td>\n",
       "      <td>23</td>\n",
       "      <td>24.2</td>\n",
       "      <td>0.748331</td>\n",
       "      <td>0.030923</td>\n",
       "    </tr>\n",
       "    <tr>\n",
       "      <th>14</th>\n",
       "      <td>item_id</td>\n",
       "      <td>30</td>\n",
       "      <td>24</td>\n",
       "      <td>18</td>\n",
       "      <td>14</td>\n",
       "      <td>25</td>\n",
       "      <td>22.2</td>\n",
       "      <td>5.600000</td>\n",
       "      <td>0.252252</td>\n",
       "    </tr>\n",
       "    <tr>\n",
       "      <th>24</th>\n",
       "      <td>uid_dayofweek=0</td>\n",
       "      <td>23</td>\n",
       "      <td>20</td>\n",
       "      <td>20</td>\n",
       "      <td>22</td>\n",
       "      <td>20</td>\n",
       "      <td>21.0</td>\n",
       "      <td>1.264911</td>\n",
       "      <td>0.060234</td>\n",
       "    </tr>\n",
       "    <tr>\n",
       "      <th>25</th>\n",
       "      <td>uid_dayofweek=1</td>\n",
       "      <td>19</td>\n",
       "      <td>21</td>\n",
       "      <td>20</td>\n",
       "      <td>20</td>\n",
       "      <td>20</td>\n",
       "      <td>20.0</td>\n",
       "      <td>0.632456</td>\n",
       "      <td>0.031623</td>\n",
       "    </tr>\n",
       "    <tr>\n",
       "      <th>33</th>\n",
       "      <td>uid_hour_zone=2</td>\n",
       "      <td>20</td>\n",
       "      <td>18</td>\n",
       "      <td>20</td>\n",
       "      <td>16</td>\n",
       "      <td>19</td>\n",
       "      <td>18.6</td>\n",
       "      <td>1.496663</td>\n",
       "      <td>0.080466</td>\n",
       "    </tr>\n",
       "    <tr>\n",
       "      <th>34</th>\n",
       "      <td>uid_hour_zone=3</td>\n",
       "      <td>15</td>\n",
       "      <td>13</td>\n",
       "      <td>15</td>\n",
       "      <td>14</td>\n",
       "      <td>12</td>\n",
       "      <td>13.8</td>\n",
       "      <td>1.166190</td>\n",
       "      <td>0.084507</td>\n",
       "    </tr>\n",
       "    <tr>\n",
       "      <th>31</th>\n",
       "      <td>uid_hour_zone=0</td>\n",
       "      <td>16</td>\n",
       "      <td>11</td>\n",
       "      <td>12</td>\n",
       "      <td>11</td>\n",
       "      <td>15</td>\n",
       "      <td>13.0</td>\n",
       "      <td>2.097618</td>\n",
       "      <td>0.161355</td>\n",
       "    </tr>\n",
       "    <tr>\n",
       "      <th>32</th>\n",
       "      <td>uid_hour_zone=1</td>\n",
       "      <td>14</td>\n",
       "      <td>12</td>\n",
       "      <td>16</td>\n",
       "      <td>12</td>\n",
       "      <td>11</td>\n",
       "      <td>13.0</td>\n",
       "      <td>1.788854</td>\n",
       "      <td>0.137604</td>\n",
       "    </tr>\n",
       "    <tr>\n",
       "      <th>2</th>\n",
       "      <td>adspot_video_format_id</td>\n",
       "      <td>4</td>\n",
       "      <td>8</td>\n",
       "      <td>7</td>\n",
       "      <td>7</td>\n",
       "      <td>6</td>\n",
       "      <td>6.4</td>\n",
       "      <td>1.356466</td>\n",
       "      <td>0.211948</td>\n",
       "    </tr>\n",
       "    <tr>\n",
       "      <th>8</th>\n",
       "      <td>frequency</td>\n",
       "      <td>5</td>\n",
       "      <td>2</td>\n",
       "      <td>1</td>\n",
       "      <td>3</td>\n",
       "      <td>6</td>\n",
       "      <td>3.4</td>\n",
       "      <td>1.854724</td>\n",
       "      <td>0.545507</td>\n",
       "    </tr>\n",
       "    <tr>\n",
       "      <th>11</th>\n",
       "      <td>game_template_id</td>\n",
       "      <td>3</td>\n",
       "      <td>4</td>\n",
       "      <td>2</td>\n",
       "      <td>1</td>\n",
       "      <td>6</td>\n",
       "      <td>3.2</td>\n",
       "      <td>1.720465</td>\n",
       "      <td>0.537645</td>\n",
       "    </tr>\n",
       "    <tr>\n",
       "      <th>1</th>\n",
       "      <td>adspot_id</td>\n",
       "      <td>2</td>\n",
       "      <td>1</td>\n",
       "      <td>1</td>\n",
       "      <td>2</td>\n",
       "      <td>1</td>\n",
       "      <td>1.4</td>\n",
       "      <td>0.489898</td>\n",
       "      <td>0.349927</td>\n",
       "    </tr>\n",
       "    <tr>\n",
       "      <th>0</th>\n",
       "      <td>adnw_id</td>\n",
       "      <td>2</td>\n",
       "      <td>1</td>\n",
       "      <td>0</td>\n",
       "      <td>1</td>\n",
       "      <td>2</td>\n",
       "      <td>1.2</td>\n",
       "      <td>0.748331</td>\n",
       "      <td>0.623610</td>\n",
       "    </tr>\n",
       "    <tr>\n",
       "      <th>20</th>\n",
       "      <td>pos</td>\n",
       "      <td>1</td>\n",
       "      <td>0</td>\n",
       "      <td>1</td>\n",
       "      <td>2</td>\n",
       "      <td>1</td>\n",
       "      <td>1.0</td>\n",
       "      <td>0.632456</td>\n",
       "      <td>0.632456</td>\n",
       "    </tr>\n",
       "    <tr>\n",
       "      <th>13</th>\n",
       "      <td>is_interstitial</td>\n",
       "      <td>2</td>\n",
       "      <td>2</td>\n",
       "      <td>1</td>\n",
       "      <td>0</td>\n",
       "      <td>0</td>\n",
       "      <td>1.0</td>\n",
       "      <td>0.894427</td>\n",
       "      <td>0.894427</td>\n",
       "    </tr>\n",
       "    <tr>\n",
       "      <th>5</th>\n",
       "      <td>auction_type_id</td>\n",
       "      <td>1</td>\n",
       "      <td>0</td>\n",
       "      <td>1</td>\n",
       "      <td>0</td>\n",
       "      <td>1</td>\n",
       "      <td>0.6</td>\n",
       "      <td>0.489898</td>\n",
       "      <td>0.816497</td>\n",
       "    </tr>\n",
       "    <tr>\n",
       "      <th>19</th>\n",
       "      <td>os</td>\n",
       "      <td>0</td>\n",
       "      <td>0</td>\n",
       "      <td>0</td>\n",
       "      <td>0</td>\n",
       "      <td>1</td>\n",
       "      <td>0.2</td>\n",
       "      <td>0.400000</td>\n",
       "      <td>2.000000</td>\n",
       "    </tr>\n",
       "    <tr>\n",
       "      <th>12</th>\n",
       "      <td>header_bidding</td>\n",
       "      <td>0</td>\n",
       "      <td>0</td>\n",
       "      <td>0</td>\n",
       "      <td>0</td>\n",
       "      <td>1</td>\n",
       "      <td>0.2</td>\n",
       "      <td>0.400000</td>\n",
       "      <td>2.000000</td>\n",
       "    </tr>\n",
       "  </tbody>\n",
       "</table>\n",
       "</div>"
      ],
      "text/plain": [
       "                    Feature  Fold_1  Fold_2  Fold_3  Fold_4  Fold_5  Average  \\\n",
       "4                    app_id     782     686     657     644     714    696.6   \n",
       "18             media_app_id     404     368     333     337     376    363.6   \n",
       "6               campaign_id     376     354     331     354     354    353.8   \n",
       "10             game_feed_id     257     227     215     205     222    225.2   \n",
       "3             advertiser_id     162     144     124     138     140    141.6   \n",
       "21  mst_advertiser_order_id      66      79      92      73      75     77.0   \n",
       "15      last_login_interval      65      54      55      44      56     54.8   \n",
       "23                    count      64      57      42      48      49     52.0   \n",
       "7      first_login_interval      46      46      43      42      52     45.8   \n",
       "22         mst_user_type_id      49      48      38      43      42     44.0   \n",
       "16          login_frequency      49      44      39      40      43     43.0   \n",
       "17       max_login_interval      41      41      37      37      31     37.4   \n",
       "26          uid_dayofweek=2      36      30      28      28      33     31.0   \n",
       "27          uid_dayofweek=3      31      23      23      26      23     25.2   \n",
       "29          uid_dayofweek=5      25      27      25      26      23     25.2   \n",
       "28          uid_dayofweek=4      28      26      22      22      26     24.8   \n",
       "30          uid_dayofweek=6      28      24      23      29      19     24.6   \n",
       "9                from_click      25      24      24      25      23     24.2   \n",
       "14                  item_id      30      24      18      14      25     22.2   \n",
       "24          uid_dayofweek=0      23      20      20      22      20     21.0   \n",
       "25          uid_dayofweek=1      19      21      20      20      20     20.0   \n",
       "33          uid_hour_zone=2      20      18      20      16      19     18.6   \n",
       "34          uid_hour_zone=3      15      13      15      14      12     13.8   \n",
       "31          uid_hour_zone=0      16      11      12      11      15     13.0   \n",
       "32          uid_hour_zone=1      14      12      16      12      11     13.0   \n",
       "2    adspot_video_format_id       4       8       7       7       6      6.4   \n",
       "8                 frequency       5       2       1       3       6      3.4   \n",
       "11         game_template_id       3       4       2       1       6      3.2   \n",
       "1                 adspot_id       2       1       1       2       1      1.4   \n",
       "0                   adnw_id       2       1       0       1       2      1.2   \n",
       "20                      pos       1       0       1       2       1      1.0   \n",
       "13          is_interstitial       2       2       1       0       0      1.0   \n",
       "5           auction_type_id       1       0       1       0       1      0.6   \n",
       "19                       os       0       0       0       0       1      0.2   \n",
       "12           header_bidding       0       0       0       0       1      0.2   \n",
       "\n",
       "          Std        Cv  \n",
       "4   49.077897  0.070453  \n",
       "18  26.264805  0.072235  \n",
       "6   14.232357  0.040227  \n",
       "10  17.531686  0.077849  \n",
       "3   12.224565  0.086332  \n",
       "21   8.602325  0.111719  \n",
       "15   6.675328  0.121813  \n",
       "23   7.668116  0.147464  \n",
       "7    3.487119  0.076138  \n",
       "22   4.049691  0.092038  \n",
       "16   3.521363  0.081892  \n",
       "17   3.666061  0.098023  \n",
       "26   3.098387  0.099948  \n",
       "27   3.124100  0.123972  \n",
       "29   1.326650  0.052645  \n",
       "28   2.400000  0.096774  \n",
       "30   3.611094  0.146792  \n",
       "9    0.748331  0.030923  \n",
       "14   5.600000  0.252252  \n",
       "24   1.264911  0.060234  \n",
       "25   0.632456  0.031623  \n",
       "33   1.496663  0.080466  \n",
       "34   1.166190  0.084507  \n",
       "31   2.097618  0.161355  \n",
       "32   1.788854  0.137604  \n",
       "2    1.356466  0.211948  \n",
       "8    1.854724  0.545507  \n",
       "11   1.720465  0.537645  \n",
       "1    0.489898  0.349927  \n",
       "0    0.748331  0.623610  \n",
       "20   0.632456  0.632456  \n",
       "13   0.894427  0.894427  \n",
       "5    0.489898  0.816497  \n",
       "19   0.400000  2.000000  \n",
       "12   0.400000  2.000000  "
      ]
     },
     "execution_count": 27,
     "metadata": {},
     "output_type": "execute_result"
    }
   ],
   "source": [
    "feature_importance_df.sort_values(\"Average\", ascending=False)"
   ]
  },
  {
   "cell_type": "markdown",
   "metadata": {
    "papermill": {
     "duration": 0.100439,
     "end_time": "2020-11-18T11:45:16.826182",
     "exception": false,
     "start_time": "2020-11-18T11:45:16.725743",
     "status": "completed"
    },
    "tags": []
   },
   "source": [
    "# ts modelling"
   ]
  },
  {
   "cell_type": "code",
   "execution_count": 28,
   "metadata": {
    "execution": {
     "iopub.execute_input": "2020-11-18T11:45:17.040191Z",
     "iopub.status.busy": "2020-11-18T11:45:17.034856Z",
     "iopub.status.idle": "2020-11-18T11:45:17.049735Z",
     "shell.execute_reply": "2020-11-18T11:45:17.048991Z"
    },
    "papermill": {
     "duration": 0.123733,
     "end_time": "2020-11-18T11:45:17.049885",
     "exception": false,
     "start_time": "2020-11-18T11:45:16.926152",
     "status": "completed"
    },
    "tags": []
   },
   "outputs": [],
   "source": [
    "def pr_auc_metric(y_predicted, y_true):\n",
    "    return 'pr_auc', average_precision_score(y_true.get_label(), y_predicted), True\n",
    "\n",
    "def modelling_ts(seed):\n",
    "    print(\"seed:\", seed)\n",
    "    lgbm_params = {'objective': 'binary', 'metric': 'None', 'boosting_type': 'gbdt', \n",
    "               'tree_learner': 'serial', 'learning_rate': 0.1, \"num_leaves\": 10, 'random_seed':seed,'max_depth': 5}\n",
    "    y_train = train_df.target.copy()\n",
    "    X_train = train_df.drop(['target'],axis=1).copy()\n",
    "    y_valid = valid_df.target.copy()\n",
    "    X_valid = valid_df.drop(['target'],axis=1).copy()\n",
    "    \n",
    "    valid_lgb = pd.DataFrame(np.zeros([X_train.shape[0]]))\n",
    "    real = np.array([])\n",
    "    features_list = [i for i in X_train.columns]\n",
    "    feature_importance_df = pd.DataFrame(features_list, columns=[\"Feature\"])\n",
    "        \n",
    "    lgb_train = lgb.Dataset(X_train, y_train)\n",
    "    lgb_eval = lgb.Dataset(X_valid, y_valid, reference=lgb_train)\n",
    "        \n",
    "    model = lgb.train(lgbm_params, lgb_train,valid_sets=[lgb_train, lgb_eval],\n",
    "       num_boost_round=10000,early_stopping_rounds=20,verbose_eval = 10, feval=pr_auc_metric, categorical_feature = sorted(object_feats))\n",
    "    \n",
    "    valid_predict = model.predict(X_valid, num_iteration = model.best_iteration)\n",
    "    feature_importance_df[\"Importance\"] = model.feature_importance()\n",
    "        \n",
    "    score = average_precision_score(y_valid, valid_predict)\n",
    "    print(\"average precision score = {}\".format(score))\n",
    "    pred_value = model.predict(test, num_iteration = model.best_iteration)\n",
    "    \n",
    "    return pred_value, valid_predict, feature_importance_df\n",
    "\n",
    "#validation_ts = np.zeros([valid_df.shape[0]])\n",
    "#pred_value_ts = np.zeros([test.shape[0]])\n",
    "#seeds = [0]\n",
    "#for seed_ in seeds:\n",
    "#    test_pred, oof_predict, feature_importance_df = modelling_ts(seed_)\n",
    "#    validation_ts += oof_predict / len(seeds)\n",
    "#    pred_value_ts += test_pred / len(seeds)\n",
    "\n",
    "#ts_score = average_precision_score(valid_df.target, validation_ts)\n",
    "#print(ts_score)"
   ]
  },
  {
   "cell_type": "code",
   "execution_count": 29,
   "metadata": {
    "execution": {
     "iopub.execute_input": "2020-11-18T11:45:17.257645Z",
     "iopub.status.busy": "2020-11-18T11:45:17.256660Z",
     "iopub.status.idle": "2020-11-18T11:45:17.259245Z",
     "shell.execute_reply": "2020-11-18T11:45:17.259769Z"
    },
    "papermill": {
     "duration": 0.109419,
     "end_time": "2020-11-18T11:45:17.259965",
     "exception": false,
     "start_time": "2020-11-18T11:45:17.150546",
     "status": "completed"
    },
    "tags": []
   },
   "outputs": [],
   "source": [
    "#feature_importance_df.sort_values(\"Importance\", ascending=False)"
   ]
  },
  {
   "cell_type": "markdown",
   "metadata": {
    "papermill": {
     "duration": 0.100715,
     "end_time": "2020-11-18T11:45:17.462181",
     "exception": false,
     "start_time": "2020-11-18T11:45:17.361466",
     "status": "completed"
    },
    "tags": []
   },
   "source": [
    "# submission"
   ]
  },
  {
   "cell_type": "code",
   "execution_count": 30,
   "metadata": {
    "execution": {
     "iopub.execute_input": "2020-11-18T11:45:17.678702Z",
     "iopub.status.busy": "2020-11-18T11:45:17.677906Z",
     "iopub.status.idle": "2020-11-18T11:45:19.823704Z",
     "shell.execute_reply": "2020-11-18T11:45:19.824374Z"
    },
    "papermill": {
     "duration": 2.258247,
     "end_time": "2020-11-18T11:45:19.824566",
     "exception": false,
     "start_time": "2020-11-18T11:45:17.566319",
     "status": "completed"
    },
    "tags": []
   },
   "outputs": [],
   "source": [
    "lgb_sub = pd.read_csv(DIR + \"atmaCup7__sample_submission.csv\")\n",
    "lgb_sub[\"target\"] = pred_value\n",
    "lgb_sub.to_csv(\"atmacup7_lgb\"+str(score)[:-10]+\".csv\", index = False)"
   ]
  },
  {
   "cell_type": "code",
   "execution_count": null,
   "metadata": {
    "papermill": {
     "duration": 0.100292,
     "end_time": "2020-11-18T11:45:20.026340",
     "exception": false,
     "start_time": "2020-11-18T11:45:19.926048",
     "status": "completed"
    },
    "tags": []
   },
   "outputs": [],
   "source": []
  }
 ],
 "metadata": {
  "kernelspec": {
   "display_name": "Python 3",
   "language": "python",
   "name": "python3"
  },
  "language_info": {
   "codemirror_mode": {
    "name": "ipython",
    "version": 3
   },
   "file_extension": ".py",
   "mimetype": "text/x-python",
   "name": "python",
   "nbconvert_exporter": "python",
   "pygments_lexer": "ipython3",
   "version": "3.7.6"
  },
  "papermill": {
   "duration": 1560.801177,
   "end_time": "2020-11-18T11:45:20.236107",
   "environment_variables": {},
   "exception": null,
   "input_path": "__notebook__.ipynb",
   "output_path": "__notebook__.ipynb",
   "parameters": {},
   "start_time": "2020-11-18T11:19:19.434930",
   "version": "2.1.0"
  }
 },
 "nbformat": 4,
 "nbformat_minor": 4
}
