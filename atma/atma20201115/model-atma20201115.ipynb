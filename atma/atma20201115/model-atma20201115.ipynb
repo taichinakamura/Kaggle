{
 "cells": [
  {
   "cell_type": "markdown",
   "metadata": {
    "papermill": {
     "duration": 0.023372,
     "end_time": "2020-11-18T07:45:19.713955",
     "exception": false,
     "start_time": "2020-11-18T07:45:19.690583",
     "status": "completed"
    },
    "tags": []
   },
   "source": [
    "- cancel click view per day per user info, but change location of implementation"
   ]
  },
  {
   "cell_type": "code",
   "execution_count": 1,
   "metadata": {
    "execution": {
     "iopub.execute_input": "2020-11-18T07:45:19.764075Z",
     "iopub.status.busy": "2020-11-18T07:45:19.763245Z",
     "iopub.status.idle": "2020-11-18T07:45:28.698595Z",
     "shell.execute_reply": "2020-11-18T07:45:28.697986Z"
    },
    "papermill": {
     "duration": 8.962339,
     "end_time": "2020-11-18T07:45:28.698734",
     "exception": false,
     "start_time": "2020-11-18T07:45:19.736395",
     "status": "completed"
    },
    "tags": []
   },
   "outputs": [
    {
     "name": "stdout",
     "output_type": "stream",
     "text": [
      "Collecting jpholiday\r\n",
      "  Downloading jpholiday-0.1.4-py3-none-any.whl (8.5 kB)\r\n",
      "Installing collected packages: jpholiday\r\n",
      "Successfully installed jpholiday-0.1.4\r\n"
     ]
    }
   ],
   "source": [
    "!pip install jpholiday "
   ]
  },
  {
   "cell_type": "code",
   "execution_count": 2,
   "metadata": {
    "_cell_guid": "b1076dfc-b9ad-4769-8c92-a6c4dae69d19",
    "_uuid": "8f2839f25d086af736a60e9eeb907d3b93b6e0e5",
    "execution": {
     "iopub.execute_input": "2020-11-18T07:45:28.750572Z",
     "iopub.status.busy": "2020-11-18T07:45:28.749478Z",
     "iopub.status.idle": "2020-11-18T07:45:29.734755Z",
     "shell.execute_reply": "2020-11-18T07:45:29.734051Z"
    },
    "papermill": {
     "duration": 1.013823,
     "end_time": "2020-11-18T07:45:29.734877",
     "exception": false,
     "start_time": "2020-11-18T07:45:28.721054",
     "status": "completed"
    },
    "tags": []
   },
   "outputs": [],
   "source": [
    "import os\n",
    "import jpholiday\n",
    "import numpy as np\n",
    "import pandas as pd\n",
    "import warnings\n",
    "import lightgbm as lgb\n",
    "from sklearn import preprocessing\n",
    "from datetime import timedelta\n",
    "from tqdm.notebook import tqdm_notebook\n",
    "from sklearn.metrics import average_precision_score\n",
    "from sklearn.model_selection import StratifiedKFold\n",
    "warnings.filterwarnings('ignore')\n",
    "tqdm_notebook.pandas(desc=\"progress: \")"
   ]
  },
  {
   "cell_type": "code",
   "execution_count": 3,
   "metadata": {
    "execution": {
     "iopub.execute_input": "2020-11-18T07:45:29.785146Z",
     "iopub.status.busy": "2020-11-18T07:45:29.784463Z",
     "iopub.status.idle": "2020-11-18T07:45:50.947791Z",
     "shell.execute_reply": "2020-11-18T07:45:50.947060Z"
    },
    "papermill": {
     "duration": 21.191585,
     "end_time": "2020-11-18T07:45:50.947924",
     "exception": false,
     "start_time": "2020-11-18T07:45:29.756339",
     "status": "completed"
    },
    "tags": []
   },
   "outputs": [],
   "source": [
    "DIR = \"../input/20201115at/\"\n",
    "train = pd.read_csv(DIR+\"train.csv\")\n",
    "test = pd.read_csv(DIR+\"test.csv\")\n",
    "campaign = pd.read_csv(DIR+\"campaign.csv\")\n",
    "\n",
    "#advertiser_video = pd.read_csv(DIR+\"advertiser_video.csv\")\n",
    "#map_game_feed_native_video_assets = pd.read_csv(DIR+'map_game_feed_native_video_assets.csv')\n",
    "#advertiser_converted_video = pd.read_csv(DIR+\"advertiser_converted_video.csv\")"
   ]
  },
  {
   "cell_type": "code",
   "execution_count": 4,
   "metadata": {
    "execution": {
     "iopub.execute_input": "2020-11-18T07:45:50.998604Z",
     "iopub.status.busy": "2020-11-18T07:45:50.997632Z",
     "iopub.status.idle": "2020-11-18T07:45:51.001282Z",
     "shell.execute_reply": "2020-11-18T07:45:51.000540Z"
    },
    "papermill": {
     "duration": 0.030507,
     "end_time": "2020-11-18T07:45:51.001407",
     "exception": false,
     "start_time": "2020-11-18T07:45:50.970900",
     "status": "completed"
    },
    "tags": []
   },
   "outputs": [],
   "source": [
    "#cols = [\"mst_advertiser_video_id\", \"mst_game_feed_id\", \"mst_video_template_id\"]\n",
    "#advertiser_converted_video = advertiser_converted_video[~advertiser_converted_video[cols].duplicated(keep=\"last\")]"
   ]
  },
  {
   "cell_type": "markdown",
   "metadata": {
    "papermill": {
     "duration": 0.021912,
     "end_time": "2020-11-18T07:45:51.046015",
     "exception": false,
     "start_time": "2020-11-18T07:45:51.024103",
     "status": "completed"
    },
    "tags": []
   },
   "source": [
    "# preprocess"
   ]
  },
  {
   "cell_type": "code",
   "execution_count": 5,
   "metadata": {
    "execution": {
     "iopub.execute_input": "2020-11-18T07:45:51.232160Z",
     "iopub.status.busy": "2020-11-18T07:45:51.231109Z",
     "iopub.status.idle": "2020-11-18T07:46:01.391717Z",
     "shell.execute_reply": "2020-11-18T07:46:01.391103Z"
    },
    "papermill": {
     "duration": 10.323346,
     "end_time": "2020-11-18T07:46:01.391841",
     "exception": false,
     "start_time": "2020-11-18T07:45:51.068495",
     "status": "completed"
    },
    "tags": []
   },
   "outputs": [],
   "source": [
    "# with campaign\n",
    "train = train.merge(campaign, left_on=\"campaign_id\", right_on = \"id\", how=\"left\").drop([\"mst_advertiser_id\", \"id\"], axis=1)\n",
    "test = test.merge(campaign, left_on=\"campaign_id\", right_on = \"id\", how=\"left\").drop([\"mst_advertiser_id\", \"id\"], axis=1)"
   ]
  },
  {
   "cell_type": "code",
   "execution_count": 6,
   "metadata": {
    "execution": {
     "iopub.execute_input": "2020-11-18T07:46:01.453197Z",
     "iopub.status.busy": "2020-11-18T07:46:01.451990Z",
     "iopub.status.idle": "2020-11-18T07:46:01.455343Z",
     "shell.execute_reply": "2020-11-18T07:46:01.454689Z"
    },
    "papermill": {
     "duration": 0.041941,
     "end_time": "2020-11-18T07:46:01.455462",
     "exception": false,
     "start_time": "2020-11-18T07:46:01.413521",
     "status": "completed"
    },
    "tags": []
   },
   "outputs": [],
   "source": [
    "def merge_all(\n",
    "    df: pd.DataFrame, map_game_feed_native_video_assets: pd.DataFrame,\n",
    "    advertiser_video: pd.DataFrame, advertiser_converted_video: pd.DataFrame,\n",
    ") -> pd.DataFrame:\n",
    "    # merge res and map_game_feed_native_video_assets\n",
    "    res = pd.merge(df,map_game_feed_native_video_assets,left_on=\"game_feed_id\",right_on=\"mst_game_feed_id\",how=\"left\",\n",
    "    ).drop(columns=[\"mst_game_feed_id\"])  \n",
    "    # remove map_game_feed_native_video_assets keys\n",
    "\n",
    "    # merge res and advertiser_video (horizontal case)\n",
    "    horizontal = advertiser_video.copy()\n",
    "    left_keys = [\"horizontal_mst_advertiser_video_id\", \"advertiser_id\"]\n",
    "    right_keys = [\"id\", \"mst_advertiser_id\"]\n",
    "    horizontal.columns = [f\"horizontal_{c}\" if c not in right_keys else c for c in horizontal.columns]\n",
    "    res = pd.merge(res, horizontal, left_on=left_keys, right_on=right_keys, how=\"left\").drop(columns=right_keys) \n",
    "    # remove advertiser_video keys\n",
    "    \n",
    "    # merge res and advertiser_video (vertical case)\n",
    "    vertical = advertiser_video.copy()\n",
    "    left_keys = [\"vertical_mst_advertiser_video_id\", \"advertiser_id\"]\n",
    "    right_keys = [\"id\", \"mst_advertiser_id\"]\n",
    "    vertical.columns = [f\"vertical_{c}\" if c not in right_keys else c for c in vertical.columns]\n",
    "    res = pd.merge(res, vertical, left_on=left_keys, right_on=right_keys, how=\"left\").drop(columns=right_keys) \n",
    "    # remove advertiser_video keys\n",
    "\n",
    "    # merge res and advertiser_converted_video (horizontal case)\n",
    "    left_keys = [\"horizontal_mst_advertiser_video_id\", \"game_feed_id\", \"video_template_id\",]\n",
    "    right_keys = [\"mst_advertiser_video_id\",\"mst_game_feed_id\", \"mst_video_template_id\",]\n",
    "    horizontal = advertiser_converted_video.copy()\n",
    "    horizontal.columns = [ f\"horizontal_converted_{c}\" if c not in right_keys else c for c in horizontal.columns]\n",
    "    res = pd.merge(res, horizontal, left_on=left_keys, right_on=right_keys, how=\"left\").drop(columns=right_keys)\n",
    "    # remove advertiser_converted_video keys\n",
    "    \n",
    "    # merge res and advertiser_converted_video (vertical case)\n",
    "    left_keys = [\"vertical_mst_advertiser_video_id\",\"game_feed_id\",\"video_template_id\",]\n",
    "    right_keys = [\"mst_advertiser_video_id\",\"mst_game_feed_id\",\"mst_video_template_id\",]\n",
    "    vertical = advertiser_converted_video.copy()\n",
    "    vertical.columns = [f\"vertical_converted_{c}\" if c not in right_keys else c for c in vertical.columns]\n",
    "    res = pd.merge(res, vertical, left_on=left_keys, right_on=right_keys, how=\"left\").drop(columns=right_keys)\n",
    "    # remove advertiser_converted_video keys\n",
    "\n",
    "    return res\n",
    "\n",
    "#train = merge_all(train, map_game_feed_native_video_assets, advertiser_video, advertiser_converted_video)\n",
    "#test = merge_all(test, map_game_feed_native_video_assets, advertiser_video, advertiser_converted_video)\n",
    "\n",
    "#train[\"duration\"] = train[\"vertical_duration\"].fillna(0) + train[\"horizontal_duration\"].fillna(0)\n",
    "#train.drop([\"vertical_duration\", \"horizontal_duration\"], axis=1, inplace=True)\n",
    "\n",
    "#test[\"duration\"] = test[\"vertical_duration\"].fillna(0) + test[\"horizontal_duration\"].fillna(0)\n",
    "#test.drop([\"vertical_duration\", \"horizontal_duration\"], axis=1, inplace=True)\n",
    "\n",
    "# filesize\n",
    "#train[\"filesize\"] = train[\"vertical_file_size\"].fillna(0) + train[\"horizontal_file_size\"].fillna(0)\n",
    "#train.drop([\"vertical_file_size\", \"horizontal_file_size\"], axis=1, inplace=True)\n",
    "\n",
    "#test[\"filesize\"] = test[\"vertical_file_size\"].fillna(0) + test[\"horizontal_file_size\"].fillna(0)\n",
    "#test.drop([\"vertical_file_size\", \"horizontal_file_size\"], axis=1, inplace=True)\n",
    "\n",
    "# converted filesize\n",
    "#train[\"converted_filesize\"] = train[\"vertical_converted_file_size\"].fillna(0.0) + train[\"horizontal_converted_file_size\"].fillna(0)\n",
    "#train.drop([\"vertical_converted_file_size\", \"horizontal_converted_file_size\"], axis=1, inplace=True)\n",
    "\n",
    "#test[\"converted_filesize\"] = test[\"horizontal_converted_file_size\"].fillna(0.0) + test[\"vertical_converted_file_size\"].fillna(0)\n",
    "#test.drop([\"vertical_converted_file_size\", \"horizontal_converted_file_size\"], axis=1, inplace=True)\n",
    "\n",
    "# bitrate\n",
    "#train[\"bitrate\"] = train[\"vertical_converted_bitrate\"].fillna(0) + train[\"horizontal_converted_bitrate\"].fillna(0)\n",
    "#train.drop([\"vertical_converted_bitrate\", \"horizontal_converted_bitrate\"], axis=1, inplace=True)\n",
    "\n",
    "#test[\"bitrate\"] = test[\"vertical_converted_bitrate\"].fillna(0) + test[\"horizontal_converted_bitrate\"].fillna(0)\n",
    "#test.drop([\"vertical_converted_bitrate\", \"horizontal_converted_bitrate\"], axis=1, inplace=True)"
   ]
  },
  {
   "cell_type": "code",
   "execution_count": 7,
   "metadata": {
    "execution": {
     "iopub.execute_input": "2020-11-18T07:46:01.883774Z",
     "iopub.status.busy": "2020-11-18T07:46:01.883043Z",
     "iopub.status.idle": "2020-11-18T07:46:02.570816Z",
     "shell.execute_reply": "2020-11-18T07:46:02.570129Z"
    },
    "papermill": {
     "duration": 1.09307,
     "end_time": "2020-11-18T07:46:02.570934",
     "exception": false,
     "start_time": "2020-11-18T07:46:01.477864",
     "status": "completed"
    },
    "tags": []
   },
   "outputs": [],
   "source": [
    "train[\"imp_at\"] = pd.to_datetime(train[\"imp_at\"])\n",
    "test[\"imp_at\"] = pd.to_datetime(test[\"imp_at\"])"
   ]
  },
  {
   "cell_type": "code",
   "execution_count": 8,
   "metadata": {
    "execution": {
     "iopub.execute_input": "2020-11-18T07:46:02.996036Z",
     "iopub.status.busy": "2020-11-18T07:46:02.995338Z",
     "iopub.status.idle": "2020-11-18T07:46:04.360369Z",
     "shell.execute_reply": "2020-11-18T07:46:04.359680Z"
    },
    "papermill": {
     "duration": 1.767558,
     "end_time": "2020-11-18T07:46:04.360490",
     "exception": false,
     "start_time": "2020-11-18T07:46:02.592932",
     "status": "completed"
    },
    "tags": []
   },
   "outputs": [],
   "source": [
    "train[\"click_or_view_at\"] = pd.to_datetime(train[\"click_or_view_at\"])\n",
    "train[\"cv_at\"] = pd.to_datetime(train[\"cv_at\"])"
   ]
  },
  {
   "cell_type": "code",
   "execution_count": 9,
   "metadata": {
    "execution": {
     "iopub.execute_input": "2020-11-18T07:46:04.414651Z",
     "iopub.status.busy": "2020-11-18T07:46:04.412471Z",
     "iopub.status.idle": "2020-11-18T07:46:05.434413Z",
     "shell.execute_reply": "2020-11-18T07:46:05.433763Z"
    },
    "papermill": {
     "duration": 1.052176,
     "end_time": "2020-11-18T07:46:05.434541",
     "exception": false,
     "start_time": "2020-11-18T07:46:04.382365",
     "status": "completed"
    },
    "tags": []
   },
   "outputs": [],
   "source": [
    "# drop because distribution is different\n",
    "train.drop(['os_version'], axis=1, inplace=True)\n",
    "test.drop(['os_version'], axis=1, inplace=True)\n",
    "\n",
    "# noise features?\n",
    "train.drop(['user_type_id', \"category_id\",  \"video_template_id\", \"country_code\", \"game_feed_asset_type_id\"], axis=1, inplace=True)\n",
    "test.drop(['user_type_id', \"category_id\",  \"video_template_id\", \"country_code\", \"game_feed_asset_type_id\"], axis=1, inplace=True)"
   ]
  },
  {
   "cell_type": "code",
   "execution_count": 10,
   "metadata": {
    "execution": {
     "iopub.execute_input": "2020-11-18T07:46:05.745304Z",
     "iopub.status.busy": "2020-11-18T07:46:05.744383Z",
     "iopub.status.idle": "2020-11-18T07:46:31.288878Z",
     "shell.execute_reply": "2020-11-18T07:46:31.288120Z"
    },
    "papermill": {
     "duration": 25.832676,
     "end_time": "2020-11-18T07:46:31.289023",
     "exception": false,
     "start_time": "2020-11-18T07:46:05.456347",
     "status": "completed"
    },
    "tags": []
   },
   "outputs": [],
   "source": [
    "object_feats = [i for i in train.columns if \"object\" == str(train[i].dtype) and i != \"request_id\"]\n",
    "\n",
    "def get_non_overlapping(train: pd.DataFrame, test: pd.DataFrame, column: str):\n",
    "    only_in_train = set(train[column].unique()) - set(test[column].unique())\n",
    "    only_in_test = set(test[column].unique()) - set(train[column].unique())\n",
    "    non_overlapping = only_in_train.union(only_in_test)\n",
    "    return non_overlapping\n",
    "\n",
    "def category2num(train: pd.DataFrame, test: pd.DataFrame, columns: list):\n",
    "    train_ = train.copy()\n",
    "    test_ = test.copy()\n",
    "    for column in columns:\n",
    "        non_overlapping = get_non_overlapping(train, test, column)\n",
    "        try:\n",
    "            if train[column].dtype == np.dtype(\"O\"):\n",
    "                # dtypeがobjectなら欠損は'missing' クラスにする\n",
    "                train_[column] = train[column].fillna(\"missing\")\n",
    "                test_[column] = test[column].fillna(\"missing\")\n",
    "                train_[column] = train_[column].map(lambda x: x if x not in non_overlapping else \"other\")\n",
    "                test_[column] = test_[column].map(lambda x: x if x not in non_overlapping else \"other\")\n",
    "            else:\n",
    "                # dtypeがint/floatなら欠損は'-1'とする\n",
    "                train_[column] = train[column].fillna(-1)\n",
    "                test_[column] = test[column].fillna(-1)\n",
    "                train_[column] = train_[column].map(lambda x: x if x not in non_overlapping else -2)\n",
    "                test_[column] = test_[column].map(lambda x: x if x not in non_overlapping else -2)\n",
    "\n",
    "            le = preprocessing.LabelEncoder()\n",
    "            concatenated = pd.concat([train_, test_], axis=0).reset_index(drop=True)\n",
    "            le.fit(concatenated[column])\n",
    "            train_[column] = le.transform(train_[column])\n",
    "            test_[column] = le.transform(test_[column])\n",
    "        except Exception:\n",
    "            import pdb\n",
    "            pdb.set_trace()\n",
    "    return train_, test_\n",
    "\n",
    "train, test = category2num(train, test, object_feats)"
   ]
  },
  {
   "cell_type": "code",
   "execution_count": 11,
   "metadata": {
    "execution": {
     "iopub.execute_input": "2020-11-18T07:46:31.342032Z",
     "iopub.status.busy": "2020-11-18T07:46:31.341334Z",
     "iopub.status.idle": "2020-11-18T07:46:33.273941Z",
     "shell.execute_reply": "2020-11-18T07:46:33.273298Z"
    },
    "papermill": {
     "duration": 1.96265,
     "end_time": "2020-11-18T07:46:33.274075",
     "exception": false,
     "start_time": "2020-11-18T07:46:31.311425",
     "status": "completed"
    },
    "tags": []
   },
   "outputs": [],
   "source": [
    "train[\"click_or_view_day\"] = train[\"click_or_view_at\"].dt.dayofweek\n",
    "click_view_df = train.groupby(\"uid\")[\"click_or_view_day\"].value_counts().unstack(fill_value=0)\n",
    "click_view_df.columns = [\"cv\"+str(i) for i in range(7)]\n",
    "click_view_df = click_view_df.reset_index(drop=False)\n",
    "train.drop(\"click_or_view_day\", axis=1, inplace=True)\n",
    "\n",
    "train = pd.merge(train, click_view_df, on=\"uid\", how=\"left\")\n",
    "test = pd.merge(test, click_view_df, on=\"uid\", how=\"left\")"
   ]
  },
  {
   "cell_type": "code",
   "execution_count": 12,
   "metadata": {
    "execution": {
     "iopub.execute_input": "2020-11-18T07:46:33.325086Z",
     "iopub.status.busy": "2020-11-18T07:46:33.324226Z",
     "iopub.status.idle": "2020-11-18T07:46:33.841409Z",
     "shell.execute_reply": "2020-11-18T07:46:33.840695Z"
    },
    "papermill": {
     "duration": 0.54511,
     "end_time": "2020-11-18T07:46:33.841541",
     "exception": false,
     "start_time": "2020-11-18T07:46:33.296431",
     "status": "completed"
    },
    "tags": []
   },
   "outputs": [],
   "source": [
    "# drop because the exist only in train\n",
    "train.drop(['click_or_view_at', 'cv_at','last_cv_interval', 'last_paid_interval'], axis=1, inplace=True)"
   ]
  },
  {
   "cell_type": "markdown",
   "metadata": {
    "papermill": {
     "duration": 0.022799,
     "end_time": "2020-11-18T07:46:33.888458",
     "exception": false,
     "start_time": "2020-11-18T07:46:33.865659",
     "status": "completed"
    },
    "tags": []
   },
   "source": [
    "# feature engineering"
   ]
  },
  {
   "cell_type": "code",
   "execution_count": 13,
   "metadata": {
    "execution": {
     "iopub.execute_input": "2020-11-18T07:46:33.940276Z",
     "iopub.status.busy": "2020-11-18T07:46:33.939534Z",
     "iopub.status.idle": "2020-11-18T07:46:37.504714Z",
     "shell.execute_reply": "2020-11-18T07:46:37.503987Z"
    },
    "papermill": {
     "duration": 3.593637,
     "end_time": "2020-11-18T07:46:37.504836",
     "exception": false,
     "start_time": "2020-11-18T07:46:33.911199",
     "status": "completed"
    },
    "tags": []
   },
   "outputs": [],
   "source": [
    "train[\"type\"] = \"train\"\n",
    "test[\"type\"] = \"test\"\n",
    "all_df = pd.concat([train, test])\n",
    "all_df = all_df.sort_values([\"uid\", \"imp_at\"]).reset_index(drop=True)"
   ]
  },
  {
   "cell_type": "code",
   "execution_count": 14,
   "metadata": {
    "execution": {
     "iopub.execute_input": "2020-11-18T07:46:37.554820Z",
     "iopub.status.busy": "2020-11-18T07:46:37.554101Z",
     "iopub.status.idle": "2020-11-18T07:46:37.649326Z",
     "shell.execute_reply": "2020-11-18T07:46:37.649840Z"
    },
    "papermill": {
     "duration": 0.122682,
     "end_time": "2020-11-18T07:46:37.650010",
     "exception": false,
     "start_time": "2020-11-18T07:46:37.527328",
     "status": "completed"
    },
    "tags": []
   },
   "outputs": [],
   "source": [
    "all_df[\"count\"] = 1\n",
    "all_df[\"count\"] = all_df.groupby(\"uid\")[\"count\"].cumsum()"
   ]
  },
  {
   "cell_type": "code",
   "execution_count": 15,
   "metadata": {
    "execution": {
     "iopub.execute_input": "2020-11-18T07:46:37.711001Z",
     "iopub.status.busy": "2020-11-18T07:46:37.710057Z",
     "iopub.status.idle": "2020-11-18T07:46:45.573571Z",
     "shell.execute_reply": "2020-11-18T07:46:45.573018Z"
    },
    "papermill": {
     "duration": 7.90064,
     "end_time": "2020-11-18T07:46:45.573694",
     "exception": false,
     "start_time": "2020-11-18T07:46:37.673054",
     "status": "completed"
    },
    "tags": []
   },
   "outputs": [],
   "source": [
    "def _create_whole_imp_at_feature(whole_df) -> pd.DataFrame:\n",
    "\n",
    "    imp_at = pd.to_datetime(whole_df['imp_at']) + timedelta(hours=9) # utc -> asia/tokyo\n",
    "    out_df = pd.DataFrame()\n",
    "    out_df['hours'] = imp_at.dt.hour\n",
    "    out_df['dayofweek'] = imp_at.dt.dayofweek\n",
    "    out_df['hour_zone'] = pd.cut(out_df['hours'].values, bins=[-np.inf, 6, 12, 18, np.inf]).codes\n",
    "\n",
    "    def _create_pivot(input_df, c, column='dayofweek', values='hours'):\n",
    "        _df = pd.pivot_table(data=input_df, index=[c], columns=[column], values=values, aggfunc='count')\n",
    "        _df = _df.fillna(0)\n",
    "        _df.columns = [column + '=' + str(x) for x in _df.columns]\n",
    "\n",
    "        # index ごとに正規化して割合にする\n",
    "        _df = _df.div(_df.sum(axis=1), axis=0)\n",
    "        return pd.merge(input_df[c], _df, on=c, how='left').drop(columns=[c]).add_prefix(c + '_')\n",
    "\n",
    "    # uid での集約\n",
    "    for c in ['uid']:\n",
    "        _df = out_df.copy()\n",
    "        _df[c] = whole_df[c]\n",
    "        _feat = pd.concat([\n",
    "            _create_pivot(_df, c),\n",
    "            _create_pivot(_df, c, column='hour_zone', values='dayofweek')  \n",
    "        ], axis=1)\n",
    "        out_df = pd.concat([out_df, _feat], axis=1)\n",
    "\n",
    "    out_df['request_id'] = whole_df['request_id']\n",
    "    return out_df\n",
    "\n",
    "user_imp_df = _create_whole_imp_at_feature(all_df)\n",
    "user_imp_df.drop([\"hours\",\"dayofweek\",\"hour_zone\"], axis=1, inplace=True)\n",
    "all_df = all_df.merge(user_imp_df, on=\"request_id\", how=\"left\")"
   ]
  },
  {
   "cell_type": "code",
   "execution_count": 16,
   "metadata": {
    "execution": {
     "iopub.execute_input": "2020-11-18T07:46:45.624469Z",
     "iopub.status.busy": "2020-11-18T07:46:45.623756Z",
     "iopub.status.idle": "2020-11-18T07:46:45.626883Z",
     "shell.execute_reply": "2020-11-18T07:46:45.626265Z"
    },
    "papermill": {
     "duration": 0.030117,
     "end_time": "2020-11-18T07:46:45.626999",
     "exception": false,
     "start_time": "2020-11-18T07:46:45.596882",
     "status": "completed"
    },
    "tags": []
   },
   "outputs": [],
   "source": [
    "#user_last_login_df = all_df.groupby(\"uid\")[\"last_login_interval\"].agg({\"mean\", \"max\", \"median\"}).add_prefix('last_login_interval_').reset_index(drop=False)\n",
    "#all_df = all_df.merge(user_last_login_df, on=\"uid\", how=\"left\")\n",
    "\n",
    "#user_first_login_df = all_df.groupby(\"uid\")[\"first_login_interval\"].agg({\"mean\", \"max\", \"median\"}).add_prefix('first_login_interval_').reset_index(drop=False)\n",
    "#all_df = all_df.merge(user_first_login_df, on=\"uid\", how=\"left\")\n",
    "\n",
    "#user_login_dif_df = all_df.groupby(\"uid\")[\"login_diff\"].agg({\"mean\", \"max\", \"median\"}).add_prefix('login_diff_').reset_index(drop=False)\n",
    "#all_df = all_df.merge(user_login_dif_df, on=\"uid\", how=\"left\")\n",
    "\n",
    "# all_df[\"login_diff\"] = all_df[\"first_login_interval\"] - all_df[\"last_login_interval\"]"
   ]
  },
  {
   "cell_type": "code",
   "execution_count": 17,
   "metadata": {
    "execution": {
     "iopub.execute_input": "2020-11-18T07:46:45.677516Z",
     "iopub.status.busy": "2020-11-18T07:46:45.676899Z",
     "iopub.status.idle": "2020-11-18T07:46:45.679805Z",
     "shell.execute_reply": "2020-11-18T07:46:45.679162Z"
    },
    "papermill": {
     "duration": 0.030054,
     "end_time": "2020-11-18T07:46:45.679920",
     "exception": false,
     "start_time": "2020-11-18T07:46:45.649866",
     "status": "completed"
    },
    "tags": []
   },
   "outputs": [],
   "source": [
    "#all_df[\"date\"] = all_df[\"imp_at\"].dt.date\n",
    "#all_df[\"dif_login\"] = all_df.groupby(\"uid\")[\"date\"].progress_apply(lambda x: x.diff(1))\n",
    "#all_df[\"dif_login\"] = all_df[\"dif_login\"].progress_apply(lambda x: x.days)\n",
    "#all_df[\"dif_login\"] = all_df[\"dif_login\"].fillna(0)\n",
    "#all_df[\"total_logdays\"] = all_df[\"dif_login\"].progress_apply(lambda x: x if x ==0 or x==1 else 1)\n",
    "#all_df[\"total_logdays\"] = all_df.groupby(\"uid\")[\"total_logdays\"].progress_apply(lambda x: x.cumsum()) + 1"
   ]
  },
  {
   "cell_type": "code",
   "execution_count": 18,
   "metadata": {
    "execution": {
     "iopub.execute_input": "2020-11-18T07:46:45.845972Z",
     "iopub.status.busy": "2020-11-18T07:46:45.731265Z",
     "iopub.status.idle": "2020-11-18T07:46:47.959259Z",
     "shell.execute_reply": "2020-11-18T07:46:47.958684Z"
    },
    "papermill": {
     "duration": 2.256475,
     "end_time": "2020-11-18T07:46:47.959381",
     "exception": false,
     "start_time": "2020-11-18T07:46:45.702906",
     "status": "completed"
    },
    "tags": []
   },
   "outputs": [],
   "source": [
    "train = all_df[all_df.type==\"train\"].drop(\"type\", axis=1).reset_index(drop=True)\n",
    "test = all_df[all_df.type==\"test\"].drop(\"type\", axis=1).reset_index(drop=True)"
   ]
  },
  {
   "cell_type": "code",
   "execution_count": 19,
   "metadata": {
    "execution": {
     "iopub.execute_input": "2020-11-18T07:46:48.023359Z",
     "iopub.status.busy": "2020-11-18T07:46:48.022195Z",
     "iopub.status.idle": "2020-11-18T07:46:49.291501Z",
     "shell.execute_reply": "2020-11-18T07:46:49.290543Z"
    },
    "papermill": {
     "duration": 1.306341,
     "end_time": "2020-11-18T07:46:49.291650",
     "exception": false,
     "start_time": "2020-11-18T07:46:47.985309",
     "status": "completed"
    },
    "tags": []
   },
   "outputs": [],
   "source": [
    "train = train.sort_values(\"imp_at\").reset_index(drop=True)\n",
    "test = test.sort_values(\"imp_at\").reset_index(drop=True)"
   ]
  },
  {
   "cell_type": "markdown",
   "metadata": {
    "papermill": {
     "duration": 0.023008,
     "end_time": "2020-11-18T07:46:49.337938",
     "exception": false,
     "start_time": "2020-11-18T07:46:49.314930",
     "status": "completed"
    },
    "tags": []
   },
   "source": [
    "# separation for validation"
   ]
  },
  {
   "cell_type": "code",
   "execution_count": 20,
   "metadata": {
    "execution": {
     "iopub.execute_input": "2020-11-18T07:46:49.624242Z",
     "iopub.status.busy": "2020-11-18T07:46:49.577672Z",
     "iopub.status.idle": "2020-11-18T07:46:49.630953Z",
     "shell.execute_reply": "2020-11-18T07:46:49.630411Z"
    },
    "papermill": {
     "duration": 0.27001,
     "end_time": "2020-11-18T07:46:49.631076",
     "exception": false,
     "start_time": "2020-11-18T07:46:49.361066",
     "status": "completed"
    },
    "tags": []
   },
   "outputs": [],
   "source": [
    "train.drop(['request_id'], axis=1, inplace=True)\n",
    "test.drop(['request_id'], axis=1, inplace=True)"
   ]
  },
  {
   "cell_type": "code",
   "execution_count": 21,
   "metadata": {
    "execution": {
     "iopub.execute_input": "2020-11-18T07:46:49.682150Z",
     "iopub.status.busy": "2020-11-18T07:46:49.681372Z",
     "iopub.status.idle": "2020-11-18T07:46:49.683817Z",
     "shell.execute_reply": "2020-11-18T07:46:49.684326Z"
    },
    "papermill": {
     "duration": 0.030152,
     "end_time": "2020-11-18T07:46:49.684473",
     "exception": false,
     "start_time": "2020-11-18T07:46:49.654321",
     "status": "completed"
    },
    "tags": []
   },
   "outputs": [],
   "source": [
    "#mask = train.imp_at > \"2020-05-21\"\n",
    "#valid_df = train.loc[mask].copy()\n",
    "#train_df = train.loc[~mask].copy()"
   ]
  },
  {
   "cell_type": "code",
   "execution_count": 22,
   "metadata": {
    "execution": {
     "iopub.execute_input": "2020-11-18T07:46:49.992668Z",
     "iopub.status.busy": "2020-11-18T07:46:49.991667Z",
     "iopub.status.idle": "2020-11-18T07:46:49.994759Z",
     "shell.execute_reply": "2020-11-18T07:46:49.995214Z"
    },
    "papermill": {
     "duration": 0.287008,
     "end_time": "2020-11-18T07:46:49.995379",
     "exception": false,
     "start_time": "2020-11-18T07:46:49.708371",
     "status": "completed"
    },
    "tags": []
   },
   "outputs": [],
   "source": [
    "train = train.drop([\"imp_at\"], axis=1)\n",
    "test = test.drop([\"imp_at\"], axis=1)\n",
    "\n",
    "#valid_df = valid_df.drop([\"imp_at\"], axis=1)\n",
    "#train_df = train_df.drop([\"imp_at\"], axis=1)"
   ]
  },
  {
   "cell_type": "code",
   "execution_count": 23,
   "metadata": {
    "execution": {
     "iopub.execute_input": "2020-11-18T07:46:50.074206Z",
     "iopub.status.busy": "2020-11-18T07:46:50.073387Z",
     "iopub.status.idle": "2020-11-18T07:46:50.076710Z",
     "shell.execute_reply": "2020-11-18T07:46:50.076065Z"
    },
    "papermill": {
     "duration": 0.057474,
     "end_time": "2020-11-18T07:46:50.076830",
     "exception": false,
     "start_time": "2020-11-18T07:46:50.019356",
     "status": "completed"
    },
    "tags": []
   },
   "outputs": [],
   "source": [
    "test = test.drop(\"target\", axis=1)"
   ]
  },
  {
   "cell_type": "code",
   "execution_count": 24,
   "metadata": {
    "execution": {
     "iopub.execute_input": "2020-11-18T07:46:50.131055Z",
     "iopub.status.busy": "2020-11-18T07:46:50.130038Z",
     "iopub.status.idle": "2020-11-18T07:46:50.134225Z",
     "shell.execute_reply": "2020-11-18T07:46:50.133732Z"
    },
    "papermill": {
     "duration": 0.033847,
     "end_time": "2020-11-18T07:46:50.134332",
     "exception": false,
     "start_time": "2020-11-18T07:46:50.100485",
     "status": "completed"
    },
    "tags": []
   },
   "outputs": [
    {
     "data": {
      "text/plain": [
       "((1997595, 44), (390095, 43))"
      ]
     },
     "execution_count": 24,
     "metadata": {},
     "output_type": "execute_result"
    }
   ],
   "source": [
    "train.shape, test.shape "
   ]
  },
  {
   "cell_type": "code",
   "execution_count": 25,
   "metadata": {
    "execution": {
     "iopub.execute_input": "2020-11-18T07:46:50.188224Z",
     "iopub.status.busy": "2020-11-18T07:46:50.187505Z",
     "iopub.status.idle": "2020-11-18T07:46:50.191810Z",
     "shell.execute_reply": "2020-11-18T07:46:50.191333Z"
    },
    "papermill": {
     "duration": 0.033459,
     "end_time": "2020-11-18T07:46:50.191927",
     "exception": false,
     "start_time": "2020-11-18T07:46:50.158468",
     "status": "completed"
    },
    "tags": []
   },
   "outputs": [
    {
     "data": {
      "text/plain": [
       "Index(['target', 'adnw_id', 'adspot_id', 'adspot_video_format_id',\n",
       "       'advertiser_id', 'app_id', 'auction_type_id', 'campaign_id',\n",
       "       'first_login_interval', 'frequency', 'from_click', 'game_feed_id',\n",
       "       'game_template_id', 'header_bidding', 'is_interstitial', 'item_id',\n",
       "       'last_login_interval', 'login_frequency', 'max_login_interval',\n",
       "       'media_app_id', 'os', 'pos', 'uid', 'mst_advertiser_order_id',\n",
       "       'mst_user_type_id', 'cv0', 'cv1', 'cv2', 'cv3', 'cv4', 'cv5', 'cv6',\n",
       "       'count', 'uid_dayofweek=0', 'uid_dayofweek=1', 'uid_dayofweek=2',\n",
       "       'uid_dayofweek=3', 'uid_dayofweek=4', 'uid_dayofweek=5',\n",
       "       'uid_dayofweek=6', 'uid_hour_zone=0', 'uid_hour_zone=1',\n",
       "       'uid_hour_zone=2', 'uid_hour_zone=3'],\n",
       "      dtype='object')"
      ]
     },
     "execution_count": 25,
     "metadata": {},
     "output_type": "execute_result"
    }
   ],
   "source": [
    "train.columns"
   ]
  },
  {
   "cell_type": "markdown",
   "metadata": {
    "papermill": {
     "duration": 0.023975,
     "end_time": "2020-11-18T07:46:50.240247",
     "exception": false,
     "start_time": "2020-11-18T07:46:50.216272",
     "status": "completed"
    },
    "tags": []
   },
   "source": [
    "# stratified modelling"
   ]
  },
  {
   "cell_type": "code",
   "execution_count": 26,
   "metadata": {
    "execution": {
     "iopub.execute_input": "2020-11-18T07:46:50.295093Z",
     "iopub.status.busy": "2020-11-18T07:46:50.293887Z",
     "iopub.status.idle": "2020-11-18T07:46:50.297193Z",
     "shell.execute_reply": "2020-11-18T07:46:50.296513Z"
    },
    "papermill": {
     "duration": 0.032538,
     "end_time": "2020-11-18T07:46:50.297307",
     "exception": false,
     "start_time": "2020-11-18T07:46:50.264769",
     "status": "completed"
    },
    "tags": []
   },
   "outputs": [],
   "source": [
    "object_feats = [i for i in object_feats if i in train.columns]"
   ]
  },
  {
   "cell_type": "code",
   "execution_count": 27,
   "metadata": {
    "_cell_guid": "79c7e3d0-c299-4dcb-8224-4455121ee9b0",
    "_uuid": "d629ff2d2480ee46fbb7e2d37f6b5fab8052498a",
    "execution": {
     "iopub.execute_input": "2020-11-18T07:46:50.365775Z",
     "iopub.status.busy": "2020-11-18T07:46:50.360952Z",
     "iopub.status.idle": "2020-11-18T08:09:49.424656Z",
     "shell.execute_reply": "2020-11-18T08:09:49.425618Z"
    },
    "papermill": {
     "duration": 1379.10468,
     "end_time": "2020-11-18T08:09:49.426602",
     "exception": false,
     "start_time": "2020-11-18T07:46:50.321922",
     "status": "completed"
    },
    "tags": []
   },
   "outputs": [
    {
     "name": "stdout",
     "output_type": "stream",
     "text": [
      "seed: 0\n",
      "fold:  0\n",
      "Training until validation scores don't improve for 20 rounds\n",
      "[10]\ttraining's pr_auc: 0.206197\tvalid_1's pr_auc: 0.202034\n",
      "[20]\ttraining's pr_auc: 0.215445\tvalid_1's pr_auc: 0.211119\n",
      "[30]\ttraining's pr_auc: 0.224637\tvalid_1's pr_auc: 0.216647\n",
      "[40]\ttraining's pr_auc: 0.232564\tvalid_1's pr_auc: 0.221787\n",
      "[50]\ttraining's pr_auc: 0.23826\tvalid_1's pr_auc: 0.22528\n",
      "[60]\ttraining's pr_auc: 0.244361\tvalid_1's pr_auc: 0.228874\n",
      "[70]\ttraining's pr_auc: 0.25041\tvalid_1's pr_auc: 0.232406\n",
      "[80]\ttraining's pr_auc: 0.254724\tvalid_1's pr_auc: 0.234131\n",
      "[90]\ttraining's pr_auc: 0.25789\tvalid_1's pr_auc: 0.234538\n",
      "[100]\ttraining's pr_auc: 0.261409\tvalid_1's pr_auc: 0.2362\n",
      "[110]\ttraining's pr_auc: 0.264699\tvalid_1's pr_auc: 0.237258\n",
      "[120]\ttraining's pr_auc: 0.269458\tvalid_1's pr_auc: 0.239779\n",
      "[130]\ttraining's pr_auc: 0.272947\tvalid_1's pr_auc: 0.24126\n",
      "[140]\ttraining's pr_auc: 0.275989\tvalid_1's pr_auc: 0.242245\n",
      "[150]\ttraining's pr_auc: 0.277981\tvalid_1's pr_auc: 0.242606\n",
      "[160]\ttraining's pr_auc: 0.28042\tvalid_1's pr_auc: 0.243446\n",
      "[170]\ttraining's pr_auc: 0.282153\tvalid_1's pr_auc: 0.243506\n",
      "[180]\ttraining's pr_auc: 0.284341\tvalid_1's pr_auc: 0.243636\n",
      "[190]\ttraining's pr_auc: 0.286179\tvalid_1's pr_auc: 0.244148\n",
      "[200]\ttraining's pr_auc: 0.287805\tvalid_1's pr_auc: 0.244232\n",
      "[210]\ttraining's pr_auc: 0.289455\tvalid_1's pr_auc: 0.244412\n",
      "[220]\ttraining's pr_auc: 0.29134\tvalid_1's pr_auc: 0.244664\n",
      "[230]\ttraining's pr_auc: 0.293624\tvalid_1's pr_auc: 0.244715\n",
      "[240]\ttraining's pr_auc: 0.294681\tvalid_1's pr_auc: 0.244761\n",
      "[250]\ttraining's pr_auc: 0.297097\tvalid_1's pr_auc: 0.245061\n",
      "[260]\ttraining's pr_auc: 0.298341\tvalid_1's pr_auc: 0.245148\n",
      "Early stopping, best iteration is:\n",
      "[244]\ttraining's pr_auc: 0.296156\tvalid_1's pr_auc: 0.245299\n",
      "fold:  1\n",
      "Training until validation scores don't improve for 20 rounds\n",
      "[10]\ttraining's pr_auc: 0.204812\tvalid_1's pr_auc: 0.204455\n",
      "[20]\ttraining's pr_auc: 0.213784\tvalid_1's pr_auc: 0.211163\n",
      "[30]\ttraining's pr_auc: 0.221366\tvalid_1's pr_auc: 0.21717\n",
      "[40]\ttraining's pr_auc: 0.227919\tvalid_1's pr_auc: 0.222202\n",
      "[50]\ttraining's pr_auc: 0.234577\tvalid_1's pr_auc: 0.226684\n",
      "[60]\ttraining's pr_auc: 0.241336\tvalid_1's pr_auc: 0.230762\n",
      "[70]\ttraining's pr_auc: 0.2469\tvalid_1's pr_auc: 0.233867\n",
      "[80]\ttraining's pr_auc: 0.251312\tvalid_1's pr_auc: 0.235852\n",
      "[90]\ttraining's pr_auc: 0.255665\tvalid_1's pr_auc: 0.238175\n",
      "[100]\ttraining's pr_auc: 0.260437\tvalid_1's pr_auc: 0.240289\n",
      "[110]\ttraining's pr_auc: 0.265511\tvalid_1's pr_auc: 0.242912\n",
      "[120]\ttraining's pr_auc: 0.268534\tvalid_1's pr_auc: 0.243988\n",
      "[130]\ttraining's pr_auc: 0.271735\tvalid_1's pr_auc: 0.244698\n",
      "[140]\ttraining's pr_auc: 0.274388\tvalid_1's pr_auc: 0.245474\n",
      "[150]\ttraining's pr_auc: 0.276574\tvalid_1's pr_auc: 0.246117\n",
      "[160]\ttraining's pr_auc: 0.278246\tvalid_1's pr_auc: 0.246109\n",
      "[170]\ttraining's pr_auc: 0.280498\tvalid_1's pr_auc: 0.246908\n",
      "[180]\ttraining's pr_auc: 0.283156\tvalid_1's pr_auc: 0.2473\n",
      "[190]\ttraining's pr_auc: 0.285592\tvalid_1's pr_auc: 0.247836\n",
      "[200]\ttraining's pr_auc: 0.287585\tvalid_1's pr_auc: 0.24814\n",
      "[210]\ttraining's pr_auc: 0.289355\tvalid_1's pr_auc: 0.248308\n",
      "[220]\ttraining's pr_auc: 0.29061\tvalid_1's pr_auc: 0.248638\n",
      "[230]\ttraining's pr_auc: 0.292143\tvalid_1's pr_auc: 0.248811\n",
      "[240]\ttraining's pr_auc: 0.294103\tvalid_1's pr_auc: 0.248918\n",
      "[250]\ttraining's pr_auc: 0.295992\tvalid_1's pr_auc: 0.249048\n",
      "[260]\ttraining's pr_auc: 0.298172\tvalid_1's pr_auc: 0.249227\n",
      "[270]\ttraining's pr_auc: 0.300359\tvalid_1's pr_auc: 0.249634\n",
      "[280]\ttraining's pr_auc: 0.30203\tvalid_1's pr_auc: 0.249577\n",
      "[290]\ttraining's pr_auc: 0.303534\tvalid_1's pr_auc: 0.249486\n",
      "[300]\ttraining's pr_auc: 0.305622\tvalid_1's pr_auc: 0.250051\n",
      "[310]\ttraining's pr_auc: 0.306905\tvalid_1's pr_auc: 0.250385\n",
      "[320]\ttraining's pr_auc: 0.30807\tvalid_1's pr_auc: 0.250389\n",
      "[330]\ttraining's pr_auc: 0.309545\tvalid_1's pr_auc: 0.250337\n",
      "[340]\ttraining's pr_auc: 0.311693\tvalid_1's pr_auc: 0.250363\n",
      "[350]\ttraining's pr_auc: 0.313311\tvalid_1's pr_auc: 0.250713\n",
      "[360]\ttraining's pr_auc: 0.314883\tvalid_1's pr_auc: 0.250631\n",
      "[370]\ttraining's pr_auc: 0.316821\tvalid_1's pr_auc: 0.250994\n",
      "[380]\ttraining's pr_auc: 0.318649\tvalid_1's pr_auc: 0.251111\n",
      "[390]\ttraining's pr_auc: 0.320072\tvalid_1's pr_auc: 0.251197\n",
      "[400]\ttraining's pr_auc: 0.321029\tvalid_1's pr_auc: 0.251096\n",
      "[410]\ttraining's pr_auc: 0.32228\tvalid_1's pr_auc: 0.250982\n",
      "Early stopping, best iteration is:\n",
      "[393]\ttraining's pr_auc: 0.320135\tvalid_1's pr_auc: 0.251264\n",
      "fold:  2\n",
      "Training until validation scores don't improve for 20 rounds\n",
      "[10]\ttraining's pr_auc: 0.208861\tvalid_1's pr_auc: 0.207459\n",
      "[20]\ttraining's pr_auc: 0.215784\tvalid_1's pr_auc: 0.21279\n",
      "[30]\ttraining's pr_auc: 0.222706\tvalid_1's pr_auc: 0.218882\n",
      "[40]\ttraining's pr_auc: 0.23046\tvalid_1's pr_auc: 0.224221\n",
      "[50]\ttraining's pr_auc: 0.236502\tvalid_1's pr_auc: 0.227243\n",
      "[60]\ttraining's pr_auc: 0.24463\tvalid_1's pr_auc: 0.232517\n",
      "[70]\ttraining's pr_auc: 0.250871\tvalid_1's pr_auc: 0.235331\n",
      "[80]\ttraining's pr_auc: 0.255316\tvalid_1's pr_auc: 0.23683\n",
      "[90]\ttraining's pr_auc: 0.259679\tvalid_1's pr_auc: 0.238605\n",
      "[100]\ttraining's pr_auc: 0.264256\tvalid_1's pr_auc: 0.24115\n",
      "[110]\ttraining's pr_auc: 0.267671\tvalid_1's pr_auc: 0.242438\n",
      "[120]\ttraining's pr_auc: 0.271077\tvalid_1's pr_auc: 0.243827\n",
      "[130]\ttraining's pr_auc: 0.274294\tvalid_1's pr_auc: 0.2445\n",
      "[140]\ttraining's pr_auc: 0.276543\tvalid_1's pr_auc: 0.245089\n",
      "[150]\ttraining's pr_auc: 0.278992\tvalid_1's pr_auc: 0.245421\n",
      "[160]\ttraining's pr_auc: 0.281113\tvalid_1's pr_auc: 0.245537\n",
      "[170]\ttraining's pr_auc: 0.282875\tvalid_1's pr_auc: 0.246105\n",
      "[180]\ttraining's pr_auc: 0.283506\tvalid_1's pr_auc: 0.24554\n",
      "[190]\ttraining's pr_auc: 0.285319\tvalid_1's pr_auc: 0.245721\n",
      "Early stopping, best iteration is:\n",
      "[171]\ttraining's pr_auc: 0.283223\tvalid_1's pr_auc: 0.246167\n",
      "fold:  3\n",
      "Training until validation scores don't improve for 20 rounds\n",
      "[10]\ttraining's pr_auc: 0.207659\tvalid_1's pr_auc: 0.205394\n",
      "[20]\ttraining's pr_auc: 0.217402\tvalid_1's pr_auc: 0.213537\n",
      "[30]\ttraining's pr_auc: 0.224227\tvalid_1's pr_auc: 0.218197\n",
      "[40]\ttraining's pr_auc: 0.233185\tvalid_1's pr_auc: 0.22477\n",
      "[50]\ttraining's pr_auc: 0.24037\tvalid_1's pr_auc: 0.229685\n",
      "[60]\ttraining's pr_auc: 0.246597\tvalid_1's pr_auc: 0.233064\n",
      "[70]\ttraining's pr_auc: 0.252698\tvalid_1's pr_auc: 0.237011\n",
      "[80]\ttraining's pr_auc: 0.25687\tvalid_1's pr_auc: 0.238855\n",
      "[90]\ttraining's pr_auc: 0.260059\tvalid_1's pr_auc: 0.239658\n",
      "[100]\ttraining's pr_auc: 0.264784\tvalid_1's pr_auc: 0.242632\n",
      "[110]\ttraining's pr_auc: 0.268019\tvalid_1's pr_auc: 0.244115\n",
      "[120]\ttraining's pr_auc: 0.271496\tvalid_1's pr_auc: 0.245313\n",
      "[130]\ttraining's pr_auc: 0.273713\tvalid_1's pr_auc: 0.245798\n",
      "[140]\ttraining's pr_auc: 0.275975\tvalid_1's pr_auc: 0.246104\n",
      "[150]\ttraining's pr_auc: 0.278334\tvalid_1's pr_auc: 0.246479\n",
      "[160]\ttraining's pr_auc: 0.281137\tvalid_1's pr_auc: 0.247014\n",
      "[170]\ttraining's pr_auc: 0.283114\tvalid_1's pr_auc: 0.247153\n",
      "[180]\ttraining's pr_auc: 0.285391\tvalid_1's pr_auc: 0.248117\n",
      "[190]\ttraining's pr_auc: 0.287433\tvalid_1's pr_auc: 0.248382\n",
      "[200]\ttraining's pr_auc: 0.289212\tvalid_1's pr_auc: 0.248572\n",
      "[210]\ttraining's pr_auc: 0.290356\tvalid_1's pr_auc: 0.24871\n",
      "[220]\ttraining's pr_auc: 0.292802\tvalid_1's pr_auc: 0.249016\n",
      "[230]\ttraining's pr_auc: 0.295083\tvalid_1's pr_auc: 0.249337\n",
      "[240]\ttraining's pr_auc: 0.296959\tvalid_1's pr_auc: 0.249664\n",
      "[250]\ttraining's pr_auc: 0.299224\tvalid_1's pr_auc: 0.250351\n",
      "[260]\ttraining's pr_auc: 0.301092\tvalid_1's pr_auc: 0.250738\n",
      "[270]\ttraining's pr_auc: 0.302311\tvalid_1's pr_auc: 0.250695\n",
      "Early stopping, best iteration is:\n",
      "[259]\ttraining's pr_auc: 0.300988\tvalid_1's pr_auc: 0.250798\n",
      "fold:  4\n",
      "Training until validation scores don't improve for 20 rounds\n",
      "[10]\ttraining's pr_auc: 0.209942\tvalid_1's pr_auc: 0.20502\n",
      "[20]\ttraining's pr_auc: 0.217698\tvalid_1's pr_auc: 0.211267\n",
      "[30]\ttraining's pr_auc: 0.226876\tvalid_1's pr_auc: 0.216895\n",
      "[40]\ttraining's pr_auc: 0.234095\tvalid_1's pr_auc: 0.221779\n",
      "[50]\ttraining's pr_auc: 0.240895\tvalid_1's pr_auc: 0.225552\n",
      "[60]\ttraining's pr_auc: 0.247072\tvalid_1's pr_auc: 0.228935\n",
      "[70]\ttraining's pr_auc: 0.253244\tvalid_1's pr_auc: 0.232084\n",
      "[80]\ttraining's pr_auc: 0.257973\tvalid_1's pr_auc: 0.233052\n",
      "[90]\ttraining's pr_auc: 0.263002\tvalid_1's pr_auc: 0.235179\n",
      "[100]\ttraining's pr_auc: 0.265743\tvalid_1's pr_auc: 0.235672\n",
      "[110]\ttraining's pr_auc: 0.269853\tvalid_1's pr_auc: 0.237438\n",
      "[120]\ttraining's pr_auc: 0.272429\tvalid_1's pr_auc: 0.238081\n",
      "[130]\ttraining's pr_auc: 0.276561\tvalid_1's pr_auc: 0.23935\n",
      "[140]\ttraining's pr_auc: 0.279917\tvalid_1's pr_auc: 0.240281\n",
      "[150]\ttraining's pr_auc: 0.282407\tvalid_1's pr_auc: 0.240766\n",
      "[160]\ttraining's pr_auc: 0.28486\tvalid_1's pr_auc: 0.241155\n",
      "[170]\ttraining's pr_auc: 0.286865\tvalid_1's pr_auc: 0.241121\n",
      "[180]\ttraining's pr_auc: 0.288544\tvalid_1's pr_auc: 0.241636\n",
      "[190]\ttraining's pr_auc: 0.290665\tvalid_1's pr_auc: 0.241625\n",
      "[200]\ttraining's pr_auc: 0.293034\tvalid_1's pr_auc: 0.241923\n",
      "[210]\ttraining's pr_auc: 0.295313\tvalid_1's pr_auc: 0.242302\n",
      "[220]\ttraining's pr_auc: 0.296724\tvalid_1's pr_auc: 0.242259\n",
      "[230]\ttraining's pr_auc: 0.297786\tvalid_1's pr_auc: 0.242073\n",
      "Early stopping, best iteration is:\n",
      "[210]\ttraining's pr_auc: 0.295313\tvalid_1's pr_auc: 0.242302\n",
      "0.24693660076177892\n"
     ]
    }
   ],
   "source": [
    "# stratified k fold\n",
    "n_folds = 5\n",
    "def pr_auc_metric(y_predicted, y_true):\n",
    "    return 'pr_auc', average_precision_score(y_true.get_label(), y_predicted), True\n",
    "\n",
    "def modelling(seed):\n",
    "    print(\"seed:\", seed)\n",
    "    lgbm_params = {'objective': 'binary', 'metric': 'None', 'boosting_type': 'gbdt', \n",
    "               'tree_learner': 'serial', 'learning_rate': 0.1, \"num_leaves\": 10, 'random_seed':seed,'max_depth': 5}\n",
    "    \n",
    "    y = train.target.copy()\n",
    "    X = train.drop(['target'],axis=1).copy()\n",
    "    \n",
    "    skf=StratifiedKFold(n_splits = n_folds, shuffle=True, random_state=0)\n",
    "    \n",
    "    valid = np.zeros([X.shape[0]])\n",
    "    features_list = [i for i in X.columns]\n",
    "    pred_value = np.zeros(test.shape[0])\n",
    "    feature_importance_df = pd.DataFrame(features_list, columns=[\"Feature\"])\n",
    "    \n",
    "    for i , (train_index, val_index) in enumerate(skf.split(X, y)):\n",
    "        print(\"fold: \", i)\n",
    "        \n",
    "        X_train = X.iloc[train_index,:]\n",
    "        y_train = y.iloc[train_index]\n",
    "\n",
    "        X_valid = X.iloc[val_index,:]\n",
    "        y_valid = y.iloc[val_index]\n",
    "        \n",
    "        lgb_train = lgb.Dataset(X_train, y_train)\n",
    "        lgb_eval = lgb.Dataset(X_valid, y_valid, reference=lgb_train)\n",
    "        \n",
    "        model = lgb.train(lgbm_params, lgb_train,valid_sets=[lgb_train, lgb_eval],\n",
    "           num_boost_round=10000,early_stopping_rounds=20,verbose_eval = 10,\n",
    "                          feval=pr_auc_metric, categorical_feature = sorted(object_feats))\n",
    "        \n",
    "        valid_predict = model.predict(X_valid, num_iteration = model.best_iteration)\n",
    "        valid[val_index] = valid_predict\n",
    "        pred_value += model.predict(test, num_iteration = model.best_iteration)\n",
    "        feature_importance_df[\"Fold_\"+str(i+1)] = model.feature_importance()\n",
    "    \n",
    "    feature_importance_df[\"Average\"] = np.mean(feature_importance_df.iloc[:,1:n_folds+1], axis=1)\n",
    "    feature_importance_df[\"Std\"] = np.std(feature_importance_df.iloc[:,1:n_folds+1], axis=1)\n",
    "    feature_importance_df[\"Cv\"] = feature_importance_df[\"Std\"] / feature_importance_df[\"Average\"]\n",
    "    \n",
    "    return pred_value, valid, feature_importance_df\n",
    "\n",
    "validation = np.zeros([train.shape[0]])\n",
    "pred_value = np.zeros([test.shape[0]])\n",
    "seeds = [0]\n",
    "for seed_ in seeds:\n",
    "    test_pred, oof_predict, feature_importance_df = modelling(seed_)\n",
    "    validation += oof_predict / len(seeds)\n",
    "    pred_value += test_pred / len(seeds)\n",
    "\n",
    "score = average_precision_score(train.target, validation)\n",
    "print(score)"
   ]
  },
  {
   "cell_type": "code",
   "execution_count": 28,
   "metadata": {
    "execution": {
     "iopub.execute_input": "2020-11-18T08:09:49.589033Z",
     "iopub.status.busy": "2020-11-18T08:09:49.588233Z",
     "iopub.status.idle": "2020-11-18T08:09:49.610784Z",
     "shell.execute_reply": "2020-11-18T08:09:49.610259Z"
    },
    "papermill": {
     "duration": 0.112952,
     "end_time": "2020-11-18T08:09:49.610906",
     "exception": false,
     "start_time": "2020-11-18T08:09:49.497954",
     "status": "completed"
    },
    "tags": []
   },
   "outputs": [
    {
     "data": {
      "text/html": [
       "<div>\n",
       "<style scoped>\n",
       "    .dataframe tbody tr th:only-of-type {\n",
       "        vertical-align: middle;\n",
       "    }\n",
       "\n",
       "    .dataframe tbody tr th {\n",
       "        vertical-align: top;\n",
       "    }\n",
       "\n",
       "    .dataframe thead th {\n",
       "        text-align: right;\n",
       "    }\n",
       "</style>\n",
       "<table border=\"1\" class=\"dataframe\">\n",
       "  <thead>\n",
       "    <tr style=\"text-align: right;\">\n",
       "      <th></th>\n",
       "      <th>Feature</th>\n",
       "      <th>Fold_1</th>\n",
       "      <th>Fold_2</th>\n",
       "      <th>Fold_3</th>\n",
       "      <th>Fold_4</th>\n",
       "      <th>Fold_5</th>\n",
       "      <th>Average</th>\n",
       "      <th>Std</th>\n",
       "      <th>Cv</th>\n",
       "    </tr>\n",
       "  </thead>\n",
       "  <tbody>\n",
       "    <tr>\n",
       "      <th>4</th>\n",
       "      <td>app_id</td>\n",
       "      <td>525</td>\n",
       "      <td>846</td>\n",
       "      <td>339</td>\n",
       "      <td>551</td>\n",
       "      <td>457</td>\n",
       "      <td>543.6</td>\n",
       "      <td>168.051897</td>\n",
       "      <td>0.309146</td>\n",
       "    </tr>\n",
       "    <tr>\n",
       "      <th>6</th>\n",
       "      <td>campaign_id</td>\n",
       "      <td>367</td>\n",
       "      <td>529</td>\n",
       "      <td>282</td>\n",
       "      <td>393</td>\n",
       "      <td>341</td>\n",
       "      <td>382.4</td>\n",
       "      <td>82.018534</td>\n",
       "      <td>0.214484</td>\n",
       "    </tr>\n",
       "    <tr>\n",
       "      <th>18</th>\n",
       "      <td>media_app_id</td>\n",
       "      <td>254</td>\n",
       "      <td>469</td>\n",
       "      <td>170</td>\n",
       "      <td>273</td>\n",
       "      <td>208</td>\n",
       "      <td>274.8</td>\n",
       "      <td>103.532410</td>\n",
       "      <td>0.376755</td>\n",
       "    </tr>\n",
       "    <tr>\n",
       "      <th>10</th>\n",
       "      <td>game_feed_id</td>\n",
       "      <td>165</td>\n",
       "      <td>289</td>\n",
       "      <td>114</td>\n",
       "      <td>171</td>\n",
       "      <td>125</td>\n",
       "      <td>172.8</td>\n",
       "      <td>62.143061</td>\n",
       "      <td>0.359624</td>\n",
       "    </tr>\n",
       "    <tr>\n",
       "      <th>21</th>\n",
       "      <td>uid</td>\n",
       "      <td>130</td>\n",
       "      <td>192</td>\n",
       "      <td>87</td>\n",
       "      <td>135</td>\n",
       "      <td>101</td>\n",
       "      <td>129.0</td>\n",
       "      <td>36.204972</td>\n",
       "      <td>0.280659</td>\n",
       "    </tr>\n",
       "    <tr>\n",
       "      <th>3</th>\n",
       "      <td>advertiser_id</td>\n",
       "      <td>122</td>\n",
       "      <td>155</td>\n",
       "      <td>96</td>\n",
       "      <td>126</td>\n",
       "      <td>114</td>\n",
       "      <td>122.6</td>\n",
       "      <td>19.200000</td>\n",
       "      <td>0.156607</td>\n",
       "    </tr>\n",
       "    <tr>\n",
       "      <th>22</th>\n",
       "      <td>mst_advertiser_order_id</td>\n",
       "      <td>82</td>\n",
       "      <td>131</td>\n",
       "      <td>68</td>\n",
       "      <td>98</td>\n",
       "      <td>80</td>\n",
       "      <td>91.8</td>\n",
       "      <td>21.802752</td>\n",
       "      <td>0.237503</td>\n",
       "    </tr>\n",
       "    <tr>\n",
       "      <th>15</th>\n",
       "      <td>last_login_interval</td>\n",
       "      <td>57</td>\n",
       "      <td>110</td>\n",
       "      <td>39</td>\n",
       "      <td>61</td>\n",
       "      <td>54</td>\n",
       "      <td>64.2</td>\n",
       "      <td>24.078206</td>\n",
       "      <td>0.375050</td>\n",
       "    </tr>\n",
       "    <tr>\n",
       "      <th>31</th>\n",
       "      <td>count</td>\n",
       "      <td>54</td>\n",
       "      <td>116</td>\n",
       "      <td>35</td>\n",
       "      <td>67</td>\n",
       "      <td>44</td>\n",
       "      <td>63.2</td>\n",
       "      <td>28.463310</td>\n",
       "      <td>0.450369</td>\n",
       "    </tr>\n",
       "    <tr>\n",
       "      <th>7</th>\n",
       "      <td>first_login_interval</td>\n",
       "      <td>59</td>\n",
       "      <td>96</td>\n",
       "      <td>37</td>\n",
       "      <td>70</td>\n",
       "      <td>49</td>\n",
       "      <td>62.2</td>\n",
       "      <td>20.113677</td>\n",
       "      <td>0.323371</td>\n",
       "    </tr>\n",
       "    <tr>\n",
       "      <th>23</th>\n",
       "      <td>mst_user_type_id</td>\n",
       "      <td>52</td>\n",
       "      <td>62</td>\n",
       "      <td>41</td>\n",
       "      <td>50</td>\n",
       "      <td>47</td>\n",
       "      <td>50.4</td>\n",
       "      <td>6.887670</td>\n",
       "      <td>0.136660</td>\n",
       "    </tr>\n",
       "    <tr>\n",
       "      <th>16</th>\n",
       "      <td>login_frequency</td>\n",
       "      <td>46</td>\n",
       "      <td>70</td>\n",
       "      <td>37</td>\n",
       "      <td>49</td>\n",
       "      <td>42</td>\n",
       "      <td>48.8</td>\n",
       "      <td>11.338430</td>\n",
       "      <td>0.232345</td>\n",
       "    </tr>\n",
       "    <tr>\n",
       "      <th>17</th>\n",
       "      <td>max_login_interval</td>\n",
       "      <td>47</td>\n",
       "      <td>89</td>\n",
       "      <td>25</td>\n",
       "      <td>46</td>\n",
       "      <td>32</td>\n",
       "      <td>47.8</td>\n",
       "      <td>22.229710</td>\n",
       "      <td>0.465057</td>\n",
       "    </tr>\n",
       "    <tr>\n",
       "      <th>24</th>\n",
       "      <td>cv0</td>\n",
       "      <td>16</td>\n",
       "      <td>30</td>\n",
       "      <td>30</td>\n",
       "      <td>29</td>\n",
       "      <td>34</td>\n",
       "      <td>27.8</td>\n",
       "      <td>6.144917</td>\n",
       "      <td>0.221040</td>\n",
       "    </tr>\n",
       "    <tr>\n",
       "      <th>14</th>\n",
       "      <td>item_id</td>\n",
       "      <td>23</td>\n",
       "      <td>47</td>\n",
       "      <td>16</td>\n",
       "      <td>31</td>\n",
       "      <td>16</td>\n",
       "      <td>26.6</td>\n",
       "      <td>11.603448</td>\n",
       "      <td>0.436220</td>\n",
       "    </tr>\n",
       "    <tr>\n",
       "      <th>9</th>\n",
       "      <td>from_click</td>\n",
       "      <td>23</td>\n",
       "      <td>33</td>\n",
       "      <td>22</td>\n",
       "      <td>27</td>\n",
       "      <td>23</td>\n",
       "      <td>25.6</td>\n",
       "      <td>4.079216</td>\n",
       "      <td>0.159344</td>\n",
       "    </tr>\n",
       "    <tr>\n",
       "      <th>8</th>\n",
       "      <td>frequency</td>\n",
       "      <td>16</td>\n",
       "      <td>29</td>\n",
       "      <td>11</td>\n",
       "      <td>14</td>\n",
       "      <td>13</td>\n",
       "      <td>16.6</td>\n",
       "      <td>6.406247</td>\n",
       "      <td>0.385918</td>\n",
       "    </tr>\n",
       "    <tr>\n",
       "      <th>26</th>\n",
       "      <td>cv2</td>\n",
       "      <td>23</td>\n",
       "      <td>23</td>\n",
       "      <td>10</td>\n",
       "      <td>10</td>\n",
       "      <td>8</td>\n",
       "      <td>14.8</td>\n",
       "      <td>6.734983</td>\n",
       "      <td>0.455066</td>\n",
       "    </tr>\n",
       "    <tr>\n",
       "      <th>25</th>\n",
       "      <td>cv1</td>\n",
       "      <td>12</td>\n",
       "      <td>18</td>\n",
       "      <td>10</td>\n",
       "      <td>14</td>\n",
       "      <td>11</td>\n",
       "      <td>13.0</td>\n",
       "      <td>2.828427</td>\n",
       "      <td>0.217571</td>\n",
       "    </tr>\n",
       "    <tr>\n",
       "      <th>27</th>\n",
       "      <td>cv3</td>\n",
       "      <td>12</td>\n",
       "      <td>17</td>\n",
       "      <td>8</td>\n",
       "      <td>14</td>\n",
       "      <td>10</td>\n",
       "      <td>12.2</td>\n",
       "      <td>3.124100</td>\n",
       "      <td>0.256074</td>\n",
       "    </tr>\n",
       "    <tr>\n",
       "      <th>30</th>\n",
       "      <td>cv6</td>\n",
       "      <td>9</td>\n",
       "      <td>19</td>\n",
       "      <td>8</td>\n",
       "      <td>12</td>\n",
       "      <td>10</td>\n",
       "      <td>11.6</td>\n",
       "      <td>3.929377</td>\n",
       "      <td>0.338739</td>\n",
       "    </tr>\n",
       "    <tr>\n",
       "      <th>29</th>\n",
       "      <td>cv5</td>\n",
       "      <td>13</td>\n",
       "      <td>12</td>\n",
       "      <td>8</td>\n",
       "      <td>8</td>\n",
       "      <td>11</td>\n",
       "      <td>10.4</td>\n",
       "      <td>2.059126</td>\n",
       "      <td>0.197993</td>\n",
       "    </tr>\n",
       "    <tr>\n",
       "      <th>1</th>\n",
       "      <td>adspot_id</td>\n",
       "      <td>10</td>\n",
       "      <td>14</td>\n",
       "      <td>8</td>\n",
       "      <td>9</td>\n",
       "      <td>7</td>\n",
       "      <td>9.6</td>\n",
       "      <td>2.416609</td>\n",
       "      <td>0.251730</td>\n",
       "    </tr>\n",
       "    <tr>\n",
       "      <th>2</th>\n",
       "      <td>adspot_video_format_id</td>\n",
       "      <td>7</td>\n",
       "      <td>12</td>\n",
       "      <td>8</td>\n",
       "      <td>10</td>\n",
       "      <td>9</td>\n",
       "      <td>9.2</td>\n",
       "      <td>1.720465</td>\n",
       "      <td>0.187007</td>\n",
       "    </tr>\n",
       "    <tr>\n",
       "      <th>28</th>\n",
       "      <td>cv4</td>\n",
       "      <td>7</td>\n",
       "      <td>12</td>\n",
       "      <td>7</td>\n",
       "      <td>7</td>\n",
       "      <td>6</td>\n",
       "      <td>7.8</td>\n",
       "      <td>2.135416</td>\n",
       "      <td>0.273771</td>\n",
       "    </tr>\n",
       "    <tr>\n",
       "      <th>11</th>\n",
       "      <td>game_template_id</td>\n",
       "      <td>7</td>\n",
       "      <td>14</td>\n",
       "      <td>3</td>\n",
       "      <td>7</td>\n",
       "      <td>6</td>\n",
       "      <td>7.4</td>\n",
       "      <td>3.611094</td>\n",
       "      <td>0.487986</td>\n",
       "    </tr>\n",
       "    <tr>\n",
       "      <th>35</th>\n",
       "      <td>uid_dayofweek=3</td>\n",
       "      <td>7</td>\n",
       "      <td>14</td>\n",
       "      <td>2</td>\n",
       "      <td>9</td>\n",
       "      <td>2</td>\n",
       "      <td>6.8</td>\n",
       "      <td>4.534314</td>\n",
       "      <td>0.666811</td>\n",
       "    </tr>\n",
       "    <tr>\n",
       "      <th>32</th>\n",
       "      <td>uid_dayofweek=0</td>\n",
       "      <td>10</td>\n",
       "      <td>11</td>\n",
       "      <td>2</td>\n",
       "      <td>4</td>\n",
       "      <td>2</td>\n",
       "      <td>5.8</td>\n",
       "      <td>3.919184</td>\n",
       "      <td>0.675721</td>\n",
       "    </tr>\n",
       "    <tr>\n",
       "      <th>33</th>\n",
       "      <td>uid_dayofweek=1</td>\n",
       "      <td>9</td>\n",
       "      <td>7</td>\n",
       "      <td>4</td>\n",
       "      <td>1</td>\n",
       "      <td>8</td>\n",
       "      <td>5.8</td>\n",
       "      <td>2.925748</td>\n",
       "      <td>0.504439</td>\n",
       "    </tr>\n",
       "    <tr>\n",
       "      <th>42</th>\n",
       "      <td>uid_hour_zone=3</td>\n",
       "      <td>7</td>\n",
       "      <td>7</td>\n",
       "      <td>1</td>\n",
       "      <td>8</td>\n",
       "      <td>5</td>\n",
       "      <td>5.6</td>\n",
       "      <td>2.497999</td>\n",
       "      <td>0.446071</td>\n",
       "    </tr>\n",
       "    <tr>\n",
       "      <th>37</th>\n",
       "      <td>uid_dayofweek=5</td>\n",
       "      <td>3</td>\n",
       "      <td>6</td>\n",
       "      <td>3</td>\n",
       "      <td>8</td>\n",
       "      <td>2</td>\n",
       "      <td>4.4</td>\n",
       "      <td>2.244994</td>\n",
       "      <td>0.510226</td>\n",
       "    </tr>\n",
       "    <tr>\n",
       "      <th>38</th>\n",
       "      <td>uid_dayofweek=6</td>\n",
       "      <td>3</td>\n",
       "      <td>12</td>\n",
       "      <td>1</td>\n",
       "      <td>3</td>\n",
       "      <td>2</td>\n",
       "      <td>4.2</td>\n",
       "      <td>3.969887</td>\n",
       "      <td>0.945211</td>\n",
       "    </tr>\n",
       "    <tr>\n",
       "      <th>36</th>\n",
       "      <td>uid_dayofweek=4</td>\n",
       "      <td>3</td>\n",
       "      <td>9</td>\n",
       "      <td>0</td>\n",
       "      <td>2</td>\n",
       "      <td>1</td>\n",
       "      <td>3.0</td>\n",
       "      <td>3.162278</td>\n",
       "      <td>1.054093</td>\n",
       "    </tr>\n",
       "    <tr>\n",
       "      <th>40</th>\n",
       "      <td>uid_hour_zone=1</td>\n",
       "      <td>3</td>\n",
       "      <td>5</td>\n",
       "      <td>1</td>\n",
       "      <td>3</td>\n",
       "      <td>3</td>\n",
       "      <td>3.0</td>\n",
       "      <td>1.264911</td>\n",
       "      <td>0.421637</td>\n",
       "    </tr>\n",
       "    <tr>\n",
       "      <th>41</th>\n",
       "      <td>uid_hour_zone=2</td>\n",
       "      <td>2</td>\n",
       "      <td>8</td>\n",
       "      <td>3</td>\n",
       "      <td>1</td>\n",
       "      <td>1</td>\n",
       "      <td>3.0</td>\n",
       "      <td>2.607681</td>\n",
       "      <td>0.869227</td>\n",
       "    </tr>\n",
       "    <tr>\n",
       "      <th>34</th>\n",
       "      <td>uid_dayofweek=2</td>\n",
       "      <td>3</td>\n",
       "      <td>6</td>\n",
       "      <td>0</td>\n",
       "      <td>1</td>\n",
       "      <td>2</td>\n",
       "      <td>2.4</td>\n",
       "      <td>2.059126</td>\n",
       "      <td>0.857969</td>\n",
       "    </tr>\n",
       "    <tr>\n",
       "      <th>0</th>\n",
       "      <td>adnw_id</td>\n",
       "      <td>2</td>\n",
       "      <td>4</td>\n",
       "      <td>0</td>\n",
       "      <td>0</td>\n",
       "      <td>3</td>\n",
       "      <td>1.8</td>\n",
       "      <td>1.600000</td>\n",
       "      <td>0.888889</td>\n",
       "    </tr>\n",
       "    <tr>\n",
       "      <th>39</th>\n",
       "      <td>uid_hour_zone=0</td>\n",
       "      <td>1</td>\n",
       "      <td>4</td>\n",
       "      <td>1</td>\n",
       "      <td>2</td>\n",
       "      <td>0</td>\n",
       "      <td>1.6</td>\n",
       "      <td>1.356466</td>\n",
       "      <td>0.847791</td>\n",
       "    </tr>\n",
       "    <tr>\n",
       "      <th>20</th>\n",
       "      <td>pos</td>\n",
       "      <td>3</td>\n",
       "      <td>1</td>\n",
       "      <td>1</td>\n",
       "      <td>2</td>\n",
       "      <td>0</td>\n",
       "      <td>1.4</td>\n",
       "      <td>1.019804</td>\n",
       "      <td>0.728431</td>\n",
       "    </tr>\n",
       "    <tr>\n",
       "      <th>12</th>\n",
       "      <td>header_bidding</td>\n",
       "      <td>0</td>\n",
       "      <td>2</td>\n",
       "      <td>1</td>\n",
       "      <td>2</td>\n",
       "      <td>0</td>\n",
       "      <td>1.0</td>\n",
       "      <td>0.894427</td>\n",
       "      <td>0.894427</td>\n",
       "    </tr>\n",
       "    <tr>\n",
       "      <th>5</th>\n",
       "      <td>auction_type_id</td>\n",
       "      <td>1</td>\n",
       "      <td>2</td>\n",
       "      <td>0</td>\n",
       "      <td>1</td>\n",
       "      <td>1</td>\n",
       "      <td>1.0</td>\n",
       "      <td>0.632456</td>\n",
       "      <td>0.632456</td>\n",
       "    </tr>\n",
       "    <tr>\n",
       "      <th>19</th>\n",
       "      <td>os</td>\n",
       "      <td>0</td>\n",
       "      <td>3</td>\n",
       "      <td>0</td>\n",
       "      <td>1</td>\n",
       "      <td>0</td>\n",
       "      <td>0.8</td>\n",
       "      <td>1.166190</td>\n",
       "      <td>1.457738</td>\n",
       "    </tr>\n",
       "    <tr>\n",
       "      <th>13</th>\n",
       "      <td>is_interstitial</td>\n",
       "      <td>1</td>\n",
       "      <td>2</td>\n",
       "      <td>0</td>\n",
       "      <td>1</td>\n",
       "      <td>0</td>\n",
       "      <td>0.8</td>\n",
       "      <td>0.748331</td>\n",
       "      <td>0.935414</td>\n",
       "    </tr>\n",
       "  </tbody>\n",
       "</table>\n",
       "</div>"
      ],
      "text/plain": [
       "                    Feature  Fold_1  Fold_2  Fold_3  Fold_4  Fold_5  Average  \\\n",
       "4                    app_id     525     846     339     551     457    543.6   \n",
       "6               campaign_id     367     529     282     393     341    382.4   \n",
       "18             media_app_id     254     469     170     273     208    274.8   \n",
       "10             game_feed_id     165     289     114     171     125    172.8   \n",
       "21                      uid     130     192      87     135     101    129.0   \n",
       "3             advertiser_id     122     155      96     126     114    122.6   \n",
       "22  mst_advertiser_order_id      82     131      68      98      80     91.8   \n",
       "15      last_login_interval      57     110      39      61      54     64.2   \n",
       "31                    count      54     116      35      67      44     63.2   \n",
       "7      first_login_interval      59      96      37      70      49     62.2   \n",
       "23         mst_user_type_id      52      62      41      50      47     50.4   \n",
       "16          login_frequency      46      70      37      49      42     48.8   \n",
       "17       max_login_interval      47      89      25      46      32     47.8   \n",
       "24                      cv0      16      30      30      29      34     27.8   \n",
       "14                  item_id      23      47      16      31      16     26.6   \n",
       "9                from_click      23      33      22      27      23     25.6   \n",
       "8                 frequency      16      29      11      14      13     16.6   \n",
       "26                      cv2      23      23      10      10       8     14.8   \n",
       "25                      cv1      12      18      10      14      11     13.0   \n",
       "27                      cv3      12      17       8      14      10     12.2   \n",
       "30                      cv6       9      19       8      12      10     11.6   \n",
       "29                      cv5      13      12       8       8      11     10.4   \n",
       "1                 adspot_id      10      14       8       9       7      9.6   \n",
       "2    adspot_video_format_id       7      12       8      10       9      9.2   \n",
       "28                      cv4       7      12       7       7       6      7.8   \n",
       "11         game_template_id       7      14       3       7       6      7.4   \n",
       "35          uid_dayofweek=3       7      14       2       9       2      6.8   \n",
       "32          uid_dayofweek=0      10      11       2       4       2      5.8   \n",
       "33          uid_dayofweek=1       9       7       4       1       8      5.8   \n",
       "42          uid_hour_zone=3       7       7       1       8       5      5.6   \n",
       "37          uid_dayofweek=5       3       6       3       8       2      4.4   \n",
       "38          uid_dayofweek=6       3      12       1       3       2      4.2   \n",
       "36          uid_dayofweek=4       3       9       0       2       1      3.0   \n",
       "40          uid_hour_zone=1       3       5       1       3       3      3.0   \n",
       "41          uid_hour_zone=2       2       8       3       1       1      3.0   \n",
       "34          uid_dayofweek=2       3       6       0       1       2      2.4   \n",
       "0                   adnw_id       2       4       0       0       3      1.8   \n",
       "39          uid_hour_zone=0       1       4       1       2       0      1.6   \n",
       "20                      pos       3       1       1       2       0      1.4   \n",
       "12           header_bidding       0       2       1       2       0      1.0   \n",
       "5           auction_type_id       1       2       0       1       1      1.0   \n",
       "19                       os       0       3       0       1       0      0.8   \n",
       "13          is_interstitial       1       2       0       1       0      0.8   \n",
       "\n",
       "           Std        Cv  \n",
       "4   168.051897  0.309146  \n",
       "6    82.018534  0.214484  \n",
       "18  103.532410  0.376755  \n",
       "10   62.143061  0.359624  \n",
       "21   36.204972  0.280659  \n",
       "3    19.200000  0.156607  \n",
       "22   21.802752  0.237503  \n",
       "15   24.078206  0.375050  \n",
       "31   28.463310  0.450369  \n",
       "7    20.113677  0.323371  \n",
       "23    6.887670  0.136660  \n",
       "16   11.338430  0.232345  \n",
       "17   22.229710  0.465057  \n",
       "24    6.144917  0.221040  \n",
       "14   11.603448  0.436220  \n",
       "9     4.079216  0.159344  \n",
       "8     6.406247  0.385918  \n",
       "26    6.734983  0.455066  \n",
       "25    2.828427  0.217571  \n",
       "27    3.124100  0.256074  \n",
       "30    3.929377  0.338739  \n",
       "29    2.059126  0.197993  \n",
       "1     2.416609  0.251730  \n",
       "2     1.720465  0.187007  \n",
       "28    2.135416  0.273771  \n",
       "11    3.611094  0.487986  \n",
       "35    4.534314  0.666811  \n",
       "32    3.919184  0.675721  \n",
       "33    2.925748  0.504439  \n",
       "42    2.497999  0.446071  \n",
       "37    2.244994  0.510226  \n",
       "38    3.969887  0.945211  \n",
       "36    3.162278  1.054093  \n",
       "40    1.264911  0.421637  \n",
       "41    2.607681  0.869227  \n",
       "34    2.059126  0.857969  \n",
       "0     1.600000  0.888889  \n",
       "39    1.356466  0.847791  \n",
       "20    1.019804  0.728431  \n",
       "12    0.894427  0.894427  \n",
       "5     0.632456  0.632456  \n",
       "19    1.166190  1.457738  \n",
       "13    0.748331  0.935414  "
      ]
     },
     "execution_count": 28,
     "metadata": {},
     "output_type": "execute_result"
    }
   ],
   "source": [
    "feature_importance_df.sort_values(\"Average\", ascending=False)"
   ]
  },
  {
   "cell_type": "markdown",
   "metadata": {
    "papermill": {
     "duration": 0.070666,
     "end_time": "2020-11-18T08:09:49.752338",
     "exception": false,
     "start_time": "2020-11-18T08:09:49.681672",
     "status": "completed"
    },
    "tags": []
   },
   "source": [
    "# ts modelling"
   ]
  },
  {
   "cell_type": "code",
   "execution_count": 29,
   "metadata": {
    "execution": {
     "iopub.execute_input": "2020-11-18T08:09:49.912421Z",
     "iopub.status.busy": "2020-11-18T08:09:49.911357Z",
     "iopub.status.idle": "2020-11-18T08:09:49.914712Z",
     "shell.execute_reply": "2020-11-18T08:09:49.914100Z"
    },
    "papermill": {
     "duration": 0.092468,
     "end_time": "2020-11-18T08:09:49.914833",
     "exception": false,
     "start_time": "2020-11-18T08:09:49.822365",
     "status": "completed"
    },
    "tags": []
   },
   "outputs": [],
   "source": [
    "def pr_auc_metric(y_predicted, y_true):\n",
    "    return 'pr_auc', average_precision_score(y_true.get_label(), y_predicted), True\n",
    "\n",
    "def modelling_ts(seed):\n",
    "    print(\"seed:\", seed)\n",
    "    lgbm_params = {'objective': 'binary', 'metric': 'None', 'boosting_type': 'gbdt', \n",
    "               'tree_learner': 'serial', 'learning_rate': 0.1, \"num_leaves\": 10, 'random_seed':seed,'max_depth': 5}\n",
    "    y_train = train_df.target.copy()\n",
    "    X_train = train_df.drop(['target'],axis=1).copy()\n",
    "    y_valid = valid_df.target.copy()\n",
    "    X_valid = valid_df.drop(['target'],axis=1).copy()\n",
    "    \n",
    "    valid_lgb = pd.DataFrame(np.zeros([X_train.shape[0]]))\n",
    "    real = np.array([])\n",
    "    features_list = [i for i in X_train.columns]\n",
    "    feature_importance_df = pd.DataFrame(features_list, columns=[\"Feature\"])\n",
    "        \n",
    "    lgb_train = lgb.Dataset(X_train, y_train)\n",
    "    lgb_eval = lgb.Dataset(X_valid, y_valid, reference=lgb_train)\n",
    "        \n",
    "    model = lgb.train(lgbm_params, lgb_train,valid_sets=[lgb_train, lgb_eval],\n",
    "       num_boost_round=10000,early_stopping_rounds=20,verbose_eval = 10, feval=pr_auc_metric, categorical_feature = sorted(object_feats))\n",
    "    \n",
    "    valid_predict = model.predict(X_valid, num_iteration = model.best_iteration)\n",
    "    feature_importance_df[\"Importance\"] = model.feature_importance()\n",
    "        \n",
    "    score = average_precision_score(y_valid, valid_predict)\n",
    "    print(\"average precision score = {}\".format(score))\n",
    "    pred_value = model.predict(test, num_iteration = model.best_iteration)\n",
    "    \n",
    "    return pred_value, valid_predict, feature_importance_df\n",
    "\n",
    "#validation_ts = np.zeros([valid_df.shape[0]])\n",
    "#pred_value_ts = np.zeros([test.shape[0]])\n",
    "#seeds = [0]\n",
    "#for seed_ in seeds:\n",
    "#    test_pred, oof_predict, feature_importance_df = modelling_ts(seed_)\n",
    "#    validation_ts += oof_predict / len(seeds)\n",
    "#    pred_value_ts += test_pred / len(seeds)\n",
    "\n",
    "#ts_score = average_precision_score(valid_df.target, validation_ts)\n",
    "#print(ts_score)"
   ]
  },
  {
   "cell_type": "code",
   "execution_count": 30,
   "metadata": {
    "execution": {
     "iopub.execute_input": "2020-11-18T08:09:50.058134Z",
     "iopub.status.busy": "2020-11-18T08:09:50.057419Z",
     "iopub.status.idle": "2020-11-18T08:09:50.061273Z",
     "shell.execute_reply": "2020-11-18T08:09:50.060786Z"
    },
    "papermill": {
     "duration": 0.078537,
     "end_time": "2020-11-18T08:09:50.061395",
     "exception": false,
     "start_time": "2020-11-18T08:09:49.982858",
     "status": "completed"
    },
    "tags": []
   },
   "outputs": [],
   "source": [
    "#feature_importance_df.sort_values(\"Importance\", ascending=False)"
   ]
  },
  {
   "cell_type": "markdown",
   "metadata": {
    "papermill": {
     "duration": 0.071384,
     "end_time": "2020-11-18T08:09:50.204906",
     "exception": false,
     "start_time": "2020-11-18T08:09:50.133522",
     "status": "completed"
    },
    "tags": []
   },
   "source": [
    "# submission"
   ]
  },
  {
   "cell_type": "code",
   "execution_count": 31,
   "metadata": {
    "execution": {
     "iopub.execute_input": "2020-11-18T08:09:50.357226Z",
     "iopub.status.busy": "2020-11-18T08:09:50.356497Z",
     "iopub.status.idle": "2020-11-18T08:09:51.927098Z",
     "shell.execute_reply": "2020-11-18T08:09:51.926349Z"
    },
    "papermill": {
     "duration": 1.649715,
     "end_time": "2020-11-18T08:09:51.927217",
     "exception": false,
     "start_time": "2020-11-18T08:09:50.277502",
     "status": "completed"
    },
    "tags": []
   },
   "outputs": [],
   "source": [
    "lgb_sub = pd.read_csv(DIR + \"atmaCup7__sample_submission.csv\")\n",
    "lgb_sub[\"target\"] = pred_value\n",
    "lgb_sub.to_csv(\"atmacup7_lgb\"+str(score)[:-10]+\".csv\", index = False)"
   ]
  },
  {
   "cell_type": "code",
   "execution_count": null,
   "metadata": {
    "papermill": {
     "duration": 0.079198,
     "end_time": "2020-11-18T08:09:52.077086",
     "exception": false,
     "start_time": "2020-11-18T08:09:51.997888",
     "status": "completed"
    },
    "tags": []
   },
   "outputs": [],
   "source": []
  }
 ],
 "metadata": {
  "kernelspec": {
   "display_name": "Python 3",
   "language": "python",
   "name": "python3"
  },
  "language_info": {
   "codemirror_mode": {
    "name": "ipython",
    "version": 3
   },
   "file_extension": ".py",
   "mimetype": "text/x-python",
   "name": "python",
   "nbconvert_exporter": "python",
   "pygments_lexer": "ipython3",
   "version": "3.7.6"
  },
  "papermill": {
   "duration": 1477.112899,
   "end_time": "2020-11-18T08:09:52.262059",
   "environment_variables": {},
   "exception": null,
   "input_path": "__notebook__.ipynb",
   "output_path": "__notebook__.ipynb",
   "parameters": {},
   "start_time": "2020-11-18T07:45:15.149160",
   "version": "2.1.0"
  }
 },
 "nbformat": 4,
 "nbformat_minor": 4
}
