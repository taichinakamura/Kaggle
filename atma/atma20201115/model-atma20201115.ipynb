{
 "cells": [
  {
   "cell_type": "markdown",
   "metadata": {
    "papermill": {
     "duration": 0.040257,
     "end_time": "2020-11-22T11:05:39.181835",
     "exception": false,
     "start_time": "2020-11-22T11:05:39.141578",
     "status": "completed"
    },
    "tags": []
   },
   "source": [
    "- separate features between timeseires and stratified\n",
    "- change weights"
   ]
  },
  {
   "cell_type": "code",
   "execution_count": 1,
   "metadata": {
    "_cell_guid": "b1076dfc-b9ad-4769-8c92-a6c4dae69d19",
    "_uuid": "8f2839f25d086af736a60e9eeb907d3b93b6e0e5",
    "execution": {
     "iopub.execute_input": "2020-11-22T11:05:39.257838Z",
     "iopub.status.busy": "2020-11-22T11:05:39.256924Z",
     "iopub.status.idle": "2020-11-22T11:05:42.067380Z",
     "shell.execute_reply": "2020-11-22T11:05:42.066339Z"
    },
    "papermill": {
     "duration": 2.853032,
     "end_time": "2020-11-22T11:05:42.067573",
     "exception": false,
     "start_time": "2020-11-22T11:05:39.214541",
     "status": "completed"
    },
    "tags": []
   },
   "outputs": [],
   "source": [
    "import os\n",
    "import warnings\n",
    "import numpy as np\n",
    "import pandas as pd\n",
    "import xgboost as xgb\n",
    "import lightgbm as lgb\n",
    "from datetime import timedelta\n",
    "from sklearn import preprocessing\n",
    "from tqdm.notebook import tqdm_notebook\n",
    "from sklearn.metrics import average_precision_score\n",
    "from sklearn.model_selection import StratifiedKFold\n",
    "from imblearn.under_sampling import RandomUnderSampler\n",
    "from sklearn.feature_extraction.text import TfidfVectorizer\n",
    "from sklearn.decomposition import TruncatedSVD\n",
    "\n",
    "warnings.filterwarnings('ignore')\n",
    "tqdm_notebook.pandas(desc=\"progress: \")"
   ]
  },
  {
   "cell_type": "code",
   "execution_count": 2,
   "metadata": {
    "execution": {
     "iopub.execute_input": "2020-11-22T11:05:42.147007Z",
     "iopub.status.busy": "2020-11-22T11:05:42.145112Z",
     "iopub.status.idle": "2020-11-22T11:06:15.440143Z",
     "shell.execute_reply": "2020-11-22T11:06:15.439235Z"
    },
    "papermill": {
     "duration": 33.339492,
     "end_time": "2020-11-22T11:06:15.440363",
     "exception": false,
     "start_time": "2020-11-22T11:05:42.100871",
     "status": "completed"
    },
    "tags": []
   },
   "outputs": [],
   "source": [
    "DIR = \"../input/20201115at/\"\n",
    "train = pd.read_csv(DIR+\"train.csv\")\n",
    "test = pd.read_csv(DIR+\"test.csv\")\n",
    "campaign = pd.read_csv(DIR+\"campaign.csv\")\n",
    "\n",
    "#advertiser_video = pd.read_csv(DIR+\"advertiser_video.csv\")\n",
    "#map_game_feed_native_video_assets = pd.read_csv(DIR+'map_game_feed_native_video_assets.csv')\n",
    "#advertiser_converted_video = pd.read_csv(DIR+\"advertiser_converted_video.csv\")"
   ]
  },
  {
   "cell_type": "markdown",
   "metadata": {
    "papermill": {
     "duration": 0.035098,
     "end_time": "2020-11-22T11:06:15.511887",
     "exception": false,
     "start_time": "2020-11-22T11:06:15.476789",
     "status": "completed"
    },
    "tags": []
   },
   "source": [
    "# preprocess"
   ]
  },
  {
   "cell_type": "code",
   "execution_count": 3,
   "metadata": {
    "execution": {
     "iopub.execute_input": "2020-11-22T11:06:15.604093Z",
     "iopub.status.busy": "2020-11-22T11:06:15.595938Z",
     "iopub.status.idle": "2020-11-22T11:06:18.442861Z",
     "shell.execute_reply": "2020-11-22T11:06:18.441956Z"
    },
    "papermill": {
     "duration": 2.895355,
     "end_time": "2020-11-22T11:06:18.443057",
     "exception": false,
     "start_time": "2020-11-22T11:06:15.547702",
     "status": "completed"
    },
    "tags": []
   },
   "outputs": [],
   "source": [
    "agg_df = train.groupby(['advertiser_id'])['target'].sum()\n",
    "zero_df = agg_df[agg_df == 0]\n",
    "zero_adver = list(sorted(set(zero_df.index) - set(test.advertiser_id.unique())))\n",
    "train = train[~train.advertiser_id.isin(zero_adver)].reset_index(drop=True)"
   ]
  },
  {
   "cell_type": "code",
   "execution_count": 4,
   "metadata": {
    "execution": {
     "iopub.execute_input": "2020-11-22T11:06:18.771705Z",
     "iopub.status.busy": "2020-11-22T11:06:18.770750Z",
     "iopub.status.idle": "2020-11-22T11:06:31.472675Z",
     "shell.execute_reply": "2020-11-22T11:06:31.471798Z"
    },
    "papermill": {
     "duration": 12.992653,
     "end_time": "2020-11-22T11:06:31.472855",
     "exception": false,
     "start_time": "2020-11-22T11:06:18.480202",
     "status": "completed"
    },
    "tags": []
   },
   "outputs": [],
   "source": [
    "# with campaign\n",
    "train = train.merge(campaign, left_on=\"campaign_id\", right_on = \"id\", how=\"left\").drop([\"mst_advertiser_id\", \"id\"], axis=1)\n",
    "test = test.merge(campaign, left_on=\"campaign_id\", right_on = \"id\", how=\"left\").drop([\"mst_advertiser_id\", \"id\"], axis=1)"
   ]
  },
  {
   "cell_type": "code",
   "execution_count": 5,
   "metadata": {
    "execution": {
     "iopub.execute_input": "2020-11-22T11:06:32.280366Z",
     "iopub.status.busy": "2020-11-22T11:06:32.279383Z",
     "iopub.status.idle": "2020-11-22T11:06:34.723701Z",
     "shell.execute_reply": "2020-11-22T11:06:34.722716Z"
    },
    "papermill": {
     "duration": 3.215663,
     "end_time": "2020-11-22T11:06:34.723862",
     "exception": false,
     "start_time": "2020-11-22T11:06:31.508199",
     "status": "completed"
    },
    "tags": []
   },
   "outputs": [],
   "source": [
    "train[\"imp_at\"] = pd.to_datetime(train[\"imp_at\"])\n",
    "test[\"imp_at\"] = pd.to_datetime(test[\"imp_at\"])\n",
    "train[\"date\"] = train[\"imp_at\"].dt.date\n",
    "test[\"date\"] = test[\"imp_at\"].dt.date\n",
    "train[\"hour\"] = train[\"imp_at\"].dt.hour\n",
    "test[\"hour\"] = test[\"imp_at\"].dt.hour"
   ]
  },
  {
   "cell_type": "code",
   "execution_count": 6,
   "metadata": {
    "execution": {
     "iopub.execute_input": "2020-11-22T11:06:35.523332Z",
     "iopub.status.busy": "2020-11-22T11:06:35.522479Z",
     "iopub.status.idle": "2020-11-22T11:06:37.420945Z",
     "shell.execute_reply": "2020-11-22T11:06:37.420160Z"
    },
    "papermill": {
     "duration": 2.664147,
     "end_time": "2020-11-22T11:06:37.421175",
     "exception": false,
     "start_time": "2020-11-22T11:06:34.757028",
     "status": "completed"
    },
    "tags": []
   },
   "outputs": [],
   "source": [
    "train[\"click_or_view_at\"] = pd.to_datetime(train[\"click_or_view_at\"])\n",
    "train[\"cv_at\"] = pd.to_datetime(train[\"cv_at\"])"
   ]
  },
  {
   "cell_type": "code",
   "execution_count": 7,
   "metadata": {
    "execution": {
     "iopub.execute_input": "2020-11-22T11:06:37.502502Z",
     "iopub.status.busy": "2020-11-22T11:06:37.501636Z",
     "iopub.status.idle": "2020-11-22T11:06:40.259706Z",
     "shell.execute_reply": "2020-11-22T11:06:40.260440Z"
    },
    "papermill": {
     "duration": 2.802581,
     "end_time": "2020-11-22T11:06:40.260649",
     "exception": false,
     "start_time": "2020-11-22T11:06:37.458068",
     "status": "completed"
    },
    "tags": []
   },
   "outputs": [],
   "source": [
    "# drop because distribution is different\n",
    "train.drop(['os_version'], axis=1, inplace=True)\n",
    "test.drop(['os_version'], axis=1, inplace=True)\n",
    "\n",
    "# noise features?\n",
    "train.drop(['user_type_id', \"category_id\",  \"video_template_id\", \"country_code\", \"game_feed_asset_type_id\", \"header_bidding\"], axis=1, inplace=True)\n",
    "test.drop(['user_type_id', \"category_id\",  \"video_template_id\", \"country_code\", \"game_feed_asset_type_id\", \"header_bidding\"], axis=1, inplace=True)"
   ]
  },
  {
   "cell_type": "code",
   "execution_count": 8,
   "metadata": {
    "execution": {
     "iopub.execute_input": "2020-11-22T11:06:40.351229Z",
     "iopub.status.busy": "2020-11-22T11:06:40.348362Z",
     "iopub.status.idle": "2020-11-22T11:07:17.206318Z",
     "shell.execute_reply": "2020-11-22T11:07:17.205410Z"
    },
    "papermill": {
     "duration": 36.912404,
     "end_time": "2020-11-22T11:07:17.206504",
     "exception": false,
     "start_time": "2020-11-22T11:06:40.294100",
     "status": "completed"
    },
    "tags": []
   },
   "outputs": [],
   "source": [
    "#\n",
    "app_ranking = pd.concat([train, test]).groupby(\"app_id\")[\"uid\"].nunique().reset_index(drop=False)\n",
    "app_ranking.columns = [\"app_id\", \"app_users\"]\n",
    "train = train.merge(app_ranking, on=\"app_id\", how=\"left\")\n",
    "test = test.merge(app_ranking, on=\"app_id\", how=\"left\")\n",
    "\n",
    "#\n",
    "media_app_rank = pd.concat([train, test]).groupby([\"game_feed_id\", \"campaign_id\"])[\"media_app_id\"].nunique().reset_index(drop=False)\n",
    "media_app_rank.columns = [\"game_feed_id\", \"campaign_id\", \"madia_app_num\"]\n",
    "train = train.merge(media_app_rank, on=[\"game_feed_id\", \"campaign_id\"], how=\"left\")\n",
    "test = test.merge(media_app_rank, on=[\"game_feed_id\", \"campaign_id\"], how=\"left\")\n",
    "\n",
    "# \n",
    "campaign_start_date = pd.concat([train, test]).groupby(\"campaign_id\").first().reset_index(drop=False)[[\"campaign_id\", \"date\"]]\n",
    "campaign_start_date.columns = [\"campaign_id\", \"first_date\"]\n",
    "train = train.merge(campaign_start_date, on=[\"campaign_id\"], how=\"left\")\n",
    "test = test.merge(campaign_start_date, on=[\"campaign_id\"], how=\"left\")"
   ]
  },
  {
   "cell_type": "code",
   "execution_count": 9,
   "metadata": {
    "execution": {
     "iopub.execute_input": "2020-11-22T11:07:17.284273Z",
     "iopub.status.busy": "2020-11-22T11:07:17.283187Z",
     "iopub.status.idle": "2020-11-22T11:08:04.575349Z",
     "shell.execute_reply": "2020-11-22T11:08:04.573489Z"
    },
    "papermill": {
     "duration": 47.334413,
     "end_time": "2020-11-22T11:08:04.575572",
     "exception": false,
     "start_time": "2020-11-22T11:07:17.241159",
     "status": "completed"
    },
    "tags": []
   },
   "outputs": [],
   "source": [
    "train[\"days_from_start\"] = (train[\"date\"] - train[\"first_date\"]).apply(lambda x: x.days)\n",
    "test[\"days_from_start\"] = (test[\"date\"] - test[\"first_date\"]).apply(lambda x: x.days)"
   ]
  },
  {
   "cell_type": "code",
   "execution_count": 10,
   "metadata": {
    "execution": {
     "iopub.execute_input": "2020-11-22T11:08:04.668850Z",
     "iopub.status.busy": "2020-11-22T11:08:04.667059Z",
     "iopub.status.idle": "2020-11-22T11:12:13.517980Z",
     "shell.execute_reply": "2020-11-22T11:12:13.517010Z"
    },
    "papermill": {
     "duration": 248.907631,
     "end_time": "2020-11-22T11:12:13.518173",
     "exception": false,
     "start_time": "2020-11-22T11:08:04.610542",
     "status": "completed"
    },
    "tags": []
   },
   "outputs": [
    {
     "name": "stdout",
     "output_type": "stream",
     "text": [
      "advertiser_id\n",
      "campaign_id\n"
     ]
    }
   ],
   "source": [
    "ids = [\"advertiser_id\", \"campaign_id\"]\n",
    "\n",
    "def join(df):\n",
    "    x = [str(e) for e in list(df)]\n",
    "    return \" \".join(x)\n",
    "\n",
    "concatenated_ = pd.concat([train[ids + [\"uid\"]], test[ids + [\"uid\"]]], axis=0).reset_index(drop=True)\n",
    "\n",
    "tfidf_dfs = []\n",
    "tfidf_svd_feats = []\n",
    "for id_ in ids:\n",
    "    print(id_)\n",
    "    docs = concatenated_.groupby(\"uid\")[id_].apply(join)\n",
    "    max_features = int(concatenated_[id_].nunique() * 0.8)\n",
    "    tv = TfidfVectorizer(max_features=max_features)\n",
    "    X = tv.fit_transform(docs)\n",
    "\n",
    "    if id_ == \"advertiser_id\":\n",
    "        n_components = 20\n",
    "    else:\n",
    "        n_components = 80\n",
    "    svd = TruncatedSVD(n_components=n_components)\n",
    "    X = svd.fit_transform(X)\n",
    "    df = pd.DataFrame(X, columns=[f\"tfidf_{id_}_{i}\" for i in range(n_components)])\n",
    "    df.index = docs.index\n",
    "    tfidf_dfs.append(df)\n",
    "    tfidf_svd_feats += [f\"tfidf_{id_}_{i}\" for i in range(n_components)]"
   ]
  },
  {
   "cell_type": "code",
   "execution_count": 11,
   "metadata": {
    "execution": {
     "iopub.execute_input": "2020-11-22T11:12:13.608861Z",
     "iopub.status.busy": "2020-11-22T11:12:13.607216Z",
     "iopub.status.idle": "2020-11-22T11:12:38.110403Z",
     "shell.execute_reply": "2020-11-22T11:12:38.109660Z"
    },
    "papermill": {
     "duration": 24.556683,
     "end_time": "2020-11-22T11:12:38.110596",
     "exception": false,
     "start_time": "2020-11-22T11:12:13.553913",
     "status": "completed"
    },
    "tags": []
   },
   "outputs": [
    {
     "name": "stdout",
     "output_type": "stream",
     "text": [
      "154\n"
     ]
    }
   ],
   "source": [
    "game_feed_target = train.groupby(\"game_feed_id\")[\"target\"].mean().reset_index(drop=False)\n",
    "game_feed_counts = train[\"game_feed_id\"].value_counts().reset_index(drop=False)\n",
    "game_feed_counts.columns = [\"game_feed_id\", \"game_feed_counts\"]\n",
    "game_feed_target = game_feed_target.merge(game_feed_counts, on =\"game_feed_id\", how=\"left\")\n",
    "popular_game_feed = list(game_feed_target[(game_feed_target.target > 0.1) & (game_feed_target.game_feed_counts > 100)][\"game_feed_id\"])\n",
    "print(len(popular_game_feed))\n",
    "\n",
    "train[\"popular_game\"] = train[\"game_feed_id\"].apply(lambda x: 1 if x in popular_game_feed else 0)\n",
    "test[\"popular_game\"] = test[\"game_feed_id\"].apply(lambda x: 1 if x in popular_game_feed else 0)\n",
    "\n",
    "camp_target = train.groupby(\"campaign_id\")[\"target\"].mean().reset_index(drop=False)\n",
    "camp_counts = train[\"campaign_id\"].value_counts().reset_index(drop=False)\n",
    "camp_counts.columns = [\"campaign_id\", \"campaign_counts\"]\n",
    "camp_target = camp_target.merge(camp_counts, on =\"campaign_id\", how=\"left\")\n",
    "popular_campaign = list(camp_target[(camp_target.target > 0.1) & (camp_target.campaign_counts > 100)][\"campaign_id\"])\n",
    "\n",
    "train[\"popular_campaign\"] = train[\"campaign_id\"].apply(lambda x: 1 if x in popular_campaign else 0)\n",
    "test[\"popular_campaign\"] = test[\"campaign_id\"].apply(lambda x: 1 if x in popular_campaign else 0)"
   ]
  },
  {
   "cell_type": "code",
   "execution_count": 12,
   "metadata": {
    "execution": {
     "iopub.execute_input": "2020-11-22T11:12:38.211302Z",
     "iopub.status.busy": "2020-11-22T11:12:38.210325Z",
     "iopub.status.idle": "2020-11-22T11:13:14.128527Z",
     "shell.execute_reply": "2020-11-22T11:13:14.127415Z"
    },
    "papermill": {
     "duration": 35.982577,
     "end_time": "2020-11-22T11:13:14.128746",
     "exception": false,
     "start_time": "2020-11-22T11:12:38.146169",
     "status": "completed"
    },
    "tags": []
   },
   "outputs": [
    {
     "name": "stdout",
     "output_type": "stream",
     "text": [
      "advertiser_id\n",
      "app_id\n",
      "campaign_id\n",
      "game_feed_id\n",
      "game_template_id\n",
      "media_app_id\n",
      "mst_advertiser_order_id\n"
     ]
    }
   ],
   "source": [
    "object_feats = [i for i in train.columns if \"object\" == str(train[i].dtype) \n",
    "                and i != \"request_id\" and i != \"uid\" and i != \"date\" and i != \"hour\" and i !=\"first_date\"]\n",
    "\n",
    "def get_non_overlapping(train: pd.DataFrame, test: pd.DataFrame, column: str):\n",
    "    only_in_train = set(train[column].unique()) - set(test[column].unique())\n",
    "    only_in_test = set(test[column].unique()) - set(train[column].unique())\n",
    "    non_overlapping = only_in_train.union(only_in_test)\n",
    "    return non_overlapping\n",
    "\n",
    "def category2num(train: pd.DataFrame, test: pd.DataFrame, columns: list):\n",
    "    train_ = train.copy()\n",
    "    test_ = test.copy()\n",
    "    for column in columns:\n",
    "        print(column)\n",
    "        non_overlapping = get_non_overlapping(train, test, column)\n",
    "        try:\n",
    "            if train[column].dtype == np.dtype(\"O\"):\n",
    "                # dtypeがobjectなら欠損は'missing' クラスにする\n",
    "                train_[column] = train[column].fillna(\"missing\")\n",
    "                test_[column] = test[column].fillna(\"missing\")\n",
    "                train_[column] = train_[column].map(lambda x: x if x not in non_overlapping else \"other\")\n",
    "                test_[column] = test_[column].map(lambda x: x if x not in non_overlapping else \"other\")\n",
    "            else:\n",
    "                # dtypeがint/floatなら欠損は'-1'とする\n",
    "                train_[column] = train[column].fillna(-1)\n",
    "                test_[column] = test[column].fillna(-1)\n",
    "                train_[column] = train_[column].map(lambda x: x if x not in non_overlapping else -2)\n",
    "                test_[column] = test_[column].map(lambda x: x if x not in non_overlapping else -2)\n",
    "\n",
    "            le = preprocessing.LabelEncoder()\n",
    "            concatenated = pd.concat([train_, test_], axis=0).reset_index(drop=True)\n",
    "            le.fit(concatenated[column])\n",
    "            train_[column] = le.transform(train_[column])\n",
    "            test_[column] = le.transform(test_[column])\n",
    "        except Exception:\n",
    "            import pdb\n",
    "            pdb.set_trace()\n",
    "    return train_, test_\n",
    "\n",
    "train, test = category2num(train, test, object_feats)"
   ]
  },
  {
   "cell_type": "code",
   "execution_count": 13,
   "metadata": {
    "execution": {
     "iopub.execute_input": "2020-11-22T11:13:14.220161Z",
     "iopub.status.busy": "2020-11-22T11:13:14.217991Z",
     "iopub.status.idle": "2020-11-22T11:13:14.670048Z",
     "shell.execute_reply": "2020-11-22T11:13:14.669225Z"
    },
    "papermill": {
     "duration": 0.500655,
     "end_time": "2020-11-22T11:13:14.670215",
     "exception": false,
     "start_time": "2020-11-22T11:13:14.169560",
     "status": "completed"
    },
    "tags": []
   },
   "outputs": [],
   "source": [
    "# drop because the exist only in train\n",
    "train.drop(['click_or_view_at', 'cv_at','last_cv_interval', 'last_paid_interval'], axis=1, inplace=True)"
   ]
  },
  {
   "cell_type": "markdown",
   "metadata": {
    "papermill": {
     "duration": 0.039577,
     "end_time": "2020-11-22T11:13:14.749828",
     "exception": false,
     "start_time": "2020-11-22T11:13:14.710251",
     "status": "completed"
    },
    "tags": []
   },
   "source": [
    "# feature engineering"
   ]
  },
  {
   "cell_type": "code",
   "execution_count": 14,
   "metadata": {
    "execution": {
     "iopub.execute_input": "2020-11-22T11:13:14.841461Z",
     "iopub.status.busy": "2020-11-22T11:13:14.840070Z",
     "iopub.status.idle": "2020-11-22T11:13:32.675035Z",
     "shell.execute_reply": "2020-11-22T11:13:32.674212Z"
    },
    "papermill": {
     "duration": 17.883777,
     "end_time": "2020-11-22T11:13:32.675202",
     "exception": false,
     "start_time": "2020-11-22T11:13:14.791425",
     "status": "completed"
    },
    "tags": []
   },
   "outputs": [],
   "source": [
    "train[\"type\"] = \"train\"\n",
    "test[\"type\"] = \"test\"\n",
    "all_df = pd.concat([train, test])\n",
    "all_df = all_df.sort_values([\"uid\", \"imp_at\"]).reset_index(drop=True)"
   ]
  },
  {
   "cell_type": "code",
   "execution_count": 15,
   "metadata": {
    "execution": {
     "iopub.execute_input": "2020-11-22T11:13:32.762549Z",
     "iopub.status.busy": "2020-11-22T11:13:32.761322Z",
     "iopub.status.idle": "2020-11-22T11:13:38.124146Z",
     "shell.execute_reply": "2020-11-22T11:13:38.123428Z"
    },
    "papermill": {
     "duration": 5.408436,
     "end_time": "2020-11-22T11:13:38.124358",
     "exception": false,
     "start_time": "2020-11-22T11:13:32.715922",
     "status": "completed"
    },
    "tags": []
   },
   "outputs": [],
   "source": [
    "all_df[\"count\"] = 1\n",
    "all_df[\"count\"] = all_df.groupby(\"uid\")[\"count\"].cumsum()"
   ]
  },
  {
   "cell_type": "code",
   "execution_count": 16,
   "metadata": {
    "execution": {
     "iopub.execute_input": "2020-11-22T11:13:38.215528Z",
     "iopub.status.busy": "2020-11-22T11:13:38.213110Z",
     "iopub.status.idle": "2020-11-22T11:13:55.535108Z",
     "shell.execute_reply": "2020-11-22T11:13:55.534416Z"
    },
    "papermill": {
     "duration": 17.369678,
     "end_time": "2020-11-22T11:13:55.535280",
     "exception": false,
     "start_time": "2020-11-22T11:13:38.165602",
     "status": "completed"
    },
    "tags": []
   },
   "outputs": [],
   "source": [
    "all_df = all_df.merge(tfidf_dfs[0], on=\"uid\", how=\"left\")\n",
    "all_df = all_df.merge(tfidf_dfs[1], on=\"uid\", how=\"left\")"
   ]
  },
  {
   "cell_type": "code",
   "execution_count": 17,
   "metadata": {
    "execution": {
     "iopub.execute_input": "2020-11-22T11:13:55.700650Z",
     "iopub.status.busy": "2020-11-22T11:13:55.658918Z",
     "iopub.status.idle": "2020-11-22T11:13:55.704135Z",
     "shell.execute_reply": "2020-11-22T11:13:55.704756Z"
    },
    "papermill": {
     "duration": 0.130227,
     "end_time": "2020-11-22T11:13:55.704968",
     "exception": false,
     "start_time": "2020-11-22T11:13:55.574741",
     "status": "completed"
    },
    "tags": []
   },
   "outputs": [],
   "source": [
    "del tfidf_dfs, concatenated_"
   ]
  },
  {
   "cell_type": "code",
   "execution_count": 18,
   "metadata": {
    "execution": {
     "iopub.execute_input": "2020-11-22T11:13:55.808021Z",
     "iopub.status.busy": "2020-11-22T11:13:55.794534Z",
     "iopub.status.idle": "2020-11-22T11:14:28.882462Z",
     "shell.execute_reply": "2020-11-22T11:14:28.881679Z"
    },
    "papermill": {
     "duration": 33.138106,
     "end_time": "2020-11-22T11:14:28.882632",
     "exception": false,
     "start_time": "2020-11-22T11:13:55.744526",
     "status": "completed"
    },
    "tags": []
   },
   "outputs": [],
   "source": [
    "def _create_whole_imp_at_feature(whole_df, var) -> pd.DataFrame:\n",
    "\n",
    "    imp_at = pd.to_datetime(whole_df['imp_at']) + timedelta(hours=9) # utc -> asia/tokyo\n",
    "    out_df = pd.DataFrame()\n",
    "    out_df['hours'] = imp_at.dt.hour\n",
    "    out_df['dayofweek'] = imp_at.dt.dayofweek\n",
    "    out_df['hour_zone'] = pd.cut(out_df['hours'].values, bins=[-np.inf, 6, 12, 18, np.inf]).codes\n",
    "\n",
    "    def _create_pivot(input_df, c, column='dayofweek', values='hours'):\n",
    "        _df = pd.pivot_table(data=input_df, index=[c], columns=[column], values=values, aggfunc='count')\n",
    "        _df = _df.fillna(0)\n",
    "        _df.columns = [column + '=' + str(x) for x in _df.columns]\n",
    "\n",
    "        # index ごとに正規化して割合にする\n",
    "        _df = _df.div(_df.sum(axis=1), axis=0)\n",
    "        return pd.merge(input_df[c], _df, on=c, how='left').drop(columns=[c]).add_prefix(c + '_')\n",
    "\n",
    "    # uid での集約\n",
    "    for c in [var]:\n",
    "        _df = out_df.copy()\n",
    "        _df[c] = whole_df[c]\n",
    "        _feat = pd.concat([\n",
    "            _create_pivot(_df, c),\n",
    "            _create_pivot(_df, c, column='hour_zone', values='dayofweek')  \n",
    "        ], axis=1)\n",
    "        out_df = pd.concat([out_df, _feat], axis=1)\n",
    "\n",
    "    out_df['request_id'] = whole_df['request_id']\n",
    "    return out_df\n",
    "\n",
    "user_imp_df = _create_whole_imp_at_feature(all_df, \"uid\")\n",
    "user_imp_df.drop([\"hours\",\"dayofweek\",\"hour_zone\"], axis=1, inplace=True)\n",
    "all_df = all_df.merge(user_imp_df, on=\"request_id\", how=\"left\")"
   ]
  },
  {
   "cell_type": "code",
   "execution_count": 19,
   "metadata": {
    "execution": {
     "iopub.execute_input": "2020-11-22T11:14:29.002745Z",
     "iopub.status.busy": "2020-11-22T11:14:29.001311Z",
     "iopub.status.idle": "2020-11-22T11:14:48.153261Z",
     "shell.execute_reply": "2020-11-22T11:14:48.152407Z"
    },
    "papermill": {
     "duration": 19.21597,
     "end_time": "2020-11-22T11:14:48.153430",
     "exception": false,
     "start_time": "2020-11-22T11:14:28.937460",
     "status": "completed"
    },
    "tags": []
   },
   "outputs": [],
   "source": [
    "camp_num = all_df.groupby(\"date\")[\"campaign_id\"].nunique().reset_index(drop=False)\n",
    "camp_num.columns=[\"date\", \"camp_num\"]\n",
    "all_df = all_df.merge(camp_num, on=\"date\", how=\"left\")\n",
    "\n",
    "user_num = all_df.groupby(\"date\")[\"uid\"].nunique().reset_index(drop=False)\n",
    "user_num.columns=[\"date\", \"user_num\"]\n",
    "all_df = all_df.merge(user_num, on=\"date\", how=\"left\")\n",
    "\n",
    "all_df.drop([\"date\", \"hour\", \"first_date\"], axis=1, inplace=True)"
   ]
  },
  {
   "cell_type": "code",
   "execution_count": 20,
   "metadata": {
    "execution": {
     "iopub.execute_input": "2020-11-22T11:14:48.566353Z",
     "iopub.status.busy": "2020-11-22T11:14:48.564874Z",
     "iopub.status.idle": "2020-11-22T11:14:54.417497Z",
     "shell.execute_reply": "2020-11-22T11:14:54.416475Z"
    },
    "papermill": {
     "duration": 6.224003,
     "end_time": "2020-11-22T11:14:54.417693",
     "exception": false,
     "start_time": "2020-11-22T11:14:48.193690",
     "status": "completed"
    },
    "tags": []
   },
   "outputs": [],
   "source": [
    "train = all_df[all_df.type==\"train\"].drop(\"type\", axis=1).reset_index(drop=True)\n",
    "test = all_df[all_df.type==\"test\"].drop(\"type\", axis=1).reset_index(drop=True)"
   ]
  },
  {
   "cell_type": "code",
   "execution_count": 21,
   "metadata": {
    "execution": {
     "iopub.execute_input": "2020-11-22T11:14:54.643512Z",
     "iopub.status.busy": "2020-11-22T11:14:54.642615Z",
     "iopub.status.idle": "2020-11-22T11:14:54.647151Z",
     "shell.execute_reply": "2020-11-22T11:14:54.646276Z"
    },
    "papermill": {
     "duration": 0.188185,
     "end_time": "2020-11-22T11:14:54.647330",
     "exception": false,
     "start_time": "2020-11-22T11:14:54.459145",
     "status": "completed"
    },
    "tags": []
   },
   "outputs": [],
   "source": [
    "del all_df"
   ]
  },
  {
   "cell_type": "code",
   "execution_count": 22,
   "metadata": {
    "execution": {
     "iopub.execute_input": "2020-11-22T11:14:54.737347Z",
     "iopub.status.busy": "2020-11-22T11:14:54.736364Z",
     "iopub.status.idle": "2020-11-22T11:15:03.260637Z",
     "shell.execute_reply": "2020-11-22T11:15:03.259722Z"
    },
    "papermill": {
     "duration": 8.572999,
     "end_time": "2020-11-22T11:15:03.260806",
     "exception": false,
     "start_time": "2020-11-22T11:14:54.687807",
     "status": "completed"
    },
    "tags": []
   },
   "outputs": [],
   "source": [
    "train = train.sort_values(\"imp_at\").reset_index(drop=True)\n",
    "test = test.sort_values(\"imp_at\").reset_index(drop=True)"
   ]
  },
  {
   "cell_type": "code",
   "execution_count": 23,
   "metadata": {
    "execution": {
     "iopub.execute_input": "2020-11-22T11:15:03.355131Z",
     "iopub.status.busy": "2020-11-22T11:15:03.353652Z",
     "iopub.status.idle": "2020-11-22T11:15:09.084532Z",
     "shell.execute_reply": "2020-11-22T11:15:09.083607Z"
    },
    "papermill": {
     "duration": 5.782693,
     "end_time": "2020-11-22T11:15:09.084694",
     "exception": false,
     "start_time": "2020-11-22T11:15:03.302001",
     "status": "completed"
    },
    "tags": []
   },
   "outputs": [],
   "source": [
    "ce_feats = [\"uid\"]\n",
    "for c in ce_feats:\n",
    "    freq = pd.concat([train[c], test[c]]).value_counts()\n",
    "    train[c] = train[c].map(freq)\n",
    "    test[c] = test[c].map(freq)"
   ]
  },
  {
   "cell_type": "markdown",
   "metadata": {
    "papermill": {
     "duration": 0.042485,
     "end_time": "2020-11-22T11:15:09.173504",
     "exception": false,
     "start_time": "2020-11-22T11:15:09.131019",
     "status": "completed"
    },
    "tags": []
   },
   "source": [
    "# separation for validation"
   ]
  },
  {
   "cell_type": "code",
   "execution_count": 24,
   "metadata": {
    "execution": {
     "iopub.execute_input": "2020-11-22T11:15:09.266133Z",
     "iopub.status.busy": "2020-11-22T11:15:09.265068Z",
     "iopub.status.idle": "2020-11-22T11:15:10.667674Z",
     "shell.execute_reply": "2020-11-22T11:15:10.666805Z"
    },
    "papermill": {
     "duration": 1.452851,
     "end_time": "2020-11-22T11:15:10.667823",
     "exception": false,
     "start_time": "2020-11-22T11:15:09.214972",
     "status": "completed"
    },
    "tags": []
   },
   "outputs": [],
   "source": [
    "train.drop(['request_id'], axis=1, inplace=True)\n",
    "test.drop(['request_id'], axis=1, inplace=True)"
   ]
  },
  {
   "cell_type": "code",
   "execution_count": 25,
   "metadata": {
    "execution": {
     "iopub.execute_input": "2020-11-22T11:15:10.759185Z",
     "iopub.status.busy": "2020-11-22T11:15:10.758221Z",
     "iopub.status.idle": "2020-11-22T11:15:13.251671Z",
     "shell.execute_reply": "2020-11-22T11:15:13.250895Z"
    },
    "papermill": {
     "duration": 2.542774,
     "end_time": "2020-11-22T11:15:13.251847",
     "exception": false,
     "start_time": "2020-11-22T11:15:10.709073",
     "status": "completed"
    },
    "tags": []
   },
   "outputs": [],
   "source": [
    "mask = train.imp_at > \"2020-05-21\"\n",
    "valid_df = train.loc[mask].copy()\n",
    "train_df = train.loc[~mask].copy()"
   ]
  },
  {
   "cell_type": "code",
   "execution_count": 26,
   "metadata": {
    "execution": {
     "iopub.execute_input": "2020-11-22T11:15:13.605278Z",
     "iopub.status.busy": "2020-11-22T11:15:13.463012Z",
     "iopub.status.idle": "2020-11-22T11:15:14.997082Z",
     "shell.execute_reply": "2020-11-22T11:15:14.996183Z"
    },
    "papermill": {
     "duration": 1.703349,
     "end_time": "2020-11-22T11:15:14.997249",
     "exception": false,
     "start_time": "2020-11-22T11:15:13.293900",
     "status": "completed"
    },
    "tags": []
   },
   "outputs": [],
   "source": [
    "valid_df = valid_df.drop([\"imp_at\"] + tfidf_svd_feats, axis=1)\n",
    "train_df = train_df.drop([\"imp_at\"] + tfidf_svd_feats, axis=1)\n",
    "test_df = test.drop([\"imp_at\", \"target\"] + tfidf_svd_feats, axis=1) \n",
    "\n",
    "train = train.drop([\"imp_at\"], axis=1) \n",
    "test = test.drop([\"imp_at\", \"target\"], axis=1) "
   ]
  },
  {
   "cell_type": "code",
   "execution_count": 27,
   "metadata": {
    "execution": {
     "iopub.execute_input": "2020-11-22T11:15:15.095736Z",
     "iopub.status.busy": "2020-11-22T11:15:15.094687Z",
     "iopub.status.idle": "2020-11-22T11:15:15.101483Z",
     "shell.execute_reply": "2020-11-22T11:15:15.100116Z"
    },
    "papermill": {
     "duration": 0.057762,
     "end_time": "2020-11-22T11:15:15.101686",
     "exception": false,
     "start_time": "2020-11-22T11:15:15.043924",
     "status": "completed"
    },
    "tags": []
   },
   "outputs": [
    {
     "name": "stdout",
     "output_type": "stream",
     "text": [
      "(1856405, 143) (390095, 142)\n",
      "(1433525, 43) (422880, 43) (390095, 42)\n"
     ]
    }
   ],
   "source": [
    "print(train.shape, test.shape)\n",
    "print(train_df.shape, valid_df.shape, test_df.shape)"
   ]
  },
  {
   "cell_type": "code",
   "execution_count": 28,
   "metadata": {
    "execution": {
     "iopub.execute_input": "2020-11-22T11:15:15.197905Z",
     "iopub.status.busy": "2020-11-22T11:15:15.196870Z",
     "iopub.status.idle": "2020-11-22T11:15:15.201867Z",
     "shell.execute_reply": "2020-11-22T11:15:15.202491Z"
    },
    "papermill": {
     "duration": 0.057133,
     "end_time": "2020-11-22T11:15:15.202683",
     "exception": false,
     "start_time": "2020-11-22T11:15:15.145550",
     "status": "completed"
    },
    "tags": []
   },
   "outputs": [
    {
     "data": {
      "text/plain": [
       "Index(['target', 'adnw_id', 'adspot_id', 'adspot_video_format_id',\n",
       "       'advertiser_id', 'app_id', 'auction_type_id', 'campaign_id',\n",
       "       'first_login_interval', 'frequency',\n",
       "       ...\n",
       "       'uid_dayofweek=3', 'uid_dayofweek=4', 'uid_dayofweek=5',\n",
       "       'uid_dayofweek=6', 'uid_hour_zone=0', 'uid_hour_zone=1',\n",
       "       'uid_hour_zone=2', 'uid_hour_zone=3', 'camp_num', 'user_num'],\n",
       "      dtype='object', length=143)"
      ]
     },
     "execution_count": 28,
     "metadata": {},
     "output_type": "execute_result"
    }
   ],
   "source": [
    "train.columns"
   ]
  },
  {
   "cell_type": "code",
   "execution_count": 29,
   "metadata": {
    "execution": {
     "iopub.execute_input": "2020-11-22T11:15:15.301082Z",
     "iopub.status.busy": "2020-11-22T11:15:15.299987Z",
     "iopub.status.idle": "2020-11-22T11:15:15.306052Z",
     "shell.execute_reply": "2020-11-22T11:15:15.304850Z"
    },
    "papermill": {
     "duration": 0.059507,
     "end_time": "2020-11-22T11:15:15.306243",
     "exception": false,
     "start_time": "2020-11-22T11:15:15.246736",
     "status": "completed"
    },
    "tags": []
   },
   "outputs": [
    {
     "data": {
      "text/plain": [
       "['advertiser_id',\n",
       " 'app_id',\n",
       " 'campaign_id',\n",
       " 'game_feed_id',\n",
       " 'game_template_id',\n",
       " 'media_app_id',\n",
       " 'mst_advertiser_order_id']"
      ]
     },
     "execution_count": 29,
     "metadata": {},
     "output_type": "execute_result"
    }
   ],
   "source": [
    "object_feats = [i for i in object_feats if i in train.columns]\n",
    "object_feats"
   ]
  },
  {
   "cell_type": "markdown",
   "metadata": {
    "papermill": {
     "duration": 0.043804,
     "end_time": "2020-11-22T11:15:15.395473",
     "exception": false,
     "start_time": "2020-11-22T11:15:15.351669",
     "status": "completed"
    },
    "tags": []
   },
   "source": [
    "# stratified lgb"
   ]
  },
  {
   "cell_type": "code",
   "execution_count": 30,
   "metadata": {
    "_cell_guid": "79c7e3d0-c299-4dcb-8224-4455121ee9b0",
    "_uuid": "d629ff2d2480ee46fbb7e2d37f6b5fab8052498a",
    "execution": {
     "iopub.execute_input": "2020-11-22T11:15:15.507214Z",
     "iopub.status.busy": "2020-11-22T11:15:15.506330Z",
     "iopub.status.idle": "2020-11-22T11:38:24.077271Z",
     "shell.execute_reply": "2020-11-22T11:38:24.078097Z"
    },
    "papermill": {
     "duration": 1388.638477,
     "end_time": "2020-11-22T11:38:24.078509",
     "exception": false,
     "start_time": "2020-11-22T11:15:15.440032",
     "status": "completed"
    },
    "tags": []
   },
   "outputs": [
    {
     "name": "stdout",
     "output_type": "stream",
     "text": [
      "seed: 0\n",
      "fold:  0\n",
      "Training until validation scores don't improve for 20 rounds\n",
      "[30]\ttraining's pr_auc: 0.275138\tvalid_1's pr_auc: 0.267782\n",
      "[60]\ttraining's pr_auc: 0.298659\tvalid_1's pr_auc: 0.284062\n",
      "[90]\ttraining's pr_auc: 0.313083\tvalid_1's pr_auc: 0.290435\n",
      "[120]\ttraining's pr_auc: 0.322403\tvalid_1's pr_auc: 0.293545\n",
      "[150]\ttraining's pr_auc: 0.33027\tvalid_1's pr_auc: 0.296778\n",
      "[180]\ttraining's pr_auc: 0.336924\tvalid_1's pr_auc: 0.298363\n",
      "[210]\ttraining's pr_auc: 0.343293\tvalid_1's pr_auc: 0.299854\n",
      "[240]\ttraining's pr_auc: 0.351329\tvalid_1's pr_auc: 0.301885\n",
      "Early stopping, best iteration is:\n",
      "[242]\ttraining's pr_auc: 0.351783\tvalid_1's pr_auc: 0.302077\n",
      "fold:  1\n",
      "Training until validation scores don't improve for 20 rounds\n",
      "[30]\ttraining's pr_auc: 0.275435\tvalid_1's pr_auc: 0.268343\n",
      "[60]\ttraining's pr_auc: 0.298483\tvalid_1's pr_auc: 0.285412\n",
      "[90]\ttraining's pr_auc: 0.314285\tvalid_1's pr_auc: 0.29601\n",
      "[120]\ttraining's pr_auc: 0.322912\tvalid_1's pr_auc: 0.299168\n",
      "Early stopping, best iteration is:\n",
      "[127]\ttraining's pr_auc: 0.325812\tvalid_1's pr_auc: 0.300092\n",
      "fold:  2\n",
      "Training until validation scores don't improve for 20 rounds\n",
      "[30]\ttraining's pr_auc: 0.274346\tvalid_1's pr_auc: 0.266168\n",
      "[60]\ttraining's pr_auc: 0.296797\tvalid_1's pr_auc: 0.281049\n",
      "[90]\ttraining's pr_auc: 0.311134\tvalid_1's pr_auc: 0.287653\n",
      "[120]\ttraining's pr_auc: 0.32231\tvalid_1's pr_auc: 0.291279\n",
      "[150]\ttraining's pr_auc: 0.332306\tvalid_1's pr_auc: 0.295031\n",
      "[180]\ttraining's pr_auc: 0.339583\tvalid_1's pr_auc: 0.296674\n",
      "[210]\ttraining's pr_auc: 0.344874\tvalid_1's pr_auc: 0.297315\n",
      "Early stopping, best iteration is:\n",
      "[208]\ttraining's pr_auc: 0.344668\tvalid_1's pr_auc: 0.297435\n",
      "fold:  3\n",
      "Training until validation scores don't improve for 20 rounds\n",
      "[30]\ttraining's pr_auc: 0.276873\tvalid_1's pr_auc: 0.270986\n",
      "[60]\ttraining's pr_auc: 0.298742\tvalid_1's pr_auc: 0.285911\n",
      "[90]\ttraining's pr_auc: 0.312146\tvalid_1's pr_auc: 0.290056\n",
      "[120]\ttraining's pr_auc: 0.322642\tvalid_1's pr_auc: 0.293148\n",
      "[150]\ttraining's pr_auc: 0.330413\tvalid_1's pr_auc: 0.294919\n",
      "[180]\ttraining's pr_auc: 0.338914\tvalid_1's pr_auc: 0.296554\n",
      "[210]\ttraining's pr_auc: 0.344885\tvalid_1's pr_auc: 0.298547\n",
      "[240]\ttraining's pr_auc: 0.348641\tvalid_1's pr_auc: 0.29818\n",
      "Early stopping, best iteration is:\n",
      "[221]\ttraining's pr_auc: 0.347917\tvalid_1's pr_auc: 0.299298\n",
      "fold:  4\n",
      "Training until validation scores don't improve for 20 rounds\n",
      "[30]\ttraining's pr_auc: 0.272282\tvalid_1's pr_auc: 0.276018\n",
      "[60]\ttraining's pr_auc: 0.296237\tvalid_1's pr_auc: 0.294925\n",
      "[90]\ttraining's pr_auc: 0.311296\tvalid_1's pr_auc: 0.303135\n",
      "[120]\ttraining's pr_auc: 0.321223\tvalid_1's pr_auc: 0.304826\n",
      "[150]\ttraining's pr_auc: 0.330234\tvalid_1's pr_auc: 0.308821\n",
      "Early stopping, best iteration is:\n",
      "[153]\ttraining's pr_auc: 0.330928\tvalid_1's pr_auc: 0.309067\n",
      "0.3012530950754259\n"
     ]
    }
   ],
   "source": [
    "# stratified k fold\n",
    "n_folds = 5\n",
    "def pr_auc_metric(y_predicted, y_true):\n",
    "    return 'pr_auc', average_precision_score(y_true.get_label(), y_predicted), True\n",
    "\n",
    "def modelling(seed):\n",
    "    print(\"seed:\", seed)\n",
    "    lgbm_params = {'objective': 'binary', 'metric': 'None', 'boosting_type': 'gbdt', \n",
    "               'tree_learner': 'serial', 'learning_rate': 0.1, \"num_leaves\": 10, 'random_seed':seed,'max_depth': 5}\n",
    "    \n",
    "    y = train.target\n",
    "    X = train.drop(['target'],axis=1)\n",
    "    \n",
    "    skf=StratifiedKFold(n_splits = n_folds, shuffle=True, random_state=0)\n",
    "    \n",
    "    valid = np.zeros([X.shape[0]])\n",
    "    features_list = [i for i in X.columns]\n",
    "    pred_value = np.zeros(test.shape[0])\n",
    "    feature_importance_df = pd.DataFrame(features_list, columns=[\"Feature\"])\n",
    "    \n",
    "    for i , (train_index, val_index) in enumerate(skf.split(X, y)):\n",
    "        print(\"fold: \", i)\n",
    "        \n",
    "        X_train = X.iloc[train_index,:]\n",
    "        y_train = y.iloc[train_index]\n",
    "        \n",
    "        X_valid = X.iloc[val_index,:]\n",
    "        y_valid = y.iloc[val_index]\n",
    "        \n",
    "        lgb_train = lgb.Dataset(X_train, y_train)\n",
    "        lgb_eval = lgb.Dataset(X_valid, y_valid, reference=lgb_train)\n",
    "        \n",
    "        model = lgb.train(lgbm_params, lgb_train,valid_sets=[lgb_train, lgb_eval],\n",
    "           num_boost_round=10000,early_stopping_rounds=20,verbose_eval = 30,\n",
    "                          feval=pr_auc_metric, categorical_feature = sorted(object_feats))\n",
    "        \n",
    "        valid_predict = model.predict(X_valid, num_iteration = model.best_iteration)\n",
    "        valid[val_index] = valid_predict\n",
    "        pred_value += model.predict(test, num_iteration = model.best_iteration) / n_folds\n",
    "        feature_importance_df[\"Fold_\"+str(i+1)] = model.feature_importance()\n",
    "    \n",
    "    feature_importance_df[\"Average\"] = np.mean(feature_importance_df.iloc[:,1:n_folds+1], axis=1)\n",
    "    feature_importance_df[\"Std\"] = np.std(feature_importance_df.iloc[:,1:n_folds+1], axis=1)\n",
    "    feature_importance_df[\"Cv\"] = feature_importance_df[\"Std\"] / feature_importance_df[\"Average\"]\n",
    "    \n",
    "    return pred_value, valid, feature_importance_df\n",
    "\n",
    "validation = np.zeros([train.shape[0]])\n",
    "pred_value = np.zeros([test.shape[0]])\n",
    "seeds = [0]\n",
    "for seed_ in seeds:\n",
    "    test_pred, oof_predict, feature_importance_df = modelling(seed_)\n",
    "    validation += oof_predict / len(seeds)\n",
    "    pred_value += test_pred / len(seeds)\n",
    "\n",
    "score = average_precision_score(train.target, validation)\n",
    "print(score)"
   ]
  },
  {
   "cell_type": "code",
   "execution_count": 31,
   "metadata": {
    "execution": {
     "iopub.execute_input": "2020-11-22T11:38:24.224489Z",
     "iopub.status.busy": "2020-11-22T11:38:24.223270Z",
     "iopub.status.idle": "2020-11-22T11:38:24.239471Z",
     "shell.execute_reply": "2020-11-22T11:38:24.238619Z"
    },
    "papermill": {
     "duration": 0.098735,
     "end_time": "2020-11-22T11:38:24.239624",
     "exception": false,
     "start_time": "2020-11-22T11:38:24.140889",
     "status": "completed"
    },
    "tags": []
   },
   "outputs": [
    {
     "data": {
      "text/html": [
       "<div>\n",
       "<style scoped>\n",
       "    .dataframe tbody tr th:only-of-type {\n",
       "        vertical-align: middle;\n",
       "    }\n",
       "\n",
       "    .dataframe tbody tr th {\n",
       "        vertical-align: top;\n",
       "    }\n",
       "\n",
       "    .dataframe thead th {\n",
       "        text-align: right;\n",
       "    }\n",
       "</style>\n",
       "<table border=\"1\" class=\"dataframe\">\n",
       "  <thead>\n",
       "    <tr style=\"text-align: right;\">\n",
       "      <th></th>\n",
       "      <th>Feature</th>\n",
       "      <th>Fold_1</th>\n",
       "      <th>Fold_2</th>\n",
       "      <th>Fold_3</th>\n",
       "      <th>Fold_4</th>\n",
       "      <th>Fold_5</th>\n",
       "      <th>Average</th>\n",
       "      <th>Std</th>\n",
       "      <th>Cv</th>\n",
       "    </tr>\n",
       "  </thead>\n",
       "  <tbody>\n",
       "    <tr>\n",
       "      <th>4</th>\n",
       "      <td>app_id</td>\n",
       "      <td>437</td>\n",
       "      <td>197</td>\n",
       "      <td>374</td>\n",
       "      <td>391</td>\n",
       "      <td>275</td>\n",
       "      <td>334.8</td>\n",
       "      <td>86.838701</td>\n",
       "      <td>0.259375</td>\n",
       "    </tr>\n",
       "    <tr>\n",
       "      <th>6</th>\n",
       "      <td>campaign_id</td>\n",
       "      <td>342</td>\n",
       "      <td>224</td>\n",
       "      <td>305</td>\n",
       "      <td>332</td>\n",
       "      <td>250</td>\n",
       "      <td>290.6</td>\n",
       "      <td>46.145856</td>\n",
       "      <td>0.158795</td>\n",
       "    </tr>\n",
       "    <tr>\n",
       "      <th>17</th>\n",
       "      <td>media_app_id</td>\n",
       "      <td>187</td>\n",
       "      <td>80</td>\n",
       "      <td>161</td>\n",
       "      <td>157</td>\n",
       "      <td>104</td>\n",
       "      <td>137.8</td>\n",
       "      <td>39.524170</td>\n",
       "      <td>0.286823</td>\n",
       "    </tr>\n",
       "    <tr>\n",
       "      <th>20</th>\n",
       "      <td>uid</td>\n",
       "      <td>142</td>\n",
       "      <td>98</td>\n",
       "      <td>137</td>\n",
       "      <td>128</td>\n",
       "      <td>111</td>\n",
       "      <td>123.2</td>\n",
       "      <td>16.436545</td>\n",
       "      <td>0.133414</td>\n",
       "    </tr>\n",
       "    <tr>\n",
       "      <th>3</th>\n",
       "      <td>advertiser_id</td>\n",
       "      <td>110</td>\n",
       "      <td>78</td>\n",
       "      <td>98</td>\n",
       "      <td>88</td>\n",
       "      <td>79</td>\n",
       "      <td>90.6</td>\n",
       "      <td>12.092973</td>\n",
       "      <td>0.133477</td>\n",
       "    </tr>\n",
       "    <tr>\n",
       "      <th>...</th>\n",
       "      <td>...</td>\n",
       "      <td>...</td>\n",
       "      <td>...</td>\n",
       "      <td>...</td>\n",
       "      <td>...</td>\n",
       "      <td>...</td>\n",
       "      <td>...</td>\n",
       "      <td>...</td>\n",
       "      <td>...</td>\n",
       "    </tr>\n",
       "    <tr>\n",
       "      <th>77</th>\n",
       "      <td>tfidf_campaign_id_28</td>\n",
       "      <td>1</td>\n",
       "      <td>0</td>\n",
       "      <td>2</td>\n",
       "      <td>2</td>\n",
       "      <td>2</td>\n",
       "      <td>1.4</td>\n",
       "      <td>0.800000</td>\n",
       "      <td>0.571429</td>\n",
       "    </tr>\n",
       "    <tr>\n",
       "      <th>72</th>\n",
       "      <td>tfidf_campaign_id_23</td>\n",
       "      <td>1</td>\n",
       "      <td>1</td>\n",
       "      <td>4</td>\n",
       "      <td>0</td>\n",
       "      <td>1</td>\n",
       "      <td>1.4</td>\n",
       "      <td>1.356466</td>\n",
       "      <td>0.968904</td>\n",
       "    </tr>\n",
       "    <tr>\n",
       "      <th>55</th>\n",
       "      <td>tfidf_campaign_id_6</td>\n",
       "      <td>0</td>\n",
       "      <td>0</td>\n",
       "      <td>3</td>\n",
       "      <td>3</td>\n",
       "      <td>1</td>\n",
       "      <td>1.4</td>\n",
       "      <td>1.356466</td>\n",
       "      <td>0.968904</td>\n",
       "    </tr>\n",
       "    <tr>\n",
       "      <th>8</th>\n",
       "      <td>frequency</td>\n",
       "      <td>0</td>\n",
       "      <td>0</td>\n",
       "      <td>3</td>\n",
       "      <td>3</td>\n",
       "      <td>0</td>\n",
       "      <td>1.2</td>\n",
       "      <td>1.469694</td>\n",
       "      <td>1.224745</td>\n",
       "    </tr>\n",
       "    <tr>\n",
       "      <th>46</th>\n",
       "      <td>tfidf_advertiser_id_17</td>\n",
       "      <td>2</td>\n",
       "      <td>0</td>\n",
       "      <td>1</td>\n",
       "      <td>3</td>\n",
       "      <td>0</td>\n",
       "      <td>1.2</td>\n",
       "      <td>1.166190</td>\n",
       "      <td>0.971825</td>\n",
       "    </tr>\n",
       "  </tbody>\n",
       "</table>\n",
       "<p>100 rows × 9 columns</p>\n",
       "</div>"
      ],
      "text/plain": [
       "                   Feature  Fold_1  Fold_2  Fold_3  Fold_4  Fold_5  Average  \\\n",
       "4                   app_id     437     197     374     391     275    334.8   \n",
       "6              campaign_id     342     224     305     332     250    290.6   \n",
       "17            media_app_id     187      80     161     157     104    137.8   \n",
       "20                     uid     142      98     137     128     111    123.2   \n",
       "3            advertiser_id     110      78      98      88      79     90.6   \n",
       "..                     ...     ...     ...     ...     ...     ...      ...   \n",
       "77    tfidf_campaign_id_28       1       0       2       2       2      1.4   \n",
       "72    tfidf_campaign_id_23       1       1       4       0       1      1.4   \n",
       "55     tfidf_campaign_id_6       0       0       3       3       1      1.4   \n",
       "8                frequency       0       0       3       3       0      1.2   \n",
       "46  tfidf_advertiser_id_17       2       0       1       3       0      1.2   \n",
       "\n",
       "          Std        Cv  \n",
       "4   86.838701  0.259375  \n",
       "6   46.145856  0.158795  \n",
       "17  39.524170  0.286823  \n",
       "20  16.436545  0.133414  \n",
       "3   12.092973  0.133477  \n",
       "..        ...       ...  \n",
       "77   0.800000  0.571429  \n",
       "72   1.356466  0.968904  \n",
       "55   1.356466  0.968904  \n",
       "8    1.469694  1.224745  \n",
       "46   1.166190  0.971825  \n",
       "\n",
       "[100 rows x 9 columns]"
      ]
     },
     "execution_count": 31,
     "metadata": {},
     "output_type": "execute_result"
    }
   ],
   "source": [
    "feature_importance_df.sort_values(\"Average\", ascending=False).head(100)"
   ]
  },
  {
   "cell_type": "code",
   "execution_count": 32,
   "metadata": {
    "execution": {
     "iopub.execute_input": "2020-11-22T11:38:24.388861Z",
     "iopub.status.busy": "2020-11-22T11:38:24.387949Z",
     "iopub.status.idle": "2020-11-22T11:38:24.390887Z",
     "shell.execute_reply": "2020-11-22T11:38:24.391745Z"
    },
    "papermill": {
     "duration": 0.087572,
     "end_time": "2020-11-22T11:38:24.391960",
     "exception": false,
     "start_time": "2020-11-22T11:38:24.304388",
     "status": "completed"
    },
    "tags": []
   },
   "outputs": [],
   "source": [
    "del train"
   ]
  },
  {
   "cell_type": "markdown",
   "metadata": {
    "papermill": {
     "duration": 0.063779,
     "end_time": "2020-11-22T11:38:24.520226",
     "exception": false,
     "start_time": "2020-11-22T11:38:24.456447",
     "status": "completed"
    },
    "tags": []
   },
   "source": [
    "# ts lgb"
   ]
  },
  {
   "cell_type": "code",
   "execution_count": 33,
   "metadata": {
    "execution": {
     "iopub.execute_input": "2020-11-22T11:38:24.675543Z",
     "iopub.status.busy": "2020-11-22T11:38:24.674340Z",
     "iopub.status.idle": "2020-11-22T11:40:50.162420Z",
     "shell.execute_reply": "2020-11-22T11:40:50.163207Z"
    },
    "papermill": {
     "duration": 145.579229,
     "end_time": "2020-11-22T11:40:50.163574",
     "exception": false,
     "start_time": "2020-11-22T11:38:24.584345",
     "status": "completed"
    },
    "tags": []
   },
   "outputs": [
    {
     "name": "stdout",
     "output_type": "stream",
     "text": [
      "seed: 0\n",
      "Training until validation scores don't improve for 10 rounds\n",
      "[10]\ttraining's pr_auc: 0.289076\tvalid_1's pr_auc: 0.225873\n",
      "[20]\ttraining's pr_auc: 0.293322\tvalid_1's pr_auc: 0.231327\n",
      "[30]\ttraining's pr_auc: 0.300198\tvalid_1's pr_auc: 0.235064\n",
      "[40]\ttraining's pr_auc: 0.309861\tvalid_1's pr_auc: 0.237893\n",
      "[50]\ttraining's pr_auc: 0.319679\tvalid_1's pr_auc: 0.240666\n",
      "[60]\ttraining's pr_auc: 0.329407\tvalid_1's pr_auc: 0.242594\n",
      "[70]\ttraining's pr_auc: 0.336348\tvalid_1's pr_auc: 0.243706\n",
      "[80]\ttraining's pr_auc: 0.342521\tvalid_1's pr_auc: 0.244472\n",
      "[90]\ttraining's pr_auc: 0.3474\tvalid_1's pr_auc: 0.244886\n",
      "[100]\ttraining's pr_auc: 0.352795\tvalid_1's pr_auc: 0.245632\n",
      "[110]\ttraining's pr_auc: 0.357567\tvalid_1's pr_auc: 0.245835\n",
      "[120]\ttraining's pr_auc: 0.363008\tvalid_1's pr_auc: 0.246505\n",
      "[130]\ttraining's pr_auc: 0.36816\tvalid_1's pr_auc: 0.246376\n",
      "Early stopping, best iteration is:\n",
      "[125]\ttraining's pr_auc: 0.366405\tvalid_1's pr_auc: 0.246738\n",
      "average precision score = 0.24673768501285995\n",
      "0.24673768501285995\n"
     ]
    }
   ],
   "source": [
    "def pr_auc_metric(y_predicted, y_true):\n",
    "    return 'pr_auc', average_precision_score(y_true.get_label(), y_predicted), True\n",
    "\n",
    "def modelling_ts(seed):\n",
    "    print(\"seed:\", seed)\n",
    "    lgbm_params = {'objective': 'binary', 'metric': 'None', 'boosting_type': 'gbdt',\n",
    "               'tree_learner': 'serial', 'learning_rate': 0.1, 'random_seed':seed,'max_depth': 5}\n",
    "    y_train = train_df.target\n",
    "    X_train = train_df.drop(['target'],axis=1)\n",
    "    y_valid = valid_df.target\n",
    "    X_valid = valid_df.drop(['target'],axis=1)\n",
    "    \n",
    "    valid_lgb = pd.DataFrame(np.zeros([X_train.shape[0]]))\n",
    "    real = np.array([])\n",
    "    features_list = [i for i in X_train.columns]\n",
    "    feature_importance_df = pd.DataFrame(features_list, columns=[\"Feature\"])\n",
    "    \n",
    "    #rus = RandomUnderSampler(sampling_strategy = {0:sum(y_train==0)//2, 1:sum(y_train==1)}, random_state=seed)\n",
    "    #X_resampled, y_resampled = rus.fit_resample(X_train, y_train)  \n",
    "    #X_train = pd.DataFrame(X_resampled, columns = X_train.columns)\n",
    "    #y_train = pd.DataFrame(y_resampled, columns = [\"target\"])\n",
    "        \n",
    "    lgb_train = lgb.Dataset(X_train, y_train)\n",
    "    lgb_eval = lgb.Dataset(X_valid, y_valid, reference=lgb_train)\n",
    "        \n",
    "    model = lgb.train(lgbm_params, lgb_train,valid_sets=[lgb_train, lgb_eval],\n",
    "       num_boost_round=10000,early_stopping_rounds=10,verbose_eval = 10, feval=pr_auc_metric, categorical_feature = sorted(object_feats))\n",
    "    \n",
    "    valid_predict = model.predict(X_valid, num_iteration = model.best_iteration)\n",
    "    feature_importance_df[\"Importance\"] = model.feature_importance()\n",
    "        \n",
    "    score = average_precision_score(y_valid, valid_predict)\n",
    "    print(\"average precision score = {}\".format(score))\n",
    "    pred_value = model.predict(test_df, num_iteration = model.best_iteration) \n",
    "    \n",
    "    return pred_value, valid_predict, feature_importance_df\n",
    "\n",
    "validation_ts = np.zeros([valid_df.shape[0]])\n",
    "pred_value_ts = np.zeros([test_df.shape[0]])\n",
    "seeds = [0]\n",
    "for seed_ in seeds:\n",
    "    test_pred, oof_predict, feature_importance_df = modelling_ts(seed_)\n",
    "    validation_ts += oof_predict / len(seeds)\n",
    "    pred_value_ts += test_pred / len(seeds)\n",
    "\n",
    "ts_score = average_precision_score(valid_df.target, validation_ts)\n",
    "print(ts_score)"
   ]
  },
  {
   "cell_type": "code",
   "execution_count": 34,
   "metadata": {
    "execution": {
     "iopub.execute_input": "2020-11-22T11:40:50.331173Z",
     "iopub.status.busy": "2020-11-22T11:40:50.329725Z",
     "iopub.status.idle": "2020-11-22T11:40:50.336771Z",
     "shell.execute_reply": "2020-11-22T11:40:50.335940Z"
    },
    "papermill": {
     "duration": 0.099336,
     "end_time": "2020-11-22T11:40:50.336925",
     "exception": false,
     "start_time": "2020-11-22T11:40:50.237589",
     "status": "completed"
    },
    "tags": []
   },
   "outputs": [
    {
     "data": {
      "text/html": [
       "<div>\n",
       "<style scoped>\n",
       "    .dataframe tbody tr th:only-of-type {\n",
       "        vertical-align: middle;\n",
       "    }\n",
       "\n",
       "    .dataframe tbody tr th {\n",
       "        vertical-align: top;\n",
       "    }\n",
       "\n",
       "    .dataframe thead th {\n",
       "        text-align: right;\n",
       "    }\n",
       "</style>\n",
       "<table border=\"1\" class=\"dataframe\">\n",
       "  <thead>\n",
       "    <tr style=\"text-align: right;\">\n",
       "      <th></th>\n",
       "      <th>Feature</th>\n",
       "      <th>Importance</th>\n",
       "    </tr>\n",
       "  </thead>\n",
       "  <tbody>\n",
       "    <tr>\n",
       "      <th>4</th>\n",
       "      <td>app_id</td>\n",
       "      <td>562</td>\n",
       "    </tr>\n",
       "    <tr>\n",
       "      <th>6</th>\n",
       "      <td>campaign_id</td>\n",
       "      <td>396</td>\n",
       "    </tr>\n",
       "    <tr>\n",
       "      <th>17</th>\n",
       "      <td>media_app_id</td>\n",
       "      <td>245</td>\n",
       "    </tr>\n",
       "    <tr>\n",
       "      <th>23</th>\n",
       "      <td>app_users</td>\n",
       "      <td>234</td>\n",
       "    </tr>\n",
       "    <tr>\n",
       "      <th>7</th>\n",
       "      <td>first_login_interval</td>\n",
       "      <td>222</td>\n",
       "    </tr>\n",
       "    <tr>\n",
       "      <th>16</th>\n",
       "      <td>max_login_interval</td>\n",
       "      <td>203</td>\n",
       "    </tr>\n",
       "    <tr>\n",
       "      <th>20</th>\n",
       "      <td>uid</td>\n",
       "      <td>184</td>\n",
       "    </tr>\n",
       "    <tr>\n",
       "      <th>10</th>\n",
       "      <td>game_feed_id</td>\n",
       "      <td>157</td>\n",
       "    </tr>\n",
       "    <tr>\n",
       "      <th>24</th>\n",
       "      <td>madia_app_num</td>\n",
       "      <td>142</td>\n",
       "    </tr>\n",
       "    <tr>\n",
       "      <th>14</th>\n",
       "      <td>last_login_interval</td>\n",
       "      <td>141</td>\n",
       "    </tr>\n",
       "    <tr>\n",
       "      <th>13</th>\n",
       "      <td>item_id</td>\n",
       "      <td>117</td>\n",
       "    </tr>\n",
       "    <tr>\n",
       "      <th>25</th>\n",
       "      <td>days_from_start</td>\n",
       "      <td>113</td>\n",
       "    </tr>\n",
       "    <tr>\n",
       "      <th>28</th>\n",
       "      <td>count</td>\n",
       "      <td>103</td>\n",
       "    </tr>\n",
       "    <tr>\n",
       "      <th>3</th>\n",
       "      <td>advertiser_id</td>\n",
       "      <td>100</td>\n",
       "    </tr>\n",
       "    <tr>\n",
       "      <th>15</th>\n",
       "      <td>login_frequency</td>\n",
       "      <td>86</td>\n",
       "    </tr>\n",
       "    <tr>\n",
       "      <th>22</th>\n",
       "      <td>mst_user_type_id</td>\n",
       "      <td>77</td>\n",
       "    </tr>\n",
       "    <tr>\n",
       "      <th>21</th>\n",
       "      <td>mst_advertiser_order_id</td>\n",
       "      <td>66</td>\n",
       "    </tr>\n",
       "    <tr>\n",
       "      <th>41</th>\n",
       "      <td>user_num</td>\n",
       "      <td>49</td>\n",
       "    </tr>\n",
       "    <tr>\n",
       "      <th>40</th>\n",
       "      <td>camp_num</td>\n",
       "      <td>44</td>\n",
       "    </tr>\n",
       "    <tr>\n",
       "      <th>31</th>\n",
       "      <td>uid_dayofweek=2</td>\n",
       "      <td>37</td>\n",
       "    </tr>\n",
       "    <tr>\n",
       "      <th>9</th>\n",
       "      <td>from_click</td>\n",
       "      <td>31</td>\n",
       "    </tr>\n",
       "    <tr>\n",
       "      <th>8</th>\n",
       "      <td>frequency</td>\n",
       "      <td>31</td>\n",
       "    </tr>\n",
       "    <tr>\n",
       "      <th>37</th>\n",
       "      <td>uid_hour_zone=1</td>\n",
       "      <td>28</td>\n",
       "    </tr>\n",
       "    <tr>\n",
       "      <th>27</th>\n",
       "      <td>popular_campaign</td>\n",
       "      <td>27</td>\n",
       "    </tr>\n",
       "    <tr>\n",
       "      <th>32</th>\n",
       "      <td>uid_dayofweek=3</td>\n",
       "      <td>25</td>\n",
       "    </tr>\n",
       "    <tr>\n",
       "      <th>38</th>\n",
       "      <td>uid_hour_zone=2</td>\n",
       "      <td>25</td>\n",
       "    </tr>\n",
       "    <tr>\n",
       "      <th>30</th>\n",
       "      <td>uid_dayofweek=1</td>\n",
       "      <td>24</td>\n",
       "    </tr>\n",
       "    <tr>\n",
       "      <th>35</th>\n",
       "      <td>uid_dayofweek=6</td>\n",
       "      <td>24</td>\n",
       "    </tr>\n",
       "    <tr>\n",
       "      <th>39</th>\n",
       "      <td>uid_hour_zone=3</td>\n",
       "      <td>24</td>\n",
       "    </tr>\n",
       "    <tr>\n",
       "      <th>36</th>\n",
       "      <td>uid_hour_zone=0</td>\n",
       "      <td>23</td>\n",
       "    </tr>\n",
       "    <tr>\n",
       "      <th>33</th>\n",
       "      <td>uid_dayofweek=4</td>\n",
       "      <td>22</td>\n",
       "    </tr>\n",
       "    <tr>\n",
       "      <th>2</th>\n",
       "      <td>adspot_video_format_id</td>\n",
       "      <td>20</td>\n",
       "    </tr>\n",
       "    <tr>\n",
       "      <th>29</th>\n",
       "      <td>uid_dayofweek=0</td>\n",
       "      <td>19</td>\n",
       "    </tr>\n",
       "    <tr>\n",
       "      <th>34</th>\n",
       "      <td>uid_dayofweek=5</td>\n",
       "      <td>15</td>\n",
       "    </tr>\n",
       "    <tr>\n",
       "      <th>1</th>\n",
       "      <td>adspot_id</td>\n",
       "      <td>10</td>\n",
       "    </tr>\n",
       "    <tr>\n",
       "      <th>0</th>\n",
       "      <td>adnw_id</td>\n",
       "      <td>8</td>\n",
       "    </tr>\n",
       "    <tr>\n",
       "      <th>26</th>\n",
       "      <td>popular_game</td>\n",
       "      <td>5</td>\n",
       "    </tr>\n",
       "    <tr>\n",
       "      <th>12</th>\n",
       "      <td>is_interstitial</td>\n",
       "      <td>5</td>\n",
       "    </tr>\n",
       "    <tr>\n",
       "      <th>5</th>\n",
       "      <td>auction_type_id</td>\n",
       "      <td>4</td>\n",
       "    </tr>\n",
       "    <tr>\n",
       "      <th>18</th>\n",
       "      <td>os</td>\n",
       "      <td>4</td>\n",
       "    </tr>\n",
       "    <tr>\n",
       "      <th>19</th>\n",
       "      <td>pos</td>\n",
       "      <td>2</td>\n",
       "    </tr>\n",
       "    <tr>\n",
       "      <th>11</th>\n",
       "      <td>game_template_id</td>\n",
       "      <td>0</td>\n",
       "    </tr>\n",
       "  </tbody>\n",
       "</table>\n",
       "</div>"
      ],
      "text/plain": [
       "                    Feature  Importance\n",
       "4                    app_id         562\n",
       "6               campaign_id         396\n",
       "17             media_app_id         245\n",
       "23                app_users         234\n",
       "7      first_login_interval         222\n",
       "16       max_login_interval         203\n",
       "20                      uid         184\n",
       "10             game_feed_id         157\n",
       "24            madia_app_num         142\n",
       "14      last_login_interval         141\n",
       "13                  item_id         117\n",
       "25          days_from_start         113\n",
       "28                    count         103\n",
       "3             advertiser_id         100\n",
       "15          login_frequency          86\n",
       "22         mst_user_type_id          77\n",
       "21  mst_advertiser_order_id          66\n",
       "41                 user_num          49\n",
       "40                 camp_num          44\n",
       "31          uid_dayofweek=2          37\n",
       "9                from_click          31\n",
       "8                 frequency          31\n",
       "37          uid_hour_zone=1          28\n",
       "27         popular_campaign          27\n",
       "32          uid_dayofweek=3          25\n",
       "38          uid_hour_zone=2          25\n",
       "30          uid_dayofweek=1          24\n",
       "35          uid_dayofweek=6          24\n",
       "39          uid_hour_zone=3          24\n",
       "36          uid_hour_zone=0          23\n",
       "33          uid_dayofweek=4          22\n",
       "2    adspot_video_format_id          20\n",
       "29          uid_dayofweek=0          19\n",
       "34          uid_dayofweek=5          15\n",
       "1                 adspot_id          10\n",
       "0                   adnw_id           8\n",
       "26             popular_game           5\n",
       "12          is_interstitial           5\n",
       "5           auction_type_id           4\n",
       "18                       os           4\n",
       "19                      pos           2\n",
       "11         game_template_id           0"
      ]
     },
     "execution_count": 34,
     "metadata": {},
     "output_type": "execute_result"
    }
   ],
   "source": [
    "feature_importance_df.sort_values(\"Importance\", ascending=False)"
   ]
  },
  {
   "cell_type": "markdown",
   "metadata": {
    "papermill": {
     "duration": 0.072121,
     "end_time": "2020-11-22T11:40:50.484145",
     "exception": false,
     "start_time": "2020-11-22T11:40:50.412024",
     "status": "completed"
    },
    "tags": []
   },
   "source": [
    "# submission"
   ]
  },
  {
   "cell_type": "code",
   "execution_count": 35,
   "metadata": {
    "execution": {
     "iopub.execute_input": "2020-11-22T11:40:50.639569Z",
     "iopub.status.busy": "2020-11-22T11:40:50.638631Z",
     "iopub.status.idle": "2020-11-22T11:40:52.829366Z",
     "shell.execute_reply": "2020-11-22T11:40:52.827971Z"
    },
    "papermill": {
     "duration": 2.27356,
     "end_time": "2020-11-22T11:40:52.829612",
     "exception": false,
     "start_time": "2020-11-22T11:40:50.556052",
     "status": "completed"
    },
    "tags": []
   },
   "outputs": [],
   "source": [
    "lgb_sub = pd.read_csv(DIR + \"atmaCup7__sample_submission.csv\")\n",
    "lgb_sub[\"target\"] = (pred_value*2 + pred_value_ts) / 3\n",
    "lgb_sub.to_csv(\"atmacup7_\"+str(score)[:-10]+\".csv\", index = False)"
   ]
  },
  {
   "cell_type": "code",
   "execution_count": null,
   "metadata": {
    "papermill": {
     "duration": 0.100211,
     "end_time": "2020-11-22T11:40:53.010038",
     "exception": false,
     "start_time": "2020-11-22T11:40:52.909827",
     "status": "completed"
    },
    "tags": []
   },
   "outputs": [],
   "source": []
  }
 ],
 "metadata": {
  "kernelspec": {
   "display_name": "Python 3",
   "language": "python",
   "name": "python3"
  },
  "language_info": {
   "codemirror_mode": {
    "name": "ipython",
    "version": 3
   },
   "file_extension": ".py",
   "mimetype": "text/x-python",
   "name": "python",
   "nbconvert_exporter": "python",
   "pygments_lexer": "ipython3",
   "version": "3.7.6"
  },
  "papermill": {
   "duration": 2120.006988,
   "end_time": "2020-11-22T11:40:53.305607",
   "environment_variables": {},
   "exception": null,
   "input_path": "__notebook__.ipynb",
   "output_path": "__notebook__.ipynb",
   "parameters": {},
   "start_time": "2020-11-22T11:05:33.298619",
   "version": "2.1.0"
  }
 },
 "nbformat": 4,
 "nbformat_minor": 4
}
