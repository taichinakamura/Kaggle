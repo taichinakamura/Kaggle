{
 "cells": [
  {
   "cell_type": "markdown",
   "metadata": {
    "papermill": {
     "duration": 0.028198,
     "end_time": "2020-11-17T08:46:26.653206",
     "exception": false,
     "start_time": "2020-11-17T08:46:26.625008",
     "status": "completed"
    },
    "tags": []
   },
   "source": [
    "- add isholiday\n",
    "- remove os version\n",
    "- remove less influential feats (user_typeid, category_id)\n",
    "- try categorical fe"
   ]
  },
  {
   "cell_type": "code",
   "execution_count": 1,
   "metadata": {
    "execution": {
     "iopub.execute_input": "2020-11-17T08:46:26.714031Z",
     "iopub.status.busy": "2020-11-17T08:46:26.713178Z",
     "iopub.status.idle": "2020-11-17T08:46:37.286119Z",
     "shell.execute_reply": "2020-11-17T08:46:37.285451Z"
    },
    "papermill": {
     "duration": 10.605636,
     "end_time": "2020-11-17T08:46:37.286261",
     "exception": false,
     "start_time": "2020-11-17T08:46:26.680625",
     "status": "completed"
    },
    "tags": []
   },
   "outputs": [
    {
     "name": "stdout",
     "output_type": "stream",
     "text": [
      "Collecting jpholiday\r\n",
      "  Downloading jpholiday-0.1.4-py3-none-any.whl (8.5 kB)\r\n",
      "Installing collected packages: jpholiday\r\n",
      "Successfully installed jpholiday-0.1.4\r\n"
     ]
    }
   ],
   "source": [
    "!pip install jpholiday "
   ]
  },
  {
   "cell_type": "code",
   "execution_count": 2,
   "metadata": {
    "_cell_guid": "b1076dfc-b9ad-4769-8c92-a6c4dae69d19",
    "_uuid": "8f2839f25d086af736a60e9eeb907d3b93b6e0e5",
    "execution": {
     "iopub.execute_input": "2020-11-17T08:46:37.352312Z",
     "iopub.status.busy": "2020-11-17T08:46:37.351145Z",
     "iopub.status.idle": "2020-11-17T08:46:38.485670Z",
     "shell.execute_reply": "2020-11-17T08:46:38.484900Z"
    },
    "papermill": {
     "duration": 1.170602,
     "end_time": "2020-11-17T08:46:38.485793",
     "exception": false,
     "start_time": "2020-11-17T08:46:37.315191",
     "status": "completed"
    },
    "tags": []
   },
   "outputs": [
    {
     "name": "stderr",
     "output_type": "stream",
     "text": [
      "/opt/conda/lib/python3.7/site-packages/ipykernel_launcher.py:7: TqdmDeprecationWarning: This function will be removed in tqdm==5.0.0\n",
      "Please use `tqdm.notebook.*` instead of `tqdm._tqdm_notebook.*`\n",
      "  import sys\n",
      "/opt/conda/lib/python3.7/site-packages/tqdm/std.py:666: FutureWarning: The Panel class is removed from pandas. Accessing it from the top-level namespace will also be removed in the next version\n",
      "  from pandas import Panel\n"
     ]
    }
   ],
   "source": [
    "import os\n",
    "import jpholiday\n",
    "import numpy as np\n",
    "import pandas as pd\n",
    "import lightgbm as lgb\n",
    "from sklearn import preprocessing\n",
    "from tqdm._tqdm_notebook import tqdm_notebook\n",
    "from sklearn.metrics import average_precision_score\n",
    "from sklearn.model_selection import StratifiedKFold\n",
    "tqdm_notebook.pandas(desc=\"progress: \")"
   ]
  },
  {
   "cell_type": "code",
   "execution_count": 3,
   "metadata": {
    "execution": {
     "iopub.execute_input": "2020-11-17T08:46:38.555588Z",
     "iopub.status.busy": "2020-11-17T08:46:38.554779Z",
     "iopub.status.idle": "2020-11-17T08:47:03.981632Z",
     "shell.execute_reply": "2020-11-17T08:47:03.980798Z"
    },
    "papermill": {
     "duration": 25.465105,
     "end_time": "2020-11-17T08:47:03.981761",
     "exception": false,
     "start_time": "2020-11-17T08:46:38.516656",
     "status": "completed"
    },
    "tags": []
   },
   "outputs": [],
   "source": [
    "DIR = \"../input/20201115at/\"\n",
    "train = pd.read_csv(DIR+\"train.csv\")\n",
    "test = pd.read_csv(DIR+\"test.csv\")\n",
    "campaign = pd.read_csv(DIR+\"campaign.csv\")\n",
    "\n",
    "#advertiser_video = pd.read_csv(DIR+\"advertiser_video.csv\")\n",
    "#map_game_feed_native_video_assets = pd.read_csv(DIR+'map_game_feed_native_video_assets.csv')\n",
    "\n",
    "#advertiser_converted_video = pd.read_csv(DIR+\"advertiser_converted_video.csv\")"
   ]
  },
  {
   "cell_type": "markdown",
   "metadata": {
    "papermill": {
     "duration": 0.029932,
     "end_time": "2020-11-17T08:47:04.041550",
     "exception": false,
     "start_time": "2020-11-17T08:47:04.011618",
     "status": "completed"
    },
    "tags": []
   },
   "source": [
    "# preprocess"
   ]
  },
  {
   "cell_type": "code",
   "execution_count": 4,
   "metadata": {
    "execution": {
     "iopub.execute_input": "2020-11-17T08:47:04.357599Z",
     "iopub.status.busy": "2020-11-17T08:47:04.108639Z",
     "iopub.status.idle": "2020-11-17T08:47:15.377501Z",
     "shell.execute_reply": "2020-11-17T08:47:15.376870Z"
    },
    "papermill": {
     "duration": 11.307198,
     "end_time": "2020-11-17T08:47:15.377655",
     "exception": false,
     "start_time": "2020-11-17T08:47:04.070457",
     "status": "completed"
    },
    "tags": []
   },
   "outputs": [],
   "source": [
    "# with campaign\n",
    "train = train.merge(campaign, left_on=\"campaign_id\", right_on = \"id\", how=\"left\").drop([\"mst_advertiser_id\", \"id\"], axis=1)\n",
    "test = test.merge(campaign, left_on=\"campaign_id\", right_on = \"id\", how=\"left\").drop([\"mst_advertiser_id\", \"id\"], axis=1)\n",
    "\n",
    "# with map_gae_feed_native_video_assets\n",
    "#train = train.merge(map_game_feed_native_video_assets, left_on=[\"game_feed_id\"], right_on = [\"mst_game_feed_id\"], how=\"left\").drop([\"mst_game_feed_id\"], axis=1)\n",
    "#test = test.merge(map_game_feed_native_video_assets, left_on=[\"game_feed_id\"], right_on = [\"mst_game_feed_id\"], how=\"left\").drop([\"mst_game_feed_id\"], axis=1)\n",
    "\n",
    "# with advertiser_video horizontal\n",
    "#horizontal = advertiser_video.copy()\n",
    "#horizontal.columns = [f\"horizontal_{c}\" if c not in [\"id\", \"mst_advertiser_id\"] else c for c in horizontal.columns]\n",
    "#train = pd.merge(train, horizontal[[\"id\", \"mst_advertiser_id\", \"horizontal_duration\"]], left_on=[\"horizontal_mst_advertiser_video_id\", \"advertiser_id\"], \n",
    "#               right_on=[\"id\", \"mst_advertiser_id\"], how=\"left\").drop(columns=[\"id\", \"mst_advertiser_id\"])\n",
    "#test = pd.merge(test, horizontal[[\"id\", \"mst_advertiser_id\", \"horizontal_duration\"]], left_on=[\"horizontal_mst_advertiser_video_id\", \"advertiser_id\"], \n",
    "#               right_on=[\"id\", \"mst_advertiser_id\"], how=\"left\").drop(columns=[\"id\", \"mst_advertiser_id\"])"
   ]
  },
  {
   "cell_type": "code",
   "execution_count": 5,
   "metadata": {
    "execution": {
     "iopub.execute_input": "2020-11-17T08:47:16.188730Z",
     "iopub.status.busy": "2020-11-17T08:47:16.187890Z",
     "iopub.status.idle": "2020-11-17T08:47:16.994182Z",
     "shell.execute_reply": "2020-11-17T08:47:16.993547Z"
    },
    "papermill": {
     "duration": 1.587246,
     "end_time": "2020-11-17T08:47:16.994316",
     "exception": false,
     "start_time": "2020-11-17T08:47:15.407070",
     "status": "completed"
    },
    "tags": []
   },
   "outputs": [],
   "source": [
    "train[\"imp_at\"] = pd.to_datetime(train[\"imp_at\"])\n",
    "test[\"imp_at\"] = pd.to_datetime(test[\"imp_at\"])"
   ]
  },
  {
   "cell_type": "code",
   "execution_count": 6,
   "metadata": {
    "execution": {
     "iopub.execute_input": "2020-11-17T08:47:17.492423Z",
     "iopub.status.busy": "2020-11-17T08:47:17.373211Z",
     "iopub.status.idle": "2020-11-17T08:47:17.704891Z",
     "shell.execute_reply": "2020-11-17T08:47:17.704097Z"
    },
    "papermill": {
     "duration": 0.680954,
     "end_time": "2020-11-17T08:47:17.705041",
     "exception": false,
     "start_time": "2020-11-17T08:47:17.024087",
     "status": "completed"
    },
    "tags": []
   },
   "outputs": [],
   "source": [
    "# drop because distribution is different\n",
    "train.drop(['os_version'], axis=1, inplace=True)\n",
    "test.drop(['os_version'], axis=1, inplace=True)"
   ]
  },
  {
   "cell_type": "code",
   "execution_count": 7,
   "metadata": {
    "execution": {
     "iopub.execute_input": "2020-11-17T08:47:18.249082Z",
     "iopub.status.busy": "2020-11-17T08:47:18.115378Z",
     "iopub.status.idle": "2020-11-17T08:47:18.312388Z",
     "shell.execute_reply": "2020-11-17T08:47:18.313032Z"
    },
    "papermill": {
     "duration": 0.578045,
     "end_time": "2020-11-17T08:47:18.313206",
     "exception": false,
     "start_time": "2020-11-17T08:47:17.735161",
     "status": "completed"
    },
    "tags": []
   },
   "outputs": [],
   "source": [
    "# noise features?\n",
    "train.drop(['user_type_id', \"category_id\",  \"video_template_id\", \"country_code\",  \"pos\", \"game_feed_asset_type_id\"], axis=1, inplace=True)\n",
    "test.drop(['user_type_id', \"category_id\",  \"video_template_id\", \"country_code\", \"pos\", \"game_feed_asset_type_id\"], axis=1, inplace=True)"
   ]
  },
  {
   "cell_type": "code",
   "execution_count": 8,
   "metadata": {
    "execution": {
     "iopub.execute_input": "2020-11-17T08:47:18.465092Z",
     "iopub.status.busy": "2020-11-17T08:47:18.464278Z",
     "iopub.status.idle": "2020-11-17T08:47:18.885973Z",
     "shell.execute_reply": "2020-11-17T08:47:18.885325Z"
    },
    "papermill": {
     "duration": 0.543188,
     "end_time": "2020-11-17T08:47:18.886109",
     "exception": false,
     "start_time": "2020-11-17T08:47:18.342921",
     "status": "completed"
    },
    "tags": []
   },
   "outputs": [],
   "source": [
    "# drop because the exist only in train\n",
    "train.drop(['click_or_view_at', 'cv_at','last_cv_interval', 'last_paid_interval'], axis=1, inplace=True)"
   ]
  },
  {
   "cell_type": "code",
   "execution_count": 9,
   "metadata": {
    "execution": {
     "iopub.execute_input": "2020-11-17T08:47:18.951542Z",
     "iopub.status.busy": "2020-11-17T08:47:18.950738Z",
     "iopub.status.idle": "2020-11-17T08:47:18.953877Z",
     "shell.execute_reply": "2020-11-17T08:47:18.953192Z"
    },
    "papermill": {
     "duration": 0.037627,
     "end_time": "2020-11-17T08:47:18.954017",
     "exception": false,
     "start_time": "2020-11-17T08:47:18.916390",
     "status": "completed"
    },
    "tags": []
   },
   "outputs": [],
   "source": [
    "#object_feats = [i for i in train.columns if \"object\" == str(train[i].dtype)]\n",
    "#train[object_feats] = train[object_feats].fillna(\"-999\")\n",
    "#test[object_feats] = test[object_feats].fillna(\"-999\")\n",
    "\n",
    "#for i in object_feats:\n",
    "#    print(i)\n",
    "#    lbl = preprocessing.LabelEncoder()\n",
    "#    lbl.fit(list(pd.concat([train[i], test[i]])))\n",
    "#    train[i] = lbl.transform(list(train[i]))\n",
    "#    test[i] = lbl.transform(list(test[i]))"
   ]
  },
  {
   "cell_type": "code",
   "execution_count": 10,
   "metadata": {
    "execution": {
     "iopub.execute_input": "2020-11-17T08:47:19.298911Z",
     "iopub.status.busy": "2020-11-17T08:47:19.298102Z",
     "iopub.status.idle": "2020-11-17T08:47:59.434201Z",
     "shell.execute_reply": "2020-11-17T08:47:59.433516Z"
    },
    "papermill": {
     "duration": 40.449972,
     "end_time": "2020-11-17T08:47:59.434342",
     "exception": false,
     "start_time": "2020-11-17T08:47:18.984370",
     "status": "completed"
    },
    "tags": []
   },
   "outputs": [],
   "source": [
    "object_feats = [i for i in train.columns if \"object\" == str(train[i].dtype)]\n",
    "\n",
    "def get_non_overlapping(train: pd.DataFrame, test: pd.DataFrame, column: str):\n",
    "    only_in_train = set(train[column].unique()) - set(test[column].unique())\n",
    "    only_in_test = set(test[column].unique()) - set(train[column].unique())\n",
    "    non_overlapping = only_in_train.union(only_in_test)\n",
    "    return non_overlapping\n",
    "\n",
    "\n",
    "def category2num(train: pd.DataFrame, test: pd.DataFrame, columns: list):\n",
    "    train_ = train.copy()\n",
    "    test_ = test.copy()\n",
    "    for column in columns:\n",
    "        non_overlapping = get_non_overlapping(train, test, column)\n",
    "        try:\n",
    "            if train[column].dtype == np.dtype(\"O\"):\n",
    "                # dtypeがobjectなら欠損は'missing' クラスにする\n",
    "                train_[column] = train[column].fillna(\"missing\")\n",
    "                test_[column] = test[column].fillna(\"missing\")\n",
    "                train_[column] = train_[column].map(lambda x: x if x not in non_overlapping else \"other\")\n",
    "                test_[column] = test_[column].map(lambda x: x if x not in non_overlapping else \"other\")\n",
    "            else:\n",
    "                # dtypeがint/floatなら欠損は'-1'とする\n",
    "                train_[column] = train[column].fillna(-1)\n",
    "                test_[column] = test[column].fillna(-1)\n",
    "                train_[column] = train_[column].map(lambda x: x if x not in non_overlapping else -2)\n",
    "                test_[column] = test_[column].map(lambda x: x if x not in non_overlapping else -2)\n",
    "\n",
    "            le = preprocessing.LabelEncoder()\n",
    "            concatenated = pd.concat([train_, test_], axis=0).reset_index(drop=True)\n",
    "            le.fit(concatenated[column])\n",
    "            train_[column] = le.transform(train_[column])\n",
    "            test_[column] = le.transform(test_[column])\n",
    "        except Exception:\n",
    "            import pdb\n",
    "            pdb.set_trace()\n",
    "    return train_, test_\n",
    "\n",
    "train, test = category2num(train, test, object_feats)"
   ]
  },
  {
   "cell_type": "markdown",
   "metadata": {
    "papermill": {
     "duration": 0.029758,
     "end_time": "2020-11-17T08:47:59.494500",
     "exception": false,
     "start_time": "2020-11-17T08:47:59.464742",
     "status": "completed"
    },
    "tags": []
   },
   "source": [
    "# feature engineering"
   ]
  },
  {
   "cell_type": "code",
   "execution_count": 11,
   "metadata": {
    "execution": {
     "iopub.execute_input": "2020-11-17T08:47:59.564056Z",
     "iopub.status.busy": "2020-11-17T08:47:59.562519Z",
     "iopub.status.idle": "2020-11-17T08:48:02.522674Z",
     "shell.execute_reply": "2020-11-17T08:48:02.522058Z"
    },
    "papermill": {
     "duration": 2.998243,
     "end_time": "2020-11-17T08:48:02.522802",
     "exception": false,
     "start_time": "2020-11-17T08:47:59.524559",
     "status": "completed"
    },
    "tags": []
   },
   "outputs": [],
   "source": [
    "train[\"type\"] = \"train\"\n",
    "test[\"type\"] = \"test\"\n",
    "all_df = pd.concat([train, test])\n",
    "all_df = all_df.sort_values([\"uid\", \"imp_at\"]).reset_index(drop=True)"
   ]
  },
  {
   "cell_type": "code",
   "execution_count": 12,
   "metadata": {
    "execution": {
     "iopub.execute_input": "2020-11-17T08:48:02.590151Z",
     "iopub.status.busy": "2020-11-17T08:48:02.589356Z",
     "iopub.status.idle": "2020-11-17T08:48:02.689449Z",
     "shell.execute_reply": "2020-11-17T08:48:02.688648Z"
    },
    "papermill": {
     "duration": 0.135793,
     "end_time": "2020-11-17T08:48:02.689572",
     "exception": false,
     "start_time": "2020-11-17T08:48:02.553779",
     "status": "completed"
    },
    "tags": []
   },
   "outputs": [],
   "source": [
    "all_df[\"count\"] = 1\n",
    "all_df[\"count\"] = all_df.groupby(\"uid\")[\"count\"].cumsum()"
   ]
  },
  {
   "cell_type": "code",
   "execution_count": 13,
   "metadata": {
    "execution": {
     "iopub.execute_input": "2020-11-17T08:48:02.758068Z",
     "iopub.status.busy": "2020-11-17T08:48:02.757216Z",
     "iopub.status.idle": "2020-11-17T08:54:00.933032Z",
     "shell.execute_reply": "2020-11-17T08:54:00.934118Z"
    },
    "papermill": {
     "duration": 358.214273,
     "end_time": "2020-11-17T08:54:00.934341",
     "exception": false,
     "start_time": "2020-11-17T08:48:02.720068",
     "status": "completed"
    },
    "tags": []
   },
   "outputs": [
    {
     "name": "stdout",
     "output_type": "stream",
     "text": [
      "CPU times: user 5min 57s, sys: 165 ms, total: 5min 58s\n",
      "Wall time: 5min 58s\n"
     ]
    }
   ],
   "source": [
    "%%time\n",
    "dates = all_df.imp_at.dt.date\n",
    "dts_map = {}\n",
    "for dt in dates:\n",
    "    dts_map[dt] = jpholiday.is_holiday(dt)\n",
    "\n",
    "# 祝日\n",
    "all_df[\"holiday\"] = all_df.imp_at.dt.date.map(dts_map)\n",
    "all_df[\"holiday\"] = all_df[\"holiday\"].astype(int)\n",
    "\n",
    "# 祝休日\n",
    "#all_df[\"is_off_day\"] = all_df[\"dayofweek\"].map(lambda x: 1 if x in [5, 6] else 0) + all_df[\"holiday\"]"
   ]
  },
  {
   "cell_type": "code",
   "execution_count": 14,
   "metadata": {
    "execution": {
     "iopub.execute_input": "2020-11-17T08:54:01.004695Z",
     "iopub.status.busy": "2020-11-17T08:54:01.003440Z",
     "iopub.status.idle": "2020-11-17T08:54:01.007408Z",
     "shell.execute_reply": "2020-11-17T08:54:01.006568Z"
    },
    "papermill": {
     "duration": 0.041021,
     "end_time": "2020-11-17T08:54:01.007553",
     "exception": false,
     "start_time": "2020-11-17T08:54:00.966532",
     "status": "completed"
    },
    "tags": []
   },
   "outputs": [],
   "source": [
    "#all_df[\"prev_app\"] = all_df.groupby(\"uid\")[\"app_id\"].progress_apply(lambda x: x.shift(1))\n",
    "\n",
    "#all_df[\"uni_item\"] = all_df.groupby(\"uid\")[\"item_id\"].progress_apply(lambda x: 1- x.duplicated())\n",
    "#all_df[\"uni_item\"] = all_df.groupby(\"uid\")[\"uni_item\"].progress_apply(lambda x: x.cumsum())\n",
    "\n",
    "#all_df[\"login_freq_cumsum\"] = all_df.groupby(\"uid\")[\"login_frequency\"].cumsum()\n",
    "\n",
    "#AGGS = [\n",
    "#    ('login_frequency', 2, ['uid'], ['mean']),\n",
    "#]\n",
    "\n",
    "#for on, lag, by, hows in AGGS:\n",
    "#    agg = all_df.groupby(by)[on].apply(lambda x: (\n",
    "#        x.shift(1).rolling(window=lag, min_periods=1).agg(hows)\n",
    "#    ))\n",
    "#    agg = agg.rename(columns={\n",
    "#        how: f'{how}_of_last_{lag}_{on}_by_' + '_and_'.join(by)\n",
    "#        for how in hows\n",
    "#    })\n",
    "\n",
    "#    all_df = all_df.join(agg)"
   ]
  },
  {
   "cell_type": "code",
   "execution_count": 15,
   "metadata": {
    "execution": {
     "iopub.execute_input": "2020-11-17T08:54:01.421019Z",
     "iopub.status.busy": "2020-11-17T08:54:01.420200Z",
     "iopub.status.idle": "2020-11-17T08:54:02.904797Z",
     "shell.execute_reply": "2020-11-17T08:54:02.904107Z"
    },
    "papermill": {
     "duration": 1.865258,
     "end_time": "2020-11-17T08:54:02.904934",
     "exception": false,
     "start_time": "2020-11-17T08:54:01.039676",
     "status": "completed"
    },
    "tags": []
   },
   "outputs": [],
   "source": [
    "train = all_df[all_df.type==\"train\"].drop(\"type\", axis=1).reset_index(drop=True)\n",
    "test = all_df[all_df.type==\"test\"].drop(\"type\", axis=1).reset_index(drop=True)"
   ]
  },
  {
   "cell_type": "code",
   "execution_count": 16,
   "metadata": {
    "execution": {
     "iopub.execute_input": "2020-11-17T08:54:02.974923Z",
     "iopub.status.busy": "2020-11-17T08:54:02.974186Z",
     "iopub.status.idle": "2020-11-17T08:54:03.804031Z",
     "shell.execute_reply": "2020-11-17T08:54:03.803246Z"
    },
    "papermill": {
     "duration": 0.866998,
     "end_time": "2020-11-17T08:54:03.804152",
     "exception": false,
     "start_time": "2020-11-17T08:54:02.937154",
     "status": "completed"
    },
    "tags": []
   },
   "outputs": [],
   "source": [
    "train = train.sort_values(\"imp_at\").reset_index(drop=True)\n",
    "test = test.sort_values(\"imp_at\").reset_index(drop=True)"
   ]
  },
  {
   "cell_type": "markdown",
   "metadata": {
    "papermill": {
     "duration": 0.031163,
     "end_time": "2020-11-17T08:54:03.866790",
     "exception": false,
     "start_time": "2020-11-17T08:54:03.835627",
     "status": "completed"
    },
    "tags": []
   },
   "source": [
    "# separation for validation"
   ]
  },
  {
   "cell_type": "code",
   "execution_count": 17,
   "metadata": {
    "execution": {
     "iopub.execute_input": "2020-11-17T08:54:04.100964Z",
     "iopub.status.busy": "2020-11-17T08:54:04.090421Z",
     "iopub.status.idle": "2020-11-17T08:54:04.104602Z",
     "shell.execute_reply": "2020-11-17T08:54:04.104004Z"
    },
    "papermill": {
     "duration": 0.206328,
     "end_time": "2020-11-17T08:54:04.104740",
     "exception": false,
     "start_time": "2020-11-17T08:54:03.898412",
     "status": "completed"
    },
    "tags": []
   },
   "outputs": [],
   "source": [
    "train.drop(['request_id'], axis=1, inplace=True)\n",
    "test.drop(['request_id'], axis=1, inplace=True)"
   ]
  },
  {
   "cell_type": "code",
   "execution_count": 18,
   "metadata": {
    "execution": {
     "iopub.execute_input": "2020-11-17T08:54:04.178367Z",
     "iopub.status.busy": "2020-11-17T08:54:04.177035Z",
     "iopub.status.idle": "2020-11-17T08:54:04.524511Z",
     "shell.execute_reply": "2020-11-17T08:54:04.523810Z"
    },
    "papermill": {
     "duration": 0.385838,
     "end_time": "2020-11-17T08:54:04.524640",
     "exception": false,
     "start_time": "2020-11-17T08:54:04.138802",
     "status": "completed"
    },
    "tags": []
   },
   "outputs": [],
   "source": [
    "mask = train.imp_at > \"2020-05-21\"\n",
    "valid_df = train.loc[mask].copy()\n",
    "train_df = train.loc[~mask].copy()"
   ]
  },
  {
   "cell_type": "code",
   "execution_count": 19,
   "metadata": {
    "execution": {
     "iopub.execute_input": "2020-11-17T08:54:04.813457Z",
     "iopub.status.busy": "2020-11-17T08:54:04.787494Z",
     "iopub.status.idle": "2020-11-17T08:54:04.886117Z",
     "shell.execute_reply": "2020-11-17T08:54:04.885315Z"
    },
    "papermill": {
     "duration": 0.329364,
     "end_time": "2020-11-17T08:54:04.886240",
     "exception": false,
     "start_time": "2020-11-17T08:54:04.556876",
     "status": "completed"
    },
    "tags": []
   },
   "outputs": [],
   "source": [
    "train = train.drop([\"imp_at\"], axis=1)\n",
    "test = test.drop([\"imp_at\"], axis=1)\n",
    "\n",
    "valid_df = valid_df.drop([\"imp_at\"], axis=1)\n",
    "train_df = train_df.drop([\"imp_at\"], axis=1)"
   ]
  },
  {
   "cell_type": "code",
   "execution_count": 20,
   "metadata": {
    "execution": {
     "iopub.execute_input": "2020-11-17T08:54:04.980890Z",
     "iopub.status.busy": "2020-11-17T08:54:04.980153Z",
     "iopub.status.idle": "2020-11-17T08:54:04.983884Z",
     "shell.execute_reply": "2020-11-17T08:54:04.983266Z"
    },
    "papermill": {
     "duration": 0.065531,
     "end_time": "2020-11-17T08:54:04.984025",
     "exception": false,
     "start_time": "2020-11-17T08:54:04.918494",
     "status": "completed"
    },
    "tags": []
   },
   "outputs": [],
   "source": [
    "test = test.drop(\"target\", axis=1)"
   ]
  },
  {
   "cell_type": "code",
   "execution_count": 21,
   "metadata": {
    "execution": {
     "iopub.execute_input": "2020-11-17T08:54:05.057131Z",
     "iopub.status.busy": "2020-11-17T08:54:05.055997Z",
     "iopub.status.idle": "2020-11-17T08:54:05.060099Z",
     "shell.execute_reply": "2020-11-17T08:54:05.060674Z"
    },
    "papermill": {
     "duration": 0.044277,
     "end_time": "2020-11-17T08:54:05.060845",
     "exception": false,
     "start_time": "2020-11-17T08:54:05.016568",
     "status": "completed"
    },
    "tags": []
   },
   "outputs": [
    {
     "data": {
      "text/plain": [
       "((1997595, 26), (390095, 25))"
      ]
     },
     "execution_count": 21,
     "metadata": {},
     "output_type": "execute_result"
    }
   ],
   "source": [
    "train.shape, test.shape "
   ]
  },
  {
   "cell_type": "code",
   "execution_count": 22,
   "metadata": {
    "execution": {
     "iopub.execute_input": "2020-11-17T08:54:05.143649Z",
     "iopub.status.busy": "2020-11-17T08:54:05.137111Z",
     "iopub.status.idle": "2020-11-17T08:54:05.165019Z",
     "shell.execute_reply": "2020-11-17T08:54:05.164261Z"
    },
    "papermill": {
     "duration": 0.071575,
     "end_time": "2020-11-17T08:54:05.165141",
     "exception": false,
     "start_time": "2020-11-17T08:54:05.093566",
     "status": "completed"
    },
    "tags": []
   },
   "outputs": [
    {
     "data": {
      "text/html": [
       "<div>\n",
       "<style scoped>\n",
       "    .dataframe tbody tr th:only-of-type {\n",
       "        vertical-align: middle;\n",
       "    }\n",
       "\n",
       "    .dataframe tbody tr th {\n",
       "        vertical-align: top;\n",
       "    }\n",
       "\n",
       "    .dataframe thead th {\n",
       "        text-align: right;\n",
       "    }\n",
       "</style>\n",
       "<table border=\"1\" class=\"dataframe\">\n",
       "  <thead>\n",
       "    <tr style=\"text-align: right;\">\n",
       "      <th></th>\n",
       "      <th>target</th>\n",
       "      <th>adnw_id</th>\n",
       "      <th>adspot_id</th>\n",
       "      <th>adspot_video_format_id</th>\n",
       "      <th>advertiser_id</th>\n",
       "      <th>app_id</th>\n",
       "      <th>auction_type_id</th>\n",
       "      <th>campaign_id</th>\n",
       "      <th>first_login_interval</th>\n",
       "      <th>frequency</th>\n",
       "      <th>...</th>\n",
       "      <th>last_login_interval</th>\n",
       "      <th>login_frequency</th>\n",
       "      <th>max_login_interval</th>\n",
       "      <th>media_app_id</th>\n",
       "      <th>os</th>\n",
       "      <th>uid</th>\n",
       "      <th>mst_advertiser_order_id</th>\n",
       "      <th>mst_user_type_id</th>\n",
       "      <th>count</th>\n",
       "      <th>holiday</th>\n",
       "    </tr>\n",
       "  </thead>\n",
       "  <tbody>\n",
       "    <tr>\n",
       "      <th>0</th>\n",
       "      <td>0.0</td>\n",
       "      <td>4</td>\n",
       "      <td>1111</td>\n",
       "      <td>2.0</td>\n",
       "      <td>14</td>\n",
       "      <td>5653</td>\n",
       "      <td>1.0</td>\n",
       "      <td>256</td>\n",
       "      <td>1490644.0</td>\n",
       "      <td>0</td>\n",
       "      <td>...</td>\n",
       "      <td>11320.0</td>\n",
       "      <td>10.0</td>\n",
       "      <td>2607.0</td>\n",
       "      <td>4780</td>\n",
       "      <td>1</td>\n",
       "      <td>108518</td>\n",
       "      <td>25</td>\n",
       "      <td>35</td>\n",
       "      <td>1</td>\n",
       "      <td>0</td>\n",
       "    </tr>\n",
       "    <tr>\n",
       "      <th>1</th>\n",
       "      <td>0.0</td>\n",
       "      <td>28</td>\n",
       "      <td>1081</td>\n",
       "      <td>2.0</td>\n",
       "      <td>86</td>\n",
       "      <td>3127</td>\n",
       "      <td>2.0</td>\n",
       "      <td>56</td>\n",
       "      <td>790412.0</td>\n",
       "      <td>2</td>\n",
       "      <td>...</td>\n",
       "      <td>12589.0</td>\n",
       "      <td>2.0</td>\n",
       "      <td>13540.0</td>\n",
       "      <td>3645</td>\n",
       "      <td>2</td>\n",
       "      <td>108518</td>\n",
       "      <td>115</td>\n",
       "      <td>37</td>\n",
       "      <td>2</td>\n",
       "      <td>0</td>\n",
       "    </tr>\n",
       "    <tr>\n",
       "      <th>2</th>\n",
       "      <td>0.0</td>\n",
       "      <td>42</td>\n",
       "      <td>1123</td>\n",
       "      <td>3.0</td>\n",
       "      <td>4</td>\n",
       "      <td>4947</td>\n",
       "      <td>1.0</td>\n",
       "      <td>76</td>\n",
       "      <td>1506105.0</td>\n",
       "      <td>0</td>\n",
       "      <td>...</td>\n",
       "      <td>10254.0</td>\n",
       "      <td>9.0</td>\n",
       "      <td>33725.0</td>\n",
       "      <td>121</td>\n",
       "      <td>1</td>\n",
       "      <td>108518</td>\n",
       "      <td>17</td>\n",
       "      <td>35</td>\n",
       "      <td>3</td>\n",
       "      <td>0</td>\n",
       "    </tr>\n",
       "    <tr>\n",
       "      <th>3</th>\n",
       "      <td>0.0</td>\n",
       "      <td>8</td>\n",
       "      <td>1113</td>\n",
       "      <td>2.0</td>\n",
       "      <td>15</td>\n",
       "      <td>4725</td>\n",
       "      <td>1.0</td>\n",
       "      <td>47</td>\n",
       "      <td>184283.0</td>\n",
       "      <td>0</td>\n",
       "      <td>...</td>\n",
       "      <td>39618.0</td>\n",
       "      <td>4.0</td>\n",
       "      <td>7377.0</td>\n",
       "      <td>2466</td>\n",
       "      <td>1</td>\n",
       "      <td>108518</td>\n",
       "      <td>112</td>\n",
       "      <td>38</td>\n",
       "      <td>4</td>\n",
       "      <td>0</td>\n",
       "    </tr>\n",
       "    <tr>\n",
       "      <th>4</th>\n",
       "      <td>0.0</td>\n",
       "      <td>22</td>\n",
       "      <td>1061</td>\n",
       "      <td>NaN</td>\n",
       "      <td>95</td>\n",
       "      <td>67</td>\n",
       "      <td>4.0</td>\n",
       "      <td>214</td>\n",
       "      <td>1999495.0</td>\n",
       "      <td>2</td>\n",
       "      <td>...</td>\n",
       "      <td>35652.0</td>\n",
       "      <td>5.0</td>\n",
       "      <td>164759.0</td>\n",
       "      <td>867</td>\n",
       "      <td>1</td>\n",
       "      <td>108518</td>\n",
       "      <td>38</td>\n",
       "      <td>35</td>\n",
       "      <td>5</td>\n",
       "      <td>0</td>\n",
       "    </tr>\n",
       "  </tbody>\n",
       "</table>\n",
       "<p>5 rows × 26 columns</p>\n",
       "</div>"
      ],
      "text/plain": [
       "   target  adnw_id  adspot_id  adspot_video_format_id  advertiser_id  app_id  \\\n",
       "0     0.0        4       1111                     2.0             14    5653   \n",
       "1     0.0       28       1081                     2.0             86    3127   \n",
       "2     0.0       42       1123                     3.0              4    4947   \n",
       "3     0.0        8       1113                     2.0             15    4725   \n",
       "4     0.0       22       1061                     NaN             95      67   \n",
       "\n",
       "   auction_type_id  campaign_id  first_login_interval  frequency  ...  \\\n",
       "0              1.0          256             1490644.0          0  ...   \n",
       "1              2.0           56              790412.0          2  ...   \n",
       "2              1.0           76             1506105.0          0  ...   \n",
       "3              1.0           47              184283.0          0  ...   \n",
       "4              4.0          214             1999495.0          2  ...   \n",
       "\n",
       "   last_login_interval  login_frequency  max_login_interval  media_app_id  os  \\\n",
       "0              11320.0             10.0              2607.0          4780   1   \n",
       "1              12589.0              2.0             13540.0          3645   2   \n",
       "2              10254.0              9.0             33725.0           121   1   \n",
       "3              39618.0              4.0              7377.0          2466   1   \n",
       "4              35652.0              5.0            164759.0           867   1   \n",
       "\n",
       "      uid  mst_advertiser_order_id  mst_user_type_id  count  holiday  \n",
       "0  108518                       25                35      1        0  \n",
       "1  108518                      115                37      2        0  \n",
       "2  108518                       17                35      3        0  \n",
       "3  108518                      112                38      4        0  \n",
       "4  108518                       38                35      5        0  \n",
       "\n",
       "[5 rows x 26 columns]"
      ]
     },
     "execution_count": 22,
     "metadata": {},
     "output_type": "execute_result"
    }
   ],
   "source": [
    "train.head()"
   ]
  },
  {
   "cell_type": "markdown",
   "metadata": {
    "papermill": {
     "duration": 0.033392,
     "end_time": "2020-11-17T08:54:05.232665",
     "exception": false,
     "start_time": "2020-11-17T08:54:05.199273",
     "status": "completed"
    },
    "tags": []
   },
   "source": [
    "# stratified modelling"
   ]
  },
  {
   "cell_type": "code",
   "execution_count": 23,
   "metadata": {
    "execution": {
     "iopub.execute_input": "2020-11-17T08:54:05.307353Z",
     "iopub.status.busy": "2020-11-17T08:54:05.306341Z",
     "iopub.status.idle": "2020-11-17T08:54:05.309882Z",
     "shell.execute_reply": "2020-11-17T08:54:05.309243Z"
    },
    "papermill": {
     "duration": 0.043547,
     "end_time": "2020-11-17T08:54:05.310054",
     "exception": false,
     "start_time": "2020-11-17T08:54:05.266507",
     "status": "completed"
    },
    "tags": []
   },
   "outputs": [],
   "source": [
    "object_feats = [i for i in object_feats if i in train.columns] + [\"holiday\"]"
   ]
  },
  {
   "cell_type": "code",
   "execution_count": 24,
   "metadata": {
    "_cell_guid": "79c7e3d0-c299-4dcb-8224-4455121ee9b0",
    "_uuid": "d629ff2d2480ee46fbb7e2d37f6b5fab8052498a",
    "execution": {
     "iopub.execute_input": "2020-11-17T08:54:05.407058Z",
     "iopub.status.busy": "2020-11-17T08:54:05.406196Z",
     "iopub.status.idle": "2020-11-17T09:14:18.114010Z",
     "shell.execute_reply": "2020-11-17T09:14:18.113006Z"
    },
    "papermill": {
     "duration": 1212.769839,
     "end_time": "2020-11-17T09:14:18.114177",
     "exception": false,
     "start_time": "2020-11-17T08:54:05.344338",
     "status": "completed"
    },
    "tags": []
   },
   "outputs": [
    {
     "name": "stdout",
     "output_type": "stream",
     "text": [
      "seed: 0\n",
      "fold:  0\n"
     ]
    },
    {
     "name": "stderr",
     "output_type": "stream",
     "text": [
      "/opt/conda/lib/python3.7/site-packages/lightgbm/basic.py:1295: UserWarning: categorical_feature in Dataset is overridden.\n",
      "New categorical_feature is ['advertiser_id', 'app_id', 'campaign_id', 'game_feed_id', 'game_template_id', 'holiday', 'media_app_id', 'mst_advertiser_order_id', 'uid']\n",
      "  'New categorical_feature is {}'.format(sorted(list(categorical_feature))))\n"
     ]
    },
    {
     "name": "stdout",
     "output_type": "stream",
     "text": [
      "Training until validation scores don't improve for 20 rounds\n",
      "[10]\ttraining's pr_auc: 0.205545\tvalid_1's pr_auc: 0.201252\n",
      "[20]\ttraining's pr_auc: 0.214135\tvalid_1's pr_auc: 0.209232\n",
      "[30]\ttraining's pr_auc: 0.222541\tvalid_1's pr_auc: 0.215468\n",
      "[40]\ttraining's pr_auc: 0.22995\tvalid_1's pr_auc: 0.218977\n",
      "[50]\ttraining's pr_auc: 0.235604\tvalid_1's pr_auc: 0.222348\n",
      "[60]\ttraining's pr_auc: 0.241034\tvalid_1's pr_auc: 0.224813\n",
      "[70]\ttraining's pr_auc: 0.245711\tvalid_1's pr_auc: 0.22673\n",
      "[80]\ttraining's pr_auc: 0.248728\tvalid_1's pr_auc: 0.228045\n",
      "[90]\ttraining's pr_auc: 0.252181\tvalid_1's pr_auc: 0.229833\n",
      "[100]\ttraining's pr_auc: 0.254975\tvalid_1's pr_auc: 0.230303\n",
      "[110]\ttraining's pr_auc: 0.257047\tvalid_1's pr_auc: 0.231412\n",
      "[120]\ttraining's pr_auc: 0.259443\tvalid_1's pr_auc: 0.231897\n",
      "[130]\ttraining's pr_auc: 0.261849\tvalid_1's pr_auc: 0.23235\n",
      "[140]\ttraining's pr_auc: 0.263885\tvalid_1's pr_auc: 0.232811\n",
      "[150]\ttraining's pr_auc: 0.26532\tvalid_1's pr_auc: 0.232976\n",
      "[160]\ttraining's pr_auc: 0.267926\tvalid_1's pr_auc: 0.233511\n",
      "[170]\ttraining's pr_auc: 0.269072\tvalid_1's pr_auc: 0.233762\n",
      "[180]\ttraining's pr_auc: 0.270943\tvalid_1's pr_auc: 0.233876\n",
      "[190]\ttraining's pr_auc: 0.273015\tvalid_1's pr_auc: 0.234347\n",
      "[200]\ttraining's pr_auc: 0.2755\tvalid_1's pr_auc: 0.234932\n",
      "[210]\ttraining's pr_auc: 0.277677\tvalid_1's pr_auc: 0.235257\n",
      "[220]\ttraining's pr_auc: 0.278544\tvalid_1's pr_auc: 0.23548\n",
      "[230]\ttraining's pr_auc: 0.280312\tvalid_1's pr_auc: 0.235663\n",
      "[240]\ttraining's pr_auc: 0.282241\tvalid_1's pr_auc: 0.236483\n",
      "[250]\ttraining's pr_auc: 0.283196\tvalid_1's pr_auc: 0.236494\n",
      "[260]\ttraining's pr_auc: 0.284387\tvalid_1's pr_auc: 0.23636\n",
      "[270]\ttraining's pr_auc: 0.285178\tvalid_1's pr_auc: 0.236391\n",
      "Early stopping, best iteration is:\n",
      "[252]\ttraining's pr_auc: 0.283384\tvalid_1's pr_auc: 0.236535\n",
      "fold:  1\n",
      "Training until validation scores don't improve for 20 rounds\n",
      "[10]\ttraining's pr_auc: 0.20362\tvalid_1's pr_auc: 0.202596\n",
      "[20]\ttraining's pr_auc: 0.213355\tvalid_1's pr_auc: 0.209939\n",
      "[30]\ttraining's pr_auc: 0.22058\tvalid_1's pr_auc: 0.216712\n",
      "[40]\ttraining's pr_auc: 0.22727\tvalid_1's pr_auc: 0.221024\n",
      "[50]\ttraining's pr_auc: 0.232613\tvalid_1's pr_auc: 0.224388\n",
      "[60]\ttraining's pr_auc: 0.237573\tvalid_1's pr_auc: 0.227097\n",
      "[70]\ttraining's pr_auc: 0.241976\tvalid_1's pr_auc: 0.228731\n",
      "[80]\ttraining's pr_auc: 0.246598\tvalid_1's pr_auc: 0.231574\n",
      "[90]\ttraining's pr_auc: 0.250112\tvalid_1's pr_auc: 0.232956\n",
      "[100]\ttraining's pr_auc: 0.252823\tvalid_1's pr_auc: 0.234151\n",
      "[110]\ttraining's pr_auc: 0.255736\tvalid_1's pr_auc: 0.234945\n",
      "[120]\ttraining's pr_auc: 0.258465\tvalid_1's pr_auc: 0.236016\n",
      "[130]\ttraining's pr_auc: 0.260634\tvalid_1's pr_auc: 0.236592\n",
      "[140]\ttraining's pr_auc: 0.262695\tvalid_1's pr_auc: 0.237064\n",
      "[150]\ttraining's pr_auc: 0.264059\tvalid_1's pr_auc: 0.237336\n",
      "[160]\ttraining's pr_auc: 0.266061\tvalid_1's pr_auc: 0.237755\n",
      "[170]\ttraining's pr_auc: 0.267969\tvalid_1's pr_auc: 0.237887\n",
      "[180]\ttraining's pr_auc: 0.269667\tvalid_1's pr_auc: 0.238299\n",
      "[190]\ttraining's pr_auc: 0.271533\tvalid_1's pr_auc: 0.238965\n",
      "[200]\ttraining's pr_auc: 0.272947\tvalid_1's pr_auc: 0.238949\n",
      "[210]\ttraining's pr_auc: 0.274657\tvalid_1's pr_auc: 0.239383\n",
      "[220]\ttraining's pr_auc: 0.276325\tvalid_1's pr_auc: 0.239133\n",
      "[230]\ttraining's pr_auc: 0.277969\tvalid_1's pr_auc: 0.239254\n",
      "Early stopping, best iteration is:\n",
      "[211]\ttraining's pr_auc: 0.27486\tvalid_1's pr_auc: 0.239467\n",
      "fold:  2\n",
      "Training until validation scores don't improve for 20 rounds\n",
      "[10]\ttraining's pr_auc: 0.204785\tvalid_1's pr_auc: 0.204166\n",
      "[20]\ttraining's pr_auc: 0.213334\tvalid_1's pr_auc: 0.212177\n",
      "[30]\ttraining's pr_auc: 0.22169\tvalid_1's pr_auc: 0.218776\n",
      "[40]\ttraining's pr_auc: 0.228924\tvalid_1's pr_auc: 0.223836\n",
      "[50]\ttraining's pr_auc: 0.23495\tvalid_1's pr_auc: 0.226096\n",
      "[60]\ttraining's pr_auc: 0.24101\tvalid_1's pr_auc: 0.228864\n",
      "[70]\ttraining's pr_auc: 0.245023\tvalid_1's pr_auc: 0.230711\n",
      "[80]\ttraining's pr_auc: 0.248974\tvalid_1's pr_auc: 0.232416\n",
      "[90]\ttraining's pr_auc: 0.252726\tvalid_1's pr_auc: 0.233798\n",
      "[100]\ttraining's pr_auc: 0.255648\tvalid_1's pr_auc: 0.234791\n",
      "[110]\ttraining's pr_auc: 0.258338\tvalid_1's pr_auc: 0.235378\n",
      "[120]\ttraining's pr_auc: 0.260509\tvalid_1's pr_auc: 0.235454\n",
      "[130]\ttraining's pr_auc: 0.262821\tvalid_1's pr_auc: 0.236347\n",
      "[140]\ttraining's pr_auc: 0.264856\tvalid_1's pr_auc: 0.236792\n",
      "[150]\ttraining's pr_auc: 0.266934\tvalid_1's pr_auc: 0.237194\n",
      "[160]\ttraining's pr_auc: 0.268423\tvalid_1's pr_auc: 0.237367\n",
      "[170]\ttraining's pr_auc: 0.269949\tvalid_1's pr_auc: 0.237935\n",
      "[180]\ttraining's pr_auc: 0.272082\tvalid_1's pr_auc: 0.238151\n",
      "[190]\ttraining's pr_auc: 0.273552\tvalid_1's pr_auc: 0.238287\n",
      "[200]\ttraining's pr_auc: 0.275479\tvalid_1's pr_auc: 0.238605\n",
      "[210]\ttraining's pr_auc: 0.277262\tvalid_1's pr_auc: 0.238917\n",
      "[220]\ttraining's pr_auc: 0.278781\tvalid_1's pr_auc: 0.238978\n",
      "[230]\ttraining's pr_auc: 0.280012\tvalid_1's pr_auc: 0.239098\n",
      "[240]\ttraining's pr_auc: 0.282048\tvalid_1's pr_auc: 0.239148\n",
      "[250]\ttraining's pr_auc: 0.284067\tvalid_1's pr_auc: 0.239404\n",
      "[260]\ttraining's pr_auc: 0.285352\tvalid_1's pr_auc: 0.239544\n",
      "[270]\ttraining's pr_auc: 0.286493\tvalid_1's pr_auc: 0.239896\n",
      "[280]\ttraining's pr_auc: 0.287979\tvalid_1's pr_auc: 0.239974\n",
      "[290]\ttraining's pr_auc: 0.28935\tvalid_1's pr_auc: 0.240026\n",
      "Early stopping, best iteration is:\n",
      "[273]\ttraining's pr_auc: 0.286926\tvalid_1's pr_auc: 0.24007\n",
      "fold:  3\n",
      "Training until validation scores don't improve for 20 rounds\n",
      "[10]\ttraining's pr_auc: 0.205656\tvalid_1's pr_auc: 0.203858\n",
      "[20]\ttraining's pr_auc: 0.214708\tvalid_1's pr_auc: 0.210965\n",
      "[30]\ttraining's pr_auc: 0.22303\tvalid_1's pr_auc: 0.215825\n",
      "[40]\ttraining's pr_auc: 0.229465\tvalid_1's pr_auc: 0.219927\n",
      "[50]\ttraining's pr_auc: 0.234821\tvalid_1's pr_auc: 0.222733\n",
      "[60]\ttraining's pr_auc: 0.240532\tvalid_1's pr_auc: 0.225183\n",
      "[70]\ttraining's pr_auc: 0.244466\tvalid_1's pr_auc: 0.227014\n",
      "[80]\ttraining's pr_auc: 0.248762\tvalid_1's pr_auc: 0.229492\n",
      "[90]\ttraining's pr_auc: 0.251791\tvalid_1's pr_auc: 0.230513\n",
      "[100]\ttraining's pr_auc: 0.254622\tvalid_1's pr_auc: 0.231665\n",
      "[110]\ttraining's pr_auc: 0.258035\tvalid_1's pr_auc: 0.232933\n",
      "[120]\ttraining's pr_auc: 0.260638\tvalid_1's pr_auc: 0.233693\n",
      "[130]\ttraining's pr_auc: 0.263056\tvalid_1's pr_auc: 0.234267\n",
      "[140]\ttraining's pr_auc: 0.264588\tvalid_1's pr_auc: 0.235033\n",
      "[150]\ttraining's pr_auc: 0.267161\tvalid_1's pr_auc: 0.23566\n",
      "[160]\ttraining's pr_auc: 0.268789\tvalid_1's pr_auc: 0.236024\n",
      "[170]\ttraining's pr_auc: 0.270764\tvalid_1's pr_auc: 0.236617\n",
      "[180]\ttraining's pr_auc: 0.272418\tvalid_1's pr_auc: 0.237034\n",
      "[190]\ttraining's pr_auc: 0.273899\tvalid_1's pr_auc: 0.237123\n",
      "[200]\ttraining's pr_auc: 0.275917\tvalid_1's pr_auc: 0.237475\n",
      "[210]\ttraining's pr_auc: 0.277412\tvalid_1's pr_auc: 0.237496\n",
      "[220]\ttraining's pr_auc: 0.27824\tvalid_1's pr_auc: 0.237705\n",
      "[230]\ttraining's pr_auc: 0.279823\tvalid_1's pr_auc: 0.237701\n",
      "[240]\ttraining's pr_auc: 0.281153\tvalid_1's pr_auc: 0.237664\n",
      "Early stopping, best iteration is:\n",
      "[226]\ttraining's pr_auc: 0.27917\tvalid_1's pr_auc: 0.237825\n",
      "fold:  4\n",
      "Training until validation scores don't improve for 20 rounds\n",
      "[10]\ttraining's pr_auc: 0.206524\tvalid_1's pr_auc: 0.202483\n",
      "[20]\ttraining's pr_auc: 0.214206\tvalid_1's pr_auc: 0.208758\n",
      "[30]\ttraining's pr_auc: 0.223054\tvalid_1's pr_auc: 0.214698\n",
      "[40]\ttraining's pr_auc: 0.230188\tvalid_1's pr_auc: 0.218534\n",
      "[50]\ttraining's pr_auc: 0.236975\tvalid_1's pr_auc: 0.221455\n",
      "[60]\ttraining's pr_auc: 0.240357\tvalid_1's pr_auc: 0.222489\n",
      "[70]\ttraining's pr_auc: 0.244128\tvalid_1's pr_auc: 0.224031\n",
      "[80]\ttraining's pr_auc: 0.249222\tvalid_1's pr_auc: 0.226348\n",
      "[90]\ttraining's pr_auc: 0.252504\tvalid_1's pr_auc: 0.227399\n",
      "[100]\ttraining's pr_auc: 0.255808\tvalid_1's pr_auc: 0.228361\n",
      "[110]\ttraining's pr_auc: 0.25859\tvalid_1's pr_auc: 0.229346\n",
      "[120]\ttraining's pr_auc: 0.261642\tvalid_1's pr_auc: 0.230065\n",
      "[130]\ttraining's pr_auc: 0.263588\tvalid_1's pr_auc: 0.230559\n",
      "[140]\ttraining's pr_auc: 0.266307\tvalid_1's pr_auc: 0.231253\n",
      "[150]\ttraining's pr_auc: 0.268397\tvalid_1's pr_auc: 0.231326\n",
      "[160]\ttraining's pr_auc: 0.269995\tvalid_1's pr_auc: 0.231594\n",
      "[170]\ttraining's pr_auc: 0.271297\tvalid_1's pr_auc: 0.231706\n",
      "[180]\ttraining's pr_auc: 0.273295\tvalid_1's pr_auc: 0.232229\n",
      "[190]\ttraining's pr_auc: 0.275163\tvalid_1's pr_auc: 0.232377\n",
      "[200]\ttraining's pr_auc: 0.276985\tvalid_1's pr_auc: 0.232826\n",
      "[210]\ttraining's pr_auc: 0.278094\tvalid_1's pr_auc: 0.232722\n",
      "Early stopping, best iteration is:\n",
      "[194]\ttraining's pr_auc: 0.276119\tvalid_1's pr_auc: 0.232855\n",
      "0.23713954684397545\n"
     ]
    }
   ],
   "source": [
    "# stratified k fold\n",
    "n_folds = 5\n",
    "def pr_auc_metric(y_predicted, y_true):\n",
    "    return 'pr_auc', average_precision_score(y_true.get_label(), y_predicted), True\n",
    "\n",
    "def modelling(seed):\n",
    "    print(\"seed:\", seed)\n",
    "    lgbm_params = {'objective': 'binary', 'metric': 'None', 'boosting_type': 'gbdt', \n",
    "               'tree_learner': 'serial', 'learning_rate': 0.1, \"num_leaves\": 10, 'random_seed':seed,'max_depth': 5}\n",
    "    \n",
    "    y = train.target.copy()\n",
    "    X = train.drop(['target'],axis=1).copy()\n",
    "    \n",
    "    skf=StratifiedKFold(n_splits = n_folds, shuffle=True, random_state=0)\n",
    "    \n",
    "    valid = np.zeros([X.shape[0]])\n",
    "    features_list = [i for i in X.columns]\n",
    "    pred_value = np.zeros(test.shape[0])\n",
    "    feature_importance_df = pd.DataFrame(features_list, columns=[\"Feature\"])\n",
    "    \n",
    "    for i , (train_index, val_index) in enumerate(skf.split(X, y)):\n",
    "        print(\"fold: \", i)\n",
    "        \n",
    "        X_train = X.iloc[train_index,:]\n",
    "        y_train = y.iloc[train_index]\n",
    "\n",
    "        X_valid = X.iloc[val_index,:]\n",
    "        y_valid = y.iloc[val_index]\n",
    "        \n",
    "        lgb_train = lgb.Dataset(X_train, y_train)\n",
    "        lgb_eval = lgb.Dataset(X_valid, y_valid, reference=lgb_train)\n",
    "        \n",
    "        model = lgb.train(lgbm_params, lgb_train,valid_sets=[lgb_train, lgb_eval],\n",
    "           num_boost_round=10000,early_stopping_rounds=20,verbose_eval = 10,\n",
    "                          feval=pr_auc_metric, categorical_feature = sorted(object_feats))\n",
    "        \n",
    "        valid_predict = model.predict(X_valid, num_iteration = model.best_iteration)\n",
    "        valid[val_index] = valid_predict\n",
    "        pred_value += model.predict(test, num_iteration = model.best_iteration)\n",
    "        feature_importance_df[\"Fold_\"+str(i+1)] = model.feature_importance()\n",
    "    \n",
    "    feature_importance_df[\"Average\"] = np.mean(feature_importance_df.iloc[:,1:n_folds+1], axis=1)\n",
    "    feature_importance_df[\"Std\"] = np.std(feature_importance_df.iloc[:,1:n_folds+1], axis=1)\n",
    "    feature_importance_df[\"Cv\"] = feature_importance_df[\"Std\"] / feature_importance_df[\"Average\"]\n",
    "    \n",
    "    return pred_value, valid, feature_importance_df\n",
    "\n",
    "validation = np.zeros([train.shape[0]])\n",
    "pred_value = np.zeros([test.shape[0]])\n",
    "seeds = [0]\n",
    "for seed_ in seeds:\n",
    "    test_pred, oof_predict, feature_importance_df = modelling(seed_)\n",
    "    validation += oof_predict / len(seeds)\n",
    "    pred_value += test_pred / len(seeds)\n",
    "\n",
    "score = average_precision_score(train.target, validation)\n",
    "print(score)"
   ]
  },
  {
   "cell_type": "code",
   "execution_count": 25,
   "metadata": {
    "execution": {
     "iopub.execute_input": "2020-11-17T09:14:18.321316Z",
     "iopub.status.busy": "2020-11-17T09:14:18.303004Z",
     "iopub.status.idle": "2020-11-17T09:14:18.327715Z",
     "shell.execute_reply": "2020-11-17T09:14:18.326969Z"
    },
    "papermill": {
     "duration": 0.122528,
     "end_time": "2020-11-17T09:14:18.327835",
     "exception": false,
     "start_time": "2020-11-17T09:14:18.205307",
     "status": "completed"
    },
    "tags": []
   },
   "outputs": [
    {
     "data": {
      "text/html": [
       "<div>\n",
       "<style scoped>\n",
       "    .dataframe tbody tr th:only-of-type {\n",
       "        vertical-align: middle;\n",
       "    }\n",
       "\n",
       "    .dataframe tbody tr th {\n",
       "        vertical-align: top;\n",
       "    }\n",
       "\n",
       "    .dataframe thead th {\n",
       "        text-align: right;\n",
       "    }\n",
       "</style>\n",
       "<table border=\"1\" class=\"dataframe\">\n",
       "  <thead>\n",
       "    <tr style=\"text-align: right;\">\n",
       "      <th></th>\n",
       "      <th>Feature</th>\n",
       "      <th>Fold_1</th>\n",
       "      <th>Fold_2</th>\n",
       "      <th>Fold_3</th>\n",
       "      <th>Fold_4</th>\n",
       "      <th>Fold_5</th>\n",
       "      <th>Average</th>\n",
       "      <th>Std</th>\n",
       "      <th>Cv</th>\n",
       "    </tr>\n",
       "  </thead>\n",
       "  <tbody>\n",
       "    <tr>\n",
       "      <th>4</th>\n",
       "      <td>app_id</td>\n",
       "      <td>491</td>\n",
       "      <td>418</td>\n",
       "      <td>546</td>\n",
       "      <td>421</td>\n",
       "      <td>383</td>\n",
       "      <td>451.8</td>\n",
       "      <td>58.710817</td>\n",
       "      <td>0.129949</td>\n",
       "    </tr>\n",
       "    <tr>\n",
       "      <th>6</th>\n",
       "      <td>campaign_id</td>\n",
       "      <td>338</td>\n",
       "      <td>323</td>\n",
       "      <td>380</td>\n",
       "      <td>330</td>\n",
       "      <td>285</td>\n",
       "      <td>331.2</td>\n",
       "      <td>30.432877</td>\n",
       "      <td>0.091887</td>\n",
       "    </tr>\n",
       "    <tr>\n",
       "      <th>18</th>\n",
       "      <td>media_app_id</td>\n",
       "      <td>275</td>\n",
       "      <td>190</td>\n",
       "      <td>288</td>\n",
       "      <td>230</td>\n",
       "      <td>190</td>\n",
       "      <td>234.6</td>\n",
       "      <td>41.190290</td>\n",
       "      <td>0.175577</td>\n",
       "    </tr>\n",
       "    <tr>\n",
       "      <th>20</th>\n",
       "      <td>uid</td>\n",
       "      <td>239</td>\n",
       "      <td>187</td>\n",
       "      <td>255</td>\n",
       "      <td>226</td>\n",
       "      <td>166</td>\n",
       "      <td>214.6</td>\n",
       "      <td>33.109515</td>\n",
       "      <td>0.154285</td>\n",
       "    </tr>\n",
       "    <tr>\n",
       "      <th>10</th>\n",
       "      <td>game_feed_id</td>\n",
       "      <td>167</td>\n",
       "      <td>131</td>\n",
       "      <td>176</td>\n",
       "      <td>132</td>\n",
       "      <td>109</td>\n",
       "      <td>143.0</td>\n",
       "      <td>24.843510</td>\n",
       "      <td>0.173731</td>\n",
       "    </tr>\n",
       "    <tr>\n",
       "      <th>3</th>\n",
       "      <td>advertiser_id</td>\n",
       "      <td>118</td>\n",
       "      <td>115</td>\n",
       "      <td>117</td>\n",
       "      <td>108</td>\n",
       "      <td>109</td>\n",
       "      <td>113.4</td>\n",
       "      <td>4.127953</td>\n",
       "      <td>0.036402</td>\n",
       "    </tr>\n",
       "    <tr>\n",
       "      <th>21</th>\n",
       "      <td>mst_advertiser_order_id</td>\n",
       "      <td>91</td>\n",
       "      <td>74</td>\n",
       "      <td>123</td>\n",
       "      <td>81</td>\n",
       "      <td>82</td>\n",
       "      <td>90.2</td>\n",
       "      <td>17.267310</td>\n",
       "      <td>0.191434</td>\n",
       "    </tr>\n",
       "    <tr>\n",
       "      <th>23</th>\n",
       "      <td>count</td>\n",
       "      <td>93</td>\n",
       "      <td>79</td>\n",
       "      <td>90</td>\n",
       "      <td>78</td>\n",
       "      <td>70</td>\n",
       "      <td>82.0</td>\n",
       "      <td>8.414274</td>\n",
       "      <td>0.102613</td>\n",
       "    </tr>\n",
       "    <tr>\n",
       "      <th>7</th>\n",
       "      <td>first_login_interval</td>\n",
       "      <td>80</td>\n",
       "      <td>66</td>\n",
       "      <td>87</td>\n",
       "      <td>76</td>\n",
       "      <td>56</td>\n",
       "      <td>73.0</td>\n",
       "      <td>10.881176</td>\n",
       "      <td>0.149057</td>\n",
       "    </tr>\n",
       "    <tr>\n",
       "      <th>15</th>\n",
       "      <td>last_login_interval</td>\n",
       "      <td>77</td>\n",
       "      <td>65</td>\n",
       "      <td>80</td>\n",
       "      <td>74</td>\n",
       "      <td>56</td>\n",
       "      <td>70.4</td>\n",
       "      <td>8.777243</td>\n",
       "      <td>0.124677</td>\n",
       "    </tr>\n",
       "    <tr>\n",
       "      <th>17</th>\n",
       "      <td>max_login_interval</td>\n",
       "      <td>63</td>\n",
       "      <td>45</td>\n",
       "      <td>74</td>\n",
       "      <td>56</td>\n",
       "      <td>49</td>\n",
       "      <td>57.4</td>\n",
       "      <td>10.326665</td>\n",
       "      <td>0.179907</td>\n",
       "    </tr>\n",
       "    <tr>\n",
       "      <th>16</th>\n",
       "      <td>login_frequency</td>\n",
       "      <td>54</td>\n",
       "      <td>44</td>\n",
       "      <td>51</td>\n",
       "      <td>47</td>\n",
       "      <td>46</td>\n",
       "      <td>48.4</td>\n",
       "      <td>3.611094</td>\n",
       "      <td>0.074609</td>\n",
       "    </tr>\n",
       "    <tr>\n",
       "      <th>22</th>\n",
       "      <td>mst_user_type_id</td>\n",
       "      <td>51</td>\n",
       "      <td>48</td>\n",
       "      <td>48</td>\n",
       "      <td>45</td>\n",
       "      <td>42</td>\n",
       "      <td>46.8</td>\n",
       "      <td>3.059412</td>\n",
       "      <td>0.065372</td>\n",
       "    </tr>\n",
       "    <tr>\n",
       "      <th>14</th>\n",
       "      <td>item_id</td>\n",
       "      <td>27</td>\n",
       "      <td>26</td>\n",
       "      <td>41</td>\n",
       "      <td>35</td>\n",
       "      <td>24</td>\n",
       "      <td>30.6</td>\n",
       "      <td>6.406247</td>\n",
       "      <td>0.209354</td>\n",
       "    </tr>\n",
       "    <tr>\n",
       "      <th>9</th>\n",
       "      <td>from_click</td>\n",
       "      <td>27</td>\n",
       "      <td>26</td>\n",
       "      <td>30</td>\n",
       "      <td>29</td>\n",
       "      <td>25</td>\n",
       "      <td>27.4</td>\n",
       "      <td>1.854724</td>\n",
       "      <td>0.067691</td>\n",
       "    </tr>\n",
       "    <tr>\n",
       "      <th>8</th>\n",
       "      <td>frequency</td>\n",
       "      <td>27</td>\n",
       "      <td>21</td>\n",
       "      <td>28</td>\n",
       "      <td>24</td>\n",
       "      <td>17</td>\n",
       "      <td>23.4</td>\n",
       "      <td>4.029888</td>\n",
       "      <td>0.172217</td>\n",
       "    </tr>\n",
       "    <tr>\n",
       "      <th>2</th>\n",
       "      <td>adspot_video_format_id</td>\n",
       "      <td>17</td>\n",
       "      <td>12</td>\n",
       "      <td>12</td>\n",
       "      <td>12</td>\n",
       "      <td>13</td>\n",
       "      <td>13.2</td>\n",
       "      <td>1.939072</td>\n",
       "      <td>0.146899</td>\n",
       "    </tr>\n",
       "    <tr>\n",
       "      <th>1</th>\n",
       "      <td>adspot_id</td>\n",
       "      <td>13</td>\n",
       "      <td>12</td>\n",
       "      <td>15</td>\n",
       "      <td>12</td>\n",
       "      <td>13</td>\n",
       "      <td>13.0</td>\n",
       "      <td>1.095445</td>\n",
       "      <td>0.084265</td>\n",
       "    </tr>\n",
       "    <tr>\n",
       "      <th>11</th>\n",
       "      <td>game_template_id</td>\n",
       "      <td>6</td>\n",
       "      <td>3</td>\n",
       "      <td>7</td>\n",
       "      <td>6</td>\n",
       "      <td>6</td>\n",
       "      <td>5.6</td>\n",
       "      <td>1.356466</td>\n",
       "      <td>0.242226</td>\n",
       "    </tr>\n",
       "    <tr>\n",
       "      <th>12</th>\n",
       "      <td>header_bidding</td>\n",
       "      <td>3</td>\n",
       "      <td>5</td>\n",
       "      <td>2</td>\n",
       "      <td>5</td>\n",
       "      <td>2</td>\n",
       "      <td>3.4</td>\n",
       "      <td>1.356466</td>\n",
       "      <td>0.398961</td>\n",
       "    </tr>\n",
       "    <tr>\n",
       "      <th>5</th>\n",
       "      <td>auction_type_id</td>\n",
       "      <td>3</td>\n",
       "      <td>2</td>\n",
       "      <td>1</td>\n",
       "      <td>3</td>\n",
       "      <td>2</td>\n",
       "      <td>2.2</td>\n",
       "      <td>0.748331</td>\n",
       "      <td>0.340151</td>\n",
       "    </tr>\n",
       "    <tr>\n",
       "      <th>13</th>\n",
       "      <td>is_interstitial</td>\n",
       "      <td>3</td>\n",
       "      <td>1</td>\n",
       "      <td>1</td>\n",
       "      <td>2</td>\n",
       "      <td>1</td>\n",
       "      <td>1.6</td>\n",
       "      <td>0.800000</td>\n",
       "      <td>0.500000</td>\n",
       "    </tr>\n",
       "    <tr>\n",
       "      <th>0</th>\n",
       "      <td>adnw_id</td>\n",
       "      <td>1</td>\n",
       "      <td>2</td>\n",
       "      <td>4</td>\n",
       "      <td>0</td>\n",
       "      <td>0</td>\n",
       "      <td>1.4</td>\n",
       "      <td>1.496663</td>\n",
       "      <td>1.069045</td>\n",
       "    </tr>\n",
       "    <tr>\n",
       "      <th>24</th>\n",
       "      <td>holiday</td>\n",
       "      <td>3</td>\n",
       "      <td>1</td>\n",
       "      <td>1</td>\n",
       "      <td>1</td>\n",
       "      <td>0</td>\n",
       "      <td>1.2</td>\n",
       "      <td>0.979796</td>\n",
       "      <td>0.816497</td>\n",
       "    </tr>\n",
       "    <tr>\n",
       "      <th>19</th>\n",
       "      <td>os</td>\n",
       "      <td>1</td>\n",
       "      <td>3</td>\n",
       "      <td>0</td>\n",
       "      <td>1</td>\n",
       "      <td>0</td>\n",
       "      <td>1.0</td>\n",
       "      <td>1.095445</td>\n",
       "      <td>1.095445</td>\n",
       "    </tr>\n",
       "  </tbody>\n",
       "</table>\n",
       "</div>"
      ],
      "text/plain": [
       "                    Feature  Fold_1  Fold_2  Fold_3  Fold_4  Fold_5  Average  \\\n",
       "4                    app_id     491     418     546     421     383    451.8   \n",
       "6               campaign_id     338     323     380     330     285    331.2   \n",
       "18             media_app_id     275     190     288     230     190    234.6   \n",
       "20                      uid     239     187     255     226     166    214.6   \n",
       "10             game_feed_id     167     131     176     132     109    143.0   \n",
       "3             advertiser_id     118     115     117     108     109    113.4   \n",
       "21  mst_advertiser_order_id      91      74     123      81      82     90.2   \n",
       "23                    count      93      79      90      78      70     82.0   \n",
       "7      first_login_interval      80      66      87      76      56     73.0   \n",
       "15      last_login_interval      77      65      80      74      56     70.4   \n",
       "17       max_login_interval      63      45      74      56      49     57.4   \n",
       "16          login_frequency      54      44      51      47      46     48.4   \n",
       "22         mst_user_type_id      51      48      48      45      42     46.8   \n",
       "14                  item_id      27      26      41      35      24     30.6   \n",
       "9                from_click      27      26      30      29      25     27.4   \n",
       "8                 frequency      27      21      28      24      17     23.4   \n",
       "2    adspot_video_format_id      17      12      12      12      13     13.2   \n",
       "1                 adspot_id      13      12      15      12      13     13.0   \n",
       "11         game_template_id       6       3       7       6       6      5.6   \n",
       "12           header_bidding       3       5       2       5       2      3.4   \n",
       "5           auction_type_id       3       2       1       3       2      2.2   \n",
       "13          is_interstitial       3       1       1       2       1      1.6   \n",
       "0                   adnw_id       1       2       4       0       0      1.4   \n",
       "24                  holiday       3       1       1       1       0      1.2   \n",
       "19                       os       1       3       0       1       0      1.0   \n",
       "\n",
       "          Std        Cv  \n",
       "4   58.710817  0.129949  \n",
       "6   30.432877  0.091887  \n",
       "18  41.190290  0.175577  \n",
       "20  33.109515  0.154285  \n",
       "10  24.843510  0.173731  \n",
       "3    4.127953  0.036402  \n",
       "21  17.267310  0.191434  \n",
       "23   8.414274  0.102613  \n",
       "7   10.881176  0.149057  \n",
       "15   8.777243  0.124677  \n",
       "17  10.326665  0.179907  \n",
       "16   3.611094  0.074609  \n",
       "22   3.059412  0.065372  \n",
       "14   6.406247  0.209354  \n",
       "9    1.854724  0.067691  \n",
       "8    4.029888  0.172217  \n",
       "2    1.939072  0.146899  \n",
       "1    1.095445  0.084265  \n",
       "11   1.356466  0.242226  \n",
       "12   1.356466  0.398961  \n",
       "5    0.748331  0.340151  \n",
       "13   0.800000  0.500000  \n",
       "0    1.496663  1.069045  \n",
       "24   0.979796  0.816497  \n",
       "19   1.095445  1.095445  "
      ]
     },
     "execution_count": 25,
     "metadata": {},
     "output_type": "execute_result"
    }
   ],
   "source": [
    "feature_importance_df.sort_values(\"Average\", ascending=False)"
   ]
  },
  {
   "cell_type": "markdown",
   "metadata": {
    "papermill": {
     "duration": 0.093404,
     "end_time": "2020-11-17T09:14:18.513787",
     "exception": false,
     "start_time": "2020-11-17T09:14:18.420383",
     "status": "completed"
    },
    "tags": []
   },
   "source": [
    "# ts modelling"
   ]
  },
  {
   "cell_type": "code",
   "execution_count": 26,
   "metadata": {
    "execution": {
     "iopub.execute_input": "2020-11-17T09:14:18.718633Z",
     "iopub.status.busy": "2020-11-17T09:14:18.717618Z",
     "iopub.status.idle": "2020-11-17T09:14:18.720972Z",
     "shell.execute_reply": "2020-11-17T09:14:18.720214Z"
    },
    "papermill": {
     "duration": 0.11442,
     "end_time": "2020-11-17T09:14:18.721103",
     "exception": false,
     "start_time": "2020-11-17T09:14:18.606683",
     "status": "completed"
    },
    "tags": []
   },
   "outputs": [],
   "source": [
    "n_folds = 5\n",
    "def pr_auc_metric(y_predicted, y_true):\n",
    "    return 'pr_auc', average_precision_score(y_true.get_label(), y_predicted), True\n",
    "\n",
    "def modelling_ts(seed):\n",
    "    print(\"seed:\", seed)\n",
    "    lgbm_params = {'objective': 'binary', 'metric': 'None', 'boosting_type': 'gbdt', \n",
    "               'tree_learner': 'serial', 'learning_rate': 0.1, \"num_leaves\": 10, 'random_seed':seed,'max_depth': 5}\n",
    "    y_train = train_df.target.copy()\n",
    "    X_train = train_df.drop(['target'],axis=1).copy()\n",
    "    y_valid = valid_df.target.copy()\n",
    "    X_valid = valid_df.drop(['target'],axis=1).copy()\n",
    "    \n",
    "    valid_lgb = pd.DataFrame(np.zeros([X_train.shape[0]]))\n",
    "    real = np.array([])\n",
    "    features_list = [i for i in X_train.columns]\n",
    "    feature_importance_df = pd.DataFrame(features_list, columns=[\"Feature\"])\n",
    "        \n",
    "    lgb_train = lgb.Dataset(X_train, y_train)\n",
    "    lgb_eval = lgb.Dataset(X_valid, y_valid, reference=lgb_train)\n",
    "        \n",
    "    model = lgb.train(lgbm_params, lgb_train,valid_sets=[lgb_train, lgb_eval],\n",
    "       num_boost_round=10000,early_stopping_rounds=20,verbose_eval = 10, feval=pr_auc_metric, categorical_feature = sorted(object_feats))\n",
    "    \n",
    "    valid_predict = model.predict(X_valid, num_iteration = model.best_iteration)\n",
    "    feature_importance_df[\"Importance\"] = model.feature_importance()\n",
    "        \n",
    "    score = average_precision_score(y_valid, valid_predict)\n",
    "    print(\"average precision score = {}\".format(score))\n",
    "    pred_value = model.predict(test, num_iteration = model.best_iteration)\n",
    "    \n",
    "    return pred_value, valid_predict, feature_importance_df\n",
    "\n",
    "#validation_ts = np.zeros([valid_df.shape[0]])\n",
    "#pred_value_ts = np.zeros([test.shape[0]])\n",
    "#seeds = [0]\n",
    "#for seed_ in seeds:\n",
    "#    test_pred, oof_predict, feature_importance_df = modelling_ts(seed_)\n",
    "#    validation_ts += oof_predict / len(seeds)\n",
    "#    pred_value_ts += test_pred / len(seeds)\n",
    "\n",
    "#score = average_precision_score(valid_df.target, validation_ts)\n",
    "#print(score)"
   ]
  },
  {
   "cell_type": "code",
   "execution_count": 27,
   "metadata": {
    "execution": {
     "iopub.execute_input": "2020-11-17T09:14:18.910649Z",
     "iopub.status.busy": "2020-11-17T09:14:18.909772Z",
     "iopub.status.idle": "2020-11-17T09:14:18.913607Z",
     "shell.execute_reply": "2020-11-17T09:14:18.912863Z"
    },
    "papermill": {
     "duration": 0.100448,
     "end_time": "2020-11-17T09:14:18.913727",
     "exception": false,
     "start_time": "2020-11-17T09:14:18.813279",
     "status": "completed"
    },
    "tags": []
   },
   "outputs": [],
   "source": [
    "#feature_importance_df.sort_values(\"Importance\", ascending=False)"
   ]
  },
  {
   "cell_type": "markdown",
   "metadata": {
    "papermill": {
     "duration": 0.093831,
     "end_time": "2020-11-17T09:14:19.100063",
     "exception": false,
     "start_time": "2020-11-17T09:14:19.006232",
     "status": "completed"
    },
    "tags": []
   },
   "source": [
    "# submission"
   ]
  },
  {
   "cell_type": "code",
   "execution_count": 28,
   "metadata": {
    "execution": {
     "iopub.execute_input": "2020-11-17T09:14:19.297352Z",
     "iopub.status.busy": "2020-11-17T09:14:19.296544Z",
     "iopub.status.idle": "2020-11-17T09:14:21.415515Z",
     "shell.execute_reply": "2020-11-17T09:14:21.414673Z"
    },
    "papermill": {
     "duration": 2.223161,
     "end_time": "2020-11-17T09:14:21.415685",
     "exception": false,
     "start_time": "2020-11-17T09:14:19.192524",
     "status": "completed"
    },
    "tags": []
   },
   "outputs": [],
   "source": [
    "lgb_sub = pd.read_csv(DIR + \"atmaCup7__sample_submission.csv\")\n",
    "lgb_sub[\"target\"] = pred_value\n",
    "lgb_sub.to_csv(\"atmacup7_lgb\"+str(score)[:-10]+\".csv\", index = False)"
   ]
  },
  {
   "cell_type": "code",
   "execution_count": null,
   "metadata": {
    "papermill": {
     "duration": 0.092067,
     "end_time": "2020-11-17T09:14:21.606326",
     "exception": false,
     "start_time": "2020-11-17T09:14:21.514259",
     "status": "completed"
    },
    "tags": []
   },
   "outputs": [],
   "source": []
  }
 ],
 "metadata": {
  "kernelspec": {
   "display_name": "Python 3",
   "language": "python",
   "name": "python3"
  },
  "language_info": {
   "codemirror_mode": {
    "name": "ipython",
    "version": 3
   },
   "file_extension": ".py",
   "mimetype": "text/x-python",
   "name": "python",
   "nbconvert_exporter": "python",
   "pygments_lexer": "ipython3",
   "version": "3.7.6"
  },
  "papermill": {
   "duration": 1680.319067,
   "end_time": "2020-11-17T09:14:21.806759",
   "environment_variables": {},
   "exception": null,
   "input_path": "__notebook__.ipynb",
   "output_path": "__notebook__.ipynb",
   "parameters": {},
   "start_time": "2020-11-17T08:46:21.487692",
   "version": "2.1.0"
  }
 },
 "nbformat": 4,
 "nbformat_minor": 4
}
