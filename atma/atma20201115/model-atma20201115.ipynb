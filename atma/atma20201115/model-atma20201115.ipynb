{
 "cells": [
  {
   "cell_type": "markdown",
   "metadata": {
    "papermill": {
     "duration": 0.020764,
     "end_time": "2020-11-16T01:49:04.577144",
     "exception": false,
     "start_time": "2020-11-16T01:49:04.556380",
     "status": "completed"
    },
    "tags": []
   },
   "source": [
    "- connect campaign\n",
    "- change model parameters"
   ]
  },
  {
   "cell_type": "code",
   "execution_count": 1,
   "metadata": {
    "_cell_guid": "b1076dfc-b9ad-4769-8c92-a6c4dae69d19",
    "_uuid": "8f2839f25d086af736a60e9eeb907d3b93b6e0e5",
    "execution": {
     "iopub.execute_input": "2020-11-16T01:49:04.620215Z",
     "iopub.status.busy": "2020-11-16T01:49:04.619046Z",
     "iopub.status.idle": "2020-11-16T01:49:05.608875Z",
     "shell.execute_reply": "2020-11-16T01:49:05.608185Z"
    },
    "papermill": {
     "duration": 1.014118,
     "end_time": "2020-11-16T01:49:05.609008",
     "exception": false,
     "start_time": "2020-11-16T01:49:04.594890",
     "status": "completed"
    },
    "tags": []
   },
   "outputs": [
    {
     "name": "stderr",
     "output_type": "stream",
     "text": [
      "/opt/conda/lib/python3.7/site-packages/ipykernel_launcher.py:6: TqdmDeprecationWarning: This function will be removed in tqdm==5.0.0\n",
      "Please use `tqdm.notebook.*` instead of `tqdm._tqdm_notebook.*`\n",
      "  \n",
      "/opt/conda/lib/python3.7/site-packages/tqdm/std.py:666: FutureWarning: The Panel class is removed from pandas. Accessing it from the top-level namespace will also be removed in the next version\n",
      "  from pandas import Panel\n"
     ]
    }
   ],
   "source": [
    "import os\n",
    "import numpy as np\n",
    "import pandas as pd\n",
    "import lightgbm as lgb\n",
    "from sklearn import preprocessing\n",
    "from tqdm._tqdm_notebook import tqdm_notebook\n",
    "from sklearn.metrics import average_precision_score\n",
    "tqdm_notebook.pandas(desc=\"progress: \")"
   ]
  },
  {
   "cell_type": "code",
   "execution_count": 2,
   "metadata": {
    "execution": {
     "iopub.execute_input": "2020-11-16T01:49:05.657322Z",
     "iopub.status.busy": "2020-11-16T01:49:05.656593Z",
     "iopub.status.idle": "2020-11-16T01:49:27.113850Z",
     "shell.execute_reply": "2020-11-16T01:49:27.113150Z"
    },
    "papermill": {
     "duration": 21.485974,
     "end_time": "2020-11-16T01:49:27.113997",
     "exception": false,
     "start_time": "2020-11-16T01:49:05.628023",
     "status": "completed"
    },
    "tags": []
   },
   "outputs": [],
   "source": [
    "DIR = \"../input/20201115at/\"\n",
    "train = pd.read_csv(DIR+\"train.csv\")\n",
    "test = pd.read_csv(DIR+\"test.csv\")\n",
    "campaign = pd.read_csv(DIR+\"campaign.csv\")\n",
    "\n",
    "#advertiser_video = pd.read_csv(DIR+\"advertiser_video.csv\")\n",
    "#map_game_feed_native_video_assets = pd.read_csv(DIR+'map_game_feed_native_video_assets.csv')\n",
    "#advertiser_converted_video = pd.read_csv(DIR+\"advertiser_converted_video.csv\")"
   ]
  },
  {
   "cell_type": "markdown",
   "metadata": {
    "papermill": {
     "duration": 0.018062,
     "end_time": "2020-11-16T01:49:27.150611",
     "exception": false,
     "start_time": "2020-11-16T01:49:27.132549",
     "status": "completed"
    },
    "tags": []
   },
   "source": [
    "# preprocess"
   ]
  },
  {
   "cell_type": "code",
   "execution_count": 3,
   "metadata": {
    "execution": {
     "iopub.execute_input": "2020-11-16T01:49:27.439703Z",
     "iopub.status.busy": "2020-11-16T01:49:27.438907Z",
     "iopub.status.idle": "2020-11-16T01:49:38.120245Z",
     "shell.execute_reply": "2020-11-16T01:49:38.119507Z"
    },
    "papermill": {
     "duration": 10.951471,
     "end_time": "2020-11-16T01:49:38.120366",
     "exception": false,
     "start_time": "2020-11-16T01:49:27.168895",
     "status": "completed"
    },
    "tags": []
   },
   "outputs": [],
   "source": [
    "train = train.merge(campaign, left_on=\"campaign_id\", right_on = \"id\", how=\"left\").drop([\"mst_advertiser_id\", \"id\"], axis=1)\n",
    "test = test.merge(campaign, left_on=\"campaign_id\", right_on = \"id\", how=\"left\").drop([\"mst_advertiser_id\", \"id\"], axis=1)\n",
    "\n",
    "\n",
    "#train = merge_all(train, campaign, map_game_feed_native_video_assets, advertiser_video, advertiser_converted_video)\n",
    "#test = merge_all(test, campaign, map_game_feed_native_video_assets, advertiser_video, advertiser_converted_video)"
   ]
  },
  {
   "cell_type": "code",
   "execution_count": 4,
   "metadata": {
    "execution": {
     "iopub.execute_input": "2020-11-16T01:49:38.898398Z",
     "iopub.status.busy": "2020-11-16T01:49:38.897615Z",
     "iopub.status.idle": "2020-11-16T01:49:39.512706Z",
     "shell.execute_reply": "2020-11-16T01:49:39.511721Z"
    },
    "papermill": {
     "duration": 1.373914,
     "end_time": "2020-11-16T01:49:39.512896",
     "exception": false,
     "start_time": "2020-11-16T01:49:38.138982",
     "status": "completed"
    },
    "tags": []
   },
   "outputs": [],
   "source": [
    "train[\"imp_at\"] = pd.to_datetime(train[\"imp_at\"])"
   ]
  },
  {
   "cell_type": "code",
   "execution_count": 5,
   "metadata": {
    "execution": {
     "iopub.execute_input": "2020-11-16T01:49:39.682514Z",
     "iopub.status.busy": "2020-11-16T01:49:39.563283Z",
     "iopub.status.idle": "2020-11-16T01:49:40.746458Z",
     "shell.execute_reply": "2020-11-16T01:49:40.745756Z"
    },
    "papermill": {
     "duration": 1.213943,
     "end_time": "2020-11-16T01:49:40.746606",
     "exception": false,
     "start_time": "2020-11-16T01:49:39.532663",
     "status": "completed"
    },
    "tags": []
   },
   "outputs": [],
   "source": [
    "train.drop(['click_or_view_at', 'cv_at','last_cv_interval', 'last_paid_interval'], axis=1, inplace=True)\n",
    "train.drop(['request_id'], axis=1, inplace=True)\n",
    "test.drop(['request_id'], axis=1, inplace=True)"
   ]
  },
  {
   "cell_type": "code",
   "execution_count": 6,
   "metadata": {
    "execution": {
     "iopub.execute_input": "2020-11-16T01:49:43.285768Z",
     "iopub.status.busy": "2020-11-16T01:49:40.899988Z",
     "iopub.status.idle": "2020-11-16T01:50:31.315025Z",
     "shell.execute_reply": "2020-11-16T01:50:31.314304Z"
    },
    "papermill": {
     "duration": 50.549457,
     "end_time": "2020-11-16T01:50:31.315156",
     "exception": false,
     "start_time": "2020-11-16T01:49:40.765699",
     "status": "completed"
    },
    "tags": []
   },
   "outputs": [
    {
     "name": "stdout",
     "output_type": "stream",
     "text": [
      "advertiser_id\n",
      "app_id\n",
      "campaign_id\n",
      "country_code\n",
      "game_feed_id\n",
      "game_template_id\n",
      "media_app_id\n",
      "os_version\n",
      "uid\n",
      "video_template_id\n",
      "mst_advertiser_order_id\n"
     ]
    }
   ],
   "source": [
    "object_feats = [i for i in train.columns if \"object\" == str(train[i].dtype)]\n",
    "train[object_feats] = train[object_feats].fillna(\"-999\")\n",
    "test[object_feats] = test[object_feats].fillna(\"-999\")\n",
    "\n",
    "for i in object_feats:\n",
    "    print(i)\n",
    "    lbl = preprocessing.LabelEncoder()\n",
    "    lbl.fit(list(pd.concat([train[i], test[i]])))\n",
    "    train[i] = lbl.transform(list(train[i]))\n",
    "    test[i] = lbl.transform(list(test[i]))"
   ]
  },
  {
   "cell_type": "code",
   "execution_count": 7,
   "metadata": {
    "execution": {
     "iopub.execute_input": "2020-11-16T01:50:31.381322Z",
     "iopub.status.busy": "2020-11-16T01:50:31.369322Z",
     "iopub.status.idle": "2020-11-16T01:50:31.401580Z",
     "shell.execute_reply": "2020-11-16T01:50:31.400969Z"
    },
    "papermill": {
     "duration": 0.062889,
     "end_time": "2020-11-16T01:50:31.401698",
     "exception": false,
     "start_time": "2020-11-16T01:50:31.338809",
     "status": "completed"
    },
    "tags": []
   },
   "outputs": [
    {
     "data": {
      "text/html": [
       "<div>\n",
       "<style scoped>\n",
       "    .dataframe tbody tr th:only-of-type {\n",
       "        vertical-align: middle;\n",
       "    }\n",
       "\n",
       "    .dataframe tbody tr th {\n",
       "        vertical-align: top;\n",
       "    }\n",
       "\n",
       "    .dataframe thead th {\n",
       "        text-align: right;\n",
       "    }\n",
       "</style>\n",
       "<table border=\"1\" class=\"dataframe\">\n",
       "  <thead>\n",
       "    <tr style=\"text-align: right;\">\n",
       "      <th></th>\n",
       "      <th>imp_at</th>\n",
       "      <th>target</th>\n",
       "      <th>adnw_id</th>\n",
       "      <th>adspot_id</th>\n",
       "      <th>adspot_video_format_id</th>\n",
       "      <th>advertiser_id</th>\n",
       "      <th>app_id</th>\n",
       "      <th>auction_type_id</th>\n",
       "      <th>campaign_id</th>\n",
       "      <th>category_id</th>\n",
       "      <th>...</th>\n",
       "      <th>max_login_interval</th>\n",
       "      <th>media_app_id</th>\n",
       "      <th>os</th>\n",
       "      <th>os_version</th>\n",
       "      <th>pos</th>\n",
       "      <th>uid</th>\n",
       "      <th>user_type_id</th>\n",
       "      <th>video_template_id</th>\n",
       "      <th>mst_advertiser_order_id</th>\n",
       "      <th>mst_user_type_id</th>\n",
       "    </tr>\n",
       "  </thead>\n",
       "  <tbody>\n",
       "    <tr>\n",
       "      <th>0</th>\n",
       "      <td>2020-04-28 00:04:14.639</td>\n",
       "      <td>0</td>\n",
       "      <td>4</td>\n",
       "      <td>1111</td>\n",
       "      <td>2.0</td>\n",
       "      <td>20</td>\n",
       "      <td>14872</td>\n",
       "      <td>1.0</td>\n",
       "      <td>403</td>\n",
       "      <td>8497</td>\n",
       "      <td>...</td>\n",
       "      <td>2607.0</td>\n",
       "      <td>0</td>\n",
       "      <td>1</td>\n",
       "      <td>87</td>\n",
       "      <td>0</td>\n",
       "      <td>273693</td>\n",
       "      <td>1</td>\n",
       "      <td>6</td>\n",
       "      <td>37</td>\n",
       "      <td>35</td>\n",
       "    </tr>\n",
       "    <tr>\n",
       "      <th>1</th>\n",
       "      <td>2020-04-28 00:09:13.759</td>\n",
       "      <td>0</td>\n",
       "      <td>28</td>\n",
       "      <td>1081</td>\n",
       "      <td>2.0</td>\n",
       "      <td>121</td>\n",
       "      <td>8301</td>\n",
       "      <td>2.0</td>\n",
       "      <td>91</td>\n",
       "      <td>0</td>\n",
       "      <td>...</td>\n",
       "      <td>13540.0</td>\n",
       "      <td>8995</td>\n",
       "      <td>2</td>\n",
       "      <td>152</td>\n",
       "      <td>1</td>\n",
       "      <td>427139</td>\n",
       "      <td>2</td>\n",
       "      <td>4</td>\n",
       "      <td>166</td>\n",
       "      <td>37</td>\n",
       "    </tr>\n",
       "    <tr>\n",
       "      <th>2</th>\n",
       "      <td>2020-04-28 00:09:14.708</td>\n",
       "      <td>0</td>\n",
       "      <td>42</td>\n",
       "      <td>1123</td>\n",
       "      <td>3.0</td>\n",
       "      <td>5</td>\n",
       "      <td>12948</td>\n",
       "      <td>1.0</td>\n",
       "      <td>114</td>\n",
       "      <td>0</td>\n",
       "      <td>...</td>\n",
       "      <td>33725.0</td>\n",
       "      <td>347</td>\n",
       "      <td>1</td>\n",
       "      <td>55</td>\n",
       "      <td>0</td>\n",
       "      <td>1005266</td>\n",
       "      <td>1</td>\n",
       "      <td>0</td>\n",
       "      <td>27</td>\n",
       "      <td>35</td>\n",
       "    </tr>\n",
       "    <tr>\n",
       "      <th>3</th>\n",
       "      <td>2020-04-28 00:10:40.291</td>\n",
       "      <td>0</td>\n",
       "      <td>8</td>\n",
       "      <td>1113</td>\n",
       "      <td>2.0</td>\n",
       "      <td>22</td>\n",
       "      <td>12379</td>\n",
       "      <td>1.0</td>\n",
       "      <td>75</td>\n",
       "      <td>0</td>\n",
       "      <td>...</td>\n",
       "      <td>7377.0</td>\n",
       "      <td>6145</td>\n",
       "      <td>1</td>\n",
       "      <td>91</td>\n",
       "      <td>0</td>\n",
       "      <td>492541</td>\n",
       "      <td>1</td>\n",
       "      <td>7</td>\n",
       "      <td>159</td>\n",
       "      <td>38</td>\n",
       "    </tr>\n",
       "    <tr>\n",
       "      <th>4</th>\n",
       "      <td>2020-04-28 00:11:45.895</td>\n",
       "      <td>0</td>\n",
       "      <td>22</td>\n",
       "      <td>1061</td>\n",
       "      <td>NaN</td>\n",
       "      <td>135</td>\n",
       "      <td>196</td>\n",
       "      <td>4.0</td>\n",
       "      <td>331</td>\n",
       "      <td>0</td>\n",
       "      <td>...</td>\n",
       "      <td>164759.0</td>\n",
       "      <td>2190</td>\n",
       "      <td>1</td>\n",
       "      <td>71</td>\n",
       "      <td>0</td>\n",
       "      <td>698493</td>\n",
       "      <td>1</td>\n",
       "      <td>0</td>\n",
       "      <td>56</td>\n",
       "      <td>35</td>\n",
       "    </tr>\n",
       "  </tbody>\n",
       "</table>\n",
       "<p>5 rows × 32 columns</p>\n",
       "</div>"
      ],
      "text/plain": [
       "                   imp_at  target  adnw_id  adspot_id  adspot_video_format_id  \\\n",
       "0 2020-04-28 00:04:14.639       0        4       1111                     2.0   \n",
       "1 2020-04-28 00:09:13.759       0       28       1081                     2.0   \n",
       "2 2020-04-28 00:09:14.708       0       42       1123                     3.0   \n",
       "3 2020-04-28 00:10:40.291       0        8       1113                     2.0   \n",
       "4 2020-04-28 00:11:45.895       0       22       1061                     NaN   \n",
       "\n",
       "   advertiser_id  app_id  auction_type_id  campaign_id  category_id  ...  \\\n",
       "0             20   14872              1.0          403         8497  ...   \n",
       "1            121    8301              2.0           91            0  ...   \n",
       "2              5   12948              1.0          114            0  ...   \n",
       "3             22   12379              1.0           75            0  ...   \n",
       "4            135     196              4.0          331            0  ...   \n",
       "\n",
       "   max_login_interval  media_app_id  os  os_version  pos      uid  \\\n",
       "0              2607.0             0   1          87    0   273693   \n",
       "1             13540.0          8995   2         152    1   427139   \n",
       "2             33725.0           347   1          55    0  1005266   \n",
       "3              7377.0          6145   1          91    0   492541   \n",
       "4            164759.0          2190   1          71    0   698493   \n",
       "\n",
       "   user_type_id  video_template_id  mst_advertiser_order_id  mst_user_type_id  \n",
       "0             1                  6                       37                35  \n",
       "1             2                  4                      166                37  \n",
       "2             1                  0                       27                35  \n",
       "3             1                  7                      159                38  \n",
       "4             1                  0                       56                35  \n",
       "\n",
       "[5 rows x 32 columns]"
      ]
     },
     "execution_count": 7,
     "metadata": {},
     "output_type": "execute_result"
    }
   ],
   "source": [
    "train.head()"
   ]
  },
  {
   "cell_type": "markdown",
   "metadata": {
    "papermill": {
     "duration": 0.024038,
     "end_time": "2020-11-16T01:50:31.450279",
     "exception": false,
     "start_time": "2020-11-16T01:50:31.426241",
     "status": "completed"
    },
    "tags": []
   },
   "source": [
    "# fe"
   ]
  },
  {
   "cell_type": "code",
   "execution_count": 8,
   "metadata": {
    "execution": {
     "iopub.execute_input": "2020-11-16T01:50:31.504151Z",
     "iopub.status.busy": "2020-11-16T01:50:31.503081Z",
     "iopub.status.idle": "2020-11-16T01:50:31.506330Z",
     "shell.execute_reply": "2020-11-16T01:50:31.505696Z"
    },
    "papermill": {
     "duration": 0.031718,
     "end_time": "2020-11-16T01:50:31.506450",
     "exception": false,
     "start_time": "2020-11-16T01:50:31.474732",
     "status": "completed"
    },
    "tags": []
   },
   "outputs": [],
   "source": [
    "#train[\"type\"] = \"train\"\n",
    "#test[\"type\"] = \"test\"\n",
    "#all_df = pd.concat([train, test])"
   ]
  },
  {
   "cell_type": "code",
   "execution_count": 9,
   "metadata": {
    "execution": {
     "iopub.execute_input": "2020-11-16T01:50:31.560904Z",
     "iopub.status.busy": "2020-11-16T01:50:31.559778Z",
     "iopub.status.idle": "2020-11-16T01:50:31.563117Z",
     "shell.execute_reply": "2020-11-16T01:50:31.562358Z"
    },
    "papermill": {
     "duration": 0.032241,
     "end_time": "2020-11-16T01:50:31.563238",
     "exception": false,
     "start_time": "2020-11-16T01:50:31.530997",
     "status": "completed"
    },
    "tags": []
   },
   "outputs": [],
   "source": [
    "# cumsum from click by uid\n",
    "#tmp1 = all_df.groupby(['uid'])['from_click'].progress_apply(lambda x: pd.DataFrame([0]+list(x.cumsum()[:-1]))).reset_index(drop=True).values\n",
    "#tmp1 = np.array(tmp1, dtype=float)\n",
    "# cumsum total num by uid\n",
    "#tmp2 = all_df.groupby(['uid']).cumcount().values\n",
    "#tmp2 = np.array(tmp2, dtype=float).reshape(-1,1)\n",
    "# https://stackoverflow.com/questions/26248654/how-to-return-0-with-divide-by-zero\n",
    "#from_click_ratio = np.divide(tmp1, tmp2, out=np.ones_like(tmp1)*-1, where=tmp2!=0)\n",
    "#all_df[\"click_ratio\"] = from_click_ratio"
   ]
  },
  {
   "cell_type": "code",
   "execution_count": 10,
   "metadata": {
    "execution": {
     "iopub.execute_input": "2020-11-16T01:50:31.617850Z",
     "iopub.status.busy": "2020-11-16T01:50:31.616912Z",
     "iopub.status.idle": "2020-11-16T01:50:31.620230Z",
     "shell.execute_reply": "2020-11-16T01:50:31.619535Z"
    },
    "papermill": {
     "duration": 0.032396,
     "end_time": "2020-11-16T01:50:31.620350",
     "exception": false,
     "start_time": "2020-11-16T01:50:31.587954",
     "status": "completed"
    },
    "tags": []
   },
   "outputs": [],
   "source": [
    "#train = all_df[all_df.type=\"train\"].reset_index(drop=True)\n",
    "#test = all_df[all_df.type=\"test\"].reset_index(drop=True)"
   ]
  },
  {
   "cell_type": "markdown",
   "metadata": {
    "papermill": {
     "duration": 0.024534,
     "end_time": "2020-11-16T01:50:31.669949",
     "exception": false,
     "start_time": "2020-11-16T01:50:31.645415",
     "status": "completed"
    },
    "tags": []
   },
   "source": [
    "# separation for validation"
   ]
  },
  {
   "cell_type": "code",
   "execution_count": 11,
   "metadata": {
    "execution": {
     "iopub.execute_input": "2020-11-16T01:50:31.725541Z",
     "iopub.status.busy": "2020-11-16T01:50:31.724762Z",
     "iopub.status.idle": "2020-11-16T01:50:32.197698Z",
     "shell.execute_reply": "2020-11-16T01:50:32.197052Z"
    },
    "papermill": {
     "duration": 0.503058,
     "end_time": "2020-11-16T01:50:32.197828",
     "exception": false,
     "start_time": "2020-11-16T01:50:31.694770",
     "status": "completed"
    },
    "tags": []
   },
   "outputs": [],
   "source": [
    "mask = train.imp_at > \"2020-05-21\"\n",
    "valid = train.loc[mask].copy()\n",
    "train = train.loc[~mask]"
   ]
  },
  {
   "cell_type": "code",
   "execution_count": 12,
   "metadata": {
    "execution": {
     "iopub.execute_input": "2020-11-16T01:50:32.418798Z",
     "iopub.status.busy": "2020-11-16T01:50:32.351743Z",
     "iopub.status.idle": "2020-11-16T01:50:32.507535Z",
     "shell.execute_reply": "2020-11-16T01:50:32.506924Z"
    },
    "papermill": {
     "duration": 0.284691,
     "end_time": "2020-11-16T01:50:32.507681",
     "exception": false,
     "start_time": "2020-11-16T01:50:32.222990",
     "status": "completed"
    },
    "tags": []
   },
   "outputs": [],
   "source": [
    "remove_features = [\"imp_at\"]\n",
    "    \n",
    "#for i in X_train.columns:\n",
    "#    if (X_train[i].std() == 0) and i not in remove_features:\n",
    "#        remove_features.append(i)\n",
    "    \n",
    "train = train.drop(remove_features, axis=1)\n",
    "valid = valid.drop(remove_features, axis=1)\n",
    "test = test.drop(remove_features, axis=1)"
   ]
  },
  {
   "cell_type": "code",
   "execution_count": 13,
   "metadata": {
    "execution": {
     "iopub.execute_input": "2020-11-16T01:50:32.564160Z",
     "iopub.status.busy": "2020-11-16T01:50:32.563264Z",
     "iopub.status.idle": "2020-11-16T01:50:32.567801Z",
     "shell.execute_reply": "2020-11-16T01:50:32.567156Z"
    },
    "papermill": {
     "duration": 0.03502,
     "end_time": "2020-11-16T01:50:32.567927",
     "exception": false,
     "start_time": "2020-11-16T01:50:32.532907",
     "status": "completed"
    },
    "tags": []
   },
   "outputs": [
    {
     "data": {
      "text/plain": [
       "((1568715, 31), (428880, 31))"
      ]
     },
     "execution_count": 13,
     "metadata": {},
     "output_type": "execute_result"
    }
   ],
   "source": [
    "train.shape, valid.shape"
   ]
  },
  {
   "cell_type": "code",
   "execution_count": 14,
   "metadata": {
    "execution": {
     "iopub.execute_input": "2020-11-16T01:50:32.645511Z",
     "iopub.status.busy": "2020-11-16T01:50:32.644442Z",
     "iopub.status.idle": "2020-11-16T01:50:32.649354Z",
     "shell.execute_reply": "2020-11-16T01:50:32.648611Z"
    },
    "papermill": {
     "duration": 0.055731,
     "end_time": "2020-11-16T01:50:32.649480",
     "exception": false,
     "start_time": "2020-11-16T01:50:32.593749",
     "status": "completed"
    },
    "tags": []
   },
   "outputs": [
    {
     "data": {
      "text/html": [
       "<div>\n",
       "<style scoped>\n",
       "    .dataframe tbody tr th:only-of-type {\n",
       "        vertical-align: middle;\n",
       "    }\n",
       "\n",
       "    .dataframe tbody tr th {\n",
       "        vertical-align: top;\n",
       "    }\n",
       "\n",
       "    .dataframe thead th {\n",
       "        text-align: right;\n",
       "    }\n",
       "</style>\n",
       "<table border=\"1\" class=\"dataframe\">\n",
       "  <thead>\n",
       "    <tr style=\"text-align: right;\">\n",
       "      <th></th>\n",
       "      <th>target</th>\n",
       "      <th>adnw_id</th>\n",
       "      <th>adspot_id</th>\n",
       "      <th>adspot_video_format_id</th>\n",
       "      <th>advertiser_id</th>\n",
       "      <th>app_id</th>\n",
       "      <th>auction_type_id</th>\n",
       "      <th>campaign_id</th>\n",
       "      <th>category_id</th>\n",
       "      <th>country_code</th>\n",
       "      <th>...</th>\n",
       "      <th>max_login_interval</th>\n",
       "      <th>media_app_id</th>\n",
       "      <th>os</th>\n",
       "      <th>os_version</th>\n",
       "      <th>pos</th>\n",
       "      <th>uid</th>\n",
       "      <th>user_type_id</th>\n",
       "      <th>video_template_id</th>\n",
       "      <th>mst_advertiser_order_id</th>\n",
       "      <th>mst_user_type_id</th>\n",
       "    </tr>\n",
       "  </thead>\n",
       "  <tbody>\n",
       "    <tr>\n",
       "      <th>0</th>\n",
       "      <td>0</td>\n",
       "      <td>4</td>\n",
       "      <td>1111</td>\n",
       "      <td>2.0</td>\n",
       "      <td>20</td>\n",
       "      <td>14872</td>\n",
       "      <td>1.0</td>\n",
       "      <td>403</td>\n",
       "      <td>8497</td>\n",
       "      <td>1</td>\n",
       "      <td>...</td>\n",
       "      <td>2607.0</td>\n",
       "      <td>0</td>\n",
       "      <td>1</td>\n",
       "      <td>87</td>\n",
       "      <td>0</td>\n",
       "      <td>273693</td>\n",
       "      <td>1</td>\n",
       "      <td>6</td>\n",
       "      <td>37</td>\n",
       "      <td>35</td>\n",
       "    </tr>\n",
       "    <tr>\n",
       "      <th>1</th>\n",
       "      <td>0</td>\n",
       "      <td>28</td>\n",
       "      <td>1081</td>\n",
       "      <td>2.0</td>\n",
       "      <td>121</td>\n",
       "      <td>8301</td>\n",
       "      <td>2.0</td>\n",
       "      <td>91</td>\n",
       "      <td>0</td>\n",
       "      <td>1</td>\n",
       "      <td>...</td>\n",
       "      <td>13540.0</td>\n",
       "      <td>8995</td>\n",
       "      <td>2</td>\n",
       "      <td>152</td>\n",
       "      <td>1</td>\n",
       "      <td>427139</td>\n",
       "      <td>2</td>\n",
       "      <td>4</td>\n",
       "      <td>166</td>\n",
       "      <td>37</td>\n",
       "    </tr>\n",
       "    <tr>\n",
       "      <th>2</th>\n",
       "      <td>0</td>\n",
       "      <td>42</td>\n",
       "      <td>1123</td>\n",
       "      <td>3.0</td>\n",
       "      <td>5</td>\n",
       "      <td>12948</td>\n",
       "      <td>1.0</td>\n",
       "      <td>114</td>\n",
       "      <td>0</td>\n",
       "      <td>1</td>\n",
       "      <td>...</td>\n",
       "      <td>33725.0</td>\n",
       "      <td>347</td>\n",
       "      <td>1</td>\n",
       "      <td>55</td>\n",
       "      <td>0</td>\n",
       "      <td>1005266</td>\n",
       "      <td>1</td>\n",
       "      <td>0</td>\n",
       "      <td>27</td>\n",
       "      <td>35</td>\n",
       "    </tr>\n",
       "    <tr>\n",
       "      <th>3</th>\n",
       "      <td>0</td>\n",
       "      <td>8</td>\n",
       "      <td>1113</td>\n",
       "      <td>2.0</td>\n",
       "      <td>22</td>\n",
       "      <td>12379</td>\n",
       "      <td>1.0</td>\n",
       "      <td>75</td>\n",
       "      <td>0</td>\n",
       "      <td>1</td>\n",
       "      <td>...</td>\n",
       "      <td>7377.0</td>\n",
       "      <td>6145</td>\n",
       "      <td>1</td>\n",
       "      <td>91</td>\n",
       "      <td>0</td>\n",
       "      <td>492541</td>\n",
       "      <td>1</td>\n",
       "      <td>7</td>\n",
       "      <td>159</td>\n",
       "      <td>38</td>\n",
       "    </tr>\n",
       "    <tr>\n",
       "      <th>4</th>\n",
       "      <td>0</td>\n",
       "      <td>22</td>\n",
       "      <td>1061</td>\n",
       "      <td>NaN</td>\n",
       "      <td>135</td>\n",
       "      <td>196</td>\n",
       "      <td>4.0</td>\n",
       "      <td>331</td>\n",
       "      <td>0</td>\n",
       "      <td>1</td>\n",
       "      <td>...</td>\n",
       "      <td>164759.0</td>\n",
       "      <td>2190</td>\n",
       "      <td>1</td>\n",
       "      <td>71</td>\n",
       "      <td>0</td>\n",
       "      <td>698493</td>\n",
       "      <td>1</td>\n",
       "      <td>0</td>\n",
       "      <td>56</td>\n",
       "      <td>35</td>\n",
       "    </tr>\n",
       "  </tbody>\n",
       "</table>\n",
       "<p>5 rows × 31 columns</p>\n",
       "</div>"
      ],
      "text/plain": [
       "   target  adnw_id  adspot_id  adspot_video_format_id  advertiser_id  app_id  \\\n",
       "0       0        4       1111                     2.0             20   14872   \n",
       "1       0       28       1081                     2.0            121    8301   \n",
       "2       0       42       1123                     3.0              5   12948   \n",
       "3       0        8       1113                     2.0             22   12379   \n",
       "4       0       22       1061                     NaN            135     196   \n",
       "\n",
       "   auction_type_id  campaign_id  category_id  country_code  ...  \\\n",
       "0              1.0          403         8497             1  ...   \n",
       "1              2.0           91            0             1  ...   \n",
       "2              1.0          114            0             1  ...   \n",
       "3              1.0           75            0             1  ...   \n",
       "4              4.0          331            0             1  ...   \n",
       "\n",
       "   max_login_interval  media_app_id  os  os_version  pos      uid  \\\n",
       "0              2607.0             0   1          87    0   273693   \n",
       "1             13540.0          8995   2         152    1   427139   \n",
       "2             33725.0           347   1          55    0  1005266   \n",
       "3              7377.0          6145   1          91    0   492541   \n",
       "4            164759.0          2190   1          71    0   698493   \n",
       "\n",
       "   user_type_id  video_template_id  mst_advertiser_order_id  mst_user_type_id  \n",
       "0             1                  6                       37                35  \n",
       "1             2                  4                      166                37  \n",
       "2             1                  0                       27                35  \n",
       "3             1                  7                      159                38  \n",
       "4             1                  0                       56                35  \n",
       "\n",
       "[5 rows x 31 columns]"
      ]
     },
     "execution_count": 14,
     "metadata": {},
     "output_type": "execute_result"
    }
   ],
   "source": [
    "train.head()"
   ]
  },
  {
   "cell_type": "markdown",
   "metadata": {
    "papermill": {
     "duration": 0.026404,
     "end_time": "2020-11-16T01:50:32.702735",
     "exception": false,
     "start_time": "2020-11-16T01:50:32.676331",
     "status": "completed"
    },
    "tags": []
   },
   "source": [
    "# modelling"
   ]
  },
  {
   "cell_type": "code",
   "execution_count": 15,
   "metadata": {
    "_cell_guid": "79c7e3d0-c299-4dcb-8224-4455121ee9b0",
    "_uuid": "d629ff2d2480ee46fbb7e2d37f6b5fab8052498a",
    "execution": {
     "iopub.execute_input": "2020-11-16T01:50:32.773408Z",
     "iopub.status.busy": "2020-11-16T01:50:32.770136Z",
     "iopub.status.idle": "2020-11-16T01:55:13.277281Z",
     "shell.execute_reply": "2020-11-16T01:55:13.278042Z"
    },
    "papermill": {
     "duration": 280.548744,
     "end_time": "2020-11-16T01:55:13.278247",
     "exception": false,
     "start_time": "2020-11-16T01:50:32.729503",
     "status": "completed"
    },
    "tags": []
   },
   "outputs": [
    {
     "name": "stderr",
     "output_type": "stream",
     "text": [
      "/opt/conda/lib/python3.7/site-packages/lightgbm/basic.py:1295: UserWarning: categorical_feature in Dataset is overridden.\n",
      "New categorical_feature is ['advertiser_id', 'app_id', 'campaign_id', 'country_code', 'game_feed_id', 'game_template_id', 'media_app_id', 'mst_advertiser_order_id', 'os_version', 'uid', 'video_template_id']\n",
      "  'New categorical_feature is {}'.format(sorted(list(categorical_feature))))\n"
     ]
    },
    {
     "name": "stdout",
     "output_type": "stream",
     "text": [
      "Training until validation scores don't improve for 20 rounds\n",
      "[10]\ttraining's pr_auc: 0.214462\tvalid_1's pr_auc: 0.177802\n",
      "[20]\ttraining's pr_auc: 0.221781\tvalid_1's pr_auc: 0.181468\n",
      "[30]\ttraining's pr_auc: 0.228937\tvalid_1's pr_auc: 0.188282\n",
      "[40]\ttraining's pr_auc: 0.237917\tvalid_1's pr_auc: 0.192951\n",
      "[50]\ttraining's pr_auc: 0.24398\tvalid_1's pr_auc: 0.195934\n",
      "[60]\ttraining's pr_auc: 0.249427\tvalid_1's pr_auc: 0.198244\n",
      "[70]\ttraining's pr_auc: 0.253702\tvalid_1's pr_auc: 0.199983\n",
      "[80]\ttraining's pr_auc: 0.257764\tvalid_1's pr_auc: 0.201727\n",
      "[90]\ttraining's pr_auc: 0.260622\tvalid_1's pr_auc: 0.202683\n",
      "[100]\ttraining's pr_auc: 0.26323\tvalid_1's pr_auc: 0.203209\n",
      "[110]\ttraining's pr_auc: 0.265844\tvalid_1's pr_auc: 0.203871\n",
      "[120]\ttraining's pr_auc: 0.268632\tvalid_1's pr_auc: 0.204406\n",
      "[130]\ttraining's pr_auc: 0.270421\tvalid_1's pr_auc: 0.204867\n",
      "[140]\ttraining's pr_auc: 0.272262\tvalid_1's pr_auc: 0.205237\n",
      "[150]\ttraining's pr_auc: 0.274049\tvalid_1's pr_auc: 0.205878\n",
      "[160]\ttraining's pr_auc: 0.276391\tvalid_1's pr_auc: 0.206229\n",
      "[170]\ttraining's pr_auc: 0.278233\tvalid_1's pr_auc: 0.206179\n",
      "[180]\ttraining's pr_auc: 0.280019\tvalid_1's pr_auc: 0.2066\n",
      "[190]\ttraining's pr_auc: 0.28116\tvalid_1's pr_auc: 0.207065\n",
      "[200]\ttraining's pr_auc: 0.282646\tvalid_1's pr_auc: 0.207046\n",
      "[210]\ttraining's pr_auc: 0.283893\tvalid_1's pr_auc: 0.207272\n",
      "[220]\ttraining's pr_auc: 0.285451\tvalid_1's pr_auc: 0.207479\n",
      "[230]\ttraining's pr_auc: 0.287812\tvalid_1's pr_auc: 0.207537\n",
      "[240]\ttraining's pr_auc: 0.288698\tvalid_1's pr_auc: 0.207794\n",
      "[250]\ttraining's pr_auc: 0.290253\tvalid_1's pr_auc: 0.208113\n",
      "[260]\ttraining's pr_auc: 0.291694\tvalid_1's pr_auc: 0.208189\n",
      "[270]\ttraining's pr_auc: 0.293154\tvalid_1's pr_auc: 0.208402\n",
      "[280]\ttraining's pr_auc: 0.29473\tvalid_1's pr_auc: 0.208154\n",
      "Early stopping, best iteration is:\n",
      "[268]\ttraining's pr_auc: 0.292803\tvalid_1's pr_auc: 0.208463\n",
      "average precision score = 0.20846319785814973\n"
     ]
    }
   ],
   "source": [
    "lgbm_params = {'objective': 'binary', 'metric': 'None', 'boosting_type': 'gbdt',\n",
    "               'tree_learner': 'serial', 'learning_rate': 0.1, \"num_leaves\": 10, 'random_seed':44,'max_depth': 5}\n",
    "\n",
    "def pr_auc_metric(y_predicted, y_true):\n",
    "    return 'pr_auc', average_precision_score(y_true.get_label(), y_predicted), True\n",
    "\n",
    "y_train = train.target.copy()\n",
    "X_train = train.drop(['target'],axis=1).copy()\n",
    "y_valid = valid.target.copy()\n",
    "X_valid = valid.drop(['target'],axis=1).copy()\n",
    "    \n",
    "valid_lgb = pd.DataFrame(np.zeros([X_train.shape[0]]))\n",
    "real = np.array([])\n",
    "features_list = [i for i in X_train.columns]\n",
    "feature_importance_df = pd.DataFrame(features_list, columns=[\"Feature\"])\n",
    "        \n",
    "lgb_train = lgb.Dataset(X_train, y_train)\n",
    "lgb_eval = lgb.Dataset(X_valid, y_valid, reference=lgb_train)\n",
    "        \n",
    "model = lgb.train(lgbm_params, lgb_train,valid_sets=[lgb_train, lgb_eval],\n",
    "       num_boost_round=10000,early_stopping_rounds=20,verbose_eval = 10, feval=pr_auc_metric, categorical_feature = sorted(object_feats))\n",
    "        \n",
    "valid_predict = model.predict(X_valid, num_iteration = model.best_iteration)\n",
    "feature_importance_df[\"Importance\"] = model.feature_importance()\n",
    "        \n",
    "#feature_importance_df[\"Average\"] = np.mean(feature_importance_df.iloc[:,1:n_folds+1], axis=1)\n",
    "#feature_importance_df[\"Std\"] = np.std(feature_importance_df.iloc[:,1:n_folds+1], axis=1)\n",
    "#feature_importance_df[\"Cv\"] = feature_importance_df[\"Std\"] / feature_importance_df[\"Average\"]\n",
    "\n",
    "score = average_precision_score(y_valid, valid_predict)\n",
    "print(\"average precision score = {}\".format(score))\n",
    "pred_value = model.predict(test, num_iteration = model.best_iteration)"
   ]
  },
  {
   "cell_type": "code",
   "execution_count": 16,
   "metadata": {
    "execution": {
     "iopub.execute_input": "2020-11-16T01:55:13.392356Z",
     "iopub.status.busy": "2020-11-16T01:55:13.391194Z",
     "iopub.status.idle": "2020-11-16T01:55:13.396389Z",
     "shell.execute_reply": "2020-11-16T01:55:13.395824Z"
    },
    "papermill": {
     "duration": 0.070537,
     "end_time": "2020-11-16T01:55:13.396512",
     "exception": false,
     "start_time": "2020-11-16T01:55:13.325975",
     "status": "completed"
    },
    "tags": []
   },
   "outputs": [
    {
     "data": {
      "text/html": [
       "<div>\n",
       "<style scoped>\n",
       "    .dataframe tbody tr th:only-of-type {\n",
       "        vertical-align: middle;\n",
       "    }\n",
       "\n",
       "    .dataframe tbody tr th {\n",
       "        vertical-align: top;\n",
       "    }\n",
       "\n",
       "    .dataframe thead th {\n",
       "        text-align: right;\n",
       "    }\n",
       "</style>\n",
       "<table border=\"1\" class=\"dataframe\">\n",
       "  <thead>\n",
       "    <tr style=\"text-align: right;\">\n",
       "      <th></th>\n",
       "      <th>Feature</th>\n",
       "      <th>Importance</th>\n",
       "    </tr>\n",
       "  </thead>\n",
       "  <tbody>\n",
       "    <tr>\n",
       "      <th>13</th>\n",
       "      <td>game_feed_id</td>\n",
       "      <td>442</td>\n",
       "    </tr>\n",
       "    <tr>\n",
       "      <th>4</th>\n",
       "      <td>app_id</td>\n",
       "      <td>437</td>\n",
       "    </tr>\n",
       "    <tr>\n",
       "      <th>25</th>\n",
       "      <td>uid</td>\n",
       "      <td>398</td>\n",
       "    </tr>\n",
       "    <tr>\n",
       "      <th>6</th>\n",
       "      <td>campaign_id</td>\n",
       "      <td>277</td>\n",
       "    </tr>\n",
       "    <tr>\n",
       "      <th>21</th>\n",
       "      <td>media_app_id</td>\n",
       "      <td>181</td>\n",
       "    </tr>\n",
       "    <tr>\n",
       "      <th>9</th>\n",
       "      <td>first_login_interval</td>\n",
       "      <td>117</td>\n",
       "    </tr>\n",
       "    <tr>\n",
       "      <th>18</th>\n",
       "      <td>last_login_interval</td>\n",
       "      <td>90</td>\n",
       "    </tr>\n",
       "    <tr>\n",
       "      <th>20</th>\n",
       "      <td>max_login_interval</td>\n",
       "      <td>81</td>\n",
       "    </tr>\n",
       "    <tr>\n",
       "      <th>3</th>\n",
       "      <td>advertiser_id</td>\n",
       "      <td>68</td>\n",
       "    </tr>\n",
       "    <tr>\n",
       "      <th>19</th>\n",
       "      <td>login_frequency</td>\n",
       "      <td>59</td>\n",
       "    </tr>\n",
       "    <tr>\n",
       "      <th>28</th>\n",
       "      <td>mst_advertiser_order_id</td>\n",
       "      <td>48</td>\n",
       "    </tr>\n",
       "    <tr>\n",
       "      <th>17</th>\n",
       "      <td>item_id</td>\n",
       "      <td>47</td>\n",
       "    </tr>\n",
       "    <tr>\n",
       "      <th>10</th>\n",
       "      <td>frequency</td>\n",
       "      <td>29</td>\n",
       "    </tr>\n",
       "    <tr>\n",
       "      <th>29</th>\n",
       "      <td>mst_user_type_id</td>\n",
       "      <td>24</td>\n",
       "    </tr>\n",
       "    <tr>\n",
       "      <th>23</th>\n",
       "      <td>os_version</td>\n",
       "      <td>23</td>\n",
       "    </tr>\n",
       "    <tr>\n",
       "      <th>11</th>\n",
       "      <td>from_click</td>\n",
       "      <td>22</td>\n",
       "    </tr>\n",
       "    <tr>\n",
       "      <th>1</th>\n",
       "      <td>adspot_id</td>\n",
       "      <td>22</td>\n",
       "    </tr>\n",
       "    <tr>\n",
       "      <th>2</th>\n",
       "      <td>adspot_video_format_id</td>\n",
       "      <td>15</td>\n",
       "    </tr>\n",
       "    <tr>\n",
       "      <th>0</th>\n",
       "      <td>adnw_id</td>\n",
       "      <td>9</td>\n",
       "    </tr>\n",
       "    <tr>\n",
       "      <th>14</th>\n",
       "      <td>game_template_id</td>\n",
       "      <td>7</td>\n",
       "    </tr>\n",
       "    <tr>\n",
       "      <th>15</th>\n",
       "      <td>header_bidding</td>\n",
       "      <td>7</td>\n",
       "    </tr>\n",
       "    <tr>\n",
       "      <th>22</th>\n",
       "      <td>os</td>\n",
       "      <td>3</td>\n",
       "    </tr>\n",
       "    <tr>\n",
       "      <th>16</th>\n",
       "      <td>is_interstitial</td>\n",
       "      <td>2</td>\n",
       "    </tr>\n",
       "    <tr>\n",
       "      <th>7</th>\n",
       "      <td>category_id</td>\n",
       "      <td>2</td>\n",
       "    </tr>\n",
       "    <tr>\n",
       "      <th>26</th>\n",
       "      <td>user_type_id</td>\n",
       "      <td>1</td>\n",
       "    </tr>\n",
       "    <tr>\n",
       "      <th>5</th>\n",
       "      <td>auction_type_id</td>\n",
       "      <td>1</td>\n",
       "    </tr>\n",
       "    <tr>\n",
       "      <th>12</th>\n",
       "      <td>game_feed_asset_type_id</td>\n",
       "      <td>0</td>\n",
       "    </tr>\n",
       "    <tr>\n",
       "      <th>8</th>\n",
       "      <td>country_code</td>\n",
       "      <td>0</td>\n",
       "    </tr>\n",
       "    <tr>\n",
       "      <th>24</th>\n",
       "      <td>pos</td>\n",
       "      <td>0</td>\n",
       "    </tr>\n",
       "    <tr>\n",
       "      <th>27</th>\n",
       "      <td>video_template_id</td>\n",
       "      <td>0</td>\n",
       "    </tr>\n",
       "  </tbody>\n",
       "</table>\n",
       "</div>"
      ],
      "text/plain": [
       "                    Feature  Importance\n",
       "13             game_feed_id         442\n",
       "4                    app_id         437\n",
       "25                      uid         398\n",
       "6               campaign_id         277\n",
       "21             media_app_id         181\n",
       "9      first_login_interval         117\n",
       "18      last_login_interval          90\n",
       "20       max_login_interval          81\n",
       "3             advertiser_id          68\n",
       "19          login_frequency          59\n",
       "28  mst_advertiser_order_id          48\n",
       "17                  item_id          47\n",
       "10                frequency          29\n",
       "29         mst_user_type_id          24\n",
       "23               os_version          23\n",
       "11               from_click          22\n",
       "1                 adspot_id          22\n",
       "2    adspot_video_format_id          15\n",
       "0                   adnw_id           9\n",
       "14         game_template_id           7\n",
       "15           header_bidding           7\n",
       "22                       os           3\n",
       "16          is_interstitial           2\n",
       "7               category_id           2\n",
       "26             user_type_id           1\n",
       "5           auction_type_id           1\n",
       "12  game_feed_asset_type_id           0\n",
       "8              country_code           0\n",
       "24                      pos           0\n",
       "27        video_template_id           0"
      ]
     },
     "execution_count": 16,
     "metadata": {},
     "output_type": "execute_result"
    }
   ],
   "source": [
    "feature_importance_df.sort_values(\"Importance\", ascending=False)"
   ]
  },
  {
   "cell_type": "markdown",
   "metadata": {
    "papermill": {
     "duration": 0.040209,
     "end_time": "2020-11-16T01:55:13.477881",
     "exception": false,
     "start_time": "2020-11-16T01:55:13.437672",
     "status": "completed"
    },
    "tags": []
   },
   "source": [
    "# submission"
   ]
  },
  {
   "cell_type": "code",
   "execution_count": 17,
   "metadata": {
    "execution": {
     "iopub.execute_input": "2020-11-16T01:55:13.567208Z",
     "iopub.status.busy": "2020-11-16T01:55:13.566448Z",
     "iopub.status.idle": "2020-11-16T01:55:15.598793Z",
     "shell.execute_reply": "2020-11-16T01:55:15.598130Z"
    },
    "papermill": {
     "duration": 2.080602,
     "end_time": "2020-11-16T01:55:15.598931",
     "exception": false,
     "start_time": "2020-11-16T01:55:13.518329",
     "status": "completed"
    },
    "tags": []
   },
   "outputs": [],
   "source": [
    "lgb_sub = pd.read_csv(DIR + \"atmaCup7__sample_submission.csv\")\n",
    "lgb_sub[\"target\"] = pred_value\n",
    "lgb_sub.to_csv(\"atmacup7_lgb\"+str(score)[:-10]+\".csv\", index = False)"
   ]
  },
  {
   "cell_type": "code",
   "execution_count": null,
   "metadata": {
    "papermill": {
     "duration": 0.040608,
     "end_time": "2020-11-16T01:55:15.680408",
     "exception": false,
     "start_time": "2020-11-16T01:55:15.639800",
     "status": "completed"
    },
    "tags": []
   },
   "outputs": [],
   "source": []
  }
 ],
 "metadata": {
  "kernelspec": {
   "display_name": "Python 3",
   "language": "python",
   "name": "python3"
  },
  "language_info": {
   "codemirror_mode": {
    "name": "ipython",
    "version": 3
   },
   "file_extension": ".py",
   "mimetype": "text/x-python",
   "name": "python",
   "nbconvert_exporter": "python",
   "pygments_lexer": "ipython3",
   "version": "3.7.6"
  },
  "papermill": {
   "duration": 375.727619,
   "end_time": "2020-11-16T01:55:15.828916",
   "environment_variables": {},
   "exception": null,
   "input_path": "__notebook__.ipynb",
   "output_path": "__notebook__.ipynb",
   "parameters": {},
   "start_time": "2020-11-16T01:49:00.101297",
   "version": "2.1.0"
  }
 },
 "nbformat": 4,
 "nbformat_minor": 4
}
