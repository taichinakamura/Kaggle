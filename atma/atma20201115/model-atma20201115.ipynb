{
 "cells": [
  {
   "cell_type": "markdown",
   "metadata": {
    "papermill": {
     "duration": 0.032667,
     "end_time": "2020-11-22T12:35:14.721257",
     "exception": false,
     "start_time": "2020-11-22T12:35:14.688590",
     "status": "completed"
    },
    "tags": []
   },
   "source": [
    "- consider stratified only to save time and memory\n",
    "- cancel data removal"
   ]
  },
  {
   "cell_type": "code",
   "execution_count": 1,
   "metadata": {
    "_cell_guid": "b1076dfc-b9ad-4769-8c92-a6c4dae69d19",
    "_uuid": "8f2839f25d086af736a60e9eeb907d3b93b6e0e5",
    "execution": {
     "iopub.execute_input": "2020-11-22T12:35:14.795033Z",
     "iopub.status.busy": "2020-11-22T12:35:14.794152Z",
     "iopub.status.idle": "2020-11-22T12:35:17.398938Z",
     "shell.execute_reply": "2020-11-22T12:35:17.398152Z"
    },
    "papermill": {
     "duration": 2.646145,
     "end_time": "2020-11-22T12:35:17.399110",
     "exception": false,
     "start_time": "2020-11-22T12:35:14.752965",
     "status": "completed"
    },
    "tags": []
   },
   "outputs": [],
   "source": [
    "import os\n",
    "import warnings\n",
    "import numpy as np\n",
    "import pandas as pd\n",
    "import xgboost as xgb\n",
    "import lightgbm as lgb\n",
    "from datetime import timedelta\n",
    "from sklearn import preprocessing\n",
    "from tqdm.notebook import tqdm_notebook\n",
    "from sklearn.metrics import average_precision_score\n",
    "from sklearn.model_selection import StratifiedKFold\n",
    "from imblearn.under_sampling import RandomUnderSampler\n",
    "from sklearn.feature_extraction.text import TfidfVectorizer\n",
    "from sklearn.decomposition import TruncatedSVD\n",
    "\n",
    "warnings.filterwarnings('ignore')\n",
    "tqdm_notebook.pandas(desc=\"progress: \")"
   ]
  },
  {
   "cell_type": "code",
   "execution_count": 2,
   "metadata": {
    "execution": {
     "iopub.execute_input": "2020-11-22T12:35:17.475070Z",
     "iopub.status.busy": "2020-11-22T12:35:17.474215Z",
     "iopub.status.idle": "2020-11-22T12:35:46.152959Z",
     "shell.execute_reply": "2020-11-22T12:35:46.152034Z"
    },
    "papermill": {
     "duration": 28.722552,
     "end_time": "2020-11-22T12:35:46.153124",
     "exception": false,
     "start_time": "2020-11-22T12:35:17.430572",
     "status": "completed"
    },
    "tags": []
   },
   "outputs": [],
   "source": [
    "DIR = \"../input/20201115at/\"\n",
    "train = pd.read_csv(DIR+\"train.csv\")\n",
    "test = pd.read_csv(DIR+\"test.csv\")\n",
    "campaign = pd.read_csv(DIR+\"campaign.csv\")\n",
    "\n",
    "#advertiser_video = pd.read_csv(DIR+\"advertiser_video.csv\")\n",
    "#map_game_feed_native_video_assets = pd.read_csv(DIR+'map_game_feed_native_video_assets.csv')\n",
    "#advertiser_converted_video = pd.read_csv(DIR+\"advertiser_converted_video.csv\")"
   ]
  },
  {
   "cell_type": "markdown",
   "metadata": {
    "papermill": {
     "duration": 0.03208,
     "end_time": "2020-11-22T12:35:46.219231",
     "exception": false,
     "start_time": "2020-11-22T12:35:46.187151",
     "status": "completed"
    },
    "tags": []
   },
   "source": [
    "# preprocess"
   ]
  },
  {
   "cell_type": "code",
   "execution_count": 3,
   "metadata": {
    "execution": {
     "iopub.execute_input": "2020-11-22T12:35:46.288785Z",
     "iopub.status.busy": "2020-11-22T12:35:46.287708Z",
     "iopub.status.idle": "2020-11-22T12:35:46.291112Z",
     "shell.execute_reply": "2020-11-22T12:35:46.291781Z"
    },
    "papermill": {
     "duration": 0.041099,
     "end_time": "2020-11-22T12:35:46.291972",
     "exception": false,
     "start_time": "2020-11-22T12:35:46.250873",
     "status": "completed"
    },
    "tags": []
   },
   "outputs": [],
   "source": [
    "#agg_df = train.groupby(['advertiser_id'])['target'].sum()\n",
    "#zero_df = agg_df[agg_df == 0]\n",
    "#zero_adver = list(sorted(set(zero_df.index) - set(test.advertiser_id.unique())))\n",
    "#train = train[~train.advertiser_id.isin(zero_adver)].reset_index(drop=True)"
   ]
  },
  {
   "cell_type": "code",
   "execution_count": 4,
   "metadata": {
    "execution": {
     "iopub.execute_input": "2020-11-22T12:35:46.613421Z",
     "iopub.status.busy": "2020-11-22T12:35:46.366323Z",
     "iopub.status.idle": "2020-11-22T12:36:00.542757Z",
     "shell.execute_reply": "2020-11-22T12:36:00.541780Z"
    },
    "papermill": {
     "duration": 14.21945,
     "end_time": "2020-11-22T12:36:00.542919",
     "exception": false,
     "start_time": "2020-11-22T12:35:46.323469",
     "status": "completed"
    },
    "tags": []
   },
   "outputs": [],
   "source": [
    "# with campaign\n",
    "train = train.merge(campaign, left_on=\"campaign_id\", right_on = \"id\", how=\"left\").drop([\"mst_advertiser_id\", \"id\"], axis=1)\n",
    "test = test.merge(campaign, left_on=\"campaign_id\", right_on = \"id\", how=\"left\").drop([\"mst_advertiser_id\", \"id\"], axis=1)"
   ]
  },
  {
   "cell_type": "code",
   "execution_count": 5,
   "metadata": {
    "execution": {
     "iopub.execute_input": "2020-11-22T12:36:01.392777Z",
     "iopub.status.busy": "2020-11-22T12:36:01.391983Z",
     "iopub.status.idle": "2020-11-22T12:36:03.976021Z",
     "shell.execute_reply": "2020-11-22T12:36:03.975282Z"
    },
    "papermill": {
     "duration": 3.399248,
     "end_time": "2020-11-22T12:36:03.976185",
     "exception": false,
     "start_time": "2020-11-22T12:36:00.576937",
     "status": "completed"
    },
    "tags": []
   },
   "outputs": [],
   "source": [
    "train[\"imp_at\"] = pd.to_datetime(train[\"imp_at\"])\n",
    "test[\"imp_at\"] = pd.to_datetime(test[\"imp_at\"])\n",
    "train[\"date\"] = train[\"imp_at\"].dt.date\n",
    "test[\"date\"] = test[\"imp_at\"].dt.date\n",
    "train[\"hour\"] = train[\"imp_at\"].dt.hour\n",
    "test[\"hour\"] = test[\"imp_at\"].dt.hour"
   ]
  },
  {
   "cell_type": "code",
   "execution_count": 6,
   "metadata": {
    "execution": {
     "iopub.execute_input": "2020-11-22T12:36:04.790013Z",
     "iopub.status.busy": "2020-11-22T12:36:04.789190Z",
     "iopub.status.idle": "2020-11-22T12:36:06.758394Z",
     "shell.execute_reply": "2020-11-22T12:36:06.757565Z"
    },
    "papermill": {
     "duration": 2.749252,
     "end_time": "2020-11-22T12:36:06.758551",
     "exception": false,
     "start_time": "2020-11-22T12:36:04.009299",
     "status": "completed"
    },
    "tags": []
   },
   "outputs": [],
   "source": [
    "train[\"click_or_view_at\"] = pd.to_datetime(train[\"click_or_view_at\"])\n",
    "train[\"cv_at\"] = pd.to_datetime(train[\"cv_at\"])"
   ]
  },
  {
   "cell_type": "code",
   "execution_count": 7,
   "metadata": {
    "execution": {
     "iopub.execute_input": "2020-11-22T12:36:06.834559Z",
     "iopub.status.busy": "2020-11-22T12:36:06.833741Z",
     "iopub.status.idle": "2020-11-22T12:36:09.831430Z",
     "shell.execute_reply": "2020-11-22T12:36:09.830770Z"
    },
    "papermill": {
     "duration": 3.040265,
     "end_time": "2020-11-22T12:36:09.831576",
     "exception": false,
     "start_time": "2020-11-22T12:36:06.791311",
     "status": "completed"
    },
    "tags": []
   },
   "outputs": [],
   "source": [
    "# drop because distribution is different\n",
    "train.drop(['os_version'], axis=1, inplace=True)\n",
    "test.drop(['os_version'], axis=1, inplace=True)\n",
    "\n",
    "# noise features?\n",
    "train.drop(['user_type_id', \"category_id\",  \"video_template_id\", \"country_code\", \"game_feed_asset_type_id\", \"header_bidding\"], axis=1, inplace=True)\n",
    "test.drop(['user_type_id', \"category_id\",  \"video_template_id\", \"country_code\", \"game_feed_asset_type_id\", \"header_bidding\"], axis=1, inplace=True)"
   ]
  },
  {
   "cell_type": "code",
   "execution_count": 8,
   "metadata": {
    "execution": {
     "iopub.execute_input": "2020-11-22T12:36:09.913388Z",
     "iopub.status.busy": "2020-11-22T12:36:09.912592Z",
     "iopub.status.idle": "2020-11-22T12:36:47.916245Z",
     "shell.execute_reply": "2020-11-22T12:36:47.915616Z"
    },
    "papermill": {
     "duration": 38.052825,
     "end_time": "2020-11-22T12:36:47.916417",
     "exception": false,
     "start_time": "2020-11-22T12:36:09.863592",
     "status": "completed"
    },
    "tags": []
   },
   "outputs": [],
   "source": [
    "#\n",
    "app_ranking = pd.concat([train, test]).groupby(\"app_id\")[\"uid\"].nunique().reset_index(drop=False)\n",
    "app_ranking.columns = [\"app_id\", \"app_users\"]\n",
    "train = train.merge(app_ranking, on=\"app_id\", how=\"left\")\n",
    "test = test.merge(app_ranking, on=\"app_id\", how=\"left\")\n",
    "\n",
    "#\n",
    "media_app_rank = pd.concat([train, test]).groupby([\"game_feed_id\", \"campaign_id\"])[\"media_app_id\"].nunique().reset_index(drop=False)\n",
    "media_app_rank.columns = [\"game_feed_id\", \"campaign_id\", \"madia_app_num\"]\n",
    "train = train.merge(media_app_rank, on=[\"game_feed_id\", \"campaign_id\"], how=\"left\")\n",
    "test = test.merge(media_app_rank, on=[\"game_feed_id\", \"campaign_id\"], how=\"left\")\n",
    "\n",
    "# \n",
    "campaign_start_date = pd.concat([train, test]).groupby(\"campaign_id\").first().reset_index(drop=False)[[\"campaign_id\", \"date\"]]\n",
    "campaign_start_date.columns = [\"campaign_id\", \"first_date\"]\n",
    "train = train.merge(campaign_start_date, on=[\"campaign_id\"], how=\"left\")\n",
    "test = test.merge(campaign_start_date, on=[\"campaign_id\"], how=\"left\")"
   ]
  },
  {
   "cell_type": "code",
   "execution_count": 9,
   "metadata": {
    "execution": {
     "iopub.execute_input": "2020-11-22T12:36:47.992964Z",
     "iopub.status.busy": "2020-11-22T12:36:47.990282Z",
     "iopub.status.idle": "2020-11-22T12:37:35.905116Z",
     "shell.execute_reply": "2020-11-22T12:37:35.904428Z"
    },
    "papermill": {
     "duration": 47.956227,
     "end_time": "2020-11-22T12:37:35.905248",
     "exception": false,
     "start_time": "2020-11-22T12:36:47.949021",
     "status": "completed"
    },
    "tags": []
   },
   "outputs": [],
   "source": [
    "train[\"days_from_start\"] = (train[\"date\"] - train[\"first_date\"]).apply(lambda x: x.days)\n",
    "test[\"days_from_start\"] = (test[\"date\"] - test[\"first_date\"]).apply(lambda x: x.days)"
   ]
  },
  {
   "cell_type": "code",
   "execution_count": 10,
   "metadata": {
    "execution": {
     "iopub.execute_input": "2020-11-22T12:37:35.987151Z",
     "iopub.status.busy": "2020-11-22T12:37:35.981634Z",
     "iopub.status.idle": "2020-11-22T12:41:42.948301Z",
     "shell.execute_reply": "2020-11-22T12:41:42.947016Z"
    },
    "papermill": {
     "duration": 247.009616,
     "end_time": "2020-11-22T12:41:42.948524",
     "exception": false,
     "start_time": "2020-11-22T12:37:35.938908",
     "status": "completed"
    },
    "tags": []
   },
   "outputs": [
    {
     "name": "stdout",
     "output_type": "stream",
     "text": [
      "advertiser_id\n",
      "campaign_id\n"
     ]
    }
   ],
   "source": [
    "ids = [\"advertiser_id\", \"campaign_id\"]\n",
    "\n",
    "def join(df):\n",
    "    x = [str(e) for e in list(df)]\n",
    "    return \" \".join(x)\n",
    "\n",
    "concatenated_ = pd.concat([train[ids + [\"uid\"]], test[ids + [\"uid\"]]], axis=0).reset_index(drop=True)\n",
    "\n",
    "tfidf_dfs = []\n",
    "tfidf_svd_feats = []\n",
    "for id_ in ids:\n",
    "    print(id_)\n",
    "    docs = concatenated_.groupby(\"uid\")[id_].apply(join)\n",
    "    max_features = int(concatenated_[id_].nunique() * 0.8)\n",
    "    tv = TfidfVectorizer(max_features=max_features)\n",
    "    X = tv.fit_transform(docs)\n",
    "\n",
    "    if id_ == \"advertiser_id\":\n",
    "        n_components = 20\n",
    "    else:\n",
    "        n_components = 80\n",
    "    svd = TruncatedSVD(n_components=n_components)\n",
    "    X = svd.fit_transform(X)\n",
    "    df = pd.DataFrame(X, columns=[f\"tfidf_{id_}_{i}\" for i in range(n_components)])\n",
    "    df.index = docs.index\n",
    "    tfidf_dfs.append(df)\n",
    "    tfidf_svd_feats += [f\"tfidf_{id_}_{i}\" for i in range(n_components)]"
   ]
  },
  {
   "cell_type": "code",
   "execution_count": 11,
   "metadata": {
    "execution": {
     "iopub.execute_input": "2020-11-22T12:41:43.039421Z",
     "iopub.status.busy": "2020-11-22T12:41:43.034510Z",
     "iopub.status.idle": "2020-11-22T12:42:09.265808Z",
     "shell.execute_reply": "2020-11-22T12:42:09.266438Z"
    },
    "papermill": {
     "duration": 26.282882,
     "end_time": "2020-11-22T12:42:09.266650",
     "exception": false,
     "start_time": "2020-11-22T12:41:42.983768",
     "status": "completed"
    },
    "tags": []
   },
   "outputs": [
    {
     "name": "stdout",
     "output_type": "stream",
     "text": [
      "154\n"
     ]
    }
   ],
   "source": [
    "game_feed_target = train.groupby(\"game_feed_id\")[\"target\"].mean().reset_index(drop=False)\n",
    "game_feed_counts = train[\"game_feed_id\"].value_counts().reset_index(drop=False)\n",
    "game_feed_counts.columns = [\"game_feed_id\", \"game_feed_counts\"]\n",
    "game_feed_target = game_feed_target.merge(game_feed_counts, on =\"game_feed_id\", how=\"left\")\n",
    "popular_game_feed = list(game_feed_target[(game_feed_target.target > 0.1) & (game_feed_target.game_feed_counts > 100)][\"game_feed_id\"])\n",
    "print(len(popular_game_feed))\n",
    "\n",
    "train[\"popular_game\"] = train[\"game_feed_id\"].apply(lambda x: 1 if x in popular_game_feed else 0)\n",
    "test[\"popular_game\"] = test[\"game_feed_id\"].apply(lambda x: 1 if x in popular_game_feed else 0)\n",
    "\n",
    "camp_target = train.groupby(\"campaign_id\")[\"target\"].mean().reset_index(drop=False)\n",
    "camp_counts = train[\"campaign_id\"].value_counts().reset_index(drop=False)\n",
    "camp_counts.columns = [\"campaign_id\", \"campaign_counts\"]\n",
    "camp_target = camp_target.merge(camp_counts, on =\"campaign_id\", how=\"left\")\n",
    "popular_campaign = list(camp_target[(camp_target.target > 0.1) & (camp_target.campaign_counts > 100)][\"campaign_id\"])\n",
    "\n",
    "train[\"popular_campaign\"] = train[\"campaign_id\"].apply(lambda x: 1 if x in popular_campaign else 0)\n",
    "test[\"popular_campaign\"] = test[\"campaign_id\"].apply(lambda x: 1 if x in popular_campaign else 0)"
   ]
  },
  {
   "cell_type": "code",
   "execution_count": 12,
   "metadata": {
    "execution": {
     "iopub.execute_input": "2020-11-22T12:42:09.373973Z",
     "iopub.status.busy": "2020-11-22T12:42:09.372763Z",
     "iopub.status.idle": "2020-11-22T12:42:46.735648Z",
     "shell.execute_reply": "2020-11-22T12:42:46.736285Z"
    },
    "papermill": {
     "duration": 37.4346,
     "end_time": "2020-11-22T12:42:46.736503",
     "exception": false,
     "start_time": "2020-11-22T12:42:09.301903",
     "status": "completed"
    },
    "tags": []
   },
   "outputs": [
    {
     "name": "stdout",
     "output_type": "stream",
     "text": [
      "advertiser_id\n",
      "app_id\n",
      "campaign_id\n",
      "game_feed_id\n",
      "game_template_id\n",
      "media_app_id\n",
      "mst_advertiser_order_id\n"
     ]
    }
   ],
   "source": [
    "object_feats = [i for i in train.columns if \"object\" == str(train[i].dtype) \n",
    "                and i != \"request_id\" and i != \"uid\" and i != \"date\" and i != \"hour\" and i !=\"first_date\"]\n",
    "\n",
    "def get_non_overlapping(train: pd.DataFrame, test: pd.DataFrame, column: str):\n",
    "    only_in_train = set(train[column].unique()) - set(test[column].unique())\n",
    "    only_in_test = set(test[column].unique()) - set(train[column].unique())\n",
    "    non_overlapping = only_in_train.union(only_in_test)\n",
    "    return non_overlapping\n",
    "\n",
    "def category2num(train: pd.DataFrame, test: pd.DataFrame, columns: list):\n",
    "    train_ = train.copy()\n",
    "    test_ = test.copy()\n",
    "    for column in columns:\n",
    "        print(column)\n",
    "        non_overlapping = get_non_overlapping(train, test, column)\n",
    "        try:\n",
    "            if train[column].dtype == np.dtype(\"O\"):\n",
    "                # dtypeがobjectなら欠損は'missing' クラスにする\n",
    "                train_[column] = train[column].fillna(\"missing\")\n",
    "                test_[column] = test[column].fillna(\"missing\")\n",
    "                train_[column] = train_[column].map(lambda x: x if x not in non_overlapping else \"other\")\n",
    "                test_[column] = test_[column].map(lambda x: x if x not in non_overlapping else \"other\")\n",
    "            else:\n",
    "                # dtypeがint/floatなら欠損は'-1'とする\n",
    "                train_[column] = train[column].fillna(-1)\n",
    "                test_[column] = test[column].fillna(-1)\n",
    "                train_[column] = train_[column].map(lambda x: x if x not in non_overlapping else -2)\n",
    "                test_[column] = test_[column].map(lambda x: x if x not in non_overlapping else -2)\n",
    "\n",
    "            le = preprocessing.LabelEncoder()\n",
    "            concatenated = pd.concat([train_, test_], axis=0).reset_index(drop=True)\n",
    "            le.fit(concatenated[column])\n",
    "            train_[column] = le.transform(train_[column])\n",
    "            test_[column] = le.transform(test_[column])\n",
    "        except Exception:\n",
    "            import pdb\n",
    "            pdb.set_trace()\n",
    "    return train_, test_\n",
    "\n",
    "train, test = category2num(train, test, object_feats)"
   ]
  },
  {
   "cell_type": "code",
   "execution_count": 13,
   "metadata": {
    "execution": {
     "iopub.execute_input": "2020-11-22T12:42:46.818866Z",
     "iopub.status.busy": "2020-11-22T12:42:46.818026Z",
     "iopub.status.idle": "2020-11-22T12:42:47.358434Z",
     "shell.execute_reply": "2020-11-22T12:42:47.357644Z"
    },
    "papermill": {
     "duration": 0.584857,
     "end_time": "2020-11-22T12:42:47.358560",
     "exception": false,
     "start_time": "2020-11-22T12:42:46.773703",
     "status": "completed"
    },
    "tags": []
   },
   "outputs": [],
   "source": [
    "# drop because the exist only in train\n",
    "train.drop(['click_or_view_at', 'cv_at','last_cv_interval', 'last_paid_interval'], axis=1, inplace=True)"
   ]
  },
  {
   "cell_type": "markdown",
   "metadata": {
    "papermill": {
     "duration": 0.036514,
     "end_time": "2020-11-22T12:42:47.432103",
     "exception": false,
     "start_time": "2020-11-22T12:42:47.395589",
     "status": "completed"
    },
    "tags": []
   },
   "source": [
    "# feature engineering"
   ]
  },
  {
   "cell_type": "code",
   "execution_count": 14,
   "metadata": {
    "execution": {
     "iopub.execute_input": "2020-11-22T12:42:47.513731Z",
     "iopub.status.busy": "2020-11-22T12:42:47.512952Z",
     "iopub.status.idle": "2020-11-22T12:43:04.085698Z",
     "shell.execute_reply": "2020-11-22T12:43:04.086263Z"
    },
    "papermill": {
     "duration": 16.617455,
     "end_time": "2020-11-22T12:43:04.086449",
     "exception": false,
     "start_time": "2020-11-22T12:42:47.468994",
     "status": "completed"
    },
    "tags": []
   },
   "outputs": [],
   "source": [
    "train[\"type\"] = \"train\"\n",
    "test[\"type\"] = \"test\"\n",
    "all_df = pd.concat([train, test])\n",
    "all_df = all_df.sort_values([\"uid\", \"imp_at\"]).reset_index(drop=True)"
   ]
  },
  {
   "cell_type": "code",
   "execution_count": 15,
   "metadata": {
    "execution": {
     "iopub.execute_input": "2020-11-22T12:43:04.168316Z",
     "iopub.status.busy": "2020-11-22T12:43:04.167567Z",
     "iopub.status.idle": "2020-11-22T12:43:08.920544Z",
     "shell.execute_reply": "2020-11-22T12:43:08.919703Z"
    },
    "papermill": {
     "duration": 4.796672,
     "end_time": "2020-11-22T12:43:08.920683",
     "exception": false,
     "start_time": "2020-11-22T12:43:04.124011",
     "status": "completed"
    },
    "tags": []
   },
   "outputs": [],
   "source": [
    "all_df[\"count\"] = 1\n",
    "all_df[\"count\"] = all_df.groupby(\"uid\")[\"count\"].cumsum()"
   ]
  },
  {
   "cell_type": "code",
   "execution_count": 16,
   "metadata": {
    "execution": {
     "iopub.execute_input": "2020-11-22T12:43:09.014536Z",
     "iopub.status.busy": "2020-11-22T12:43:09.013278Z",
     "iopub.status.idle": "2020-11-22T12:43:26.018522Z",
     "shell.execute_reply": "2020-11-22T12:43:26.017777Z"
    },
    "papermill": {
     "duration": 17.057352,
     "end_time": "2020-11-22T12:43:26.018671",
     "exception": false,
     "start_time": "2020-11-22T12:43:08.961319",
     "status": "completed"
    },
    "tags": []
   },
   "outputs": [],
   "source": [
    "all_df = all_df.merge(tfidf_dfs[0], on=\"uid\", how=\"left\")\n",
    "all_df = all_df.merge(tfidf_dfs[1], on=\"uid\", how=\"left\")"
   ]
  },
  {
   "cell_type": "code",
   "execution_count": 17,
   "metadata": {
    "execution": {
     "iopub.execute_input": "2020-11-22T12:43:26.185896Z",
     "iopub.status.busy": "2020-11-22T12:43:26.185048Z",
     "iopub.status.idle": "2020-11-22T12:43:26.189994Z",
     "shell.execute_reply": "2020-11-22T12:43:26.189218Z"
    },
    "papermill": {
     "duration": 0.1327,
     "end_time": "2020-11-22T12:43:26.190149",
     "exception": false,
     "start_time": "2020-11-22T12:43:26.057449",
     "status": "completed"
    },
    "tags": []
   },
   "outputs": [],
   "source": [
    "del tfidf_dfs, concatenated_"
   ]
  },
  {
   "cell_type": "code",
   "execution_count": 18,
   "metadata": {
    "execution": {
     "iopub.execute_input": "2020-11-22T12:43:26.291685Z",
     "iopub.status.busy": "2020-11-22T12:43:26.278684Z",
     "iopub.status.idle": "2020-11-22T12:43:55.296211Z",
     "shell.execute_reply": "2020-11-22T12:43:55.295439Z"
    },
    "papermill": {
     "duration": 29.066832,
     "end_time": "2020-11-22T12:43:55.296350",
     "exception": false,
     "start_time": "2020-11-22T12:43:26.229518",
     "status": "completed"
    },
    "tags": []
   },
   "outputs": [],
   "source": [
    "def _create_whole_imp_at_feature(whole_df, var) -> pd.DataFrame:\n",
    "\n",
    "    imp_at = pd.to_datetime(whole_df['imp_at']) + timedelta(hours=9) # utc -> asia/tokyo\n",
    "    out_df = pd.DataFrame()\n",
    "    out_df['hours'] = imp_at.dt.hour\n",
    "    out_df['dayofweek'] = imp_at.dt.dayofweek\n",
    "    out_df['hour_zone'] = pd.cut(out_df['hours'].values, bins=[-np.inf, 6, 12, 18, np.inf]).codes\n",
    "\n",
    "    def _create_pivot(input_df, c, column='dayofweek', values='hours'):\n",
    "        _df = pd.pivot_table(data=input_df, index=[c], columns=[column], values=values, aggfunc='count')\n",
    "        _df = _df.fillna(0)\n",
    "        _df.columns = [column + '=' + str(x) for x in _df.columns]\n",
    "\n",
    "        # index ごとに正規化して割合にする\n",
    "        _df = _df.div(_df.sum(axis=1), axis=0)\n",
    "        return pd.merge(input_df[c], _df, on=c, how='left').drop(columns=[c]).add_prefix(c + '_')\n",
    "\n",
    "    # uid での集約\n",
    "    for c in [var]:\n",
    "        _df = out_df.copy()\n",
    "        _df[c] = whole_df[c]\n",
    "        _feat = pd.concat([\n",
    "            _create_pivot(_df, c),\n",
    "            _create_pivot(_df, c, column='hour_zone', values='dayofweek')  \n",
    "        ], axis=1)\n",
    "        out_df = pd.concat([out_df, _feat], axis=1)\n",
    "\n",
    "    out_df['request_id'] = whole_df['request_id']\n",
    "    return out_df\n",
    "\n",
    "user_imp_df = _create_whole_imp_at_feature(all_df, \"uid\")\n",
    "user_imp_df.drop([\"hours\",\"dayofweek\",\"hour_zone\"], axis=1, inplace=True)\n",
    "all_df = all_df.merge(user_imp_df, on=\"request_id\", how=\"left\")"
   ]
  },
  {
   "cell_type": "code",
   "execution_count": 19,
   "metadata": {
    "execution": {
     "iopub.execute_input": "2020-11-22T12:43:55.384181Z",
     "iopub.status.busy": "2020-11-22T12:43:55.383228Z",
     "iopub.status.idle": "2020-11-22T12:44:11.484018Z",
     "shell.execute_reply": "2020-11-22T12:44:11.483005Z"
    },
    "papermill": {
     "duration": 16.149444,
     "end_time": "2020-11-22T12:44:11.484211",
     "exception": false,
     "start_time": "2020-11-22T12:43:55.334767",
     "status": "completed"
    },
    "tags": []
   },
   "outputs": [],
   "source": [
    "camp_num = all_df.groupby(\"date\")[\"campaign_id\"].nunique().reset_index(drop=False)\n",
    "camp_num.columns=[\"date\", \"camp_num\"]\n",
    "all_df = all_df.merge(camp_num, on=\"date\", how=\"left\")\n",
    "\n",
    "user_num = all_df.groupby(\"date\")[\"uid\"].nunique().reset_index(drop=False)\n",
    "user_num.columns=[\"date\", \"user_num\"]\n",
    "all_df = all_df.merge(user_num, on=\"date\", how=\"left\")\n",
    "\n",
    "#camp_num = all_df.groupby(\"date\")[\"campaign_id\"].nunique().reset_index(drop=False)\n",
    "#camp_num.columns=[\"date\", \"camp_num\"]\n",
    "#all_df = all_df.merge(camp_num, on=\"date\", how=\"left\")\n",
    "\n",
    "#user_num = all_df.groupby(\"date\")[\"uid\"].nunique().reset_index(drop=False)\n",
    "#user_num.columns=[\"date\", \"user_num\"]\n",
    "#all_df = all_df.merge(user_num, on=\"date\", how=\"left\")\n",
    "\n",
    "all_df.drop([\"date\", \"hour\", \"first_date\"], axis=1, inplace=True)"
   ]
  },
  {
   "cell_type": "code",
   "execution_count": 20,
   "metadata": {
    "execution": {
     "iopub.execute_input": "2020-11-22T12:44:11.573591Z",
     "iopub.status.busy": "2020-11-22T12:44:11.572765Z",
     "iopub.status.idle": "2020-11-22T12:44:11.577397Z",
     "shell.execute_reply": "2020-11-22T12:44:11.576742Z"
    },
    "papermill": {
     "duration": 0.04905,
     "end_time": "2020-11-22T12:44:11.577553",
     "exception": false,
     "start_time": "2020-11-22T12:44:11.528503",
     "status": "completed"
    },
    "tags": []
   },
   "outputs": [],
   "source": [
    "#all_df[\"next_app_id\"] = all_df.groupby(\"uid\")[\"app_id\"].progress_apply(lambda x: x.shift(-1))\n",
    "#all_df[\"next_app_same\"] = all_df[\"app_id\"] == all_df[\"next_app_id\"]\n",
    "#all_df.drop([\"next_app_id\"], axis=1, inplace=True)"
   ]
  },
  {
   "cell_type": "code",
   "execution_count": 21,
   "metadata": {
    "execution": {
     "iopub.execute_input": "2020-11-22T12:44:12.005938Z",
     "iopub.status.busy": "2020-11-22T12:44:12.005090Z",
     "iopub.status.idle": "2020-11-22T12:44:16.421330Z",
     "shell.execute_reply": "2020-11-22T12:44:16.420506Z"
    },
    "papermill": {
     "duration": 4.804988,
     "end_time": "2020-11-22T12:44:16.421498",
     "exception": false,
     "start_time": "2020-11-22T12:44:11.616510",
     "status": "completed"
    },
    "tags": []
   },
   "outputs": [],
   "source": [
    "train = all_df[all_df.type==\"train\"].drop(\"type\", axis=1).reset_index(drop=True)\n",
    "test = all_df[all_df.type==\"test\"].drop(\"type\", axis=1).reset_index(drop=True)"
   ]
  },
  {
   "cell_type": "code",
   "execution_count": 22,
   "metadata": {
    "execution": {
     "iopub.execute_input": "2020-11-22T12:44:16.627021Z",
     "iopub.status.busy": "2020-11-22T12:44:16.626217Z",
     "iopub.status.idle": "2020-11-22T12:44:16.629721Z",
     "shell.execute_reply": "2020-11-22T12:44:16.628936Z"
    },
    "papermill": {
     "duration": 0.16724,
     "end_time": "2020-11-22T12:44:16.629868",
     "exception": false,
     "start_time": "2020-11-22T12:44:16.462628",
     "status": "completed"
    },
    "tags": []
   },
   "outputs": [],
   "source": [
    "del all_df"
   ]
  },
  {
   "cell_type": "code",
   "execution_count": 23,
   "metadata": {
    "execution": {
     "iopub.execute_input": "2020-11-22T12:44:16.717802Z",
     "iopub.status.busy": "2020-11-22T12:44:16.716940Z",
     "iopub.status.idle": "2020-11-22T12:44:22.748398Z",
     "shell.execute_reply": "2020-11-22T12:44:22.748994Z"
    },
    "papermill": {
     "duration": 6.078388,
     "end_time": "2020-11-22T12:44:22.749192",
     "exception": false,
     "start_time": "2020-11-22T12:44:16.670804",
     "status": "completed"
    },
    "tags": []
   },
   "outputs": [],
   "source": [
    "train = train.sort_values(\"imp_at\").reset_index(drop=True)\n",
    "test = test.sort_values(\"imp_at\").reset_index(drop=True)"
   ]
  },
  {
   "cell_type": "code",
   "execution_count": 24,
   "metadata": {
    "execution": {
     "iopub.execute_input": "2020-11-22T12:44:22.835479Z",
     "iopub.status.busy": "2020-11-22T12:44:22.834695Z",
     "iopub.status.idle": "2020-11-22T12:44:27.217030Z",
     "shell.execute_reply": "2020-11-22T12:44:27.217689Z"
    },
    "papermill": {
     "duration": 4.429492,
     "end_time": "2020-11-22T12:44:27.217896",
     "exception": false,
     "start_time": "2020-11-22T12:44:22.788404",
     "status": "completed"
    },
    "tags": []
   },
   "outputs": [],
   "source": [
    "ce_feats = [\"uid\"]\n",
    "for c in ce_feats:\n",
    "    freq = pd.concat([train[c], test[c]]).value_counts()\n",
    "    train[c] = train[c].map(freq)\n",
    "    test[c] = test[c].map(freq)"
   ]
  },
  {
   "cell_type": "markdown",
   "metadata": {
    "papermill": {
     "duration": 0.039332,
     "end_time": "2020-11-22T12:44:27.297095",
     "exception": false,
     "start_time": "2020-11-22T12:44:27.257763",
     "status": "completed"
    },
    "tags": []
   },
   "source": [
    "# separation for validation"
   ]
  },
  {
   "cell_type": "code",
   "execution_count": 25,
   "metadata": {
    "execution": {
     "iopub.execute_input": "2020-11-22T12:44:27.385231Z",
     "iopub.status.busy": "2020-11-22T12:44:27.383581Z",
     "iopub.status.idle": "2020-11-22T12:44:28.790675Z",
     "shell.execute_reply": "2020-11-22T12:44:28.790039Z"
    },
    "papermill": {
     "duration": 1.454612,
     "end_time": "2020-11-22T12:44:28.790816",
     "exception": false,
     "start_time": "2020-11-22T12:44:27.336204",
     "status": "completed"
    },
    "tags": []
   },
   "outputs": [],
   "source": [
    "train.drop(['request_id'], axis=1, inplace=True)\n",
    "test.drop(['request_id'], axis=1, inplace=True)"
   ]
  },
  {
   "cell_type": "code",
   "execution_count": 26,
   "metadata": {
    "execution": {
     "iopub.execute_input": "2020-11-22T12:44:28.875125Z",
     "iopub.status.busy": "2020-11-22T12:44:28.874285Z",
     "iopub.status.idle": "2020-11-22T12:44:28.877960Z",
     "shell.execute_reply": "2020-11-22T12:44:28.877323Z"
    },
    "papermill": {
     "duration": 0.047572,
     "end_time": "2020-11-22T12:44:28.878088",
     "exception": false,
     "start_time": "2020-11-22T12:44:28.830516",
     "status": "completed"
    },
    "tags": []
   },
   "outputs": [],
   "source": [
    "#mask = train.imp_at > \"2020-05-21\"\n",
    "#valid_df = train.loc[mask].copy()\n",
    "#train_df = train.loc[~mask].copy()"
   ]
  },
  {
   "cell_type": "code",
   "execution_count": 27,
   "metadata": {
    "execution": {
     "iopub.execute_input": "2020-11-22T12:44:29.682552Z",
     "iopub.status.busy": "2020-11-22T12:44:29.677676Z",
     "iopub.status.idle": "2020-11-22T12:44:29.848277Z",
     "shell.execute_reply": "2020-11-22T12:44:29.847626Z"
    },
    "papermill": {
     "duration": 0.927824,
     "end_time": "2020-11-22T12:44:29.848419",
     "exception": false,
     "start_time": "2020-11-22T12:44:28.920595",
     "status": "completed"
    },
    "tags": []
   },
   "outputs": [],
   "source": [
    "#valid_df = valid_df.drop([\"imp_at\"] + tfidf_svd_feats, axis=1)\n",
    "#train_df = train_df.drop([\"imp_at\"] + tfidf_svd_feats, axis=1)\n",
    "#test_df = test.drop([\"imp_at\", \"target\"] + tfidf_svd_feats, axis=1) \n",
    "\n",
    "train = train.drop([\"imp_at\"], axis=1) \n",
    "test = test.drop([\"imp_at\", \"target\"], axis=1) "
   ]
  },
  {
   "cell_type": "code",
   "execution_count": 28,
   "metadata": {
    "execution": {
     "iopub.execute_input": "2020-11-22T12:44:29.935217Z",
     "iopub.status.busy": "2020-11-22T12:44:29.934138Z",
     "iopub.status.idle": "2020-11-22T12:44:29.939573Z",
     "shell.execute_reply": "2020-11-22T12:44:29.938683Z"
    },
    "papermill": {
     "duration": 0.051968,
     "end_time": "2020-11-22T12:44:29.939749",
     "exception": false,
     "start_time": "2020-11-22T12:44:29.887781",
     "status": "completed"
    },
    "tags": []
   },
   "outputs": [
    {
     "name": "stdout",
     "output_type": "stream",
     "text": [
      "(1997595, 143) (390095, 142)\n"
     ]
    }
   ],
   "source": [
    "print(train.shape, test.shape)\n",
    "#print(train_df.shape, valid_df.shape, test_df.shape)"
   ]
  },
  {
   "cell_type": "code",
   "execution_count": 29,
   "metadata": {
    "execution": {
     "iopub.execute_input": "2020-11-22T12:44:30.030108Z",
     "iopub.status.busy": "2020-11-22T12:44:30.028994Z",
     "iopub.status.idle": "2020-11-22T12:44:30.034709Z",
     "shell.execute_reply": "2020-11-22T12:44:30.034047Z"
    },
    "papermill": {
     "duration": 0.054149,
     "end_time": "2020-11-22T12:44:30.034835",
     "exception": false,
     "start_time": "2020-11-22T12:44:29.980686",
     "status": "completed"
    },
    "tags": []
   },
   "outputs": [
    {
     "data": {
      "text/plain": [
       "Index(['target', 'adnw_id', 'adspot_id', 'adspot_video_format_id',\n",
       "       'advertiser_id', 'app_id', 'auction_type_id', 'campaign_id',\n",
       "       'first_login_interval', 'frequency',\n",
       "       ...\n",
       "       'uid_dayofweek=3', 'uid_dayofweek=4', 'uid_dayofweek=5',\n",
       "       'uid_dayofweek=6', 'uid_hour_zone=0', 'uid_hour_zone=1',\n",
       "       'uid_hour_zone=2', 'uid_hour_zone=3', 'camp_num', 'user_num'],\n",
       "      dtype='object', length=143)"
      ]
     },
     "execution_count": 29,
     "metadata": {},
     "output_type": "execute_result"
    }
   ],
   "source": [
    "train.columns"
   ]
  },
  {
   "cell_type": "code",
   "execution_count": 30,
   "metadata": {
    "execution": {
     "iopub.execute_input": "2020-11-22T12:44:30.123748Z",
     "iopub.status.busy": "2020-11-22T12:44:30.122665Z",
     "iopub.status.idle": "2020-11-22T12:44:30.128689Z",
     "shell.execute_reply": "2020-11-22T12:44:30.127936Z"
    },
    "papermill": {
     "duration": 0.053385,
     "end_time": "2020-11-22T12:44:30.128810",
     "exception": false,
     "start_time": "2020-11-22T12:44:30.075425",
     "status": "completed"
    },
    "tags": []
   },
   "outputs": [
    {
     "data": {
      "text/plain": [
       "['advertiser_id',\n",
       " 'app_id',\n",
       " 'campaign_id',\n",
       " 'game_feed_id',\n",
       " 'game_template_id',\n",
       " 'media_app_id',\n",
       " 'mst_advertiser_order_id']"
      ]
     },
     "execution_count": 30,
     "metadata": {},
     "output_type": "execute_result"
    }
   ],
   "source": [
    "object_feats = [i for i in object_feats if i in train.columns]\n",
    "object_feats"
   ]
  },
  {
   "cell_type": "markdown",
   "metadata": {
    "papermill": {
     "duration": 0.040206,
     "end_time": "2020-11-22T12:44:30.210205",
     "exception": false,
     "start_time": "2020-11-22T12:44:30.169999",
     "status": "completed"
    },
    "tags": []
   },
   "source": [
    "# stratified lgb"
   ]
  },
  {
   "cell_type": "code",
   "execution_count": 31,
   "metadata": {
    "_cell_guid": "79c7e3d0-c299-4dcb-8224-4455121ee9b0",
    "_uuid": "d629ff2d2480ee46fbb7e2d37f6b5fab8052498a",
    "execution": {
     "iopub.execute_input": "2020-11-22T12:44:30.312208Z",
     "iopub.status.busy": "2020-11-22T12:44:30.307003Z",
     "iopub.status.idle": "2020-11-22T13:10:24.696460Z",
     "shell.execute_reply": "2020-11-22T13:10:24.695507Z"
    },
    "papermill": {
     "duration": 1554.445364,
     "end_time": "2020-11-22T13:10:24.696674",
     "exception": false,
     "start_time": "2020-11-22T12:44:30.251310",
     "status": "completed"
    },
    "tags": []
   },
   "outputs": [
    {
     "name": "stdout",
     "output_type": "stream",
     "text": [
      "seed: 0\n",
      "fold:  0\n",
      "Training until validation scores don't improve for 20 rounds\n",
      "[30]\ttraining's pr_auc: 0.273004\tvalid_1's pr_auc: 0.267476\n",
      "[60]\ttraining's pr_auc: 0.295863\tvalid_1's pr_auc: 0.284885\n",
      "[90]\ttraining's pr_auc: 0.309251\tvalid_1's pr_auc: 0.291657\n",
      "[120]\ttraining's pr_auc: 0.320043\tvalid_1's pr_auc: 0.29586\n",
      "[150]\ttraining's pr_auc: 0.329908\tvalid_1's pr_auc: 0.299264\n",
      "[180]\ttraining's pr_auc: 0.337754\tvalid_1's pr_auc: 0.301536\n",
      "[210]\ttraining's pr_auc: 0.342312\tvalid_1's pr_auc: 0.300741\n",
      "Early stopping, best iteration is:\n",
      "[193]\ttraining's pr_auc: 0.341092\tvalid_1's pr_auc: 0.302144\n",
      "fold:  1\n",
      "Training until validation scores don't improve for 20 rounds\n",
      "[30]\ttraining's pr_auc: 0.272755\tvalid_1's pr_auc: 0.267529\n",
      "[60]\ttraining's pr_auc: 0.29481\tvalid_1's pr_auc: 0.285072\n",
      "[90]\ttraining's pr_auc: 0.310669\tvalid_1's pr_auc: 0.296255\n",
      "[120]\ttraining's pr_auc: 0.321221\tvalid_1's pr_auc: 0.30057\n",
      "[150]\ttraining's pr_auc: 0.330007\tvalid_1's pr_auc: 0.304233\n",
      "[180]\ttraining's pr_auc: 0.337197\tvalid_1's pr_auc: 0.306378\n",
      "[210]\ttraining's pr_auc: 0.344025\tvalid_1's pr_auc: 0.307822\n",
      "[240]\ttraining's pr_auc: 0.350457\tvalid_1's pr_auc: 0.309523\n",
      "[270]\ttraining's pr_auc: 0.356034\tvalid_1's pr_auc: 0.310155\n",
      "[300]\ttraining's pr_auc: 0.361941\tvalid_1's pr_auc: 0.310296\n",
      "Early stopping, best iteration is:\n",
      "[293]\ttraining's pr_auc: 0.361103\tvalid_1's pr_auc: 0.310912\n",
      "fold:  2\n",
      "Training until validation scores don't improve for 20 rounds\n",
      "[30]\ttraining's pr_auc: 0.272175\tvalid_1's pr_auc: 0.270171\n",
      "[60]\ttraining's pr_auc: 0.295975\tvalid_1's pr_auc: 0.287326\n",
      "[90]\ttraining's pr_auc: 0.312567\tvalid_1's pr_auc: 0.298254\n",
      "[120]\ttraining's pr_auc: 0.322697\tvalid_1's pr_auc: 0.302705\n",
      "[150]\ttraining's pr_auc: 0.330069\tvalid_1's pr_auc: 0.30466\n",
      "[180]\ttraining's pr_auc: 0.33878\tvalid_1's pr_auc: 0.30697\n",
      "[210]\ttraining's pr_auc: 0.346375\tvalid_1's pr_auc: 0.309127\n",
      "Early stopping, best iteration is:\n",
      "[218]\ttraining's pr_auc: 0.348487\tvalid_1's pr_auc: 0.309422\n",
      "fold:  3\n",
      "Training until validation scores don't improve for 20 rounds\n",
      "[30]\ttraining's pr_auc: 0.276417\tvalid_1's pr_auc: 0.268075\n",
      "[60]\ttraining's pr_auc: 0.297342\tvalid_1's pr_auc: 0.283164\n",
      "[90]\ttraining's pr_auc: 0.311516\tvalid_1's pr_auc: 0.290043\n",
      "[120]\ttraining's pr_auc: 0.322268\tvalid_1's pr_auc: 0.293803\n",
      "[150]\ttraining's pr_auc: 0.33114\tvalid_1's pr_auc: 0.296986\n",
      "[180]\ttraining's pr_auc: 0.337667\tvalid_1's pr_auc: 0.298691\n",
      "Early stopping, best iteration is:\n",
      "[188]\ttraining's pr_auc: 0.339989\tvalid_1's pr_auc: 0.299483\n",
      "fold:  4\n",
      "Training until validation scores don't improve for 20 rounds\n",
      "[30]\ttraining's pr_auc: 0.269281\tvalid_1's pr_auc: 0.264991\n",
      "[60]\ttraining's pr_auc: 0.293738\tvalid_1's pr_auc: 0.28241\n",
      "[90]\ttraining's pr_auc: 0.309615\tvalid_1's pr_auc: 0.290814\n",
      "[120]\ttraining's pr_auc: 0.320713\tvalid_1's pr_auc: 0.295249\n",
      "[150]\ttraining's pr_auc: 0.329739\tvalid_1's pr_auc: 0.298636\n",
      "[180]\ttraining's pr_auc: 0.334949\tvalid_1's pr_auc: 0.298807\n",
      "Early stopping, best iteration is:\n",
      "[176]\ttraining's pr_auc: 0.335623\tvalid_1's pr_auc: 0.300613\n",
      "0.3041850252328689\n"
     ]
    }
   ],
   "source": [
    "# stratified k fold\n",
    "n_folds = 5\n",
    "def pr_auc_metric(y_predicted, y_true):\n",
    "    return 'pr_auc', average_precision_score(y_true.get_label(), y_predicted), True\n",
    "\n",
    "def modelling(seed):\n",
    "    print(\"seed:\", seed)\n",
    "    lgbm_params = {'objective': 'binary', 'metric': 'None', 'boosting_type': 'gbdt', \n",
    "               'tree_learner': 'serial', 'learning_rate': 0.1, \"num_leaves\": 10, 'random_seed':seed,'max_depth': 5}\n",
    "    \n",
    "    y = train.target\n",
    "    X = train.drop(['target'],axis=1)\n",
    "    \n",
    "    skf=StratifiedKFold(n_splits = n_folds, shuffle=True, random_state=0)\n",
    "    \n",
    "    valid = np.zeros([X.shape[0]])\n",
    "    features_list = [i for i in X.columns]\n",
    "    pred_value = np.zeros(test.shape[0])\n",
    "    feature_importance_df = pd.DataFrame(features_list, columns=[\"Feature\"])\n",
    "    \n",
    "    for i , (train_index, val_index) in enumerate(skf.split(X, y)):\n",
    "        print(\"fold: \", i)\n",
    "        \n",
    "        X_train = X.iloc[train_index,:]\n",
    "        y_train = y.iloc[train_index]\n",
    "        \n",
    "        X_valid = X.iloc[val_index,:]\n",
    "        y_valid = y.iloc[val_index]\n",
    "        \n",
    "        lgb_train = lgb.Dataset(X_train, y_train)\n",
    "        lgb_eval = lgb.Dataset(X_valid, y_valid, reference=lgb_train)\n",
    "        \n",
    "        model = lgb.train(lgbm_params, lgb_train,valid_sets=[lgb_train, lgb_eval],\n",
    "           num_boost_round=10000,early_stopping_rounds=20,verbose_eval = 30,\n",
    "                          feval=pr_auc_metric, categorical_feature = sorted(object_feats))\n",
    "        \n",
    "        valid_predict = model.predict(X_valid, num_iteration = model.best_iteration)\n",
    "        valid[val_index] = valid_predict\n",
    "        pred_value += model.predict(test, num_iteration = model.best_iteration) / n_folds\n",
    "        feature_importance_df[\"Fold_\"+str(i+1)] = model.feature_importance()\n",
    "    \n",
    "    feature_importance_df[\"Average\"] = np.mean(feature_importance_df.iloc[:,1:n_folds+1], axis=1)\n",
    "    feature_importance_df[\"Std\"] = np.std(feature_importance_df.iloc[:,1:n_folds+1], axis=1)\n",
    "    feature_importance_df[\"Cv\"] = feature_importance_df[\"Std\"] / feature_importance_df[\"Average\"]\n",
    "    \n",
    "    return pred_value, valid, feature_importance_df\n",
    "\n",
    "validation = np.zeros([train.shape[0]])\n",
    "pred_value = np.zeros([test.shape[0]])\n",
    "seeds = [0]\n",
    "for seed_ in seeds:\n",
    "    test_pred, oof_predict, feature_importance_df = modelling(seed_)\n",
    "    validation += oof_predict / len(seeds)\n",
    "    pred_value += test_pred / len(seeds)\n",
    "\n",
    "score = average_precision_score(train.target, validation)\n",
    "print(score)"
   ]
  },
  {
   "cell_type": "code",
   "execution_count": 32,
   "metadata": {
    "execution": {
     "iopub.execute_input": "2020-11-22T13:10:24.844501Z",
     "iopub.status.busy": "2020-11-22T13:10:24.841313Z",
     "iopub.status.idle": "2020-11-22T13:10:24.860943Z",
     "shell.execute_reply": "2020-11-22T13:10:24.860239Z"
    },
    "papermill": {
     "duration": 0.10004,
     "end_time": "2020-11-22T13:10:24.861082",
     "exception": false,
     "start_time": "2020-11-22T13:10:24.761042",
     "status": "completed"
    },
    "tags": []
   },
   "outputs": [
    {
     "data": {
      "text/html": [
       "<div>\n",
       "<style scoped>\n",
       "    .dataframe tbody tr th:only-of-type {\n",
       "        vertical-align: middle;\n",
       "    }\n",
       "\n",
       "    .dataframe tbody tr th {\n",
       "        vertical-align: top;\n",
       "    }\n",
       "\n",
       "    .dataframe thead th {\n",
       "        text-align: right;\n",
       "    }\n",
       "</style>\n",
       "<table border=\"1\" class=\"dataframe\">\n",
       "  <thead>\n",
       "    <tr style=\"text-align: right;\">\n",
       "      <th></th>\n",
       "      <th>Feature</th>\n",
       "      <th>Fold_1</th>\n",
       "      <th>Fold_2</th>\n",
       "      <th>Fold_3</th>\n",
       "      <th>Fold_4</th>\n",
       "      <th>Fold_5</th>\n",
       "      <th>Average</th>\n",
       "      <th>Std</th>\n",
       "      <th>Cv</th>\n",
       "    </tr>\n",
       "  </thead>\n",
       "  <tbody>\n",
       "    <tr>\n",
       "      <th>4</th>\n",
       "      <td>app_id</td>\n",
       "      <td>347</td>\n",
       "      <td>567</td>\n",
       "      <td>410</td>\n",
       "      <td>336</td>\n",
       "      <td>303</td>\n",
       "      <td>392.6</td>\n",
       "      <td>93.839437</td>\n",
       "      <td>0.239020</td>\n",
       "    </tr>\n",
       "    <tr>\n",
       "      <th>6</th>\n",
       "      <td>campaign_id</td>\n",
       "      <td>267</td>\n",
       "      <td>392</td>\n",
       "      <td>314</td>\n",
       "      <td>285</td>\n",
       "      <td>279</td>\n",
       "      <td>307.4</td>\n",
       "      <td>45.035986</td>\n",
       "      <td>0.146506</td>\n",
       "    </tr>\n",
       "    <tr>\n",
       "      <th>17</th>\n",
       "      <td>media_app_id</td>\n",
       "      <td>149</td>\n",
       "      <td>258</td>\n",
       "      <td>182</td>\n",
       "      <td>135</td>\n",
       "      <td>136</td>\n",
       "      <td>172.0</td>\n",
       "      <td>46.238512</td>\n",
       "      <td>0.268829</td>\n",
       "    </tr>\n",
       "    <tr>\n",
       "      <th>20</th>\n",
       "      <td>uid</td>\n",
       "      <td>126</td>\n",
       "      <td>156</td>\n",
       "      <td>132</td>\n",
       "      <td>116</td>\n",
       "      <td>123</td>\n",
       "      <td>130.6</td>\n",
       "      <td>13.705473</td>\n",
       "      <td>0.104942</td>\n",
       "    </tr>\n",
       "    <tr>\n",
       "      <th>3</th>\n",
       "      <td>advertiser_id</td>\n",
       "      <td>86</td>\n",
       "      <td>130</td>\n",
       "      <td>84</td>\n",
       "      <td>90</td>\n",
       "      <td>79</td>\n",
       "      <td>93.8</td>\n",
       "      <td>18.443427</td>\n",
       "      <td>0.196625</td>\n",
       "    </tr>\n",
       "    <tr>\n",
       "      <th>...</th>\n",
       "      <td>...</td>\n",
       "      <td>...</td>\n",
       "      <td>...</td>\n",
       "      <td>...</td>\n",
       "      <td>...</td>\n",
       "      <td>...</td>\n",
       "      <td>...</td>\n",
       "      <td>...</td>\n",
       "      <td>...</td>\n",
       "    </tr>\n",
       "    <tr>\n",
       "      <th>122</th>\n",
       "      <td>tfidf_campaign_id_73</td>\n",
       "      <td>1</td>\n",
       "      <td>2</td>\n",
       "      <td>0</td>\n",
       "      <td>3</td>\n",
       "      <td>1</td>\n",
       "      <td>1.4</td>\n",
       "      <td>1.019804</td>\n",
       "      <td>0.728431</td>\n",
       "    </tr>\n",
       "    <tr>\n",
       "      <th>52</th>\n",
       "      <td>tfidf_campaign_id_3</td>\n",
       "      <td>1</td>\n",
       "      <td>1</td>\n",
       "      <td>2</td>\n",
       "      <td>1</td>\n",
       "      <td>2</td>\n",
       "      <td>1.4</td>\n",
       "      <td>0.489898</td>\n",
       "      <td>0.349927</td>\n",
       "    </tr>\n",
       "    <tr>\n",
       "      <th>99</th>\n",
       "      <td>tfidf_campaign_id_50</td>\n",
       "      <td>1</td>\n",
       "      <td>2</td>\n",
       "      <td>2</td>\n",
       "      <td>1</td>\n",
       "      <td>1</td>\n",
       "      <td>1.4</td>\n",
       "      <td>0.489898</td>\n",
       "      <td>0.349927</td>\n",
       "    </tr>\n",
       "    <tr>\n",
       "      <th>104</th>\n",
       "      <td>tfidf_campaign_id_55</td>\n",
       "      <td>1</td>\n",
       "      <td>1</td>\n",
       "      <td>2</td>\n",
       "      <td>1</td>\n",
       "      <td>2</td>\n",
       "      <td>1.4</td>\n",
       "      <td>0.489898</td>\n",
       "      <td>0.349927</td>\n",
       "    </tr>\n",
       "    <tr>\n",
       "      <th>32</th>\n",
       "      <td>tfidf_advertiser_id_3</td>\n",
       "      <td>0</td>\n",
       "      <td>3</td>\n",
       "      <td>2</td>\n",
       "      <td>1</td>\n",
       "      <td>0</td>\n",
       "      <td>1.2</td>\n",
       "      <td>1.166190</td>\n",
       "      <td>0.971825</td>\n",
       "    </tr>\n",
       "  </tbody>\n",
       "</table>\n",
       "<p>100 rows × 9 columns</p>\n",
       "</div>"
      ],
      "text/plain": [
       "                   Feature  Fold_1  Fold_2  Fold_3  Fold_4  Fold_5  Average  \\\n",
       "4                   app_id     347     567     410     336     303    392.6   \n",
       "6              campaign_id     267     392     314     285     279    307.4   \n",
       "17            media_app_id     149     258     182     135     136    172.0   \n",
       "20                     uid     126     156     132     116     123    130.6   \n",
       "3            advertiser_id      86     130      84      90      79     93.8   \n",
       "..                     ...     ...     ...     ...     ...     ...      ...   \n",
       "122   tfidf_campaign_id_73       1       2       0       3       1      1.4   \n",
       "52     tfidf_campaign_id_3       1       1       2       1       2      1.4   \n",
       "99    tfidf_campaign_id_50       1       2       2       1       1      1.4   \n",
       "104   tfidf_campaign_id_55       1       1       2       1       2      1.4   \n",
       "32   tfidf_advertiser_id_3       0       3       2       1       0      1.2   \n",
       "\n",
       "           Std        Cv  \n",
       "4    93.839437  0.239020  \n",
       "6    45.035986  0.146506  \n",
       "17   46.238512  0.268829  \n",
       "20   13.705473  0.104942  \n",
       "3    18.443427  0.196625  \n",
       "..         ...       ...  \n",
       "122   1.019804  0.728431  \n",
       "52    0.489898  0.349927  \n",
       "99    0.489898  0.349927  \n",
       "104   0.489898  0.349927  \n",
       "32    1.166190  0.971825  \n",
       "\n",
       "[100 rows x 9 columns]"
      ]
     },
     "execution_count": 32,
     "metadata": {},
     "output_type": "execute_result"
    }
   ],
   "source": [
    "feature_importance_df.sort_values(\"Average\", ascending=False).head(100)"
   ]
  },
  {
   "cell_type": "markdown",
   "metadata": {
    "papermill": {
     "duration": 0.069688,
     "end_time": "2020-11-22T13:10:24.995636",
     "exception": false,
     "start_time": "2020-11-22T13:10:24.925948",
     "status": "completed"
    },
    "tags": []
   },
   "source": [
    "# stratified xgb"
   ]
  },
  {
   "cell_type": "code",
   "execution_count": 33,
   "metadata": {
    "execution": {
     "iopub.execute_input": "2020-11-22T13:10:25.150796Z",
     "iopub.status.busy": "2020-11-22T13:10:25.149547Z",
     "iopub.status.idle": "2020-11-22T13:10:25.153921Z",
     "shell.execute_reply": "2020-11-22T13:10:25.153208Z"
    },
    "papermill": {
     "duration": 0.090524,
     "end_time": "2020-11-22T13:10:25.154106",
     "exception": false,
     "start_time": "2020-11-22T13:10:25.063582",
     "status": "completed"
    },
    "tags": []
   },
   "outputs": [],
   "source": [
    "def pr_auc_metric(y_predicted, y_true):\n",
    "    return 'pr_auc', - average_precision_score(y_true.get_label(), y_predicted)\n",
    "\n",
    "n_folds=5\n",
    "np.random.seed(0)\n",
    "def modelling_xgb():\n",
    "    y = train.target\n",
    "    X = train.drop(['target'],axis=1)\n",
    "    xgb_params = {\"objective\" : \"binary:logistic\", \"max_depth\" : 5, \"learning_rate\" : 0.1, \"tree_method\": \"gpu_hist\"}\n",
    "    \n",
    "    skf=StratifiedKFold(n_splits = n_folds, shuffle=True, random_state=0)\n",
    "    \n",
    "    valid = np.zeros([X.shape[0]])\n",
    "    pred_value = np.zeros(test.shape[0])\n",
    "    X_test = xgb.DMatrix(test.copy())\n",
    "    \n",
    "    for i , (train_index, val_index) in enumerate(skf.split(X, y)):\n",
    "        print(\"fold: \", i)\n",
    "        \n",
    "        X_train = X.iloc[train_index,:]\n",
    "        y_train = y.iloc[train_index]\n",
    "        \n",
    "        X_valid = X.iloc[val_index,:]\n",
    "        y_valid = y.iloc[val_index]\n",
    "        \n",
    "        xgb_train = xgb.DMatrix(X_train, label = y_train)\n",
    "        xgb_eval = xgb.DMatrix(X_valid, label = y_valid)\n",
    "        watchlist = [(xgb_train, \"train\"), (xgb_eval, \"eval\")]\n",
    "        num_boost_round = 100000\n",
    "        \n",
    "        model = xgb.train(\n",
    "        xgb_params, xgb_train, num_boost_round, watchlist,\n",
    "        early_stopping_rounds=10, verbose_eval = 50,\n",
    "        feval=pr_auc_metric,\n",
    "    )\n",
    "                \n",
    "        valid_predict = model.predict(xgb_eval, ntree_limit = model.best_ntree_limit)\n",
    "        valid[val_index] = valid_predict\n",
    "        pred_value += model.predict(X_test, ntree_limit = model.best_ntree_limit) / n_folds\n",
    "    \n",
    "    return pred_value, valid\n",
    "\n",
    "#pred_value_xgb, validation_xgb = modelling_xgb()\n",
    "#score_xgb = average_precision_score(train.target, validation_xgb)\n",
    "#print(score_xgb)"
   ]
  },
  {
   "cell_type": "markdown",
   "metadata": {
    "papermill": {
     "duration": 0.06333,
     "end_time": "2020-11-22T13:10:25.285271",
     "exception": false,
     "start_time": "2020-11-22T13:10:25.221941",
     "status": "completed"
    },
    "tags": []
   },
   "source": [
    "# submission"
   ]
  },
  {
   "cell_type": "code",
   "execution_count": 34,
   "metadata": {
    "execution": {
     "iopub.execute_input": "2020-11-22T13:10:25.429979Z",
     "iopub.status.busy": "2020-11-22T13:10:25.429182Z",
     "iopub.status.idle": "2020-11-22T13:10:27.522587Z",
     "shell.execute_reply": "2020-11-22T13:10:27.521865Z"
    },
    "papermill": {
     "duration": 2.173152,
     "end_time": "2020-11-22T13:10:27.522731",
     "exception": false,
     "start_time": "2020-11-22T13:10:25.349579",
     "status": "completed"
    },
    "tags": []
   },
   "outputs": [],
   "source": [
    "lgb_sub = pd.read_csv(DIR + \"atmaCup7__sample_submission.csv\")\n",
    "lgb_sub[\"target\"] = pred_value\n",
    "lgb_sub.to_csv(\"atmacup7_\"+str(score)[:-10]+\".csv\", index = False)"
   ]
  },
  {
   "cell_type": "code",
   "execution_count": null,
   "metadata": {
    "papermill": {
     "duration": 0.062848,
     "end_time": "2020-11-22T13:10:27.649735",
     "exception": false,
     "start_time": "2020-11-22T13:10:27.586887",
     "status": "completed"
    },
    "tags": []
   },
   "outputs": [],
   "source": []
  }
 ],
 "metadata": {
  "kernelspec": {
   "display_name": "Python 3",
   "language": "python",
   "name": "python3"
  },
  "language_info": {
   "codemirror_mode": {
    "name": "ipython",
    "version": 3
   },
   "file_extension": ".py",
   "mimetype": "text/x-python",
   "name": "python",
   "nbconvert_exporter": "python",
   "pygments_lexer": "ipython3",
   "version": "3.7.6"
  },
  "papermill": {
   "duration": 2118.746894,
   "end_time": "2020-11-22T13:10:27.824013",
   "environment_variables": {},
   "exception": null,
   "input_path": "__notebook__.ipynb",
   "output_path": "__notebook__.ipynb",
   "parameters": {},
   "start_time": "2020-11-22T12:35:09.077119",
   "version": "2.1.0"
  }
 },
 "nbformat": 4,
 "nbformat_minor": 4
}
