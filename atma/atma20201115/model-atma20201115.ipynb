{
 "cells": [
  {
   "cell_type": "markdown",
   "metadata": {
    "papermill": {
     "duration": 0.026614,
     "end_time": "2020-11-19T23:08:14.847225",
     "exception": false,
     "start_time": "2020-11-19T23:08:14.820611",
     "status": "completed"
    },
    "tags": []
   },
   "source": [
    "- add cross values summary info\n",
    "- add xgb ts model for ensemble"
   ]
  },
  {
   "cell_type": "code",
   "execution_count": 1,
   "metadata": {
    "_cell_guid": "b1076dfc-b9ad-4769-8c92-a6c4dae69d19",
    "_uuid": "8f2839f25d086af736a60e9eeb907d3b93b6e0e5",
    "execution": {
     "iopub.execute_input": "2020-11-19T23:08:14.905818Z",
     "iopub.status.busy": "2020-11-19T23:08:14.905073Z",
     "iopub.status.idle": "2020-11-19T23:08:18.226438Z",
     "shell.execute_reply": "2020-11-19T23:08:18.225196Z"
    },
    "papermill": {
     "duration": 3.354122,
     "end_time": "2020-11-19T23:08:18.226580",
     "exception": false,
     "start_time": "2020-11-19T23:08:14.872458",
     "status": "completed"
    },
    "tags": []
   },
   "outputs": [],
   "source": [
    "import os\n",
    "import warnings\n",
    "import numpy as np\n",
    "import pandas as pd\n",
    "import xgboost as xgb\n",
    "import lightgbm as lgb\n",
    "from datetime import timedelta\n",
    "from sklearn import preprocessing\n",
    "from tqdm.notebook import tqdm_notebook\n",
    "from sklearn.metrics import average_precision_score\n",
    "from sklearn.model_selection import StratifiedKFold\n",
    "warnings.filterwarnings('ignore')\n",
    "tqdm_notebook.pandas(desc=\"progress: \")"
   ]
  },
  {
   "cell_type": "code",
   "execution_count": 2,
   "metadata": {
    "execution": {
     "iopub.execute_input": "2020-11-19T23:08:18.290890Z",
     "iopub.status.busy": "2020-11-19T23:08:18.290256Z",
     "iopub.status.idle": "2020-11-19T23:08:37.424999Z",
     "shell.execute_reply": "2020-11-19T23:08:37.423936Z"
    },
    "papermill": {
     "duration": 19.172724,
     "end_time": "2020-11-19T23:08:37.425182",
     "exception": false,
     "start_time": "2020-11-19T23:08:18.252458",
     "status": "completed"
    },
    "tags": []
   },
   "outputs": [],
   "source": [
    "DIR = \"../input/20201115at/\"\n",
    "train = pd.read_csv(DIR+\"train.csv\")\n",
    "test = pd.read_csv(DIR+\"test.csv\")\n",
    "campaign = pd.read_csv(DIR+\"campaign.csv\")\n",
    "\n",
    "#advertiser_video = pd.read_csv(DIR+\"advertiser_video.csv\")\n",
    "#map_game_feed_native_video_assets = pd.read_csv(DIR+'map_game_feed_native_video_assets.csv')\n",
    "#advertiser_converted_video = pd.read_csv(DIR+\"advertiser_converted_video.csv\")"
   ]
  },
  {
   "cell_type": "code",
   "execution_count": 3,
   "metadata": {
    "execution": {
     "iopub.execute_input": "2020-11-19T23:08:37.482470Z",
     "iopub.status.busy": "2020-11-19T23:08:37.480659Z",
     "iopub.status.idle": "2020-11-19T23:08:37.483153Z",
     "shell.execute_reply": "2020-11-19T23:08:37.483618Z"
    },
    "papermill": {
     "duration": 0.03235,
     "end_time": "2020-11-19T23:08:37.483744",
     "exception": false,
     "start_time": "2020-11-19T23:08:37.451394",
     "status": "completed"
    },
    "tags": []
   },
   "outputs": [],
   "source": [
    "#cols = [\"mst_advertiser_video_id\", \"mst_game_feed_id\", \"mst_video_template_id\"]\n",
    "#advertiser_converted_video = advertiser_converted_video[~advertiser_converted_video[cols].duplicated(keep=\"last\")]"
   ]
  },
  {
   "cell_type": "markdown",
   "metadata": {
    "papermill": {
     "duration": 0.025444,
     "end_time": "2020-11-19T23:08:37.535285",
     "exception": false,
     "start_time": "2020-11-19T23:08:37.509841",
     "status": "completed"
    },
    "tags": []
   },
   "source": [
    "# preprocess"
   ]
  },
  {
   "cell_type": "code",
   "execution_count": 4,
   "metadata": {
    "execution": {
     "iopub.execute_input": "2020-11-19T23:08:37.808267Z",
     "iopub.status.busy": "2020-11-19T23:08:37.807362Z",
     "iopub.status.idle": "2020-11-19T23:08:47.883718Z",
     "shell.execute_reply": "2020-11-19T23:08:47.882709Z"
    },
    "papermill": {
     "duration": 10.322686,
     "end_time": "2020-11-19T23:08:47.883864",
     "exception": false,
     "start_time": "2020-11-19T23:08:37.561178",
     "status": "completed"
    },
    "tags": []
   },
   "outputs": [],
   "source": [
    "# with campaign\n",
    "train = train.merge(campaign, left_on=\"campaign_id\", right_on = \"id\", how=\"left\").drop([\"mst_advertiser_id\", \"id\"], axis=1)\n",
    "test = test.merge(campaign, left_on=\"campaign_id\", right_on = \"id\", how=\"left\").drop([\"mst_advertiser_id\", \"id\"], axis=1)"
   ]
  },
  {
   "cell_type": "code",
   "execution_count": 5,
   "metadata": {
    "execution": {
     "iopub.execute_input": "2020-11-19T23:08:48.574812Z",
     "iopub.status.busy": "2020-11-19T23:08:48.570826Z",
     "iopub.status.idle": "2020-11-19T23:08:50.710247Z",
     "shell.execute_reply": "2020-11-19T23:08:50.709644Z"
    },
    "papermill": {
     "duration": 2.799255,
     "end_time": "2020-11-19T23:08:50.710375",
     "exception": false,
     "start_time": "2020-11-19T23:08:47.911120",
     "status": "completed"
    },
    "tags": []
   },
   "outputs": [],
   "source": [
    "train[\"imp_at\"] = pd.to_datetime(train[\"imp_at\"])\n",
    "test[\"imp_at\"] = pd.to_datetime(test[\"imp_at\"])\n",
    "train[\"date\"] = train[\"imp_at\"].dt.date\n",
    "test[\"date\"] = test[\"imp_at\"].dt.date\n",
    "train[\"hour\"] = train[\"imp_at\"].dt.hour\n",
    "test[\"hour\"] = test[\"imp_at\"].dt.hour"
   ]
  },
  {
   "cell_type": "code",
   "execution_count": 6,
   "metadata": {
    "execution": {
     "iopub.execute_input": "2020-11-19T23:08:51.415641Z",
     "iopub.status.busy": "2020-11-19T23:08:51.413870Z",
     "iopub.status.idle": "2020-11-19T23:08:53.393401Z",
     "shell.execute_reply": "2020-11-19T23:08:53.394601Z"
    },
    "papermill": {
     "duration": 2.654087,
     "end_time": "2020-11-19T23:08:53.394796",
     "exception": false,
     "start_time": "2020-11-19T23:08:50.740709",
     "status": "completed"
    },
    "tags": []
   },
   "outputs": [],
   "source": [
    "train[\"click_or_view_at\"] = pd.to_datetime(train[\"click_or_view_at\"])\n",
    "train[\"cv_at\"] = pd.to_datetime(train[\"cv_at\"])"
   ]
  },
  {
   "cell_type": "code",
   "execution_count": 7,
   "metadata": {
    "execution": {
     "iopub.execute_input": "2020-11-19T23:08:53.465499Z",
     "iopub.status.busy": "2020-11-19T23:08:53.463802Z",
     "iopub.status.idle": "2020-11-19T23:08:55.626231Z",
     "shell.execute_reply": "2020-11-19T23:08:55.625646Z"
    },
    "papermill": {
     "duration": 2.197709,
     "end_time": "2020-11-19T23:08:55.626355",
     "exception": false,
     "start_time": "2020-11-19T23:08:53.428646",
     "status": "completed"
    },
    "tags": []
   },
   "outputs": [],
   "source": [
    "# drop because distribution is different\n",
    "train.drop(['os_version'], axis=1, inplace=True)\n",
    "test.drop(['os_version'], axis=1, inplace=True)\n",
    "\n",
    "# noise features?\n",
    "train.drop(['user_type_id', \"category_id\",  \"video_template_id\", \"country_code\", \"game_feed_asset_type_id\", \"header_bidding\"], axis=1, inplace=True)\n",
    "test.drop(['user_type_id', \"category_id\",  \"video_template_id\", \"country_code\", \"game_feed_asset_type_id\", \"header_bidding\"], axis=1, inplace=True)"
   ]
  },
  {
   "cell_type": "code",
   "execution_count": 8,
   "metadata": {
    "execution": {
     "iopub.execute_input": "2020-11-19T23:08:55.694297Z",
     "iopub.status.busy": "2020-11-19T23:08:55.692598Z",
     "iopub.status.idle": "2020-11-19T23:09:13.265701Z",
     "shell.execute_reply": "2020-11-19T23:09:13.264695Z"
    },
    "papermill": {
     "duration": 17.611225,
     "end_time": "2020-11-19T23:09:13.265833",
     "exception": false,
     "start_time": "2020-11-19T23:08:55.654608",
     "status": "completed"
    },
    "tags": []
   },
   "outputs": [],
   "source": [
    "app_ranking = pd.concat([train, test]).groupby(\"app_id\")[\"uid\"].nunique().reset_index(drop=False)\n",
    "app_ranking.columns = [\"app_id\", \"app_users\"]\n",
    "train = train.merge(app_ranking, on=\"app_id\", how=\"left\")\n",
    "test = test.merge(app_ranking, on=\"app_id\", how=\"left\")\n",
    "\n",
    "media_app_rank = pd.concat([train, test]).groupby([\"game_feed_id\", \"campaign_id\"])[\"media_app_id\"].nunique().reset_index(drop=False)\n",
    "media_app_rank.columns = [\"game_feed_id\", \"campaign_id\", \"madia_app_num\"]\n",
    "train = train.merge(media_app_rank, on=[\"game_feed_id\", \"campaign_id\"], how=\"left\")\n",
    "test = test.merge(media_app_rank, on=[\"game_feed_id\", \"campaign_id\"], how=\"left\")"
   ]
  },
  {
   "cell_type": "code",
   "execution_count": 9,
   "metadata": {
    "execution": {
     "iopub.execute_input": "2020-11-19T23:09:13.343231Z",
     "iopub.status.busy": "2020-11-19T23:09:13.339560Z",
     "iopub.status.idle": "2020-11-19T23:09:42.949849Z",
     "shell.execute_reply": "2020-11-19T23:09:42.948354Z"
    },
    "papermill": {
     "duration": 29.656545,
     "end_time": "2020-11-19T23:09:42.950022",
     "exception": false,
     "start_time": "2020-11-19T23:09:13.293477",
     "status": "completed"
    },
    "tags": []
   },
   "outputs": [],
   "source": [
    "object_feats = [i for i in train.columns if \"object\" == str(train[i].dtype) \n",
    "                and i != \"request_id\" and i != \"uid\" and i != \"date\" and i != \"hour\"]\n",
    "\n",
    "def get_non_overlapping(train: pd.DataFrame, test: pd.DataFrame, column: str):\n",
    "    only_in_train = set(train[column].unique()) - set(test[column].unique())\n",
    "    only_in_test = set(test[column].unique()) - set(train[column].unique())\n",
    "    non_overlapping = only_in_train.union(only_in_test)\n",
    "    return non_overlapping\n",
    "\n",
    "def category2num(train: pd.DataFrame, test: pd.DataFrame, columns: list):\n",
    "    train_ = train.copy()\n",
    "    test_ = test.copy()\n",
    "    for column in columns:\n",
    "        non_overlapping = get_non_overlapping(train, test, column)\n",
    "        try:\n",
    "            if train[column].dtype == np.dtype(\"O\"):\n",
    "                # dtypeがobjectなら欠損は'missing' クラスにする\n",
    "                train_[column] = train[column].fillna(\"missing\")\n",
    "                test_[column] = test[column].fillna(\"missing\")\n",
    "                train_[column] = train_[column].map(lambda x: x if x not in non_overlapping else \"other\")\n",
    "                test_[column] = test_[column].map(lambda x: x if x not in non_overlapping else \"other\")\n",
    "            else:\n",
    "                # dtypeがint/floatなら欠損は'-1'とする\n",
    "                train_[column] = train[column].fillna(-1)\n",
    "                test_[column] = test[column].fillna(-1)\n",
    "                train_[column] = train_[column].map(lambda x: x if x not in non_overlapping else -2)\n",
    "                test_[column] = test_[column].map(lambda x: x if x not in non_overlapping else -2)\n",
    "\n",
    "            le = preprocessing.LabelEncoder()\n",
    "            concatenated = pd.concat([train_, test_], axis=0).reset_index(drop=True)\n",
    "            le.fit(concatenated[column])\n",
    "            train_[column] = le.transform(train_[column])\n",
    "            test_[column] = le.transform(test_[column])\n",
    "        except Exception:\n",
    "            import pdb\n",
    "            pdb.set_trace()\n",
    "    return train_, test_\n",
    "\n",
    "train, test = category2num(train, test, object_feats)"
   ]
  },
  {
   "cell_type": "code",
   "execution_count": 10,
   "metadata": {
    "execution": {
     "iopub.execute_input": "2020-11-19T23:09:43.045645Z",
     "iopub.status.busy": "2020-11-19T23:09:43.042490Z",
     "iopub.status.idle": "2020-11-19T23:09:43.373357Z",
     "shell.execute_reply": "2020-11-19T23:09:43.372564Z"
    },
    "papermill": {
     "duration": 0.381993,
     "end_time": "2020-11-19T23:09:43.373524",
     "exception": false,
     "start_time": "2020-11-19T23:09:42.991531",
     "status": "completed"
    },
    "tags": []
   },
   "outputs": [],
   "source": [
    "# drop because the exist only in train\n",
    "train.drop(['click_or_view_at', 'cv_at','last_cv_interval', 'last_paid_interval'], axis=1, inplace=True)"
   ]
  },
  {
   "cell_type": "markdown",
   "metadata": {
    "papermill": {
     "duration": 0.044035,
     "end_time": "2020-11-19T23:09:43.471596",
     "exception": false,
     "start_time": "2020-11-19T23:09:43.427561",
     "status": "completed"
    },
    "tags": []
   },
   "source": [
    "# feature engineering"
   ]
  },
  {
   "cell_type": "code",
   "execution_count": 11,
   "metadata": {
    "execution": {
     "iopub.execute_input": "2020-11-19T23:09:43.545597Z",
     "iopub.status.busy": "2020-11-19T23:09:43.544031Z",
     "iopub.status.idle": "2020-11-19T23:09:54.507075Z",
     "shell.execute_reply": "2020-11-19T23:09:54.505848Z"
    },
    "papermill": {
     "duration": 10.998752,
     "end_time": "2020-11-19T23:09:54.507256",
     "exception": false,
     "start_time": "2020-11-19T23:09:43.508504",
     "status": "completed"
    },
    "tags": []
   },
   "outputs": [],
   "source": [
    "train[\"type\"] = \"train\"\n",
    "test[\"type\"] = \"test\"\n",
    "all_df = pd.concat([train, test])\n",
    "all_df = all_df.sort_values([\"uid\", \"imp_at\"]).reset_index(drop=True)"
   ]
  },
  {
   "cell_type": "code",
   "execution_count": 12,
   "metadata": {
    "execution": {
     "iopub.execute_input": "2020-11-19T23:09:54.570074Z",
     "iopub.status.busy": "2020-11-19T23:09:54.569011Z",
     "iopub.status.idle": "2020-11-19T23:09:58.550924Z",
     "shell.execute_reply": "2020-11-19T23:09:58.551581Z"
    },
    "papermill": {
     "duration": 4.015574,
     "end_time": "2020-11-19T23:09:58.551772",
     "exception": false,
     "start_time": "2020-11-19T23:09:54.536198",
     "status": "completed"
    },
    "tags": []
   },
   "outputs": [],
   "source": [
    "all_df[\"count\"] = 1\n",
    "all_df[\"count\"] = all_df.groupby(\"uid\")[\"count\"].cumsum()"
   ]
  },
  {
   "cell_type": "code",
   "execution_count": 13,
   "metadata": {
    "execution": {
     "iopub.execute_input": "2020-11-19T23:09:58.669342Z",
     "iopub.status.busy": "2020-11-19T23:09:58.668464Z",
     "iopub.status.idle": "2020-11-19T23:10:25.757846Z",
     "shell.execute_reply": "2020-11-19T23:10:25.757160Z"
    },
    "papermill": {
     "duration": 27.163661,
     "end_time": "2020-11-19T23:10:25.757974",
     "exception": false,
     "start_time": "2020-11-19T23:09:58.594313",
     "status": "completed"
    },
    "tags": []
   },
   "outputs": [],
   "source": [
    "def _create_whole_imp_at_feature(whole_df, var) -> pd.DataFrame:\n",
    "\n",
    "    imp_at = pd.to_datetime(whole_df['imp_at']) + timedelta(hours=9) # utc -> asia/tokyo\n",
    "    out_df = pd.DataFrame()\n",
    "    out_df['hours'] = imp_at.dt.hour\n",
    "    out_df['dayofweek'] = imp_at.dt.dayofweek\n",
    "    out_df['hour_zone'] = pd.cut(out_df['hours'].values, bins=[-np.inf, 6, 12, 18, np.inf]).codes\n",
    "\n",
    "    def _create_pivot(input_df, c, column='dayofweek', values='hours'):\n",
    "        _df = pd.pivot_table(data=input_df, index=[c], columns=[column], values=values, aggfunc='count')\n",
    "        _df = _df.fillna(0)\n",
    "        _df.columns = [column + '=' + str(x) for x in _df.columns]\n",
    "\n",
    "        # index ごとに正規化して割合にする\n",
    "        _df = _df.div(_df.sum(axis=1), axis=0)\n",
    "        return pd.merge(input_df[c], _df, on=c, how='left').drop(columns=[c]).add_prefix(c + '_')\n",
    "\n",
    "    # uid での集約\n",
    "    for c in [var]:\n",
    "        _df = out_df.copy()\n",
    "        _df[c] = whole_df[c]\n",
    "        _feat = pd.concat([\n",
    "            _create_pivot(_df, c),\n",
    "            _create_pivot(_df, c, column='hour_zone', values='dayofweek')  \n",
    "        ], axis=1)\n",
    "        out_df = pd.concat([out_df, _feat], axis=1)\n",
    "\n",
    "    out_df['request_id'] = whole_df['request_id']\n",
    "    return out_df\n",
    "\n",
    "user_imp_df = _create_whole_imp_at_feature(all_df, \"uid\")\n",
    "user_imp_df.drop([\"hours\",\"dayofweek\",\"hour_zone\"], axis=1, inplace=True)\n",
    "all_df = all_df.merge(user_imp_df, on=\"request_id\", how=\"left\")"
   ]
  },
  {
   "cell_type": "code",
   "execution_count": 14,
   "metadata": {
    "execution": {
     "iopub.execute_input": "2020-11-19T23:10:25.827599Z",
     "iopub.status.busy": "2020-11-19T23:10:25.826845Z",
     "iopub.status.idle": "2020-11-19T23:10:35.532167Z",
     "shell.execute_reply": "2020-11-19T23:10:35.531556Z"
    },
    "papermill": {
     "duration": 9.74196,
     "end_time": "2020-11-19T23:10:35.532278",
     "exception": false,
     "start_time": "2020-11-19T23:10:25.790318",
     "status": "completed"
    },
    "tags": []
   },
   "outputs": [],
   "source": [
    "camp_num = all_df.groupby(\"date\")[\"campaign_id\"].nunique().reset_index(drop=False)\n",
    "camp_num.columns=[\"date\", \"camp_num\"]\n",
    "all_df = all_df.merge(camp_num, on=\"date\", how=\"left\")\n",
    "\n",
    "user_num = all_df.groupby(\"date\")[\"uid\"].nunique().reset_index(drop=False)\n",
    "user_num.columns=[\"date\", \"user_num\"]\n",
    "all_df = all_df.merge(user_num, on=\"date\", how=\"left\")\n",
    "\n",
    "all_df.drop([\"date\", \"hour\"], axis=1, inplace=True)"
   ]
  },
  {
   "cell_type": "code",
   "execution_count": 15,
   "metadata": {
    "execution": {
     "iopub.execute_input": "2020-11-19T23:10:35.894028Z",
     "iopub.status.busy": "2020-11-19T23:10:35.893162Z",
     "iopub.status.idle": "2020-11-19T23:10:37.860291Z",
     "shell.execute_reply": "2020-11-19T23:10:37.860773Z"
    },
    "papermill": {
     "duration": 2.300659,
     "end_time": "2020-11-19T23:10:37.860936",
     "exception": false,
     "start_time": "2020-11-19T23:10:35.560277",
     "status": "completed"
    },
    "tags": []
   },
   "outputs": [],
   "source": [
    "train = all_df[all_df.type==\"train\"].drop(\"type\", axis=1).reset_index(drop=True)\n",
    "test = all_df[all_df.type==\"test\"].drop(\"type\", axis=1).reset_index(drop=True)"
   ]
  },
  {
   "cell_type": "code",
   "execution_count": 16,
   "metadata": {
    "execution": {
     "iopub.execute_input": "2020-11-19T23:10:37.923784Z",
     "iopub.status.busy": "2020-11-19T23:10:37.922739Z",
     "iopub.status.idle": "2020-11-19T23:10:39.673421Z",
     "shell.execute_reply": "2020-11-19T23:10:39.672802Z"
    },
    "papermill": {
     "duration": 1.78436,
     "end_time": "2020-11-19T23:10:39.673545",
     "exception": false,
     "start_time": "2020-11-19T23:10:37.889185",
     "status": "completed"
    },
    "tags": []
   },
   "outputs": [],
   "source": [
    "train = train.sort_values(\"imp_at\").reset_index(drop=True)\n",
    "test = test.sort_values(\"imp_at\").reset_index(drop=True)"
   ]
  },
  {
   "cell_type": "code",
   "execution_count": 17,
   "metadata": {
    "execution": {
     "iopub.execute_input": "2020-11-19T23:10:39.739062Z",
     "iopub.status.busy": "2020-11-19T23:10:39.738082Z",
     "iopub.status.idle": "2020-11-19T23:10:43.708334Z",
     "shell.execute_reply": "2020-11-19T23:10:43.706919Z"
    },
    "papermill": {
     "duration": 4.006962,
     "end_time": "2020-11-19T23:10:43.708458",
     "exception": false,
     "start_time": "2020-11-19T23:10:39.701496",
     "status": "completed"
    },
    "tags": []
   },
   "outputs": [],
   "source": [
    "ce_feats = [\"uid\"]\n",
    "for c in ce_feats:\n",
    "    freq = pd.concat([train[c], test[c]]).value_counts()\n",
    "    train[c] = train[c].map(freq)\n",
    "    test[c] = test[c].map(freq)"
   ]
  },
  {
   "cell_type": "markdown",
   "metadata": {
    "papermill": {
     "duration": 0.032315,
     "end_time": "2020-11-19T23:10:43.772125",
     "exception": false,
     "start_time": "2020-11-19T23:10:43.739810",
     "status": "completed"
    },
    "tags": []
   },
   "source": [
    "# separation for validation"
   ]
  },
  {
   "cell_type": "code",
   "execution_count": 18,
   "metadata": {
    "execution": {
     "iopub.execute_input": "2020-11-19T23:10:43.839097Z",
     "iopub.status.busy": "2020-11-19T23:10:43.837828Z",
     "iopub.status.idle": "2020-11-19T23:10:44.245295Z",
     "shell.execute_reply": "2020-11-19T23:10:44.244682Z"
    },
    "papermill": {
     "duration": 0.443155,
     "end_time": "2020-11-19T23:10:44.245437",
     "exception": false,
     "start_time": "2020-11-19T23:10:43.802282",
     "status": "completed"
    },
    "tags": []
   },
   "outputs": [],
   "source": [
    "train.drop(['request_id'], axis=1, inplace=True)\n",
    "test.drop(['request_id'], axis=1, inplace=True)"
   ]
  },
  {
   "cell_type": "code",
   "execution_count": 19,
   "metadata": {
    "execution": {
     "iopub.execute_input": "2020-11-19T23:10:44.311218Z",
     "iopub.status.busy": "2020-11-19T23:10:44.310269Z",
     "iopub.status.idle": "2020-11-19T23:10:44.798378Z",
     "shell.execute_reply": "2020-11-19T23:10:44.797724Z"
    },
    "papermill": {
     "duration": 0.523583,
     "end_time": "2020-11-19T23:10:44.798494",
     "exception": false,
     "start_time": "2020-11-19T23:10:44.274911",
     "status": "completed"
    },
    "tags": []
   },
   "outputs": [],
   "source": [
    "mask = train.imp_at > \"2020-05-21\"\n",
    "valid_df = train.loc[mask].copy()\n",
    "train_df = train.loc[~mask].copy()"
   ]
  },
  {
   "cell_type": "code",
   "execution_count": 20,
   "metadata": {
    "execution": {
     "iopub.execute_input": "2020-11-19T23:10:45.255123Z",
     "iopub.status.busy": "2020-11-19T23:10:45.111353Z",
     "iopub.status.idle": "2020-11-19T23:10:45.258597Z",
     "shell.execute_reply": "2020-11-19T23:10:45.258071Z"
    },
    "papermill": {
     "duration": 0.4278,
     "end_time": "2020-11-19T23:10:45.258700",
     "exception": false,
     "start_time": "2020-11-19T23:10:44.830900",
     "status": "completed"
    },
    "tags": []
   },
   "outputs": [],
   "source": [
    "train = train.drop([\"imp_at\"], axis=1) \n",
    "test = test.drop([\"imp_at\"], axis=1) \n",
    "\n",
    "valid_df = valid_df.drop([\"imp_at\"], axis=1)\n",
    "train_df = train_df.drop([\"imp_at\"], axis=1)"
   ]
  },
  {
   "cell_type": "code",
   "execution_count": 21,
   "metadata": {
    "execution": {
     "iopub.execute_input": "2020-11-19T23:10:45.357464Z",
     "iopub.status.busy": "2020-11-19T23:10:45.355501Z",
     "iopub.status.idle": "2020-11-19T23:10:45.358171Z",
     "shell.execute_reply": "2020-11-19T23:10:45.358638Z"
    },
    "papermill": {
     "duration": 0.070563,
     "end_time": "2020-11-19T23:10:45.358767",
     "exception": false,
     "start_time": "2020-11-19T23:10:45.288204",
     "status": "completed"
    },
    "tags": []
   },
   "outputs": [],
   "source": [
    "test = test.drop(\"target\", axis=1)"
   ]
  },
  {
   "cell_type": "code",
   "execution_count": 22,
   "metadata": {
    "execution": {
     "iopub.execute_input": "2020-11-19T23:10:45.428696Z",
     "iopub.status.busy": "2020-11-19T23:10:45.427741Z",
     "iopub.status.idle": "2020-11-19T23:10:45.431649Z",
     "shell.execute_reply": "2020-11-19T23:10:45.432130Z"
    },
    "papermill": {
     "duration": 0.042693,
     "end_time": "2020-11-19T23:10:45.432253",
     "exception": false,
     "start_time": "2020-11-19T23:10:45.389560",
     "status": "completed"
    },
    "tags": []
   },
   "outputs": [
    {
     "data": {
      "text/plain": [
       "((1997595, 40), (390095, 39))"
      ]
     },
     "execution_count": 22,
     "metadata": {},
     "output_type": "execute_result"
    }
   ],
   "source": [
    "train.shape, test.shape "
   ]
  },
  {
   "cell_type": "code",
   "execution_count": 23,
   "metadata": {
    "execution": {
     "iopub.execute_input": "2020-11-19T23:10:45.501138Z",
     "iopub.status.busy": "2020-11-19T23:10:45.500002Z",
     "iopub.status.idle": "2020-11-19T23:10:45.505230Z",
     "shell.execute_reply": "2020-11-19T23:10:45.505762Z"
    },
    "papermill": {
     "duration": 0.042849,
     "end_time": "2020-11-19T23:10:45.505916",
     "exception": false,
     "start_time": "2020-11-19T23:10:45.463067",
     "status": "completed"
    },
    "tags": []
   },
   "outputs": [
    {
     "data": {
      "text/plain": [
       "Index(['target', 'adnw_id', 'adspot_id', 'adspot_video_format_id',\n",
       "       'advertiser_id', 'app_id', 'auction_type_id', 'campaign_id',\n",
       "       'first_login_interval', 'frequency', 'from_click', 'game_feed_id',\n",
       "       'game_template_id', 'is_interstitial', 'item_id', 'last_login_interval',\n",
       "       'login_frequency', 'max_login_interval', 'media_app_id', 'os', 'pos',\n",
       "       'uid', 'mst_advertiser_order_id', 'mst_user_type_id', 'app_users',\n",
       "       'madia_app_num', 'count', 'uid_dayofweek=0', 'uid_dayofweek=1',\n",
       "       'uid_dayofweek=2', 'uid_dayofweek=3', 'uid_dayofweek=4',\n",
       "       'uid_dayofweek=5', 'uid_dayofweek=6', 'uid_hour_zone=0',\n",
       "       'uid_hour_zone=1', 'uid_hour_zone=2', 'uid_hour_zone=3', 'camp_num',\n",
       "       'user_num'],\n",
       "      dtype='object')"
      ]
     },
     "execution_count": 23,
     "metadata": {},
     "output_type": "execute_result"
    }
   ],
   "source": [
    "train.columns"
   ]
  },
  {
   "cell_type": "code",
   "execution_count": 24,
   "metadata": {
    "execution": {
     "iopub.execute_input": "2020-11-19T23:10:45.575477Z",
     "iopub.status.busy": "2020-11-19T23:10:45.574695Z",
     "iopub.status.idle": "2020-11-19T23:10:45.581103Z",
     "shell.execute_reply": "2020-11-19T23:10:45.580590Z"
    },
    "papermill": {
     "duration": 0.043392,
     "end_time": "2020-11-19T23:10:45.581201",
     "exception": false,
     "start_time": "2020-11-19T23:10:45.537809",
     "status": "completed"
    },
    "tags": []
   },
   "outputs": [
    {
     "data": {
      "text/plain": [
       "['advertiser_id',\n",
       " 'app_id',\n",
       " 'campaign_id',\n",
       " 'game_feed_id',\n",
       " 'game_template_id',\n",
       " 'media_app_id',\n",
       " 'mst_advertiser_order_id']"
      ]
     },
     "execution_count": 24,
     "metadata": {},
     "output_type": "execute_result"
    }
   ],
   "source": [
    "object_feats = [i for i in object_feats if i in train.columns] \n",
    "object_feats"
   ]
  },
  {
   "cell_type": "code",
   "execution_count": 25,
   "metadata": {
    "execution": {
     "iopub.execute_input": "2020-11-19T23:10:45.992178Z",
     "iopub.status.busy": "2020-11-19T23:10:45.990012Z",
     "iopub.status.idle": "2020-11-19T23:10:45.992985Z",
     "shell.execute_reply": "2020-11-19T23:10:45.993537Z"
    },
    "papermill": {
     "duration": 0.381187,
     "end_time": "2020-11-19T23:10:45.993731",
     "exception": false,
     "start_time": "2020-11-19T23:10:45.612544",
     "status": "completed"
    },
    "tags": []
   },
   "outputs": [],
   "source": [
    "del all_df, user_imp_df"
   ]
  },
  {
   "cell_type": "markdown",
   "metadata": {
    "papermill": {
     "duration": 0.032127,
     "end_time": "2020-11-19T23:10:46.059384",
     "exception": false,
     "start_time": "2020-11-19T23:10:46.027257",
     "status": "completed"
    },
    "tags": []
   },
   "source": [
    "# stratified lgb"
   ]
  },
  {
   "cell_type": "code",
   "execution_count": 26,
   "metadata": {
    "_cell_guid": "79c7e3d0-c299-4dcb-8224-4455121ee9b0",
    "_uuid": "d629ff2d2480ee46fbb7e2d37f6b5fab8052498a",
    "execution": {
     "iopub.execute_input": "2020-11-19T23:10:46.147526Z",
     "iopub.status.busy": "2020-11-19T23:10:46.146193Z",
     "iopub.status.idle": "2020-11-19T23:39:48.272619Z",
     "shell.execute_reply": "2020-11-19T23:39:48.271806Z"
    },
    "papermill": {
     "duration": 1742.182198,
     "end_time": "2020-11-19T23:39:48.272761",
     "exception": false,
     "start_time": "2020-11-19T23:10:46.090563",
     "status": "completed"
    },
    "tags": []
   },
   "outputs": [
    {
     "name": "stdout",
     "output_type": "stream",
     "text": [
      "seed: 0\n",
      "fold:  0\n",
      "Training until validation scores don't improve for 20 rounds\n",
      "[30]\ttraining's pr_auc: 0.266824\tvalid_1's pr_auc: 0.261274\n",
      "[60]\ttraining's pr_auc: 0.290312\tvalid_1's pr_auc: 0.279244\n",
      "[90]\ttraining's pr_auc: 0.303866\tvalid_1's pr_auc: 0.285887\n",
      "[120]\ttraining's pr_auc: 0.312721\tvalid_1's pr_auc: 0.288434\n",
      "[150]\ttraining's pr_auc: 0.321673\tvalid_1's pr_auc: 0.291614\n",
      "[180]\ttraining's pr_auc: 0.330722\tvalid_1's pr_auc: 0.294979\n",
      "[210]\ttraining's pr_auc: 0.338105\tvalid_1's pr_auc: 0.296171\n",
      "[240]\ttraining's pr_auc: 0.344596\tvalid_1's pr_auc: 0.297017\n",
      "[270]\ttraining's pr_auc: 0.351574\tvalid_1's pr_auc: 0.29803\n",
      "[300]\ttraining's pr_auc: 0.356813\tvalid_1's pr_auc: 0.298545\n",
      "[330]\ttraining's pr_auc: 0.362825\tvalid_1's pr_auc: 0.298982\n",
      "[360]\ttraining's pr_auc: 0.36814\tvalid_1's pr_auc: 0.299464\n",
      "Early stopping, best iteration is:\n",
      "[350]\ttraining's pr_auc: 0.366459\tvalid_1's pr_auc: 0.299616\n",
      "fold:  1\n",
      "Training until validation scores don't improve for 20 rounds\n",
      "[30]\ttraining's pr_auc: 0.266414\tvalid_1's pr_auc: 0.264985\n",
      "[60]\ttraining's pr_auc: 0.290465\tvalid_1's pr_auc: 0.282438\n",
      "[90]\ttraining's pr_auc: 0.304037\tvalid_1's pr_auc: 0.289673\n",
      "[120]\ttraining's pr_auc: 0.314916\tvalid_1's pr_auc: 0.294486\n",
      "[150]\ttraining's pr_auc: 0.322707\tvalid_1's pr_auc: 0.296069\n",
      "[180]\ttraining's pr_auc: 0.32967\tvalid_1's pr_auc: 0.298131\n",
      "[210]\ttraining's pr_auc: 0.337531\tvalid_1's pr_auc: 0.30007\n",
      "[240]\ttraining's pr_auc: 0.34371\tvalid_1's pr_auc: 0.30073\n",
      "[270]\ttraining's pr_auc: 0.349716\tvalid_1's pr_auc: 0.301384\n",
      "[300]\ttraining's pr_auc: 0.355427\tvalid_1's pr_auc: 0.301652\n",
      "[330]\ttraining's pr_auc: 0.361509\tvalid_1's pr_auc: 0.302329\n",
      "Early stopping, best iteration is:\n",
      "[334]\ttraining's pr_auc: 0.362133\tvalid_1's pr_auc: 0.302415\n",
      "fold:  2\n",
      "Training until validation scores don't improve for 20 rounds\n",
      "[30]\ttraining's pr_auc: 0.266246\tvalid_1's pr_auc: 0.266844\n",
      "[60]\ttraining's pr_auc: 0.290328\tvalid_1's pr_auc: 0.284672\n",
      "[90]\ttraining's pr_auc: 0.303437\tvalid_1's pr_auc: 0.290716\n",
      "[120]\ttraining's pr_auc: 0.314106\tvalid_1's pr_auc: 0.295031\n",
      "[150]\ttraining's pr_auc: 0.322902\tvalid_1's pr_auc: 0.296622\n",
      "[180]\ttraining's pr_auc: 0.331108\tvalid_1's pr_auc: 0.298573\n",
      "[210]\ttraining's pr_auc: 0.338392\tvalid_1's pr_auc: 0.299938\n",
      "[240]\ttraining's pr_auc: 0.344797\tvalid_1's pr_auc: 0.301204\n",
      "[270]\ttraining's pr_auc: 0.351265\tvalid_1's pr_auc: 0.301723\n",
      "Early stopping, best iteration is:\n",
      "[256]\ttraining's pr_auc: 0.348329\tvalid_1's pr_auc: 0.301894\n",
      "fold:  3\n",
      "Training until validation scores don't improve for 20 rounds\n",
      "[30]\ttraining's pr_auc: 0.267396\tvalid_1's pr_auc: 0.260133\n",
      "[60]\ttraining's pr_auc: 0.290602\tvalid_1's pr_auc: 0.277848\n",
      "[90]\ttraining's pr_auc: 0.304203\tvalid_1's pr_auc: 0.283908\n",
      "[120]\ttraining's pr_auc: 0.313421\tvalid_1's pr_auc: 0.286258\n",
      "[150]\ttraining's pr_auc: 0.322664\tvalid_1's pr_auc: 0.288983\n",
      "[180]\ttraining's pr_auc: 0.329631\tvalid_1's pr_auc: 0.290322\n",
      "[210]\ttraining's pr_auc: 0.337719\tvalid_1's pr_auc: 0.291553\n",
      "[240]\ttraining's pr_auc: 0.344136\tvalid_1's pr_auc: 0.292143\n",
      "Early stopping, best iteration is:\n",
      "[226]\ttraining's pr_auc: 0.341731\tvalid_1's pr_auc: 0.292574\n",
      "fold:  4\n",
      "Training until validation scores don't improve for 20 rounds\n",
      "[30]\ttraining's pr_auc: 0.269284\tvalid_1's pr_auc: 0.261417\n",
      "[60]\ttraining's pr_auc: 0.293375\tvalid_1's pr_auc: 0.278701\n",
      "[90]\ttraining's pr_auc: 0.304881\tvalid_1's pr_auc: 0.282895\n",
      "[120]\ttraining's pr_auc: 0.315114\tvalid_1's pr_auc: 0.286981\n",
      "[150]\ttraining's pr_auc: 0.323488\tvalid_1's pr_auc: 0.288638\n",
      "[180]\ttraining's pr_auc: 0.330678\tvalid_1's pr_auc: 0.290054\n",
      "[210]\ttraining's pr_auc: 0.33813\tvalid_1's pr_auc: 0.290811\n",
      "[240]\ttraining's pr_auc: 0.344882\tvalid_1's pr_auc: 0.29213\n",
      "[270]\ttraining's pr_auc: 0.350636\tvalid_1's pr_auc: 0.293146\n",
      "[300]\ttraining's pr_auc: 0.356554\tvalid_1's pr_auc: 0.293587\n",
      "Early stopping, best iteration is:\n",
      "[297]\ttraining's pr_auc: 0.35613\tvalid_1's pr_auc: 0.293589\n",
      "0.2978729838814035\n"
     ]
    }
   ],
   "source": [
    "# stratified k fold\n",
    "n_folds = 5\n",
    "def pr_auc_metric(y_predicted, y_true):\n",
    "    return 'pr_auc', average_precision_score(y_true.get_label(), y_predicted), True\n",
    "\n",
    "def modelling(seed):\n",
    "    print(\"seed:\", seed)\n",
    "    lgbm_params = {'objective': 'binary', 'metric': 'None', 'boosting_type': 'gbdt', \n",
    "               'tree_learner': 'serial', 'learning_rate': 0.1, \"num_leaves\": 10, 'random_seed':seed,'max_depth': 5}\n",
    "    \n",
    "    y = train.target.copy()\n",
    "    X = train.drop(['target'],axis=1).copy()\n",
    "    \n",
    "    skf=StratifiedKFold(n_splits = n_folds, shuffle=True, random_state=0)\n",
    "    \n",
    "    valid = np.zeros([X.shape[0]])\n",
    "    features_list = [i for i in X.columns]\n",
    "    pred_value = np.zeros(test.shape[0])\n",
    "    feature_importance_df = pd.DataFrame(features_list, columns=[\"Feature\"])\n",
    "    \n",
    "    for i , (train_index, val_index) in enumerate(skf.split(X, y)):\n",
    "        print(\"fold: \", i)\n",
    "        \n",
    "        X_train = X.iloc[train_index,:]\n",
    "        y_train = y.iloc[train_index]\n",
    "\n",
    "        X_valid = X.iloc[val_index,:]\n",
    "        y_valid = y.iloc[val_index]\n",
    "        \n",
    "        lgb_train = lgb.Dataset(X_train, y_train)\n",
    "        lgb_eval = lgb.Dataset(X_valid, y_valid, reference=lgb_train)\n",
    "        \n",
    "        model = lgb.train(lgbm_params, lgb_train,valid_sets=[lgb_train, lgb_eval],\n",
    "           num_boost_round=10000,early_stopping_rounds=20,verbose_eval = 30,\n",
    "                          feval=pr_auc_metric, categorical_feature = sorted(object_feats))\n",
    "        \n",
    "        valid_predict = model.predict(X_valid, num_iteration = model.best_iteration)\n",
    "        valid[val_index] = valid_predict\n",
    "        pred_value += model.predict(test, num_iteration = model.best_iteration)\n",
    "        feature_importance_df[\"Fold_\"+str(i+1)] = model.feature_importance()\n",
    "    \n",
    "    feature_importance_df[\"Average\"] = np.mean(feature_importance_df.iloc[:,1:n_folds+1], axis=1)\n",
    "    feature_importance_df[\"Std\"] = np.std(feature_importance_df.iloc[:,1:n_folds+1], axis=1)\n",
    "    feature_importance_df[\"Cv\"] = feature_importance_df[\"Std\"] / feature_importance_df[\"Average\"]\n",
    "    \n",
    "    return pred_value, valid, feature_importance_df\n",
    "\n",
    "validation = np.zeros([train.shape[0]])\n",
    "pred_value = np.zeros([test.shape[0]])\n",
    "seeds = [0]\n",
    "for seed_ in seeds:\n",
    "    test_pred, oof_predict, feature_importance_df = modelling(seed_)\n",
    "    validation += oof_predict / len(seeds)\n",
    "    pred_value += test_pred / len(seeds)\n",
    "\n",
    "score = average_precision_score(train.target, validation)\n",
    "print(score)"
   ]
  },
  {
   "cell_type": "code",
   "execution_count": 27,
   "metadata": {
    "execution": {
     "iopub.execute_input": "2020-11-19T23:39:48.390984Z",
     "iopub.status.busy": "2020-11-19T23:39:48.390344Z",
     "iopub.status.idle": "2020-11-19T23:39:48.410961Z",
     "shell.execute_reply": "2020-11-19T23:39:48.411744Z"
    },
    "papermill": {
     "duration": 0.086928,
     "end_time": "2020-11-19T23:39:48.411864",
     "exception": false,
     "start_time": "2020-11-19T23:39:48.324936",
     "status": "completed"
    },
    "tags": []
   },
   "outputs": [
    {
     "data": {
      "text/html": [
       "<div>\n",
       "<style scoped>\n",
       "    .dataframe tbody tr th:only-of-type {\n",
       "        vertical-align: middle;\n",
       "    }\n",
       "\n",
       "    .dataframe tbody tr th {\n",
       "        vertical-align: top;\n",
       "    }\n",
       "\n",
       "    .dataframe thead th {\n",
       "        text-align: right;\n",
       "    }\n",
       "</style>\n",
       "<table border=\"1\" class=\"dataframe\">\n",
       "  <thead>\n",
       "    <tr style=\"text-align: right;\">\n",
       "      <th></th>\n",
       "      <th>Feature</th>\n",
       "      <th>Fold_1</th>\n",
       "      <th>Fold_2</th>\n",
       "      <th>Fold_3</th>\n",
       "      <th>Fold_4</th>\n",
       "      <th>Fold_5</th>\n",
       "      <th>Average</th>\n",
       "      <th>Std</th>\n",
       "      <th>Cv</th>\n",
       "    </tr>\n",
       "  </thead>\n",
       "  <tbody>\n",
       "    <tr>\n",
       "      <th>4</th>\n",
       "      <td>app_id</td>\n",
       "      <td>796</td>\n",
       "      <td>772</td>\n",
       "      <td>567</td>\n",
       "      <td>495</td>\n",
       "      <td>682</td>\n",
       "      <td>662.4</td>\n",
       "      <td>116.076871</td>\n",
       "      <td>0.175237</td>\n",
       "    </tr>\n",
       "    <tr>\n",
       "      <th>6</th>\n",
       "      <td>campaign_id</td>\n",
       "      <td>463</td>\n",
       "      <td>436</td>\n",
       "      <td>383</td>\n",
       "      <td>345</td>\n",
       "      <td>421</td>\n",
       "      <td>409.6</td>\n",
       "      <td>41.374388</td>\n",
       "      <td>0.101012</td>\n",
       "    </tr>\n",
       "    <tr>\n",
       "      <th>17</th>\n",
       "      <td>media_app_id</td>\n",
       "      <td>416</td>\n",
       "      <td>391</td>\n",
       "      <td>276</td>\n",
       "      <td>249</td>\n",
       "      <td>339</td>\n",
       "      <td>334.2</td>\n",
       "      <td>64.166658</td>\n",
       "      <td>0.192001</td>\n",
       "    </tr>\n",
       "    <tr>\n",
       "      <th>10</th>\n",
       "      <td>game_feed_id</td>\n",
       "      <td>243</td>\n",
       "      <td>219</td>\n",
       "      <td>170</td>\n",
       "      <td>129</td>\n",
       "      <td>181</td>\n",
       "      <td>188.4</td>\n",
       "      <td>39.595959</td>\n",
       "      <td>0.210170</td>\n",
       "    </tr>\n",
       "    <tr>\n",
       "      <th>20</th>\n",
       "      <td>uid</td>\n",
       "      <td>165</td>\n",
       "      <td>172</td>\n",
       "      <td>156</td>\n",
       "      <td>135</td>\n",
       "      <td>158</td>\n",
       "      <td>157.2</td>\n",
       "      <td>12.448293</td>\n",
       "      <td>0.079188</td>\n",
       "    </tr>\n",
       "    <tr>\n",
       "      <th>3</th>\n",
       "      <td>advertiser_id</td>\n",
       "      <td>159</td>\n",
       "      <td>159</td>\n",
       "      <td>136</td>\n",
       "      <td>119</td>\n",
       "      <td>146</td>\n",
       "      <td>143.8</td>\n",
       "      <td>15.118201</td>\n",
       "      <td>0.105134</td>\n",
       "    </tr>\n",
       "    <tr>\n",
       "      <th>21</th>\n",
       "      <td>mst_advertiser_order_id</td>\n",
       "      <td>111</td>\n",
       "      <td>102</td>\n",
       "      <td>69</td>\n",
       "      <td>77</td>\n",
       "      <td>102</td>\n",
       "      <td>92.2</td>\n",
       "      <td>16.216041</td>\n",
       "      <td>0.175879</td>\n",
       "    </tr>\n",
       "    <tr>\n",
       "      <th>25</th>\n",
       "      <td>count</td>\n",
       "      <td>93</td>\n",
       "      <td>98</td>\n",
       "      <td>78</td>\n",
       "      <td>72</td>\n",
       "      <td>90</td>\n",
       "      <td>86.2</td>\n",
       "      <td>9.682975</td>\n",
       "      <td>0.112331</td>\n",
       "    </tr>\n",
       "    <tr>\n",
       "      <th>24</th>\n",
       "      <td>madia_app_num</td>\n",
       "      <td>75</td>\n",
       "      <td>88</td>\n",
       "      <td>58</td>\n",
       "      <td>56</td>\n",
       "      <td>76</td>\n",
       "      <td>70.6</td>\n",
       "      <td>12.026637</td>\n",
       "      <td>0.170349</td>\n",
       "    </tr>\n",
       "    <tr>\n",
       "      <th>14</th>\n",
       "      <td>last_login_interval</td>\n",
       "      <td>73</td>\n",
       "      <td>63</td>\n",
       "      <td>53</td>\n",
       "      <td>43</td>\n",
       "      <td>49</td>\n",
       "      <td>56.2</td>\n",
       "      <td>10.628264</td>\n",
       "      <td>0.189115</td>\n",
       "    </tr>\n",
       "    <tr>\n",
       "      <th>7</th>\n",
       "      <td>first_login_interval</td>\n",
       "      <td>62</td>\n",
       "      <td>68</td>\n",
       "      <td>50</td>\n",
       "      <td>39</td>\n",
       "      <td>56</td>\n",
       "      <td>55.0</td>\n",
       "      <td>10.000000</td>\n",
       "      <td>0.181818</td>\n",
       "    </tr>\n",
       "    <tr>\n",
       "      <th>15</th>\n",
       "      <td>login_frequency</td>\n",
       "      <td>56</td>\n",
       "      <td>56</td>\n",
       "      <td>42</td>\n",
       "      <td>39</td>\n",
       "      <td>43</td>\n",
       "      <td>47.2</td>\n",
       "      <td>7.304793</td>\n",
       "      <td>0.154763</td>\n",
       "    </tr>\n",
       "    <tr>\n",
       "      <th>38</th>\n",
       "      <td>user_num</td>\n",
       "      <td>50</td>\n",
       "      <td>58</td>\n",
       "      <td>40</td>\n",
       "      <td>33</td>\n",
       "      <td>44</td>\n",
       "      <td>45.0</td>\n",
       "      <td>8.532292</td>\n",
       "      <td>0.189606</td>\n",
       "    </tr>\n",
       "    <tr>\n",
       "      <th>23</th>\n",
       "      <td>app_users</td>\n",
       "      <td>65</td>\n",
       "      <td>47</td>\n",
       "      <td>27</td>\n",
       "      <td>32</td>\n",
       "      <td>39</td>\n",
       "      <td>42.0</td>\n",
       "      <td>13.326665</td>\n",
       "      <td>0.317302</td>\n",
       "    </tr>\n",
       "    <tr>\n",
       "      <th>16</th>\n",
       "      <td>max_login_interval</td>\n",
       "      <td>55</td>\n",
       "      <td>42</td>\n",
       "      <td>29</td>\n",
       "      <td>31</td>\n",
       "      <td>42</td>\n",
       "      <td>39.8</td>\n",
       "      <td>9.325235</td>\n",
       "      <td>0.234302</td>\n",
       "    </tr>\n",
       "    <tr>\n",
       "      <th>22</th>\n",
       "      <td>mst_user_type_id</td>\n",
       "      <td>47</td>\n",
       "      <td>41</td>\n",
       "      <td>34</td>\n",
       "      <td>30</td>\n",
       "      <td>40</td>\n",
       "      <td>38.4</td>\n",
       "      <td>5.885576</td>\n",
       "      <td>0.153270</td>\n",
       "    </tr>\n",
       "    <tr>\n",
       "      <th>37</th>\n",
       "      <td>camp_num</td>\n",
       "      <td>52</td>\n",
       "      <td>38</td>\n",
       "      <td>31</td>\n",
       "      <td>32</td>\n",
       "      <td>35</td>\n",
       "      <td>37.6</td>\n",
       "      <td>7.605261</td>\n",
       "      <td>0.202268</td>\n",
       "    </tr>\n",
       "    <tr>\n",
       "      <th>9</th>\n",
       "      <td>from_click</td>\n",
       "      <td>26</td>\n",
       "      <td>26</td>\n",
       "      <td>23</td>\n",
       "      <td>25</td>\n",
       "      <td>24</td>\n",
       "      <td>24.8</td>\n",
       "      <td>1.166190</td>\n",
       "      <td>0.047024</td>\n",
       "    </tr>\n",
       "    <tr>\n",
       "      <th>35</th>\n",
       "      <td>uid_hour_zone=2</td>\n",
       "      <td>11</td>\n",
       "      <td>15</td>\n",
       "      <td>9</td>\n",
       "      <td>4</td>\n",
       "      <td>12</td>\n",
       "      <td>10.2</td>\n",
       "      <td>3.655133</td>\n",
       "      <td>0.358346</td>\n",
       "    </tr>\n",
       "    <tr>\n",
       "      <th>32</th>\n",
       "      <td>uid_dayofweek=6</td>\n",
       "      <td>13</td>\n",
       "      <td>14</td>\n",
       "      <td>8</td>\n",
       "      <td>7</td>\n",
       "      <td>3</td>\n",
       "      <td>9.0</td>\n",
       "      <td>4.049691</td>\n",
       "      <td>0.449966</td>\n",
       "    </tr>\n",
       "    <tr>\n",
       "      <th>27</th>\n",
       "      <td>uid_dayofweek=1</td>\n",
       "      <td>14</td>\n",
       "      <td>11</td>\n",
       "      <td>9</td>\n",
       "      <td>5</td>\n",
       "      <td>5</td>\n",
       "      <td>8.8</td>\n",
       "      <td>3.487119</td>\n",
       "      <td>0.396264</td>\n",
       "    </tr>\n",
       "    <tr>\n",
       "      <th>33</th>\n",
       "      <td>uid_hour_zone=0</td>\n",
       "      <td>11</td>\n",
       "      <td>8</td>\n",
       "      <td>6</td>\n",
       "      <td>4</td>\n",
       "      <td>13</td>\n",
       "      <td>8.4</td>\n",
       "      <td>3.261901</td>\n",
       "      <td>0.388322</td>\n",
       "    </tr>\n",
       "    <tr>\n",
       "      <th>13</th>\n",
       "      <td>item_id</td>\n",
       "      <td>12</td>\n",
       "      <td>10</td>\n",
       "      <td>4</td>\n",
       "      <td>6</td>\n",
       "      <td>10</td>\n",
       "      <td>8.4</td>\n",
       "      <td>2.939388</td>\n",
       "      <td>0.349927</td>\n",
       "    </tr>\n",
       "    <tr>\n",
       "      <th>30</th>\n",
       "      <td>uid_dayofweek=4</td>\n",
       "      <td>10</td>\n",
       "      <td>7</td>\n",
       "      <td>9</td>\n",
       "      <td>5</td>\n",
       "      <td>10</td>\n",
       "      <td>8.2</td>\n",
       "      <td>1.939072</td>\n",
       "      <td>0.236472</td>\n",
       "    </tr>\n",
       "    <tr>\n",
       "      <th>11</th>\n",
       "      <td>game_template_id</td>\n",
       "      <td>10</td>\n",
       "      <td>10</td>\n",
       "      <td>4</td>\n",
       "      <td>3</td>\n",
       "      <td>11</td>\n",
       "      <td>7.6</td>\n",
       "      <td>3.382307</td>\n",
       "      <td>0.445040</td>\n",
       "    </tr>\n",
       "    <tr>\n",
       "      <th>2</th>\n",
       "      <td>adspot_video_format_id</td>\n",
       "      <td>8</td>\n",
       "      <td>10</td>\n",
       "      <td>7</td>\n",
       "      <td>4</td>\n",
       "      <td>8</td>\n",
       "      <td>7.4</td>\n",
       "      <td>1.959592</td>\n",
       "      <td>0.264810</td>\n",
       "    </tr>\n",
       "    <tr>\n",
       "      <th>26</th>\n",
       "      <td>uid_dayofweek=0</td>\n",
       "      <td>9</td>\n",
       "      <td>8</td>\n",
       "      <td>5</td>\n",
       "      <td>5</td>\n",
       "      <td>7</td>\n",
       "      <td>6.8</td>\n",
       "      <td>1.600000</td>\n",
       "      <td>0.235294</td>\n",
       "    </tr>\n",
       "    <tr>\n",
       "      <th>31</th>\n",
       "      <td>uid_dayofweek=5</td>\n",
       "      <td>10</td>\n",
       "      <td>3</td>\n",
       "      <td>4</td>\n",
       "      <td>4</td>\n",
       "      <td>8</td>\n",
       "      <td>5.8</td>\n",
       "      <td>2.712932</td>\n",
       "      <td>0.467747</td>\n",
       "    </tr>\n",
       "    <tr>\n",
       "      <th>34</th>\n",
       "      <td>uid_hour_zone=1</td>\n",
       "      <td>10</td>\n",
       "      <td>7</td>\n",
       "      <td>2</td>\n",
       "      <td>1</td>\n",
       "      <td>4</td>\n",
       "      <td>4.8</td>\n",
       "      <td>3.310589</td>\n",
       "      <td>0.689706</td>\n",
       "    </tr>\n",
       "    <tr>\n",
       "      <th>28</th>\n",
       "      <td>uid_dayofweek=2</td>\n",
       "      <td>3</td>\n",
       "      <td>6</td>\n",
       "      <td>8</td>\n",
       "      <td>1</td>\n",
       "      <td>6</td>\n",
       "      <td>4.8</td>\n",
       "      <td>2.481935</td>\n",
       "      <td>0.517070</td>\n",
       "    </tr>\n",
       "    <tr>\n",
       "      <th>29</th>\n",
       "      <td>uid_dayofweek=3</td>\n",
       "      <td>9</td>\n",
       "      <td>6</td>\n",
       "      <td>0</td>\n",
       "      <td>1</td>\n",
       "      <td>0</td>\n",
       "      <td>3.2</td>\n",
       "      <td>3.655133</td>\n",
       "      <td>1.142229</td>\n",
       "    </tr>\n",
       "    <tr>\n",
       "      <th>36</th>\n",
       "      <td>uid_hour_zone=3</td>\n",
       "      <td>6</td>\n",
       "      <td>5</td>\n",
       "      <td>2</td>\n",
       "      <td>1</td>\n",
       "      <td>1</td>\n",
       "      <td>3.0</td>\n",
       "      <td>2.097618</td>\n",
       "      <td>0.699206</td>\n",
       "    </tr>\n",
       "    <tr>\n",
       "      <th>8</th>\n",
       "      <td>frequency</td>\n",
       "      <td>3</td>\n",
       "      <td>3</td>\n",
       "      <td>2</td>\n",
       "      <td>2</td>\n",
       "      <td>4</td>\n",
       "      <td>2.8</td>\n",
       "      <td>0.748331</td>\n",
       "      <td>0.267261</td>\n",
       "    </tr>\n",
       "    <tr>\n",
       "      <th>0</th>\n",
       "      <td>adnw_id</td>\n",
       "      <td>1</td>\n",
       "      <td>2</td>\n",
       "      <td>0</td>\n",
       "      <td>0</td>\n",
       "      <td>1</td>\n",
       "      <td>0.8</td>\n",
       "      <td>0.748331</td>\n",
       "      <td>0.935414</td>\n",
       "    </tr>\n",
       "    <tr>\n",
       "      <th>1</th>\n",
       "      <td>adspot_id</td>\n",
       "      <td>0</td>\n",
       "      <td>2</td>\n",
       "      <td>2</td>\n",
       "      <td>0</td>\n",
       "      <td>0</td>\n",
       "      <td>0.8</td>\n",
       "      <td>0.979796</td>\n",
       "      <td>1.224745</td>\n",
       "    </tr>\n",
       "    <tr>\n",
       "      <th>19</th>\n",
       "      <td>pos</td>\n",
       "      <td>3</td>\n",
       "      <td>0</td>\n",
       "      <td>1</td>\n",
       "      <td>0</td>\n",
       "      <td>0</td>\n",
       "      <td>0.8</td>\n",
       "      <td>1.166190</td>\n",
       "      <td>1.457738</td>\n",
       "    </tr>\n",
       "    <tr>\n",
       "      <th>18</th>\n",
       "      <td>os</td>\n",
       "      <td>0</td>\n",
       "      <td>2</td>\n",
       "      <td>0</td>\n",
       "      <td>0</td>\n",
       "      <td>1</td>\n",
       "      <td>0.6</td>\n",
       "      <td>0.800000</td>\n",
       "      <td>1.333333</td>\n",
       "    </tr>\n",
       "    <tr>\n",
       "      <th>5</th>\n",
       "      <td>auction_type_id</td>\n",
       "      <td>0</td>\n",
       "      <td>1</td>\n",
       "      <td>0</td>\n",
       "      <td>0</td>\n",
       "      <td>1</td>\n",
       "      <td>0.4</td>\n",
       "      <td>0.489898</td>\n",
       "      <td>1.224745</td>\n",
       "    </tr>\n",
       "    <tr>\n",
       "      <th>12</th>\n",
       "      <td>is_interstitial</td>\n",
       "      <td>0</td>\n",
       "      <td>0</td>\n",
       "      <td>0</td>\n",
       "      <td>0</td>\n",
       "      <td>1</td>\n",
       "      <td>0.2</td>\n",
       "      <td>0.400000</td>\n",
       "      <td>2.000000</td>\n",
       "    </tr>\n",
       "  </tbody>\n",
       "</table>\n",
       "</div>"
      ],
      "text/plain": [
       "                    Feature  Fold_1  Fold_2  Fold_3  Fold_4  Fold_5  Average  \\\n",
       "4                    app_id     796     772     567     495     682    662.4   \n",
       "6               campaign_id     463     436     383     345     421    409.6   \n",
       "17             media_app_id     416     391     276     249     339    334.2   \n",
       "10             game_feed_id     243     219     170     129     181    188.4   \n",
       "20                      uid     165     172     156     135     158    157.2   \n",
       "3             advertiser_id     159     159     136     119     146    143.8   \n",
       "21  mst_advertiser_order_id     111     102      69      77     102     92.2   \n",
       "25                    count      93      98      78      72      90     86.2   \n",
       "24            madia_app_num      75      88      58      56      76     70.6   \n",
       "14      last_login_interval      73      63      53      43      49     56.2   \n",
       "7      first_login_interval      62      68      50      39      56     55.0   \n",
       "15          login_frequency      56      56      42      39      43     47.2   \n",
       "38                 user_num      50      58      40      33      44     45.0   \n",
       "23                app_users      65      47      27      32      39     42.0   \n",
       "16       max_login_interval      55      42      29      31      42     39.8   \n",
       "22         mst_user_type_id      47      41      34      30      40     38.4   \n",
       "37                 camp_num      52      38      31      32      35     37.6   \n",
       "9                from_click      26      26      23      25      24     24.8   \n",
       "35          uid_hour_zone=2      11      15       9       4      12     10.2   \n",
       "32          uid_dayofweek=6      13      14       8       7       3      9.0   \n",
       "27          uid_dayofweek=1      14      11       9       5       5      8.8   \n",
       "33          uid_hour_zone=0      11       8       6       4      13      8.4   \n",
       "13                  item_id      12      10       4       6      10      8.4   \n",
       "30          uid_dayofweek=4      10       7       9       5      10      8.2   \n",
       "11         game_template_id      10      10       4       3      11      7.6   \n",
       "2    adspot_video_format_id       8      10       7       4       8      7.4   \n",
       "26          uid_dayofweek=0       9       8       5       5       7      6.8   \n",
       "31          uid_dayofweek=5      10       3       4       4       8      5.8   \n",
       "34          uid_hour_zone=1      10       7       2       1       4      4.8   \n",
       "28          uid_dayofweek=2       3       6       8       1       6      4.8   \n",
       "29          uid_dayofweek=3       9       6       0       1       0      3.2   \n",
       "36          uid_hour_zone=3       6       5       2       1       1      3.0   \n",
       "8                 frequency       3       3       2       2       4      2.8   \n",
       "0                   adnw_id       1       2       0       0       1      0.8   \n",
       "1                 adspot_id       0       2       2       0       0      0.8   \n",
       "19                      pos       3       0       1       0       0      0.8   \n",
       "18                       os       0       2       0       0       1      0.6   \n",
       "5           auction_type_id       0       1       0       0       1      0.4   \n",
       "12          is_interstitial       0       0       0       0       1      0.2   \n",
       "\n",
       "           Std        Cv  \n",
       "4   116.076871  0.175237  \n",
       "6    41.374388  0.101012  \n",
       "17   64.166658  0.192001  \n",
       "10   39.595959  0.210170  \n",
       "20   12.448293  0.079188  \n",
       "3    15.118201  0.105134  \n",
       "21   16.216041  0.175879  \n",
       "25    9.682975  0.112331  \n",
       "24   12.026637  0.170349  \n",
       "14   10.628264  0.189115  \n",
       "7    10.000000  0.181818  \n",
       "15    7.304793  0.154763  \n",
       "38    8.532292  0.189606  \n",
       "23   13.326665  0.317302  \n",
       "16    9.325235  0.234302  \n",
       "22    5.885576  0.153270  \n",
       "37    7.605261  0.202268  \n",
       "9     1.166190  0.047024  \n",
       "35    3.655133  0.358346  \n",
       "32    4.049691  0.449966  \n",
       "27    3.487119  0.396264  \n",
       "33    3.261901  0.388322  \n",
       "13    2.939388  0.349927  \n",
       "30    1.939072  0.236472  \n",
       "11    3.382307  0.445040  \n",
       "2     1.959592  0.264810  \n",
       "26    1.600000  0.235294  \n",
       "31    2.712932  0.467747  \n",
       "34    3.310589  0.689706  \n",
       "28    2.481935  0.517070  \n",
       "29    3.655133  1.142229  \n",
       "36    2.097618  0.699206  \n",
       "8     0.748331  0.267261  \n",
       "0     0.748331  0.935414  \n",
       "1     0.979796  1.224745  \n",
       "19    1.166190  1.457738  \n",
       "18    0.800000  1.333333  \n",
       "5     0.489898  1.224745  \n",
       "12    0.400000  2.000000  "
      ]
     },
     "execution_count": 27,
     "metadata": {},
     "output_type": "execute_result"
    }
   ],
   "source": [
    "feature_importance_df.sort_values(\"Average\", ascending=False)"
   ]
  },
  {
   "cell_type": "markdown",
   "metadata": {
    "papermill": {
     "duration": 0.05383,
     "end_time": "2020-11-19T23:39:48.520194",
     "exception": false,
     "start_time": "2020-11-19T23:39:48.466364",
     "status": "completed"
    },
    "tags": []
   },
   "source": [
    "# ts lgb"
   ]
  },
  {
   "cell_type": "code",
   "execution_count": 28,
   "metadata": {
    "execution": {
     "iopub.execute_input": "2020-11-19T23:39:48.646497Z",
     "iopub.status.busy": "2020-11-19T23:39:48.644187Z",
     "iopub.status.idle": "2020-11-19T23:43:23.723786Z",
     "shell.execute_reply": "2020-11-19T23:43:23.726551Z"
    },
    "papermill": {
     "duration": 215.153632,
     "end_time": "2020-11-19T23:43:23.726728",
     "exception": false,
     "start_time": "2020-11-19T23:39:48.573096",
     "status": "completed"
    },
    "tags": []
   },
   "outputs": [
    {
     "name": "stdout",
     "output_type": "stream",
     "text": [
      "seed: 0\n",
      "Training until validation scores don't improve for 20 rounds\n",
      "[10]\ttraining's pr_auc: 0.251729\tvalid_1's pr_auc: 0.193945\n",
      "[20]\ttraining's pr_auc: 0.267496\tvalid_1's pr_auc: 0.202704\n",
      "[30]\ttraining's pr_auc: 0.279604\tvalid_1's pr_auc: 0.208789\n",
      "[40]\ttraining's pr_auc: 0.288693\tvalid_1's pr_auc: 0.212989\n",
      "[50]\ttraining's pr_auc: 0.295939\tvalid_1's pr_auc: 0.215513\n",
      "[60]\ttraining's pr_auc: 0.304917\tvalid_1's pr_auc: 0.218331\n",
      "[70]\ttraining's pr_auc: 0.310358\tvalid_1's pr_auc: 0.219703\n",
      "[80]\ttraining's pr_auc: 0.315263\tvalid_1's pr_auc: 0.221439\n",
      "[90]\ttraining's pr_auc: 0.31883\tvalid_1's pr_auc: 0.222125\n",
      "[100]\ttraining's pr_auc: 0.324017\tvalid_1's pr_auc: 0.224034\n",
      "[110]\ttraining's pr_auc: 0.327504\tvalid_1's pr_auc: 0.224547\n",
      "[120]\ttraining's pr_auc: 0.330139\tvalid_1's pr_auc: 0.225157\n",
      "[130]\ttraining's pr_auc: 0.333199\tvalid_1's pr_auc: 0.225695\n",
      "[140]\ttraining's pr_auc: 0.336918\tvalid_1's pr_auc: 0.226271\n",
      "[150]\ttraining's pr_auc: 0.3397\tvalid_1's pr_auc: 0.226472\n",
      "[160]\ttraining's pr_auc: 0.342397\tvalid_1's pr_auc: 0.227121\n",
      "[170]\ttraining's pr_auc: 0.345588\tvalid_1's pr_auc: 0.227702\n",
      "[180]\ttraining's pr_auc: 0.348382\tvalid_1's pr_auc: 0.228534\n",
      "[190]\ttraining's pr_auc: 0.350515\tvalid_1's pr_auc: 0.228501\n",
      "[200]\ttraining's pr_auc: 0.352749\tvalid_1's pr_auc: 0.228333\n",
      "Early stopping, best iteration is:\n",
      "[180]\ttraining's pr_auc: 0.348382\tvalid_1's pr_auc: 0.228534\n",
      "average precision score = 0.2285343768227487\n",
      "0.2285343768227487\n"
     ]
    }
   ],
   "source": [
    "def pr_auc_metric(y_predicted, y_true):\n",
    "    return 'pr_auc', average_precision_score(y_true.get_label(), y_predicted), True\n",
    "\n",
    "def modelling_ts(seed):\n",
    "    print(\"seed:\", seed)\n",
    "    lgbm_params = {'objective': 'binary', 'metric': 'None', 'boosting_type': 'gbdt', \n",
    "               'tree_learner': 'serial', 'learning_rate': 0.1, \"num_leaves\": 10, 'random_seed':seed,'max_depth': 5}\n",
    "    y_train = train_df.target.copy()\n",
    "    X_train = train_df.drop(['target'],axis=1).copy()\n",
    "    y_valid = valid_df.target.copy()\n",
    "    X_valid = valid_df.drop(['target'],axis=1).copy()\n",
    "    \n",
    "    valid_lgb = pd.DataFrame(np.zeros([X_train.shape[0]]))\n",
    "    real = np.array([])\n",
    "    features_list = [i for i in X_train.columns]\n",
    "    feature_importance_df = pd.DataFrame(features_list, columns=[\"Feature\"])\n",
    "        \n",
    "    lgb_train = lgb.Dataset(X_train, y_train)\n",
    "    lgb_eval = lgb.Dataset(X_valid, y_valid, reference=lgb_train)\n",
    "        \n",
    "    model = lgb.train(lgbm_params, lgb_train,valid_sets=[lgb_train, lgb_eval],\n",
    "       num_boost_round=10000,early_stopping_rounds=20,verbose_eval = 10, feval=pr_auc_metric, categorical_feature = sorted(object_feats))\n",
    "    \n",
    "    valid_predict = model.predict(X_valid, num_iteration = model.best_iteration)\n",
    "    feature_importance_df[\"Importance\"] = model.feature_importance()\n",
    "        \n",
    "    score = average_precision_score(y_valid, valid_predict)\n",
    "    print(\"average precision score = {}\".format(score))\n",
    "    pred_value = model.predict(test, num_iteration = model.best_iteration)\n",
    "    \n",
    "    return pred_value, valid_predict, feature_importance_df\n",
    "\n",
    "validation_ts = np.zeros([valid_df.shape[0]])\n",
    "pred_value_ts = np.zeros([test.shape[0]])\n",
    "seeds = [0]\n",
    "for seed_ in seeds:\n",
    "    test_pred, oof_predict, feature_importance_df = modelling_ts(seed_)\n",
    "    validation_ts += oof_predict / len(seeds)\n",
    "    pred_value_ts += test_pred / len(seeds)\n",
    "\n",
    "ts_score = average_precision_score(valid_df.target, validation_ts)\n",
    "print(ts_score)"
   ]
  },
  {
   "cell_type": "code",
   "execution_count": 29,
   "metadata": {
    "execution": {
     "iopub.execute_input": "2020-11-19T23:43:23.870618Z",
     "iopub.status.busy": "2020-11-19T23:43:23.869976Z",
     "iopub.status.idle": "2020-11-19T23:43:23.876720Z",
     "shell.execute_reply": "2020-11-19T23:43:23.876242Z"
    },
    "papermill": {
     "duration": 0.08188,
     "end_time": "2020-11-19T23:43:23.876822",
     "exception": false,
     "start_time": "2020-11-19T23:43:23.794942",
     "status": "completed"
    },
    "tags": []
   },
   "outputs": [
    {
     "data": {
      "text/html": [
       "<div>\n",
       "<style scoped>\n",
       "    .dataframe tbody tr th:only-of-type {\n",
       "        vertical-align: middle;\n",
       "    }\n",
       "\n",
       "    .dataframe tbody tr th {\n",
       "        vertical-align: top;\n",
       "    }\n",
       "\n",
       "    .dataframe thead th {\n",
       "        text-align: right;\n",
       "    }\n",
       "</style>\n",
       "<table border=\"1\" class=\"dataframe\">\n",
       "  <thead>\n",
       "    <tr style=\"text-align: right;\">\n",
       "      <th></th>\n",
       "      <th>Feature</th>\n",
       "      <th>Importance</th>\n",
       "    </tr>\n",
       "  </thead>\n",
       "  <tbody>\n",
       "    <tr>\n",
       "      <th>4</th>\n",
       "      <td>app_id</td>\n",
       "      <td>383</td>\n",
       "    </tr>\n",
       "    <tr>\n",
       "      <th>6</th>\n",
       "      <td>campaign_id</td>\n",
       "      <td>309</td>\n",
       "    </tr>\n",
       "    <tr>\n",
       "      <th>17</th>\n",
       "      <td>media_app_id</td>\n",
       "      <td>152</td>\n",
       "    </tr>\n",
       "    <tr>\n",
       "      <th>20</th>\n",
       "      <td>uid</td>\n",
       "      <td>126</td>\n",
       "    </tr>\n",
       "    <tr>\n",
       "      <th>3</th>\n",
       "      <td>advertiser_id</td>\n",
       "      <td>112</td>\n",
       "    </tr>\n",
       "    <tr>\n",
       "      <th>10</th>\n",
       "      <td>game_feed_id</td>\n",
       "      <td>84</td>\n",
       "    </tr>\n",
       "    <tr>\n",
       "      <th>25</th>\n",
       "      <td>count</td>\n",
       "      <td>65</td>\n",
       "    </tr>\n",
       "    <tr>\n",
       "      <th>21</th>\n",
       "      <td>mst_advertiser_order_id</td>\n",
       "      <td>62</td>\n",
       "    </tr>\n",
       "    <tr>\n",
       "      <th>24</th>\n",
       "      <td>madia_app_num</td>\n",
       "      <td>42</td>\n",
       "    </tr>\n",
       "    <tr>\n",
       "      <th>22</th>\n",
       "      <td>mst_user_type_id</td>\n",
       "      <td>36</td>\n",
       "    </tr>\n",
       "    <tr>\n",
       "      <th>7</th>\n",
       "      <td>first_login_interval</td>\n",
       "      <td>35</td>\n",
       "    </tr>\n",
       "    <tr>\n",
       "      <th>15</th>\n",
       "      <td>login_frequency</td>\n",
       "      <td>34</td>\n",
       "    </tr>\n",
       "    <tr>\n",
       "      <th>16</th>\n",
       "      <td>max_login_interval</td>\n",
       "      <td>28</td>\n",
       "    </tr>\n",
       "    <tr>\n",
       "      <th>37</th>\n",
       "      <td>camp_num</td>\n",
       "      <td>28</td>\n",
       "    </tr>\n",
       "    <tr>\n",
       "      <th>14</th>\n",
       "      <td>last_login_interval</td>\n",
       "      <td>28</td>\n",
       "    </tr>\n",
       "    <tr>\n",
       "      <th>38</th>\n",
       "      <td>user_num</td>\n",
       "      <td>26</td>\n",
       "    </tr>\n",
       "    <tr>\n",
       "      <th>9</th>\n",
       "      <td>from_click</td>\n",
       "      <td>20</td>\n",
       "    </tr>\n",
       "    <tr>\n",
       "      <th>23</th>\n",
       "      <td>app_users</td>\n",
       "      <td>20</td>\n",
       "    </tr>\n",
       "    <tr>\n",
       "      <th>13</th>\n",
       "      <td>item_id</td>\n",
       "      <td>5</td>\n",
       "    </tr>\n",
       "    <tr>\n",
       "      <th>2</th>\n",
       "      <td>adspot_video_format_id</td>\n",
       "      <td>4</td>\n",
       "    </tr>\n",
       "    <tr>\n",
       "      <th>30</th>\n",
       "      <td>uid_dayofweek=4</td>\n",
       "      <td>4</td>\n",
       "    </tr>\n",
       "    <tr>\n",
       "      <th>35</th>\n",
       "      <td>uid_hour_zone=2</td>\n",
       "      <td>3</td>\n",
       "    </tr>\n",
       "    <tr>\n",
       "      <th>26</th>\n",
       "      <td>uid_dayofweek=0</td>\n",
       "      <td>3</td>\n",
       "    </tr>\n",
       "    <tr>\n",
       "      <th>32</th>\n",
       "      <td>uid_dayofweek=6</td>\n",
       "      <td>3</td>\n",
       "    </tr>\n",
       "    <tr>\n",
       "      <th>33</th>\n",
       "      <td>uid_hour_zone=0</td>\n",
       "      <td>2</td>\n",
       "    </tr>\n",
       "    <tr>\n",
       "      <th>34</th>\n",
       "      <td>uid_hour_zone=1</td>\n",
       "      <td>2</td>\n",
       "    </tr>\n",
       "    <tr>\n",
       "      <th>27</th>\n",
       "      <td>uid_dayofweek=1</td>\n",
       "      <td>2</td>\n",
       "    </tr>\n",
       "    <tr>\n",
       "      <th>1</th>\n",
       "      <td>adspot_id</td>\n",
       "      <td>1</td>\n",
       "    </tr>\n",
       "    <tr>\n",
       "      <th>29</th>\n",
       "      <td>uid_dayofweek=3</td>\n",
       "      <td>1</td>\n",
       "    </tr>\n",
       "    <tr>\n",
       "      <th>31</th>\n",
       "      <td>uid_dayofweek=5</td>\n",
       "      <td>0</td>\n",
       "    </tr>\n",
       "    <tr>\n",
       "      <th>36</th>\n",
       "      <td>uid_hour_zone=3</td>\n",
       "      <td>0</td>\n",
       "    </tr>\n",
       "    <tr>\n",
       "      <th>0</th>\n",
       "      <td>adnw_id</td>\n",
       "      <td>0</td>\n",
       "    </tr>\n",
       "    <tr>\n",
       "      <th>28</th>\n",
       "      <td>uid_dayofweek=2</td>\n",
       "      <td>0</td>\n",
       "    </tr>\n",
       "    <tr>\n",
       "      <th>18</th>\n",
       "      <td>os</td>\n",
       "      <td>0</td>\n",
       "    </tr>\n",
       "    <tr>\n",
       "      <th>12</th>\n",
       "      <td>is_interstitial</td>\n",
       "      <td>0</td>\n",
       "    </tr>\n",
       "    <tr>\n",
       "      <th>11</th>\n",
       "      <td>game_template_id</td>\n",
       "      <td>0</td>\n",
       "    </tr>\n",
       "    <tr>\n",
       "      <th>8</th>\n",
       "      <td>frequency</td>\n",
       "      <td>0</td>\n",
       "    </tr>\n",
       "    <tr>\n",
       "      <th>5</th>\n",
       "      <td>auction_type_id</td>\n",
       "      <td>0</td>\n",
       "    </tr>\n",
       "    <tr>\n",
       "      <th>19</th>\n",
       "      <td>pos</td>\n",
       "      <td>0</td>\n",
       "    </tr>\n",
       "  </tbody>\n",
       "</table>\n",
       "</div>"
      ],
      "text/plain": [
       "                    Feature  Importance\n",
       "4                    app_id         383\n",
       "6               campaign_id         309\n",
       "17             media_app_id         152\n",
       "20                      uid         126\n",
       "3             advertiser_id         112\n",
       "10             game_feed_id          84\n",
       "25                    count          65\n",
       "21  mst_advertiser_order_id          62\n",
       "24            madia_app_num          42\n",
       "22         mst_user_type_id          36\n",
       "7      first_login_interval          35\n",
       "15          login_frequency          34\n",
       "16       max_login_interval          28\n",
       "37                 camp_num          28\n",
       "14      last_login_interval          28\n",
       "38                 user_num          26\n",
       "9                from_click          20\n",
       "23                app_users          20\n",
       "13                  item_id           5\n",
       "2    adspot_video_format_id           4\n",
       "30          uid_dayofweek=4           4\n",
       "35          uid_hour_zone=2           3\n",
       "26          uid_dayofweek=0           3\n",
       "32          uid_dayofweek=6           3\n",
       "33          uid_hour_zone=0           2\n",
       "34          uid_hour_zone=1           2\n",
       "27          uid_dayofweek=1           2\n",
       "1                 adspot_id           1\n",
       "29          uid_dayofweek=3           1\n",
       "31          uid_dayofweek=5           0\n",
       "36          uid_hour_zone=3           0\n",
       "0                   adnw_id           0\n",
       "28          uid_dayofweek=2           0\n",
       "18                       os           0\n",
       "12          is_interstitial           0\n",
       "11         game_template_id           0\n",
       "8                 frequency           0\n",
       "5           auction_type_id           0\n",
       "19                      pos           0"
      ]
     },
     "execution_count": 29,
     "metadata": {},
     "output_type": "execute_result"
    }
   ],
   "source": [
    "feature_importance_df.sort_values(\"Importance\", ascending=False)"
   ]
  },
  {
   "cell_type": "markdown",
   "metadata": {
    "papermill": {
     "duration": 0.062689,
     "end_time": "2020-11-19T23:43:24.048466",
     "exception": false,
     "start_time": "2020-11-19T23:43:23.985777",
     "status": "completed"
    },
    "tags": []
   },
   "source": [
    "# stratified xgboost"
   ]
  },
  {
   "cell_type": "code",
   "execution_count": 30,
   "metadata": {
    "execution": {
     "iopub.execute_input": "2020-11-19T23:43:24.188687Z",
     "iopub.status.busy": "2020-11-19T23:43:24.187837Z",
     "iopub.status.idle": "2020-11-19T23:43:24.192519Z",
     "shell.execute_reply": "2020-11-19T23:43:24.192962Z"
    },
    "papermill": {
     "duration": 0.082252,
     "end_time": "2020-11-19T23:43:24.193105",
     "exception": false,
     "start_time": "2020-11-19T23:43:24.110853",
     "status": "completed"
    },
    "tags": []
   },
   "outputs": [
    {
     "ename": "SyntaxError",
     "evalue": "invalid syntax (<ipython-input-30-3f572278d983>, line 10)",
     "output_type": "error",
     "traceback": [
      "\u001b[0;36m  File \u001b[0;32m\"<ipython-input-30-3f572278d983>\"\u001b[0;36m, line \u001b[0;32m10\u001b[0m\n\u001b[0;31m    xgb_params = {\"objective\" : \"binary:logistic\", \"max_depth\" : 5, \"learning_rate\" : 0.1 \"tree_method\": \"gpu_hist\"}\u001b[0m\n\u001b[0m                                                                                                      ^\u001b[0m\n\u001b[0;31mSyntaxError\u001b[0m\u001b[0;31m:\u001b[0m invalid syntax\n"
     ]
    }
   ],
   "source": [
    "# https://xgboost.readthedocs.io/en/latest/parameter.html\n",
    "def pr_auc_metric(y_predicted, y_true):\n",
    "    return 'pr_auc', - average_precision_score(y_true.get_label(), y_predicted)\n",
    "\n",
    "n_folds=5\n",
    "np.random.seed(0)\n",
    "def modelling_xgb():\n",
    "    y = train.target\n",
    "    X = train.drop(['target'],axis=1)\n",
    "    xgb_params = {\"objective\" : \"binary:logistic\", \"max_depth\" : 5, \"learning_rate\" : 0.1 \"tree_method\": \"gpu_hist\"}\n",
    "    \n",
    "    skf=StratifiedKFold(n_splits = n_folds, shuffle=True, random_state=0)\n",
    "    \n",
    "    valid = np.zeros([X.shape[0]])\n",
    "    pred_value = np.zeros(test.shape[0])\n",
    "    X_test = xgb.DMatrix(test.copy())\n",
    "    \n",
    "    for i , (train_index, val_index) in enumerate(skf.split(X, y)):\n",
    "        print(\"fold: \", i)\n",
    "        \n",
    "        X_train = X.iloc[train_index,:]\n",
    "        y_train = y.iloc[train_index]\n",
    "\n",
    "        X_valid = X.iloc[val_index,:]\n",
    "        y_valid = y.iloc[val_index]\n",
    "        \n",
    "        xgb_train = xgb.DMatrix(X_train, label = y_train)\n",
    "        xgb_eval = xgb.DMatrix(X_valid, label = y_valid)\n",
    "        watchlist = [(xgb_train, \"train\"), (xgb_eval, \"eval\")]\n",
    "        num_boost_round = 100000\n",
    "        \n",
    "        model = xgb.train(\n",
    "        xgb_params, xgb_train, num_boost_round, watchlist,\n",
    "        early_stopping_rounds=10, verbose_eval = 50,\n",
    "        feval=pr_auc_metric,\n",
    "    )\n",
    "                \n",
    "        valid_predict = model.predict(xgb_eval, ntree_limit = model.best_ntree_limit)\n",
    "        valid[val_index] = valid_predict\n",
    "        pred_value += model.predict(X_test, ntree_limit = model.best_ntree_limit)\n",
    "    \n",
    "    return pred_value, valid\n",
    "\n",
    "pred_value_xgb, validation_xgb = modelling_xgb()\n",
    "\n",
    "score_xgb = average_precision_score(train.target, validation_xgb)\n",
    "print(score_xgb)"
   ]
  },
  {
   "cell_type": "markdown",
   "metadata": {
    "papermill": {
     "duration": 0.064227,
     "end_time": "2020-11-19T23:43:24.320105",
     "exception": false,
     "start_time": "2020-11-19T23:43:24.255878",
     "status": "completed"
    },
    "tags": []
   },
   "source": [
    "# xgb ts"
   ]
  },
  {
   "cell_type": "code",
   "execution_count": 31,
   "metadata": {
    "execution": {
     "iopub.execute_input": "2020-11-19T23:43:24.461448Z",
     "iopub.status.busy": "2020-11-19T23:43:24.460431Z",
     "iopub.status.idle": "2020-11-19T23:48:05.303279Z",
     "shell.execute_reply": "2020-11-19T23:48:05.304333Z"
    },
    "papermill": {
     "duration": 280.921727,
     "end_time": "2020-11-19T23:48:05.304515",
     "exception": false,
     "start_time": "2020-11-19T23:43:24.382788",
     "status": "completed"
    },
    "tags": []
   },
   "outputs": [
    {
     "name": "stdout",
     "output_type": "stream",
     "text": [
      "[0]\ttrain-error:0.03231\teval-error:0.03439\ttrain-pr_auc:-0.15159\teval-pr_auc:-0.11095\n",
      "Multiple eval metrics have been passed: 'eval-pr_auc' will be used for early stopping.\n",
      "\n",
      "Will train until eval-pr_auc hasn't improved in 10 rounds.\n",
      "[50]\ttrain-error:0.03201\teval-error:0.03441\ttrain-pr_auc:-0.26184\teval-pr_auc:-0.17964\n",
      "[100]\ttrain-error:0.03159\teval-error:0.03438\ttrain-pr_auc:-0.30286\teval-pr_auc:-0.21237\n",
      "[150]\ttrain-error:0.03143\teval-error:0.03439\ttrain-pr_auc:-0.31948\teval-pr_auc:-0.22230\n",
      "[200]\ttrain-error:0.03133\teval-error:0.03431\ttrain-pr_auc:-0.33019\teval-pr_auc:-0.22756\n",
      "[250]\ttrain-error:0.03123\teval-error:0.03435\ttrain-pr_auc:-0.33952\teval-pr_auc:-0.23109\n",
      "[300]\ttrain-error:0.03112\teval-error:0.03431\ttrain-pr_auc:-0.34890\teval-pr_auc:-0.23394\n",
      "[350]\ttrain-error:0.03104\teval-error:0.03432\ttrain-pr_auc:-0.35627\teval-pr_auc:-0.23613\n",
      "[400]\ttrain-error:0.03098\teval-error:0.03432\ttrain-pr_auc:-0.36273\teval-pr_auc:-0.23714\n",
      "[450]\ttrain-error:0.03090\teval-error:0.03431\ttrain-pr_auc:-0.36946\teval-pr_auc:-0.23850\n",
      "Stopping. Best iteration:\n",
      "[455]\ttrain-error:0.03090\teval-error:0.03431\ttrain-pr_auc:-0.36999\teval-pr_auc:-0.23871\n",
      "\n",
      "0.23871328654895663\n"
     ]
    }
   ],
   "source": [
    "# https://xgboost.readthedocs.io/en/latest/parameter.html\n",
    "def pr_auc_metric(y_predicted, y_true):\n",
    "    return 'pr_auc', - average_precision_score(y_true.get_label(), y_predicted)\n",
    "\n",
    "n_folds=5\n",
    "np.random.seed(0)\n",
    "def modelling_xgb_ts():\n",
    "    xgb_params = {\"objective\" : \"binary:logistic\", \"max_depth\" : 5, \"learning_rate\" : 0.1,\"tree_method\": \"gpu_hist\"}\n",
    "    \n",
    "    y_train = train_df.target.copy()\n",
    "    X_train = train_df.drop(['target'],axis=1).copy()\n",
    "    y_valid = valid_df.target.copy()\n",
    "    X_valid = valid_df.drop(['target'],axis=1).copy()\n",
    "        \n",
    "    X_test = xgb.DMatrix(test.copy())\n",
    "        \n",
    "    xgb_train = xgb.DMatrix(X_train, label = y_train)\n",
    "    xgb_eval = xgb.DMatrix(X_valid, label = y_valid)\n",
    "    watchlist = [(xgb_train, \"train\"), (xgb_eval, \"eval\")]\n",
    "    num_boost_round = 100000\n",
    "        \n",
    "    model = xgb.train(\n",
    "        xgb_params, xgb_train, num_boost_round, watchlist,\n",
    "        early_stopping_rounds=10, verbose_eval = 50,\n",
    "        feval=pr_auc_metric,\n",
    "    )\n",
    "                \n",
    "    valid_predict = model.predict(xgb_eval, ntree_limit = model.best_ntree_limit)\n",
    "    pred_value = model.predict(X_test, ntree_limit = model.best_ntree_limit)\n",
    "    \n",
    "    return pred_value, valid_predict\n",
    "\n",
    "pred_value_xgb_ts, validation_xgb_ts = modelling_xgb_ts()\n",
    "\n",
    "score_xgb_ts = average_precision_score(valid_df.target, validation_xgb_ts)\n",
    "print(score_xgb_ts)"
   ]
  },
  {
   "cell_type": "markdown",
   "metadata": {
    "papermill": {
     "duration": 0.068338,
     "end_time": "2020-11-19T23:48:05.444828",
     "exception": false,
     "start_time": "2020-11-19T23:48:05.376490",
     "status": "completed"
    },
    "tags": []
   },
   "source": [
    "# submission"
   ]
  },
  {
   "cell_type": "code",
   "execution_count": 32,
   "metadata": {
    "execution": {
     "iopub.execute_input": "2020-11-19T23:48:05.589029Z",
     "iopub.status.busy": "2020-11-19T23:48:05.588438Z",
     "iopub.status.idle": "2020-11-19T23:48:05.867086Z",
     "shell.execute_reply": "2020-11-19T23:48:05.868550Z"
    },
    "papermill": {
     "duration": 0.35577,
     "end_time": "2020-11-19T23:48:05.868743",
     "exception": false,
     "start_time": "2020-11-19T23:48:05.512973",
     "status": "completed"
    },
    "tags": []
   },
   "outputs": [
    {
     "ename": "NameError",
     "evalue": "name 'pred_value_xgb' is not defined",
     "output_type": "error",
     "traceback": [
      "\u001b[0;31m---------------------------------------------------------------------------\u001b[0m",
      "\u001b[0;31mNameError\u001b[0m                                 Traceback (most recent call last)",
      "\u001b[0;32m<ipython-input-32-a680877c5233>\u001b[0m in \u001b[0;36m<module>\u001b[0;34m\u001b[0m\n\u001b[1;32m      1\u001b[0m \u001b[0mlgb_sub\u001b[0m \u001b[0;34m=\u001b[0m \u001b[0mpd\u001b[0m\u001b[0;34m.\u001b[0m\u001b[0mread_csv\u001b[0m\u001b[0;34m(\u001b[0m\u001b[0mDIR\u001b[0m \u001b[0;34m+\u001b[0m \u001b[0;34m\"atmaCup7__sample_submission.csv\"\u001b[0m\u001b[0;34m)\u001b[0m\u001b[0;34m\u001b[0m\u001b[0;34m\u001b[0m\u001b[0m\n\u001b[0;32m----> 2\u001b[0;31m \u001b[0mlgb_sub\u001b[0m\u001b[0;34m[\u001b[0m\u001b[0;34m\"target\"\u001b[0m\u001b[0;34m]\u001b[0m \u001b[0;34m=\u001b[0m \u001b[0;34m(\u001b[0m\u001b[0mpred_value\u001b[0m\u001b[0;34m+\u001b[0m\u001b[0mpred_value_ts\u001b[0m\u001b[0;34m+\u001b[0m\u001b[0mpred_value_xgb\u001b[0m\u001b[0;34m+\u001b[0m\u001b[0mpred_value_xgb_ts\u001b[0m\u001b[0;34m)\u001b[0m\u001b[0;34m/\u001b[0m\u001b[0;36m4\u001b[0m\u001b[0;34m\u001b[0m\u001b[0;34m\u001b[0m\u001b[0m\n\u001b[0m\u001b[1;32m      3\u001b[0m \u001b[0mlgb_sub\u001b[0m\u001b[0;34m.\u001b[0m\u001b[0mto_csv\u001b[0m\u001b[0;34m(\u001b[0m\u001b[0;34m\"atmacup7_\"\u001b[0m\u001b[0;34m+\u001b[0m\u001b[0mstr\u001b[0m\u001b[0;34m(\u001b[0m\u001b[0mscore\u001b[0m\u001b[0;34m)\u001b[0m\u001b[0;34m[\u001b[0m\u001b[0;34m:\u001b[0m\u001b[0;34m-\u001b[0m\u001b[0;36m10\u001b[0m\u001b[0;34m]\u001b[0m\u001b[0;34m+\u001b[0m\u001b[0;34m\".csv\"\u001b[0m\u001b[0;34m,\u001b[0m \u001b[0mindex\u001b[0m \u001b[0;34m=\u001b[0m \u001b[0;32mFalse\u001b[0m\u001b[0;34m)\u001b[0m\u001b[0;34m\u001b[0m\u001b[0;34m\u001b[0m\u001b[0m\n",
      "\u001b[0;31mNameError\u001b[0m: name 'pred_value_xgb' is not defined"
     ]
    }
   ],
   "source": [
    "lgb_sub = pd.read_csv(DIR + \"atmaCup7__sample_submission.csv\")\n",
    "lgb_sub[\"target\"] = (pred_value+pred_value_ts+pred_value_xgb+pred_value_xgb_ts)/4\n",
    "lgb_sub.to_csv(\"atmacup7_\"+str(score)[:-10]+\".csv\", index = False)"
   ]
  },
  {
   "cell_type": "code",
   "execution_count": null,
   "metadata": {
    "papermill": {
     "duration": 0.098161,
     "end_time": "2020-11-19T23:48:06.078127",
     "exception": false,
     "start_time": "2020-11-19T23:48:05.979966",
     "status": "completed"
    },
    "tags": []
   },
   "outputs": [],
   "source": []
  }
 ],
 "metadata": {
  "kernelspec": {
   "display_name": "Python 3",
   "language": "python",
   "name": "python3"
  },
  "language_info": {
   "codemirror_mode": {
    "name": "ipython",
    "version": 3
   },
   "file_extension": ".py",
   "mimetype": "text/x-python",
   "name": "python",
   "nbconvert_exporter": "python",
   "pygments_lexer": "ipython3",
   "version": "3.7.6"
  },
  "papermill": {
   "duration": 2396.084191,
   "end_time": "2020-11-19T23:48:06.586248",
   "environment_variables": {},
   "exception": null,
   "input_path": "__notebook__.ipynb",
   "output_path": "__notebook__.ipynb",
   "parameters": {},
   "start_time": "2020-11-19T23:08:10.502057",
   "version": "2.1.0"
  }
 },
 "nbformat": 4,
 "nbformat_minor": 4
}
