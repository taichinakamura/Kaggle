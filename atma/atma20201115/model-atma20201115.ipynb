{
 "cells": [
  {
   "cell_type": "markdown",
   "metadata": {
    "papermill": {
     "duration": 0.017987,
     "end_time": "2020-11-15T10:40:06.001545",
     "exception": false,
     "start_time": "2020-11-15T10:40:05.983558",
     "status": "completed"
    },
    "tags": []
   },
   "source": [
    "- 1st lgb"
   ]
  },
  {
   "cell_type": "code",
   "execution_count": 1,
   "metadata": {
    "_cell_guid": "b1076dfc-b9ad-4769-8c92-a6c4dae69d19",
    "_uuid": "8f2839f25d086af736a60e9eeb907d3b93b6e0e5",
    "execution": {
     "iopub.execute_input": "2020-11-15T10:40:06.037696Z",
     "iopub.status.busy": "2020-11-15T10:40:06.036928Z",
     "iopub.status.idle": "2020-11-15T10:40:06.985190Z",
     "shell.execute_reply": "2020-11-15T10:40:06.984488Z"
    },
    "papermill": {
     "duration": 0.968764,
     "end_time": "2020-11-15T10:40:06.985344",
     "exception": false,
     "start_time": "2020-11-15T10:40:06.016580",
     "status": "completed"
    },
    "tags": []
   },
   "outputs": [],
   "source": [
    "import numpy as np\n",
    "import pandas as pd\n",
    "import lightgbm as lgb\n",
    "from sklearn import preprocessing\n",
    "from sklearn.metrics import average_precision_score\n",
    "from sklearn.model_selection import StratifiedKFold"
   ]
  },
  {
   "cell_type": "code",
   "execution_count": 2,
   "metadata": {
    "execution": {
     "iopub.execute_input": "2020-11-15T10:40:07.025247Z",
     "iopub.status.busy": "2020-11-15T10:40:07.024513Z",
     "iopub.status.idle": "2020-11-15T10:40:29.031191Z",
     "shell.execute_reply": "2020-11-15T10:40:29.031950Z"
    },
    "papermill": {
     "duration": 22.030493,
     "end_time": "2020-11-15T10:40:29.032107",
     "exception": false,
     "start_time": "2020-11-15T10:40:07.001614",
     "status": "completed"
    },
    "tags": []
   },
   "outputs": [],
   "source": [
    "DIR = \"../input/20201115at/\"\n",
    "train = pd.read_csv(DIR+\"train.csv\")\n",
    "test = pd.read_csv(DIR+\"test.csv\")"
   ]
  },
  {
   "cell_type": "markdown",
   "metadata": {
    "papermill": {
     "duration": 0.015012,
     "end_time": "2020-11-15T10:40:29.062652",
     "exception": false,
     "start_time": "2020-11-15T10:40:29.047640",
     "status": "completed"
    },
    "tags": []
   },
   "source": [
    "# preprocess"
   ]
  },
  {
   "cell_type": "code",
   "execution_count": 3,
   "metadata": {
    "execution": {
     "iopub.execute_input": "2020-11-15T10:40:29.845263Z",
     "iopub.status.busy": "2020-11-15T10:40:29.844485Z",
     "iopub.status.idle": "2020-11-15T10:40:30.421757Z",
     "shell.execute_reply": "2020-11-15T10:40:30.420941Z"
    },
    "papermill": {
     "duration": 1.343941,
     "end_time": "2020-11-15T10:40:30.421885",
     "exception": false,
     "start_time": "2020-11-15T10:40:29.077944",
     "status": "completed"
    },
    "tags": []
   },
   "outputs": [],
   "source": [
    "train[\"imp_at\"] = pd.to_datetime(train[\"imp_at\"])"
   ]
  },
  {
   "cell_type": "code",
   "execution_count": 4,
   "metadata": {
    "execution": {
     "iopub.execute_input": "2020-11-15T10:40:30.710007Z",
     "iopub.status.busy": "2020-11-15T10:40:30.703092Z",
     "iopub.status.idle": "2020-11-15T10:40:31.017566Z",
     "shell.execute_reply": "2020-11-15T10:40:31.016791Z"
    },
    "papermill": {
     "duration": 0.580077,
     "end_time": "2020-11-15T10:40:31.017690",
     "exception": false,
     "start_time": "2020-11-15T10:40:30.437613",
     "status": "completed"
    },
    "tags": []
   },
   "outputs": [],
   "source": [
    "train.drop(['click_or_view_at', 'cv_at','last_cv_interval', 'last_paid_interval'], axis=1, inplace=True)"
   ]
  },
  {
   "cell_type": "code",
   "execution_count": 5,
   "metadata": {
    "execution": {
     "iopub.execute_input": "2020-11-15T10:40:31.121074Z",
     "iopub.status.busy": "2020-11-15T10:40:31.063077Z",
     "iopub.status.idle": "2020-11-15T10:40:31.610480Z",
     "shell.execute_reply": "2020-11-15T10:40:31.611047Z"
    },
    "papermill": {
     "duration": 0.577756,
     "end_time": "2020-11-15T10:40:31.611220",
     "exception": false,
     "start_time": "2020-11-15T10:40:31.033464",
     "status": "completed"
    },
    "tags": []
   },
   "outputs": [],
   "source": [
    "train.drop(['request_id'], axis=1, inplace=True)\n",
    "test.drop(['request_id'], axis=1, inplace=True)"
   ]
  },
  {
   "cell_type": "code",
   "execution_count": 6,
   "metadata": {
    "execution": {
     "iopub.execute_input": "2020-11-15T10:40:31.651104Z",
     "iopub.status.busy": "2020-11-15T10:40:31.650060Z",
     "iopub.status.idle": "2020-11-15T10:40:31.654069Z",
     "shell.execute_reply": "2020-11-15T10:40:31.654639Z"
    },
    "papermill": {
     "duration": 0.027423,
     "end_time": "2020-11-15T10:40:31.654786",
     "exception": false,
     "start_time": "2020-11-15T10:40:31.627363",
     "status": "completed"
    },
    "tags": []
   },
   "outputs": [
    {
     "data": {
      "text/plain": [
       "Index(['imp_at', 'target', 'adnw_id', 'adspot_id', 'adspot_video_format_id',\n",
       "       'advertiser_id', 'app_id', 'auction_type_id', 'campaign_id',\n",
       "       'category_id', 'country_code', 'first_login_interval', 'frequency',\n",
       "       'from_click', 'game_feed_asset_type_id', 'game_feed_id',\n",
       "       'game_template_id', 'header_bidding', 'is_interstitial', 'item_id',\n",
       "       'last_login_interval', 'login_frequency', 'max_login_interval',\n",
       "       'media_app_id', 'os', 'os_version', 'pos', 'uid', 'user_type_id',\n",
       "       'video_template_id'],\n",
       "      dtype='object')"
      ]
     },
     "execution_count": 6,
     "metadata": {},
     "output_type": "execute_result"
    }
   ],
   "source": [
    "train.columns"
   ]
  },
  {
   "cell_type": "code",
   "execution_count": 7,
   "metadata": {
    "execution": {
     "iopub.execute_input": "2020-11-15T10:40:31.695896Z",
     "iopub.status.busy": "2020-11-15T10:40:31.694873Z",
     "iopub.status.idle": "2020-11-15T10:40:31.698362Z",
     "shell.execute_reply": "2020-11-15T10:40:31.697622Z"
    },
    "papermill": {
     "duration": 0.026952,
     "end_time": "2020-11-15T10:40:31.698479",
     "exception": false,
     "start_time": "2020-11-15T10:40:31.671527",
     "status": "completed"
    },
    "tags": []
   },
   "outputs": [],
   "source": [
    "object_feats = [i for i in train.columns if \"object\" == str(train[i].dtype)]"
   ]
  },
  {
   "cell_type": "code",
   "execution_count": 8,
   "metadata": {
    "execution": {
     "iopub.execute_input": "2020-11-15T10:40:31.741143Z",
     "iopub.status.busy": "2020-11-15T10:40:31.740064Z",
     "iopub.status.idle": "2020-11-15T10:41:18.233229Z",
     "shell.execute_reply": "2020-11-15T10:41:18.232418Z"
    },
    "papermill": {
     "duration": 46.517905,
     "end_time": "2020-11-15T10:41:18.233392",
     "exception": false,
     "start_time": "2020-11-15T10:40:31.715487",
     "status": "completed"
    },
    "tags": []
   },
   "outputs": [],
   "source": [
    "for i in object_feats:\n",
    "    lbl = preprocessing.LabelEncoder()\n",
    "    lbl.fit(list(pd.concat([train[i], test[i]])))\n",
    "    train[i] = lbl.transform(list(train[i]))\n",
    "    test[i] = lbl.transform(list(test[i]))"
   ]
  },
  {
   "cell_type": "code",
   "execution_count": 9,
   "metadata": {
    "execution": {
     "iopub.execute_input": "2020-11-15T10:41:18.274925Z",
     "iopub.status.busy": "2020-11-15T10:41:18.273774Z",
     "iopub.status.idle": "2020-11-15T10:41:18.728529Z",
     "shell.execute_reply": "2020-11-15T10:41:18.727755Z"
    },
    "papermill": {
     "duration": 0.477096,
     "end_time": "2020-11-15T10:41:18.728656",
     "exception": false,
     "start_time": "2020-11-15T10:41:18.251560",
     "status": "completed"
    },
    "tags": []
   },
   "outputs": [],
   "source": [
    "mask = train.imp_at > \"2020-05-21\"\n",
    "valid = train.loc[mask].copy()\n",
    "train = train.loc[~mask]"
   ]
  },
  {
   "cell_type": "code",
   "execution_count": 10,
   "metadata": {
    "execution": {
     "iopub.execute_input": "2020-11-15T10:41:18.769013Z",
     "iopub.status.busy": "2020-11-15T10:41:18.768179Z",
     "iopub.status.idle": "2020-11-15T10:41:18.772423Z",
     "shell.execute_reply": "2020-11-15T10:41:18.771683Z"
    },
    "papermill": {
     "duration": 0.026627,
     "end_time": "2020-11-15T10:41:18.772545",
     "exception": false,
     "start_time": "2020-11-15T10:41:18.745918",
     "status": "completed"
    },
    "tags": []
   },
   "outputs": [
    {
     "data": {
      "text/plain": [
       "((1568715, 30), (428880, 30))"
      ]
     },
     "execution_count": 10,
     "metadata": {},
     "output_type": "execute_result"
    }
   ],
   "source": [
    "train.shape, valid.shape"
   ]
  },
  {
   "cell_type": "code",
   "execution_count": 11,
   "metadata": {
    "execution": {
     "iopub.execute_input": "2020-11-15T10:41:18.961080Z",
     "iopub.status.busy": "2020-11-15T10:41:18.898828Z",
     "iopub.status.idle": "2020-11-15T10:41:19.027530Z",
     "shell.execute_reply": "2020-11-15T10:41:19.026763Z"
    },
    "papermill": {
     "duration": 0.237218,
     "end_time": "2020-11-15T10:41:19.027656",
     "exception": false,
     "start_time": "2020-11-15T10:41:18.790438",
     "status": "completed"
    },
    "tags": []
   },
   "outputs": [],
   "source": [
    "remove_features = [\"imp_at\", 'uid']\n",
    "    \n",
    "#for i in X_train.columns:\n",
    "#    if (X_train[i].std() == 0) and i not in remove_features:\n",
    "#        remove_features.append(i)\n",
    "    \n",
    "train = train.drop(remove_features, axis=1)\n",
    "valid = valid.drop(remove_features, axis=1)\n",
    "test = test.drop(remove_features, axis=1)"
   ]
  },
  {
   "cell_type": "code",
   "execution_count": 12,
   "metadata": {
    "execution": {
     "iopub.execute_input": "2020-11-15T10:41:19.070549Z",
     "iopub.status.busy": "2020-11-15T10:41:19.069246Z",
     "iopub.status.idle": "2020-11-15T10:41:19.074039Z",
     "shell.execute_reply": "2020-11-15T10:41:19.073320Z"
    },
    "papermill": {
     "duration": 0.02838,
     "end_time": "2020-11-15T10:41:19.074160",
     "exception": false,
     "start_time": "2020-11-15T10:41:19.045780",
     "status": "completed"
    },
    "tags": []
   },
   "outputs": [
    {
     "data": {
      "text/plain": [
       "((1568715, 28), (428880, 28))"
      ]
     },
     "execution_count": 12,
     "metadata": {},
     "output_type": "execute_result"
    }
   ],
   "source": [
    "train.shape, valid.shape"
   ]
  },
  {
   "cell_type": "code",
   "execution_count": 13,
   "metadata": {
    "execution": {
     "iopub.execute_input": "2020-11-15T10:41:19.130999Z",
     "iopub.status.busy": "2020-11-15T10:41:19.126693Z",
     "iopub.status.idle": "2020-11-15T10:41:19.146955Z",
     "shell.execute_reply": "2020-11-15T10:41:19.146378Z"
    },
    "papermill": {
     "duration": 0.054305,
     "end_time": "2020-11-15T10:41:19.147087",
     "exception": false,
     "start_time": "2020-11-15T10:41:19.092782",
     "status": "completed"
    },
    "tags": []
   },
   "outputs": [
    {
     "data": {
      "text/html": [
       "<div>\n",
       "<style scoped>\n",
       "    .dataframe tbody tr th:only-of-type {\n",
       "        vertical-align: middle;\n",
       "    }\n",
       "\n",
       "    .dataframe tbody tr th {\n",
       "        vertical-align: top;\n",
       "    }\n",
       "\n",
       "    .dataframe thead th {\n",
       "        text-align: right;\n",
       "    }\n",
       "</style>\n",
       "<table border=\"1\" class=\"dataframe\">\n",
       "  <thead>\n",
       "    <tr style=\"text-align: right;\">\n",
       "      <th></th>\n",
       "      <th>target</th>\n",
       "      <th>adnw_id</th>\n",
       "      <th>adspot_id</th>\n",
       "      <th>adspot_video_format_id</th>\n",
       "      <th>advertiser_id</th>\n",
       "      <th>app_id</th>\n",
       "      <th>auction_type_id</th>\n",
       "      <th>campaign_id</th>\n",
       "      <th>category_id</th>\n",
       "      <th>country_code</th>\n",
       "      <th>...</th>\n",
       "      <th>item_id</th>\n",
       "      <th>last_login_interval</th>\n",
       "      <th>login_frequency</th>\n",
       "      <th>max_login_interval</th>\n",
       "      <th>media_app_id</th>\n",
       "      <th>os</th>\n",
       "      <th>os_version</th>\n",
       "      <th>pos</th>\n",
       "      <th>user_type_id</th>\n",
       "      <th>video_template_id</th>\n",
       "    </tr>\n",
       "  </thead>\n",
       "  <tbody>\n",
       "    <tr>\n",
       "      <th>0</th>\n",
       "      <td>0</td>\n",
       "      <td>4</td>\n",
       "      <td>1111</td>\n",
       "      <td>2.0</td>\n",
       "      <td>20</td>\n",
       "      <td>14871</td>\n",
       "      <td>1.0</td>\n",
       "      <td>403</td>\n",
       "      <td>8497</td>\n",
       "      <td>0</td>\n",
       "      <td>...</td>\n",
       "      <td>NaN</td>\n",
       "      <td>11320.0</td>\n",
       "      <td>10.0</td>\n",
       "      <td>2607.0</td>\n",
       "      <td>11754</td>\n",
       "      <td>1</td>\n",
       "      <td>86</td>\n",
       "      <td>0</td>\n",
       "      <td>1</td>\n",
       "      <td>5</td>\n",
       "    </tr>\n",
       "    <tr>\n",
       "      <th>1</th>\n",
       "      <td>0</td>\n",
       "      <td>28</td>\n",
       "      <td>1081</td>\n",
       "      <td>2.0</td>\n",
       "      <td>121</td>\n",
       "      <td>8300</td>\n",
       "      <td>2.0</td>\n",
       "      <td>91</td>\n",
       "      <td>0</td>\n",
       "      <td>0</td>\n",
       "      <td>...</td>\n",
       "      <td>NaN</td>\n",
       "      <td>12589.0</td>\n",
       "      <td>2.0</td>\n",
       "      <td>13540.0</td>\n",
       "      <td>8994</td>\n",
       "      <td>2</td>\n",
       "      <td>151</td>\n",
       "      <td>1</td>\n",
       "      <td>2</td>\n",
       "      <td>3</td>\n",
       "    </tr>\n",
       "    <tr>\n",
       "      <th>2</th>\n",
       "      <td>0</td>\n",
       "      <td>42</td>\n",
       "      <td>1123</td>\n",
       "      <td>3.0</td>\n",
       "      <td>5</td>\n",
       "      <td>12947</td>\n",
       "      <td>1.0</td>\n",
       "      <td>114</td>\n",
       "      <td>0</td>\n",
       "      <td>0</td>\n",
       "      <td>...</td>\n",
       "      <td>80525.0</td>\n",
       "      <td>10254.0</td>\n",
       "      <td>9.0</td>\n",
       "      <td>33725.0</td>\n",
       "      <td>346</td>\n",
       "      <td>1</td>\n",
       "      <td>54</td>\n",
       "      <td>0</td>\n",
       "      <td>1</td>\n",
       "      <td>9</td>\n",
       "    </tr>\n",
       "    <tr>\n",
       "      <th>3</th>\n",
       "      <td>0</td>\n",
       "      <td>8</td>\n",
       "      <td>1113</td>\n",
       "      <td>2.0</td>\n",
       "      <td>22</td>\n",
       "      <td>12378</td>\n",
       "      <td>1.0</td>\n",
       "      <td>75</td>\n",
       "      <td>0</td>\n",
       "      <td>0</td>\n",
       "      <td>...</td>\n",
       "      <td>NaN</td>\n",
       "      <td>39618.0</td>\n",
       "      <td>4.0</td>\n",
       "      <td>7377.0</td>\n",
       "      <td>6144</td>\n",
       "      <td>1</td>\n",
       "      <td>90</td>\n",
       "      <td>0</td>\n",
       "      <td>1</td>\n",
       "      <td>6</td>\n",
       "    </tr>\n",
       "    <tr>\n",
       "      <th>4</th>\n",
       "      <td>0</td>\n",
       "      <td>22</td>\n",
       "      <td>1061</td>\n",
       "      <td>NaN</td>\n",
       "      <td>135</td>\n",
       "      <td>195</td>\n",
       "      <td>4.0</td>\n",
       "      <td>331</td>\n",
       "      <td>0</td>\n",
       "      <td>0</td>\n",
       "      <td>...</td>\n",
       "      <td>NaN</td>\n",
       "      <td>35652.0</td>\n",
       "      <td>5.0</td>\n",
       "      <td>164759.0</td>\n",
       "      <td>2189</td>\n",
       "      <td>1</td>\n",
       "      <td>70</td>\n",
       "      <td>0</td>\n",
       "      <td>1</td>\n",
       "      <td>9</td>\n",
       "    </tr>\n",
       "  </tbody>\n",
       "</table>\n",
       "<p>5 rows × 28 columns</p>\n",
       "</div>"
      ],
      "text/plain": [
       "   target  adnw_id  adspot_id  adspot_video_format_id  advertiser_id  app_id  \\\n",
       "0       0        4       1111                     2.0             20   14871   \n",
       "1       0       28       1081                     2.0            121    8300   \n",
       "2       0       42       1123                     3.0              5   12947   \n",
       "3       0        8       1113                     2.0             22   12378   \n",
       "4       0       22       1061                     NaN            135     195   \n",
       "\n",
       "   auction_type_id  campaign_id  category_id  country_code  ...  item_id  \\\n",
       "0              1.0          403         8497             0  ...      NaN   \n",
       "1              2.0           91            0             0  ...      NaN   \n",
       "2              1.0          114            0             0  ...  80525.0   \n",
       "3              1.0           75            0             0  ...      NaN   \n",
       "4              4.0          331            0             0  ...      NaN   \n",
       "\n",
       "   last_login_interval  login_frequency  max_login_interval  media_app_id  os  \\\n",
       "0              11320.0             10.0              2607.0         11754   1   \n",
       "1              12589.0              2.0             13540.0          8994   2   \n",
       "2              10254.0              9.0             33725.0           346   1   \n",
       "3              39618.0              4.0              7377.0          6144   1   \n",
       "4              35652.0              5.0            164759.0          2189   1   \n",
       "\n",
       "   os_version  pos  user_type_id  video_template_id  \n",
       "0          86    0             1                  5  \n",
       "1         151    1             2                  3  \n",
       "2          54    0             1                  9  \n",
       "3          90    0             1                  6  \n",
       "4          70    0             1                  9  \n",
       "\n",
       "[5 rows x 28 columns]"
      ]
     },
     "execution_count": 13,
     "metadata": {},
     "output_type": "execute_result"
    }
   ],
   "source": [
    "train.head()"
   ]
  },
  {
   "cell_type": "markdown",
   "metadata": {
    "papermill": {
     "duration": 0.019217,
     "end_time": "2020-11-15T10:41:19.185823",
     "exception": false,
     "start_time": "2020-11-15T10:41:19.166606",
     "status": "completed"
    },
    "tags": []
   },
   "source": [
    "# modelling"
   ]
  },
  {
   "cell_type": "code",
   "execution_count": 14,
   "metadata": {
    "_cell_guid": "79c7e3d0-c299-4dcb-8224-4455121ee9b0",
    "_uuid": "d629ff2d2480ee46fbb7e2d37f6b5fab8052498a",
    "execution": {
     "iopub.execute_input": "2020-11-15T10:41:19.244001Z",
     "iopub.status.busy": "2020-11-15T10:41:19.243117Z",
     "iopub.status.idle": "2020-11-15T10:41:19.980667Z",
     "shell.execute_reply": "2020-11-15T10:41:19.979971Z"
    },
    "papermill": {
     "duration": 0.775326,
     "end_time": "2020-11-15T10:41:19.980791",
     "exception": false,
     "start_time": "2020-11-15T10:41:19.205465",
     "status": "completed"
    },
    "tags": []
   },
   "outputs": [
    {
     "name": "stderr",
     "output_type": "stream",
     "text": [
      "/opt/conda/lib/python3.7/site-packages/lightgbm/basic.py:1295: UserWarning: categorical_feature in Dataset is overridden.\n",
      "New categorical_feature is ['advertiser_id', 'app_id', 'campaign_id', 'country_code', 'game_feed_id', 'game_template_id', 'media_app_id', 'os_version', 'uid', 'video_template_id']\n",
      "  'New categorical_feature is {}'.format(sorted(list(categorical_feature))))\n"
     ]
    },
    {
     "ename": "TypeError",
     "evalue": "Wrong type(str) or unknown name(uid) in categorical_feature",
     "output_type": "error",
     "traceback": [
      "\u001b[0;31m---------------------------------------------------------------------------\u001b[0m",
      "\u001b[0;31mTypeError\u001b[0m                                 Traceback (most recent call last)",
      "\u001b[0;32m<ipython-input-14-6a3ce573b13b>\u001b[0m in \u001b[0;36m<module>\u001b[0;34m\u001b[0m\n\u001b[1;32m     19\u001b[0m \u001b[0;34m\u001b[0m\u001b[0m\n\u001b[1;32m     20\u001b[0m model = lgb.train(lgbm_params, lgb_train,valid_sets=[lgb_train, lgb_eval],\n\u001b[0;32m---> 21\u001b[0;31m        num_boost_round=10000,early_stopping_rounds=20,verbose_eval = 10, feval=pr_auc_metric, categorical_feature = sorted(object_feats))\n\u001b[0m\u001b[1;32m     22\u001b[0m \u001b[0;34m\u001b[0m\u001b[0m\n\u001b[1;32m     23\u001b[0m \u001b[0mvalid_predict\u001b[0m \u001b[0;34m=\u001b[0m \u001b[0mmodel\u001b[0m\u001b[0;34m.\u001b[0m\u001b[0mpredict\u001b[0m\u001b[0;34m(\u001b[0m\u001b[0mX_valid\u001b[0m\u001b[0;34m,\u001b[0m \u001b[0mnum_iteration\u001b[0m \u001b[0;34m=\u001b[0m \u001b[0mmodel\u001b[0m\u001b[0;34m.\u001b[0m\u001b[0mbest_iteration\u001b[0m\u001b[0;34m)\u001b[0m\u001b[0;34m\u001b[0m\u001b[0;34m\u001b[0m\u001b[0m\n",
      "\u001b[0;32m/opt/conda/lib/python3.7/site-packages/lightgbm/engine.py\u001b[0m in \u001b[0;36mtrain\u001b[0;34m(params, train_set, num_boost_round, valid_sets, valid_names, fobj, feval, init_model, feature_name, categorical_feature, early_stopping_rounds, evals_result, verbose_eval, learning_rates, keep_training_booster, callbacks)\u001b[0m\n\u001b[1;32m    226\u001b[0m     \u001b[0;31m# construct booster\u001b[0m\u001b[0;34m\u001b[0m\u001b[0;34m\u001b[0m\u001b[0;34m\u001b[0m\u001b[0m\n\u001b[1;32m    227\u001b[0m     \u001b[0;32mtry\u001b[0m\u001b[0;34m:\u001b[0m\u001b[0;34m\u001b[0m\u001b[0;34m\u001b[0m\u001b[0m\n\u001b[0;32m--> 228\u001b[0;31m         \u001b[0mbooster\u001b[0m \u001b[0;34m=\u001b[0m \u001b[0mBooster\u001b[0m\u001b[0;34m(\u001b[0m\u001b[0mparams\u001b[0m\u001b[0;34m=\u001b[0m\u001b[0mparams\u001b[0m\u001b[0;34m,\u001b[0m \u001b[0mtrain_set\u001b[0m\u001b[0;34m=\u001b[0m\u001b[0mtrain_set\u001b[0m\u001b[0;34m)\u001b[0m\u001b[0;34m\u001b[0m\u001b[0;34m\u001b[0m\u001b[0m\n\u001b[0m\u001b[1;32m    229\u001b[0m         \u001b[0;32mif\u001b[0m \u001b[0mis_valid_contain_train\u001b[0m\u001b[0;34m:\u001b[0m\u001b[0;34m\u001b[0m\u001b[0;34m\u001b[0m\u001b[0m\n\u001b[1;32m    230\u001b[0m             \u001b[0mbooster\u001b[0m\u001b[0;34m.\u001b[0m\u001b[0mset_train_data_name\u001b[0m\u001b[0;34m(\u001b[0m\u001b[0mtrain_data_name\u001b[0m\u001b[0;34m)\u001b[0m\u001b[0;34m\u001b[0m\u001b[0;34m\u001b[0m\u001b[0m\n",
      "\u001b[0;32m/opt/conda/lib/python3.7/site-packages/lightgbm/basic.py\u001b[0m in \u001b[0;36m__init__\u001b[0;34m(self, params, train_set, model_file, model_str, silent)\u001b[0m\n\u001b[1;32m   1712\u001b[0m             \u001b[0mself\u001b[0m\u001b[0;34m.\u001b[0m\u001b[0mhandle\u001b[0m \u001b[0;34m=\u001b[0m \u001b[0mctypes\u001b[0m\u001b[0;34m.\u001b[0m\u001b[0mc_void_p\u001b[0m\u001b[0;34m(\u001b[0m\u001b[0;34m)\u001b[0m\u001b[0;34m\u001b[0m\u001b[0;34m\u001b[0m\u001b[0m\n\u001b[1;32m   1713\u001b[0m             _safe_call(_LIB.LGBM_BoosterCreate(\n\u001b[0;32m-> 1714\u001b[0;31m                 \u001b[0mtrain_set\u001b[0m\u001b[0;34m.\u001b[0m\u001b[0mconstruct\u001b[0m\u001b[0;34m(\u001b[0m\u001b[0;34m)\u001b[0m\u001b[0;34m.\u001b[0m\u001b[0mhandle\u001b[0m\u001b[0;34m,\u001b[0m\u001b[0;34m\u001b[0m\u001b[0;34m\u001b[0m\u001b[0m\n\u001b[0m\u001b[1;32m   1715\u001b[0m                 \u001b[0mc_str\u001b[0m\u001b[0;34m(\u001b[0m\u001b[0mparams_str\u001b[0m\u001b[0;34m)\u001b[0m\u001b[0;34m,\u001b[0m\u001b[0;34m\u001b[0m\u001b[0;34m\u001b[0m\u001b[0m\n\u001b[1;32m   1716\u001b[0m                 ctypes.byref(self.handle)))\n",
      "\u001b[0;32m/opt/conda/lib/python3.7/site-packages/lightgbm/basic.py\u001b[0m in \u001b[0;36mconstruct\u001b[0;34m(self)\u001b[0m\n\u001b[1;32m   1083\u001b[0m                                 \u001b[0minit_score\u001b[0m\u001b[0;34m=\u001b[0m\u001b[0mself\u001b[0m\u001b[0;34m.\u001b[0m\u001b[0minit_score\u001b[0m\u001b[0;34m,\u001b[0m \u001b[0mpredictor\u001b[0m\u001b[0;34m=\u001b[0m\u001b[0mself\u001b[0m\u001b[0;34m.\u001b[0m\u001b[0m_predictor\u001b[0m\u001b[0;34m,\u001b[0m\u001b[0;34m\u001b[0m\u001b[0;34m\u001b[0m\u001b[0m\n\u001b[1;32m   1084\u001b[0m                                 \u001b[0msilent\u001b[0m\u001b[0;34m=\u001b[0m\u001b[0mself\u001b[0m\u001b[0;34m.\u001b[0m\u001b[0msilent\u001b[0m\u001b[0;34m,\u001b[0m \u001b[0mfeature_name\u001b[0m\u001b[0;34m=\u001b[0m\u001b[0mself\u001b[0m\u001b[0;34m.\u001b[0m\u001b[0mfeature_name\u001b[0m\u001b[0;34m,\u001b[0m\u001b[0;34m\u001b[0m\u001b[0;34m\u001b[0m\u001b[0m\n\u001b[0;32m-> 1085\u001b[0;31m                                 categorical_feature=self.categorical_feature, params=self.params)\n\u001b[0m\u001b[1;32m   1086\u001b[0m             \u001b[0;32mif\u001b[0m \u001b[0mself\u001b[0m\u001b[0;34m.\u001b[0m\u001b[0mfree_raw_data\u001b[0m\u001b[0;34m:\u001b[0m\u001b[0;34m\u001b[0m\u001b[0;34m\u001b[0m\u001b[0m\n\u001b[1;32m   1087\u001b[0m                 \u001b[0mself\u001b[0m\u001b[0;34m.\u001b[0m\u001b[0mdata\u001b[0m \u001b[0;34m=\u001b[0m \u001b[0;32mNone\u001b[0m\u001b[0;34m\u001b[0m\u001b[0;34m\u001b[0m\u001b[0m\n",
      "\u001b[0;32m/opt/conda/lib/python3.7/site-packages/lightgbm/basic.py\u001b[0m in \u001b[0;36m_lazy_init\u001b[0;34m(self, data, label, reference, weight, group, init_score, predictor, silent, feature_name, categorical_feature, params)\u001b[0m\n\u001b[1;32m    857\u001b[0m                 \u001b[0;32melse\u001b[0m\u001b[0;34m:\u001b[0m\u001b[0;34m\u001b[0m\u001b[0;34m\u001b[0m\u001b[0m\n\u001b[1;32m    858\u001b[0m                     raise TypeError(\"Wrong type({}) or unknown name({}) in categorical_feature\"\n\u001b[0;32m--> 859\u001b[0;31m                                     .format(type(name).__name__, name))\n\u001b[0m\u001b[1;32m    860\u001b[0m             \u001b[0;32mif\u001b[0m \u001b[0mcategorical_indices\u001b[0m\u001b[0;34m:\u001b[0m\u001b[0;34m\u001b[0m\u001b[0;34m\u001b[0m\u001b[0m\n\u001b[1;32m    861\u001b[0m                 \u001b[0;32mfor\u001b[0m \u001b[0mcat_alias\u001b[0m \u001b[0;32min\u001b[0m \u001b[0m_ConfigAliases\u001b[0m\u001b[0;34m.\u001b[0m\u001b[0mget\u001b[0m\u001b[0;34m(\u001b[0m\u001b[0;34m\"categorical_feature\"\u001b[0m\u001b[0;34m)\u001b[0m\u001b[0;34m:\u001b[0m\u001b[0;34m\u001b[0m\u001b[0;34m\u001b[0m\u001b[0m\n",
      "\u001b[0;31mTypeError\u001b[0m: Wrong type(str) or unknown name(uid) in categorical_feature"
     ]
    }
   ],
   "source": [
    "lgbm_params = {'objective': 'binary', 'metric': 'None', 'boosting_type': 'gbdt',\n",
    "               'tree_learner': 'serial', 'learning_rate': 0.03, \"num_leaves\": 10, 'random_seed':44,'max_depth': 5}\n",
    "\n",
    "def pr_auc_metric(y_predicted, y_true):\n",
    "    return 'pr_auc', average_precision_score(y_true.get_label(), y_predicted), True\n",
    "\n",
    "y_train = train.target.copy()\n",
    "X_train = train.drop(['target'],axis=1).copy()\n",
    "y_valid = valid.target.copy()\n",
    "X_valid = valid.drop(['target'],axis=1).copy()\n",
    "    \n",
    "valid_lgb = pd.DataFrame(np.zeros([X_train.shape[0]]))\n",
    "real = np.array([])\n",
    "features_list = [i for i in X_train.columns]\n",
    "feature_importance_df = pd.DataFrame(features_list, columns=[\"Feature\"])\n",
    "        \n",
    "lgb_train = lgb.Dataset(X_train, y_train)\n",
    "lgb_eval = lgb.Dataset(X_valid, y_valid, reference=lgb_train)\n",
    "        \n",
    "model = lgb.train(lgbm_params, lgb_train,valid_sets=[lgb_train, lgb_eval],\n",
    "       num_boost_round=10000,early_stopping_rounds=20,verbose_eval = 10, feval=pr_auc_metric, categorical_feature = sorted(object_feats))\n",
    "        \n",
    "valid_predict = model.predict(X_valid, num_iteration = model.best_iteration)\n",
    "feature_importance_df[\"Importance\"] = model.feature_importance()\n",
    "        \n",
    "#feature_importance_df[\"Average\"] = np.mean(feature_importance_df.iloc[:,1:n_folds+1], axis=1)\n",
    "#feature_importance_df[\"Std\"] = np.std(feature_importance_df.iloc[:,1:n_folds+1], axis=1)\n",
    "#feature_importance_df[\"Cv\"] = feature_importance_df[\"Std\"] / feature_importance_df[\"Average\"]\n",
    "\n",
    "score = average_precision_score(y_valid, valid_predict)\n",
    "print(\"average precision score = {}\".format(score))\n",
    "pred_value = model.predict(test, num_iteration = model.best_iteration)"
   ]
  },
  {
   "cell_type": "markdown",
   "metadata": {
    "papermill": {
     "duration": 0.022176,
     "end_time": "2020-11-15T10:41:20.023841",
     "exception": false,
     "start_time": "2020-11-15T10:41:20.001665",
     "status": "completed"
    },
    "tags": []
   },
   "source": [
    "# submission"
   ]
  },
  {
   "cell_type": "code",
   "execution_count": 15,
   "metadata": {
    "execution": {
     "iopub.execute_input": "2020-11-15T10:41:20.073947Z",
     "iopub.status.busy": "2020-11-15T10:41:20.073143Z",
     "iopub.status.idle": "2020-11-15T10:41:20.197348Z",
     "shell.execute_reply": "2020-11-15T10:41:20.196594Z"
    },
    "papermill": {
     "duration": 0.152816,
     "end_time": "2020-11-15T10:41:20.197472",
     "exception": false,
     "start_time": "2020-11-15T10:41:20.044656",
     "status": "completed"
    },
    "tags": []
   },
   "outputs": [
    {
     "ename": "NameError",
     "evalue": "name 'pred_value' is not defined",
     "output_type": "error",
     "traceback": [
      "\u001b[0;31m---------------------------------------------------------------------------\u001b[0m",
      "\u001b[0;31mNameError\u001b[0m                                 Traceback (most recent call last)",
      "\u001b[0;32m<ipython-input-15-c10e8d9b2f19>\u001b[0m in \u001b[0;36m<module>\u001b[0;34m\u001b[0m\n\u001b[1;32m      1\u001b[0m \u001b[0mlgb_sub\u001b[0m \u001b[0;34m=\u001b[0m \u001b[0mpd\u001b[0m\u001b[0;34m.\u001b[0m\u001b[0mread_csv\u001b[0m\u001b[0;34m(\u001b[0m\u001b[0mDIR\u001b[0m \u001b[0;34m+\u001b[0m \u001b[0;34m\"atmaCup7__sample_submission.csv\"\u001b[0m\u001b[0;34m)\u001b[0m\u001b[0;34m\u001b[0m\u001b[0;34m\u001b[0m\u001b[0m\n\u001b[0;32m----> 2\u001b[0;31m \u001b[0mlgb_sub\u001b[0m\u001b[0;34m[\u001b[0m\u001b[0;34m\"target\"\u001b[0m\u001b[0;34m]\u001b[0m \u001b[0;34m=\u001b[0m \u001b[0mpred_value\u001b[0m\u001b[0;34m\u001b[0m\u001b[0;34m\u001b[0m\u001b[0m\n\u001b[0m\u001b[1;32m      3\u001b[0m \u001b[0mlgb_sub\u001b[0m\u001b[0;34m.\u001b[0m\u001b[0mto_csv\u001b[0m\u001b[0;34m(\u001b[0m\u001b[0;34m\"atmacup3_simple_lgb_sub\"\u001b[0m\u001b[0;34m+\u001b[0m\u001b[0mstr\u001b[0m\u001b[0;34m(\u001b[0m\u001b[0mscore\u001b[0m\u001b[0;34m)\u001b[0m\u001b[0;34m[\u001b[0m\u001b[0;34m:\u001b[0m\u001b[0;34m-\u001b[0m\u001b[0;36m10\u001b[0m\u001b[0;34m]\u001b[0m\u001b[0;34m+\u001b[0m\u001b[0;34m\".csv\"\u001b[0m\u001b[0;34m,\u001b[0m \u001b[0mindex\u001b[0m \u001b[0;34m=\u001b[0m \u001b[0;32mFalse\u001b[0m\u001b[0;34m)\u001b[0m\u001b[0;34m\u001b[0m\u001b[0;34m\u001b[0m\u001b[0m\n",
      "\u001b[0;31mNameError\u001b[0m: name 'pred_value' is not defined"
     ]
    }
   ],
   "source": [
    "lgb_sub = pd.read_csv(DIR + \"atmaCup7__sample_submission.csv\")\n",
    "lgb_sub[\"target\"] = pred_value\n",
    "lgb_sub.to_csv(\"atmacup3_simple_lgb_sub\"+str(score)[:-10]+\".csv\", index = False)"
   ]
  },
  {
   "cell_type": "code",
   "execution_count": null,
   "metadata": {
    "papermill": {
     "duration": 0.020978,
     "end_time": "2020-11-15T10:41:20.239733",
     "exception": false,
     "start_time": "2020-11-15T10:41:20.218755",
     "status": "completed"
    },
    "tags": []
   },
   "outputs": [],
   "source": []
  }
 ],
 "metadata": {
  "kernelspec": {
   "display_name": "Python 3",
   "language": "python",
   "name": "python3"
  },
  "language_info": {
   "codemirror_mode": {
    "name": "ipython",
    "version": 3
   },
   "file_extension": ".py",
   "mimetype": "text/x-python",
   "name": "python",
   "nbconvert_exporter": "python",
   "pygments_lexer": "ipython3",
   "version": "3.7.6"
  },
  "papermill": {
   "duration": 79.849767,
   "end_time": "2020-11-15T10:41:21.285094",
   "environment_variables": {},
   "exception": null,
   "input_path": "__notebook__.ipynb",
   "output_path": "__notebook__.ipynb",
   "parameters": {},
   "start_time": "2020-11-15T10:40:01.435327",
   "version": "2.1.0"
  }
 },
 "nbformat": 4,
 "nbformat_minor": 4
}
