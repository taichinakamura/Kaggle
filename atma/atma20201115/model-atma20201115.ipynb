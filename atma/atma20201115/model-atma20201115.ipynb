{
 "cells": [
  {
   "cell_type": "markdown",
   "metadata": {
    "papermill": {
     "duration": 0.025686,
     "end_time": "2020-11-16T14:32:20.496423",
     "exception": false,
     "start_time": "2020-11-16T14:32:20.470737",
     "status": "completed"
    },
    "tags": []
   },
   "source": [
    "- try stratifiedkfold"
   ]
  },
  {
   "cell_type": "code",
   "execution_count": 1,
   "metadata": {
    "_cell_guid": "b1076dfc-b9ad-4769-8c92-a6c4dae69d19",
    "_uuid": "8f2839f25d086af736a60e9eeb907d3b93b6e0e5",
    "execution": {
     "iopub.execute_input": "2020-11-16T14:32:20.548669Z",
     "iopub.status.busy": "2020-11-16T14:32:20.547546Z",
     "iopub.status.idle": "2020-11-16T14:32:21.737808Z",
     "shell.execute_reply": "2020-11-16T14:32:21.738460Z"
    },
    "papermill": {
     "duration": 1.220326,
     "end_time": "2020-11-16T14:32:21.738664",
     "exception": false,
     "start_time": "2020-11-16T14:32:20.518338",
     "status": "completed"
    },
    "tags": []
   },
   "outputs": [
    {
     "name": "stderr",
     "output_type": "stream",
     "text": [
      "/opt/conda/lib/python3.7/site-packages/ipykernel_launcher.py:6: TqdmDeprecationWarning: This function will be removed in tqdm==5.0.0\n",
      "Please use `tqdm.notebook.*` instead of `tqdm._tqdm_notebook.*`\n",
      "  \n",
      "/opt/conda/lib/python3.7/site-packages/tqdm/std.py:666: FutureWarning: The Panel class is removed from pandas. Accessing it from the top-level namespace will also be removed in the next version\n",
      "  from pandas import Panel\n"
     ]
    }
   ],
   "source": [
    "import os\n",
    "import numpy as np\n",
    "import pandas as pd\n",
    "import lightgbm as lgb\n",
    "from sklearn import preprocessing\n",
    "from tqdm._tqdm_notebook import tqdm_notebook\n",
    "from sklearn.metrics import average_precision_score\n",
    "from sklearn.model_selection import StratifiedKFold\n",
    "tqdm_notebook.pandas(desc=\"progress: \")"
   ]
  },
  {
   "cell_type": "code",
   "execution_count": 2,
   "metadata": {
    "execution": {
     "iopub.execute_input": "2020-11-16T14:32:21.794309Z",
     "iopub.status.busy": "2020-11-16T14:32:21.793383Z",
     "iopub.status.idle": "2020-11-16T14:32:54.164357Z",
     "shell.execute_reply": "2020-11-16T14:32:54.165119Z"
    },
    "papermill": {
     "duration": 32.404199,
     "end_time": "2020-11-16T14:32:54.165391",
     "exception": false,
     "start_time": "2020-11-16T14:32:21.761192",
     "status": "completed"
    },
    "tags": []
   },
   "outputs": [],
   "source": [
    "DIR = \"../input/20201115at/\"\n",
    "train = pd.read_csv(DIR+\"train.csv\")\n",
    "test = pd.read_csv(DIR+\"test.csv\")\n",
    "campaign = pd.read_csv(DIR+\"campaign.csv\")\n",
    "\n",
    "#advertiser_video = pd.read_csv(DIR+\"advertiser_video.csv\")\n",
    "#map_game_feed_native_video_assets = pd.read_csv(DIR+'map_game_feed_native_video_assets.csv')\n",
    "\n",
    "#advertiser_converted_video = pd.read_csv(DIR+\"advertiser_converted_video.csv\")"
   ]
  },
  {
   "cell_type": "markdown",
   "metadata": {
    "papermill": {
     "duration": 0.021926,
     "end_time": "2020-11-16T14:32:54.210182",
     "exception": false,
     "start_time": "2020-11-16T14:32:54.188256",
     "status": "completed"
    },
    "tags": []
   },
   "source": [
    "# preprocess"
   ]
  },
  {
   "cell_type": "code",
   "execution_count": 3,
   "metadata": {
    "execution": {
     "iopub.execute_input": "2020-11-16T14:32:54.545722Z",
     "iopub.status.busy": "2020-11-16T14:32:54.266055Z",
     "iopub.status.idle": "2020-11-16T14:33:09.502468Z",
     "shell.execute_reply": "2020-11-16T14:33:09.501480Z"
    },
    "papermill": {
     "duration": 15.269756,
     "end_time": "2020-11-16T14:33:09.502635",
     "exception": false,
     "start_time": "2020-11-16T14:32:54.232879",
     "status": "completed"
    },
    "tags": []
   },
   "outputs": [],
   "source": [
    "# with campaign\n",
    "train = train.merge(campaign, left_on=\"campaign_id\", right_on = \"id\", how=\"left\").drop([\"mst_advertiser_id\", \"id\"], axis=1)\n",
    "test = test.merge(campaign, left_on=\"campaign_id\", right_on = \"id\", how=\"left\").drop([\"mst_advertiser_id\", \"id\"], axis=1)\n",
    "\n",
    "# with map_gae_feed_native_video_assets\n",
    "#train = train.merge(map_game_feed_native_video_assets, left_on=[\"game_feed_id\"], right_on = [\"mst_game_feed_id\"], how=\"left\").drop([\"mst_game_feed_id\"], axis=1)\n",
    "#test = test.merge(map_game_feed_native_video_assets, left_on=[\"game_feed_id\"], right_on = [\"mst_game_feed_id\"], how=\"left\").drop([\"mst_game_feed_id\"], axis=1)\n",
    "\n",
    "# with advertiser_video horizontal\n",
    "#horizontal = advertiser_video.copy()\n",
    "#horizontal.columns = [f\"horizontal_{c}\" if c not in [\"id\", \"mst_advertiser_id\"] else c for c in horizontal.columns]\n",
    "#train = pd.merge(train, horizontal[[\"id\", \"mst_advertiser_id\", \"horizontal_duration\"]], left_on=[\"horizontal_mst_advertiser_video_id\", \"advertiser_id\"], \n",
    "#               right_on=[\"id\", \"mst_advertiser_id\"], how=\"left\").drop(columns=[\"id\", \"mst_advertiser_id\"])\n",
    "#test = pd.merge(test, horizontal[[\"id\", \"mst_advertiser_id\", \"horizontal_duration\"]], left_on=[\"horizontal_mst_advertiser_video_id\", \"advertiser_id\"], \n",
    "#               right_on=[\"id\", \"mst_advertiser_id\"], how=\"left\").drop(columns=[\"id\", \"mst_advertiser_id\"])"
   ]
  },
  {
   "cell_type": "code",
   "execution_count": 4,
   "metadata": {
    "execution": {
     "iopub.execute_input": "2020-11-16T14:33:10.297144Z",
     "iopub.status.busy": "2020-11-16T14:33:10.296278Z",
     "iopub.status.idle": "2020-11-16T14:33:11.261102Z",
     "shell.execute_reply": "2020-11-16T14:33:11.260216Z"
    },
    "papermill": {
     "duration": 1.736022,
     "end_time": "2020-11-16T14:33:11.261261",
     "exception": false,
     "start_time": "2020-11-16T14:33:09.525239",
     "status": "completed"
    },
    "tags": []
   },
   "outputs": [],
   "source": [
    "train[\"imp_at\"] = pd.to_datetime(train[\"imp_at\"])\n",
    "test[\"imp_at\"] = pd.to_datetime(test[\"imp_at\"])"
   ]
  },
  {
   "cell_type": "code",
   "execution_count": 5,
   "metadata": {
    "execution": {
     "iopub.execute_input": "2020-11-16T14:33:12.090095Z",
     "iopub.status.busy": "2020-11-16T14:33:11.638257Z",
     "iopub.status.idle": "2020-11-16T14:33:12.093951Z",
     "shell.execute_reply": "2020-11-16T14:33:12.093157Z"
    },
    "papermill": {
     "duration": 0.809664,
     "end_time": "2020-11-16T14:33:12.094126",
     "exception": false,
     "start_time": "2020-11-16T14:33:11.284462",
     "status": "completed"
    },
    "tags": []
   },
   "outputs": [],
   "source": [
    "train.drop(['click_or_view_at', 'cv_at','last_cv_interval', 'last_paid_interval'], axis=1, inplace=True)"
   ]
  },
  {
   "cell_type": "code",
   "execution_count": 6,
   "metadata": {
    "execution": {
     "iopub.execute_input": "2020-11-16T14:33:12.305682Z",
     "iopub.status.busy": "2020-11-16T14:33:12.149929Z",
     "iopub.status.idle": "2020-11-16T14:34:23.245002Z",
     "shell.execute_reply": "2020-11-16T14:34:23.244161Z"
    },
    "papermill": {
     "duration": 71.127703,
     "end_time": "2020-11-16T14:34:23.245195",
     "exception": false,
     "start_time": "2020-11-16T14:33:12.117492",
     "status": "completed"
    },
    "tags": []
   },
   "outputs": [
    {
     "name": "stdout",
     "output_type": "stream",
     "text": [
      "request_id\n",
      "advertiser_id\n",
      "app_id\n",
      "campaign_id\n",
      "country_code\n",
      "game_feed_id\n",
      "game_template_id\n",
      "media_app_id\n",
      "os_version\n",
      "uid\n",
      "video_template_id\n",
      "mst_advertiser_order_id\n"
     ]
    }
   ],
   "source": [
    "object_feats = [i for i in train.columns if \"object\" == str(train[i].dtype)]\n",
    "train[object_feats] = train[object_feats].fillna(\"-999\")\n",
    "test[object_feats] = test[object_feats].fillna(\"-999\")\n",
    "\n",
    "for i in object_feats:\n",
    "    print(i)\n",
    "    lbl = preprocessing.LabelEncoder()\n",
    "    lbl.fit(list(pd.concat([train[i], test[i]])))\n",
    "    train[i] = lbl.transform(list(train[i]))\n",
    "    test[i] = lbl.transform(list(test[i]))"
   ]
  },
  {
   "cell_type": "markdown",
   "metadata": {
    "papermill": {
     "duration": 0.027384,
     "end_time": "2020-11-16T14:34:23.300356",
     "exception": false,
     "start_time": "2020-11-16T14:34:23.272972",
     "status": "completed"
    },
    "tags": []
   },
   "source": [
    "# feature engineering"
   ]
  },
  {
   "cell_type": "code",
   "execution_count": 7,
   "metadata": {
    "execution": {
     "iopub.execute_input": "2020-11-16T14:34:23.364433Z",
     "iopub.status.busy": "2020-11-16T14:34:23.363436Z",
     "iopub.status.idle": "2020-11-16T14:34:31.824627Z",
     "shell.execute_reply": "2020-11-16T14:34:31.823962Z"
    },
    "papermill": {
     "duration": 8.49651,
     "end_time": "2020-11-16T14:34:31.824806",
     "exception": false,
     "start_time": "2020-11-16T14:34:23.328296",
     "status": "completed"
    },
    "tags": []
   },
   "outputs": [],
   "source": [
    "train[\"type\"] = \"train\"\n",
    "test[\"type\"] = \"test\"\n",
    "all_df = pd.concat([train, test])\n",
    "all_df = all_df.sort_values([\"uid\", \"imp_at\"]).reset_index(drop=True)"
   ]
  },
  {
   "cell_type": "code",
   "execution_count": 8,
   "metadata": {
    "execution": {
     "iopub.execute_input": "2020-11-16T14:34:31.887715Z",
     "iopub.status.busy": "2020-11-16T14:34:31.886837Z",
     "iopub.status.idle": "2020-11-16T14:34:32.157685Z",
     "shell.execute_reply": "2020-11-16T14:34:32.156953Z"
    },
    "papermill": {
     "duration": 0.305084,
     "end_time": "2020-11-16T14:34:32.157840",
     "exception": false,
     "start_time": "2020-11-16T14:34:31.852756",
     "status": "completed"
    },
    "tags": []
   },
   "outputs": [],
   "source": [
    "all_df[\"count\"] = 1\n",
    "all_df[\"count\"] = all_df.groupby(\"uid\")[\"count\"].cumsum()"
   ]
  },
  {
   "cell_type": "code",
   "execution_count": 9,
   "metadata": {
    "execution": {
     "iopub.execute_input": "2020-11-16T14:34:32.221088Z",
     "iopub.status.busy": "2020-11-16T14:34:32.219866Z",
     "iopub.status.idle": "2020-11-16T14:34:32.223901Z",
     "shell.execute_reply": "2020-11-16T14:34:32.223232Z"
    },
    "papermill": {
     "duration": 0.038071,
     "end_time": "2020-11-16T14:34:32.224063",
     "exception": false,
     "start_time": "2020-11-16T14:34:32.185992",
     "status": "completed"
    },
    "tags": []
   },
   "outputs": [],
   "source": [
    "#all_df[\"prev_app\"] = all_df.groupby(\"uid\")[\"app_id\"].progress_apply(lambda x: x.shift(1))"
   ]
  },
  {
   "cell_type": "code",
   "execution_count": 10,
   "metadata": {
    "execution": {
     "iopub.execute_input": "2020-11-16T14:34:32.634928Z",
     "iopub.status.busy": "2020-11-16T14:34:32.634014Z",
     "iopub.status.idle": "2020-11-16T14:34:34.915184Z",
     "shell.execute_reply": "2020-11-16T14:34:34.914461Z"
    },
    "papermill": {
     "duration": 2.663023,
     "end_time": "2020-11-16T14:34:34.915346",
     "exception": false,
     "start_time": "2020-11-16T14:34:32.252323",
     "status": "completed"
    },
    "tags": []
   },
   "outputs": [],
   "source": [
    "train = all_df[all_df.type==\"train\"].drop(\"type\", axis=1).reset_index(drop=True)\n",
    "test = all_df[all_df.type==\"test\"].drop(\"type\", axis=1).reset_index(drop=True)"
   ]
  },
  {
   "cell_type": "code",
   "execution_count": 11,
   "metadata": {
    "execution": {
     "iopub.execute_input": "2020-11-16T14:34:34.981494Z",
     "iopub.status.busy": "2020-11-16T14:34:34.979982Z",
     "iopub.status.idle": "2020-11-16T14:34:37.528480Z",
     "shell.execute_reply": "2020-11-16T14:34:37.527664Z"
    },
    "papermill": {
     "duration": 2.584759,
     "end_time": "2020-11-16T14:34:37.528727",
     "exception": false,
     "start_time": "2020-11-16T14:34:34.943968",
     "status": "completed"
    },
    "tags": []
   },
   "outputs": [],
   "source": [
    "train = train.sort_values(\"imp_at\").reset_index(drop=True)\n",
    "test = test.sort_values(\"imp_at\").reset_index(drop=True)"
   ]
  },
  {
   "cell_type": "markdown",
   "metadata": {
    "papermill": {
     "duration": 0.0278,
     "end_time": "2020-11-16T14:34:37.585070",
     "exception": false,
     "start_time": "2020-11-16T14:34:37.557270",
     "status": "completed"
    },
    "tags": []
   },
   "source": [
    "# separation for validation"
   ]
  },
  {
   "cell_type": "code",
   "execution_count": 12,
   "metadata": {
    "execution": {
     "iopub.execute_input": "2020-11-16T14:34:37.964227Z",
     "iopub.status.busy": "2020-11-16T14:34:37.960671Z",
     "iopub.status.idle": "2020-11-16T14:34:37.968667Z",
     "shell.execute_reply": "2020-11-16T14:34:37.968006Z"
    },
    "papermill": {
     "duration": 0.355053,
     "end_time": "2020-11-16T14:34:37.968832",
     "exception": false,
     "start_time": "2020-11-16T14:34:37.613779",
     "status": "completed"
    },
    "tags": []
   },
   "outputs": [],
   "source": [
    "train.drop(['request_id'], axis=1, inplace=True)\n",
    "test.drop(['request_id'], axis=1, inplace=True)"
   ]
  },
  {
   "cell_type": "code",
   "execution_count": 13,
   "metadata": {
    "execution": {
     "iopub.execute_input": "2020-11-16T14:34:38.032759Z",
     "iopub.status.busy": "2020-11-16T14:34:38.031560Z",
     "iopub.status.idle": "2020-11-16T14:34:38.035385Z",
     "shell.execute_reply": "2020-11-16T14:34:38.034641Z"
    },
    "papermill": {
     "duration": 0.03811,
     "end_time": "2020-11-16T14:34:38.035551",
     "exception": false,
     "start_time": "2020-11-16T14:34:37.997441",
     "status": "completed"
    },
    "tags": []
   },
   "outputs": [],
   "source": [
    "#mask = train.imp_at > \"2020-05-21\"\n",
    "#valid = train.loc[mask].copy()\n",
    "#train = train.loc[~mask]"
   ]
  },
  {
   "cell_type": "code",
   "execution_count": 14,
   "metadata": {
    "execution": {
     "iopub.execute_input": "2020-11-16T14:34:38.350362Z",
     "iopub.status.busy": "2020-11-16T14:34:38.337899Z",
     "iopub.status.idle": "2020-11-16T14:34:38.386834Z",
     "shell.execute_reply": "2020-11-16T14:34:38.386135Z"
    },
    "papermill": {
     "duration": 0.322688,
     "end_time": "2020-11-16T14:34:38.387015",
     "exception": false,
     "start_time": "2020-11-16T14:34:38.064327",
     "status": "completed"
    },
    "tags": []
   },
   "outputs": [],
   "source": [
    "remove_features = [\"imp_at\",\"game_feed_asset_type_id\",\"country_code\",\"pos\",\"video_template_id\"]\n",
    "    \n",
    "train = train.drop(remove_features, axis=1)\n",
    "#valid = valid.drop(remove_features, axis=1)\n",
    "test = test.drop(remove_features, axis=1)"
   ]
  },
  {
   "cell_type": "code",
   "execution_count": 15,
   "metadata": {
    "execution": {
     "iopub.execute_input": "2020-11-16T14:34:38.475993Z",
     "iopub.status.busy": "2020-11-16T14:34:38.474809Z",
     "iopub.status.idle": "2020-11-16T14:34:38.480085Z",
     "shell.execute_reply": "2020-11-16T14:34:38.479275Z"
    },
    "papermill": {
     "duration": 0.064447,
     "end_time": "2020-11-16T14:34:38.480242",
     "exception": false,
     "start_time": "2020-11-16T14:34:38.415795",
     "status": "completed"
    },
    "tags": []
   },
   "outputs": [],
   "source": [
    "test = test.drop(\"target\", axis=1)"
   ]
  },
  {
   "cell_type": "code",
   "execution_count": 16,
   "metadata": {
    "execution": {
     "iopub.execute_input": "2020-11-16T14:34:38.548673Z",
     "iopub.status.busy": "2020-11-16T14:34:38.547478Z",
     "iopub.status.idle": "2020-11-16T14:34:38.551833Z",
     "shell.execute_reply": "2020-11-16T14:34:38.552451Z"
    },
    "papermill": {
     "duration": 0.04317,
     "end_time": "2020-11-16T14:34:38.552643",
     "exception": false,
     "start_time": "2020-11-16T14:34:38.509473",
     "status": "completed"
    },
    "tags": []
   },
   "outputs": [
    {
     "data": {
      "text/plain": [
       "((1997595, 28), (390095, 27))"
      ]
     },
     "execution_count": 16,
     "metadata": {},
     "output_type": "execute_result"
    }
   ],
   "source": [
    "train.shape, test.shape #valid.shape,"
   ]
  },
  {
   "cell_type": "code",
   "execution_count": 17,
   "metadata": {
    "execution": {
     "iopub.execute_input": "2020-11-16T14:34:38.634284Z",
     "iopub.status.busy": "2020-11-16T14:34:38.629364Z",
     "iopub.status.idle": "2020-11-16T14:34:38.651613Z",
     "shell.execute_reply": "2020-11-16T14:34:38.650747Z"
    },
    "papermill": {
     "duration": 0.069246,
     "end_time": "2020-11-16T14:34:38.651765",
     "exception": false,
     "start_time": "2020-11-16T14:34:38.582519",
     "status": "completed"
    },
    "tags": []
   },
   "outputs": [
    {
     "data": {
      "text/html": [
       "<div>\n",
       "<style scoped>\n",
       "    .dataframe tbody tr th:only-of-type {\n",
       "        vertical-align: middle;\n",
       "    }\n",
       "\n",
       "    .dataframe tbody tr th {\n",
       "        vertical-align: top;\n",
       "    }\n",
       "\n",
       "    .dataframe thead th {\n",
       "        text-align: right;\n",
       "    }\n",
       "</style>\n",
       "<table border=\"1\" class=\"dataframe\">\n",
       "  <thead>\n",
       "    <tr style=\"text-align: right;\">\n",
       "      <th></th>\n",
       "      <th>target</th>\n",
       "      <th>adnw_id</th>\n",
       "      <th>adspot_id</th>\n",
       "      <th>adspot_video_format_id</th>\n",
       "      <th>advertiser_id</th>\n",
       "      <th>app_id</th>\n",
       "      <th>auction_type_id</th>\n",
       "      <th>campaign_id</th>\n",
       "      <th>category_id</th>\n",
       "      <th>first_login_interval</th>\n",
       "      <th>...</th>\n",
       "      <th>login_frequency</th>\n",
       "      <th>max_login_interval</th>\n",
       "      <th>media_app_id</th>\n",
       "      <th>os</th>\n",
       "      <th>os_version</th>\n",
       "      <th>uid</th>\n",
       "      <th>user_type_id</th>\n",
       "      <th>mst_advertiser_order_id</th>\n",
       "      <th>mst_user_type_id</th>\n",
       "      <th>count</th>\n",
       "    </tr>\n",
       "  </thead>\n",
       "  <tbody>\n",
       "    <tr>\n",
       "      <th>0</th>\n",
       "      <td>0.0</td>\n",
       "      <td>4</td>\n",
       "      <td>1111</td>\n",
       "      <td>2.0</td>\n",
       "      <td>20</td>\n",
       "      <td>14872</td>\n",
       "      <td>1.0</td>\n",
       "      <td>403</td>\n",
       "      <td>8497</td>\n",
       "      <td>1490644.0</td>\n",
       "      <td>...</td>\n",
       "      <td>10.0</td>\n",
       "      <td>2607.0</td>\n",
       "      <td>0</td>\n",
       "      <td>1</td>\n",
       "      <td>87</td>\n",
       "      <td>273693</td>\n",
       "      <td>1</td>\n",
       "      <td>37</td>\n",
       "      <td>35</td>\n",
       "      <td>1</td>\n",
       "    </tr>\n",
       "    <tr>\n",
       "      <th>1</th>\n",
       "      <td>0.0</td>\n",
       "      <td>28</td>\n",
       "      <td>1081</td>\n",
       "      <td>2.0</td>\n",
       "      <td>121</td>\n",
       "      <td>8301</td>\n",
       "      <td>2.0</td>\n",
       "      <td>91</td>\n",
       "      <td>0</td>\n",
       "      <td>790412.0</td>\n",
       "      <td>...</td>\n",
       "      <td>2.0</td>\n",
       "      <td>13540.0</td>\n",
       "      <td>8995</td>\n",
       "      <td>2</td>\n",
       "      <td>152</td>\n",
       "      <td>427139</td>\n",
       "      <td>2</td>\n",
       "      <td>166</td>\n",
       "      <td>37</td>\n",
       "      <td>1</td>\n",
       "    </tr>\n",
       "    <tr>\n",
       "      <th>2</th>\n",
       "      <td>0.0</td>\n",
       "      <td>42</td>\n",
       "      <td>1123</td>\n",
       "      <td>3.0</td>\n",
       "      <td>5</td>\n",
       "      <td>12948</td>\n",
       "      <td>1.0</td>\n",
       "      <td>114</td>\n",
       "      <td>0</td>\n",
       "      <td>1506105.0</td>\n",
       "      <td>...</td>\n",
       "      <td>9.0</td>\n",
       "      <td>33725.0</td>\n",
       "      <td>347</td>\n",
       "      <td>1</td>\n",
       "      <td>55</td>\n",
       "      <td>1005266</td>\n",
       "      <td>1</td>\n",
       "      <td>27</td>\n",
       "      <td>35</td>\n",
       "      <td>1</td>\n",
       "    </tr>\n",
       "    <tr>\n",
       "      <th>3</th>\n",
       "      <td>0.0</td>\n",
       "      <td>8</td>\n",
       "      <td>1113</td>\n",
       "      <td>2.0</td>\n",
       "      <td>22</td>\n",
       "      <td>12379</td>\n",
       "      <td>1.0</td>\n",
       "      <td>75</td>\n",
       "      <td>0</td>\n",
       "      <td>184283.0</td>\n",
       "      <td>...</td>\n",
       "      <td>4.0</td>\n",
       "      <td>7377.0</td>\n",
       "      <td>6145</td>\n",
       "      <td>1</td>\n",
       "      <td>91</td>\n",
       "      <td>492541</td>\n",
       "      <td>1</td>\n",
       "      <td>159</td>\n",
       "      <td>38</td>\n",
       "      <td>1</td>\n",
       "    </tr>\n",
       "    <tr>\n",
       "      <th>4</th>\n",
       "      <td>0.0</td>\n",
       "      <td>22</td>\n",
       "      <td>1061</td>\n",
       "      <td>NaN</td>\n",
       "      <td>135</td>\n",
       "      <td>196</td>\n",
       "      <td>4.0</td>\n",
       "      <td>331</td>\n",
       "      <td>0</td>\n",
       "      <td>1999495.0</td>\n",
       "      <td>...</td>\n",
       "      <td>5.0</td>\n",
       "      <td>164759.0</td>\n",
       "      <td>2190</td>\n",
       "      <td>1</td>\n",
       "      <td>71</td>\n",
       "      <td>698493</td>\n",
       "      <td>1</td>\n",
       "      <td>56</td>\n",
       "      <td>35</td>\n",
       "      <td>1</td>\n",
       "    </tr>\n",
       "  </tbody>\n",
       "</table>\n",
       "<p>5 rows × 28 columns</p>\n",
       "</div>"
      ],
      "text/plain": [
       "   target  adnw_id  adspot_id  adspot_video_format_id  advertiser_id  app_id  \\\n",
       "0     0.0        4       1111                     2.0             20   14872   \n",
       "1     0.0       28       1081                     2.0            121    8301   \n",
       "2     0.0       42       1123                     3.0              5   12948   \n",
       "3     0.0        8       1113                     2.0             22   12379   \n",
       "4     0.0       22       1061                     NaN            135     196   \n",
       "\n",
       "   auction_type_id  campaign_id  category_id  first_login_interval  ...  \\\n",
       "0              1.0          403         8497             1490644.0  ...   \n",
       "1              2.0           91            0              790412.0  ...   \n",
       "2              1.0          114            0             1506105.0  ...   \n",
       "3              1.0           75            0              184283.0  ...   \n",
       "4              4.0          331            0             1999495.0  ...   \n",
       "\n",
       "   login_frequency  max_login_interval  media_app_id  os  os_version      uid  \\\n",
       "0             10.0              2607.0             0   1          87   273693   \n",
       "1              2.0             13540.0          8995   2         152   427139   \n",
       "2              9.0             33725.0           347   1          55  1005266   \n",
       "3              4.0              7377.0          6145   1          91   492541   \n",
       "4              5.0            164759.0          2190   1          71   698493   \n",
       "\n",
       "   user_type_id  mst_advertiser_order_id  mst_user_type_id  count  \n",
       "0             1                       37                35      1  \n",
       "1             2                      166                37      1  \n",
       "2             1                       27                35      1  \n",
       "3             1                      159                38      1  \n",
       "4             1                       56                35      1  \n",
       "\n",
       "[5 rows x 28 columns]"
      ]
     },
     "execution_count": 17,
     "metadata": {},
     "output_type": "execute_result"
    }
   ],
   "source": [
    "train.head()"
   ]
  },
  {
   "cell_type": "markdown",
   "metadata": {
    "papermill": {
     "duration": 0.030242,
     "end_time": "2020-11-16T14:34:38.712822",
     "exception": false,
     "start_time": "2020-11-16T14:34:38.682580",
     "status": "completed"
    },
    "tags": []
   },
   "source": [
    "# modelling"
   ]
  },
  {
   "cell_type": "code",
   "execution_count": 18,
   "metadata": {
    "execution": {
     "iopub.execute_input": "2020-11-16T14:34:38.781521Z",
     "iopub.status.busy": "2020-11-16T14:34:38.780640Z",
     "iopub.status.idle": "2020-11-16T14:34:38.784153Z",
     "shell.execute_reply": "2020-11-16T14:34:38.783395Z"
    },
    "papermill": {
     "duration": 0.040687,
     "end_time": "2020-11-16T14:34:38.784297",
     "exception": false,
     "start_time": "2020-11-16T14:34:38.743610",
     "status": "completed"
    },
    "tags": []
   },
   "outputs": [],
   "source": [
    "object_feats = [i for i in object_feats if i not in remove_features and i != \"request_id\"]"
   ]
  },
  {
   "cell_type": "code",
   "execution_count": 19,
   "metadata": {
    "_cell_guid": "79c7e3d0-c299-4dcb-8224-4455121ee9b0",
    "_uuid": "d629ff2d2480ee46fbb7e2d37f6b5fab8052498a",
    "execution": {
     "iopub.execute_input": "2020-11-16T14:34:38.875250Z",
     "iopub.status.busy": "2020-11-16T14:34:38.871213Z",
     "iopub.status.idle": "2020-11-16T14:55:32.947750Z",
     "shell.execute_reply": "2020-11-16T14:55:32.946944Z"
    },
    "papermill": {
     "duration": 1254.132791,
     "end_time": "2020-11-16T14:55:32.947953",
     "exception": false,
     "start_time": "2020-11-16T14:34:38.815162",
     "status": "completed"
    },
    "tags": []
   },
   "outputs": [
    {
     "name": "stdout",
     "output_type": "stream",
     "text": [
      "seed: 0\n",
      "fold:  0\n"
     ]
    },
    {
     "name": "stderr",
     "output_type": "stream",
     "text": [
      "/opt/conda/lib/python3.7/site-packages/lightgbm/basic.py:1295: UserWarning: categorical_feature in Dataset is overridden.\n",
      "New categorical_feature is ['advertiser_id', 'app_id', 'campaign_id', 'game_feed_id', 'game_template_id', 'media_app_id', 'mst_advertiser_order_id', 'os_version', 'uid']\n",
      "  'New categorical_feature is {}'.format(sorted(list(categorical_feature))))\n"
     ]
    },
    {
     "name": "stdout",
     "output_type": "stream",
     "text": [
      "Training until validation scores don't improve for 20 rounds\n",
      "[10]\ttraining's pr_auc: 0.215284\tvalid_1's pr_auc: 0.210971\n",
      "[20]\ttraining's pr_auc: 0.227006\tvalid_1's pr_auc: 0.220222\n",
      "[30]\ttraining's pr_auc: 0.236822\tvalid_1's pr_auc: 0.227529\n",
      "[40]\ttraining's pr_auc: 0.24521\tvalid_1's pr_auc: 0.231816\n",
      "[50]\ttraining's pr_auc: 0.251765\tvalid_1's pr_auc: 0.234534\n",
      "[60]\ttraining's pr_auc: 0.257294\tvalid_1's pr_auc: 0.236427\n",
      "[70]\ttraining's pr_auc: 0.261999\tvalid_1's pr_auc: 0.237878\n",
      "[80]\ttraining's pr_auc: 0.265899\tvalid_1's pr_auc: 0.23901\n",
      "[90]\ttraining's pr_auc: 0.269118\tvalid_1's pr_auc: 0.239755\n",
      "[100]\ttraining's pr_auc: 0.27215\tvalid_1's pr_auc: 0.240373\n",
      "[110]\ttraining's pr_auc: 0.274805\tvalid_1's pr_auc: 0.240811\n",
      "[120]\ttraining's pr_auc: 0.277583\tvalid_1's pr_auc: 0.241405\n",
      "[130]\ttraining's pr_auc: 0.279367\tvalid_1's pr_auc: 0.241598\n",
      "[140]\ttraining's pr_auc: 0.281236\tvalid_1's pr_auc: 0.241789\n",
      "[150]\ttraining's pr_auc: 0.283563\tvalid_1's pr_auc: 0.242153\n",
      "[160]\ttraining's pr_auc: 0.285031\tvalid_1's pr_auc: 0.242386\n",
      "[170]\ttraining's pr_auc: 0.287056\tvalid_1's pr_auc: 0.242707\n",
      "[180]\ttraining's pr_auc: 0.288141\tvalid_1's pr_auc: 0.242765\n",
      "[190]\ttraining's pr_auc: 0.289811\tvalid_1's pr_auc: 0.242681\n",
      "[200]\ttraining's pr_auc: 0.292013\tvalid_1's pr_auc: 0.24267\n",
      "[210]\ttraining's pr_auc: 0.292721\tvalid_1's pr_auc: 0.242975\n",
      "[220]\ttraining's pr_auc: 0.294626\tvalid_1's pr_auc: 0.243034\n",
      "[230]\ttraining's pr_auc: 0.296855\tvalid_1's pr_auc: 0.243011\n",
      "Early stopping, best iteration is:\n",
      "[213]\ttraining's pr_auc: 0.293501\tvalid_1's pr_auc: 0.243084\n",
      "fold:  1\n",
      "Training until validation scores don't improve for 20 rounds\n",
      "[10]\ttraining's pr_auc: 0.213509\tvalid_1's pr_auc: 0.211405\n",
      "[20]\ttraining's pr_auc: 0.225928\tvalid_1's pr_auc: 0.223088\n",
      "[30]\ttraining's pr_auc: 0.236385\tvalid_1's pr_auc: 0.231075\n",
      "[40]\ttraining's pr_auc: 0.244055\tvalid_1's pr_auc: 0.236221\n",
      "[50]\ttraining's pr_auc: 0.249992\tvalid_1's pr_auc: 0.239687\n",
      "[60]\ttraining's pr_auc: 0.255347\tvalid_1's pr_auc: 0.242109\n",
      "[70]\ttraining's pr_auc: 0.259616\tvalid_1's pr_auc: 0.243528\n",
      "[80]\ttraining's pr_auc: 0.263384\tvalid_1's pr_auc: 0.244743\n",
      "[90]\ttraining's pr_auc: 0.266958\tvalid_1's pr_auc: 0.245922\n",
      "[100]\ttraining's pr_auc: 0.269489\tvalid_1's pr_auc: 0.246561\n",
      "[110]\ttraining's pr_auc: 0.272202\tvalid_1's pr_auc: 0.247034\n",
      "[120]\ttraining's pr_auc: 0.274853\tvalid_1's pr_auc: 0.247746\n",
      "[130]\ttraining's pr_auc: 0.276759\tvalid_1's pr_auc: 0.248207\n",
      "[140]\ttraining's pr_auc: 0.278419\tvalid_1's pr_auc: 0.248293\n",
      "[150]\ttraining's pr_auc: 0.279982\tvalid_1's pr_auc: 0.248515\n",
      "[160]\ttraining's pr_auc: 0.281721\tvalid_1's pr_auc: 0.248512\n",
      "[170]\ttraining's pr_auc: 0.283267\tvalid_1's pr_auc: 0.248935\n",
      "[180]\ttraining's pr_auc: 0.284529\tvalid_1's pr_auc: 0.249046\n",
      "[190]\ttraining's pr_auc: 0.286859\tvalid_1's pr_auc: 0.249077\n",
      "[200]\ttraining's pr_auc: 0.288326\tvalid_1's pr_auc: 0.249198\n",
      "[210]\ttraining's pr_auc: 0.289394\tvalid_1's pr_auc: 0.249285\n",
      "[220]\ttraining's pr_auc: 0.290248\tvalid_1's pr_auc: 0.249409\n",
      "[230]\ttraining's pr_auc: 0.291682\tvalid_1's pr_auc: 0.249271\n",
      "Early stopping, best iteration is:\n",
      "[219]\ttraining's pr_auc: 0.290154\tvalid_1's pr_auc: 0.249435\n",
      "fold:  2\n",
      "Training until validation scores don't improve for 20 rounds\n",
      "[10]\ttraining's pr_auc: 0.214925\tvalid_1's pr_auc: 0.212591\n",
      "[20]\ttraining's pr_auc: 0.225993\tvalid_1's pr_auc: 0.221685\n",
      "[30]\ttraining's pr_auc: 0.237115\tvalid_1's pr_auc: 0.230574\n",
      "[40]\ttraining's pr_auc: 0.245144\tvalid_1's pr_auc: 0.235904\n",
      "[50]\ttraining's pr_auc: 0.251426\tvalid_1's pr_auc: 0.239013\n",
      "[60]\ttraining's pr_auc: 0.257209\tvalid_1's pr_auc: 0.241831\n",
      "[70]\ttraining's pr_auc: 0.261962\tvalid_1's pr_auc: 0.24352\n",
      "[80]\ttraining's pr_auc: 0.265725\tvalid_1's pr_auc: 0.244682\n",
      "[90]\ttraining's pr_auc: 0.26905\tvalid_1's pr_auc: 0.24512\n",
      "[100]\ttraining's pr_auc: 0.272707\tvalid_1's pr_auc: 0.245679\n",
      "[110]\ttraining's pr_auc: 0.275221\tvalid_1's pr_auc: 0.245712\n",
      "[120]\ttraining's pr_auc: 0.277578\tvalid_1's pr_auc: 0.246282\n",
      "[130]\ttraining's pr_auc: 0.279721\tvalid_1's pr_auc: 0.246724\n",
      "[140]\ttraining's pr_auc: 0.281779\tvalid_1's pr_auc: 0.246852\n",
      "[150]\ttraining's pr_auc: 0.283974\tvalid_1's pr_auc: 0.247001\n",
      "[160]\ttraining's pr_auc: 0.285242\tvalid_1's pr_auc: 0.247122\n",
      "[170]\ttraining's pr_auc: 0.286954\tvalid_1's pr_auc: 0.247355\n",
      "[180]\ttraining's pr_auc: 0.288245\tvalid_1's pr_auc: 0.247299\n",
      "[190]\ttraining's pr_auc: 0.289373\tvalid_1's pr_auc: 0.247415\n",
      "[200]\ttraining's pr_auc: 0.291456\tvalid_1's pr_auc: 0.247492\n",
      "[210]\ttraining's pr_auc: 0.293011\tvalid_1's pr_auc: 0.247395\n",
      "Early stopping, best iteration is:\n",
      "[196]\ttraining's pr_auc: 0.290831\tvalid_1's pr_auc: 0.247501\n",
      "fold:  3\n",
      "Training until validation scores don't improve for 20 rounds\n",
      "[10]\ttraining's pr_auc: 0.215431\tvalid_1's pr_auc: 0.211929\n",
      "[20]\ttraining's pr_auc: 0.227939\tvalid_1's pr_auc: 0.222158\n",
      "[30]\ttraining's pr_auc: 0.237641\tvalid_1's pr_auc: 0.229721\n",
      "[40]\ttraining's pr_auc: 0.246262\tvalid_1's pr_auc: 0.234812\n",
      "[50]\ttraining's pr_auc: 0.252566\tvalid_1's pr_auc: 0.238136\n",
      "[60]\ttraining's pr_auc: 0.258\tvalid_1's pr_auc: 0.24052\n",
      "[70]\ttraining's pr_auc: 0.263343\tvalid_1's pr_auc: 0.242662\n",
      "[80]\ttraining's pr_auc: 0.266546\tvalid_1's pr_auc: 0.243384\n",
      "[90]\ttraining's pr_auc: 0.270539\tvalid_1's pr_auc: 0.244308\n",
      "[100]\ttraining's pr_auc: 0.273378\tvalid_1's pr_auc: 0.245122\n",
      "[110]\ttraining's pr_auc: 0.276068\tvalid_1's pr_auc: 0.245637\n",
      "[120]\ttraining's pr_auc: 0.277948\tvalid_1's pr_auc: 0.245868\n",
      "[130]\ttraining's pr_auc: 0.279977\tvalid_1's pr_auc: 0.246314\n",
      "[140]\ttraining's pr_auc: 0.281703\tvalid_1's pr_auc: 0.246602\n",
      "[150]\ttraining's pr_auc: 0.283431\tvalid_1's pr_auc: 0.246963\n",
      "[160]\ttraining's pr_auc: 0.285248\tvalid_1's pr_auc: 0.246982\n",
      "[170]\ttraining's pr_auc: 0.287243\tvalid_1's pr_auc: 0.247136\n",
      "[180]\ttraining's pr_auc: 0.288631\tvalid_1's pr_auc: 0.247348\n",
      "[190]\ttraining's pr_auc: 0.290126\tvalid_1's pr_auc: 0.247508\n",
      "[200]\ttraining's pr_auc: 0.291647\tvalid_1's pr_auc: 0.247667\n",
      "[210]\ttraining's pr_auc: 0.29316\tvalid_1's pr_auc: 0.247688\n",
      "[220]\ttraining's pr_auc: 0.294876\tvalid_1's pr_auc: 0.247623\n",
      "[230]\ttraining's pr_auc: 0.296755\tvalid_1's pr_auc: 0.247672\n",
      "[240]\ttraining's pr_auc: 0.297992\tvalid_1's pr_auc: 0.247395\n",
      "Early stopping, best iteration is:\n",
      "[228]\ttraining's pr_auc: 0.296636\tvalid_1's pr_auc: 0.247768\n",
      "fold:  4\n",
      "Training until validation scores don't improve for 20 rounds\n",
      "[10]\ttraining's pr_auc: 0.214329\tvalid_1's pr_auc: 0.2113\n",
      "[20]\ttraining's pr_auc: 0.227401\tvalid_1's pr_auc: 0.22124\n",
      "[30]\ttraining's pr_auc: 0.238597\tvalid_1's pr_auc: 0.229245\n",
      "[40]\ttraining's pr_auc: 0.247024\tvalid_1's pr_auc: 0.233607\n",
      "[50]\ttraining's pr_auc: 0.253026\tvalid_1's pr_auc: 0.236967\n",
      "[60]\ttraining's pr_auc: 0.258464\tvalid_1's pr_auc: 0.239069\n",
      "[70]\ttraining's pr_auc: 0.263241\tvalid_1's pr_auc: 0.240097\n",
      "[80]\ttraining's pr_auc: 0.26716\tvalid_1's pr_auc: 0.241422\n",
      "[90]\ttraining's pr_auc: 0.270428\tvalid_1's pr_auc: 0.242328\n",
      "[100]\ttraining's pr_auc: 0.273787\tvalid_1's pr_auc: 0.243344\n",
      "[110]\ttraining's pr_auc: 0.276633\tvalid_1's pr_auc: 0.243705\n",
      "[120]\ttraining's pr_auc: 0.279256\tvalid_1's pr_auc: 0.243681\n",
      "[130]\ttraining's pr_auc: 0.281752\tvalid_1's pr_auc: 0.243909\n",
      "[140]\ttraining's pr_auc: 0.283709\tvalid_1's pr_auc: 0.24378\n",
      "[150]\ttraining's pr_auc: 0.285786\tvalid_1's pr_auc: 0.243969\n",
      "[160]\ttraining's pr_auc: 0.286783\tvalid_1's pr_auc: 0.244177\n",
      "[170]\ttraining's pr_auc: 0.288397\tvalid_1's pr_auc: 0.244205\n",
      "[180]\ttraining's pr_auc: 0.290553\tvalid_1's pr_auc: 0.24418\n",
      "[190]\ttraining's pr_auc: 0.292595\tvalid_1's pr_auc: 0.244073\n",
      "Early stopping, best iteration is:\n",
      "[174]\ttraining's pr_auc: 0.28897\tvalid_1's pr_auc: 0.244273\n",
      "average precision score = 0.2442727773524198\n",
      "0.2462222305117358\n"
     ]
    }
   ],
   "source": [
    "n_folds = 5\n",
    "def pr_auc_metric(y_predicted, y_true):\n",
    "    return 'pr_auc', average_precision_score(y_true.get_label(), y_predicted), True\n",
    "\n",
    "def modelling(seed):\n",
    "    print(\"seed:\", seed)\n",
    "    lgbm_params = {'objective': 'binary', 'metric': 'None', 'boosting_type': 'gbdt', \n",
    "               'tree_learner': 'serial', 'learning_rate': 0.1, \"num_leaves\": 10, 'random_seed':seed,'max_depth': 5}\n",
    "    \n",
    "    y = train.target.copy()\n",
    "    X = train.drop(['target'],axis=1).copy()\n",
    "    \n",
    "    skf=StratifiedKFold(n_splits = n_folds, shuffle=True, random_state=0)\n",
    "    \n",
    "    valid = np.zeros([X.shape[0]])\n",
    "    features_list = [i for i in X.columns]\n",
    "    pred_value = np.zeros(test.shape[0])\n",
    "    feature_importance_df = pd.DataFrame(features_list, columns=[\"Feature\"])\n",
    "    \n",
    "    for i , (train_index, val_index) in enumerate(skf.split(X, y)):\n",
    "        print(\"fold: \", i)\n",
    "        \n",
    "        X_train = X.iloc[train_index,:]\n",
    "        y_train = y.iloc[train_index]\n",
    "\n",
    "        X_valid = X.iloc[val_index,:]\n",
    "        y_valid = y.iloc[val_index]\n",
    "        \n",
    "        lgb_train = lgb.Dataset(X_train, y_train)\n",
    "        lgb_eval = lgb.Dataset(X_valid, y_valid, reference=lgb_train)\n",
    "        \n",
    "        model = lgb.train(lgbm_params, lgb_train,valid_sets=[lgb_train, lgb_eval],\n",
    "           num_boost_round=10000,early_stopping_rounds=20,verbose_eval = 10,\n",
    "                          feval=pr_auc_metric, categorical_feature = sorted(object_feats))\n",
    "        \n",
    "        valid_predict = model.predict(X_valid, num_iteration = model.best_iteration)\n",
    "        valid[val_index] = valid_predict\n",
    "        pred_value += model.predict(test, num_iteration = model.best_iteration)\n",
    "        feature_importance_df[\"Fold_\"+str(i+1)] = model.feature_importance()\n",
    "    \n",
    "    feature_importance_df[\"Average\"] = np.mean(feature_importance_df.iloc[:,1:n_folds+1], axis=1)\n",
    "    feature_importance_df[\"Std\"] = np.std(feature_importance_df.iloc[:,1:n_folds+1], axis=1)\n",
    "    feature_importance_df[\"Cv\"] = feature_importance_df[\"Std\"] / feature_importance_df[\"Average\"]\n",
    "    \n",
    "    score = average_precision_score(y_valid, valid_predict)\n",
    "    print(\"average precision score = {}\".format(score))\n",
    "    \n",
    "    return pred_value, valid, feature_importance_df\n",
    "\n",
    "validation = np.zeros([train.shape[0]])\n",
    "pred_value = np.zeros([test.shape[0]])\n",
    "seeds = [0]\n",
    "for seed_ in seeds:\n",
    "    test_pred, oof_predict, feature_importance_df = modelling(seed_)\n",
    "    validation += oof_predict / len(seeds)\n",
    "    pred_value += test_pred / len(seeds)\n",
    "\n",
    "score = average_precision_score(train.target, validation)\n",
    "print(score)"
   ]
  },
  {
   "cell_type": "code",
   "execution_count": 20,
   "metadata": {
    "execution": {
     "iopub.execute_input": "2020-11-16T14:55:33.123758Z",
     "iopub.status.busy": "2020-11-16T14:55:33.122840Z",
     "iopub.status.idle": "2020-11-16T14:55:33.150068Z",
     "shell.execute_reply": "2020-11-16T14:55:33.149222Z"
    },
    "papermill": {
     "duration": 0.11751,
     "end_time": "2020-11-16T14:55:33.150219",
     "exception": false,
     "start_time": "2020-11-16T14:55:33.032709",
     "status": "completed"
    },
    "tags": []
   },
   "outputs": [
    {
     "data": {
      "text/html": [
       "<div>\n",
       "<style scoped>\n",
       "    .dataframe tbody tr th:only-of-type {\n",
       "        vertical-align: middle;\n",
       "    }\n",
       "\n",
       "    .dataframe tbody tr th {\n",
       "        vertical-align: top;\n",
       "    }\n",
       "\n",
       "    .dataframe thead th {\n",
       "        text-align: right;\n",
       "    }\n",
       "</style>\n",
       "<table border=\"1\" class=\"dataframe\">\n",
       "  <thead>\n",
       "    <tr style=\"text-align: right;\">\n",
       "      <th></th>\n",
       "      <th>Feature</th>\n",
       "      <th>Fold_1</th>\n",
       "      <th>Fold_2</th>\n",
       "      <th>Fold_3</th>\n",
       "      <th>Fold_4</th>\n",
       "      <th>Fold_5</th>\n",
       "      <th>Average</th>\n",
       "      <th>Std</th>\n",
       "      <th>Cv</th>\n",
       "    </tr>\n",
       "  </thead>\n",
       "  <tbody>\n",
       "    <tr>\n",
       "      <th>11</th>\n",
       "      <td>game_feed_id</td>\n",
       "      <td>422</td>\n",
       "      <td>414</td>\n",
       "      <td>371</td>\n",
       "      <td>434</td>\n",
       "      <td>314</td>\n",
       "      <td>391.0</td>\n",
       "      <td>43.972719</td>\n",
       "      <td>0.112462</td>\n",
       "    </tr>\n",
       "    <tr>\n",
       "      <th>4</th>\n",
       "      <td>app_id</td>\n",
       "      <td>385</td>\n",
       "      <td>382</td>\n",
       "      <td>346</td>\n",
       "      <td>425</td>\n",
       "      <td>314</td>\n",
       "      <td>370.4</td>\n",
       "      <td>37.696684</td>\n",
       "      <td>0.101773</td>\n",
       "    </tr>\n",
       "    <tr>\n",
       "      <th>6</th>\n",
       "      <td>campaign_id</td>\n",
       "      <td>243</td>\n",
       "      <td>251</td>\n",
       "      <td>248</td>\n",
       "      <td>272</td>\n",
       "      <td>233</td>\n",
       "      <td>249.4</td>\n",
       "      <td>12.846789</td>\n",
       "      <td>0.051511</td>\n",
       "    </tr>\n",
       "    <tr>\n",
       "      <th>22</th>\n",
       "      <td>uid</td>\n",
       "      <td>186</td>\n",
       "      <td>219</td>\n",
       "      <td>175</td>\n",
       "      <td>207</td>\n",
       "      <td>156</td>\n",
       "      <td>188.6</td>\n",
       "      <td>22.437469</td>\n",
       "      <td>0.118969</td>\n",
       "    </tr>\n",
       "    <tr>\n",
       "      <th>19</th>\n",
       "      <td>media_app_id</td>\n",
       "      <td>176</td>\n",
       "      <td>166</td>\n",
       "      <td>159</td>\n",
       "      <td>177</td>\n",
       "      <td>126</td>\n",
       "      <td>160.8</td>\n",
       "      <td>18.626862</td>\n",
       "      <td>0.115839</td>\n",
       "    </tr>\n",
       "    <tr>\n",
       "      <th>3</th>\n",
       "      <td>advertiser_id</td>\n",
       "      <td>62</td>\n",
       "      <td>74</td>\n",
       "      <td>60</td>\n",
       "      <td>75</td>\n",
       "      <td>74</td>\n",
       "      <td>69.0</td>\n",
       "      <td>6.572671</td>\n",
       "      <td>0.095256</td>\n",
       "    </tr>\n",
       "    <tr>\n",
       "      <th>26</th>\n",
       "      <td>count</td>\n",
       "      <td>68</td>\n",
       "      <td>76</td>\n",
       "      <td>63</td>\n",
       "      <td>75</td>\n",
       "      <td>56</td>\n",
       "      <td>67.6</td>\n",
       "      <td>7.499333</td>\n",
       "      <td>0.110937</td>\n",
       "    </tr>\n",
       "    <tr>\n",
       "      <th>8</th>\n",
       "      <td>first_login_interval</td>\n",
       "      <td>48</td>\n",
       "      <td>62</td>\n",
       "      <td>51</td>\n",
       "      <td>65</td>\n",
       "      <td>49</td>\n",
       "      <td>55.0</td>\n",
       "      <td>7.071068</td>\n",
       "      <td>0.128565</td>\n",
       "    </tr>\n",
       "    <tr>\n",
       "      <th>16</th>\n",
       "      <td>last_login_interval</td>\n",
       "      <td>61</td>\n",
       "      <td>58</td>\n",
       "      <td>44</td>\n",
       "      <td>53</td>\n",
       "      <td>42</td>\n",
       "      <td>51.6</td>\n",
       "      <td>7.499333</td>\n",
       "      <td>0.145336</td>\n",
       "    </tr>\n",
       "    <tr>\n",
       "      <th>24</th>\n",
       "      <td>mst_advertiser_order_id</td>\n",
       "      <td>59</td>\n",
       "      <td>46</td>\n",
       "      <td>48</td>\n",
       "      <td>45</td>\n",
       "      <td>34</td>\n",
       "      <td>46.4</td>\n",
       "      <td>7.964923</td>\n",
       "      <td>0.171658</td>\n",
       "    </tr>\n",
       "    <tr>\n",
       "      <th>18</th>\n",
       "      <td>max_login_interval</td>\n",
       "      <td>38</td>\n",
       "      <td>53</td>\n",
       "      <td>40</td>\n",
       "      <td>46</td>\n",
       "      <td>33</td>\n",
       "      <td>42.0</td>\n",
       "      <td>6.899275</td>\n",
       "      <td>0.164268</td>\n",
       "    </tr>\n",
       "    <tr>\n",
       "      <th>17</th>\n",
       "      <td>login_frequency</td>\n",
       "      <td>39</td>\n",
       "      <td>36</td>\n",
       "      <td>37</td>\n",
       "      <td>40</td>\n",
       "      <td>33</td>\n",
       "      <td>37.0</td>\n",
       "      <td>2.449490</td>\n",
       "      <td>0.066202</td>\n",
       "    </tr>\n",
       "    <tr>\n",
       "      <th>10</th>\n",
       "      <td>from_click</td>\n",
       "      <td>22</td>\n",
       "      <td>21</td>\n",
       "      <td>22</td>\n",
       "      <td>22</td>\n",
       "      <td>22</td>\n",
       "      <td>21.8</td>\n",
       "      <td>0.400000</td>\n",
       "      <td>0.018349</td>\n",
       "    </tr>\n",
       "    <tr>\n",
       "      <th>25</th>\n",
       "      <td>mst_user_type_id</td>\n",
       "      <td>23</td>\n",
       "      <td>23</td>\n",
       "      <td>19</td>\n",
       "      <td>22</td>\n",
       "      <td>20</td>\n",
       "      <td>21.4</td>\n",
       "      <td>1.624808</td>\n",
       "      <td>0.075926</td>\n",
       "    </tr>\n",
       "    <tr>\n",
       "      <th>21</th>\n",
       "      <td>os_version</td>\n",
       "      <td>20</td>\n",
       "      <td>21</td>\n",
       "      <td>22</td>\n",
       "      <td>22</td>\n",
       "      <td>14</td>\n",
       "      <td>19.8</td>\n",
       "      <td>2.993326</td>\n",
       "      <td>0.151178</td>\n",
       "    </tr>\n",
       "    <tr>\n",
       "      <th>15</th>\n",
       "      <td>item_id</td>\n",
       "      <td>16</td>\n",
       "      <td>21</td>\n",
       "      <td>18</td>\n",
       "      <td>18</td>\n",
       "      <td>11</td>\n",
       "      <td>16.8</td>\n",
       "      <td>3.310589</td>\n",
       "      <td>0.197059</td>\n",
       "    </tr>\n",
       "    <tr>\n",
       "      <th>9</th>\n",
       "      <td>frequency</td>\n",
       "      <td>16</td>\n",
       "      <td>18</td>\n",
       "      <td>17</td>\n",
       "      <td>18</td>\n",
       "      <td>9</td>\n",
       "      <td>15.6</td>\n",
       "      <td>3.382307</td>\n",
       "      <td>0.216815</td>\n",
       "    </tr>\n",
       "    <tr>\n",
       "      <th>1</th>\n",
       "      <td>adspot_id</td>\n",
       "      <td>10</td>\n",
       "      <td>12</td>\n",
       "      <td>11</td>\n",
       "      <td>12</td>\n",
       "      <td>10</td>\n",
       "      <td>11.0</td>\n",
       "      <td>0.894427</td>\n",
       "      <td>0.081312</td>\n",
       "    </tr>\n",
       "    <tr>\n",
       "      <th>2</th>\n",
       "      <td>adspot_video_format_id</td>\n",
       "      <td>9</td>\n",
       "      <td>7</td>\n",
       "      <td>6</td>\n",
       "      <td>11</td>\n",
       "      <td>9</td>\n",
       "      <td>8.4</td>\n",
       "      <td>1.743560</td>\n",
       "      <td>0.207567</td>\n",
       "    </tr>\n",
       "    <tr>\n",
       "      <th>7</th>\n",
       "      <td>category_id</td>\n",
       "      <td>4</td>\n",
       "      <td>4</td>\n",
       "      <td>3</td>\n",
       "      <td>6</td>\n",
       "      <td>2</td>\n",
       "      <td>3.8</td>\n",
       "      <td>1.326650</td>\n",
       "      <td>0.349118</td>\n",
       "    </tr>\n",
       "    <tr>\n",
       "      <th>12</th>\n",
       "      <td>game_template_id</td>\n",
       "      <td>3</td>\n",
       "      <td>2</td>\n",
       "      <td>3</td>\n",
       "      <td>3</td>\n",
       "      <td>1</td>\n",
       "      <td>2.4</td>\n",
       "      <td>0.800000</td>\n",
       "      <td>0.333333</td>\n",
       "    </tr>\n",
       "    <tr>\n",
       "      <th>13</th>\n",
       "      <td>header_bidding</td>\n",
       "      <td>2</td>\n",
       "      <td>1</td>\n",
       "      <td>0</td>\n",
       "      <td>1</td>\n",
       "      <td>2</td>\n",
       "      <td>1.2</td>\n",
       "      <td>0.748331</td>\n",
       "      <td>0.623610</td>\n",
       "    </tr>\n",
       "    <tr>\n",
       "      <th>14</th>\n",
       "      <td>is_interstitial</td>\n",
       "      <td>1</td>\n",
       "      <td>1</td>\n",
       "      <td>0</td>\n",
       "      <td>2</td>\n",
       "      <td>1</td>\n",
       "      <td>1.0</td>\n",
       "      <td>0.632456</td>\n",
       "      <td>0.632456</td>\n",
       "    </tr>\n",
       "    <tr>\n",
       "      <th>0</th>\n",
       "      <td>adnw_id</td>\n",
       "      <td>2</td>\n",
       "      <td>1</td>\n",
       "      <td>0</td>\n",
       "      <td>1</td>\n",
       "      <td>1</td>\n",
       "      <td>1.0</td>\n",
       "      <td>0.632456</td>\n",
       "      <td>0.632456</td>\n",
       "    </tr>\n",
       "    <tr>\n",
       "      <th>20</th>\n",
       "      <td>os</td>\n",
       "      <td>0</td>\n",
       "      <td>1</td>\n",
       "      <td>1</td>\n",
       "      <td>0</td>\n",
       "      <td>0</td>\n",
       "      <td>0.4</td>\n",
       "      <td>0.489898</td>\n",
       "      <td>1.224745</td>\n",
       "    </tr>\n",
       "    <tr>\n",
       "      <th>5</th>\n",
       "      <td>auction_type_id</td>\n",
       "      <td>2</td>\n",
       "      <td>0</td>\n",
       "      <td>0</td>\n",
       "      <td>0</td>\n",
       "      <td>0</td>\n",
       "      <td>0.4</td>\n",
       "      <td>0.800000</td>\n",
       "      <td>2.000000</td>\n",
       "    </tr>\n",
       "    <tr>\n",
       "      <th>23</th>\n",
       "      <td>user_type_id</td>\n",
       "      <td>0</td>\n",
       "      <td>1</td>\n",
       "      <td>0</td>\n",
       "      <td>0</td>\n",
       "      <td>0</td>\n",
       "      <td>0.2</td>\n",
       "      <td>0.400000</td>\n",
       "      <td>2.000000</td>\n",
       "    </tr>\n",
       "  </tbody>\n",
       "</table>\n",
       "</div>"
      ],
      "text/plain": [
       "                    Feature  Fold_1  Fold_2  Fold_3  Fold_4  Fold_5  Average  \\\n",
       "11             game_feed_id     422     414     371     434     314    391.0   \n",
       "4                    app_id     385     382     346     425     314    370.4   \n",
       "6               campaign_id     243     251     248     272     233    249.4   \n",
       "22                      uid     186     219     175     207     156    188.6   \n",
       "19             media_app_id     176     166     159     177     126    160.8   \n",
       "3             advertiser_id      62      74      60      75      74     69.0   \n",
       "26                    count      68      76      63      75      56     67.6   \n",
       "8      first_login_interval      48      62      51      65      49     55.0   \n",
       "16      last_login_interval      61      58      44      53      42     51.6   \n",
       "24  mst_advertiser_order_id      59      46      48      45      34     46.4   \n",
       "18       max_login_interval      38      53      40      46      33     42.0   \n",
       "17          login_frequency      39      36      37      40      33     37.0   \n",
       "10               from_click      22      21      22      22      22     21.8   \n",
       "25         mst_user_type_id      23      23      19      22      20     21.4   \n",
       "21               os_version      20      21      22      22      14     19.8   \n",
       "15                  item_id      16      21      18      18      11     16.8   \n",
       "9                 frequency      16      18      17      18       9     15.6   \n",
       "1                 adspot_id      10      12      11      12      10     11.0   \n",
       "2    adspot_video_format_id       9       7       6      11       9      8.4   \n",
       "7               category_id       4       4       3       6       2      3.8   \n",
       "12         game_template_id       3       2       3       3       1      2.4   \n",
       "13           header_bidding       2       1       0       1       2      1.2   \n",
       "14          is_interstitial       1       1       0       2       1      1.0   \n",
       "0                   adnw_id       2       1       0       1       1      1.0   \n",
       "20                       os       0       1       1       0       0      0.4   \n",
       "5           auction_type_id       2       0       0       0       0      0.4   \n",
       "23             user_type_id       0       1       0       0       0      0.2   \n",
       "\n",
       "          Std        Cv  \n",
       "11  43.972719  0.112462  \n",
       "4   37.696684  0.101773  \n",
       "6   12.846789  0.051511  \n",
       "22  22.437469  0.118969  \n",
       "19  18.626862  0.115839  \n",
       "3    6.572671  0.095256  \n",
       "26   7.499333  0.110937  \n",
       "8    7.071068  0.128565  \n",
       "16   7.499333  0.145336  \n",
       "24   7.964923  0.171658  \n",
       "18   6.899275  0.164268  \n",
       "17   2.449490  0.066202  \n",
       "10   0.400000  0.018349  \n",
       "25   1.624808  0.075926  \n",
       "21   2.993326  0.151178  \n",
       "15   3.310589  0.197059  \n",
       "9    3.382307  0.216815  \n",
       "1    0.894427  0.081312  \n",
       "2    1.743560  0.207567  \n",
       "7    1.326650  0.349118  \n",
       "12   0.800000  0.333333  \n",
       "13   0.748331  0.623610  \n",
       "14   0.632456  0.632456  \n",
       "0    0.632456  0.632456  \n",
       "20   0.489898  1.224745  \n",
       "5    0.800000  2.000000  \n",
       "23   0.400000  2.000000  "
      ]
     },
     "execution_count": 20,
     "metadata": {},
     "output_type": "execute_result"
    }
   ],
   "source": [
    "feature_importance_df.sort_values(\"Average\", ascending=False)"
   ]
  },
  {
   "cell_type": "markdown",
   "metadata": {
    "papermill": {
     "duration": 0.085899,
     "end_time": "2020-11-16T14:55:33.321503",
     "exception": false,
     "start_time": "2020-11-16T14:55:33.235604",
     "status": "completed"
    },
    "tags": []
   },
   "source": [
    "# submission"
   ]
  },
  {
   "cell_type": "code",
   "execution_count": 21,
   "metadata": {
    "execution": {
     "iopub.execute_input": "2020-11-16T14:55:33.502159Z",
     "iopub.status.busy": "2020-11-16T14:55:33.501277Z",
     "iopub.status.idle": "2020-11-16T14:55:35.722600Z",
     "shell.execute_reply": "2020-11-16T14:55:35.721810Z"
    },
    "papermill": {
     "duration": 2.315255,
     "end_time": "2020-11-16T14:55:35.722755",
     "exception": false,
     "start_time": "2020-11-16T14:55:33.407500",
     "status": "completed"
    },
    "tags": []
   },
   "outputs": [],
   "source": [
    "lgb_sub = pd.read_csv(DIR + \"atmaCup7__sample_submission.csv\")\n",
    "lgb_sub[\"target\"] = pred_value\n",
    "lgb_sub.to_csv(\"atmacup7_lgb\"+str(score)[:-10]+\".csv\", index = False)"
   ]
  },
  {
   "cell_type": "code",
   "execution_count": null,
   "metadata": {
    "papermill": {
     "duration": 0.083391,
     "end_time": "2020-11-16T14:55:35.890675",
     "exception": false,
     "start_time": "2020-11-16T14:55:35.807284",
     "status": "completed"
    },
    "tags": []
   },
   "outputs": [],
   "source": []
  }
 ],
 "metadata": {
  "kernelspec": {
   "display_name": "Python 3",
   "language": "python",
   "name": "python3"
  },
  "language_info": {
   "codemirror_mode": {
    "name": "ipython",
    "version": 3
   },
   "file_extension": ".py",
   "mimetype": "text/x-python",
   "name": "python",
   "nbconvert_exporter": "python",
   "pygments_lexer": "ipython3",
   "version": "3.7.6"
  },
  "papermill": {
   "duration": 1401.19375,
   "end_time": "2020-11-16T14:55:36.085256",
   "environment_variables": {},
   "exception": null,
   "input_path": "__notebook__.ipynb",
   "output_path": "__notebook__.ipynb",
   "parameters": {},
   "start_time": "2020-11-16T14:32:14.891506",
   "version": "2.1.0"
  }
 },
 "nbformat": 4,
 "nbformat_minor": 4
}
