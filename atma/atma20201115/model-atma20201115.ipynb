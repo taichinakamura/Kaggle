{
 "cells": [
  {
   "cell_type": "markdown",
   "metadata": {
    "papermill": {
     "duration": 0.024988,
     "end_time": "2020-11-16T04:56:36.369994",
     "exception": false,
     "start_time": "2020-11-16T04:56:36.345006",
     "status": "completed"
    },
    "tags": []
   },
   "source": [
    "- add click ratio"
   ]
  },
  {
   "cell_type": "code",
   "execution_count": 1,
   "metadata": {
    "_cell_guid": "b1076dfc-b9ad-4769-8c92-a6c4dae69d19",
    "_uuid": "8f2839f25d086af736a60e9eeb907d3b93b6e0e5",
    "execution": {
     "iopub.execute_input": "2020-11-16T04:56:36.422151Z",
     "iopub.status.busy": "2020-11-16T04:56:36.421203Z",
     "iopub.status.idle": "2020-11-16T04:56:37.686930Z",
     "shell.execute_reply": "2020-11-16T04:56:37.687856Z"
    },
    "papermill": {
     "duration": 1.296361,
     "end_time": "2020-11-16T04:56:37.688113",
     "exception": false,
     "start_time": "2020-11-16T04:56:36.391752",
     "status": "completed"
    },
    "tags": []
   },
   "outputs": [
    {
     "name": "stderr",
     "output_type": "stream",
     "text": [
      "/opt/conda/lib/python3.7/site-packages/ipykernel_launcher.py:6: TqdmDeprecationWarning: This function will be removed in tqdm==5.0.0\n",
      "Please use `tqdm.notebook.*` instead of `tqdm._tqdm_notebook.*`\n",
      "  \n",
      "/opt/conda/lib/python3.7/site-packages/tqdm/std.py:666: FutureWarning: The Panel class is removed from pandas. Accessing it from the top-level namespace will also be removed in the next version\n",
      "  from pandas import Panel\n"
     ]
    }
   ],
   "source": [
    "import os\n",
    "import numpy as np\n",
    "import pandas as pd\n",
    "import lightgbm as lgb\n",
    "from sklearn import preprocessing\n",
    "from tqdm._tqdm_notebook import tqdm_notebook\n",
    "from sklearn.metrics import average_precision_score\n",
    "tqdm_notebook.pandas(desc=\"progress: \")"
   ]
  },
  {
   "cell_type": "code",
   "execution_count": 2,
   "metadata": {
    "execution": {
     "iopub.execute_input": "2020-11-16T04:56:37.747005Z",
     "iopub.status.busy": "2020-11-16T04:56:37.746158Z",
     "iopub.status.idle": "2020-11-16T04:57:00.266222Z",
     "shell.execute_reply": "2020-11-16T04:57:00.265524Z"
    },
    "papermill": {
     "duration": 22.553329,
     "end_time": "2020-11-16T04:57:00.266369",
     "exception": false,
     "start_time": "2020-11-16T04:56:37.713040",
     "status": "completed"
    },
    "tags": []
   },
   "outputs": [],
   "source": [
    "DIR = \"../input/20201115at/\"\n",
    "train = pd.read_csv(DIR+\"train.csv\")\n",
    "test = pd.read_csv(DIR+\"test.csv\")\n",
    "campaign = pd.read_csv(DIR+\"campaign.csv\")\n",
    "\n",
    "advertiser_video = pd.read_csv(DIR+\"advertiser_video.csv\")\n",
    "map_game_feed_native_video_assets = pd.read_csv(DIR+'map_game_feed_native_video_assets.csv')\n",
    "\n",
    "#advertiser_converted_video = pd.read_csv(DIR+\"advertiser_converted_video.csv\")"
   ]
  },
  {
   "cell_type": "markdown",
   "metadata": {
    "papermill": {
     "duration": 0.021999,
     "end_time": "2020-11-16T04:57:00.310909",
     "exception": false,
     "start_time": "2020-11-16T04:57:00.288910",
     "status": "completed"
    },
    "tags": []
   },
   "source": [
    "# preprocess"
   ]
  },
  {
   "cell_type": "code",
   "execution_count": 3,
   "metadata": {
    "execution": {
     "iopub.execute_input": "2020-11-16T04:57:00.367062Z",
     "iopub.status.busy": "2020-11-16T04:57:00.366161Z",
     "iopub.status.idle": "2020-11-16T04:57:11.259637Z",
     "shell.execute_reply": "2020-11-16T04:57:11.258970Z"
    },
    "papermill": {
     "duration": 10.926431,
     "end_time": "2020-11-16T04:57:11.259778",
     "exception": false,
     "start_time": "2020-11-16T04:57:00.333347",
     "status": "completed"
    },
    "tags": []
   },
   "outputs": [],
   "source": [
    "# with campaign\n",
    "train = train.merge(campaign, left_on=\"campaign_id\", right_on = \"id\", how=\"left\").drop([\"mst_advertiser_id\", \"id\"], axis=1)\n",
    "test = test.merge(campaign, left_on=\"campaign_id\", right_on = \"id\", how=\"left\").drop([\"mst_advertiser_id\", \"id\"], axis=1)\n",
    "\n",
    "# with map_gae_feed_native_video_assets\n",
    "#train = train.merge(map_game_feed_native_video_assets, left_on=[\"game_feed_id\"], right_on = [\"mst_game_feed_id\"], how=\"left\").drop([\"mst_game_feed_id\"], axis=1)\n",
    "#test = test.merge(map_game_feed_native_video_assets, left_on=[\"game_feed_id\"], right_on = [\"mst_game_feed_id\"], how=\"left\").drop([\"mst_game_feed_id\"], axis=1)\n",
    "\n",
    "# with advertiser_video horizontal\n",
    "#horizontal = advertiser_video.copy()\n",
    "#horizontal.columns = [f\"horizontal_{c}\" if c not in [\"id\", \"mst_advertiser_id\"] else c for c in horizontal.columns]\n",
    "#train = pd.merge(train, horizontal[[\"id\", \"mst_advertiser_id\", \"horizontal_duration\"]], left_on=[\"horizontal_mst_advertiser_video_id\", \"advertiser_id\"], \n",
    "#               right_on=[\"id\", \"mst_advertiser_id\"], how=\"left\").drop(columns=[\"id\", \"mst_advertiser_id\"])\n",
    "#test = pd.merge(test, horizontal[[\"id\", \"mst_advertiser_id\", \"horizontal_duration\"]], left_on=[\"horizontal_mst_advertiser_video_id\", \"advertiser_id\"], \n",
    "#               right_on=[\"id\", \"mst_advertiser_id\"], how=\"left\").drop(columns=[\"id\", \"mst_advertiser_id\"])"
   ]
  },
  {
   "cell_type": "code",
   "execution_count": 4,
   "metadata": {
    "execution": {
     "iopub.execute_input": "2020-11-16T04:57:12.061237Z",
     "iopub.status.busy": "2020-11-16T04:57:12.060337Z",
     "iopub.status.idle": "2020-11-16T04:57:12.898693Z",
     "shell.execute_reply": "2020-11-16T04:57:12.898042Z"
    },
    "papermill": {
     "duration": 1.61667,
     "end_time": "2020-11-16T04:57:12.898831",
     "exception": false,
     "start_time": "2020-11-16T04:57:11.282161",
     "status": "completed"
    },
    "tags": []
   },
   "outputs": [],
   "source": [
    "train[\"imp_at\"] = pd.to_datetime(train[\"imp_at\"])\n",
    "test[\"imp_at\"] = pd.to_datetime(test[\"imp_at\"])"
   ]
  },
  {
   "cell_type": "code",
   "execution_count": 5,
   "metadata": {
    "execution": {
     "iopub.execute_input": "2020-11-16T04:57:13.071622Z",
     "iopub.status.busy": "2020-11-16T04:57:12.951574Z",
     "iopub.status.idle": "2020-11-16T04:57:13.557960Z",
     "shell.execute_reply": "2020-11-16T04:57:13.557312Z"
    },
    "papermill": {
     "duration": 0.636764,
     "end_time": "2020-11-16T04:57:13.558105",
     "exception": false,
     "start_time": "2020-11-16T04:57:12.921341",
     "status": "completed"
    },
    "tags": []
   },
   "outputs": [],
   "source": [
    "train.drop(['click_or_view_at', 'cv_at','last_cv_interval', 'last_paid_interval'], axis=1, inplace=True)"
   ]
  },
  {
   "cell_type": "code",
   "execution_count": 6,
   "metadata": {
    "execution": {
     "iopub.execute_input": "2020-11-16T04:57:13.885985Z",
     "iopub.status.busy": "2020-11-16T04:57:13.731886Z",
     "iopub.status.idle": "2020-11-16T04:58:15.529948Z",
     "shell.execute_reply": "2020-11-16T04:58:15.529127Z"
    },
    "papermill": {
     "duration": 61.948545,
     "end_time": "2020-11-16T04:58:15.530089",
     "exception": false,
     "start_time": "2020-11-16T04:57:13.581544",
     "status": "completed"
    },
    "tags": []
   },
   "outputs": [
    {
     "name": "stdout",
     "output_type": "stream",
     "text": [
      "request_id\n",
      "advertiser_id\n",
      "app_id\n",
      "campaign_id\n",
      "country_code\n",
      "game_feed_id\n",
      "game_template_id\n",
      "media_app_id\n",
      "os_version\n",
      "uid\n",
      "video_template_id\n",
      "mst_advertiser_order_id\n"
     ]
    }
   ],
   "source": [
    "object_feats = [i for i in train.columns if \"object\" == str(train[i].dtype)]\n",
    "train[object_feats] = train[object_feats].fillna(\"-999\")\n",
    "test[object_feats] = test[object_feats].fillna(\"-999\")\n",
    "\n",
    "for i in object_feats:\n",
    "    print(i)\n",
    "    lbl = preprocessing.LabelEncoder()\n",
    "    lbl.fit(list(pd.concat([train[i], test[i]])))\n",
    "    train[i] = lbl.transform(list(train[i]))\n",
    "    test[i] = lbl.transform(list(test[i]))"
   ]
  },
  {
   "cell_type": "markdown",
   "metadata": {
    "papermill": {
     "duration": 0.027593,
     "end_time": "2020-11-16T04:58:15.585662",
     "exception": false,
     "start_time": "2020-11-16T04:58:15.558069",
     "status": "completed"
    },
    "tags": []
   },
   "source": [
    "# fe"
   ]
  },
  {
   "cell_type": "code",
   "execution_count": 7,
   "metadata": {
    "execution": {
     "iopub.execute_input": "2020-11-16T04:58:15.647621Z",
     "iopub.status.busy": "2020-11-16T04:58:15.646826Z",
     "iopub.status.idle": "2020-11-16T04:58:16.344845Z",
     "shell.execute_reply": "2020-11-16T04:58:16.343296Z"
    },
    "papermill": {
     "duration": 0.731379,
     "end_time": "2020-11-16T04:58:16.345059",
     "exception": false,
     "start_time": "2020-11-16T04:58:15.613680",
     "status": "completed"
    },
    "tags": []
   },
   "outputs": [],
   "source": [
    "train[\"type\"] = \"train\"\n",
    "test[\"type\"] = \"test\"\n",
    "all_df = pd.concat([train, test])"
   ]
  },
  {
   "cell_type": "code",
   "execution_count": 8,
   "metadata": {
    "execution": {
     "iopub.execute_input": "2020-11-16T04:58:16.415914Z",
     "iopub.status.busy": "2020-11-16T04:58:16.415035Z",
     "iopub.status.idle": "2020-11-16T04:58:16.799929Z",
     "shell.execute_reply": "2020-11-16T04:58:16.799250Z"
    },
    "papermill": {
     "duration": 0.42265,
     "end_time": "2020-11-16T04:58:16.800059",
     "exception": false,
     "start_time": "2020-11-16T04:58:16.377409",
     "status": "completed"
    },
    "tags": []
   },
   "outputs": [],
   "source": [
    "tmp = all_df.uid.value_counts().reset_index(drop=False)\n",
    "multi_users = list(tmp[tmp.uid>=2][\"index\"])"
   ]
  },
  {
   "cell_type": "code",
   "execution_count": 9,
   "metadata": {
    "execution": {
     "iopub.execute_input": "2020-11-16T04:58:16.865219Z",
     "iopub.status.busy": "2020-11-16T04:58:16.864204Z",
     "iopub.status.idle": "2020-11-16T04:58:18.268793Z",
     "shell.execute_reply": "2020-11-16T04:58:18.268159Z"
    },
    "papermill": {
     "duration": 1.440527,
     "end_time": "2020-11-16T04:58:18.268926",
     "exception": false,
     "start_time": "2020-11-16T04:58:16.828399",
     "status": "completed"
    },
    "tags": []
   },
   "outputs": [],
   "source": [
    "all_df = all_df[all_df.uid.isin(multi_users)].reset_index(drop=True)"
   ]
  },
  {
   "cell_type": "code",
   "execution_count": 10,
   "metadata": {
    "execution": {
     "iopub.execute_input": "2020-11-16T04:58:18.335852Z",
     "iopub.status.busy": "2020-11-16T04:58:18.334003Z",
     "iopub.status.idle": "2020-11-16T05:11:37.929024Z",
     "shell.execute_reply": "2020-11-16T05:11:37.928229Z"
    },
    "papermill": {
     "duration": 799.632023,
     "end_time": "2020-11-16T05:11:37.929179",
     "exception": false,
     "start_time": "2020-11-16T04:58:18.297156",
     "status": "completed"
    },
    "tags": []
   },
   "outputs": [
    {
     "data": {
      "application/vnd.jupyter.widget-view+json": {
       "model_id": "10c0eb5ea0744533a62fc8e4bf7cf6a9",
       "version_major": 2,
       "version_minor": 0
      },
      "text/plain": [
       "HBox(children=(FloatProgress(value=0.0, description='progress: ', max=423129.0, style=ProgressStyle(descriptio…"
      ]
     },
     "metadata": {},
     "output_type": "display_data"
    },
    {
     "name": "stdout",
     "output_type": "stream",
     "text": [
      "\n"
     ]
    }
   ],
   "source": [
    "# cumsum from click by uid\n",
    "tmp1 = all_df.groupby(['uid'])['from_click'].progress_apply(lambda x: pd.DataFrame([0]+list(x.cumsum()[:-1]))).reset_index(drop=True).values\n",
    "tmp1 = np.array(tmp1, dtype=float)\n",
    "# cumsum total num by uid\n",
    "tmp2 = all_df.groupby(['uid']).cumcount().values\n",
    "tmp2 = np.array(tmp2, dtype=float).reshape(-1,1)\n",
    "# https://stackoverflow.com/questions/26248654/how-to-return-0-with-divide-by-zero\n",
    "from_click_ratio = np.divide(tmp1, tmp2, out=np.ones_like(tmp1)*-1, where=tmp2!=0)\n",
    "all_df[\"click_ratio\"] = from_click_ratio"
   ]
  },
  {
   "cell_type": "code",
   "execution_count": 11,
   "metadata": {
    "execution": {
     "iopub.execute_input": "2020-11-16T05:11:37.998597Z",
     "iopub.status.busy": "2020-11-16T05:11:37.996871Z",
     "iopub.status.idle": "2020-11-16T05:11:40.936023Z",
     "shell.execute_reply": "2020-11-16T05:11:40.935165Z"
    },
    "papermill": {
     "duration": 2.977255,
     "end_time": "2020-11-16T05:11:40.936160",
     "exception": false,
     "start_time": "2020-11-16T05:11:37.958905",
     "status": "completed"
    },
    "tags": []
   },
   "outputs": [],
   "source": [
    "train = train.merge(all_df[[\"request_id\",\"click_ratio\"]], on=\"request_id\", how=\"left\")\n",
    "test = test.merge(all_df[[\"request_id\",\"click_ratio\"]], on=\"request_id\", how=\"left\")"
   ]
  },
  {
   "cell_type": "code",
   "execution_count": 12,
   "metadata": {
    "execution": {
     "iopub.execute_input": "2020-11-16T05:11:41.003798Z",
     "iopub.status.busy": "2020-11-16T05:11:41.002928Z",
     "iopub.status.idle": "2020-11-16T05:11:41.035304Z",
     "shell.execute_reply": "2020-11-16T05:11:41.034452Z"
    },
    "papermill": {
     "duration": 0.068646,
     "end_time": "2020-11-16T05:11:41.035441",
     "exception": false,
     "start_time": "2020-11-16T05:11:40.966795",
     "status": "completed"
    },
    "tags": []
   },
   "outputs": [],
   "source": [
    "train[\"click_ratio\"] = train[\"click_ratio\"].fillna(-1)\n",
    "test[\"click_ratio\"] = test[\"click_ratio\"].fillna(-1)"
   ]
  },
  {
   "cell_type": "code",
   "execution_count": 13,
   "metadata": {
    "execution": {
     "iopub.execute_input": "2020-11-16T05:11:41.103769Z",
     "iopub.status.busy": "2020-11-16T05:11:41.102844Z",
     "iopub.status.idle": "2020-11-16T05:11:41.732271Z",
     "shell.execute_reply": "2020-11-16T05:11:41.731289Z"
    },
    "papermill": {
     "duration": 0.666694,
     "end_time": "2020-11-16T05:11:41.732413",
     "exception": false,
     "start_time": "2020-11-16T05:11:41.065719",
     "status": "completed"
    },
    "tags": []
   },
   "outputs": [],
   "source": [
    "train.drop(['request_id', 'type'], axis=1, inplace=True)\n",
    "test.drop(['request_id', 'type'], axis=1, inplace=True)"
   ]
  },
  {
   "cell_type": "code",
   "execution_count": 14,
   "metadata": {
    "execution": {
     "iopub.execute_input": "2020-11-16T05:11:41.814834Z",
     "iopub.status.busy": "2020-11-16T05:11:41.813968Z",
     "iopub.status.idle": "2020-11-16T05:11:41.830135Z",
     "shell.execute_reply": "2020-11-16T05:11:41.829378Z"
    },
    "papermill": {
     "duration": 0.066742,
     "end_time": "2020-11-16T05:11:41.830261",
     "exception": false,
     "start_time": "2020-11-16T05:11:41.763519",
     "status": "completed"
    },
    "tags": []
   },
   "outputs": [
    {
     "data": {
      "text/html": [
       "<div>\n",
       "<style scoped>\n",
       "    .dataframe tbody tr th:only-of-type {\n",
       "        vertical-align: middle;\n",
       "    }\n",
       "\n",
       "    .dataframe tbody tr th {\n",
       "        vertical-align: top;\n",
       "    }\n",
       "\n",
       "    .dataframe thead th {\n",
       "        text-align: right;\n",
       "    }\n",
       "</style>\n",
       "<table border=\"1\" class=\"dataframe\">\n",
       "  <thead>\n",
       "    <tr style=\"text-align: right;\">\n",
       "      <th></th>\n",
       "      <th>imp_at</th>\n",
       "      <th>target</th>\n",
       "      <th>adnw_id</th>\n",
       "      <th>adspot_id</th>\n",
       "      <th>adspot_video_format_id</th>\n",
       "      <th>advertiser_id</th>\n",
       "      <th>app_id</th>\n",
       "      <th>auction_type_id</th>\n",
       "      <th>campaign_id</th>\n",
       "      <th>category_id</th>\n",
       "      <th>...</th>\n",
       "      <th>media_app_id</th>\n",
       "      <th>os</th>\n",
       "      <th>os_version</th>\n",
       "      <th>pos</th>\n",
       "      <th>uid</th>\n",
       "      <th>user_type_id</th>\n",
       "      <th>video_template_id</th>\n",
       "      <th>mst_advertiser_order_id</th>\n",
       "      <th>mst_user_type_id</th>\n",
       "      <th>click_ratio</th>\n",
       "    </tr>\n",
       "  </thead>\n",
       "  <tbody>\n",
       "    <tr>\n",
       "      <th>0</th>\n",
       "      <td>2020-04-28 00:04:14.639</td>\n",
       "      <td>0</td>\n",
       "      <td>4</td>\n",
       "      <td>1111</td>\n",
       "      <td>2.0</td>\n",
       "      <td>20</td>\n",
       "      <td>14872</td>\n",
       "      <td>1.0</td>\n",
       "      <td>403</td>\n",
       "      <td>8497</td>\n",
       "      <td>...</td>\n",
       "      <td>0</td>\n",
       "      <td>1</td>\n",
       "      <td>87</td>\n",
       "      <td>0</td>\n",
       "      <td>273693</td>\n",
       "      <td>1</td>\n",
       "      <td>6</td>\n",
       "      <td>37</td>\n",
       "      <td>35</td>\n",
       "      <td>-1.0</td>\n",
       "    </tr>\n",
       "    <tr>\n",
       "      <th>1</th>\n",
       "      <td>2020-04-28 00:09:13.759</td>\n",
       "      <td>0</td>\n",
       "      <td>28</td>\n",
       "      <td>1081</td>\n",
       "      <td>2.0</td>\n",
       "      <td>121</td>\n",
       "      <td>8301</td>\n",
       "      <td>2.0</td>\n",
       "      <td>91</td>\n",
       "      <td>0</td>\n",
       "      <td>...</td>\n",
       "      <td>8995</td>\n",
       "      <td>2</td>\n",
       "      <td>152</td>\n",
       "      <td>1</td>\n",
       "      <td>427139</td>\n",
       "      <td>2</td>\n",
       "      <td>4</td>\n",
       "      <td>166</td>\n",
       "      <td>37</td>\n",
       "      <td>-1.0</td>\n",
       "    </tr>\n",
       "    <tr>\n",
       "      <th>2</th>\n",
       "      <td>2020-04-28 00:09:14.708</td>\n",
       "      <td>0</td>\n",
       "      <td>42</td>\n",
       "      <td>1123</td>\n",
       "      <td>3.0</td>\n",
       "      <td>5</td>\n",
       "      <td>12948</td>\n",
       "      <td>1.0</td>\n",
       "      <td>114</td>\n",
       "      <td>0</td>\n",
       "      <td>...</td>\n",
       "      <td>347</td>\n",
       "      <td>1</td>\n",
       "      <td>55</td>\n",
       "      <td>0</td>\n",
       "      <td>1005266</td>\n",
       "      <td>1</td>\n",
       "      <td>0</td>\n",
       "      <td>27</td>\n",
       "      <td>35</td>\n",
       "      <td>-1.0</td>\n",
       "    </tr>\n",
       "    <tr>\n",
       "      <th>3</th>\n",
       "      <td>2020-04-28 00:10:40.291</td>\n",
       "      <td>0</td>\n",
       "      <td>8</td>\n",
       "      <td>1113</td>\n",
       "      <td>2.0</td>\n",
       "      <td>22</td>\n",
       "      <td>12379</td>\n",
       "      <td>1.0</td>\n",
       "      <td>75</td>\n",
       "      <td>0</td>\n",
       "      <td>...</td>\n",
       "      <td>6145</td>\n",
       "      <td>1</td>\n",
       "      <td>91</td>\n",
       "      <td>0</td>\n",
       "      <td>492541</td>\n",
       "      <td>1</td>\n",
       "      <td>7</td>\n",
       "      <td>159</td>\n",
       "      <td>38</td>\n",
       "      <td>-1.0</td>\n",
       "    </tr>\n",
       "    <tr>\n",
       "      <th>4</th>\n",
       "      <td>2020-04-28 00:11:45.895</td>\n",
       "      <td>0</td>\n",
       "      <td>22</td>\n",
       "      <td>1061</td>\n",
       "      <td>NaN</td>\n",
       "      <td>135</td>\n",
       "      <td>196</td>\n",
       "      <td>4.0</td>\n",
       "      <td>331</td>\n",
       "      <td>0</td>\n",
       "      <td>...</td>\n",
       "      <td>2190</td>\n",
       "      <td>1</td>\n",
       "      <td>71</td>\n",
       "      <td>0</td>\n",
       "      <td>698493</td>\n",
       "      <td>1</td>\n",
       "      <td>0</td>\n",
       "      <td>56</td>\n",
       "      <td>35</td>\n",
       "      <td>-1.0</td>\n",
       "    </tr>\n",
       "  </tbody>\n",
       "</table>\n",
       "<p>5 rows × 33 columns</p>\n",
       "</div>"
      ],
      "text/plain": [
       "                   imp_at  target  adnw_id  adspot_id  adspot_video_format_id  \\\n",
       "0 2020-04-28 00:04:14.639       0        4       1111                     2.0   \n",
       "1 2020-04-28 00:09:13.759       0       28       1081                     2.0   \n",
       "2 2020-04-28 00:09:14.708       0       42       1123                     3.0   \n",
       "3 2020-04-28 00:10:40.291       0        8       1113                     2.0   \n",
       "4 2020-04-28 00:11:45.895       0       22       1061                     NaN   \n",
       "\n",
       "   advertiser_id  app_id  auction_type_id  campaign_id  category_id  ...  \\\n",
       "0             20   14872              1.0          403         8497  ...   \n",
       "1            121    8301              2.0           91            0  ...   \n",
       "2              5   12948              1.0          114            0  ...   \n",
       "3             22   12379              1.0           75            0  ...   \n",
       "4            135     196              4.0          331            0  ...   \n",
       "\n",
       "   media_app_id  os  os_version  pos      uid  user_type_id  \\\n",
       "0             0   1          87    0   273693             1   \n",
       "1          8995   2         152    1   427139             2   \n",
       "2           347   1          55    0  1005266             1   \n",
       "3          6145   1          91    0   492541             1   \n",
       "4          2190   1          71    0   698493             1   \n",
       "\n",
       "   video_template_id  mst_advertiser_order_id  mst_user_type_id  click_ratio  \n",
       "0                  6                       37                35         -1.0  \n",
       "1                  4                      166                37         -1.0  \n",
       "2                  0                       27                35         -1.0  \n",
       "3                  7                      159                38         -1.0  \n",
       "4                  0                       56                35         -1.0  \n",
       "\n",
       "[5 rows x 33 columns]"
      ]
     },
     "execution_count": 14,
     "metadata": {},
     "output_type": "execute_result"
    }
   ],
   "source": [
    "train.head()"
   ]
  },
  {
   "cell_type": "markdown",
   "metadata": {
    "papermill": {
     "duration": 0.031663,
     "end_time": "2020-11-16T05:11:41.893320",
     "exception": false,
     "start_time": "2020-11-16T05:11:41.861657",
     "status": "completed"
    },
    "tags": []
   },
   "source": [
    "# separation for validation"
   ]
  },
  {
   "cell_type": "code",
   "execution_count": 15,
   "metadata": {
    "execution": {
     "iopub.execute_input": "2020-11-16T05:11:41.962713Z",
     "iopub.status.busy": "2020-11-16T05:11:41.961423Z",
     "iopub.status.idle": "2020-11-16T05:11:42.247332Z",
     "shell.execute_reply": "2020-11-16T05:11:42.246476Z"
    },
    "papermill": {
     "duration": 0.323123,
     "end_time": "2020-11-16T05:11:42.247468",
     "exception": false,
     "start_time": "2020-11-16T05:11:41.924345",
     "status": "completed"
    },
    "tags": []
   },
   "outputs": [],
   "source": [
    "mask = train.imp_at > \"2020-05-21\"\n",
    "valid = train.loc[mask].copy()\n",
    "train = train.loc[~mask]"
   ]
  },
  {
   "cell_type": "code",
   "execution_count": 16,
   "metadata": {
    "execution": {
     "iopub.execute_input": "2020-11-16T05:11:42.490766Z",
     "iopub.status.busy": "2020-11-16T05:11:42.462445Z",
     "iopub.status.idle": "2020-11-16T05:11:42.494904Z",
     "shell.execute_reply": "2020-11-16T05:11:42.494259Z"
    },
    "papermill": {
     "duration": 0.216078,
     "end_time": "2020-11-16T05:11:42.495043",
     "exception": false,
     "start_time": "2020-11-16T05:11:42.278965",
     "status": "completed"
    },
    "tags": []
   },
   "outputs": [],
   "source": [
    "remove_features = [\"imp_at\",\"game_feed_asset_type_id\",\"country_code\",\"pos\",\"video_template_id\"]\n",
    "    \n",
    "train = train.drop(remove_features, axis=1)\n",
    "valid = valid.drop(remove_features, axis=1)\n",
    "test = test.drop(remove_features, axis=1)"
   ]
  },
  {
   "cell_type": "code",
   "execution_count": 17,
   "metadata": {
    "execution": {
     "iopub.execute_input": "2020-11-16T05:11:42.566152Z",
     "iopub.status.busy": "2020-11-16T05:11:42.564987Z",
     "iopub.status.idle": "2020-11-16T05:11:42.569375Z",
     "shell.execute_reply": "2020-11-16T05:11:42.570093Z"
    },
    "papermill": {
     "duration": 0.043416,
     "end_time": "2020-11-16T05:11:42.570296",
     "exception": false,
     "start_time": "2020-11-16T05:11:42.526880",
     "status": "completed"
    },
    "tags": []
   },
   "outputs": [
    {
     "data": {
      "text/plain": [
       "((1568715, 28), (428880, 28))"
      ]
     },
     "execution_count": 17,
     "metadata": {},
     "output_type": "execute_result"
    }
   ],
   "source": [
    "train.shape, valid.shape"
   ]
  },
  {
   "cell_type": "code",
   "execution_count": 18,
   "metadata": {
    "execution": {
     "iopub.execute_input": "2020-11-16T05:11:42.666336Z",
     "iopub.status.busy": "2020-11-16T05:11:42.657722Z",
     "iopub.status.idle": "2020-11-16T05:11:42.671413Z",
     "shell.execute_reply": "2020-11-16T05:11:42.670682Z"
    },
    "papermill": {
     "duration": 0.068414,
     "end_time": "2020-11-16T05:11:42.671557",
     "exception": false,
     "start_time": "2020-11-16T05:11:42.603143",
     "status": "completed"
    },
    "tags": []
   },
   "outputs": [
    {
     "data": {
      "text/html": [
       "<div>\n",
       "<style scoped>\n",
       "    .dataframe tbody tr th:only-of-type {\n",
       "        vertical-align: middle;\n",
       "    }\n",
       "\n",
       "    .dataframe tbody tr th {\n",
       "        vertical-align: top;\n",
       "    }\n",
       "\n",
       "    .dataframe thead th {\n",
       "        text-align: right;\n",
       "    }\n",
       "</style>\n",
       "<table border=\"1\" class=\"dataframe\">\n",
       "  <thead>\n",
       "    <tr style=\"text-align: right;\">\n",
       "      <th></th>\n",
       "      <th>target</th>\n",
       "      <th>adnw_id</th>\n",
       "      <th>adspot_id</th>\n",
       "      <th>adspot_video_format_id</th>\n",
       "      <th>advertiser_id</th>\n",
       "      <th>app_id</th>\n",
       "      <th>auction_type_id</th>\n",
       "      <th>campaign_id</th>\n",
       "      <th>category_id</th>\n",
       "      <th>first_login_interval</th>\n",
       "      <th>...</th>\n",
       "      <th>login_frequency</th>\n",
       "      <th>max_login_interval</th>\n",
       "      <th>media_app_id</th>\n",
       "      <th>os</th>\n",
       "      <th>os_version</th>\n",
       "      <th>uid</th>\n",
       "      <th>user_type_id</th>\n",
       "      <th>mst_advertiser_order_id</th>\n",
       "      <th>mst_user_type_id</th>\n",
       "      <th>click_ratio</th>\n",
       "    </tr>\n",
       "  </thead>\n",
       "  <tbody>\n",
       "    <tr>\n",
       "      <th>0</th>\n",
       "      <td>0</td>\n",
       "      <td>4</td>\n",
       "      <td>1111</td>\n",
       "      <td>2.0</td>\n",
       "      <td>20</td>\n",
       "      <td>14872</td>\n",
       "      <td>1.0</td>\n",
       "      <td>403</td>\n",
       "      <td>8497</td>\n",
       "      <td>1490644.0</td>\n",
       "      <td>...</td>\n",
       "      <td>10.0</td>\n",
       "      <td>2607.0</td>\n",
       "      <td>0</td>\n",
       "      <td>1</td>\n",
       "      <td>87</td>\n",
       "      <td>273693</td>\n",
       "      <td>1</td>\n",
       "      <td>37</td>\n",
       "      <td>35</td>\n",
       "      <td>-1.0</td>\n",
       "    </tr>\n",
       "    <tr>\n",
       "      <th>1</th>\n",
       "      <td>0</td>\n",
       "      <td>28</td>\n",
       "      <td>1081</td>\n",
       "      <td>2.0</td>\n",
       "      <td>121</td>\n",
       "      <td>8301</td>\n",
       "      <td>2.0</td>\n",
       "      <td>91</td>\n",
       "      <td>0</td>\n",
       "      <td>790412.0</td>\n",
       "      <td>...</td>\n",
       "      <td>2.0</td>\n",
       "      <td>13540.0</td>\n",
       "      <td>8995</td>\n",
       "      <td>2</td>\n",
       "      <td>152</td>\n",
       "      <td>427139</td>\n",
       "      <td>2</td>\n",
       "      <td>166</td>\n",
       "      <td>37</td>\n",
       "      <td>-1.0</td>\n",
       "    </tr>\n",
       "    <tr>\n",
       "      <th>2</th>\n",
       "      <td>0</td>\n",
       "      <td>42</td>\n",
       "      <td>1123</td>\n",
       "      <td>3.0</td>\n",
       "      <td>5</td>\n",
       "      <td>12948</td>\n",
       "      <td>1.0</td>\n",
       "      <td>114</td>\n",
       "      <td>0</td>\n",
       "      <td>1506105.0</td>\n",
       "      <td>...</td>\n",
       "      <td>9.0</td>\n",
       "      <td>33725.0</td>\n",
       "      <td>347</td>\n",
       "      <td>1</td>\n",
       "      <td>55</td>\n",
       "      <td>1005266</td>\n",
       "      <td>1</td>\n",
       "      <td>27</td>\n",
       "      <td>35</td>\n",
       "      <td>-1.0</td>\n",
       "    </tr>\n",
       "    <tr>\n",
       "      <th>3</th>\n",
       "      <td>0</td>\n",
       "      <td>8</td>\n",
       "      <td>1113</td>\n",
       "      <td>2.0</td>\n",
       "      <td>22</td>\n",
       "      <td>12379</td>\n",
       "      <td>1.0</td>\n",
       "      <td>75</td>\n",
       "      <td>0</td>\n",
       "      <td>184283.0</td>\n",
       "      <td>...</td>\n",
       "      <td>4.0</td>\n",
       "      <td>7377.0</td>\n",
       "      <td>6145</td>\n",
       "      <td>1</td>\n",
       "      <td>91</td>\n",
       "      <td>492541</td>\n",
       "      <td>1</td>\n",
       "      <td>159</td>\n",
       "      <td>38</td>\n",
       "      <td>-1.0</td>\n",
       "    </tr>\n",
       "    <tr>\n",
       "      <th>4</th>\n",
       "      <td>0</td>\n",
       "      <td>22</td>\n",
       "      <td>1061</td>\n",
       "      <td>NaN</td>\n",
       "      <td>135</td>\n",
       "      <td>196</td>\n",
       "      <td>4.0</td>\n",
       "      <td>331</td>\n",
       "      <td>0</td>\n",
       "      <td>1999495.0</td>\n",
       "      <td>...</td>\n",
       "      <td>5.0</td>\n",
       "      <td>164759.0</td>\n",
       "      <td>2190</td>\n",
       "      <td>1</td>\n",
       "      <td>71</td>\n",
       "      <td>698493</td>\n",
       "      <td>1</td>\n",
       "      <td>56</td>\n",
       "      <td>35</td>\n",
       "      <td>-1.0</td>\n",
       "    </tr>\n",
       "  </tbody>\n",
       "</table>\n",
       "<p>5 rows × 28 columns</p>\n",
       "</div>"
      ],
      "text/plain": [
       "   target  adnw_id  adspot_id  adspot_video_format_id  advertiser_id  app_id  \\\n",
       "0       0        4       1111                     2.0             20   14872   \n",
       "1       0       28       1081                     2.0            121    8301   \n",
       "2       0       42       1123                     3.0              5   12948   \n",
       "3       0        8       1113                     2.0             22   12379   \n",
       "4       0       22       1061                     NaN            135     196   \n",
       "\n",
       "   auction_type_id  campaign_id  category_id  first_login_interval  ...  \\\n",
       "0              1.0          403         8497             1490644.0  ...   \n",
       "1              2.0           91            0              790412.0  ...   \n",
       "2              1.0          114            0             1506105.0  ...   \n",
       "3              1.0           75            0              184283.0  ...   \n",
       "4              4.0          331            0             1999495.0  ...   \n",
       "\n",
       "   login_frequency  max_login_interval  media_app_id  os  os_version      uid  \\\n",
       "0             10.0              2607.0             0   1          87   273693   \n",
       "1              2.0             13540.0          8995   2         152   427139   \n",
       "2              9.0             33725.0           347   1          55  1005266   \n",
       "3              4.0              7377.0          6145   1          91   492541   \n",
       "4              5.0            164759.0          2190   1          71   698493   \n",
       "\n",
       "   user_type_id  mst_advertiser_order_id  mst_user_type_id  click_ratio  \n",
       "0             1                       37                35         -1.0  \n",
       "1             2                      166                37         -1.0  \n",
       "2             1                       27                35         -1.0  \n",
       "3             1                      159                38         -1.0  \n",
       "4             1                       56                35         -1.0  \n",
       "\n",
       "[5 rows x 28 columns]"
      ]
     },
     "execution_count": 18,
     "metadata": {},
     "output_type": "execute_result"
    }
   ],
   "source": [
    "train.head()"
   ]
  },
  {
   "cell_type": "markdown",
   "metadata": {
    "papermill": {
     "duration": 0.033145,
     "end_time": "2020-11-16T05:11:42.737720",
     "exception": false,
     "start_time": "2020-11-16T05:11:42.704575",
     "status": "completed"
    },
    "tags": []
   },
   "source": [
    "# modelling"
   ]
  },
  {
   "cell_type": "code",
   "execution_count": 19,
   "metadata": {
    "execution": {
     "iopub.execute_input": "2020-11-16T05:11:42.810831Z",
     "iopub.status.busy": "2020-11-16T05:11:42.809953Z",
     "iopub.status.idle": "2020-11-16T05:11:42.813534Z",
     "shell.execute_reply": "2020-11-16T05:11:42.812864Z"
    },
    "papermill": {
     "duration": 0.042528,
     "end_time": "2020-11-16T05:11:42.813666",
     "exception": false,
     "start_time": "2020-11-16T05:11:42.771138",
     "status": "completed"
    },
    "tags": []
   },
   "outputs": [],
   "source": [
    "object_feats = [i for i in object_feats if i not in remove_features and i != \"request_id\"]"
   ]
  },
  {
   "cell_type": "code",
   "execution_count": 20,
   "metadata": {
    "_cell_guid": "79c7e3d0-c299-4dcb-8224-4455121ee9b0",
    "_uuid": "d629ff2d2480ee46fbb7e2d37f6b5fab8052498a",
    "execution": {
     "iopub.execute_input": "2020-11-16T05:11:42.898734Z",
     "iopub.status.busy": "2020-11-16T05:11:42.897895Z",
     "iopub.status.idle": "2020-11-16T05:13:53.470501Z",
     "shell.execute_reply": "2020-11-16T05:13:53.471263Z"
    },
    "papermill": {
     "duration": 130.624335,
     "end_time": "2020-11-16T05:13:53.471475",
     "exception": false,
     "start_time": "2020-11-16T05:11:42.847140",
     "status": "completed"
    },
    "tags": []
   },
   "outputs": [
    {
     "name": "stderr",
     "output_type": "stream",
     "text": [
      "/opt/conda/lib/python3.7/site-packages/lightgbm/basic.py:1295: UserWarning: categorical_feature in Dataset is overridden.\n",
      "New categorical_feature is ['advertiser_id', 'app_id', 'campaign_id', 'game_feed_id', 'game_template_id', 'media_app_id', 'mst_advertiser_order_id', 'os_version', 'uid']\n",
      "  'New categorical_feature is {}'.format(sorted(list(categorical_feature))))\n"
     ]
    },
    {
     "name": "stdout",
     "output_type": "stream",
     "text": [
      "Training until validation scores don't improve for 20 rounds\n",
      "[10]\ttraining's pr_auc: 0.215348\tvalid_1's pr_auc: 0.178713\n",
      "[20]\ttraining's pr_auc: 0.225831\tvalid_1's pr_auc: 0.186337\n",
      "[30]\ttraining's pr_auc: 0.236239\tvalid_1's pr_auc: 0.193677\n",
      "[40]\ttraining's pr_auc: 0.246106\tvalid_1's pr_auc: 0.199107\n",
      "[50]\ttraining's pr_auc: 0.251361\tvalid_1's pr_auc: 0.201729\n",
      "[60]\ttraining's pr_auc: 0.256651\tvalid_1's pr_auc: 0.203636\n",
      "[70]\ttraining's pr_auc: 0.261898\tvalid_1's pr_auc: 0.20547\n",
      "[80]\ttraining's pr_auc: 0.265297\tvalid_1's pr_auc: 0.206553\n",
      "[90]\ttraining's pr_auc: 0.268574\tvalid_1's pr_auc: 0.207542\n",
      "[100]\ttraining's pr_auc: 0.272053\tvalid_1's pr_auc: 0.208604\n",
      "[110]\ttraining's pr_auc: 0.27449\tvalid_1's pr_auc: 0.209027\n",
      "[120]\ttraining's pr_auc: 0.2762\tvalid_1's pr_auc: 0.207758\n",
      "[130]\ttraining's pr_auc: 0.278085\tvalid_1's pr_auc: 0.208109\n",
      "Early stopping, best iteration is:\n",
      "[118]\ttraining's pr_auc: 0.275957\tvalid_1's pr_auc: 0.209407\n",
      "average precision score = 0.2094074255815394\n"
     ]
    }
   ],
   "source": [
    "lgbm_params = {'objective': 'binary', 'metric': 'None', 'boosting_type': 'gbdt', \n",
    "               'tree_learner': 'serial', 'learning_rate': 0.1, \"num_leaves\": 10, 'random_seed':44,'max_depth': 5}\n",
    "\n",
    "def pr_auc_metric(y_predicted, y_true):\n",
    "    return 'pr_auc', average_precision_score(y_true.get_label(), y_predicted), True\n",
    "\n",
    "y_train = train.target.copy()\n",
    "X_train = train.drop(['target'],axis=1).copy()\n",
    "y_valid = valid.target.copy()\n",
    "X_valid = valid.drop(['target'],axis=1).copy()\n",
    "    \n",
    "valid_lgb = pd.DataFrame(np.zeros([X_train.shape[0]]))\n",
    "real = np.array([])\n",
    "features_list = [i for i in X_train.columns]\n",
    "feature_importance_df = pd.DataFrame(features_list, columns=[\"Feature\"])\n",
    "        \n",
    "lgb_train = lgb.Dataset(X_train, y_train)\n",
    "lgb_eval = lgb.Dataset(X_valid, y_valid, reference=lgb_train)\n",
    "        \n",
    "model = lgb.train(lgbm_params, lgb_train,valid_sets=[lgb_train, lgb_eval],\n",
    "       num_boost_round=10000,early_stopping_rounds=20,verbose_eval = 10, feval=pr_auc_metric, categorical_feature = sorted(object_feats))\n",
    "        \n",
    "valid_predict = model.predict(X_valid, num_iteration = model.best_iteration)\n",
    "feature_importance_df[\"Importance\"] = model.feature_importance()\n",
    "        \n",
    "score = average_precision_score(y_valid, valid_predict)\n",
    "print(\"average precision score = {}\".format(score))\n",
    "pred_value = model.predict(test, num_iteration = model.best_iteration)"
   ]
  },
  {
   "cell_type": "code",
   "execution_count": 21,
   "metadata": {
    "execution": {
     "iopub.execute_input": "2020-11-16T05:13:53.578768Z",
     "iopub.status.busy": "2020-11-16T05:13:53.577793Z",
     "iopub.status.idle": "2020-11-16T05:13:53.592726Z",
     "shell.execute_reply": "2020-11-16T05:13:53.593625Z"
    },
    "papermill": {
     "duration": 0.073055,
     "end_time": "2020-11-16T05:13:53.593816",
     "exception": false,
     "start_time": "2020-11-16T05:13:53.520761",
     "status": "completed"
    },
    "tags": []
   },
   "outputs": [
    {
     "data": {
      "text/html": [
       "<div>\n",
       "<style scoped>\n",
       "    .dataframe tbody tr th:only-of-type {\n",
       "        vertical-align: middle;\n",
       "    }\n",
       "\n",
       "    .dataframe tbody tr th {\n",
       "        vertical-align: top;\n",
       "    }\n",
       "\n",
       "    .dataframe thead th {\n",
       "        text-align: right;\n",
       "    }\n",
       "</style>\n",
       "<table border=\"1\" class=\"dataframe\">\n",
       "  <thead>\n",
       "    <tr style=\"text-align: right;\">\n",
       "      <th></th>\n",
       "      <th>Feature</th>\n",
       "      <th>Importance</th>\n",
       "    </tr>\n",
       "  </thead>\n",
       "  <tbody>\n",
       "    <tr>\n",
       "      <th>11</th>\n",
       "      <td>game_feed_id</td>\n",
       "      <td>201</td>\n",
       "    </tr>\n",
       "    <tr>\n",
       "      <th>4</th>\n",
       "      <td>app_id</td>\n",
       "      <td>197</td>\n",
       "    </tr>\n",
       "    <tr>\n",
       "      <th>6</th>\n",
       "      <td>campaign_id</td>\n",
       "      <td>189</td>\n",
       "    </tr>\n",
       "    <tr>\n",
       "      <th>22</th>\n",
       "      <td>uid</td>\n",
       "      <td>116</td>\n",
       "    </tr>\n",
       "    <tr>\n",
       "      <th>19</th>\n",
       "      <td>media_app_id</td>\n",
       "      <td>73</td>\n",
       "    </tr>\n",
       "    <tr>\n",
       "      <th>3</th>\n",
       "      <td>advertiser_id</td>\n",
       "      <td>48</td>\n",
       "    </tr>\n",
       "    <tr>\n",
       "      <th>24</th>\n",
       "      <td>mst_advertiser_order_id</td>\n",
       "      <td>37</td>\n",
       "    </tr>\n",
       "    <tr>\n",
       "      <th>8</th>\n",
       "      <td>first_login_interval</td>\n",
       "      <td>27</td>\n",
       "    </tr>\n",
       "    <tr>\n",
       "      <th>17</th>\n",
       "      <td>login_frequency</td>\n",
       "      <td>26</td>\n",
       "    </tr>\n",
       "    <tr>\n",
       "      <th>16</th>\n",
       "      <td>last_login_interval</td>\n",
       "      <td>25</td>\n",
       "    </tr>\n",
       "    <tr>\n",
       "      <th>26</th>\n",
       "      <td>click_ratio</td>\n",
       "      <td>23</td>\n",
       "    </tr>\n",
       "    <tr>\n",
       "      <th>18</th>\n",
       "      <td>max_login_interval</td>\n",
       "      <td>23</td>\n",
       "    </tr>\n",
       "    <tr>\n",
       "      <th>10</th>\n",
       "      <td>from_click</td>\n",
       "      <td>19</td>\n",
       "    </tr>\n",
       "    <tr>\n",
       "      <th>25</th>\n",
       "      <td>mst_user_type_id</td>\n",
       "      <td>16</td>\n",
       "    </tr>\n",
       "    <tr>\n",
       "      <th>21</th>\n",
       "      <td>os_version</td>\n",
       "      <td>9</td>\n",
       "    </tr>\n",
       "    <tr>\n",
       "      <th>15</th>\n",
       "      <td>item_id</td>\n",
       "      <td>9</td>\n",
       "    </tr>\n",
       "    <tr>\n",
       "      <th>2</th>\n",
       "      <td>adspot_video_format_id</td>\n",
       "      <td>7</td>\n",
       "    </tr>\n",
       "    <tr>\n",
       "      <th>1</th>\n",
       "      <td>adspot_id</td>\n",
       "      <td>6</td>\n",
       "    </tr>\n",
       "    <tr>\n",
       "      <th>9</th>\n",
       "      <td>frequency</td>\n",
       "      <td>6</td>\n",
       "    </tr>\n",
       "    <tr>\n",
       "      <th>0</th>\n",
       "      <td>adnw_id</td>\n",
       "      <td>2</td>\n",
       "    </tr>\n",
       "    <tr>\n",
       "      <th>14</th>\n",
       "      <td>is_interstitial</td>\n",
       "      <td>1</td>\n",
       "    </tr>\n",
       "    <tr>\n",
       "      <th>12</th>\n",
       "      <td>game_template_id</td>\n",
       "      <td>1</td>\n",
       "    </tr>\n",
       "    <tr>\n",
       "      <th>13</th>\n",
       "      <td>header_bidding</td>\n",
       "      <td>1</td>\n",
       "    </tr>\n",
       "    <tr>\n",
       "      <th>20</th>\n",
       "      <td>os</td>\n",
       "      <td>0</td>\n",
       "    </tr>\n",
       "    <tr>\n",
       "      <th>23</th>\n",
       "      <td>user_type_id</td>\n",
       "      <td>0</td>\n",
       "    </tr>\n",
       "    <tr>\n",
       "      <th>7</th>\n",
       "      <td>category_id</td>\n",
       "      <td>0</td>\n",
       "    </tr>\n",
       "    <tr>\n",
       "      <th>5</th>\n",
       "      <td>auction_type_id</td>\n",
       "      <td>0</td>\n",
       "    </tr>\n",
       "  </tbody>\n",
       "</table>\n",
       "</div>"
      ],
      "text/plain": [
       "                    Feature  Importance\n",
       "11             game_feed_id         201\n",
       "4                    app_id         197\n",
       "6               campaign_id         189\n",
       "22                      uid         116\n",
       "19             media_app_id          73\n",
       "3             advertiser_id          48\n",
       "24  mst_advertiser_order_id          37\n",
       "8      first_login_interval          27\n",
       "17          login_frequency          26\n",
       "16      last_login_interval          25\n",
       "26              click_ratio          23\n",
       "18       max_login_interval          23\n",
       "10               from_click          19\n",
       "25         mst_user_type_id          16\n",
       "21               os_version           9\n",
       "15                  item_id           9\n",
       "2    adspot_video_format_id           7\n",
       "1                 adspot_id           6\n",
       "9                 frequency           6\n",
       "0                   adnw_id           2\n",
       "14          is_interstitial           1\n",
       "12         game_template_id           1\n",
       "13           header_bidding           1\n",
       "20                       os           0\n",
       "23             user_type_id           0\n",
       "7               category_id           0\n",
       "5           auction_type_id           0"
      ]
     },
     "execution_count": 21,
     "metadata": {},
     "output_type": "execute_result"
    }
   ],
   "source": [
    "feature_importance_df.sort_values(\"Importance\", ascending=False)"
   ]
  },
  {
   "cell_type": "markdown",
   "metadata": {
    "papermill": {
     "duration": 0.040873,
     "end_time": "2020-11-16T05:13:53.685099",
     "exception": false,
     "start_time": "2020-11-16T05:13:53.644226",
     "status": "completed"
    },
    "tags": []
   },
   "source": [
    "# submission"
   ]
  },
  {
   "cell_type": "code",
   "execution_count": 22,
   "metadata": {
    "execution": {
     "iopub.execute_input": "2020-11-16T05:13:53.780274Z",
     "iopub.status.busy": "2020-11-16T05:13:53.779407Z",
     "iopub.status.idle": "2020-11-16T05:13:55.811289Z",
     "shell.execute_reply": "2020-11-16T05:13:55.810476Z"
    },
    "papermill": {
     "duration": 2.082606,
     "end_time": "2020-11-16T05:13:55.811434",
     "exception": false,
     "start_time": "2020-11-16T05:13:53.728828",
     "status": "completed"
    },
    "tags": []
   },
   "outputs": [],
   "source": [
    "lgb_sub = pd.read_csv(DIR + \"atmaCup7__sample_submission.csv\")\n",
    "lgb_sub[\"target\"] = pred_value\n",
    "lgb_sub.to_csv(\"atmacup7_lgb\"+str(score)[:-10]+\".csv\", index = False)"
   ]
  },
  {
   "cell_type": "code",
   "execution_count": null,
   "metadata": {
    "papermill": {
     "duration": 0.045708,
     "end_time": "2020-11-16T05:13:55.898818",
     "exception": false,
     "start_time": "2020-11-16T05:13:55.853110",
     "status": "completed"
    },
    "tags": []
   },
   "outputs": [],
   "source": []
  }
 ],
 "metadata": {
  "kernelspec": {
   "display_name": "Python 3",
   "language": "python",
   "name": "python3"
  },
  "language_info": {
   "codemirror_mode": {
    "name": "ipython",
    "version": 3
   },
   "file_extension": ".py",
   "mimetype": "text/x-python",
   "name": "python",
   "nbconvert_exporter": "python",
   "pygments_lexer": "ipython3",
   "version": "3.7.6"
  },
  "papermill": {
   "duration": 1044.624863,
   "end_time": "2020-11-16T05:13:56.050435",
   "environment_variables": {},
   "exception": null,
   "input_path": "__notebook__.ipynb",
   "output_path": "__notebook__.ipynb",
   "parameters": {},
   "start_time": "2020-11-16T04:56:31.425572",
   "version": "2.1.0"
  },
  "widgets": {
   "application/vnd.jupyter.widget-state+json": {
    "state": {
     "0f8e003332b340ebb8bf498033e71e61": {
      "model_module": "@jupyter-widgets/base",
      "model_module_version": "1.2.0",
      "model_name": "LayoutModel",
      "state": {
       "_model_module": "@jupyter-widgets/base",
       "_model_module_version": "1.2.0",
       "_model_name": "LayoutModel",
       "_view_count": null,
       "_view_module": "@jupyter-widgets/base",
       "_view_module_version": "1.2.0",
       "_view_name": "LayoutView",
       "align_content": null,
       "align_items": null,
       "align_self": null,
       "border": null,
       "bottom": null,
       "display": null,
       "flex": null,
       "flex_flow": null,
       "grid_area": null,
       "grid_auto_columns": null,
       "grid_auto_flow": null,
       "grid_auto_rows": null,
       "grid_column": null,
       "grid_gap": null,
       "grid_row": null,
       "grid_template_areas": null,
       "grid_template_columns": null,
       "grid_template_rows": null,
       "height": null,
       "justify_content": null,
       "justify_items": null,
       "left": null,
       "margin": null,
       "max_height": null,
       "max_width": null,
       "min_height": null,
       "min_width": null,
       "object_fit": null,
       "object_position": null,
       "order": null,
       "overflow": null,
       "overflow_x": null,
       "overflow_y": null,
       "padding": null,
       "right": null,
       "top": null,
       "visibility": null,
       "width": null
      }
     },
     "10c0eb5ea0744533a62fc8e4bf7cf6a9": {
      "model_module": "@jupyter-widgets/controls",
      "model_module_version": "1.5.0",
      "model_name": "HBoxModel",
      "state": {
       "_dom_classes": [],
       "_model_module": "@jupyter-widgets/controls",
       "_model_module_version": "1.5.0",
       "_model_name": "HBoxModel",
       "_view_count": null,
       "_view_module": "@jupyter-widgets/controls",
       "_view_module_version": "1.5.0",
       "_view_name": "HBoxView",
       "box_style": "",
       "children": [
        "IPY_MODEL_35b11445c3ec444dbb0968ced84938e6",
        "IPY_MODEL_7cb57710c00b4a3981b3cb0b56dfa649"
       ],
       "layout": "IPY_MODEL_0f8e003332b340ebb8bf498033e71e61"
      }
     },
     "3077fe2540b348e89e3f3f3e69ba0065": {
      "model_module": "@jupyter-widgets/base",
      "model_module_version": "1.2.0",
      "model_name": "LayoutModel",
      "state": {
       "_model_module": "@jupyter-widgets/base",
       "_model_module_version": "1.2.0",
       "_model_name": "LayoutModel",
       "_view_count": null,
       "_view_module": "@jupyter-widgets/base",
       "_view_module_version": "1.2.0",
       "_view_name": "LayoutView",
       "align_content": null,
       "align_items": null,
       "align_self": null,
       "border": null,
       "bottom": null,
       "display": null,
       "flex": null,
       "flex_flow": null,
       "grid_area": null,
       "grid_auto_columns": null,
       "grid_auto_flow": null,
       "grid_auto_rows": null,
       "grid_column": null,
       "grid_gap": null,
       "grid_row": null,
       "grid_template_areas": null,
       "grid_template_columns": null,
       "grid_template_rows": null,
       "height": null,
       "justify_content": null,
       "justify_items": null,
       "left": null,
       "margin": null,
       "max_height": null,
       "max_width": null,
       "min_height": null,
       "min_width": null,
       "object_fit": null,
       "object_position": null,
       "order": null,
       "overflow": null,
       "overflow_x": null,
       "overflow_y": null,
       "padding": null,
       "right": null,
       "top": null,
       "visibility": null,
       "width": null
      }
     },
     "35b11445c3ec444dbb0968ced84938e6": {
      "model_module": "@jupyter-widgets/controls",
      "model_module_version": "1.5.0",
      "model_name": "FloatProgressModel",
      "state": {
       "_dom_classes": [],
       "_model_module": "@jupyter-widgets/controls",
       "_model_module_version": "1.5.0",
       "_model_name": "FloatProgressModel",
       "_view_count": null,
       "_view_module": "@jupyter-widgets/controls",
       "_view_module_version": "1.5.0",
       "_view_name": "ProgressView",
       "bar_style": "success",
       "description": "progress: 100%",
       "description_tooltip": null,
       "layout": "IPY_MODEL_3077fe2540b348e89e3f3f3e69ba0065",
       "max": 423129.0,
       "min": 0.0,
       "orientation": "horizontal",
       "style": "IPY_MODEL_6febda40860c44839c9aa657ac1edd59",
       "value": 423129.0
      }
     },
     "6febda40860c44839c9aa657ac1edd59": {
      "model_module": "@jupyter-widgets/controls",
      "model_module_version": "1.5.0",
      "model_name": "ProgressStyleModel",
      "state": {
       "_model_module": "@jupyter-widgets/controls",
       "_model_module_version": "1.5.0",
       "_model_name": "ProgressStyleModel",
       "_view_count": null,
       "_view_module": "@jupyter-widgets/base",
       "_view_module_version": "1.2.0",
       "_view_name": "StyleView",
       "bar_color": null,
       "description_width": "initial"
      }
     },
     "7cb57710c00b4a3981b3cb0b56dfa649": {
      "model_module": "@jupyter-widgets/controls",
      "model_module_version": "1.5.0",
      "model_name": "HTMLModel",
      "state": {
       "_dom_classes": [],
       "_model_module": "@jupyter-widgets/controls",
       "_model_module_version": "1.5.0",
       "_model_name": "HTMLModel",
       "_view_count": null,
       "_view_module": "@jupyter-widgets/controls",
       "_view_module_version": "1.5.0",
       "_view_name": "HTMLView",
       "description": "",
       "description_tooltip": null,
       "layout": "IPY_MODEL_e0cf3e54df7c4d06aead1bf31f35adc0",
       "placeholder": "​",
       "style": "IPY_MODEL_f0d311cfb3ed4779b98f45596c3a7519",
       "value": " 423129/423129 [13:18&lt;00:00, 529.65it/s]"
      }
     },
     "e0cf3e54df7c4d06aead1bf31f35adc0": {
      "model_module": "@jupyter-widgets/base",
      "model_module_version": "1.2.0",
      "model_name": "LayoutModel",
      "state": {
       "_model_module": "@jupyter-widgets/base",
       "_model_module_version": "1.2.0",
       "_model_name": "LayoutModel",
       "_view_count": null,
       "_view_module": "@jupyter-widgets/base",
       "_view_module_version": "1.2.0",
       "_view_name": "LayoutView",
       "align_content": null,
       "align_items": null,
       "align_self": null,
       "border": null,
       "bottom": null,
       "display": null,
       "flex": null,
       "flex_flow": null,
       "grid_area": null,
       "grid_auto_columns": null,
       "grid_auto_flow": null,
       "grid_auto_rows": null,
       "grid_column": null,
       "grid_gap": null,
       "grid_row": null,
       "grid_template_areas": null,
       "grid_template_columns": null,
       "grid_template_rows": null,
       "height": null,
       "justify_content": null,
       "justify_items": null,
       "left": null,
       "margin": null,
       "max_height": null,
       "max_width": null,
       "min_height": null,
       "min_width": null,
       "object_fit": null,
       "object_position": null,
       "order": null,
       "overflow": null,
       "overflow_x": null,
       "overflow_y": null,
       "padding": null,
       "right": null,
       "top": null,
       "visibility": null,
       "width": null
      }
     },
     "f0d311cfb3ed4779b98f45596c3a7519": {
      "model_module": "@jupyter-widgets/controls",
      "model_module_version": "1.5.0",
      "model_name": "DescriptionStyleModel",
      "state": {
       "_model_module": "@jupyter-widgets/controls",
       "_model_module_version": "1.5.0",
       "_model_name": "DescriptionStyleModel",
       "_view_count": null,
       "_view_module": "@jupyter-widgets/base",
       "_view_module_version": "1.2.0",
       "_view_name": "StyleView",
       "description_width": ""
      }
     }
    },
    "version_major": 2,
    "version_minor": 0
   }
  }
 },
 "nbformat": 4,
 "nbformat_minor": 4
}
